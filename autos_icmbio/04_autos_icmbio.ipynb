{
 "cells": [
  {
   "cell_type": "code",
   "execution_count": null,
   "id": "10b3d716-4a23-41cd-a8a2-15999ef15797",
   "metadata": {},
   "outputs": [],
   "source": [
    "# -*- coding: utf-8\n",
    "# Repórter Brasil (https://ruralometro2022.reporterbrasil.org.br/)\n",
    "# Reinaldo Chaves (@paidatocandeira)\n",
    "# Faz o cruzamento de deputados e doações - para saber deputados que podem estar nos autos de infração do ICMBio ou doadores que estão na lista de autos\n",
    "# Dados obtidos pela reportagem da RB"
   ]
  },
  {
   "cell_type": "code",
   "execution_count": null,
   "id": "e58a3efe-cfdb-4870-ad60-945ae9a5cbe9",
   "metadata": {},
   "outputs": [],
   "source": []
  },
  {
   "cell_type": "code",
   "execution_count": 1,
   "id": "8552dddf-77c9-4c63-943c-2eb267a79eaa",
   "metadata": {},
   "outputs": [
    {
     "name": "stdout",
     "output_type": "stream",
     "text": [
      "PyTables is not installed. No support for HDF output.\n",
      "SQLalchemy is not installed. No support for SQL output.\n"
     ]
    }
   ],
   "source": [
    "import dbf\n",
    "import pandas as pd\n",
    "from dbfread import DBF\n",
    "from simpledbf import Dbf5"
   ]
  },
  {
   "cell_type": "code",
   "execution_count": null,
   "id": "725d5119-83d9-4878-a053-db4116ab290f",
   "metadata": {},
   "outputs": [],
   "source": []
  },
  {
   "cell_type": "code",
   "execution_count": null,
   "id": "ed5131bb-5032-4d1b-bb54-0b62fb14015c",
   "metadata": {},
   "outputs": [],
   "source": []
  },
  {
   "cell_type": "code",
   "execution_count": 3,
   "id": "eca483a0-6661-46e1-b02a-02e346cc5bb2",
   "metadata": {},
   "outputs": [],
   "source": [
    "dbf = Dbf5('originais/Autos_Infracao_Eletronicos_ICMBio_Atualizado_12072021.dbf', codec='ISO8859-1')"
   ]
  },
  {
   "cell_type": "code",
   "execution_count": 4,
   "id": "bcdaa03d-a424-4d0a-a258-d01885e7e839",
   "metadata": {},
   "outputs": [],
   "source": [
    "autos_icmbio = dbf.to_dataframe()"
   ]
  },
  {
   "cell_type": "code",
   "execution_count": 5,
   "id": "182f7976-0bd7-4a58-93a6-43a0b12fa967",
   "metadata": {},
   "outputs": [
    {
     "name": "stdout",
     "output_type": "stream",
     "text": [
      "<class 'pandas.core.frame.DataFrame'>\n",
      "RangeIndex: 2038 entries, 0 to 2037\n",
      "Data columns (total 26 columns):\n",
      " #   Column      Non-Null Count  Dtype  \n",
      "---  ------      --------------  -----  \n",
      " 0   vw_num_aut  2038 non-null   int64  \n",
      " 1   numero_ai   2038 non-null   object \n",
      " 2   status      2038 non-null   object \n",
      " 3   tipo        2038 non-null   object \n",
      " 4   embargo     2038 non-null   object \n",
      " 5   autuado     2038 non-null   object \n",
      " 6   cpf_cnpj    1882 non-null   object \n",
      " 7   valor_mult  2014 non-null   object \n",
      " 8   desc_infra  2011 non-null   object \n",
      " 9   tipo_inf    2038 non-null   object \n",
      " 10  data        2038 non-null   object \n",
      " 11  nome_uc     2038 non-null   object \n",
      " 12  cnuc        2038 non-null   object \n",
      " 13  municipio   2038 non-null   object \n",
      " 14  cod_muni    2038 non-null   object \n",
      " 15  uf          2038 non-null   object \n",
      " 16  operacao    2021 non-null   object \n",
      " 17  orgao_emis  2038 non-null   object \n",
      " 18  agente      753 non-null    object \n",
      " 19  enquadrame  2038 non-null   object \n",
      " 20  cod_acao    2038 non-null   object \n",
      " 21  termo_emb   523 non-null    object \n",
      " 22  obs         0 non-null      float64\n",
      " 23  erro_auto   6 non-null      object \n",
      " 24  nr_process  1853 non-null   object \n",
      " 25  julgamento  0 non-null      float64\n",
      "dtypes: float64(2), int64(1), object(23)\n",
      "memory usage: 414.1+ KB\n"
     ]
    }
   ],
   "source": [
    "autos_icmbio.info()"
   ]
  },
  {
   "cell_type": "code",
   "execution_count": null,
   "id": "ef7e8507-8ae7-47f1-ad36-035a05069f51",
   "metadata": {},
   "outputs": [],
   "source": []
  },
  {
   "cell_type": "code",
   "execution_count": 6,
   "id": "c0cc6621-de5f-4329-ab61-83b2aaab3370",
   "metadata": {},
   "outputs": [
    {
     "data": {
      "text/html": [
       "<div>\n",
       "<style scoped>\n",
       "    .dataframe tbody tr th:only-of-type {\n",
       "        vertical-align: middle;\n",
       "    }\n",
       "\n",
       "    .dataframe tbody tr th {\n",
       "        vertical-align: top;\n",
       "    }\n",
       "\n",
       "    .dataframe thead th {\n",
       "        text-align: right;\n",
       "    }\n",
       "</style>\n",
       "<table border=\"1\" class=\"dataframe\">\n",
       "  <thead>\n",
       "    <tr style=\"text-align: right;\">\n",
       "      <th></th>\n",
       "      <th>cpf_cnpj</th>\n",
       "      <th>autuado</th>\n",
       "    </tr>\n",
       "  </thead>\n",
       "  <tbody>\n",
       "    <tr>\n",
       "      <th>998</th>\n",
       "      <td>00398966923</td>\n",
       "      <td>WILLIAM MARTINS DOS SANTOS</td>\n",
       "    </tr>\n",
       "    <tr>\n",
       "      <th>982</th>\n",
       "      <td>62574299000</td>\n",
       "      <td>GILSO UNCINI</td>\n",
       "    </tr>\n",
       "    <tr>\n",
       "      <th>595</th>\n",
       "      <td>NaN</td>\n",
       "      <td>ClÃ¡udio da Rosa</td>\n",
       "    </tr>\n",
       "    <tr>\n",
       "      <th>1016</th>\n",
       "      <td>84571004249</td>\n",
       "      <td>Jorge Souza Cruz</td>\n",
       "    </tr>\n",
       "    <tr>\n",
       "      <th>1240</th>\n",
       "      <td>02360400304</td>\n",
       "      <td>Jose Valter Vasconcelos</td>\n",
       "    </tr>\n",
       "  </tbody>\n",
       "</table>\n",
       "</div>"
      ],
      "text/plain": [
       "         cpf_cnpj                     autuado\n",
       "998   00398966923  WILLIAM MARTINS DOS SANTOS\n",
       "982   62574299000                GILSO UNCINI\n",
       "595           NaN            ClÃ¡udio da Rosa\n",
       "1016  84571004249            Jorge Souza Cruz\n",
       "1240  02360400304     Jose Valter Vasconcelos"
      ]
     },
     "execution_count": 6,
     "metadata": {},
     "output_type": "execute_result"
    }
   ],
   "source": [
    "autos_icmbio[['cpf_cnpj', 'autuado']].sample(5)"
   ]
  },
  {
   "cell_type": "code",
   "execution_count": null,
   "id": "93a8f33e-deb3-4cb4-bf6c-ba15d9302edb",
   "metadata": {},
   "outputs": [],
   "source": []
  },
  {
   "cell_type": "code",
   "execution_count": 7,
   "id": "f5a12a78-4557-4188-b692-7cfa5801b830",
   "metadata": {},
   "outputs": [],
   "source": [
    "autos_icmbio = autos_icmbio[pd.notnull(autos_icmbio['cpf_cnpj'])].copy()"
   ]
  },
  {
   "cell_type": "code",
   "execution_count": null,
   "id": "b56f7835-1225-4f79-b90b-e162833d647f",
   "metadata": {},
   "outputs": [],
   "source": []
  },
  {
   "cell_type": "code",
   "execution_count": 8,
   "id": "0f6c77c6-a0a1-4a88-90f5-812a5adedba6",
   "metadata": {},
   "outputs": [],
   "source": [
    "def limpeza1(linha):\n",
    "    documento = str(linha[\"cpf_cnpj\"])\n",
    "    documento = documento.strip()\n",
    "    documento = documento.replace('.', '')\n",
    "    documento = documento.replace('-', '')\n",
    "    documento = documento.replace('/', '')\n",
    "    return str(documento)"
   ]
  },
  {
   "cell_type": "code",
   "execution_count": 9,
   "id": "5d1b9fee-6c26-4e63-bfe5-618448a184aa",
   "metadata": {},
   "outputs": [],
   "source": [
    "autos_icmbio[\"cpf_cnpj\"] = autos_icmbio.apply(limpeza1, axis=1)"
   ]
  },
  {
   "cell_type": "code",
   "execution_count": 10,
   "id": "177e9052-4e86-4b72-9b27-89e2f0c98893",
   "metadata": {},
   "outputs": [
    {
     "data": {
      "text/html": [
       "<div>\n",
       "<style scoped>\n",
       "    .dataframe tbody tr th:only-of-type {\n",
       "        vertical-align: middle;\n",
       "    }\n",
       "\n",
       "    .dataframe tbody tr th {\n",
       "        vertical-align: top;\n",
       "    }\n",
       "\n",
       "    .dataframe thead th {\n",
       "        text-align: right;\n",
       "    }\n",
       "</style>\n",
       "<table border=\"1\" class=\"dataframe\">\n",
       "  <thead>\n",
       "    <tr style=\"text-align: right;\">\n",
       "      <th></th>\n",
       "      <th>cpf_cnpj</th>\n",
       "      <th>autuado</th>\n",
       "    </tr>\n",
       "  </thead>\n",
       "  <tbody>\n",
       "    <tr>\n",
       "      <th>818</th>\n",
       "      <td>60111151287</td>\n",
       "      <td>Tercilia Pereira da Silva</td>\n",
       "    </tr>\n",
       "    <tr>\n",
       "      <th>1322</th>\n",
       "      <td>05715452201</td>\n",
       "      <td>Raimundo Nonato Pereira de Sousa JÃºnior</td>\n",
       "    </tr>\n",
       "    <tr>\n",
       "      <th>1099</th>\n",
       "      <td>01572381302</td>\n",
       "      <td>Alessandro Ferreira dos Santos</td>\n",
       "    </tr>\n",
       "    <tr>\n",
       "      <th>1072</th>\n",
       "      <td>93607687587</td>\n",
       "      <td>Doraci Antonio Fernandes</td>\n",
       "    </tr>\n",
       "    <tr>\n",
       "      <th>1378</th>\n",
       "      <td>99529050097</td>\n",
       "      <td>Mauricio Lhulier de Souza</td>\n",
       "    </tr>\n",
       "  </tbody>\n",
       "</table>\n",
       "</div>"
      ],
      "text/plain": [
       "         cpf_cnpj                                   autuado\n",
       "818   60111151287                 Tercilia Pereira da Silva\n",
       "1322  05715452201  Raimundo Nonato Pereira de Sousa JÃºnior\n",
       "1099  01572381302            Alessandro Ferreira dos Santos\n",
       "1072  93607687587                  Doraci Antonio Fernandes\n",
       "1378  99529050097                 Mauricio Lhulier de Souza"
      ]
     },
     "execution_count": 10,
     "metadata": {},
     "output_type": "execute_result"
    }
   ],
   "source": [
    "autos_icmbio[['cpf_cnpj', 'autuado']].sample(5)"
   ]
  },
  {
   "cell_type": "code",
   "execution_count": null,
   "id": "4539ee1e-7fe5-4417-be14-b641006111ea",
   "metadata": {},
   "outputs": [],
   "source": []
  },
  {
   "cell_type": "code",
   "execution_count": 11,
   "id": "f35d669c-ec09-4bd8-8c6b-939ed822dfca",
   "metadata": {},
   "outputs": [],
   "source": [
    "# Preenche zeros a esquerda nos documentos\n",
    "def compara1(linha):\n",
    "    documento = str(linha[\"cpf_cnpj\"])\n",
    "    \n",
    "    if len(documento) < 14 and len(documento) >= 12:\n",
    "        conta = 14 - (len(documento))\n",
    "        zero = '0'\n",
    "        zeros = zero * conta\n",
    "        alterado = zeros + documento\n",
    "    elif len(documento) == 14:\n",
    "        alterado = documento\n",
    "    elif len(documento) < 11:\n",
    "        conta = 11 - (len(documento))\n",
    "        zero = '0'\n",
    "        zeros = zero * conta\n",
    "        alterado = zeros + documento\n",
    "    elif len(documento) == 11:\n",
    "        alterado = documento\n",
    "    \n",
    "    return alterado"
   ]
  },
  {
   "cell_type": "code",
   "execution_count": 12,
   "id": "ba4522e8-0402-4a19-b794-4958e8028877",
   "metadata": {},
   "outputs": [],
   "source": [
    "autos_icmbio[\"cpf_cnpj\"] = autos_icmbio.apply(compara1, axis=1)"
   ]
  },
  {
   "cell_type": "code",
   "execution_count": null,
   "id": "094996a3-07f6-4f27-8d00-c2f430c95f13",
   "metadata": {},
   "outputs": [],
   "source": []
  },
  {
   "cell_type": "code",
   "execution_count": 13,
   "id": "73950e6a-9fc5-497c-a30e-6a1d46e9ff1f",
   "metadata": {},
   "outputs": [],
   "source": [
    "def limpeza2(linha):\n",
    "    documento = str(linha[\"cpf_cnpj\"])\n",
    "    if len(documento) > 11:\n",
    "        return documento[:8]\n",
    "    else:\n",
    "        return \"documento_cpf\"\n",
    "    \n",
    "autos_icmbio['cnpj_raiz'] = autos_icmbio.apply(limpeza2, axis=1)"
   ]
  },
  {
   "cell_type": "code",
   "execution_count": null,
   "id": "37d83341-3caa-4933-b5cc-731b930cf815",
   "metadata": {},
   "outputs": [],
   "source": []
  },
  {
   "cell_type": "code",
   "execution_count": 14,
   "id": "de976dd2-8f1f-4a7f-8270-0c62c4d49d17",
   "metadata": {},
   "outputs": [
    {
     "name": "stdout",
     "output_type": "stream",
     "text": [
      "<class 'pandas.core.frame.DataFrame'>\n",
      "Int64Index: 1882 entries, 0 to 2037\n",
      "Data columns (total 27 columns):\n",
      " #   Column      Non-Null Count  Dtype  \n",
      "---  ------      --------------  -----  \n",
      " 0   vw_num_aut  1882 non-null   int64  \n",
      " 1   numero_ai   1882 non-null   object \n",
      " 2   status      1882 non-null   object \n",
      " 3   tipo        1882 non-null   object \n",
      " 4   embargo     1882 non-null   object \n",
      " 5   autuado     1882 non-null   object \n",
      " 6   cpf_cnpj    1882 non-null   object \n",
      " 7   valor_mult  1862 non-null   object \n",
      " 8   desc_infra  1855 non-null   object \n",
      " 9   tipo_inf    1882 non-null   object \n",
      " 10  data        1882 non-null   object \n",
      " 11  nome_uc     1882 non-null   object \n",
      " 12  cnuc        1882 non-null   object \n",
      " 13  municipio   1882 non-null   object \n",
      " 14  cod_muni    1882 non-null   object \n",
      " 15  uf          1882 non-null   object \n",
      " 16  operacao    1865 non-null   object \n",
      " 17  orgao_emis  1882 non-null   object \n",
      " 18  agente      718 non-null    object \n",
      " 19  enquadrame  1882 non-null   object \n",
      " 20  cod_acao    1882 non-null   object \n",
      " 21  termo_emb   496 non-null    object \n",
      " 22  obs         0 non-null      float64\n",
      " 23  erro_auto   5 non-null      object \n",
      " 24  nr_process  1712 non-null   object \n",
      " 25  julgamento  0 non-null      float64\n",
      " 26  cnpj_raiz   1882 non-null   object \n",
      "dtypes: float64(2), int64(1), object(24)\n",
      "memory usage: 411.7+ KB\n"
     ]
    }
   ],
   "source": [
    "autos_icmbio.info()"
   ]
  },
  {
   "cell_type": "code",
   "execution_count": null,
   "id": "b502aa0d-01e4-4cbf-a525-cb574f6e9f72",
   "metadata": {},
   "outputs": [],
   "source": []
  },
  {
   "cell_type": "code",
   "execution_count": 15,
   "id": "a092be8a-1807-4c56-aa20-8c2141c65a43",
   "metadata": {},
   "outputs": [
    {
     "data": {
      "text/plain": [
       "Index(['vw_num_aut', 'numero_ai', 'status', 'tipo', 'embargo', 'autuado',\n",
       "       'cpf_cnpj', 'valor_mult', 'desc_infra', 'tipo_inf', 'data', 'nome_uc',\n",
       "       'cnuc', 'municipio', 'cod_muni', 'uf', 'operacao', 'orgao_emis',\n",
       "       'agente', 'enquadrame', 'cod_acao', 'termo_emb', 'obs', 'erro_auto',\n",
       "       'nr_process', 'julgamento', 'cnpj_raiz'],\n",
       "      dtype='object')"
      ]
     },
     "execution_count": 15,
     "metadata": {},
     "output_type": "execute_result"
    }
   ],
   "source": [
    "icmbio_copia = autos_icmbio.copy()\n",
    "icmbio_copia.columns"
   ]
  },
  {
   "cell_type": "code",
   "execution_count": 16,
   "id": "21833de8-3bb1-45e7-a4e7-0ccfdb14e081",
   "metadata": {},
   "outputs": [
    {
     "data": {
      "text/html": [
       "<div>\n",
       "<style scoped>\n",
       "    .dataframe tbody tr th:only-of-type {\n",
       "        vertical-align: middle;\n",
       "    }\n",
       "\n",
       "    .dataframe tbody tr th {\n",
       "        vertical-align: top;\n",
       "    }\n",
       "\n",
       "    .dataframe thead th {\n",
       "        text-align: right;\n",
       "    }\n",
       "</style>\n",
       "<table border=\"1\" class=\"dataframe\">\n",
       "  <thead>\n",
       "    <tr style=\"text-align: right;\">\n",
       "      <th></th>\n",
       "      <th>vw_num_aut</th>\n",
       "      <th>numero_ai</th>\n",
       "      <th>status</th>\n",
       "      <th>tipo</th>\n",
       "      <th>embargo</th>\n",
       "      <th>autuado</th>\n",
       "      <th>cpf_cnpj</th>\n",
       "      <th>valor_mult</th>\n",
       "      <th>desc_infra</th>\n",
       "      <th>tipo_inf</th>\n",
       "      <th>...</th>\n",
       "      <th>orgao_emis</th>\n",
       "      <th>agente</th>\n",
       "      <th>enquadrame</th>\n",
       "      <th>cod_acao</th>\n",
       "      <th>termo_emb</th>\n",
       "      <th>obs</th>\n",
       "      <th>erro_auto</th>\n",
       "      <th>nr_process</th>\n",
       "      <th>julgamento</th>\n",
       "      <th>cnpj_raiz</th>\n",
       "    </tr>\n",
       "  </thead>\n",
       "  <tbody>\n",
       "    <tr>\n",
       "      <th>0</th>\n",
       "      <td>1</td>\n",
       "      <td>009Z5YHU</td>\n",
       "      <td>Impresso</td>\n",
       "      <td>Multa Simples</td>\n",
       "      <td>F</td>\n",
       "      <td>Luiz Oscar Marques Ferreira</td>\n",
       "      <td>30989388115</td>\n",
       "      <td>500</td>\n",
       "      <td>NaN</td>\n",
       "      <td>Unidade de ConservaÃ§Ã£o</td>\n",
       "      <td>...</td>\n",
       "      <td>ICMBio</td>\n",
       "      <td>Marcela de Marins</td>\n",
       "      <td>90 Decreto 6514; 70 1ÃÂº Lei 9605; 72 Lei 960...</td>\n",
       "      <td>G5VODTH</td>\n",
       "      <td>NaN</td>\n",
       "      <td>NaN</td>\n",
       "      <td>NaN</td>\n",
       "      <td>02125000946202047</td>\n",
       "      <td>NaN</td>\n",
       "      <td>documento_cpf</td>\n",
       "    </tr>\n",
       "    <tr>\n",
       "      <th>1</th>\n",
       "      <td>2</td>\n",
       "      <td>02XTX4FP</td>\n",
       "      <td>Impresso</td>\n",
       "      <td>Multa Simples</td>\n",
       "      <td>F</td>\n",
       "      <td>Francisco Alcenir  Rodrigues de Souza</td>\n",
       "      <td>31753302000164</td>\n",
       "      <td>1000</td>\n",
       "      <td>realizar serviÃ§o comercial \" passeio de quadr...</td>\n",
       "      <td>Unidade de ConservaÃ§Ã£o</td>\n",
       "      <td>...</td>\n",
       "      <td>ICMBio</td>\n",
       "      <td>NaN</td>\n",
       "      <td>90 Decreto 6514; 70 1ÃÂº Lei 9605; 72 Lei 960...</td>\n",
       "      <td>887OF6C</td>\n",
       "      <td>NaN</td>\n",
       "      <td>NaN</td>\n",
       "      <td>NaN</td>\n",
       "      <td>02123000251202166</td>\n",
       "      <td>NaN</td>\n",
       "      <td>31753302</td>\n",
       "    </tr>\n",
       "    <tr>\n",
       "      <th>2</th>\n",
       "      <td>3</td>\n",
       "      <td>036GW0EM</td>\n",
       "      <td>Impresso</td>\n",
       "      <td>Multa Simples</td>\n",
       "      <td>F</td>\n",
       "      <td>CIDADE JARDIM COMERCIO DE MADEIRAS LTDA</td>\n",
       "      <td>22327400000149</td>\n",
       "      <td>500</td>\n",
       "      <td>NaN</td>\n",
       "      <td>Unidade de ConservaÃ§Ã£o</td>\n",
       "      <td>...</td>\n",
       "      <td>ICMBio</td>\n",
       "      <td>NaN</td>\n",
       "      <td>90 Decreto 6514; 70 1ÃÂº Lei 9605; 72 Lei 960...</td>\n",
       "      <td>BH0IA1H</td>\n",
       "      <td>NaN</td>\n",
       "      <td>NaN</td>\n",
       "      <td>NaN</td>\n",
       "      <td>02126004316201906</td>\n",
       "      <td>NaN</td>\n",
       "      <td>22327400</td>\n",
       "    </tr>\n",
       "    <tr>\n",
       "      <th>3</th>\n",
       "      <td>4</td>\n",
       "      <td>03BPDFMZ</td>\n",
       "      <td>Impresso</td>\n",
       "      <td>Multa Simples</td>\n",
       "      <td>T</td>\n",
       "      <td>Luiz Felipe Grava do Val Nascimento</td>\n",
       "      <td>15813798897</td>\n",
       "      <td>590000</td>\n",
       "      <td>Destruir 58,7062 hectares de floresta nativa, ...</td>\n",
       "      <td>Unidade de ConservaÃ§Ã£o</td>\n",
       "      <td>...</td>\n",
       "      <td>ICMBio</td>\n",
       "      <td>NaN</td>\n",
       "      <td>50 Decreto 6514; 70 1ÃÂº Lei 9605; 72 Lei 960...</td>\n",
       "      <td>CG53IYP</td>\n",
       "      <td>TOPRRT4Z</td>\n",
       "      <td>NaN</td>\n",
       "      <td>NaN</td>\n",
       "      <td>02119000580202095</td>\n",
       "      <td>NaN</td>\n",
       "      <td>documento_cpf</td>\n",
       "    </tr>\n",
       "    <tr>\n",
       "      <th>4</th>\n",
       "      <td>5</td>\n",
       "      <td>03LF39RR</td>\n",
       "      <td>Impresso</td>\n",
       "      <td>Multa Simples</td>\n",
       "      <td>T</td>\n",
       "      <td>Vilson Predolim</td>\n",
       "      <td>04701852872</td>\n",
       "      <td>10200</td>\n",
       "      <td>Causar dano a Ãrea de ProteÃ§Ã£o Ambiental de...</td>\n",
       "      <td>Unidade de ConservaÃ§Ã£o</td>\n",
       "      <td>...</td>\n",
       "      <td>ICMBio</td>\n",
       "      <td>NaN</td>\n",
       "      <td>91 Decreto 6514; 70 1ÃÂº Lei 9605; 72 Lei 960...</td>\n",
       "      <td>OH0BZAN</td>\n",
       "      <td>2TUPM4SA</td>\n",
       "      <td>NaN</td>\n",
       "      <td>NaN</td>\n",
       "      <td>02126000717202101</td>\n",
       "      <td>NaN</td>\n",
       "      <td>documento_cpf</td>\n",
       "    </tr>\n",
       "    <tr>\n",
       "      <th>...</th>\n",
       "      <td>...</td>\n",
       "      <td>...</td>\n",
       "      <td>...</td>\n",
       "      <td>...</td>\n",
       "      <td>...</td>\n",
       "      <td>...</td>\n",
       "      <td>...</td>\n",
       "      <td>...</td>\n",
       "      <td>...</td>\n",
       "      <td>...</td>\n",
       "      <td>...</td>\n",
       "      <td>...</td>\n",
       "      <td>...</td>\n",
       "      <td>...</td>\n",
       "      <td>...</td>\n",
       "      <td>...</td>\n",
       "      <td>...</td>\n",
       "      <td>...</td>\n",
       "      <td>...</td>\n",
       "      <td>...</td>\n",
       "      <td>...</td>\n",
       "    </tr>\n",
       "    <tr>\n",
       "      <th>2033</th>\n",
       "      <td>2034</td>\n",
       "      <td>ZYCDFDO5</td>\n",
       "      <td>Impresso</td>\n",
       "      <td>Multa Simples</td>\n",
       "      <td>F</td>\n",
       "      <td>Osmar Leandro da Silva</td>\n",
       "      <td>90390148253</td>\n",
       "      <td>87500</td>\n",
       "      <td>destruir 8,75 hectares de floresta nativa sem ...</td>\n",
       "      <td>Flora</td>\n",
       "      <td>...</td>\n",
       "      <td>ICMBio</td>\n",
       "      <td>NaN</td>\n",
       "      <td>50 Decreto 6514; 70 1ÃÂº Lei 9605; 72 Lei 960...</td>\n",
       "      <td>PNC26VY</td>\n",
       "      <td>NaN</td>\n",
       "      <td>NaN</td>\n",
       "      <td>NaN</td>\n",
       "      <td>02119001499202022</td>\n",
       "      <td>NaN</td>\n",
       "      <td>documento_cpf</td>\n",
       "    </tr>\n",
       "    <tr>\n",
       "      <th>2034</th>\n",
       "      <td>2035</td>\n",
       "      <td>ZZ4XL2OM</td>\n",
       "      <td>Impresso</td>\n",
       "      <td>Multa Simples</td>\n",
       "      <td>F</td>\n",
       "      <td>Clodomir Ceolatto</td>\n",
       "      <td>38384698104</td>\n",
       "      <td>1400</td>\n",
       "      <td>Pescar em local proibido, no entorno da EstaÃ§...</td>\n",
       "      <td>Pesca</td>\n",
       "      <td>...</td>\n",
       "      <td>ICMBio</td>\n",
       "      <td>NaN</td>\n",
       "      <td>35 Decreto 6514; 42 Decreto 6514; 93 Decreto 6...</td>\n",
       "      <td>DP6Q4EQ</td>\n",
       "      <td>NaN</td>\n",
       "      <td>NaN</td>\n",
       "      <td>NaN</td>\n",
       "      <td>02129000426202002</td>\n",
       "      <td>NaN</td>\n",
       "      <td>documento_cpf</td>\n",
       "    </tr>\n",
       "    <tr>\n",
       "      <th>2035</th>\n",
       "      <td>2036</td>\n",
       "      <td>ZZJRMCBD</td>\n",
       "      <td>Impresso</td>\n",
       "      <td>Multa Simples</td>\n",
       "      <td>T</td>\n",
       "      <td>Inacio Liber da Cruz</td>\n",
       "      <td>52712826272</td>\n",
       "      <td>4836000</td>\n",
       "      <td>Destruir 402,3 hectares de floresta nativa per...</td>\n",
       "      <td>Flora</td>\n",
       "      <td>...</td>\n",
       "      <td>ICMBio</td>\n",
       "      <td>NaN</td>\n",
       "      <td>49 Decreto 6514; 93 Decreto 6514; 70 1ÃÂº Lei...</td>\n",
       "      <td>I63KD3W</td>\n",
       "      <td>1XC8K8HJ, 1XC8K8HJ</td>\n",
       "      <td>NaN</td>\n",
       "      <td>NaN</td>\n",
       "      <td>02127001591202093</td>\n",
       "      <td>NaN</td>\n",
       "      <td>documento_cpf</td>\n",
       "    </tr>\n",
       "    <tr>\n",
       "      <th>2036</th>\n",
       "      <td>2037</td>\n",
       "      <td>ZZK7POZY</td>\n",
       "      <td>Impresso</td>\n",
       "      <td>Multa Simples</td>\n",
       "      <td>T</td>\n",
       "      <td>Luiz OtÃ¡vio Affonso Christo</td>\n",
       "      <td>00313391742</td>\n",
       "      <td>21200</td>\n",
       "      <td>Causar dano a APA CairuÃ§u por construir deck ...</td>\n",
       "      <td>Unidade de ConservaÃ§Ã£o</td>\n",
       "      <td>...</td>\n",
       "      <td>ICMBio</td>\n",
       "      <td>NaN</td>\n",
       "      <td>91 Decreto 6514; 70 1ÃÂº Lei 9605; 72 Lei 960...</td>\n",
       "      <td>2H1ZFWK</td>\n",
       "      <td>CR84JVV5</td>\n",
       "      <td>NaN</td>\n",
       "      <td>NaN</td>\n",
       "      <td>02126002790202029</td>\n",
       "      <td>NaN</td>\n",
       "      <td>documento_cpf</td>\n",
       "    </tr>\n",
       "    <tr>\n",
       "      <th>2037</th>\n",
       "      <td>2038</td>\n",
       "      <td>ZZORTR3Q</td>\n",
       "      <td>Impresso</td>\n",
       "      <td>Multa Simples</td>\n",
       "      <td>F</td>\n",
       "      <td>Adailton Chagas Pereira</td>\n",
       "      <td>55024505204</td>\n",
       "      <td>4200</td>\n",
       "      <td>NaN</td>\n",
       "      <td>Fauna</td>\n",
       "      <td>...</td>\n",
       "      <td>ICMBio</td>\n",
       "      <td>NaN</td>\n",
       "      <td>35 Decreto 6514; 93 Decreto 6514; 70 1ÃÂº Lei...</td>\n",
       "      <td>OSYJZ27</td>\n",
       "      <td>NaN</td>\n",
       "      <td>NaN</td>\n",
       "      <td>NaN</td>\n",
       "      <td>02122000372202037</td>\n",
       "      <td>NaN</td>\n",
       "      <td>documento_cpf</td>\n",
       "    </tr>\n",
       "  </tbody>\n",
       "</table>\n",
       "<p>1882 rows × 27 columns</p>\n",
       "</div>"
      ],
      "text/plain": [
       "      vw_num_aut numero_ai    status           tipo embargo  \\\n",
       "0              1  009Z5YHU  Impresso  Multa Simples       F   \n",
       "1              2  02XTX4FP  Impresso  Multa Simples       F   \n",
       "2              3  036GW0EM  Impresso  Multa Simples       F   \n",
       "3              4  03BPDFMZ  Impresso  Multa Simples       T   \n",
       "4              5  03LF39RR  Impresso  Multa Simples       T   \n",
       "...          ...       ...       ...            ...     ...   \n",
       "2033        2034  ZYCDFDO5  Impresso  Multa Simples       F   \n",
       "2034        2035  ZZ4XL2OM  Impresso  Multa Simples       F   \n",
       "2035        2036  ZZJRMCBD  Impresso  Multa Simples       T   \n",
       "2036        2037  ZZK7POZY  Impresso  Multa Simples       T   \n",
       "2037        2038  ZZORTR3Q  Impresso  Multa Simples       F   \n",
       "\n",
       "                                      autuado        cpf_cnpj valor_mult  \\\n",
       "0                 Luiz Oscar Marques Ferreira     30989388115        500   \n",
       "1       Francisco Alcenir  Rodrigues de Souza  31753302000164       1000   \n",
       "2     CIDADE JARDIM COMERCIO DE MADEIRAS LTDA  22327400000149        500   \n",
       "3         Luiz Felipe Grava do Val Nascimento     15813798897     590000   \n",
       "4                             Vilson Predolim     04701852872      10200   \n",
       "...                                       ...             ...        ...   \n",
       "2033                   Osmar Leandro da Silva     90390148253      87500   \n",
       "2034                        Clodomir Ceolatto     38384698104       1400   \n",
       "2035                     Inacio Liber da Cruz     52712826272    4836000   \n",
       "2036             Luiz OtÃ¡vio Affonso Christo     00313391742      21200   \n",
       "2037                  Adailton Chagas Pereira     55024505204       4200   \n",
       "\n",
       "                                             desc_infra  \\\n",
       "0                                                   NaN   \n",
       "1     realizar serviÃ§o comercial \" passeio de quadr...   \n",
       "2                                                   NaN   \n",
       "3     Destruir 58,7062 hectares de floresta nativa, ...   \n",
       "4     Causar dano a Ãrea de ProteÃ§Ã£o Ambiental de...   \n",
       "...                                                 ...   \n",
       "2033  destruir 8,75 hectares de floresta nativa sem ...   \n",
       "2034  Pescar em local proibido, no entorno da EstaÃ§...   \n",
       "2035  Destruir 402,3 hectares de floresta nativa per...   \n",
       "2036  Causar dano a APA CairuÃ§u por construir deck ...   \n",
       "2037                                                NaN   \n",
       "\n",
       "                      tipo_inf  ... orgao_emis             agente  \\\n",
       "0     Unidade de ConservaÃ§Ã£o  ...     ICMBio  Marcela de Marins   \n",
       "1     Unidade de ConservaÃ§Ã£o  ...     ICMBio                NaN   \n",
       "2     Unidade de ConservaÃ§Ã£o  ...     ICMBio                NaN   \n",
       "3     Unidade de ConservaÃ§Ã£o  ...     ICMBio                NaN   \n",
       "4     Unidade de ConservaÃ§Ã£o  ...     ICMBio                NaN   \n",
       "...                        ...  ...        ...                ...   \n",
       "2033                     Flora  ...     ICMBio                NaN   \n",
       "2034                     Pesca  ...     ICMBio                NaN   \n",
       "2035                     Flora  ...     ICMBio                NaN   \n",
       "2036  Unidade de ConservaÃ§Ã£o  ...     ICMBio                NaN   \n",
       "2037                     Fauna  ...     ICMBio                NaN   \n",
       "\n",
       "                                             enquadrame cod_acao  \\\n",
       "0     90 Decreto 6514; 70 1ÃÂº Lei 9605; 72 Lei 960...  G5VODTH   \n",
       "1     90 Decreto 6514; 70 1ÃÂº Lei 9605; 72 Lei 960...  887OF6C   \n",
       "2     90 Decreto 6514; 70 1ÃÂº Lei 9605; 72 Lei 960...  BH0IA1H   \n",
       "3     50 Decreto 6514; 70 1ÃÂº Lei 9605; 72 Lei 960...  CG53IYP   \n",
       "4     91 Decreto 6514; 70 1ÃÂº Lei 9605; 72 Lei 960...  OH0BZAN   \n",
       "...                                                 ...      ...   \n",
       "2033  50 Decreto 6514; 70 1ÃÂº Lei 9605; 72 Lei 960...  PNC26VY   \n",
       "2034  35 Decreto 6514; 42 Decreto 6514; 93 Decreto 6...  DP6Q4EQ   \n",
       "2035  49 Decreto 6514; 93 Decreto 6514; 70 1ÃÂº Lei...  I63KD3W   \n",
       "2036  91 Decreto 6514; 70 1ÃÂº Lei 9605; 72 Lei 960...  2H1ZFWK   \n",
       "2037  35 Decreto 6514; 93 Decreto 6514; 70 1ÃÂº Lei...  OSYJZ27   \n",
       "\n",
       "               termo_emb obs erro_auto         nr_process julgamento  \\\n",
       "0                    NaN NaN       NaN  02125000946202047        NaN   \n",
       "1                    NaN NaN       NaN  02123000251202166        NaN   \n",
       "2                    NaN NaN       NaN  02126004316201906        NaN   \n",
       "3               TOPRRT4Z NaN       NaN  02119000580202095        NaN   \n",
       "4               2TUPM4SA NaN       NaN  02126000717202101        NaN   \n",
       "...                  ...  ..       ...                ...        ...   \n",
       "2033                 NaN NaN       NaN  02119001499202022        NaN   \n",
       "2034                 NaN NaN       NaN  02129000426202002        NaN   \n",
       "2035  1XC8K8HJ, 1XC8K8HJ NaN       NaN  02127001591202093        NaN   \n",
       "2036            CR84JVV5 NaN       NaN  02126002790202029        NaN   \n",
       "2037                 NaN NaN       NaN  02122000372202037        NaN   \n",
       "\n",
       "          cnpj_raiz  \n",
       "0     documento_cpf  \n",
       "1          31753302  \n",
       "2          22327400  \n",
       "3     documento_cpf  \n",
       "4     documento_cpf  \n",
       "...             ...  \n",
       "2033  documento_cpf  \n",
       "2034  documento_cpf  \n",
       "2035  documento_cpf  \n",
       "2036  documento_cpf  \n",
       "2037  documento_cpf  \n",
       "\n",
       "[1882 rows x 27 columns]"
      ]
     },
     "execution_count": 16,
     "metadata": {},
     "output_type": "execute_result"
    }
   ],
   "source": [
    "icmbio_copia"
   ]
  },
  {
   "cell_type": "code",
   "execution_count": null,
   "id": "e916fd95-be04-4eae-b858-ad03abfde9b3",
   "metadata": {},
   "outputs": [],
   "source": []
  },
  {
   "cell_type": "code",
   "execution_count": 17,
   "id": "dfe0403f-941a-44ae-aa77-af9c52f70318",
   "metadata": {},
   "outputs": [
    {
     "data": {
      "text/html": [
       "<div>\n",
       "<style scoped>\n",
       "    .dataframe tbody tr th:only-of-type {\n",
       "        vertical-align: middle;\n",
       "    }\n",
       "\n",
       "    .dataframe tbody tr th {\n",
       "        vertical-align: top;\n",
       "    }\n",
       "\n",
       "    .dataframe thead th {\n",
       "        text-align: right;\n",
       "    }\n",
       "</style>\n",
       "<table border=\"1\" class=\"dataframe\">\n",
       "  <thead>\n",
       "    <tr style=\"text-align: right;\">\n",
       "      <th></th>\n",
       "      <th>vw_num_aut</th>\n",
       "      <th>numero_ai</th>\n",
       "      <th>status</th>\n",
       "      <th>tipo</th>\n",
       "      <th>embargo</th>\n",
       "      <th>autuado</th>\n",
       "      <th>cpf_cnpj</th>\n",
       "      <th>valor_mult</th>\n",
       "      <th>desc_infra</th>\n",
       "      <th>tipo_inf</th>\n",
       "      <th>...</th>\n",
       "      <th>orgao_emis</th>\n",
       "      <th>agente</th>\n",
       "      <th>enquadrame</th>\n",
       "      <th>cod_acao</th>\n",
       "      <th>termo_emb</th>\n",
       "      <th>obs</th>\n",
       "      <th>erro_auto</th>\n",
       "      <th>nr_process</th>\n",
       "      <th>julgamento</th>\n",
       "      <th>cnpj_raiz</th>\n",
       "    </tr>\n",
       "  </thead>\n",
       "  <tbody>\n",
       "  </tbody>\n",
       "</table>\n",
       "<p>0 rows × 27 columns</p>\n",
       "</div>"
      ],
      "text/plain": [
       "Empty DataFrame\n",
       "Columns: [vw_num_aut, numero_ai, status, tipo, embargo, autuado, cpf_cnpj, valor_mult, desc_infra, tipo_inf, data, nome_uc, cnuc, municipio, cod_muni, uf, operacao, orgao_emis, agente, enquadrame, cod_acao, termo_emb, obs, erro_auto, nr_process, julgamento, cnpj_raiz]\n",
       "Index: []\n",
       "\n",
       "[0 rows x 27 columns]"
      ]
     },
     "execution_count": 17,
     "metadata": {},
     "output_type": "execute_result"
    }
   ],
   "source": [
    "empresas_encontradas = autos_icmbio[(autos_icmbio['cpf_cnpj'] == '31583660615')]\n",
    "empresas_encontradas"
   ]
  },
  {
   "cell_type": "code",
   "execution_count": null,
   "id": "eccfd706-36ca-4f96-8662-e86b2fb28a09",
   "metadata": {},
   "outputs": [],
   "source": []
  },
  {
   "cell_type": "code",
   "execution_count": 20,
   "id": "dcbc126a-e095-422a-b0c8-39183e15679b",
   "metadata": {},
   "outputs": [
    {
     "data": {
      "text/html": [
       "<div>\n",
       "<style scoped>\n",
       "    .dataframe tbody tr th:only-of-type {\n",
       "        vertical-align: middle;\n",
       "    }\n",
       "\n",
       "    .dataframe tbody tr th {\n",
       "        vertical-align: top;\n",
       "    }\n",
       "\n",
       "    .dataframe thead th {\n",
       "        text-align: right;\n",
       "    }\n",
       "</style>\n",
       "<table border=\"1\" class=\"dataframe\">\n",
       "  <thead>\n",
       "    <tr style=\"text-align: right;\">\n",
       "      <th></th>\n",
       "      <th>vw_num_aut</th>\n",
       "      <th>numero_ai</th>\n",
       "      <th>status</th>\n",
       "      <th>tipo</th>\n",
       "      <th>embargo</th>\n",
       "      <th>autuado</th>\n",
       "      <th>cpf_cnpj</th>\n",
       "      <th>valor_mult</th>\n",
       "      <th>desc_infra</th>\n",
       "      <th>tipo_inf</th>\n",
       "      <th>...</th>\n",
       "      <th>orgao_emis</th>\n",
       "      <th>agente</th>\n",
       "      <th>enquadrame</th>\n",
       "      <th>cod_acao</th>\n",
       "      <th>termo_emb</th>\n",
       "      <th>obs</th>\n",
       "      <th>erro_auto</th>\n",
       "      <th>nr_process</th>\n",
       "      <th>julgamento</th>\n",
       "      <th>cnpj_raiz</th>\n",
       "    </tr>\n",
       "  </thead>\n",
       "  <tbody>\n",
       "  </tbody>\n",
       "</table>\n",
       "<p>0 rows × 27 columns</p>\n",
       "</div>"
      ],
      "text/plain": [
       "Empty DataFrame\n",
       "Columns: [vw_num_aut, numero_ai, status, tipo, embargo, autuado, cpf_cnpj, valor_mult, desc_infra, tipo_inf, data, nome_uc, cnuc, municipio, cod_muni, uf, operacao, orgao_emis, agente, enquadrame, cod_acao, termo_emb, obs, erro_auto, nr_process, julgamento, cnpj_raiz]\n",
       "Index: []\n",
       "\n",
       "[0 rows x 27 columns]"
      ]
     },
     "execution_count": 20,
     "metadata": {},
     "output_type": "execute_result"
    }
   ],
   "source": [
    "empresas_encontradas = autos_icmbio[(autos_icmbio['cpf_cnpj'] == '70335591787')]\n",
    "empresas_encontradas"
   ]
  },
  {
   "cell_type": "code",
   "execution_count": 21,
   "id": "8951829b-0538-4a62-84c4-a8ab2b27ad70",
   "metadata": {},
   "outputs": [
    {
     "data": {
      "text/html": [
       "<div>\n",
       "<style scoped>\n",
       "    .dataframe tbody tr th:only-of-type {\n",
       "        vertical-align: middle;\n",
       "    }\n",
       "\n",
       "    .dataframe tbody tr th {\n",
       "        vertical-align: top;\n",
       "    }\n",
       "\n",
       "    .dataframe thead th {\n",
       "        text-align: right;\n",
       "    }\n",
       "</style>\n",
       "<table border=\"1\" class=\"dataframe\">\n",
       "  <thead>\n",
       "    <tr style=\"text-align: right;\">\n",
       "      <th></th>\n",
       "      <th>vw_num_aut</th>\n",
       "      <th>numero_ai</th>\n",
       "      <th>status</th>\n",
       "      <th>tipo</th>\n",
       "      <th>embargo</th>\n",
       "      <th>autuado</th>\n",
       "      <th>cpf_cnpj</th>\n",
       "      <th>valor_mult</th>\n",
       "      <th>desc_infra</th>\n",
       "      <th>tipo_inf</th>\n",
       "      <th>...</th>\n",
       "      <th>orgao_emis</th>\n",
       "      <th>agente</th>\n",
       "      <th>enquadrame</th>\n",
       "      <th>cod_acao</th>\n",
       "      <th>termo_emb</th>\n",
       "      <th>obs</th>\n",
       "      <th>erro_auto</th>\n",
       "      <th>nr_process</th>\n",
       "      <th>julgamento</th>\n",
       "      <th>cnpj_raiz</th>\n",
       "    </tr>\n",
       "  </thead>\n",
       "  <tbody>\n",
       "  </tbody>\n",
       "</table>\n",
       "<p>0 rows × 27 columns</p>\n",
       "</div>"
      ],
      "text/plain": [
       "Empty DataFrame\n",
       "Columns: [vw_num_aut, numero_ai, status, tipo, embargo, autuado, cpf_cnpj, valor_mult, desc_infra, tipo_inf, data, nome_uc, cnuc, municipio, cod_muni, uf, operacao, orgao_emis, agente, enquadrame, cod_acao, termo_emb, obs, erro_auto, nr_process, julgamento, cnpj_raiz]\n",
       "Index: []\n",
       "\n",
       "[0 rows x 27 columns]"
      ]
     },
     "execution_count": 21,
     "metadata": {},
     "output_type": "execute_result"
    }
   ],
   "source": [
    "empresas_encontradas = autos_icmbio[(autos_icmbio['cpf_cnpj'] == '04856647040')]\n",
    "empresas_encontradas"
   ]
  },
  {
   "cell_type": "code",
   "execution_count": null,
   "id": "d474183c-b9c6-40e5-b559-fa57c7325cc3",
   "metadata": {},
   "outputs": [],
   "source": []
  },
  {
   "cell_type": "code",
   "execution_count": 19,
   "id": "ccf33384-03fd-488d-98ab-a00a21e123e9",
   "metadata": {},
   "outputs": [
    {
     "data": {
      "text/html": [
       "<div>\n",
       "<style scoped>\n",
       "    .dataframe tbody tr th:only-of-type {\n",
       "        vertical-align: middle;\n",
       "    }\n",
       "\n",
       "    .dataframe tbody tr th {\n",
       "        vertical-align: top;\n",
       "    }\n",
       "\n",
       "    .dataframe thead th {\n",
       "        text-align: right;\n",
       "    }\n",
       "</style>\n",
       "<table border=\"1\" class=\"dataframe\">\n",
       "  <thead>\n",
       "    <tr style=\"text-align: right;\">\n",
       "      <th></th>\n",
       "      <th>vw_num_aut</th>\n",
       "      <th>numero_ai</th>\n",
       "      <th>status</th>\n",
       "      <th>tipo</th>\n",
       "      <th>embargo</th>\n",
       "      <th>autuado</th>\n",
       "      <th>cpf_cnpj</th>\n",
       "      <th>valor_mult</th>\n",
       "      <th>desc_infra</th>\n",
       "      <th>tipo_inf</th>\n",
       "      <th>...</th>\n",
       "      <th>orgao_emis</th>\n",
       "      <th>agente</th>\n",
       "      <th>enquadrame</th>\n",
       "      <th>cod_acao</th>\n",
       "      <th>termo_emb</th>\n",
       "      <th>obs</th>\n",
       "      <th>erro_auto</th>\n",
       "      <th>nr_process</th>\n",
       "      <th>julgamento</th>\n",
       "      <th>cnpj_raiz</th>\n",
       "    </tr>\n",
       "  </thead>\n",
       "  <tbody>\n",
       "  </tbody>\n",
       "</table>\n",
       "<p>0 rows × 27 columns</p>\n",
       "</div>"
      ],
      "text/plain": [
       "Empty DataFrame\n",
       "Columns: [vw_num_aut, numero_ai, status, tipo, embargo, autuado, cpf_cnpj, valor_mult, desc_infra, tipo_inf, data, nome_uc, cnuc, municipio, cod_muni, uf, operacao, orgao_emis, agente, enquadrame, cod_acao, termo_emb, obs, erro_auto, nr_process, julgamento, cnpj_raiz]\n",
       "Index: []\n",
       "\n",
       "[0 rows x 27 columns]"
      ]
     },
     "execution_count": 19,
     "metadata": {},
     "output_type": "execute_result"
    }
   ],
   "source": [
    "new = autos_icmbio[\"cnpj_raiz\"].isin([\"01463126\", \"02657326\", \"03167408\", \"04057706\", \"05904108\", \"07353227\", \"10242314\", \"12631778\", \"13134686\", \"14019929\", \"17331307\", \"21049762\", \"21129267\", \"22158240\", \"25555723\", \"26172122\", \"30202385\", \"32161939\"])\n",
    "autos_icmbio[new]  "
   ]
  },
  {
   "cell_type": "code",
   "execution_count": null,
   "id": "f0c622da-4a74-4757-b52c-cbbc1b3e7929",
   "metadata": {},
   "outputs": [],
   "source": []
  },
  {
   "cell_type": "code",
   "execution_count": null,
   "id": "d3928e6a-2e32-4c27-a42c-3afbec999748",
   "metadata": {},
   "outputs": [],
   "source": []
  },
  {
   "cell_type": "code",
   "execution_count": null,
   "id": "fbe9b389-78a0-416b-b466-051a24ac804d",
   "metadata": {},
   "outputs": [],
   "source": []
  },
  {
   "cell_type": "code",
   "execution_count": 17,
   "id": "c1ebc051-0d37-48b2-af15-8c1b8a8b7d88",
   "metadata": {},
   "outputs": [],
   "source": [
    "icmbio_copia.rename(columns = {'desc_infra':'tipo_infracao'},inplace = True)\n",
    "icmbio_copia.rename(columns = {'data':'data_fiscalizacao'},inplace = True)\n",
    "icmbio_copia.rename(columns = {'cpf_cnpj':'entidade_id'},inplace = True)\n",
    "icmbio_copia.rename(columns = {'autuado':'entidade_nome'},inplace = True)\n",
    "icmbio_copia.rename(columns = {'uf':'estado_id'},inplace = True)\n",
    "icmbio_copia.rename(columns = {'valor_mult':'valor_multa'},inplace = True)"
   ]
  },
  {
   "cell_type": "code",
   "execution_count": 18,
   "id": "6e895418-bb0f-486d-bf39-7a738a020db3",
   "metadata": {},
   "outputs": [],
   "source": [
    "icmbio_copia = icmbio_copia[['municipio', 'tipo_infracao', 'data_fiscalizacao', 'entidade_id', 'entidade_nome', 'estado_id', 'valor_multa']]"
   ]
  },
  {
   "cell_type": "code",
   "execution_count": 19,
   "id": "5223aa3d-72ec-430c-835b-d4c6c5981ded",
   "metadata": {},
   "outputs": [],
   "source": [
    "icmbio_copia.to_csv('resultados/autos_icmbio/lista_entidades_autos_icmbio.csv',index=False)"
   ]
  },
  {
   "cell_type": "code",
   "execution_count": 20,
   "id": "b605f3bd-c422-4efb-97f7-42775b6a87c1",
   "metadata": {},
   "outputs": [],
   "source": [
    "icmbio_copia.to_excel('resultados/autos_icmbio/lista_entidades_autos_icmbio_todas_colunas.xlsx',sheet_name='Sheet1',index=False)"
   ]
  },
  {
   "cell_type": "code",
   "execution_count": null,
   "id": "51de6efb-f635-4827-8393-feec849b1cfb",
   "metadata": {},
   "outputs": [],
   "source": []
  },
  {
   "cell_type": "code",
   "execution_count": null,
   "id": "d703e169-e5b2-4071-812a-8dd7a7e4f03a",
   "metadata": {},
   "outputs": [],
   "source": []
  },
  {
   "cell_type": "code",
   "execution_count": null,
   "id": "56ccf0af-7709-4e7f-a471-12b64d857e36",
   "metadata": {},
   "outputs": [],
   "source": []
  },
  {
   "cell_type": "code",
   "execution_count": 29,
   "id": "6eb4a711-b759-408c-9755-8c2de57d9cd5",
   "metadata": {},
   "outputs": [],
   "source": [
    "#ibama_menor = ibama[['cpf_cnpj', 'Nome ou Razão Social', 'cnpj_raiz']]"
   ]
  },
  {
   "cell_type": "code",
   "execution_count": 19,
   "id": "7cc55a8e-9c9f-427b-b725-916617df97ae",
   "metadata": {},
   "outputs": [],
   "source": [
    "icmbio_pf = autos_icmbio[(autos_icmbio['cnpj_raiz'] == 'documento_cpf')]\n",
    "icmbio_pj = autos_icmbio[(autos_icmbio['cnpj_raiz'] != 'documento_cpf')]"
   ]
  },
  {
   "cell_type": "code",
   "execution_count": 20,
   "id": "15a4d5bd-2b81-4878-9cfb-d96cd15b5945",
   "metadata": {},
   "outputs": [
    {
     "data": {
      "text/plain": [
       "(1799, 27)"
      ]
     },
     "execution_count": 20,
     "metadata": {},
     "output_type": "execute_result"
    }
   ],
   "source": [
    "icmbio_pf.shape"
   ]
  },
  {
   "cell_type": "code",
   "execution_count": 21,
   "id": "7b95b17b-8ac8-4802-8972-168f3916d01f",
   "metadata": {},
   "outputs": [
    {
     "data": {
      "text/plain": [
       "(83, 27)"
      ]
     },
     "execution_count": 21,
     "metadata": {},
     "output_type": "execute_result"
    }
   ],
   "source": [
    "icmbio_pj.shape"
   ]
  },
  {
   "cell_type": "code",
   "execution_count": null,
   "id": "8059dcaa-c556-4a67-98da-f9e214514058",
   "metadata": {},
   "outputs": [],
   "source": []
  },
  {
   "cell_type": "code",
   "execution_count": 22,
   "id": "a79b4eea-28a1-45e6-b6ce-58c17e9b2c79",
   "metadata": {},
   "outputs": [
    {
     "data": {
      "text/html": [
       "<div>\n",
       "<style scoped>\n",
       "    .dataframe tbody tr th:only-of-type {\n",
       "        vertical-align: middle;\n",
       "    }\n",
       "\n",
       "    .dataframe tbody tr th {\n",
       "        vertical-align: top;\n",
       "    }\n",
       "\n",
       "    .dataframe thead th {\n",
       "        text-align: right;\n",
       "    }\n",
       "</style>\n",
       "<table border=\"1\" class=\"dataframe\">\n",
       "  <thead>\n",
       "    <tr style=\"text-align: right;\">\n",
       "      <th></th>\n",
       "      <th>vw_num_aut</th>\n",
       "      <th>numero_ai</th>\n",
       "      <th>status</th>\n",
       "      <th>tipo</th>\n",
       "      <th>embargo</th>\n",
       "      <th>autuado</th>\n",
       "      <th>cpf_cnpj</th>\n",
       "      <th>valor_mult</th>\n",
       "      <th>desc_infra</th>\n",
       "      <th>tipo_inf</th>\n",
       "      <th>...</th>\n",
       "      <th>orgao_emis</th>\n",
       "      <th>agente</th>\n",
       "      <th>enquadrame</th>\n",
       "      <th>cod_acao</th>\n",
       "      <th>termo_emb</th>\n",
       "      <th>obs</th>\n",
       "      <th>erro_auto</th>\n",
       "      <th>nr_process</th>\n",
       "      <th>julgamento</th>\n",
       "      <th>cnpj_raiz</th>\n",
       "    </tr>\n",
       "  </thead>\n",
       "  <tbody>\n",
       "  </tbody>\n",
       "</table>\n",
       "<p>0 rows × 27 columns</p>\n",
       "</div>"
      ],
      "text/plain": [
       "Empty DataFrame\n",
       "Columns: [vw_num_aut, numero_ai, status, tipo, embargo, autuado, cpf_cnpj, valor_mult, desc_infra, tipo_inf, data, nome_uc, cnuc, municipio, cod_muni, uf, operacao, orgao_emis, agente, enquadrame, cod_acao, termo_emb, obs, erro_auto, nr_process, julgamento, cnpj_raiz]\n",
       "Index: []\n",
       "\n",
       "[0 rows x 27 columns]"
      ]
     },
     "execution_count": 22,
     "metadata": {},
     "output_type": "execute_result"
    }
   ],
   "source": [
    "busca = autos_icmbio[(autos_icmbio['cpf_cnpj'] == '44444444444')]\n",
    "busca"
   ]
  },
  {
   "cell_type": "code",
   "execution_count": null,
   "id": "09877841-a0e6-4c4f-b8ea-81fea17c259a",
   "metadata": {},
   "outputs": [],
   "source": []
  },
  {
   "cell_type": "code",
   "execution_count": null,
   "id": "7d976c00-c84b-48e3-9f2d-07988e74494e",
   "metadata": {},
   "outputs": [],
   "source": []
  },
  {
   "cell_type": "code",
   "execution_count": null,
   "id": "4e071e22-1a66-4f70-af80-17ba2ab7934c",
   "metadata": {},
   "outputs": [],
   "source": []
  },
  {
   "cell_type": "markdown",
   "id": "865b30ab-3f94-426a-8d7c-dab50db57e91",
   "metadata": {},
   "source": [
    "### Doações"
   ]
  },
  {
   "cell_type": "code",
   "execution_count": 22,
   "id": "cf97a04d-6355-4efd-91b8-848868a3fe40",
   "metadata": {},
   "outputs": [],
   "source": [
    "kwargs = {'sep': ',', 'dtype': str, 'encoding': 'utf-8'}\n",
    "doacoes_2018 = pd.read_csv(\"resultados/doacoes/doacoes_geral_politicos_2018.csv\", **kwargs)"
   ]
  },
  {
   "cell_type": "code",
   "execution_count": 23,
   "id": "099672f4-3fd4-4ab0-ba64-77be0820b233",
   "metadata": {},
   "outputs": [],
   "source": [
    "def limpeza3(linha):\n",
    "    documento = str(linha[\"NR_CPF_CNPJ_DOADOR\"])\n",
    "    if len(documento) > 11:\n",
    "        return documento[:8]\n",
    "    else:\n",
    "        return \"documento_cpf\"\n",
    "\n",
    "doacoes_2018['NR_CPF_CNPJ_DOADOR_raiz'] = doacoes_2018.apply(limpeza3, axis=1)"
   ]
  },
  {
   "cell_type": "code",
   "execution_count": 24,
   "id": "f02d7333-0c9e-4d80-8552-b8f8c1998403",
   "metadata": {},
   "outputs": [],
   "source": [
    "doacoes_2018_pf = doacoes_2018[(doacoes_2018['NR_CPF_CNPJ_DOADOR_raiz'] == 'documento_cpf')]\n",
    "doacoes_2018_pj = doacoes_2018[(doacoes_2018['NR_CPF_CNPJ_DOADOR_raiz'] != 'documento_cpf')]"
   ]
  },
  {
   "cell_type": "code",
   "execution_count": null,
   "id": "55391216-bc2c-4e3d-aacb-388f0029da77",
   "metadata": {},
   "outputs": [],
   "source": []
  },
  {
   "cell_type": "code",
   "execution_count": 25,
   "id": "87e46044-9ee9-4e45-b16c-80b045856023",
   "metadata": {},
   "outputs": [],
   "source": [
    "doacoes_pj_icmbio = pd.merge(doacoes_2018, icmbio_pj.drop_duplicates('cnpj_raiz'), left_on='NR_CPF_CNPJ_DOADOR_raiz', right_on='cnpj_raiz', how = 'left')"
   ]
  },
  {
   "cell_type": "code",
   "execution_count": 26,
   "id": "a0cfe51d-89bb-4186-a46e-8ec572791aac",
   "metadata": {},
   "outputs": [
    {
     "data": {
      "text/plain": [
       "(0, 43)"
      ]
     },
     "execution_count": 26,
     "metadata": {},
     "output_type": "execute_result"
    }
   ],
   "source": [
    "conta = doacoes_pj_icmbio[pd.notnull(doacoes_pj_icmbio['cpf_cnpj'])]\n",
    "conta.shape"
   ]
  },
  {
   "cell_type": "code",
   "execution_count": null,
   "id": "5d35a3ce-6bc2-416b-8c8a-ac074fbb3364",
   "metadata": {},
   "outputs": [],
   "source": []
  },
  {
   "cell_type": "code",
   "execution_count": 28,
   "id": "2a73334d-b236-49f1-b5cb-77c50abc0a1a",
   "metadata": {},
   "outputs": [],
   "source": [
    "# Pessoa física"
   ]
  },
  {
   "cell_type": "code",
   "execution_count": 27,
   "id": "2071c6aa-4e72-4c66-a298-d943d3b07ba5",
   "metadata": {},
   "outputs": [],
   "source": [
    "doacoes_pf_icmbio = pd.merge(doacoes_2018, icmbio_pf.drop_duplicates('cpf_cnpj'), left_on='NR_CPF_CNPJ_DOADOR', right_on='cpf_cnpj', how = 'left')"
   ]
  },
  {
   "cell_type": "code",
   "execution_count": 28,
   "id": "e1150f67-b6ed-48b2-964f-3e5b995f8878",
   "metadata": {},
   "outputs": [
    {
     "data": {
      "text/plain": [
       "(3, 43)"
      ]
     },
     "execution_count": 28,
     "metadata": {},
     "output_type": "execute_result"
    }
   ],
   "source": [
    "conta = doacoes_pf_icmbio[pd.notnull(doacoes_pf_icmbio['cpf_cnpj'])].copy()\n",
    "conta.shape"
   ]
  },
  {
   "cell_type": "code",
   "execution_count": 52,
   "id": "e4b0c08b-307f-40e1-8dbb-cc0468e2735e",
   "metadata": {},
   "outputs": [],
   "source": [
    "# Com todas colunas"
   ]
  },
  {
   "cell_type": "code",
   "execution_count": 53,
   "id": "2911425f-ecbb-4617-99e4-457fd1839f24",
   "metadata": {},
   "outputs": [],
   "source": [
    "conta.to_excel('resultados/autos_icmbio/doacoes_vindas_pessoas_com_autos_icmbio_2018.xlsx',sheet_name='Sheet1',index=False)"
   ]
  },
  {
   "cell_type": "code",
   "execution_count": null,
   "id": "66200533-60e5-4390-b0a0-2f072986b87e",
   "metadata": {},
   "outputs": [],
   "source": []
  },
  {
   "cell_type": "code",
   "execution_count": 54,
   "id": "670aa294-9cb3-40c4-9fb0-ab301e353caf",
   "metadata": {},
   "outputs": [],
   "source": [
    "# Versão para BD"
   ]
  },
  {
   "cell_type": "code",
   "execution_count": 29,
   "id": "e3d410dc-b172-4d9b-b0e2-0f117f6b07be",
   "metadata": {},
   "outputs": [],
   "source": [
    "conta['doacoes_tipo'] = 'direta'"
   ]
  },
  {
   "cell_type": "code",
   "execution_count": 30,
   "id": "ba525376-157d-4ea7-b726-330c7d045804",
   "metadata": {},
   "outputs": [
    {
     "data": {
      "text/plain": [
       "Index(['DT_RECEITA', 'NR_CPF_CANDIDATO', 'SQ_CANDIDATO', 'NM_CANDIDATO',\n",
       "       'DS_FONTE_RECEITA', 'DS_NATUREZA_RECEITA', 'NR_CPF_CNPJ_DOADOR',\n",
       "       'NM_DOADOR_RFB', 'DS_ESFERA_PARTIDARIA_DOADOR', 'NM_PARTIDO_DOADOR',\n",
       "       'SQ_CANDIDATO_DOADOR', 'DS_CARGO_CANDIDATO_DOADOR', 'SG_PARTIDO_DOADOR',\n",
       "       'DS_RECEITA', 'VR_RECEITA', 'NR_CPF_CNPJ_DOADOR_raiz', 'vw_num_aut',\n",
       "       'numero_ai', 'status', 'tipo', 'embargo', 'autuado', 'cpf_cnpj',\n",
       "       'valor_mult', 'desc_infra', 'tipo_inf', 'data', 'nome_uc', 'cnuc',\n",
       "       'municipio', 'cod_muni', 'uf', 'operacao', 'orgao_emis', 'agente',\n",
       "       'enquadrame', 'cod_acao', 'termo_emb', 'obs', 'erro_auto', 'nr_process',\n",
       "       'julgamento', 'cnpj_raiz', 'doacoes_tipo'],\n",
       "      dtype='object')"
      ]
     },
     "execution_count": 30,
     "metadata": {},
     "output_type": "execute_result"
    }
   ],
   "source": [
    "conta.columns"
   ]
  },
  {
   "cell_type": "code",
   "execution_count": null,
   "id": "d62babbf-f1d0-4820-aa36-a3cccf3328e5",
   "metadata": {},
   "outputs": [],
   "source": []
  },
  {
   "cell_type": "code",
   "execution_count": 31,
   "id": "c5e58360-3cac-44a1-aa8d-aa91c92b0e77",
   "metadata": {},
   "outputs": [],
   "source": [
    "conta.rename(columns = {'VR_RECEITA':'valor'},inplace = True)\n",
    "conta.rename(columns = {'NR_CPF_CANDIDATO':'politico_id'},inplace = True)\n",
    "conta.rename(columns = {'cpf_cnpj':'entidade_id'},inplace = True)\n",
    "conta.rename(columns = {'DS_FONTE_RECEITA':'origem_do_dinheiro_no_tse'},inplace = True)\n",
    "conta.rename(columns = {'DT_RECEITA':'data_receita'},inplace = True)\n",
    "conta.rename(columns = {'NM_DOADOR_RFB':'entidade_nome'},inplace = True)"
   ]
  },
  {
   "cell_type": "code",
   "execution_count": null,
   "id": "191ab920-6468-4b24-a18f-7f29f31cb8ce",
   "metadata": {},
   "outputs": [],
   "source": []
  },
  {
   "cell_type": "code",
   "execution_count": 32,
   "id": "10a5d533-bebe-467f-84d9-df62766a226b",
   "metadata": {},
   "outputs": [],
   "source": [
    "conta = conta[['valor', 'politico_id', 'entidade_id', 'entidade_nome', 'doacoes_tipo', 'origem_do_dinheiro_no_tse', 'data_receita']]"
   ]
  },
  {
   "cell_type": "code",
   "execution_count": 33,
   "id": "70af6e2f-fcd5-4ee4-b71b-8f3ca64f31bd",
   "metadata": {},
   "outputs": [
    {
     "data": {
      "text/plain": [
       "Index(['valor', 'politico_id', 'entidade_id', 'entidade_nome', 'doacoes_tipo',\n",
       "       'origem_do_dinheiro_no_tse', 'data_receita'],\n",
       "      dtype='object')"
      ]
     },
     "execution_count": 33,
     "metadata": {},
     "output_type": "execute_result"
    }
   ],
   "source": [
    "conta.columns"
   ]
  },
  {
   "cell_type": "code",
   "execution_count": 34,
   "id": "f1d6b9e9-46bc-49ae-8701-952b77aa9c9d",
   "metadata": {},
   "outputs": [],
   "source": [
    "conta.rename(columns = {'data_receita':'data'},inplace = True)"
   ]
  },
  {
   "cell_type": "code",
   "execution_count": 35,
   "id": "4582d863-1b34-40f4-9b52-e6341b70fc90",
   "metadata": {},
   "outputs": [
    {
     "data": {
      "text/plain": [
       "(3, 7)"
      ]
     },
     "execution_count": 35,
     "metadata": {},
     "output_type": "execute_result"
    }
   ],
   "source": [
    "conta.shape"
   ]
  },
  {
   "cell_type": "code",
   "execution_count": 38,
   "id": "9e9aa0d7-ff3e-4054-abbc-51c42fff58c0",
   "metadata": {},
   "outputs": [
    {
     "data": {
      "text/html": [
       "<div>\n",
       "<style scoped>\n",
       "    .dataframe tbody tr th:only-of-type {\n",
       "        vertical-align: middle;\n",
       "    }\n",
       "\n",
       "    .dataframe tbody tr th {\n",
       "        vertical-align: top;\n",
       "    }\n",
       "\n",
       "    .dataframe thead th {\n",
       "        text-align: right;\n",
       "    }\n",
       "</style>\n",
       "<table border=\"1\" class=\"dataframe\">\n",
       "  <thead>\n",
       "    <tr style=\"text-align: right;\">\n",
       "      <th></th>\n",
       "      <th>valor</th>\n",
       "      <th>politico_id</th>\n",
       "      <th>entidade_id</th>\n",
       "      <th>entidade_nome</th>\n",
       "      <th>doacoes_tipo</th>\n",
       "      <th>origem_do_dinheiro_no_tse</th>\n",
       "      <th>data</th>\n",
       "    </tr>\n",
       "  </thead>\n",
       "  <tbody>\n",
       "    <tr>\n",
       "      <th>14306</th>\n",
       "      <td>2000,00</td>\n",
       "      <td>09911967751</td>\n",
       "      <td>76623670700</td>\n",
       "      <td>MARCELO PINTO DUARTE BARBARA</td>\n",
       "      <td>direta</td>\n",
       "      <td>Outros Recursos</td>\n",
       "      <td>03/10/2018</td>\n",
       "    </tr>\n",
       "    <tr>\n",
       "      <th>14502</th>\n",
       "      <td>2000,00</td>\n",
       "      <td>08868429721</td>\n",
       "      <td>76623670700</td>\n",
       "      <td>MARCELO PINTO DUARTE BARBARA</td>\n",
       "      <td>direta</td>\n",
       "      <td>Outros Recursos</td>\n",
       "      <td>03/10/2018</td>\n",
       "    </tr>\n",
       "    <tr>\n",
       "      <th>20701</th>\n",
       "      <td>10000,00</td>\n",
       "      <td>34806872881</td>\n",
       "      <td>76623670700</td>\n",
       "      <td>MARCELO PINTO DUARTE BARBARA</td>\n",
       "      <td>direta</td>\n",
       "      <td>Outros Recursos</td>\n",
       "      <td>27/08/2018</td>\n",
       "    </tr>\n",
       "  </tbody>\n",
       "</table>\n",
       "</div>"
      ],
      "text/plain": [
       "          valor  politico_id  entidade_id                 entidade_nome  \\\n",
       "14306   2000,00  09911967751  76623670700  MARCELO PINTO DUARTE BARBARA   \n",
       "14502   2000,00  08868429721  76623670700  MARCELO PINTO DUARTE BARBARA   \n",
       "20701  10000,00  34806872881  76623670700  MARCELO PINTO DUARTE BARBARA   \n",
       "\n",
       "      doacoes_tipo origem_do_dinheiro_no_tse        data  \n",
       "14306       direta           Outros Recursos  03/10/2018  \n",
       "14502       direta           Outros Recursos  03/10/2018  \n",
       "20701       direta           Outros Recursos  27/08/2018  "
      ]
     },
     "execution_count": 38,
     "metadata": {},
     "output_type": "execute_result"
    }
   ],
   "source": [
    "conta"
   ]
  },
  {
   "cell_type": "code",
   "execution_count": 39,
   "id": "cec05b2b-37e4-47c0-bdfc-a58a54d33084",
   "metadata": {},
   "outputs": [],
   "source": [
    "conta.to_csv('resultados/autos_icmbio/doacoes_vindas_pessoas_com_autos_icmbio_2018.csv',index=False)"
   ]
  },
  {
   "cell_type": "code",
   "execution_count": null,
   "id": "a1888d49-5127-4d1f-a130-39f873b256b4",
   "metadata": {},
   "outputs": [],
   "source": []
  },
  {
   "cell_type": "markdown",
   "id": "a16cdf8c-d960-4dff-b8cc-0b838111e593",
   "metadata": {},
   "source": [
    "### Doações indiretas"
   ]
  },
  {
   "cell_type": "code",
   "execution_count": 36,
   "id": "1d26f60c-3cd7-4aa2-a648-ccd5b1548d55",
   "metadata": {},
   "outputs": [],
   "source": [
    "doacoes_indiretas_2018 = pd.read_excel('resultados/doacoes/doacoes_todas_indiretas_politicos_2018.xlsx', sheet_name = 'Sheet1', dtype = 'str')"
   ]
  },
  {
   "cell_type": "code",
   "execution_count": 37,
   "id": "75942563-3bc3-4885-b711-7a81880a3f99",
   "metadata": {},
   "outputs": [
    {
     "data": {
      "text/plain": [
       "(2372, 68)"
      ]
     },
     "execution_count": 37,
     "metadata": {},
     "output_type": "execute_result"
    }
   ],
   "source": [
    "doacoes_indiretas_2018.shape"
   ]
  },
  {
   "cell_type": "code",
   "execution_count": 38,
   "id": "d52b7215-c7fd-4da9-9557-e87df752b597",
   "metadata": {},
   "outputs": [
    {
     "data": {
      "text/plain": [
       "Index(['DT_GERACAO', 'HH_GERACAO', 'ANO_ELEICAO', 'CD_TIPO_ELEICAO',\n",
       "       'NM_TIPO_ELEICAO', 'CD_ELEICAO', 'DS_ELEICAO', 'DT_ELEICAO', 'ST_TURNO',\n",
       "       'TP_PRESTACAO_CONTAS', 'DT_PRESTACAO_CONTAS', 'SQ_PRESTADOR_CONTAS',\n",
       "       'SG_UF', 'SG_UE', 'NM_UE', 'NR_CNPJ_PRESTADOR_CONTA', 'CD_CARGO',\n",
       "       'DS_CARGO', 'SQ_CANDIDATO', 'NR_CANDIDATO', 'NM_CANDIDATO',\n",
       "       'NR_CPF_CANDIDATO', 'NR_CPF_VICE_CANDIDATO', 'NR_PARTIDO', 'SG_PARTIDO',\n",
       "       'NM_PARTIDO', 'CD_FONTE_RECEITA', 'DS_FONTE_RECEITA',\n",
       "       'CD_ORIGEM_RECEITA', 'DS_ORIGEM_RECEITA', 'CD_NATUREZA_RECEITA',\n",
       "       'DS_NATUREZA_RECEITA', 'CD_ESPECIE_RECEITA', 'DS_ESPECIE_RECEITA',\n",
       "       'CD_CNAE_DOADOR', 'DS_CNAE_DOADOR', 'NR_CPF_CNPJ_DOADOR', 'NM_DOADOR',\n",
       "       'NM_DOADOR_RFB', 'CD_ESFERA_PARTIDARIA_DOADOR',\n",
       "       'DS_ESFERA_PARTIDARIA_DOADOR', 'SG_UF_DOADOR', 'CD_MUNICIPIO_DOADOR',\n",
       "       'NM_MUNICIPIO_DOADOR', 'SQ_CANDIDATO_DOADOR', 'NR_CANDIDATO_DOADOR',\n",
       "       'CD_CARGO_CANDIDATO_DOADOR', 'DS_CARGO_CANDIDATO_DOADOR',\n",
       "       'NR_PARTIDO_DOADOR', 'SG_PARTIDO_DOADOR', 'NM_PARTIDO_DOADOR',\n",
       "       'NR_RECIBO_DOACAO', 'NR_DOCUMENTO_DOACAO', 'SQ_RECEITA', 'DT_RECEITA',\n",
       "       'DS_RECEITA', 'VR_RECEITA', 'cpf_doacoaindireta', 'nome_doacoaindireta',\n",
       "       'sq_doacoaindireta', 'nome', 'foto', 'nome_urna', 'politico_id',\n",
       "       'partido_eleicao', 'partido_atual', 'uri', 'sequencial_candidato'],\n",
       "      dtype='object')"
      ]
     },
     "execution_count": 38,
     "metadata": {},
     "output_type": "execute_result"
    }
   ],
   "source": [
    "doacoes_indiretas_2018.columns"
   ]
  },
  {
   "cell_type": "code",
   "execution_count": 39,
   "id": "a0eda7c6-4a07-4614-bec7-8a4a6d916421",
   "metadata": {},
   "outputs": [],
   "source": [
    "doacoes_indiretas_2018['NR_CPF_CNPJ_DOADOR_raiz'] = doacoes_indiretas_2018.apply(limpeza3, axis=1)"
   ]
  },
  {
   "cell_type": "code",
   "execution_count": 40,
   "id": "9b160020-7619-46c8-a06e-f37ceb256c3b",
   "metadata": {},
   "outputs": [],
   "source": [
    "doacoes_indiretas_2018_pf = doacoes_indiretas_2018[(doacoes_indiretas_2018['NR_CPF_CNPJ_DOADOR_raiz'] == 'documento_cpf')]\n",
    "doacoes_indiretas_2018_pj = doacoes_indiretas_2018[(doacoes_indiretas_2018['NR_CPF_CNPJ_DOADOR_raiz'] != 'documento_cpf')]"
   ]
  },
  {
   "cell_type": "code",
   "execution_count": 41,
   "id": "9be78285-d0a3-4377-8167-991194eeb188",
   "metadata": {},
   "outputs": [
    {
     "data": {
      "text/plain": [
       "(0, 69)"
      ]
     },
     "execution_count": 41,
     "metadata": {},
     "output_type": "execute_result"
    }
   ],
   "source": [
    "doacoes_indiretas_2018_pf.shape"
   ]
  },
  {
   "cell_type": "code",
   "execution_count": 42,
   "id": "6b25fe96-f2fe-4d04-b8d5-b8b1076f63f9",
   "metadata": {},
   "outputs": [
    {
     "data": {
      "text/plain": [
       "(2372, 69)"
      ]
     },
     "execution_count": 42,
     "metadata": {},
     "output_type": "execute_result"
    }
   ],
   "source": [
    "doacoes_indiretas_2018_pj.shape"
   ]
  },
  {
   "cell_type": "code",
   "execution_count": null,
   "id": "93a5f3cf-f85e-4c54-9a60-103f5eeb1b1c",
   "metadata": {},
   "outputs": [],
   "source": []
  },
  {
   "cell_type": "code",
   "execution_count": 43,
   "id": "0b78fecf-9f53-4b54-a642-072159021f55",
   "metadata": {},
   "outputs": [],
   "source": [
    "doacoes_pf_icmbio_indireta = pd.merge(doacoes_indiretas_2018_pj, icmbio_pf.drop_duplicates('cpf_cnpj'), left_on='cpf_doacoaindireta', right_on='cpf_cnpj', how = 'left')"
   ]
  },
  {
   "cell_type": "code",
   "execution_count": 44,
   "id": "b3e8dd9f-5c97-411f-8945-4f19025368cf",
   "metadata": {},
   "outputs": [
    {
     "data": {
      "text/plain": [
       "(0, 96)"
      ]
     },
     "execution_count": 44,
     "metadata": {},
     "output_type": "execute_result"
    }
   ],
   "source": [
    "conta = doacoes_pf_icmbio_indireta[pd.notnull(doacoes_pf_icmbio_indireta['cpf_cnpj'])].copy()\n",
    "conta.shape"
   ]
  },
  {
   "cell_type": "code",
   "execution_count": 58,
   "id": "5f318b91-a5c7-47e3-b5c3-00d79b6412ae",
   "metadata": {},
   "outputs": [],
   "source": [
    "#conta.to_excel('resultados/embargos_ibama/doacoes_indiretas_vindas_pessoas_com_embargos_ibama_2018.xlsx',sheet_name='Sheet1',index=False)"
   ]
  },
  {
   "cell_type": "code",
   "execution_count": null,
   "id": "9126e2fa-b195-4e24-bb04-ee2aa688d11c",
   "metadata": {},
   "outputs": [],
   "source": []
  },
  {
   "cell_type": "code",
   "execution_count": 59,
   "id": "7cbe1f74-006b-4130-90e1-cb68cba6ba6f",
   "metadata": {},
   "outputs": [],
   "source": [
    "#conta['doacoes_tipo'] = 'indireta'"
   ]
  },
  {
   "cell_type": "code",
   "execution_count": 61,
   "id": "b9aeba2e-138b-48ab-a125-ada7296816d7",
   "metadata": {},
   "outputs": [],
   "source": [
    "#conta.columns"
   ]
  },
  {
   "cell_type": "code",
   "execution_count": 61,
   "id": "5bd76377-2bf4-4eb9-addb-3b408c3821ed",
   "metadata": {},
   "outputs": [],
   "source": [
    "#conta.rename(columns = {'VR_RECEITA':'valor'},inplace = True)\n",
    "#conta.rename(columns = {'NR_CPF_CANDIDATO':'politico_id'},inplace = True)\n",
    "#conta.rename(columns = {'cpf_cnpj':'entidade_id'},inplace = True)\n",
    "#conta.rename(columns = {'DS_FONTE_RECEITA':'origem_do_dinheiro_no_tse'},inplace = True)\n",
    "#conta.rename(columns = {'DT_RECEITA':'data'},inplace = True)\n",
    "#conta.rename(columns = {'SQ_CANDIDATO_DOADOR':'sequencialdoador_id'},inplace = True)"
   ]
  },
  {
   "cell_type": "code",
   "execution_count": 62,
   "id": "8f2a2925-93ba-4f4f-a172-7cf9d1b39e09",
   "metadata": {},
   "outputs": [],
   "source": [
    "#conta = conta[['valor', 'politico_id', 'entidade_id', 'sequencialdoador_id', 'doacoes_tipo', 'origem_do_dinheiro_no_tse', 'data']]"
   ]
  },
  {
   "cell_type": "code",
   "execution_count": 63,
   "id": "24e2dec8-26f0-4337-9032-da912c557fe7",
   "metadata": {},
   "outputs": [],
   "source": [
    "#conta.columns"
   ]
  },
  {
   "cell_type": "code",
   "execution_count": 62,
   "id": "1b2d3739-9c54-42a6-9b1c-1249e090a895",
   "metadata": {},
   "outputs": [],
   "source": [
    "#conta.head()"
   ]
  },
  {
   "cell_type": "code",
   "execution_count": 64,
   "id": "86a4331f-f3da-4b89-a581-8473dfb287b1",
   "metadata": {},
   "outputs": [],
   "source": [
    "#conta.shape"
   ]
  },
  {
   "cell_type": "code",
   "execution_count": 66,
   "id": "d3c8a267-a873-46ca-a364-70f299007241",
   "metadata": {},
   "outputs": [],
   "source": [
    "#conta.to_csv('resultados/embargos_ibama/doacoes_indiretas_vindas_pessoas_com_embargos_ibama_2018.csv',index=False)"
   ]
  },
  {
   "cell_type": "code",
   "execution_count": null,
   "id": "dea7ed06-e798-456f-bbb3-30d49ad53a41",
   "metadata": {},
   "outputs": [],
   "source": []
  },
  {
   "cell_type": "code",
   "execution_count": null,
   "id": "a7a219b4-d7ba-4150-9390-f359d5f8c361",
   "metadata": {},
   "outputs": [],
   "source": []
  },
  {
   "cell_type": "markdown",
   "id": "b396803b-721d-42cd-82ac-b2d498723bd3",
   "metadata": {},
   "source": [
    "### Doações originárias"
   ]
  },
  {
   "cell_type": "code",
   "execution_count": 45,
   "id": "7a038e73-9954-4658-a21d-490be2c1b0ed",
   "metadata": {},
   "outputs": [],
   "source": [
    "doacoes_originarias_2018 = pd.read_excel('resultados/doacoes/doacoes_originarias_politicos_2018.xlsx', sheet_name = 'Sheet1', dtype = 'str')"
   ]
  },
  {
   "cell_type": "code",
   "execution_count": 46,
   "id": "7843ba6a-8d26-4227-ae77-af0addfc5aae",
   "metadata": {},
   "outputs": [
    {
     "data": {
      "text/plain": [
       "(11060, 25)"
      ]
     },
     "execution_count": 46,
     "metadata": {},
     "output_type": "execute_result"
    }
   ],
   "source": [
    "doacoes_originarias_2018.shape"
   ]
  },
  {
   "cell_type": "code",
   "execution_count": 47,
   "id": "ec380e4a-0fe9-43cb-9fbf-bbcb13fa225e",
   "metadata": {},
   "outputs": [
    {
     "data": {
      "text/plain": [
       "Index(['DT_GERACAO', 'HH_GERACAO', 'ANO_ELEICAO', 'CD_TIPO_ELEICAO',\n",
       "       'NM_TIPO_ELEICAO', 'CD_ELEICAO', 'DS_ELEICAO', 'DT_ELEICAO', 'ST_TURNO',\n",
       "       'TP_PRESTACAO_CONTAS', 'DT_PRESTACAO_CONTAS', 'SQ_PRESTADOR_CONTAS',\n",
       "       'SG_UF', 'NR_CPF_CNPJ_DOADOR_ORIGINARIO', 'NM_DOADOR_ORIGINARIO',\n",
       "       'NM_DOADOR_ORIGINARIO_RFB', 'TP_DOADOR_ORIGINARIO',\n",
       "       'CD_CNAE_DOADOR_ORIGINARIO', 'DS_CNAE_DOADOR_ORIGINARIO', 'SQ_RECEITA',\n",
       "       'DT_RECEITA', 'DS_RECEITA', 'VR_RECEITA', 'NM_CANDIDATO',\n",
       "       'NR_CPF_CANDIDATO'],\n",
       "      dtype='object')"
      ]
     },
     "execution_count": 47,
     "metadata": {},
     "output_type": "execute_result"
    }
   ],
   "source": [
    "doacoes_originarias_2018.columns"
   ]
  },
  {
   "cell_type": "code",
   "execution_count": 48,
   "id": "832ee0a6-4081-4930-a311-74330e81db84",
   "metadata": {},
   "outputs": [],
   "source": [
    "def limpeza4(linha):\n",
    "    documento = str(linha[\"NR_CPF_CNPJ_DOADOR_ORIGINARIO\"])\n",
    "    if len(documento) > 11:\n",
    "        return documento[:8]\n",
    "    else:\n",
    "        return \"documento_cpf\"\n",
    "    \n",
    "doacoes_originarias_2018['NR_CPF_CNPJ_DOADOR_ORIGINARIO_raiz'] = doacoes_originarias_2018.apply(limpeza4, axis=1)"
   ]
  },
  {
   "cell_type": "code",
   "execution_count": 49,
   "id": "813d4224-36c6-4461-8f94-58f4c9ed488e",
   "metadata": {},
   "outputs": [],
   "source": [
    "doacoes_originarias_2018_pf = doacoes_originarias_2018[(doacoes_originarias_2018['NR_CPF_CNPJ_DOADOR_ORIGINARIO_raiz'] == 'documento_cpf')]\n",
    "doacoes_originarias_2018_pj = doacoes_originarias_2018[(doacoes_originarias_2018['NR_CPF_CNPJ_DOADOR_ORIGINARIO_raiz'] != 'documento_cpf')]"
   ]
  },
  {
   "cell_type": "code",
   "execution_count": 50,
   "id": "cc697f14-e6fc-4d40-8e68-413e8ed51903",
   "metadata": {},
   "outputs": [
    {
     "data": {
      "text/plain": [
       "(11060, 26)"
      ]
     },
     "execution_count": 50,
     "metadata": {},
     "output_type": "execute_result"
    }
   ],
   "source": [
    "doacoes_originarias_2018_pf.shape"
   ]
  },
  {
   "cell_type": "code",
   "execution_count": 51,
   "id": "42227c66-13be-4b4f-835b-7be71c05cb61",
   "metadata": {},
   "outputs": [
    {
     "data": {
      "text/plain": [
       "(0, 26)"
      ]
     },
     "execution_count": 51,
     "metadata": {},
     "output_type": "execute_result"
    }
   ],
   "source": [
    "doacoes_originarias_2018_pj.shape"
   ]
  },
  {
   "cell_type": "code",
   "execution_count": null,
   "id": "165594e8-bbce-4a9a-b560-59c287a5a39e",
   "metadata": {},
   "outputs": [],
   "source": []
  },
  {
   "cell_type": "code",
   "execution_count": 53,
   "id": "de6c9b65-bb1f-4af8-9814-fbecfd1e1a4d",
   "metadata": {},
   "outputs": [],
   "source": [
    "doacoes_pf_icmbio_originaria = pd.merge(doacoes_originarias_2018_pf, icmbio_pf.drop_duplicates('cpf_cnpj'), left_on='NR_CPF_CNPJ_DOADOR_ORIGINARIO', right_on='cpf_cnpj', how = 'left')"
   ]
  },
  {
   "cell_type": "code",
   "execution_count": 54,
   "id": "69293bf1-2d57-4e66-9a58-fbffcd22e8bd",
   "metadata": {},
   "outputs": [
    {
     "data": {
      "text/plain": [
       "(0, 53)"
      ]
     },
     "execution_count": 54,
     "metadata": {},
     "output_type": "execute_result"
    }
   ],
   "source": [
    "conta = doacoes_pf_icmbio_originaria[pd.notnull(doacoes_pf_icmbio_originaria['cpf_cnpj'])].copy()\n",
    "conta.shape"
   ]
  },
  {
   "cell_type": "code",
   "execution_count": 90,
   "id": "2e7bcdf3-fd3d-4e85-858e-53d1c9520fac",
   "metadata": {},
   "outputs": [],
   "source": [
    "#conta.to_excel('resultados/embargos_ibama/doacoes_originarias_vindas_pessoas_com_embargos_ibama_2018.xlsx',sheet_name='Sheet1',index=False)"
   ]
  },
  {
   "cell_type": "code",
   "execution_count": null,
   "id": "1b6570a5-8d33-41c1-a1fe-f8b4356f3f24",
   "metadata": {},
   "outputs": [],
   "source": []
  },
  {
   "cell_type": "code",
   "execution_count": 91,
   "id": "f20466c0-52d9-4763-842e-ec7b48d49fe1",
   "metadata": {},
   "outputs": [],
   "source": [
    "#conta['doacoes_tipo'] = 'originaria'"
   ]
  },
  {
   "cell_type": "code",
   "execution_count": 74,
   "id": "5809d5fb-6f4f-4e64-aaeb-87fc54dd5b70",
   "metadata": {},
   "outputs": [],
   "source": [
    "#conta.columns"
   ]
  },
  {
   "cell_type": "code",
   "execution_count": 93,
   "id": "57804479-c086-4598-8c88-92e93ffe57c3",
   "metadata": {},
   "outputs": [],
   "source": [
    "#conta.rename(columns = {'VR_RECEITA':'valor'},inplace = True)\n",
    "#conta.rename(columns = {'NR_CPF_CANDIDATO':'politico_id'},inplace = True)\n",
    "#conta.rename(columns = {'cpf_cnpj':'entidade_id'},inplace = True)\n",
    "#conta.rename(columns = {'DS_RECEITA':'origem_do_dinheiro_no_tse'},inplace = True)\n",
    "#conta.rename(columns = {'DT_PRESTACAO_CONTAS':'data'},inplace = True)"
   ]
  },
  {
   "cell_type": "code",
   "execution_count": 94,
   "id": "346142c7-316e-4eab-9677-264b2ec3970c",
   "metadata": {},
   "outputs": [],
   "source": [
    "#conta = conta[['valor', 'politico_id', 'entidade_id', 'doacoes_tipo', 'origem_do_dinheiro_no_tse', 'data']]"
   ]
  },
  {
   "cell_type": "code",
   "execution_count": 75,
   "id": "f3702c18-50d3-49b2-ab55-1b34062b8379",
   "metadata": {},
   "outputs": [],
   "source": [
    "#conta.columns"
   ]
  },
  {
   "cell_type": "code",
   "execution_count": 76,
   "id": "17aa297a-681b-4b2d-b2ad-5f70cd9268ef",
   "metadata": {},
   "outputs": [],
   "source": [
    "#conta.head()"
   ]
  },
  {
   "cell_type": "code",
   "execution_count": 97,
   "id": "f3945de1-f52b-4574-a7bd-6fc33be94e26",
   "metadata": {},
   "outputs": [],
   "source": [
    "#conta.to_csv('resultados/embargos_ibama/doacoes_originarias_vindas_pessoas_com_embargos_ibama_2018.csv',index=False)"
   ]
  },
  {
   "cell_type": "code",
   "execution_count": null,
   "id": "11027f1d-98a5-47e1-b936-012e5f4f5752",
   "metadata": {},
   "outputs": [],
   "source": []
  },
  {
   "cell_type": "code",
   "execution_count": null,
   "id": "215b7613-64b9-46a6-94d5-dbe349329286",
   "metadata": {},
   "outputs": [],
   "source": []
  },
  {
   "cell_type": "code",
   "execution_count": null,
   "id": "36df5f75-4181-41ab-b61b-3bf47e3b2607",
   "metadata": {},
   "outputs": [],
   "source": []
  },
  {
   "cell_type": "markdown",
   "id": "ab05ef4a-af40-41fb-8b46-5c351d757068",
   "metadata": {},
   "source": [
    "### Candidatos 2018"
   ]
  },
  {
   "cell_type": "code",
   "execution_count": 56,
   "id": "84311c7d-bfc6-4e8b-ad63-d7e064fbb3d2",
   "metadata": {},
   "outputs": [],
   "source": [
    "kwargs = {'sep': ',', 'dtype': str, 'encoding': 'utf-8'}\n",
    "politicos_2018 = pd.read_csv(\"resultados/politicos_2018_09abr.csv\", **kwargs)"
   ]
  },
  {
   "cell_type": "code",
   "execution_count": null,
   "id": "900916d0-c04e-4be3-8853-aedeb8e4a81e",
   "metadata": {},
   "outputs": [],
   "source": []
  },
  {
   "cell_type": "code",
   "execution_count": null,
   "id": "14fcc4b7-244b-4a1a-9eb4-bf63002c146d",
   "metadata": {},
   "outputs": [],
   "source": []
  },
  {
   "cell_type": "code",
   "execution_count": null,
   "id": "cefb7ccd-7e5e-4a33-9b31-db3eb1fb5fa0",
   "metadata": {},
   "outputs": [],
   "source": []
  },
  {
   "cell_type": "code",
   "execution_count": 57,
   "id": "83d6122a-1f98-4100-a53b-273cf579ca31",
   "metadata": {},
   "outputs": [],
   "source": [
    "politicos_autos_icmbio = pd.merge(icmbio_pf.drop_duplicates('cpf_cnpj'), politicos_2018, left_on='cpf_cnpj', right_on='politico_id', how = 'left')"
   ]
  },
  {
   "cell_type": "code",
   "execution_count": 58,
   "id": "b4c73d3d-2be3-403c-9d8b-d00cc09e8c39",
   "metadata": {},
   "outputs": [
    {
     "data": {
      "text/plain": [
       "(0, 36)"
      ]
     },
     "execution_count": 58,
     "metadata": {},
     "output_type": "execute_result"
    }
   ],
   "source": [
    "conta = politicos_autos_icmbio[pd.notnull(politicos_autos_icmbio['politico_id'])].copy()\n",
    "conta.shape"
   ]
  },
  {
   "cell_type": "code",
   "execution_count": 59,
   "id": "7a061154-3bb3-44e4-882d-745a394e8359",
   "metadata": {},
   "outputs": [],
   "source": [
    "#conta"
   ]
  },
  {
   "cell_type": "code",
   "execution_count": null,
   "id": "fb60becb-ed3a-4253-b3d2-11bef72063da",
   "metadata": {},
   "outputs": [],
   "source": []
  },
  {
   "cell_type": "code",
   "execution_count": 60,
   "id": "10be10f4-e270-4555-8202-c2bd553b0efb",
   "metadata": {},
   "outputs": [],
   "source": [
    "#conta.to_excel('resultados/embargos_ibama/deputados_2018_com_embargos_ibama.xlsx',sheet_name='Sheet1',index=False)"
   ]
  },
  {
   "cell_type": "code",
   "execution_count": null,
   "id": "ffd6a9ba-a6ff-43f3-a3d6-3caca3b30508",
   "metadata": {},
   "outputs": [],
   "source": []
  },
  {
   "cell_type": "code",
   "execution_count": null,
   "id": "cbf65222-0b0b-4eef-bc3d-e510360eddd7",
   "metadata": {},
   "outputs": [],
   "source": []
  },
  {
   "cell_type": "code",
   "execution_count": 175,
   "id": "52516afd-120a-4ff3-94ba-d9e8a6c8d8f6",
   "metadata": {},
   "outputs": [],
   "source": [
    "#conta.rename(columns = {'cpf_cnpj':'entidade_id'},inplace = True)\n",
    "#conta.rename(columns = {'Município Infração':'municipio'},inplace = True)\n",
    "#conta.rename(columns = {'Infração':'tipo_infracao'},inplace = True)\n",
    "#conta.rename(columns = {'Data de Inserção na Lista':'data_insercao_lista'},inplace = True)\n",
    "#conta.rename(columns = {'UF Infração':'estado_id'},inplace = True)\n",
    "#conta.rename(columns = {'Área (ha)':'tamanho_area'},inplace = True)"
   ]
  },
  {
   "cell_type": "code",
   "execution_count": 176,
   "id": "23516c09-7300-4939-946c-16cb7b0bfd23",
   "metadata": {},
   "outputs": [],
   "source": [
    "#conta = conta[['entidade_id', 'municipio', 'tipo_infracao', 'data_insercao_lista', 'estado_id', 'tamanho_area']]"
   ]
  },
  {
   "cell_type": "code",
   "execution_count": 178,
   "id": "5526cebd-3720-4d9c-8abf-0cabfb71c626",
   "metadata": {},
   "outputs": [],
   "source": [
    "#conta.to_csv('resultados/embargos_ibama/deputados_2018_com_embargos_ibama.csv',index=False)"
   ]
  },
  {
   "cell_type": "code",
   "execution_count": null,
   "id": "33c0b76d-5376-41d0-88a8-e4ad9d551c2a",
   "metadata": {},
   "outputs": [],
   "source": []
  }
 ],
 "metadata": {
  "kernelspec": {
   "display_name": "Python 3",
   "language": "python",
   "name": "python3"
  },
  "language_info": {
   "codemirror_mode": {
    "name": "ipython",
    "version": 3
   },
   "file_extension": ".py",
   "mimetype": "text/x-python",
   "name": "python",
   "nbconvert_exporter": "python",
   "pygments_lexer": "ipython3",
   "version": "3.8.2"
  }
 },
 "nbformat": 4,
 "nbformat_minor": 5
}
