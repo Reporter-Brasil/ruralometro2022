{
 "cells": [
  {
   "cell_type": "code",
   "execution_count": null,
   "id": "ec50a6fc-012e-4276-81de-e7e74dae1118",
   "metadata": {},
   "outputs": [],
   "source": [
    "# -*- coding: utf-8\n",
    "# Repórter Brasil (https://ruralometro2022.reporterbrasil.org.br/)\n",
    "# Reinaldo Chaves (@paidatocandeira)\n",
    "# A partir da metodologia do projeto (https://ruralometro2022.reporterbrasil.org.br/metodologia),\n",
    "# que avalia os deputados a partir de critérios e atribui notas, este script cruza os resultados com\n",
    "# o id_interno da Câmara para criar um banco de dados único"
   ]
  },
  {
   "cell_type": "code",
   "execution_count": null,
   "id": "daaeeb0e-cec2-4028-8678-7c9ac52ea058",
   "metadata": {},
   "outputs": [],
   "source": []
  },
  {
   "cell_type": "code",
   "execution_count": 1,
   "id": "45569982-6e3e-4780-aa68-0c9706c3366c",
   "metadata": {},
   "outputs": [],
   "source": [
    "import pandas as pd"
   ]
  },
  {
   "cell_type": "code",
   "execution_count": null,
   "id": "1fb93b54-7419-408a-8e99-e1d9a9333d49",
   "metadata": {},
   "outputs": [],
   "source": []
  },
  {
   "cell_type": "code",
   "execution_count": null,
   "id": "81323324-93a3-4311-a574-32f17e0a7d8b",
   "metadata": {},
   "outputs": [],
   "source": []
  },
  {
   "cell_type": "code",
   "execution_count": null,
   "id": "daef2b3f-cb67-44a5-9da6-1032c7baa129",
   "metadata": {},
   "outputs": [],
   "source": []
  },
  {
   "cell_type": "code",
   "execution_count": 2,
   "id": "0299af6b-f0dd-496a-8109-d75c857a81bb",
   "metadata": {},
   "outputs": [],
   "source": [
    "#kwargs = {'sep': ',', 'dtype': str, 'encoding': 'utf-8'}\n",
    "#politicos = pd.read_csv(\"resultados/politicos_2018_versao_9mai.csv\", **kwargs)"
   ]
  },
  {
   "cell_type": "code",
   "execution_count": 2,
   "id": "e2f4d064-45a6-4334-954d-5b2b10cf4cb1",
   "metadata": {},
   "outputs": [],
   "source": [
    "politicos = pd.read_excel(\"resultados/politicos_2018_versao_14jul_2022.xlsx\", sheet_name = 'Sheet1', dtype = 'str')"
   ]
  },
  {
   "cell_type": "code",
   "execution_count": 3,
   "id": "d11d6aba-46e4-4e51-94a0-683ba8304a0e",
   "metadata": {},
   "outputs": [
    {
     "name": "stdout",
     "output_type": "stream",
     "text": [
      "<class 'pandas.core.frame.DataFrame'>\n",
      "RangeIndex: 510 entries, 0 to 509\n",
      "Data columns (total 19 columns):\n",
      " #   Column                             Non-Null Count  Dtype \n",
      "---  ------                             --------------  ----- \n",
      " 0   nome                               510 non-null    object\n",
      " 1   foto                               510 non-null    object\n",
      " 2   nome_urna                          510 non-null    object\n",
      " 3   uf_eleicao_disputa                 510 non-null    object\n",
      " 4   politico_id                        510 non-null    object\n",
      " 5   partido_eleicao                    510 non-null    object\n",
      " 6   uri                                510 non-null    object\n",
      " 7   sequencial_candidato               510 non-null    object\n",
      " 8   bancada_ruralista                  236 non-null    object\n",
      " 9   id_interno                         510 non-null    object\n",
      " 10  doacao_ambiental_direta_total      101 non-null    object\n",
      " 11  doacao_ambiental_indireta_total    27 non-null     object\n",
      " 12  doacao_ambiental_originaria_total  25 non-null     object\n",
      " 13  doacao_trabalhista_direta_total    70 non-null     object\n",
      " 14  total_geral_doacoes_diretas        510 non-null    object\n",
      " 15  total_geral_doacoes_indiretas      309 non-null    object\n",
      " 16  total_geral_doacoes_originarias    169 non-null    object\n",
      " 17  temperatura_ruralometro_2018       228 non-null    object\n",
      " 18  partido_atual                      510 non-null    object\n",
      "dtypes: object(19)\n",
      "memory usage: 75.8+ KB\n"
     ]
    }
   ],
   "source": [
    "politicos.info()"
   ]
  },
  {
   "cell_type": "code",
   "execution_count": null,
   "id": "96942c5c-1c58-4644-b76b-a426b714fd62",
   "metadata": {},
   "outputs": [],
   "source": []
  },
  {
   "cell_type": "code",
   "execution_count": 4,
   "id": "10b4eaba-dbd7-4add-8897-ebba571c5472",
   "metadata": {},
   "outputs": [],
   "source": [
    "#temperatura = pd.read_excel(\"resultados/termometro/votacoes_ruralometro2022_05_31.xlsx\", sheet_name = 'base', dtype = 'str')\n",
    "temperatura = pd.read_excel(\"resultados/termometro/ranking_corrigido_editado_votacoes_ruralometro2022_07_14.xlsx\", sheet_name = 'base', dtype = 'str')"
   ]
  },
  {
   "cell_type": "code",
   "execution_count": 5,
   "id": "34e26018-0f97-430d-b9df-3cba3ffaaca9",
   "metadata": {},
   "outputs": [
    {
     "name": "stdout",
     "output_type": "stream",
     "text": [
      "<class 'pandas.core.frame.DataFrame'>\n",
      "RangeIndex: 525 entries, 0 to 524\n",
      "Data columns (total 10 columns):\n",
      " #   Column           Non-Null Count  Dtype \n",
      "---  ------           --------------  ----- \n",
      " 0   nome             525 non-null    object\n",
      " 1   id_interno       525 non-null    object\n",
      " 2   PontuaVoto       525 non-null    object\n",
      " 3   NumVoto          525 non-null    object\n",
      " 4   MediaVoto        525 non-null    object\n",
      " 5   PontuaProp       525 non-null    object\n",
      " 6   NumProp          525 non-null    object\n",
      " 7   Pont_prop        525 non-null    object\n",
      " 8   Soma50_50        525 non-null    object\n",
      " 9   Termometro50_50  525 non-null    object\n",
      "dtypes: object(10)\n",
      "memory usage: 41.1+ KB\n"
     ]
    }
   ],
   "source": [
    "temperatura.info()"
   ]
  },
  {
   "cell_type": "code",
   "execution_count": null,
   "id": "f249151f-d75d-44af-a6a2-32fbfe0a5691",
   "metadata": {},
   "outputs": [],
   "source": []
  },
  {
   "cell_type": "code",
   "execution_count": 6,
   "id": "3444da1b-691c-4669-8bc4-8484a539f9a6",
   "metadata": {},
   "outputs": [],
   "source": [
    "procura = pd.merge(temperatura, politicos, left_on='id_interno', right_on='id_interno', how = 'left')"
   ]
  },
  {
   "cell_type": "code",
   "execution_count": 7,
   "id": "45b91218-c311-42d1-b593-ded4af546cd9",
   "metadata": {},
   "outputs": [
    {
     "name": "stdout",
     "output_type": "stream",
     "text": [
      "<class 'pandas.core.frame.DataFrame'>\n",
      "Int64Index: 555 entries, 0 to 554\n",
      "Data columns (total 20 columns):\n",
      " #   Column                Non-Null Count  Dtype \n",
      "---  ------                --------------  ----- \n",
      " 0   nome_x                555 non-null    object\n",
      " 1   id_interno            555 non-null    object\n",
      " 2   PontuaVoto            555 non-null    object\n",
      " 3   NumVoto               555 non-null    object\n",
      " 4   MediaVoto             555 non-null    object\n",
      " 5   PontuaProp            555 non-null    object\n",
      " 6   NumProp               555 non-null    object\n",
      " 7   MediaProp             555 non-null    object\n",
      " 8   Soma                  555 non-null    object\n",
      " 9   Termometro            555 non-null    object\n",
      " 10  nome_y                506 non-null    object\n",
      " 11  foto                  506 non-null    object\n",
      " 12  nome_urna             506 non-null    object\n",
      " 13  uf_eleicao_disputa    506 non-null    object\n",
      " 14  politico_id           506 non-null    object\n",
      " 15  partido_eleicao       506 non-null    object\n",
      " 16  partido_atual         506 non-null    object\n",
      " 17  uri                   506 non-null    object\n",
      " 18  sequencial_candidato  506 non-null    object\n",
      " 19  bancada_ruralista     236 non-null    object\n",
      "dtypes: object(20)\n",
      "memory usage: 91.1+ KB\n"
     ]
    }
   ],
   "source": [
    "procura.info()"
   ]
  },
  {
   "cell_type": "code",
   "execution_count": null,
   "id": "bcabbe3a-3697-4daa-9a19-622485af0d0b",
   "metadata": {},
   "outputs": [],
   "source": []
  },
  {
   "cell_type": "code",
   "execution_count": 8,
   "id": "8ec7420b-0e94-4f22-80dd-7daf0d6d8c71",
   "metadata": {},
   "outputs": [],
   "source": [
    "procura.to_excel('resultados/termometro/com_colunas_de_politicos_aba_base_votacoes_ruralometro2022_05_31.xlsx',sheet_name='Sheet1',index=False)"
   ]
  },
  {
   "cell_type": "code",
   "execution_count": null,
   "id": "3f969f5a-0cdd-4d04-8802-cbfeef19b6d4",
   "metadata": {},
   "outputs": [],
   "source": []
  },
  {
   "cell_type": "code",
   "execution_count": null,
   "id": "9a4b7f6e-a95b-463c-b519-8b1e494526cd",
   "metadata": {},
   "outputs": [],
   "source": []
  },
  {
   "cell_type": "code",
   "execution_count": 2,
   "id": "1044b2e5-eef5-4c33-99a5-0c7634523485",
   "metadata": {},
   "outputs": [],
   "source": [
    "# versao 2022_07_20"
   ]
  },
  {
   "cell_type": "code",
   "execution_count": null,
   "id": "947d2cee-2907-4892-9ce6-d247ed946b4d",
   "metadata": {},
   "outputs": [],
   "source": []
  },
  {
   "cell_type": "code",
   "execution_count": 15,
   "id": "4b7fc4d6-165c-4909-8575-e52ac53f4051",
   "metadata": {},
   "outputs": [],
   "source": [
    "#kwargs = {'sep': ',', 'dtype': str, 'encoding': 'utf-8'}\n",
    "#politicos = pd.read_csv(\"resultados/politicos_2018_versao_11jun.csv\", **kwargs)\n",
    "politicos = pd.read_excel(\"resultados/politicos_2018_versao_14jul_2022.xlsx\", sheet_name = 'Sheet1', dtype = 'str')"
   ]
  },
  {
   "cell_type": "code",
   "execution_count": null,
   "id": "fd963d09-3658-4701-891d-660ecfc44497",
   "metadata": {},
   "outputs": [],
   "source": []
  },
  {
   "cell_type": "code",
   "execution_count": 16,
   "id": "d8aff4e1-5520-4404-a133-39ea6dfa8f73",
   "metadata": {},
   "outputs": [],
   "source": [
    "temperatura = pd.read_excel(\"resultados/termometro/Cópia de ranking_corrigido_editado_votacoes_ruralometro2022_07_20.xlsx\", sheet_name = 'base', dtype = 'str')"
   ]
  },
  {
   "cell_type": "code",
   "execution_count": null,
   "id": "07d1a2b5-ae51-4f1c-8a86-8d577693b683",
   "metadata": {},
   "outputs": [],
   "source": []
  },
  {
   "cell_type": "code",
   "execution_count": 17,
   "id": "9f20b70d-e8ce-446c-b63b-692aef5bebf4",
   "metadata": {},
   "outputs": [],
   "source": [
    "procura = pd.merge(politicos, temperatura, left_on='id_interno', right_on='id_interno', how = 'left')"
   ]
  },
  {
   "cell_type": "code",
   "execution_count": null,
   "id": "06a2af47-a14c-4cb6-a997-6ab957f9165c",
   "metadata": {},
   "outputs": [],
   "source": []
  },
  {
   "cell_type": "code",
   "execution_count": 18,
   "id": "7c9db98b-8715-4c34-873e-5ac5ceff9c11",
   "metadata": {},
   "outputs": [],
   "source": [
    "#procura.to_excel('resultados/termometro/com_colunas_de_politicos_aba_base_votacoes_ruralometro2022_06_16.xlsx',sheet_name='Sheet1',index=False)"
   ]
  },
  {
   "cell_type": "code",
   "execution_count": null,
   "id": "7c8609c9-2d2e-47c3-8baa-1c7002657adb",
   "metadata": {},
   "outputs": [],
   "source": []
  },
  {
   "cell_type": "code",
   "execution_count": null,
   "id": "054fc96f-7bb2-4803-95b3-7934579b3d63",
   "metadata": {},
   "outputs": [],
   "source": []
  },
  {
   "cell_type": "code",
   "execution_count": 19,
   "id": "bc78d1ab-a7ff-462c-8497-a16d55fea496",
   "metadata": {},
   "outputs": [
    {
     "name": "stdout",
     "output_type": "stream",
     "text": [
      "<class 'pandas.core.frame.DataFrame'>\n",
      "Int64Index: 510 entries, 0 to 509\n",
      "Data columns (total 28 columns):\n",
      " #   Column                             Non-Null Count  Dtype \n",
      "---  ------                             --------------  ----- \n",
      " 0   nome_x                             510 non-null    object\n",
      " 1   foto                               510 non-null    object\n",
      " 2   nome_urna                          510 non-null    object\n",
      " 3   uf_eleicao_disputa                 510 non-null    object\n",
      " 4   politico_id                        510 non-null    object\n",
      " 5   partido_eleicao                    510 non-null    object\n",
      " 6   uri                                510 non-null    object\n",
      " 7   sequencial_candidato               510 non-null    object\n",
      " 8   bancada_ruralista                  236 non-null    object\n",
      " 9   id_interno                         510 non-null    object\n",
      " 10  doacao_ambiental_direta_total      101 non-null    object\n",
      " 11  doacao_ambiental_indireta_total    27 non-null     object\n",
      " 12  doacao_ambiental_originaria_total  25 non-null     object\n",
      " 13  doacao_trabalhista_direta_total    70 non-null     object\n",
      " 14  total_geral_doacoes_diretas        510 non-null    object\n",
      " 15  total_geral_doacoes_indiretas      309 non-null    object\n",
      " 16  total_geral_doacoes_originarias    169 non-null    object\n",
      " 17  temperatura_ruralometro_2018       228 non-null    object\n",
      " 18  partido_atual                      510 non-null    object\n",
      " 19  nome_y                             499 non-null    object\n",
      " 20  PontuaVoto                         499 non-null    object\n",
      " 21  NumVoto                            499 non-null    object\n",
      " 22  MediaVoto                          499 non-null    object\n",
      " 23  PontuaProp                         499 non-null    object\n",
      " 24  NumProp                            499 non-null    object\n",
      " 25  Ponto_Prop                         499 non-null    object\n",
      " 26  Soma                               499 non-null    object\n",
      " 27  Termometro                         499 non-null    object\n",
      "dtypes: object(28)\n",
      "memory usage: 115.5+ KB\n"
     ]
    }
   ],
   "source": [
    "procura.info()"
   ]
  },
  {
   "cell_type": "code",
   "execution_count": null,
   "id": "57d9e253-a6d0-4134-8028-3e0229e0ca3f",
   "metadata": {},
   "outputs": [],
   "source": []
  },
  {
   "cell_type": "code",
   "execution_count": 20,
   "id": "267d4d06-8505-4bbc-80c4-06da526842fe",
   "metadata": {},
   "outputs": [],
   "source": [
    "procura = procura[['nome_y', 'id_interno', 'PontuaVoto', 'NumVoto', 'MediaVoto', 'PontuaProp', 'NumProp', 'Ponto_Prop', 'Soma', 'Termometro']]"
   ]
  },
  {
   "cell_type": "code",
   "execution_count": 21,
   "id": "0eb61758-e7b0-449a-a09a-c5af4c45bfb9",
   "metadata": {},
   "outputs": [
    {
     "name": "stdout",
     "output_type": "stream",
     "text": [
      "<class 'pandas.core.frame.DataFrame'>\n",
      "Int64Index: 510 entries, 0 to 509\n",
      "Data columns (total 10 columns):\n",
      " #   Column      Non-Null Count  Dtype \n",
      "---  ------      --------------  ----- \n",
      " 0   nome_y      499 non-null    object\n",
      " 1   id_interno  510 non-null    object\n",
      " 2   PontuaVoto  499 non-null    object\n",
      " 3   NumVoto     499 non-null    object\n",
      " 4   MediaVoto   499 non-null    object\n",
      " 5   PontuaProp  499 non-null    object\n",
      " 6   NumProp     499 non-null    object\n",
      " 7   Ponto_Prop  499 non-null    object\n",
      " 8   Soma        499 non-null    object\n",
      " 9   Termometro  499 non-null    object\n",
      "dtypes: object(10)\n",
      "memory usage: 43.8+ KB\n"
     ]
    }
   ],
   "source": [
    "procura.info()"
   ]
  },
  {
   "cell_type": "code",
   "execution_count": null,
   "id": "6cc32d64-2f20-42bc-8074-f226dbe1c472",
   "metadata": {},
   "outputs": [],
   "source": []
  },
  {
   "cell_type": "code",
   "execution_count": 22,
   "id": "a279c7fa-a87b-4a15-be50-7f6957ad8191",
   "metadata": {},
   "outputs": [
    {
     "name": "stdout",
     "output_type": "stream",
     "text": [
      "<class 'pandas.core.frame.DataFrame'>\n",
      "Int64Index: 499 entries, 0 to 509\n",
      "Data columns (total 10 columns):\n",
      " #   Column      Non-Null Count  Dtype \n",
      "---  ------      --------------  ----- \n",
      " 0   nome_y      499 non-null    object\n",
      " 1   id_interno  499 non-null    object\n",
      " 2   PontuaVoto  499 non-null    object\n",
      " 3   NumVoto     499 non-null    object\n",
      " 4   MediaVoto   499 non-null    object\n",
      " 5   PontuaProp  499 non-null    object\n",
      " 6   NumProp     499 non-null    object\n",
      " 7   Ponto_Prop  499 non-null    object\n",
      " 8   Soma        499 non-null    object\n",
      " 9   Termometro  499 non-null    object\n",
      "dtypes: object(10)\n",
      "memory usage: 42.9+ KB\n"
     ]
    }
   ],
   "source": [
    "conta = procura[pd.notnull(procura['nome_y'])]\n",
    "conta.info()"
   ]
  },
  {
   "cell_type": "code",
   "execution_count": null,
   "id": "894044ec-aa32-4489-acbb-f5c66b6984e8",
   "metadata": {},
   "outputs": [],
   "source": []
  },
  {
   "cell_type": "code",
   "execution_count": 23,
   "id": "ed7f5616-a152-42ef-8aba-c776b6f9a122",
   "metadata": {},
   "outputs": [
    {
     "name": "stderr",
     "output_type": "stream",
     "text": [
      "C:\\Users\\reina\\AppData\\Local\\Temp\\ipykernel_69064\\2156729588.py:1: SettingWithCopyWarning: \n",
      "A value is trying to be set on a copy of a slice from a DataFrame\n",
      "\n",
      "See the caveats in the documentation: https://pandas.pydata.org/pandas-docs/stable/user_guide/indexing.html#returning-a-view-versus-a-copy\n",
      "  conta.rename(columns={'nome_y': 'nome'}, inplace=True)\n"
     ]
    }
   ],
   "source": [
    "conta.rename(columns={'nome_y': 'nome'}, inplace=True)"
   ]
  },
  {
   "cell_type": "code",
   "execution_count": null,
   "id": "c102f588-d18e-4019-be37-f619ec104431",
   "metadata": {},
   "outputs": [],
   "source": []
  },
  {
   "cell_type": "code",
   "execution_count": 24,
   "id": "b2c8d46b-377e-4db3-a388-64f2ed20d413",
   "metadata": {},
   "outputs": [
    {
     "name": "stdout",
     "output_type": "stream",
     "text": [
      "<class 'pandas.core.frame.DataFrame'>\n",
      "Int64Index: 499 entries, 0 to 509\n",
      "Data columns (total 10 columns):\n",
      " #   Column      Non-Null Count  Dtype \n",
      "---  ------      --------------  ----- \n",
      " 0   nome        499 non-null    object\n",
      " 1   id_interno  499 non-null    object\n",
      " 2   PontuaVoto  499 non-null    object\n",
      " 3   NumVoto     499 non-null    object\n",
      " 4   MediaVoto   499 non-null    object\n",
      " 5   PontuaProp  499 non-null    object\n",
      " 6   NumProp     499 non-null    object\n",
      " 7   Ponto_Prop  499 non-null    object\n",
      " 8   Soma        499 non-null    object\n",
      " 9   Termometro  499 non-null    object\n",
      "dtypes: object(10)\n",
      "memory usage: 42.9+ KB\n"
     ]
    }
   ],
   "source": [
    "conta.info()"
   ]
  },
  {
   "cell_type": "code",
   "execution_count": null,
   "id": "32a906c1-ba8a-4467-b677-bf07d748dcd3",
   "metadata": {},
   "outputs": [],
   "source": []
  },
  {
   "cell_type": "code",
   "execution_count": 26,
   "id": "90f892aa-da8b-4ad6-aab9-ad30bf0312d7",
   "metadata": {},
   "outputs": [],
   "source": [
    "conta.to_csv('resultados/termometro/ranking_corrigido_editado_votacoes_ruralometro2022_07_20.csv',index=False)"
   ]
  },
  {
   "cell_type": "code",
   "execution_count": null,
   "id": "825b3ecc-163f-441c-96d6-8bd2d466ff3a",
   "metadata": {},
   "outputs": [],
   "source": []
  },
  {
   "cell_type": "code",
   "execution_count": null,
   "id": "3f1baa85-dff8-4697-8745-54dbbe179e91",
   "metadata": {},
   "outputs": [],
   "source": []
  },
  {
   "cell_type": "code",
   "execution_count": null,
   "id": "4963bb97-7f51-4250-abf1-73801ea259de",
   "metadata": {},
   "outputs": [],
   "source": []
  }
 ],
 "metadata": {
  "kernelspec": {
   "display_name": "Python 3",
   "language": "python",
   "name": "python3"
  },
  "language_info": {
   "codemirror_mode": {
    "name": "ipython",
    "version": 3
   },
   "file_extension": ".py",
   "mimetype": "text/x-python",
   "name": "python",
   "nbconvert_exporter": "python",
   "pygments_lexer": "ipython3",
   "version": "3.8.2"
  }
 },
 "nbformat": 4,
 "nbformat_minor": 5
}
