{
 "cells": [
  {
   "cell_type": "code",
   "execution_count": null,
   "id": "ea53237a-a9f4-4a02-86f5-588b610bbd15",
   "metadata": {},
   "outputs": [],
   "source": [
    "# -*- coding: utf-8\n",
    "# Repórter Brasil (https://ruralometro2022.reporterbrasil.org.br/)\n",
    "# Reinaldo Chaves (@paidatocandeira)\n",
    "# # Procura empresas de deputados federais inscritas em autos de infração do ICMBio"
   ]
  },
  {
   "cell_type": "code",
   "execution_count": null,
   "id": "c14299fb-2fda-467a-9340-78da90bd37c8",
   "metadata": {},
   "outputs": [],
   "source": []
  },
  {
   "cell_type": "code",
   "execution_count": 1,
   "id": "714ccd07-3202-47b1-83e5-a09af784045b",
   "metadata": {},
   "outputs": [
    {
     "name": "stdout",
     "output_type": "stream",
     "text": [
      "PyTables is not installed. No support for HDF output.\n",
      "SQLalchemy is not installed. No support for SQL output.\n"
     ]
    }
   ],
   "source": [
    "import dbf\n",
    "import pandas as pd\n",
    "from dbfread import DBF\n",
    "from simpledbf import Dbf5\n",
    "import unidecode"
   ]
  },
  {
   "cell_type": "code",
   "execution_count": null,
   "id": "b6e70706-381f-4ede-b114-39a2e40a3b4c",
   "metadata": {},
   "outputs": [],
   "source": []
  },
  {
   "cell_type": "code",
   "execution_count": 2,
   "id": "0c92ffb5-e9fb-430c-ada1-6d3393d5a0a1",
   "metadata": {},
   "outputs": [],
   "source": [
    "def f(str):\n",
    "    try:\n",
    "        return (unidecode.unidecode(str))\n",
    "    except:\n",
    "        return (str)"
   ]
  },
  {
   "cell_type": "code",
   "execution_count": null,
   "id": "b2c1964a-1c15-424b-bbbe-8c0427f3faf3",
   "metadata": {},
   "outputs": [],
   "source": []
  },
  {
   "cell_type": "code",
   "execution_count": 3,
   "id": "9e00b230-2e14-4c75-a063-309334f1025a",
   "metadata": {},
   "outputs": [],
   "source": [
    "dbf = Dbf5('originais/Autos_Infracao_Eletronicos_ICMBio_Atualizado_12072021.dbf', codec='ISO8859-1')\n",
    "autos_icmbio = dbf.to_dataframe()\n",
    "autos_icmbio = autos_icmbio[pd.notnull(autos_icmbio['cpf_cnpj'])].copy()\n",
    "def limpeza1(linha):\n",
    "    documento = str(linha[\"cpf_cnpj\"])\n",
    "    documento = documento.strip()\n",
    "    documento = documento.replace('.', '')\n",
    "    documento = documento.replace('-', '')\n",
    "    documento = documento.replace('/', '')\n",
    "    return str(documento)\n",
    "autos_icmbio[\"cpf_cnpj\"] = autos_icmbio.apply(limpeza1, axis=1)\n",
    "# Preenche zeros a esquerda nos documentos\n",
    "def compara1(linha):\n",
    "    documento = str(linha[\"cpf_cnpj\"])\n",
    "    \n",
    "    if len(documento) < 14 and len(documento) >= 12:\n",
    "        conta = 14 - (len(documento))\n",
    "        zero = '0'\n",
    "        zeros = zero * conta\n",
    "        alterado = zeros + documento\n",
    "    elif len(documento) == 14:\n",
    "        alterado = documento\n",
    "    elif len(documento) < 11:\n",
    "        conta = 11 - (len(documento))\n",
    "        zero = '0'\n",
    "        zeros = zero * conta\n",
    "        alterado = zeros + documento\n",
    "    elif len(documento) == 11:\n",
    "        alterado = documento\n",
    "    \n",
    "    return alterado\n",
    "autos_icmbio[\"cpf_cnpj\"] = autos_icmbio.apply(compara1, axis=1)\n",
    "def limpeza2(linha):\n",
    "    documento = str(linha[\"cpf_cnpj\"])\n",
    "    if len(documento) > 11:\n",
    "        return documento[:8]\n",
    "    else:\n",
    "        return \"documento_cpf\"\n",
    "    \n",
    "autos_icmbio['cnpj_raiz'] = autos_icmbio.apply(limpeza2, axis=1)\n",
    "\n",
    "autos_icmbio[\"autuado_semacentos\"] = autos_icmbio[\"autuado\"].str.upper()\n",
    "autos_icmbio[\"autuado_semacentos\"] = autos_icmbio[\"autuado_semacentos\"].apply(f)\n",
    "\n",
    "icmbio_pf = autos_icmbio[(autos_icmbio['cnpj_raiz'] == 'documento_cpf')].copy()\n",
    "icmbio_pj = autos_icmbio[(autos_icmbio['cnpj_raiz'] != 'documento_cpf')].copy()"
   ]
  },
  {
   "cell_type": "code",
   "execution_count": null,
   "id": "dabbaf22-0414-4a36-adc6-e742f612a7e2",
   "metadata": {},
   "outputs": [],
   "source": []
  },
  {
   "cell_type": "code",
   "execution_count": 4,
   "id": "340afa24-9440-4709-aad5-7708f402ebdd",
   "metadata": {},
   "outputs": [],
   "source": [
    "kwargs = {'sep': ',', 'dtype': str, 'encoding': 'utf-8'}\n",
    "empresas_politicos = pd.read_csv(\"resultados/empresas_deputados/empresas_deputados_fev_2022.csv\", **kwargs)"
   ]
  },
  {
   "cell_type": "code",
   "execution_count": null,
   "id": "a39f7624-78ba-4cbb-b13a-661902751bd4",
   "metadata": {},
   "outputs": [],
   "source": []
  },
  {
   "cell_type": "code",
   "execution_count": 5,
   "id": "1f22c768-6bbb-4d70-a8c1-0646d8e847e7",
   "metadata": {},
   "outputs": [],
   "source": [
    "kwargs = {'sep': ',', 'dtype': str, 'encoding': 'utf-8'}\n",
    "empresas_politicos_socios = pd.read_csv(\"resultados/empresas_deputados/todos_socios_empresas_deputados_fev_2022.csv\", **kwargs)"
   ]
  },
  {
   "cell_type": "code",
   "execution_count": null,
   "id": "5a8785f9-8b02-44fc-a37b-3f4d111b4dc2",
   "metadata": {},
   "outputs": [],
   "source": []
  },
  {
   "cell_type": "code",
   "execution_count": 6,
   "id": "45248fbc-5cb5-4e7f-9065-43fc44a60031",
   "metadata": {},
   "outputs": [],
   "source": [
    "# Procura empresas de deputados em autos do ICMBIO"
   ]
  },
  {
   "cell_type": "code",
   "execution_count": 7,
   "id": "eaf75041-1705-4ad7-abfc-09fbba7fbb5d",
   "metadata": {},
   "outputs": [
    {
     "data": {
      "text/plain": [
       "Index(['nome', 'nome_urna', 'politico_id', 'cpf_mascarado', 'cnpj',\n",
       "       'cnpj_basico_x', 'nome_socio', 'cnpj_cpf_socio', 'razao_social',\n",
       "       'nome_fantasia', 'situacao_cadastral', 'cnae_fiscal',\n",
       "       'cnae_fiscal_secundaria', 'uf', 'municipio'],\n",
       "      dtype='object')"
      ]
     },
     "execution_count": 7,
     "metadata": {},
     "output_type": "execute_result"
    }
   ],
   "source": [
    "empresas_politicos.columns"
   ]
  },
  {
   "cell_type": "code",
   "execution_count": 8,
   "id": "b0326863-e4a7-478d-816c-86b7a3b8057c",
   "metadata": {},
   "outputs": [
    {
     "data": {
      "text/plain": [
       "Index(['vw_num_aut', 'numero_ai', 'status', 'tipo', 'embargo', 'autuado',\n",
       "       'cpf_cnpj', 'valor_mult', 'desc_infra', 'tipo_inf', 'data', 'nome_uc',\n",
       "       'cnuc', 'municipio', 'cod_muni', 'uf', 'operacao', 'orgao_emis',\n",
       "       'agente', 'enquadrame', 'cod_acao', 'termo_emb', 'obs', 'erro_auto',\n",
       "       'nr_process', 'julgamento', 'cnpj_raiz', 'autuado_semacentos'],\n",
       "      dtype='object')"
      ]
     },
     "execution_count": 8,
     "metadata": {},
     "output_type": "execute_result"
    }
   ],
   "source": [
    "icmbio_pj.columns"
   ]
  },
  {
   "cell_type": "code",
   "execution_count": 9,
   "id": "fa0fad0b-d8ec-41c6-af10-3e385c387873",
   "metadata": {},
   "outputs": [
    {
     "data": {
      "text/html": [
       "<div>\n",
       "<style scoped>\n",
       "    .dataframe tbody tr th:only-of-type {\n",
       "        vertical-align: middle;\n",
       "    }\n",
       "\n",
       "    .dataframe tbody tr th {\n",
       "        vertical-align: top;\n",
       "    }\n",
       "\n",
       "    .dataframe thead th {\n",
       "        text-align: right;\n",
       "    }\n",
       "</style>\n",
       "<table border=\"1\" class=\"dataframe\">\n",
       "  <thead>\n",
       "    <tr style=\"text-align: right;\">\n",
       "      <th></th>\n",
       "      <th>autuado_semacentos</th>\n",
       "      <th>cpf_cnpj</th>\n",
       "    </tr>\n",
       "  </thead>\n",
       "  <tbody>\n",
       "    <tr>\n",
       "      <th>1</th>\n",
       "      <td>FRANCISCO ALCENIR  RODRIGUES DE SOUZA</td>\n",
       "      <td>31753302000164</td>\n",
       "    </tr>\n",
       "    <tr>\n",
       "      <th>2</th>\n",
       "      <td>CIDADE JARDIM COMERCIO DE MADEIRAS LTDA</td>\n",
       "      <td>22327400000149</td>\n",
       "    </tr>\n",
       "    <tr>\n",
       "      <th>15</th>\n",
       "      <td>LINHAS DE MACAPA! TANSMISDORAS DE ENERGIA LTDA</td>\n",
       "      <td>10234027000100</td>\n",
       "    </tr>\n",
       "    <tr>\n",
       "      <th>19</th>\n",
       "      <td>CERN CONSULT E EMPREE REC NAT LTDA</td>\n",
       "      <td>26026799000189</td>\n",
       "    </tr>\n",
       "    <tr>\n",
       "      <th>34</th>\n",
       "      <td>RED BULL DO BRASIL LTDA.</td>\n",
       "      <td>02946761000166</td>\n",
       "    </tr>\n",
       "    <tr>\n",
       "      <th>...</th>\n",
       "      <td>...</td>\n",
       "      <td>...</td>\n",
       "    </tr>\n",
       "    <tr>\n",
       "      <th>1937</th>\n",
       "      <td>MILGRAN INDUSTRIA E COMARCIO DE GRANITOS LTDA.</td>\n",
       "      <td>07268379000164</td>\n",
       "    </tr>\n",
       "    <tr>\n",
       "      <th>1975</th>\n",
       "      <td>VAC/NIA MARIA RAMALHO NUNES</td>\n",
       "      <td>19318769000180</td>\n",
       "    </tr>\n",
       "    <tr>\n",
       "      <th>1987</th>\n",
       "      <td>PARTNERS PARTICIPAAAES E EMPREENDIMENTOS IMOBI...</td>\n",
       "      <td>08185728000147</td>\n",
       "    </tr>\n",
       "    <tr>\n",
       "      <th>2028</th>\n",
       "      <td>F. CAMPOS PINTO</td>\n",
       "      <td>34032585000143</td>\n",
       "    </tr>\n",
       "    <tr>\n",
       "      <th>2032</th>\n",
       "      <td>R. G. C. PRODUAAES LTDA.</td>\n",
       "      <td>65472029000111</td>\n",
       "    </tr>\n",
       "  </tbody>\n",
       "</table>\n",
       "<p>83 rows × 2 columns</p>\n",
       "</div>"
      ],
      "text/plain": [
       "                                     autuado_semacentos        cpf_cnpj\n",
       "1                 FRANCISCO ALCENIR  RODRIGUES DE SOUZA  31753302000164\n",
       "2               CIDADE JARDIM COMERCIO DE MADEIRAS LTDA  22327400000149\n",
       "15       LINHAS DE MACAPA! TANSMISDORAS DE ENERGIA LTDA  10234027000100\n",
       "19                   CERN CONSULT E EMPREE REC NAT LTDA  26026799000189\n",
       "34                             RED BULL DO BRASIL LTDA.  02946761000166\n",
       "...                                                 ...             ...\n",
       "1937     MILGRAN INDUSTRIA E COMARCIO DE GRANITOS LTDA.  07268379000164\n",
       "1975                        VAC/NIA MARIA RAMALHO NUNES  19318769000180\n",
       "1987  PARTNERS PARTICIPAAAES E EMPREENDIMENTOS IMOBI...  08185728000147\n",
       "2028                                    F. CAMPOS PINTO  34032585000143\n",
       "2032                           R. G. C. PRODUAAES LTDA.  65472029000111\n",
       "\n",
       "[83 rows x 2 columns]"
      ]
     },
     "execution_count": 9,
     "metadata": {},
     "output_type": "execute_result"
    }
   ],
   "source": [
    "icmbio_pj[['autuado_semacentos', 'cpf_cnpj']]"
   ]
  },
  {
   "cell_type": "code",
   "execution_count": null,
   "id": "99d1ab1b-ae22-4b7f-aacb-b5a422b5080b",
   "metadata": {},
   "outputs": [],
   "source": []
  },
  {
   "cell_type": "code",
   "execution_count": 10,
   "id": "68830008-afae-48ea-b96c-53bff495384f",
   "metadata": {},
   "outputs": [],
   "source": [
    "empresas_icmbio = pd.merge(empresas_politicos.drop_duplicates('cnpj_basico_x'), icmbio_pj.drop_duplicates('cnpj_raiz'), left_on='cnpj_basico_x', right_on='cnpj_raiz', how = 'left')"
   ]
  },
  {
   "cell_type": "code",
   "execution_count": 11,
   "id": "7de357dc-8561-45fa-89f0-70e9efa95f76",
   "metadata": {},
   "outputs": [
    {
     "data": {
      "text/plain": [
       "(0, 43)"
      ]
     },
     "execution_count": 11,
     "metadata": {},
     "output_type": "execute_result"
    }
   ],
   "source": [
    "conta = empresas_icmbio[pd.notnull(empresas_icmbio['cpf_cnpj'])].copy()\n",
    "conta.shape"
   ]
  },
  {
   "cell_type": "code",
   "execution_count": null,
   "id": "99903c42-400b-4e3c-9a34-c3e2a3b66c9d",
   "metadata": {},
   "outputs": [],
   "source": []
  },
  {
   "cell_type": "code",
   "execution_count": null,
   "id": "5905a490-64da-4058-b48e-f6d3717ae908",
   "metadata": {},
   "outputs": [],
   "source": []
  },
  {
   "cell_type": "code",
   "execution_count": 33,
   "id": "9bc84d64-faeb-4551-8ae5-3df835ad066a",
   "metadata": {},
   "outputs": [],
   "source": [
    "# Procura sócio de empresas de deputados em autos do ICMBIO"
   ]
  },
  {
   "cell_type": "code",
   "execution_count": 34,
   "id": "dfd8f2dc-9092-449d-9e44-e89681db3d9c",
   "metadata": {},
   "outputs": [
    {
     "data": {
      "text/plain": [
       "Index(['cnpj', 'cnpj_basico_x', 'cnpj_basico', 'identificador_de_socio',\n",
       "       'nome_socio', 'cnpj_cpf_socio', 'qualificacao_socio', 'pais',\n",
       "       'representante_legal', 'nome_representante'],\n",
       "      dtype='object')"
      ]
     },
     "execution_count": 34,
     "metadata": {},
     "output_type": "execute_result"
    }
   ],
   "source": [
    "empresas_politicos_socios.columns"
   ]
  },
  {
   "cell_type": "code",
   "execution_count": 35,
   "id": "230c18f7-b71d-4c94-a4dd-2b2f5d41f84d",
   "metadata": {},
   "outputs": [
    {
     "data": {
      "text/plain": [
       "Index(['vw_num_aut', 'numero_ai', 'status', 'tipo', 'embargo', 'autuado',\n",
       "       'cpf_cnpj', 'valor_mult', 'desc_infra', 'tipo_inf', 'data', 'nome_uc',\n",
       "       'cnuc', 'municipio', 'cod_muni', 'uf', 'operacao', 'orgao_emis',\n",
       "       'agente', 'enquadrame', 'cod_acao', 'termo_emb', 'obs', 'erro_auto',\n",
       "       'nr_process', 'julgamento', 'cnpj_raiz', 'autuado_semacentos'],\n",
       "      dtype='object')"
      ]
     },
     "execution_count": 35,
     "metadata": {},
     "output_type": "execute_result"
    }
   ],
   "source": [
    "icmbio_pf.columns"
   ]
  },
  {
   "cell_type": "code",
   "execution_count": 36,
   "id": "d275c08c-978c-4452-a7df-542e8a686da4",
   "metadata": {},
   "outputs": [],
   "source": [
    "icmbio_pf['cpf_mascarado']= '***'+icmbio_pf['cpf_cnpj'].str[3:9]+'**'"
   ]
  },
  {
   "cell_type": "code",
   "execution_count": 37,
   "id": "370bd4cd-6cd3-44c3-b64b-6c13d04f03ac",
   "metadata": {},
   "outputs": [
    {
     "data": {
      "text/html": [
       "<div>\n",
       "<style scoped>\n",
       "    .dataframe tbody tr th:only-of-type {\n",
       "        vertical-align: middle;\n",
       "    }\n",
       "\n",
       "    .dataframe tbody tr th {\n",
       "        vertical-align: top;\n",
       "    }\n",
       "\n",
       "    .dataframe thead th {\n",
       "        text-align: right;\n",
       "    }\n",
       "</style>\n",
       "<table border=\"1\" class=\"dataframe\">\n",
       "  <thead>\n",
       "    <tr style=\"text-align: right;\">\n",
       "      <th></th>\n",
       "      <th>autuado_semacentos</th>\n",
       "      <th>cpf_mascarado</th>\n",
       "    </tr>\n",
       "  </thead>\n",
       "  <tbody>\n",
       "    <tr>\n",
       "      <th>0</th>\n",
       "      <td>LUIZ OSCAR MARQUES FERREIRA</td>\n",
       "      <td>***893881**</td>\n",
       "    </tr>\n",
       "    <tr>\n",
       "      <th>3</th>\n",
       "      <td>LUIZ FELIPE GRAVA DO VAL NASCIMENTO</td>\n",
       "      <td>***137988**</td>\n",
       "    </tr>\n",
       "    <tr>\n",
       "      <th>4</th>\n",
       "      <td>VILSON PREDOLIM</td>\n",
       "      <td>***018528**</td>\n",
       "    </tr>\n",
       "    <tr>\n",
       "      <th>5</th>\n",
       "      <td>MEYRIANE DE SOUSA RODRIGUES</td>\n",
       "      <td>***609953**</td>\n",
       "    </tr>\n",
       "    <tr>\n",
       "      <th>6</th>\n",
       "      <td>LUZINETE LIMA ASSUNCAO</td>\n",
       "      <td>***789163**</td>\n",
       "    </tr>\n",
       "    <tr>\n",
       "      <th>...</th>\n",
       "      <td>...</td>\n",
       "      <td>...</td>\n",
       "    </tr>\n",
       "    <tr>\n",
       "      <th>2033</th>\n",
       "      <td>OSMAR LEANDRO DA SILVA</td>\n",
       "      <td>***901482**</td>\n",
       "    </tr>\n",
       "    <tr>\n",
       "      <th>2034</th>\n",
       "      <td>CLODOMIR CEOLATTO</td>\n",
       "      <td>***846981**</td>\n",
       "    </tr>\n",
       "    <tr>\n",
       "      <th>2035</th>\n",
       "      <td>INACIO LIBER DA CRUZ</td>\n",
       "      <td>***128262**</td>\n",
       "    </tr>\n",
       "    <tr>\n",
       "      <th>2036</th>\n",
       "      <td>LUIZ OTA!VIO AFFONSO CHRISTO</td>\n",
       "      <td>***133917**</td>\n",
       "    </tr>\n",
       "    <tr>\n",
       "      <th>2037</th>\n",
       "      <td>ADAILTON CHAGAS PEREIRA</td>\n",
       "      <td>***245052**</td>\n",
       "    </tr>\n",
       "  </tbody>\n",
       "</table>\n",
       "<p>1799 rows × 2 columns</p>\n",
       "</div>"
      ],
      "text/plain": [
       "                       autuado_semacentos cpf_mascarado\n",
       "0             LUIZ OSCAR MARQUES FERREIRA   ***893881**\n",
       "3     LUIZ FELIPE GRAVA DO VAL NASCIMENTO   ***137988**\n",
       "4                         VILSON PREDOLIM   ***018528**\n",
       "5             MEYRIANE DE SOUSA RODRIGUES   ***609953**\n",
       "6                  LUZINETE LIMA ASSUNCAO   ***789163**\n",
       "...                                   ...           ...\n",
       "2033               OSMAR LEANDRO DA SILVA   ***901482**\n",
       "2034                    CLODOMIR CEOLATTO   ***846981**\n",
       "2035                 INACIO LIBER DA CRUZ   ***128262**\n",
       "2036         LUIZ OTA!VIO AFFONSO CHRISTO   ***133917**\n",
       "2037              ADAILTON CHAGAS PEREIRA   ***245052**\n",
       "\n",
       "[1799 rows x 2 columns]"
      ]
     },
     "execution_count": 37,
     "metadata": {},
     "output_type": "execute_result"
    }
   ],
   "source": [
    "icmbio_pf[['autuado_semacentos', 'cpf_mascarado']]"
   ]
  },
  {
   "cell_type": "code",
   "execution_count": 38,
   "id": "a4f84d1c-bdfc-46bc-a8f7-bce4a11f9881",
   "metadata": {},
   "outputs": [],
   "source": [
    "socios_icmbio = pd.merge(empresas_politicos_socios.drop_duplicates('cnpj_cpf_socio'), icmbio_pf.drop_duplicates('cpf_cnpj'), left_on=['cnpj_cpf_socio', 'nome_socio'], right_on=['cpf_mascarado','autuado_semacentos'], how = 'left')"
   ]
  },
  {
   "cell_type": "code",
   "execution_count": 39,
   "id": "22ce6074-70f8-466f-a73e-e902126cccf7",
   "metadata": {},
   "outputs": [
    {
     "data": {
      "text/plain": [
       "(0, 39)"
      ]
     },
     "execution_count": 39,
     "metadata": {},
     "output_type": "execute_result"
    }
   ],
   "source": [
    "conta = socios_icmbio[pd.notnull(socios_icmbio['cpf_cnpj'])].copy()\n",
    "conta.shape"
   ]
  },
  {
   "cell_type": "code",
   "execution_count": null,
   "id": "d55d0232-8f21-411e-824e-db0ea3eaa3a4",
   "metadata": {},
   "outputs": [],
   "source": []
  },
  {
   "cell_type": "code",
   "execution_count": null,
   "id": "a779a1e6-7b30-4c85-874f-c28fec118c2b",
   "metadata": {},
   "outputs": [],
   "source": []
  }
 ],
 "metadata": {
  "kernelspec": {
   "display_name": "Python 3",
   "language": "python",
   "name": "python3"
  },
  "language_info": {
   "codemirror_mode": {
    "name": "ipython",
    "version": 3
   },
   "file_extension": ".py",
   "mimetype": "text/x-python",
   "name": "python",
   "nbconvert_exporter": "python",
   "pygments_lexer": "ipython3",
   "version": "3.8.2"
  }
 },
 "nbformat": 4,
 "nbformat_minor": 5
}
