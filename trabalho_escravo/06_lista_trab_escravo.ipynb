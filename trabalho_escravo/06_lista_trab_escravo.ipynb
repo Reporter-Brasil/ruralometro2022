{
 "cells": [
  {
   "cell_type": "code",
   "execution_count": null,
   "id": "d734cfef-fff2-4f3b-9604-2aa1c9daab0a",
   "metadata": {},
   "outputs": [],
   "source": [
    "# -*- coding: utf-8\n",
    "# Repórter Brasil (https://ruralometro2022.reporterbrasil.org.br/)\n",
    "# Reinaldo Chaves (@paidatocandeira)\n",
    "# Faz o cruzamento de deputados e doações - para saber deputados que podem estar no Cadastro de Empregadores que tenham submetido trabalhadores a condições análogas à de escravo ou doadores que estão na lista\n",
    "# Dados - https://www.gov.br/trabalho-e-previdencia/pt-br/composicao/orgaos-especificos/secretaria-de-trabalho/inspecao/areas-de-atuacao/cadastro_de_empregadores.pdf"
   ]
  },
  {
   "cell_type": "code",
   "execution_count": null,
   "id": "7aed8939-934d-471a-a658-2075140df4a0",
   "metadata": {},
   "outputs": [],
   "source": []
  },
  {
   "cell_type": "code",
   "execution_count": 1,
   "id": "34269414-4867-412f-9e14-3f91050e965a",
   "metadata": {},
   "outputs": [],
   "source": [
    "import pandas as pd\n",
    "import unidecode"
   ]
  },
  {
   "cell_type": "code",
   "execution_count": null,
   "id": "ab76e4eb-9a9d-4dc6-bc2c-0029dcbe1f27",
   "metadata": {},
   "outputs": [],
   "source": []
  },
  {
   "cell_type": "code",
   "execution_count": 2,
   "id": "5ff2c838-f81a-4414-bcb6-d5a2723a2af0",
   "metadata": {},
   "outputs": [],
   "source": [
    "def f(str):\n",
    "    try:\n",
    "        return (unidecode.unidecode(str))\n",
    "    except:\n",
    "        return (str)"
   ]
  },
  {
   "cell_type": "code",
   "execution_count": null,
   "id": "a0026741-2a93-495b-a61e-47c8749ca106",
   "metadata": {},
   "outputs": [],
   "source": []
  },
  {
   "cell_type": "code",
   "execution_count": 3,
   "id": "f671614a-d11f-45dd-98ac-2e7f405d2fc6",
   "metadata": {},
   "outputs": [],
   "source": [
    "escravo_fev_2022 = pd.read_excel('originais/lista_trabalho_escravo_fev_2022.xlsx', sheet_name = 'Planilha1', dtype = 'str')"
   ]
  },
  {
   "cell_type": "code",
   "execution_count": 4,
   "id": "affce732-1b44-476c-8070-336f4ab617b5",
   "metadata": {},
   "outputs": [
    {
     "name": "stdout",
     "output_type": "stream",
     "text": [
      "<class 'pandas.core.frame.DataFrame'>\n",
      "RangeIndex: 78 entries, 0 to 77\n",
      "Data columns (total 10 columns):\n",
      " #   Column                                                   Non-Null Count  Dtype \n",
      "---  ------                                                   --------------  ----- \n",
      " 0   ID                                                       78 non-null     object\n",
      " 1   ano_acao_fiscal                                          78 non-null     object\n",
      " 2   uf                                                       78 non-null     object\n",
      " 3   empregador                                               78 non-null     object\n",
      " 4   cnpj_cpf                                                 78 non-null     object\n",
      " 5   estabelecimento                                          78 non-null     object\n",
      " 6   trabalhadores_envolvidos                                 78 non-null     object\n",
      " 7   cnae                                                     78 non-null     object\n",
      " 8   decisao_administrativa_de_procedencia_irrecorribilidade  78 non-null     object\n",
      " 9   inclusao_no_cadastro_de_empregadores                     78 non-null     object\n",
      "dtypes: object(10)\n",
      "memory usage: 6.2+ KB\n"
     ]
    }
   ],
   "source": [
    "escravo_fev_2022.info()"
   ]
  },
  {
   "cell_type": "code",
   "execution_count": 5,
   "id": "94aa72a0-7527-4714-b2f5-38b55a77eabb",
   "metadata": {},
   "outputs": [
    {
     "data": {
      "text/html": [
       "<div>\n",
       "<style scoped>\n",
       "    .dataframe tbody tr th:only-of-type {\n",
       "        vertical-align: middle;\n",
       "    }\n",
       "\n",
       "    .dataframe tbody tr th {\n",
       "        vertical-align: top;\n",
       "    }\n",
       "\n",
       "    .dataframe thead th {\n",
       "        text-align: right;\n",
       "    }\n",
       "</style>\n",
       "<table border=\"1\" class=\"dataframe\">\n",
       "  <thead>\n",
       "    <tr style=\"text-align: right;\">\n",
       "      <th></th>\n",
       "      <th>ID</th>\n",
       "      <th>ano_acao_fiscal</th>\n",
       "      <th>uf</th>\n",
       "      <th>empregador</th>\n",
       "      <th>cnpj_cpf</th>\n",
       "      <th>estabelecimento</th>\n",
       "      <th>trabalhadores_envolvidos</th>\n",
       "      <th>cnae</th>\n",
       "      <th>decisao_administrativa_de_procedencia_irrecorribilidade</th>\n",
       "      <th>inclusao_no_cadastro_de_empregadores</th>\n",
       "    </tr>\n",
       "  </thead>\n",
       "  <tbody>\n",
       "    <tr>\n",
       "      <th>0</th>\n",
       "      <td>1</td>\n",
       "      <td>2019</td>\n",
       "      <td>PB</td>\n",
       "      <td>A I  Maciel Mineração</td>\n",
       "      <td>12.985.350/0001-33</td>\n",
       "      <td>Sítio Olho D'Água da Viração, Zona Rural, Salg...</td>\n",
       "      <td>12</td>\n",
       "      <td>2399-1/99</td>\n",
       "      <td>2019-12-02 00:00:00</td>\n",
       "      <td>2020-10-05 00:00:00</td>\n",
       "    </tr>\n",
       "    <tr>\n",
       "      <th>1</th>\n",
       "      <td>2</td>\n",
       "      <td>2019</td>\n",
       "      <td>MA</td>\n",
       "      <td>A. Richard Tavares Lima</td>\n",
       "      <td>08.229.828/0001-28</td>\n",
       "      <td>Fazenda Thamia, BR-222, nº 20, Km 10, Povoado ...</td>\n",
       "      <td>19</td>\n",
       "      <td>0151-2/01</td>\n",
       "      <td>2019-11-28 00:00:00</td>\n",
       "      <td>2020-04-03 00:00:00</td>\n",
       "    </tr>\n",
       "    <tr>\n",
       "      <th>2</th>\n",
       "      <td>3</td>\n",
       "      <td>2018</td>\n",
       "      <td>DF</td>\n",
       "      <td>Acacio Toratti</td>\n",
       "      <td>068.504.158-16</td>\n",
       "      <td>Fazenda Nova Esperança/Nova Corrente/Gralha Az...</td>\n",
       "      <td>87</td>\n",
       "      <td>0134-2/00</td>\n",
       "      <td>2019-10-23 00:00:00</td>\n",
       "      <td>2020-04-03 00:00:00</td>\n",
       "    </tr>\n",
       "    <tr>\n",
       "      <th>3</th>\n",
       "      <td>4</td>\n",
       "      <td>2018</td>\n",
       "      <td>BA</td>\n",
       "      <td>Adilson Bona Vieira</td>\n",
       "      <td>088.062.627-50</td>\n",
       "      <td>Fazenda Dois Rios e Dois Rios I - Rodovia BA-2...</td>\n",
       "      <td>39</td>\n",
       "      <td>0134-2/00</td>\n",
       "      <td>2020-02-27 00:00:00</td>\n",
       "      <td>2021-04-05 00:00:00</td>\n",
       "    </tr>\n",
       "    <tr>\n",
       "      <th>4</th>\n",
       "      <td>5</td>\n",
       "      <td>2019</td>\n",
       "      <td>MG</td>\n",
       "      <td>Agrícola Minas Norte Ltda</td>\n",
       "      <td>02.387.202/0001-63</td>\n",
       "      <td>Fazenda Agricola Minas Norte, Rod. BR-365, km ...</td>\n",
       "      <td>46</td>\n",
       "      <td>1199-0/05</td>\n",
       "      <td>2021-01-08 00:00:00</td>\n",
       "      <td>2021-10-05 00:00:00</td>\n",
       "    </tr>\n",
       "  </tbody>\n",
       "</table>\n",
       "</div>"
      ],
      "text/plain": [
       "  ID ano_acao_fiscal  uf                 empregador            cnpj_cpf  \\\n",
       "0  1            2019  PB      A I  Maciel Mineração  12.985.350/0001-33   \n",
       "1  2            2019  MA    A. Richard Tavares Lima  08.229.828/0001-28   \n",
       "2  3            2018  DF             Acacio Toratti      068.504.158-16   \n",
       "3  4            2018  BA        Adilson Bona Vieira      088.062.627-50   \n",
       "4  5            2019  MG  Agrícola Minas Norte Ltda  02.387.202/0001-63   \n",
       "\n",
       "                                     estabelecimento trabalhadores_envolvidos  \\\n",
       "0  Sítio Olho D'Água da Viração, Zona Rural, Salg...                       12   \n",
       "1  Fazenda Thamia, BR-222, nº 20, Km 10, Povoado ...                       19   \n",
       "2  Fazenda Nova Esperança/Nova Corrente/Gralha Az...                       87   \n",
       "3  Fazenda Dois Rios e Dois Rios I - Rodovia BA-2...                       39   \n",
       "4  Fazenda Agricola Minas Norte, Rod. BR-365, km ...                       46   \n",
       "\n",
       "        cnae decisao_administrativa_de_procedencia_irrecorribilidade  \\\n",
       "0  2399-1/99                                2019-12-02 00:00:00        \n",
       "1  0151-2/01                                2019-11-28 00:00:00        \n",
       "2  0134-2/00                                2019-10-23 00:00:00        \n",
       "3  0134-2/00                                2020-02-27 00:00:00        \n",
       "4  1199-0/05                                2021-01-08 00:00:00        \n",
       "\n",
       "  inclusao_no_cadastro_de_empregadores  \n",
       "0                  2020-10-05 00:00:00  \n",
       "1                  2020-04-03 00:00:00  \n",
       "2                  2020-04-03 00:00:00  \n",
       "3                  2021-04-05 00:00:00  \n",
       "4                  2021-10-05 00:00:00  "
      ]
     },
     "execution_count": 5,
     "metadata": {},
     "output_type": "execute_result"
    }
   ],
   "source": [
    "escravo_fev_2022.head()"
   ]
  },
  {
   "cell_type": "code",
   "execution_count": null,
   "id": "0536dece-d8ca-47ed-9db9-9ae60e32476b",
   "metadata": {},
   "outputs": [],
   "source": []
  },
  {
   "cell_type": "code",
   "execution_count": 6,
   "id": "0bbcdfeb-3754-4254-adb7-918fa2d7cfba",
   "metadata": {},
   "outputs": [],
   "source": [
    "def limpeza1(linha):\n",
    "    documento = str(linha[\"cnpj_cpf\"])\n",
    "    documento = documento.strip()\n",
    "    documento = documento.replace('.', '')\n",
    "    documento = documento.replace('-', '')\n",
    "    documento = documento.replace('/', '')\n",
    "    return str(documento)"
   ]
  },
  {
   "cell_type": "code",
   "execution_count": 7,
   "id": "acdc19b1-04c7-4739-9e40-ec15b68cde1e",
   "metadata": {},
   "outputs": [],
   "source": [
    "escravo_fev_2022[\"cnpj_cpf\"] = escravo_fev_2022.apply(limpeza1, axis=1)"
   ]
  },
  {
   "cell_type": "code",
   "execution_count": null,
   "id": "9801c8c6-91b7-49b8-879a-50444536d87d",
   "metadata": {},
   "outputs": [],
   "source": []
  },
  {
   "cell_type": "code",
   "execution_count": 8,
   "id": "e910e4c6-21f3-4673-a994-cd51315611dd",
   "metadata": {},
   "outputs": [],
   "source": [
    "# Preenche zeros a esquerda nos documentos\n",
    "def compara1(linha):\n",
    "    documento = str(linha[\"cnpj_cpf\"])\n",
    "    \n",
    "    if len(documento) < 14 and len(documento) >= 12:\n",
    "        conta = 14 - (len(documento))\n",
    "        zero = '0'\n",
    "        zeros = zero * conta\n",
    "        alterado = zeros + documento\n",
    "    elif len(documento) == 14:\n",
    "        alterado = documento\n",
    "    elif len(documento) < 11:\n",
    "        conta = 11 - (len(documento))\n",
    "        zero = '0'\n",
    "        zeros = zero * conta\n",
    "        alterado = zeros + documento\n",
    "    elif len(documento) == 11:\n",
    "        alterado = documento\n",
    "    \n",
    "    return alterado"
   ]
  },
  {
   "cell_type": "code",
   "execution_count": 9,
   "id": "c89a8591-6770-4a46-bd52-58c05fdba56e",
   "metadata": {},
   "outputs": [],
   "source": [
    "escravo_fev_2022[\"cnpj_cpf\"] = escravo_fev_2022.apply(compara1, axis=1)"
   ]
  },
  {
   "cell_type": "code",
   "execution_count": null,
   "id": "c4ba9c25-904d-4108-9aa6-e0d65b61f69c",
   "metadata": {},
   "outputs": [],
   "source": []
  },
  {
   "cell_type": "code",
   "execution_count": 10,
   "id": "d64a2262-3c82-43ff-aebb-521ebcb8eb53",
   "metadata": {},
   "outputs": [],
   "source": [
    "def limpeza2(linha):\n",
    "    documento = str(linha[\"cnpj_cpf\"])\n",
    "    if len(documento) > 11:\n",
    "        return documento[:8]\n",
    "    else:\n",
    "        return \"documento_cpf\"\n",
    "\n",
    "escravo_fev_2022['cnpj_raiz'] = escravo_fev_2022.apply(limpeza2, axis=1)"
   ]
  },
  {
   "cell_type": "code",
   "execution_count": null,
   "id": "47ca2cdc-e0b1-4f3d-8153-a93d1dfd7838",
   "metadata": {},
   "outputs": [],
   "source": []
  },
  {
   "cell_type": "code",
   "execution_count": 11,
   "id": "617c078c-1a96-4956-aea5-e6afc1bce5e9",
   "metadata": {},
   "outputs": [
    {
     "data": {
      "text/html": [
       "<div>\n",
       "<style scoped>\n",
       "    .dataframe tbody tr th:only-of-type {\n",
       "        vertical-align: middle;\n",
       "    }\n",
       "\n",
       "    .dataframe tbody tr th {\n",
       "        vertical-align: top;\n",
       "    }\n",
       "\n",
       "    .dataframe thead th {\n",
       "        text-align: right;\n",
       "    }\n",
       "</style>\n",
       "<table border=\"1\" class=\"dataframe\">\n",
       "  <thead>\n",
       "    <tr style=\"text-align: right;\">\n",
       "      <th></th>\n",
       "      <th>cnpj_raiz</th>\n",
       "      <th>cnpj_cpf</th>\n",
       "    </tr>\n",
       "  </thead>\n",
       "  <tbody>\n",
       "    <tr>\n",
       "      <th>30</th>\n",
       "      <td>documento_cpf</td>\n",
       "      <td>03379915963</td>\n",
       "    </tr>\n",
       "    <tr>\n",
       "      <th>36</th>\n",
       "      <td>documento_cpf</td>\n",
       "      <td>73763411291</td>\n",
       "    </tr>\n",
       "    <tr>\n",
       "      <th>16</th>\n",
       "      <td>28645167</td>\n",
       "      <td>28645167000129</td>\n",
       "    </tr>\n",
       "    <tr>\n",
       "      <th>7</th>\n",
       "      <td>documento_cpf</td>\n",
       "      <td>09511113100</td>\n",
       "    </tr>\n",
       "    <tr>\n",
       "      <th>35</th>\n",
       "      <td>27343207</td>\n",
       "      <td>27343207000115</td>\n",
       "    </tr>\n",
       "    <tr>\n",
       "      <th>31</th>\n",
       "      <td>17696274</td>\n",
       "      <td>17696274000160</td>\n",
       "    </tr>\n",
       "    <tr>\n",
       "      <th>12</th>\n",
       "      <td>documento_cpf</td>\n",
       "      <td>48317829200</td>\n",
       "    </tr>\n",
       "    <tr>\n",
       "      <th>4</th>\n",
       "      <td>02387202</td>\n",
       "      <td>02387202000163</td>\n",
       "    </tr>\n",
       "    <tr>\n",
       "      <th>20</th>\n",
       "      <td>documento_cpf</td>\n",
       "      <td>36335576600</td>\n",
       "    </tr>\n",
       "    <tr>\n",
       "      <th>69</th>\n",
       "      <td>documento_cpf</td>\n",
       "      <td>06946100204</td>\n",
       "    </tr>\n",
       "  </tbody>\n",
       "</table>\n",
       "</div>"
      ],
      "text/plain": [
       "        cnpj_raiz        cnpj_cpf\n",
       "30  documento_cpf     03379915963\n",
       "36  documento_cpf     73763411291\n",
       "16       28645167  28645167000129\n",
       "7   documento_cpf     09511113100\n",
       "35       27343207  27343207000115\n",
       "31       17696274  17696274000160\n",
       "12  documento_cpf     48317829200\n",
       "4        02387202  02387202000163\n",
       "20  documento_cpf     36335576600\n",
       "69  documento_cpf     06946100204"
      ]
     },
     "execution_count": 11,
     "metadata": {},
     "output_type": "execute_result"
    }
   ],
   "source": [
    "escravo_fev_2022[['cnpj_raiz', 'cnpj_cpf']].sample(10)"
   ]
  },
  {
   "cell_type": "code",
   "execution_count": null,
   "id": "3597c0d4-54f9-43eb-8005-16bf42c281c4",
   "metadata": {},
   "outputs": [],
   "source": []
  },
  {
   "cell_type": "code",
   "execution_count": 12,
   "id": "8e3a2008-f1ba-43c0-b35c-f8a418b1aa07",
   "metadata": {},
   "outputs": [],
   "source": [
    "escravo_fev_2022_pf = escravo_fev_2022[(escravo_fev_2022['cnpj_raiz'] == 'documento_cpf')]\n",
    "escravo_fev_2022_pj = escravo_fev_2022[(escravo_fev_2022['cnpj_raiz'] != 'documento_cpf')]"
   ]
  },
  {
   "cell_type": "code",
   "execution_count": 13,
   "id": "752cca12-a983-4e27-a031-49dd39da5421",
   "metadata": {},
   "outputs": [
    {
     "data": {
      "text/html": [
       "<div>\n",
       "<style scoped>\n",
       "    .dataframe tbody tr th:only-of-type {\n",
       "        vertical-align: middle;\n",
       "    }\n",
       "\n",
       "    .dataframe tbody tr th {\n",
       "        vertical-align: top;\n",
       "    }\n",
       "\n",
       "    .dataframe thead th {\n",
       "        text-align: right;\n",
       "    }\n",
       "</style>\n",
       "<table border=\"1\" class=\"dataframe\">\n",
       "  <thead>\n",
       "    <tr style=\"text-align: right;\">\n",
       "      <th></th>\n",
       "      <th>cnpj_raiz</th>\n",
       "      <th>cnpj_cpf</th>\n",
       "    </tr>\n",
       "  </thead>\n",
       "  <tbody>\n",
       "    <tr>\n",
       "      <th>39</th>\n",
       "      <td>documento_cpf</td>\n",
       "      <td>09715911803</td>\n",
       "    </tr>\n",
       "    <tr>\n",
       "      <th>53</th>\n",
       "      <td>documento_cpf</td>\n",
       "      <td>87606348120</td>\n",
       "    </tr>\n",
       "    <tr>\n",
       "      <th>3</th>\n",
       "      <td>documento_cpf</td>\n",
       "      <td>08806262750</td>\n",
       "    </tr>\n",
       "    <tr>\n",
       "      <th>58</th>\n",
       "      <td>documento_cpf</td>\n",
       "      <td>02655047672</td>\n",
       "    </tr>\n",
       "    <tr>\n",
       "      <th>36</th>\n",
       "      <td>documento_cpf</td>\n",
       "      <td>73763411291</td>\n",
       "    </tr>\n",
       "    <tr>\n",
       "      <th>69</th>\n",
       "      <td>documento_cpf</td>\n",
       "      <td>06946100204</td>\n",
       "    </tr>\n",
       "    <tr>\n",
       "      <th>26</th>\n",
       "      <td>documento_cpf</td>\n",
       "      <td>03220391850</td>\n",
       "    </tr>\n",
       "    <tr>\n",
       "      <th>2</th>\n",
       "      <td>documento_cpf</td>\n",
       "      <td>06850415816</td>\n",
       "    </tr>\n",
       "    <tr>\n",
       "      <th>49</th>\n",
       "      <td>documento_cpf</td>\n",
       "      <td>37634135100</td>\n",
       "    </tr>\n",
       "    <tr>\n",
       "      <th>41</th>\n",
       "      <td>documento_cpf</td>\n",
       "      <td>82545340634</td>\n",
       "    </tr>\n",
       "  </tbody>\n",
       "</table>\n",
       "</div>"
      ],
      "text/plain": [
       "        cnpj_raiz     cnpj_cpf\n",
       "39  documento_cpf  09715911803\n",
       "53  documento_cpf  87606348120\n",
       "3   documento_cpf  08806262750\n",
       "58  documento_cpf  02655047672\n",
       "36  documento_cpf  73763411291\n",
       "69  documento_cpf  06946100204\n",
       "26  documento_cpf  03220391850\n",
       "2   documento_cpf  06850415816\n",
       "49  documento_cpf  37634135100\n",
       "41  documento_cpf  82545340634"
      ]
     },
     "execution_count": 13,
     "metadata": {},
     "output_type": "execute_result"
    }
   ],
   "source": [
    "escravo_fev_2022_pf[['cnpj_raiz', 'cnpj_cpf']].sample(10)"
   ]
  },
  {
   "cell_type": "code",
   "execution_count": null,
   "id": "5f3a9398-6cdd-44a1-b8d2-0bd837b0dc08",
   "metadata": {},
   "outputs": [],
   "source": []
  },
  {
   "cell_type": "code",
   "execution_count": 14,
   "id": "255cfe6c-ce9d-47e6-807d-2d59e2af0e78",
   "metadata": {},
   "outputs": [],
   "source": [
    "escravo_fev_2022_copia = escravo_fev_2022.copy()"
   ]
  },
  {
   "cell_type": "code",
   "execution_count": 15,
   "id": "567d8e2c-815e-43ee-bfa2-7f9431e17932",
   "metadata": {},
   "outputs": [
    {
     "data": {
      "text/plain": [
       "Index(['ID', 'ano_acao_fiscal', 'uf', 'empregador', 'cnpj_cpf',\n",
       "       'estabelecimento', 'trabalhadores_envolvidos', 'cnae',\n",
       "       'decisao_administrativa_de_procedencia_irrecorribilidade',\n",
       "       'inclusao_no_cadastro_de_empregadores', 'cnpj_raiz'],\n",
       "      dtype='object')"
      ]
     },
     "execution_count": 15,
     "metadata": {},
     "output_type": "execute_result"
    }
   ],
   "source": [
    "escravo_fev_2022_copia.columns"
   ]
  },
  {
   "cell_type": "code",
   "execution_count": null,
   "id": "18172e32-584b-45d9-9cdd-44c9f7e3848d",
   "metadata": {},
   "outputs": [],
   "source": []
  },
  {
   "cell_type": "code",
   "execution_count": 16,
   "id": "7e9b5fb8-da95-4fd1-b6e6-cc7a1d444eb7",
   "metadata": {},
   "outputs": [],
   "source": [
    "escravo_fev_2022_copia.rename(columns = {'decisao_administrativa_de_procedencia_irrecorribilidade':'data_administrativa'},inplace = True)\n",
    "escravo_fev_2022_copia.rename(columns = {'inclusao_no_cadastro_de_empregadores':'data_cadastro'},inplace = True)\n",
    "escravo_fev_2022_copia.rename(columns = {'empregador':'entidade_nome'},inplace = True)\n",
    "escravo_fev_2022_copia.rename(columns = {'uf':'estado_id'},inplace = True)\n",
    "escravo_fev_2022_copia.rename(columns = {'estabelecimento':'entidade_descricao'},inplace = True)\n",
    "escravo_fev_2022_copia.rename(columns = {'cnpj_cpf':'entidade_id'},inplace = True)"
   ]
  },
  {
   "cell_type": "code",
   "execution_count": null,
   "id": "9f564584-e3fd-4e4b-ad43-d33423629013",
   "metadata": {},
   "outputs": [],
   "source": []
  },
  {
   "cell_type": "code",
   "execution_count": 17,
   "id": "57354151-fa8d-4e86-a91a-24c680d32cbe",
   "metadata": {},
   "outputs": [],
   "source": [
    "escravo_fev_2022_copia = escravo_fev_2022_copia[['entidade_id', 'entidade_nome', 'entidade_descricao', 'estado_id', 'data_administrativa', 'data_cadastro']]"
   ]
  },
  {
   "cell_type": "code",
   "execution_count": 33,
   "id": "b4d2a115-de76-4d5f-9e18-0e4b328cbf80",
   "metadata": {},
   "outputs": [],
   "source": [
    "escravo_fev_2022_copia.to_csv('resultados/autos_mte/lista_trabalho_escravo_fev_2022.csv',index=False)"
   ]
  },
  {
   "cell_type": "code",
   "execution_count": 34,
   "id": "2cafd004-ed34-4038-9f86-f29ab9846d97",
   "metadata": {},
   "outputs": [],
   "source": [
    "escravo_fev_2022_copia.to_excel('resultados/autos_mte/lista_trabalho_escravo_fev_2022_todas_colunas.xlsx',sheet_name='Sheet1',index=False)"
   ]
  },
  {
   "cell_type": "code",
   "execution_count": null,
   "id": "12ec058d-a144-4985-a624-6a4ba47f7a1b",
   "metadata": {},
   "outputs": [],
   "source": []
  },
  {
   "cell_type": "code",
   "execution_count": null,
   "id": "19a1e287-ecf5-406d-997f-121698296c8b",
   "metadata": {},
   "outputs": [],
   "source": []
  },
  {
   "cell_type": "code",
   "execution_count": null,
   "id": "98519f7d-6433-4209-ae59-a690e6e54fbd",
   "metadata": {},
   "outputs": [],
   "source": []
  },
  {
   "cell_type": "markdown",
   "id": "d4651227-a9f8-43d8-a98f-a111cde64497",
   "metadata": {},
   "source": [
    "### Doações"
   ]
  },
  {
   "cell_type": "code",
   "execution_count": 18,
   "id": "fcfc070f-f6e4-4a3a-91ec-627a7aadc578",
   "metadata": {},
   "outputs": [],
   "source": [
    "kwargs = {'sep': ',', 'dtype': str, 'encoding': 'utf-8'}\n",
    "doacoes_2018 = pd.read_csv(\"resultados/doacoes/doacoes_geral_politicos_2018.csv\", **kwargs)"
   ]
  },
  {
   "cell_type": "code",
   "execution_count": 19,
   "id": "67ae0fa5-6a19-4f05-aec7-be107cdc87e0",
   "metadata": {},
   "outputs": [],
   "source": [
    "def limpeza3(linha):\n",
    "    documento = str(linha[\"NR_CPF_CNPJ_DOADOR\"])\n",
    "    if len(documento) > 11:\n",
    "        return documento[:8]\n",
    "    else:\n",
    "        return \"documento_cpf\"\n",
    "\n",
    "doacoes_2018['NR_CPF_CNPJ_DOADOR_raiz'] = doacoes_2018.apply(limpeza3, axis=1)"
   ]
  },
  {
   "cell_type": "code",
   "execution_count": null,
   "id": "c7cb79c0-da6b-4281-a06e-96e9958359cf",
   "metadata": {},
   "outputs": [],
   "source": []
  },
  {
   "cell_type": "code",
   "execution_count": 20,
   "id": "3ebceafa-b709-454a-b607-48ed0fbe4db1",
   "metadata": {},
   "outputs": [],
   "source": [
    "doacoes_2018_pf = doacoes_2018[(doacoes_2018['NR_CPF_CNPJ_DOADOR_raiz'] == 'documento_cpf')]\n",
    "doacoes_2018_pj = doacoes_2018[(doacoes_2018['NR_CPF_CNPJ_DOADOR_raiz'] != 'documento_cpf')]"
   ]
  },
  {
   "cell_type": "code",
   "execution_count": null,
   "id": "ff9d852e-4112-4b56-8561-3a25e50c7148",
   "metadata": {},
   "outputs": [],
   "source": []
  },
  {
   "cell_type": "code",
   "execution_count": 21,
   "id": "eabb0b41-6757-4ba2-a1b8-edbdc8a8e662",
   "metadata": {},
   "outputs": [],
   "source": [
    "doacoes_pj_escravo = pd.merge(doacoes_2018, escravo_fev_2022_pj.drop_duplicates('cnpj_raiz'), left_on='NR_CPF_CNPJ_DOADOR_raiz', right_on='cnpj_raiz', how = 'left')"
   ]
  },
  {
   "cell_type": "code",
   "execution_count": 22,
   "id": "a1cd6b4b-bd1d-4c35-ba4e-831c9f368999",
   "metadata": {},
   "outputs": [
    {
     "data": {
      "text/plain": [
       "(0, 27)"
      ]
     },
     "execution_count": 22,
     "metadata": {},
     "output_type": "execute_result"
    }
   ],
   "source": [
    "conta = doacoes_pj_escravo[pd.notnull(doacoes_pj_escravo['cnpj_cpf'])]\n",
    "conta.shape"
   ]
  },
  {
   "cell_type": "code",
   "execution_count": null,
   "id": "65389fad-3977-4994-96ea-7848d29ed248",
   "metadata": {},
   "outputs": [],
   "source": []
  },
  {
   "cell_type": "code",
   "execution_count": 23,
   "id": "105800e8-5a06-4e88-afd4-269758969bd3",
   "metadata": {},
   "outputs": [],
   "source": [
    "# Pessoa física"
   ]
  },
  {
   "cell_type": "code",
   "execution_count": 24,
   "id": "0d6a4395-cb7d-441a-8c29-43735f6e34b8",
   "metadata": {},
   "outputs": [],
   "source": [
    "doacoes_pf_escravo = pd.merge(doacoes_2018, escravo_fev_2022_pf.drop_duplicates('cnpj_cpf'), left_on='NR_CPF_CNPJ_DOADOR', right_on='cnpj_cpf', how = 'left')"
   ]
  },
  {
   "cell_type": "code",
   "execution_count": 25,
   "id": "0d5a6483-7c6a-43fc-abef-3f8bf151ae5c",
   "metadata": {},
   "outputs": [
    {
     "data": {
      "text/plain": [
       "(0, 27)"
      ]
     },
     "execution_count": 25,
     "metadata": {},
     "output_type": "execute_result"
    }
   ],
   "source": [
    "conta = doacoes_pf_escravo[pd.notnull(doacoes_pf_escravo['cnpj_cpf'])]\n",
    "conta.shape"
   ]
  },
  {
   "cell_type": "code",
   "execution_count": null,
   "id": "7d354d70-19c6-4f5a-9d9a-ff71a7896ac6",
   "metadata": {},
   "outputs": [],
   "source": []
  },
  {
   "cell_type": "code",
   "execution_count": null,
   "id": "83d6d4f7-7a0d-472d-94db-cc86fe0a0ee8",
   "metadata": {},
   "outputs": [],
   "source": []
  },
  {
   "cell_type": "markdown",
   "id": "3cc3bc2e-d409-40ad-8607-c89dfbbb6717",
   "metadata": {},
   "source": [
    "### Doações indiretas"
   ]
  },
  {
   "cell_type": "code",
   "execution_count": 26,
   "id": "bf0a0951-18ac-4fdd-a3d1-731f51bca5ad",
   "metadata": {},
   "outputs": [],
   "source": [
    "doacoes_indiretas_2018 = pd.read_excel('resultados/doacoes/doacoes_todas_indiretas_politicos_2018.xlsx', sheet_name = 'Sheet1', dtype = 'str')"
   ]
  },
  {
   "cell_type": "code",
   "execution_count": 27,
   "id": "81244eef-4b6e-4ca7-8caa-4e312c72cdb1",
   "metadata": {},
   "outputs": [
    {
     "data": {
      "text/plain": [
       "(2372, 68)"
      ]
     },
     "execution_count": 27,
     "metadata": {},
     "output_type": "execute_result"
    }
   ],
   "source": [
    "doacoes_indiretas_2018.shape"
   ]
  },
  {
   "cell_type": "code",
   "execution_count": 28,
   "id": "dcc915ca-43c7-4d22-8d22-72b3eebaea40",
   "metadata": {},
   "outputs": [
    {
     "data": {
      "text/plain": [
       "Index(['DT_GERACAO', 'HH_GERACAO', 'ANO_ELEICAO', 'CD_TIPO_ELEICAO',\n",
       "       'NM_TIPO_ELEICAO', 'CD_ELEICAO', 'DS_ELEICAO', 'DT_ELEICAO', 'ST_TURNO',\n",
       "       'TP_PRESTACAO_CONTAS', 'DT_PRESTACAO_CONTAS', 'SQ_PRESTADOR_CONTAS',\n",
       "       'SG_UF', 'SG_UE', 'NM_UE', 'NR_CNPJ_PRESTADOR_CONTA', 'CD_CARGO',\n",
       "       'DS_CARGO', 'SQ_CANDIDATO', 'NR_CANDIDATO', 'NM_CANDIDATO',\n",
       "       'NR_CPF_CANDIDATO', 'NR_CPF_VICE_CANDIDATO', 'NR_PARTIDO', 'SG_PARTIDO',\n",
       "       'NM_PARTIDO', 'CD_FONTE_RECEITA', 'DS_FONTE_RECEITA',\n",
       "       'CD_ORIGEM_RECEITA', 'DS_ORIGEM_RECEITA', 'CD_NATUREZA_RECEITA',\n",
       "       'DS_NATUREZA_RECEITA', 'CD_ESPECIE_RECEITA', 'DS_ESPECIE_RECEITA',\n",
       "       'CD_CNAE_DOADOR', 'DS_CNAE_DOADOR', 'NR_CPF_CNPJ_DOADOR', 'NM_DOADOR',\n",
       "       'NM_DOADOR_RFB', 'CD_ESFERA_PARTIDARIA_DOADOR',\n",
       "       'DS_ESFERA_PARTIDARIA_DOADOR', 'SG_UF_DOADOR', 'CD_MUNICIPIO_DOADOR',\n",
       "       'NM_MUNICIPIO_DOADOR', 'SQ_CANDIDATO_DOADOR', 'NR_CANDIDATO_DOADOR',\n",
       "       'CD_CARGO_CANDIDATO_DOADOR', 'DS_CARGO_CANDIDATO_DOADOR',\n",
       "       'NR_PARTIDO_DOADOR', 'SG_PARTIDO_DOADOR', 'NM_PARTIDO_DOADOR',\n",
       "       'NR_RECIBO_DOACAO', 'NR_DOCUMENTO_DOACAO', 'SQ_RECEITA', 'DT_RECEITA',\n",
       "       'DS_RECEITA', 'VR_RECEITA', 'cpf_doacoaindireta', 'nome_doacoaindireta',\n",
       "       'sq_doacoaindireta', 'nome', 'foto', 'nome_urna', 'politico_id',\n",
       "       'partido_eleicao', 'partido_atual', 'uri', 'sequencial_candidato'],\n",
       "      dtype='object')"
      ]
     },
     "execution_count": 28,
     "metadata": {},
     "output_type": "execute_result"
    }
   ],
   "source": [
    "doacoes_indiretas_2018.columns"
   ]
  },
  {
   "cell_type": "code",
   "execution_count": 29,
   "id": "d4ea1b4b-de3c-4b1d-b632-f5106ee71441",
   "metadata": {},
   "outputs": [],
   "source": [
    "doacoes_indiretas_2018['NR_CPF_CNPJ_DOADOR_raiz'] = doacoes_indiretas_2018.apply(limpeza3, axis=1)"
   ]
  },
  {
   "cell_type": "code",
   "execution_count": 30,
   "id": "61ac02eb-aeee-46c6-806b-8b3ee3ee9b61",
   "metadata": {},
   "outputs": [],
   "source": [
    "doacoes_indiretas_2018_pf = doacoes_indiretas_2018[(doacoes_indiretas_2018['NR_CPF_CNPJ_DOADOR_raiz'] == 'documento_cpf')]\n",
    "doacoes_indiretas_2018_pj = doacoes_indiretas_2018[(doacoes_indiretas_2018['NR_CPF_CNPJ_DOADOR_raiz'] != 'documento_cpf')]"
   ]
  },
  {
   "cell_type": "code",
   "execution_count": null,
   "id": "29eaaab7-32d0-4936-bc93-5d8ea995c095",
   "metadata": {},
   "outputs": [],
   "source": []
  },
  {
   "cell_type": "code",
   "execution_count": null,
   "id": "d8050a59-ff7c-4c26-97a0-498e991f471c",
   "metadata": {},
   "outputs": [],
   "source": []
  },
  {
   "cell_type": "code",
   "execution_count": 31,
   "id": "bc7c734f-2c4b-4ca6-a75b-20cc49eb6d0d",
   "metadata": {},
   "outputs": [],
   "source": [
    "doacoes_pf_escravo_indireta = pd.merge(doacoes_indiretas_2018_pj, escravo_fev_2022_pf.drop_duplicates('cnpj_cpf'), left_on='cpf_doacoaindireta', right_on='cnpj_cpf', how = 'left')"
   ]
  },
  {
   "cell_type": "code",
   "execution_count": 32,
   "id": "759a4c5b-2477-4a48-a3c4-eb793d99b57f",
   "metadata": {},
   "outputs": [
    {
     "data": {
      "text/plain": [
       "(0, 80)"
      ]
     },
     "execution_count": 32,
     "metadata": {},
     "output_type": "execute_result"
    }
   ],
   "source": [
    "conta = doacoes_pf_escravo_indireta[pd.notnull(doacoes_pf_escravo_indireta['cnpj_cpf'])].copy()\n",
    "conta.shape"
   ]
  },
  {
   "cell_type": "code",
   "execution_count": null,
   "id": "1f1c9bbe-0adc-4641-9680-951bf0a995fa",
   "metadata": {},
   "outputs": [],
   "source": []
  },
  {
   "cell_type": "code",
   "execution_count": null,
   "id": "21851932-ef9e-4478-a26b-a7acf5840a3f",
   "metadata": {},
   "outputs": [],
   "source": []
  },
  {
   "cell_type": "markdown",
   "id": "c7d67af3-11ed-4ebc-b27b-8d6a4c32455f",
   "metadata": {},
   "source": [
    "### Doações originárias"
   ]
  },
  {
   "cell_type": "code",
   "execution_count": 33,
   "id": "dbfc48c1-987c-44ad-86e5-7adba60b3802",
   "metadata": {},
   "outputs": [],
   "source": [
    "doacoes_originarias_2018 = pd.read_excel('resultados/doacoes/doacoes_geral_originarias_politicos_2018.xlsx', sheet_name = 'Sheet1', dtype = 'str')"
   ]
  },
  {
   "cell_type": "code",
   "execution_count": 34,
   "id": "eead4608-2a3a-4581-accf-0764ce2d4c66",
   "metadata": {},
   "outputs": [
    {
     "data": {
      "text/plain": [
       "(11060, 25)"
      ]
     },
     "execution_count": 34,
     "metadata": {},
     "output_type": "execute_result"
    }
   ],
   "source": [
    "doacoes_originarias_2018.shape"
   ]
  },
  {
   "cell_type": "code",
   "execution_count": 35,
   "id": "09afae0d-363d-41e1-894a-8dbb661b924c",
   "metadata": {},
   "outputs": [
    {
     "data": {
      "text/plain": [
       "Index(['DT_GERACAO', 'HH_GERACAO', 'ANO_ELEICAO', 'CD_TIPO_ELEICAO',\n",
       "       'NM_TIPO_ELEICAO', 'CD_ELEICAO', 'DS_ELEICAO', 'DT_ELEICAO', 'ST_TURNO',\n",
       "       'TP_PRESTACAO_CONTAS', 'DT_PRESTACAO_CONTAS', 'SQ_PRESTADOR_CONTAS',\n",
       "       'SG_UF', 'NR_CPF_CNPJ_DOADOR_ORIGINARIO', 'NM_DOADOR_ORIGINARIO',\n",
       "       'NM_DOADOR_ORIGINARIO_RFB', 'TP_DOADOR_ORIGINARIO',\n",
       "       'CD_CNAE_DOADOR_ORIGINARIO', 'DS_CNAE_DOADOR_ORIGINARIO', 'SQ_RECEITA',\n",
       "       'DT_RECEITA', 'DS_RECEITA', 'VR_RECEITA', 'NM_CANDIDATO',\n",
       "       'NR_CPF_CANDIDATO'],\n",
       "      dtype='object')"
      ]
     },
     "execution_count": 35,
     "metadata": {},
     "output_type": "execute_result"
    }
   ],
   "source": [
    "doacoes_originarias_2018.columns"
   ]
  },
  {
   "cell_type": "code",
   "execution_count": 36,
   "id": "9827291f-58bb-4bce-a1dd-d9b71a00ff30",
   "metadata": {},
   "outputs": [],
   "source": [
    "def limpeza4(linha):\n",
    "    documento = str(linha[\"NR_CPF_CNPJ_DOADOR_ORIGINARIO\"])\n",
    "    if len(documento) > 11:\n",
    "        return documento[:8]\n",
    "    else:\n",
    "        return \"documento_cpf\"\n",
    "    \n",
    "doacoes_originarias_2018['NR_CPF_CNPJ_DOADOR_ORIGINARIO_raiz'] = doacoes_originarias_2018.apply(limpeza4, axis=1)"
   ]
  },
  {
   "cell_type": "code",
   "execution_count": 37,
   "id": "f506baa7-7d57-41da-bc5b-f536e0467c37",
   "metadata": {},
   "outputs": [],
   "source": [
    "doacoes_originarias_2018_pf = doacoes_originarias_2018[(doacoes_originarias_2018['NR_CPF_CNPJ_DOADOR_ORIGINARIO_raiz'] == 'documento_cpf')]\n",
    "doacoes_originarias_2018_pj = doacoes_originarias_2018[(doacoes_originarias_2018['NR_CPF_CNPJ_DOADOR_ORIGINARIO_raiz'] != 'documento_cpf')]"
   ]
  },
  {
   "cell_type": "code",
   "execution_count": null,
   "id": "b7f839e8-64d1-401c-8d9d-caf41fd4bd2e",
   "metadata": {},
   "outputs": [],
   "source": []
  },
  {
   "cell_type": "code",
   "execution_count": 38,
   "id": "297ab44c-e5c3-4d67-a422-3023784d3dba",
   "metadata": {},
   "outputs": [],
   "source": [
    "doacoes_pf_escravo_originaria = pd.merge(doacoes_originarias_2018_pf, escravo_fev_2022_pf.drop_duplicates('cnpj_cpf'), left_on='NR_CPF_CNPJ_DOADOR_ORIGINARIO', right_on='cnpj_cpf', how = 'left')"
   ]
  },
  {
   "cell_type": "code",
   "execution_count": 39,
   "id": "4fd21125-47bd-4a89-9d4b-7809fb404d29",
   "metadata": {},
   "outputs": [
    {
     "data": {
      "text/plain": [
       "(0, 37)"
      ]
     },
     "execution_count": 39,
     "metadata": {},
     "output_type": "execute_result"
    }
   ],
   "source": [
    "conta = doacoes_pf_escravo_originaria[pd.notnull(doacoes_pf_escravo_originaria['cnpj_cpf'])].copy()\n",
    "conta.shape"
   ]
  },
  {
   "cell_type": "code",
   "execution_count": null,
   "id": "8f19f6e8-657e-4699-bfd7-8cd355d0fa1b",
   "metadata": {},
   "outputs": [],
   "source": []
  },
  {
   "cell_type": "code",
   "execution_count": null,
   "id": "5609f442-73a6-4453-a9c2-67a55d159987",
   "metadata": {},
   "outputs": [],
   "source": []
  },
  {
   "cell_type": "markdown",
   "id": "21d0dd79-dbfb-4713-a5e8-e82d520b8408",
   "metadata": {},
   "source": [
    "### Candidatos 2018"
   ]
  },
  {
   "cell_type": "code",
   "execution_count": 40,
   "id": "cb3244e9-e401-431f-b8b3-c0cc653aff03",
   "metadata": {},
   "outputs": [],
   "source": [
    "kwargs = {'sep': ',', 'dtype': str, 'encoding': 'utf-8'}\n",
    "politicos_2018 = pd.read_csv(\"resultados/politicos_2018_09abr.csv\", **kwargs)"
   ]
  },
  {
   "cell_type": "code",
   "execution_count": null,
   "id": "94dcd58e-22f9-4552-9cbf-2705ae1bb75e",
   "metadata": {},
   "outputs": [],
   "source": []
  },
  {
   "cell_type": "code",
   "execution_count": 41,
   "id": "1e34e646-3115-4bc5-a942-66789f7795fb",
   "metadata": {},
   "outputs": [],
   "source": [
    "politicos_escravo = pd.merge(escravo_fev_2022_pf.drop_duplicates('cnpj_cpf'), politicos_2018, left_on='cnpj_cpf', right_on='politico_id', how = 'left')"
   ]
  },
  {
   "cell_type": "code",
   "execution_count": 42,
   "id": "cf8b4191-ba75-4e2d-84c2-8d2fc0647599",
   "metadata": {},
   "outputs": [
    {
     "data": {
      "text/plain": [
       "(0, 20)"
      ]
     },
     "execution_count": 42,
     "metadata": {},
     "output_type": "execute_result"
    }
   ],
   "source": [
    "conta = politicos_escravo[pd.notnull(politicos_escravo['politico_id'])].copy()\n",
    "conta.shape"
   ]
  },
  {
   "cell_type": "code",
   "execution_count": null,
   "id": "fad7cf22-0045-4674-a8bd-13a508f26d37",
   "metadata": {},
   "outputs": [],
   "source": []
  },
  {
   "cell_type": "code",
   "execution_count": null,
   "id": "cc01a7fd-429a-4298-af0d-fc18f7b6aee3",
   "metadata": {},
   "outputs": [],
   "source": []
  }
 ],
 "metadata": {
  "kernelspec": {
   "display_name": "Python 3",
   "language": "python",
   "name": "python3"
  },
  "language_info": {
   "codemirror_mode": {
    "name": "ipython",
    "version": 3
   },
   "file_extension": ".py",
   "mimetype": "text/x-python",
   "name": "python",
   "nbconvert_exporter": "python",
   "pygments_lexer": "ipython3",
   "version": "3.8.2"
  }
 },
 "nbformat": 4,
 "nbformat_minor": 5
}
