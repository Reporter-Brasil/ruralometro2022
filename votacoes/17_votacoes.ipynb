{
 "cells": [
  {
   "cell_type": "code",
   "execution_count": null,
   "id": "7c1e180b-d2ba-41fd-b661-0c90e1ee1d92",
   "metadata": {},
   "outputs": [],
   "source": [
    "# -*- coding: utf-8\n",
    "# Repórter Brasil (https://ruralometro2022.reporterbrasil.org.br/)\n",
    "# Reinaldo Chaves (@paidatocandeira)\n",
    "# Captura as informações de votações nominais parlamentares. Saiba mais: \n",
    "# https://ruralometro2022.reporterbrasil.org.br/metodologia#votacoes\n",
    "# Dados coletados em https://dadosabertos.camara.leg.br/swagger/api.html"
   ]
  },
  {
   "cell_type": "code",
   "execution_count": null,
   "id": "f0b67dba-ae13-423f-9db3-fec21d21e573",
   "metadata": {},
   "outputs": [],
   "source": []
  },
  {
   "cell_type": "code",
   "execution_count": 2,
   "id": "dc0440f3-245a-41f5-bf65-bb9fabaf00c8",
   "metadata": {},
   "outputs": [],
   "source": [
    "import requests\n",
    "import json\n",
    "import pandas as pd\n",
    "import unidecode"
   ]
  },
  {
   "cell_type": "code",
   "execution_count": null,
   "id": "2111a705-8a28-4235-afb7-3dfde31b8728",
   "metadata": {},
   "outputs": [],
   "source": []
  },
  {
   "cell_type": "code",
   "execution_count": 3,
   "id": "09d936db-8c3b-40b9-88e8-d801d738d952",
   "metadata": {},
   "outputs": [],
   "source": [
    "def f(str):\n",
    "    try:\n",
    "        return (unidecode.unidecode(str))\n",
    "    except:\n",
    "        return (str)"
   ]
  },
  {
   "cell_type": "code",
   "execution_count": null,
   "id": "2429e2b3-b61e-469c-9fee-bca5c61b9334",
   "metadata": {},
   "outputs": [],
   "source": []
  },
  {
   "cell_type": "code",
   "execution_count": null,
   "id": "9179ff6d-177c-4186-b96c-49ac1f93a9eb",
   "metadata": {},
   "outputs": [],
   "source": []
  },
  {
   "cell_type": "code",
   "execution_count": 4,
   "id": "b4b84b5f-7236-4f32-9acf-2f70acb9f247",
   "metadata": {},
   "outputs": [],
   "source": [
    "prefixo_pl = 'https://dadosabertos.camara.leg.br/api/v2/proposicoes/'\n",
    "sufixo_pl = '/votacoes?ordem=DESC&ordenarPor=dataHoraRegistro'"
   ]
  },
  {
   "cell_type": "code",
   "execution_count": null,
   "id": "a25a5700-bf91-41c4-91a9-84430b2cb238",
   "metadata": {},
   "outputs": [],
   "source": []
  },
  {
   "cell_type": "code",
   "execution_count": 5,
   "id": "f07d1a40-f5e8-422e-8a9b-269dd5927e90",
   "metadata": {},
   "outputs": [],
   "source": [
    "prefixo_voto = 'https://dadosabertos.camara.leg.br/api/v2/votacoes/'\n",
    "sufixo_voto = '/votos'"
   ]
  },
  {
   "cell_type": "code",
   "execution_count": null,
   "id": "31d70913-19d3-4eb5-8c1c-29575345cb18",
   "metadata": {},
   "outputs": [],
   "source": []
  },
  {
   "cell_type": "markdown",
   "id": "0f5b027f-5acf-41f0-a935-5f566569eb79",
   "metadata": {},
   "source": [
    "### PL 3292/2020"
   ]
  },
  {
   "cell_type": "code",
   "execution_count": 6,
   "id": "67df7438-3549-4f36-97eb-d45832c6ab41",
   "metadata": {},
   "outputs": [],
   "source": [
    "# https://www.camara.leg.br/proposicoesWeb/fichadetramitacao?idProposicao=2255149"
   ]
  },
  {
   "cell_type": "code",
   "execution_count": 7,
   "id": "d67ca044-409d-4035-b05e-0fbce5f66f00",
   "metadata": {},
   "outputs": [],
   "source": [
    "id_proposicao = '2255149'"
   ]
  },
  {
   "cell_type": "code",
   "execution_count": 8,
   "id": "dbcc1d42-7df1-47ca-8352-8c1a1e0a89c1",
   "metadata": {},
   "outputs": [],
   "source": [
    "url = prefixo_pl+id_proposicao+sufixo_pl"
   ]
  },
  {
   "cell_type": "code",
   "execution_count": null,
   "id": "0de8fc1a-9378-46ff-b4d9-d4cd3778b8eb",
   "metadata": {},
   "outputs": [],
   "source": []
  },
  {
   "cell_type": "code",
   "execution_count": 9,
   "id": "e059523a-628f-40e1-b6e5-384a2c41b1a2",
   "metadata": {},
   "outputs": [],
   "source": [
    "dados_gerais = []\n",
    "parametros = {'formato': 'json'}\n",
    "resposta = requests.get(url, parametros)\n",
    "for lista in resposta.json()['dados']:\n",
    "    dicionario = {\"id\": lista['id'], \n",
    "                  \"uri\": lista['uri'],\n",
    "                  \"data\": lista['data'],\n",
    "                  \"dataHoraRegistro\": lista['dataHoraRegistro'],\n",
    "                  \"siglaOrgao\": lista['siglaOrgao'],\n",
    "                  \"uriOrgao\": lista['uriOrgao'],\n",
    "                  \"uriEvento\": lista['uriEvento'],\n",
    "                  \"proposicaoObjeto\": lista['proposicaoObjeto'],\n",
    "                  \"uriProposicaoObjeto\": lista['uriProposicaoObjeto'],\n",
    "                  \"descricao\": lista['descricao'],\n",
    "                  \"aprovacao\": lista['aprovacao']\n",
    "                 }\n",
    "    dados_gerais.append(dicionario)"
   ]
  },
  {
   "cell_type": "code",
   "execution_count": 10,
   "id": "267941be-a3ff-431e-ac32-3f29eeb22a80",
   "metadata": {},
   "outputs": [
    {
     "name": "stdout",
     "output_type": "stream",
     "text": [
      "<class 'pandas.core.frame.DataFrame'>\n",
      "RangeIndex: 15 entries, 0 to 14\n",
      "Data columns (total 11 columns):\n",
      " #   Column               Non-Null Count  Dtype  \n",
      "---  ------               --------------  -----  \n",
      " 0   id                   15 non-null     object \n",
      " 1   uri                  15 non-null     object \n",
      " 2   data                 15 non-null     object \n",
      " 3   dataHoraRegistro     15 non-null     object \n",
      " 4   siglaOrgao           15 non-null     object \n",
      " 5   uriOrgao             15 non-null     object \n",
      " 6   uriEvento            15 non-null     object \n",
      " 7   proposicaoObjeto     1 non-null      object \n",
      " 8   uriProposicaoObjeto  1 non-null      object \n",
      " 9   descricao            15 non-null     object \n",
      " 10  aprovacao            11 non-null     float64\n",
      "dtypes: float64(1), object(10)\n",
      "memory usage: 1.4+ KB\n"
     ]
    }
   ],
   "source": [
    "df_votacao_api = pd.DataFrame(dados_gerais)\n",
    "df_votacao_api.info()"
   ]
  },
  {
   "cell_type": "code",
   "execution_count": null,
   "id": "558f09cd-bcf2-42cf-80c2-e2a4f167a4e2",
   "metadata": {},
   "outputs": [],
   "source": []
  },
  {
   "cell_type": "code",
   "execution_count": 11,
   "id": "015be8ff-b435-4a6f-818c-d28c0bf5aa37",
   "metadata": {},
   "outputs": [],
   "source": [
    "df_votacao_api.to_excel('resultados/votacoes/PL 3292_2020_todas_votacoes.xlsx',sheet_name='Sheet1',index=False)"
   ]
  },
  {
   "cell_type": "code",
   "execution_count": null,
   "id": "7475796c-4547-4c5b-a65a-ed0ea8fdaf5a",
   "metadata": {},
   "outputs": [],
   "source": []
  },
  {
   "cell_type": "code",
   "execution_count": 12,
   "id": "76af3451-36b6-4d72-a8da-3c338c40b458",
   "metadata": {},
   "outputs": [
    {
     "data": {
      "text/plain": [
       "'\\nO projeto alterava o Programa Nacional de Alimentação Escolar, retirando de comunidades indígenas, quilombolas e famílias beneficiárias da reforma agrária \\na prioridade em fornecer alimentos. Avaliamos a votação do substitutivo adotado pelo Relator da Comissão de Agricultura, Pecuária, Abastecimento e Desenvolvimento Rural. \\nQuem votou \"sim\" era a favor que se acabasse com a prioridade dada a indígenas e outros grupos para fornecer alimentos para a merenda escolar.\\n'"
      ]
     },
     "execution_count": 12,
     "metadata": {},
     "output_type": "execute_result"
    }
   ],
   "source": [
    "'''\n",
    "O projeto alterava o Programa Nacional de Alimentação Escolar, retirando de comunidades indígenas, quilombolas e famílias beneficiárias da reforma agrária \n",
    "a prioridade em fornecer alimentos. Avaliamos a votação do substitutivo adotado pelo Relator da Comissão de Agricultura, Pecuária, Abastecimento e Desenvolvimento Rural. \n",
    "Quem votou \"sim\" era a favor que se acabasse com a prioridade dada a indígenas e outros grupos para fornecer alimentos para a merenda escolar.\n",
    "'''"
   ]
  },
  {
   "cell_type": "code",
   "execution_count": null,
   "id": "9a502a25-019c-4e99-9603-932323003eed",
   "metadata": {},
   "outputs": [],
   "source": []
  },
  {
   "cell_type": "code",
   "execution_count": 13,
   "id": "3216311a-8ded-4575-bdff-180447ae22e0",
   "metadata": {},
   "outputs": [
    {
     "data": {
      "text/plain": [
       "'\\nÉ a votacao:\\nAprovado o Substitutivo ao Projeto de Lei nº 3.292, de 2020, adotado pelo Relator da Comissão de Agricultura, Pecuária, Abastecimento e Desenvolvimento Rural, ressalvados os destaques. Sim: 243; não: 177; abstenção: 3; total: 423.\\n2255149-94\\n\\n'"
      ]
     },
     "execution_count": 13,
     "metadata": {},
     "output_type": "execute_result"
    }
   ],
   "source": [
    "'''\n",
    "É a votacao:\n",
    "Aprovado o Substitutivo ao Projeto de Lei nº 3.292, de 2020, adotado pelo Relator da Comissão de Agricultura, Pecuária, Abastecimento e Desenvolvimento Rural, ressalvados os destaques. Sim: 243; não: 177; abstenção: 3; total: 423.\n",
    "2255149-94\n",
    "\n",
    "'''"
   ]
  },
  {
   "cell_type": "code",
   "execution_count": null,
   "id": "fd8cfa82-e6f0-47ec-a329-e0eb8fedb0cc",
   "metadata": {},
   "outputs": [],
   "source": []
  },
  {
   "cell_type": "code",
   "execution_count": 14,
   "id": "1bc8f717-e635-48f6-a418-d08fc508bce2",
   "metadata": {},
   "outputs": [],
   "source": [
    "id_votos = '2255149-94'"
   ]
  },
  {
   "cell_type": "code",
   "execution_count": 15,
   "id": "29534ad3-d9d5-4dfc-a99c-ee7347b7895b",
   "metadata": {},
   "outputs": [],
   "source": [
    "url = prefixo_voto+id_votos+sufixo_voto"
   ]
  },
  {
   "cell_type": "code",
   "execution_count": 16,
   "id": "296025d3-8b5c-4c74-8530-52d60510c27e",
   "metadata": {},
   "outputs": [],
   "source": [
    "votos = []\n",
    "nome_votacao = \"PL 3292/2020\"\n",
    "\n",
    "aval_voto_sim = 'DESFAVORÁVEL'\n",
    "aval_voto_nao_obst = 'FAVORÁVEL'\n",
    "aval_relevancia = 'MUITO RELEVANTE'\n",
    "\n",
    "parametros = {'formato': 'json'}\n",
    "resposta = requests.get(url, parametros)\n",
    "for lista in resposta.json()['dados']:\n",
    "    dicionario = {\"id_proposicao\": id_proposicao,\n",
    "        \"id_votacao\": id_votos,\n",
    "                  \"nome_votacao\": nome_votacao, \n",
    "        \"tipoVoto\": lista['tipoVoto'], \n",
    "                  \"dataRegistroVoto\": lista['dataRegistroVoto'],\n",
    "                  \"id_deputado\": lista['deputado_']['id'],\n",
    "                  \"nome\": lista['deputado_']['nome'],\n",
    "                   \"siglaUf\": lista['deputado_']['siglaUf'],\n",
    "                  \"aval_voto_sim\": aval_voto_sim,\n",
    "                  \"aval_voto_nao_obst\": aval_voto_nao_obst,\n",
    "                  \"aval_relevancia\": aval_relevancia\n",
    "                 }\n",
    "    votos.append(dicionario)"
   ]
  },
  {
   "cell_type": "code",
   "execution_count": 17,
   "id": "d7355696-75b5-47e7-b51c-123fc3f68f7c",
   "metadata": {},
   "outputs": [
    {
     "name": "stdout",
     "output_type": "stream",
     "text": [
      "<class 'pandas.core.frame.DataFrame'>\n",
      "RangeIndex: 432 entries, 0 to 431\n",
      "Data columns (total 11 columns):\n",
      " #   Column              Non-Null Count  Dtype \n",
      "---  ------              --------------  ----- \n",
      " 0   id_proposicao       432 non-null    object\n",
      " 1   id_votacao          432 non-null    object\n",
      " 2   nome_votacao        432 non-null    object\n",
      " 3   tipoVoto            432 non-null    object\n",
      " 4   dataRegistroVoto    432 non-null    object\n",
      " 5   id_deputado         432 non-null    int64 \n",
      " 6   nome                432 non-null    object\n",
      " 7   siglaUf             432 non-null    object\n",
      " 8   aval_voto_sim       432 non-null    object\n",
      " 9   aval_voto_nao_obst  432 non-null    object\n",
      " 10  aval_relevancia     432 non-null    object\n",
      "dtypes: int64(1), object(10)\n",
      "memory usage: 37.2+ KB\n"
     ]
    }
   ],
   "source": [
    "df_votacao_votos_PL_3292_2020 = pd.DataFrame(votos)\n",
    "df_votacao_votos_PL_3292_2020.info()"
   ]
  },
  {
   "cell_type": "code",
   "execution_count": 18,
   "id": "8f3b3b78-593c-4196-914b-267c30d4040e",
   "metadata": {},
   "outputs": [
    {
     "data": {
      "text/html": [
       "<div>\n",
       "<style scoped>\n",
       "    .dataframe tbody tr th:only-of-type {\n",
       "        vertical-align: middle;\n",
       "    }\n",
       "\n",
       "    .dataframe tbody tr th {\n",
       "        vertical-align: top;\n",
       "    }\n",
       "\n",
       "    .dataframe thead th {\n",
       "        text-align: right;\n",
       "    }\n",
       "</style>\n",
       "<table border=\"1\" class=\"dataframe\">\n",
       "  <thead>\n",
       "    <tr style=\"text-align: right;\">\n",
       "      <th></th>\n",
       "      <th>id_proposicao</th>\n",
       "      <th>id_votacao</th>\n",
       "      <th>nome_votacao</th>\n",
       "      <th>tipoVoto</th>\n",
       "      <th>dataRegistroVoto</th>\n",
       "      <th>id_deputado</th>\n",
       "      <th>nome</th>\n",
       "      <th>siglaUf</th>\n",
       "      <th>aval_voto_sim</th>\n",
       "      <th>aval_voto_nao_obst</th>\n",
       "      <th>aval_relevancia</th>\n",
       "    </tr>\n",
       "  </thead>\n",
       "  <tbody>\n",
       "    <tr>\n",
       "      <th>0</th>\n",
       "      <td>2255149</td>\n",
       "      <td>2255149-94</td>\n",
       "      <td>PL 3292/2020</td>\n",
       "      <td>Artigo 17</td>\n",
       "      <td>2021-05-06T18:33:00</td>\n",
       "      <td>204556</td>\n",
       "      <td>Marcelo Ramos</td>\n",
       "      <td>AM</td>\n",
       "      <td>DESFAVORÁVEL</td>\n",
       "      <td>FAVORÁVEL</td>\n",
       "      <td>MUITO RELEVANTE</td>\n",
       "    </tr>\n",
       "    <tr>\n",
       "      <th>1</th>\n",
       "      <td>2255149</td>\n",
       "      <td>2255149-94</td>\n",
       "      <td>PL 3292/2020</td>\n",
       "      <td>Sim</td>\n",
       "      <td>2021-05-06T18:32:05</td>\n",
       "      <td>62881</td>\n",
       "      <td>Danilo Forte</td>\n",
       "      <td>CE</td>\n",
       "      <td>DESFAVORÁVEL</td>\n",
       "      <td>FAVORÁVEL</td>\n",
       "      <td>MUITO RELEVANTE</td>\n",
       "    </tr>\n",
       "    <tr>\n",
       "      <th>2</th>\n",
       "      <td>2255149</td>\n",
       "      <td>2255149-94</td>\n",
       "      <td>PL 3292/2020</td>\n",
       "      <td>Não</td>\n",
       "      <td>2021-05-06T18:31:56</td>\n",
       "      <td>178990</td>\n",
       "      <td>Samuel Moreira</td>\n",
       "      <td>SP</td>\n",
       "      <td>DESFAVORÁVEL</td>\n",
       "      <td>FAVORÁVEL</td>\n",
       "      <td>MUITO RELEVANTE</td>\n",
       "    </tr>\n",
       "    <tr>\n",
       "      <th>3</th>\n",
       "      <td>2255149</td>\n",
       "      <td>2255149-94</td>\n",
       "      <td>PL 3292/2020</td>\n",
       "      <td>Sim</td>\n",
       "      <td>2021-05-06T18:31:50</td>\n",
       "      <td>204572</td>\n",
       "      <td>Capitão Alberto Neto</td>\n",
       "      <td>AM</td>\n",
       "      <td>DESFAVORÁVEL</td>\n",
       "      <td>FAVORÁVEL</td>\n",
       "      <td>MUITO RELEVANTE</td>\n",
       "    </tr>\n",
       "    <tr>\n",
       "      <th>4</th>\n",
       "      <td>2255149</td>\n",
       "      <td>2255149-94</td>\n",
       "      <td>PL 3292/2020</td>\n",
       "      <td>Não</td>\n",
       "      <td>2021-05-06T18:31:30</td>\n",
       "      <td>204537</td>\n",
       "      <td>Enrico Misasi</td>\n",
       "      <td>SP</td>\n",
       "      <td>DESFAVORÁVEL</td>\n",
       "      <td>FAVORÁVEL</td>\n",
       "      <td>MUITO RELEVANTE</td>\n",
       "    </tr>\n",
       "    <tr>\n",
       "      <th>...</th>\n",
       "      <td>...</td>\n",
       "      <td>...</td>\n",
       "      <td>...</td>\n",
       "      <td>...</td>\n",
       "      <td>...</td>\n",
       "      <td>...</td>\n",
       "      <td>...</td>\n",
       "      <td>...</td>\n",
       "      <td>...</td>\n",
       "      <td>...</td>\n",
       "      <td>...</td>\n",
       "    </tr>\n",
       "    <tr>\n",
       "      <th>427</th>\n",
       "      <td>2255149</td>\n",
       "      <td>2255149-94</td>\n",
       "      <td>PL 3292/2020</td>\n",
       "      <td>Não</td>\n",
       "      <td>2021-05-06T18:16:37</td>\n",
       "      <td>74057</td>\n",
       "      <td>Alice Portugal</td>\n",
       "      <td>BA</td>\n",
       "      <td>DESFAVORÁVEL</td>\n",
       "      <td>FAVORÁVEL</td>\n",
       "      <td>MUITO RELEVANTE</td>\n",
       "    </tr>\n",
       "    <tr>\n",
       "      <th>428</th>\n",
       "      <td>2255149</td>\n",
       "      <td>2255149-94</td>\n",
       "      <td>PL 3292/2020</td>\n",
       "      <td>Não</td>\n",
       "      <td>2021-05-06T18:16:37</td>\n",
       "      <td>74848</td>\n",
       "      <td>Jandira Feghali</td>\n",
       "      <td>RJ</td>\n",
       "      <td>DESFAVORÁVEL</td>\n",
       "      <td>FAVORÁVEL</td>\n",
       "      <td>MUITO RELEVANTE</td>\n",
       "    </tr>\n",
       "    <tr>\n",
       "      <th>429</th>\n",
       "      <td>2255149</td>\n",
       "      <td>2255149-94</td>\n",
       "      <td>PL 3292/2020</td>\n",
       "      <td>Sim</td>\n",
       "      <td>2021-05-06T18:16:34</td>\n",
       "      <td>179587</td>\n",
       "      <td>Vitor Hugo</td>\n",
       "      <td>GO</td>\n",
       "      <td>DESFAVORÁVEL</td>\n",
       "      <td>FAVORÁVEL</td>\n",
       "      <td>MUITO RELEVANTE</td>\n",
       "    </tr>\n",
       "    <tr>\n",
       "      <th>430</th>\n",
       "      <td>2255149</td>\n",
       "      <td>2255149-94</td>\n",
       "      <td>PL 3292/2020</td>\n",
       "      <td>Sim</td>\n",
       "      <td>2021-05-06T18:16:31</td>\n",
       "      <td>204395</td>\n",
       "      <td>Pedro Lupion</td>\n",
       "      <td>PR</td>\n",
       "      <td>DESFAVORÁVEL</td>\n",
       "      <td>FAVORÁVEL</td>\n",
       "      <td>MUITO RELEVANTE</td>\n",
       "    </tr>\n",
       "    <tr>\n",
       "      <th>431</th>\n",
       "      <td>2255149</td>\n",
       "      <td>2255149-94</td>\n",
       "      <td>PL 3292/2020</td>\n",
       "      <td>Sim</td>\n",
       "      <td>2021-05-06T18:16:29</td>\n",
       "      <td>150418</td>\n",
       "      <td>Márcio Marinho</td>\n",
       "      <td>BA</td>\n",
       "      <td>DESFAVORÁVEL</td>\n",
       "      <td>FAVORÁVEL</td>\n",
       "      <td>MUITO RELEVANTE</td>\n",
       "    </tr>\n",
       "  </tbody>\n",
       "</table>\n",
       "<p>432 rows × 11 columns</p>\n",
       "</div>"
      ],
      "text/plain": [
       "    id_proposicao  id_votacao  nome_votacao   tipoVoto     dataRegistroVoto  \\\n",
       "0         2255149  2255149-94  PL 3292/2020  Artigo 17  2021-05-06T18:33:00   \n",
       "1         2255149  2255149-94  PL 3292/2020        Sim  2021-05-06T18:32:05   \n",
       "2         2255149  2255149-94  PL 3292/2020        Não  2021-05-06T18:31:56   \n",
       "3         2255149  2255149-94  PL 3292/2020        Sim  2021-05-06T18:31:50   \n",
       "4         2255149  2255149-94  PL 3292/2020        Não  2021-05-06T18:31:30   \n",
       "..            ...         ...           ...        ...                  ...   \n",
       "427       2255149  2255149-94  PL 3292/2020        Não  2021-05-06T18:16:37   \n",
       "428       2255149  2255149-94  PL 3292/2020        Não  2021-05-06T18:16:37   \n",
       "429       2255149  2255149-94  PL 3292/2020        Sim  2021-05-06T18:16:34   \n",
       "430       2255149  2255149-94  PL 3292/2020        Sim  2021-05-06T18:16:31   \n",
       "431       2255149  2255149-94  PL 3292/2020        Sim  2021-05-06T18:16:29   \n",
       "\n",
       "     id_deputado                  nome siglaUf aval_voto_sim  \\\n",
       "0         204556         Marcelo Ramos      AM  DESFAVORÁVEL   \n",
       "1          62881          Danilo Forte      CE  DESFAVORÁVEL   \n",
       "2         178990        Samuel Moreira      SP  DESFAVORÁVEL   \n",
       "3         204572  Capitão Alberto Neto      AM  DESFAVORÁVEL   \n",
       "4         204537         Enrico Misasi      SP  DESFAVORÁVEL   \n",
       "..           ...                   ...     ...           ...   \n",
       "427        74057        Alice Portugal      BA  DESFAVORÁVEL   \n",
       "428        74848       Jandira Feghali      RJ  DESFAVORÁVEL   \n",
       "429       179587            Vitor Hugo      GO  DESFAVORÁVEL   \n",
       "430       204395          Pedro Lupion      PR  DESFAVORÁVEL   \n",
       "431       150418        Márcio Marinho      BA  DESFAVORÁVEL   \n",
       "\n",
       "    aval_voto_nao_obst  aval_relevancia  \n",
       "0            FAVORÁVEL  MUITO RELEVANTE  \n",
       "1            FAVORÁVEL  MUITO RELEVANTE  \n",
       "2            FAVORÁVEL  MUITO RELEVANTE  \n",
       "3            FAVORÁVEL  MUITO RELEVANTE  \n",
       "4            FAVORÁVEL  MUITO RELEVANTE  \n",
       "..                 ...              ...  \n",
       "427          FAVORÁVEL  MUITO RELEVANTE  \n",
       "428          FAVORÁVEL  MUITO RELEVANTE  \n",
       "429          FAVORÁVEL  MUITO RELEVANTE  \n",
       "430          FAVORÁVEL  MUITO RELEVANTE  \n",
       "431          FAVORÁVEL  MUITO RELEVANTE  \n",
       "\n",
       "[432 rows x 11 columns]"
      ]
     },
     "execution_count": 18,
     "metadata": {},
     "output_type": "execute_result"
    }
   ],
   "source": [
    "df_votacao_votos_PL_3292_2020"
   ]
  },
  {
   "cell_type": "code",
   "execution_count": null,
   "id": "b8849de8-9c47-45fb-89c2-ef07ab92b0a7",
   "metadata": {},
   "outputs": [],
   "source": []
  },
  {
   "cell_type": "code",
   "execution_count": null,
   "id": "7606c658-7ef7-4df1-98e3-71fe7c898425",
   "metadata": {},
   "outputs": [],
   "source": []
  },
  {
   "cell_type": "code",
   "execution_count": null,
   "id": "a9b5395d-fe0b-485f-9c9f-97f16c3838a4",
   "metadata": {},
   "outputs": [],
   "source": []
  },
  {
   "cell_type": "markdown",
   "id": "6877cadf-370b-481e-86f1-4aefd292f7f2",
   "metadata": {},
   "source": [
    "### MPV 1023/2020"
   ]
  },
  {
   "cell_type": "code",
   "execution_count": 19,
   "id": "b3fa5711-3cd9-4d24-ae07-686a43f8ec89",
   "metadata": {},
   "outputs": [],
   "source": [
    "# https://www.camara.leg.br/proposicoesWeb/fichadetramitacao?idProposicao=2268416"
   ]
  },
  {
   "cell_type": "code",
   "execution_count": null,
   "id": "4528a42b-d628-41a9-ac27-ca53c24b4e67",
   "metadata": {},
   "outputs": [],
   "source": []
  },
  {
   "cell_type": "code",
   "execution_count": 20,
   "id": "6b4015e1-ab9f-4b74-a1a2-365baec4bdc3",
   "metadata": {},
   "outputs": [
    {
     "name": "stdout",
     "output_type": "stream",
     "text": [
      "<class 'pandas.core.frame.DataFrame'>\n",
      "RangeIndex: 7 entries, 0 to 6\n",
      "Data columns (total 11 columns):\n",
      " #   Column               Non-Null Count  Dtype  \n",
      "---  ------               --------------  -----  \n",
      " 0   id                   7 non-null      object \n",
      " 1   uri                  7 non-null      object \n",
      " 2   data                 7 non-null      object \n",
      " 3   dataHoraRegistro     7 non-null      object \n",
      " 4   siglaOrgao           7 non-null      object \n",
      " 5   uriOrgao             7 non-null      object \n",
      " 6   uriEvento            7 non-null      object \n",
      " 7   proposicaoObjeto     0 non-null      object \n",
      " 8   uriProposicaoObjeto  0 non-null      object \n",
      " 9   descricao            7 non-null      object \n",
      " 10  aprovacao            6 non-null      float64\n",
      "dtypes: float64(1), object(10)\n",
      "memory usage: 744.0+ bytes\n"
     ]
    }
   ],
   "source": [
    "id_proposicao = '2268416'\n",
    "url = prefixo_pl+id_proposicao+sufixo_pl\n",
    "dados_gerais = []\n",
    "parametros = {'formato': 'json'}\n",
    "resposta = requests.get(url, parametros)\n",
    "for lista in resposta.json()['dados']:\n",
    "    dicionario = {\"id\": lista['id'], \n",
    "                  \"uri\": lista['uri'],\n",
    "                  \"data\": lista['data'],\n",
    "                  \"dataHoraRegistro\": lista['dataHoraRegistro'],\n",
    "                  \"siglaOrgao\": lista['siglaOrgao'],\n",
    "                  \"uriOrgao\": lista['uriOrgao'],\n",
    "                  \"uriEvento\": lista['uriEvento'],\n",
    "                  \"proposicaoObjeto\": lista['proposicaoObjeto'],\n",
    "                  \"uriProposicaoObjeto\": lista['uriProposicaoObjeto'],\n",
    "                  \"descricao\": lista['descricao'],\n",
    "                  \"aprovacao\": lista['aprovacao']\n",
    "                 }\n",
    "    dados_gerais.append(dicionario)\n",
    "df_votacao_api = pd.DataFrame(dados_gerais)\n",
    "df_votacao_api.info()\n",
    "df_votacao_api.to_excel('resultados/votacoes/MPV 1023_2020_todas_votacoes.xlsx',sheet_name='Sheet1',index=False)"
   ]
  },
  {
   "cell_type": "code",
   "execution_count": null,
   "id": "504a9f11-6d63-4c43-89b2-3d83b08bd6f1",
   "metadata": {},
   "outputs": [],
   "source": []
  },
  {
   "cell_type": "code",
   "execution_count": 21,
   "id": "0a52a91e-1c9e-41a2-9728-4065161f071b",
   "metadata": {},
   "outputs": [
    {
     "data": {
      "text/plain": [
       "'\\nTexto dificultava o acesso ao BPC - benefício pago pelo INSS a deficientes e idosos muito pobres e que não têm direito à aposentadoria. Tradicionalmente, para ter direito ao BPC, era preciso ter uma renda \\nfamiliar per capita de até ½ salário mínimo. O governo, nesse projeto, reduziu essa renda para ¼ de salário mínimo. O projeto foi aprovado na Câmara e virou lei. Selecionamos para avaliação a \\nvotação do destaque 1, que trazia uma emenda que pretendia manter o valor máximo de renda que dava direito ao benefício. Quem votou \"sim\" era a favor da emenda e quem votou \"não\" queria dificultar a concessão do BPC.\\n'"
      ]
     },
     "execution_count": 21,
     "metadata": {},
     "output_type": "execute_result"
    }
   ],
   "source": [
    "'''\n",
    "Texto dificultava o acesso ao BPC - benefício pago pelo INSS a deficientes e idosos muito pobres e que não têm direito à aposentadoria. Tradicionalmente, para ter direito ao BPC, era preciso ter uma renda \n",
    "familiar per capita de até ½ salário mínimo. O governo, nesse projeto, reduziu essa renda para ¼ de salário mínimo. O projeto foi aprovado na Câmara e virou lei. Selecionamos para avaliação a \n",
    "votação do destaque 1, que trazia uma emenda que pretendia manter o valor máximo de renda que dava direito ao benefício. Quem votou \"sim\" era a favor da emenda e quem votou \"não\" queria dificultar a concessão do BPC.\n",
    "'''"
   ]
  },
  {
   "cell_type": "code",
   "execution_count": 22,
   "id": "5e28a7cb-dd89-435b-9bae-8589048520a1",
   "metadata": {},
   "outputs": [
    {
     "data": {
      "text/plain": [
       "'\\nVotação - https://www.camara.leg.br/presenca-comissoes/votacao-portal?reuniao=61702&itemVotacao=9695\\nMPV No. 1023/2020 - DTQ 1 - PCdoB - EMENDA DE COMISSÃO N. 50 (Nominal)\\n'"
      ]
     },
     "execution_count": 22,
     "metadata": {},
     "output_type": "execute_result"
    }
   ],
   "source": [
    "'''\n",
    "Votação - https://www.camara.leg.br/presenca-comissoes/votacao-portal?reuniao=61702&itemVotacao=9695\n",
    "MPV No. 1023/2020 - DTQ 1 - PCdoB - EMENDA DE COMISSÃO N. 50 (Nominal)\n",
    "'''"
   ]
  },
  {
   "cell_type": "code",
   "execution_count": null,
   "id": "374361ba-b063-462f-9b19-f5f36de735d5",
   "metadata": {},
   "outputs": [],
   "source": []
  },
  {
   "cell_type": "code",
   "execution_count": 23,
   "id": "073dab33-02b8-4ac6-bd41-7d60fd33b49b",
   "metadata": {},
   "outputs": [
    {
     "data": {
      "text/plain": [
       "'\\nEncontrado:\\nRejeitada a Emenda de Comissão nº 50. Sim: 110; não: 255; abstenção: 1; total; 366.\\n\\n2268416-39\\n\\n'"
      ]
     },
     "execution_count": 23,
     "metadata": {},
     "output_type": "execute_result"
    }
   ],
   "source": [
    "'''\n",
    "Encontrado:\n",
    "Rejeitada a Emenda de Comissão nº 50. Sim: 110; não: 255; abstenção: 1; total; 366.\n",
    "\n",
    "2268416-39\n",
    "\n",
    "'''"
   ]
  },
  {
   "cell_type": "code",
   "execution_count": null,
   "id": "30ba50e2-f54a-4784-9900-d5698eb7b607",
   "metadata": {},
   "outputs": [],
   "source": []
  },
  {
   "cell_type": "code",
   "execution_count": 24,
   "id": "cc251056-a674-4004-9b35-378496f6106a",
   "metadata": {},
   "outputs": [
    {
     "name": "stdout",
     "output_type": "stream",
     "text": [
      "<class 'pandas.core.frame.DataFrame'>\n",
      "RangeIndex: 367 entries, 0 to 366\n",
      "Data columns (total 11 columns):\n",
      " #   Column              Non-Null Count  Dtype \n",
      "---  ------              --------------  ----- \n",
      " 0   id_proposicao       367 non-null    object\n",
      " 1   id_votacao          367 non-null    object\n",
      " 2   nome_votacao        367 non-null    object\n",
      " 3   tipoVoto            367 non-null    object\n",
      " 4   dataRegistroVoto    367 non-null    object\n",
      " 5   id_deputado         367 non-null    int64 \n",
      " 6   nome                367 non-null    object\n",
      " 7   siglaUf             367 non-null    object\n",
      " 8   aval_voto_sim       367 non-null    object\n",
      " 9   aval_voto_nao_obst  367 non-null    object\n",
      " 10  aval_relevancia     367 non-null    object\n",
      "dtypes: int64(1), object(10)\n",
      "memory usage: 31.7+ KB\n"
     ]
    }
   ],
   "source": [
    "id_votos = '2268416-39'\n",
    "url = prefixo_voto+id_votos+sufixo_voto\n",
    "nome_votacao = \"MPV 1023/2020\"\n",
    "\n",
    "aval_voto_sim = 'FAVORÁVEL'\n",
    "aval_voto_nao_obst = 'DESFAVORÁVEL'\n",
    "aval_relevancia = 'MUITO RELEVANTE'\n",
    "\n",
    "votos = []\n",
    "parametros = {'formato': 'json'}\n",
    "resposta = requests.get(url, parametros)\n",
    "for lista in resposta.json()['dados']:\n",
    "    dicionario = {\"id_proposicao\": id_proposicao,\n",
    "        \"id_votacao\": id_votos,\n",
    "                  \"nome_votacao\": nome_votacao, \n",
    "        \"tipoVoto\": lista['tipoVoto'], \n",
    "                  \"dataRegistroVoto\": lista['dataRegistroVoto'],\n",
    "                  \"id_deputado\": lista['deputado_']['id'],\n",
    "                  \"nome\": lista['deputado_']['nome'],\n",
    "                   \"siglaUf\": lista['deputado_']['siglaUf'],\n",
    "                  \"aval_voto_sim\": aval_voto_sim,\n",
    "                  \"aval_voto_nao_obst\": aval_voto_nao_obst,\n",
    "                  \"aval_relevancia\": aval_relevancia\n",
    "                 }\n",
    "    votos.append(dicionario)\n",
    "df_votacao_votos_MPV_1023_2020 = pd.DataFrame(votos)\n",
    "df_votacao_votos_MPV_1023_2020.info()"
   ]
  },
  {
   "cell_type": "code",
   "execution_count": null,
   "id": "b712ec0c-1cea-456b-9264-02dd9b10082e",
   "metadata": {},
   "outputs": [],
   "source": []
  },
  {
   "cell_type": "code",
   "execution_count": null,
   "id": "11eacc30-2f6c-479e-8751-fc4757daa358",
   "metadata": {},
   "outputs": [],
   "source": []
  },
  {
   "cell_type": "code",
   "execution_count": null,
   "id": "2fa2eae7-3b62-4161-a3ac-19c364ced99a",
   "metadata": {},
   "outputs": [],
   "source": []
  },
  {
   "cell_type": "markdown",
   "id": "2de6554f-5a86-4539-b9f7-49c312954804",
   "metadata": {},
   "source": [
    "### MPV 1061/2021"
   ]
  },
  {
   "cell_type": "code",
   "execution_count": 25,
   "id": "782d639a-3416-4637-92d9-c34f43147a7a",
   "metadata": {},
   "outputs": [],
   "source": [
    "# https://www.camara.leg.br/propostas-legislativas/2293428"
   ]
  },
  {
   "cell_type": "code",
   "execution_count": null,
   "id": "1ee300e1-9e89-4ca1-8270-7712cadc942b",
   "metadata": {},
   "outputs": [],
   "source": []
  },
  {
   "cell_type": "code",
   "execution_count": 26,
   "id": "60ef45fd-7a01-440b-8b64-97c37878f466",
   "metadata": {},
   "outputs": [
    {
     "name": "stdout",
     "output_type": "stream",
     "text": [
      "<class 'pandas.core.frame.DataFrame'>\n",
      "RangeIndex: 10 entries, 0 to 9\n",
      "Data columns (total 11 columns):\n",
      " #   Column               Non-Null Count  Dtype  \n",
      "---  ------               --------------  -----  \n",
      " 0   id                   10 non-null     object \n",
      " 1   uri                  10 non-null     object \n",
      " 2   data                 10 non-null     object \n",
      " 3   dataHoraRegistro     10 non-null     object \n",
      " 4   siglaOrgao           10 non-null     object \n",
      " 5   uriOrgao             10 non-null     object \n",
      " 6   uriEvento            10 non-null     object \n",
      " 7   proposicaoObjeto     1 non-null      object \n",
      " 8   uriProposicaoObjeto  1 non-null      object \n",
      " 9   descricao            10 non-null     object \n",
      " 10  aprovacao            8 non-null      float64\n",
      "dtypes: float64(1), object(10)\n",
      "memory usage: 1008.0+ bytes\n"
     ]
    }
   ],
   "source": [
    "id_proposicao = '2293428'\n",
    "url = prefixo_pl+id_proposicao+sufixo_pl\n",
    "dados_gerais = []\n",
    "parametros = {'formato': 'json'}\n",
    "resposta = requests.get(url, parametros)\n",
    "for lista in resposta.json()['dados']:\n",
    "    dicionario = {\"id\": lista['id'], \n",
    "                  \"uri\": lista['uri'],\n",
    "                  \"data\": lista['data'],\n",
    "                  \"dataHoraRegistro\": lista['dataHoraRegistro'],\n",
    "                  \"siglaOrgao\": lista['siglaOrgao'],\n",
    "                  \"uriOrgao\": lista['uriOrgao'],\n",
    "                  \"uriEvento\": lista['uriEvento'],\n",
    "                  \"proposicaoObjeto\": lista['proposicaoObjeto'],\n",
    "                  \"uriProposicaoObjeto\": lista['uriProposicaoObjeto'],\n",
    "                  \"descricao\": lista['descricao'],\n",
    "                  \"aprovacao\": lista['aprovacao']\n",
    "                 }\n",
    "    dados_gerais.append(dicionario)\n",
    "df_votacao_api = pd.DataFrame(dados_gerais)\n",
    "df_votacao_api.info()\n",
    "df_votacao_api.to_excel('resultados/votacoes/MPV 1061_2021_todas_votacoes.xlsx',sheet_name='Sheet1',index=False)"
   ]
  },
  {
   "cell_type": "code",
   "execution_count": null,
   "id": "c5427153-5311-4126-825d-cb5d213423f5",
   "metadata": {},
   "outputs": [],
   "source": []
  },
  {
   "cell_type": "code",
   "execution_count": 27,
   "id": "7561b90d-2d48-4773-949d-434d1d9d1169",
   "metadata": {},
   "outputs": [
    {
     "data": {
      "text/plain": [
       "'\\nTexto criou o programa Auxílio Brasil, que substituiu o Bolsa Família, e o Alimenta Brasil, no lugar do Programa de Aquisição de Alimentos, dentre outras medidas. \\nAvaliamos a votação do destaque 13, que tentou retirar um trecho da lei que condicionava o pagamento do Auxílio Inclusão Produtiva Rural para famílias pobres do campo à \\ndoação de parte dos alimentos que elas produzirem, passado um ano de recebimento do benefício. Votou “sim” quem era a favor de manter a exigência de doação na lei.\\n'"
      ]
     },
     "execution_count": 27,
     "metadata": {},
     "output_type": "execute_result"
    }
   ],
   "source": [
    "'''\n",
    "Texto criou o programa Auxílio Brasil, que substituiu o Bolsa Família, e o Alimenta Brasil, no lugar do Programa de Aquisição de Alimentos, dentre outras medidas. \n",
    "Avaliamos a votação do destaque 13, que tentou retirar um trecho da lei que condicionava o pagamento do Auxílio Inclusão Produtiva Rural para famílias pobres do campo à \n",
    "doação de parte dos alimentos que elas produzirem, passado um ano de recebimento do benefício. Votou “sim” quem era a favor de manter a exigência de doação na lei.\n",
    "'''"
   ]
  },
  {
   "cell_type": "code",
   "execution_count": 28,
   "id": "1a73fba9-4464-4fb4-8ce3-e10282019527",
   "metadata": {},
   "outputs": [
    {
     "data": {
      "text/plain": [
       "'\\nMPV Nº 1061/2021 - DTQ 13 - PDT - § 1º E 2º DO ART. 16 DO PLV..., PARA SUPRESSÃO (Nominal)\\nhttps://www.camara.leg.br/presenca-comissoes/votacao-portal?reuniao=64272&itemVotacao=10342\\n'"
      ]
     },
     "execution_count": 28,
     "metadata": {},
     "output_type": "execute_result"
    }
   ],
   "source": [
    "'''\n",
    "MPV Nº 1061/2021 - DTQ 13 - PDT - § 1º E 2º DO ART. 16 DO PLV..., PARA SUPRESSÃO (Nominal)\n",
    "https://www.camara.leg.br/presenca-comissoes/votacao-portal?reuniao=64272&itemVotacao=10342\n",
    "'''"
   ]
  },
  {
   "cell_type": "code",
   "execution_count": null,
   "id": "3077ea4b-59bd-4a9e-83c5-862f7b3dd1c8",
   "metadata": {},
   "outputs": [],
   "source": []
  },
  {
   "cell_type": "code",
   "execution_count": 29,
   "id": "900d8253-bb0b-43a2-b1b6-2dc36b8879d9",
   "metadata": {},
   "outputs": [
    {
     "data": {
      "text/plain": [
       "'\\nEncontrou - Mantido o texto. Sim: 228; não: 100; total: 328.\\nuri - https://dadosabertos.camara.leg.br/api/v2/votacoes/2293428-77\\n<descUltimaAberturaVotacao>Votação do DTQ 13: PDT: Destaque do Parágrafos § 1º e 2º do art. 16 do PLV , apresentado à MP 1061/21, com o intuito da sua supressão. (art. 161, I).</descUltimaAberturaVotacao>\\n\\n2293428-77\\n\\n\\n'"
      ]
     },
     "execution_count": 29,
     "metadata": {},
     "output_type": "execute_result"
    }
   ],
   "source": [
    "'''\n",
    "Encontrou - Mantido o texto. Sim: 228; não: 100; total: 328.\n",
    "uri - https://dadosabertos.camara.leg.br/api/v2/votacoes/2293428-77\n",
    "<descUltimaAberturaVotacao>Votação do DTQ 13: PDT: Destaque do Parágrafos § 1º e 2º do art. 16 do PLV , apresentado à MP 1061/21, com o intuito da sua supressão. (art. 161, I).</descUltimaAberturaVotacao>\n",
    "\n",
    "2293428-77\n",
    "\n",
    "\n",
    "'''"
   ]
  },
  {
   "cell_type": "code",
   "execution_count": null,
   "id": "5c8415e6-294c-4265-8110-6c37a6ece0f7",
   "metadata": {},
   "outputs": [],
   "source": []
  },
  {
   "cell_type": "code",
   "execution_count": 30,
   "id": "8276bdf8-e1df-4033-8d72-42a3bc5c52cf",
   "metadata": {},
   "outputs": [
    {
     "name": "stdout",
     "output_type": "stream",
     "text": [
      "<class 'pandas.core.frame.DataFrame'>\n",
      "RangeIndex: 329 entries, 0 to 328\n",
      "Data columns (total 11 columns):\n",
      " #   Column              Non-Null Count  Dtype \n",
      "---  ------              --------------  ----- \n",
      " 0   id_proposicao       329 non-null    object\n",
      " 1   id_votacao          329 non-null    object\n",
      " 2   nome_votacao        329 non-null    object\n",
      " 3   tipoVoto            329 non-null    object\n",
      " 4   dataRegistroVoto    329 non-null    object\n",
      " 5   id_deputado         329 non-null    int64 \n",
      " 6   nome                329 non-null    object\n",
      " 7   siglaUf             329 non-null    object\n",
      " 8   aval_voto_sim       329 non-null    object\n",
      " 9   aval_voto_nao_obst  329 non-null    object\n",
      " 10  aval_relevancia     329 non-null    object\n",
      "dtypes: int64(1), object(10)\n",
      "memory usage: 28.4+ KB\n"
     ]
    }
   ],
   "source": [
    "id_votos = '2293428-77'\n",
    "url = prefixo_voto+id_votos+sufixo_voto\n",
    "nome_votacao = \"MPV 1061/2021\"\n",
    "\n",
    "aval_voto_sim = 'DESFAVORÁVEL'\n",
    "aval_voto_nao_obst = 'FAVORÁVEL'\n",
    "aval_relevancia = 'RELEVANTE'\n",
    "\n",
    "votos = []\n",
    "parametros = {'formato': 'json'}\n",
    "resposta = requests.get(url, parametros)\n",
    "for lista in resposta.json()['dados']:\n",
    "    dicionario = {\"id_proposicao\": id_proposicao,\n",
    "        \"id_votacao\": id_votos,\n",
    "                  \"nome_votacao\": nome_votacao, \n",
    "        \"tipoVoto\": lista['tipoVoto'], \n",
    "                  \"dataRegistroVoto\": lista['dataRegistroVoto'],\n",
    "                  \"id_deputado\": lista['deputado_']['id'],\n",
    "                  \"nome\": lista['deputado_']['nome'],\n",
    "                   \"siglaUf\": lista['deputado_']['siglaUf'],\n",
    "                  \"aval_voto_sim\": aval_voto_sim,\n",
    "                  \"aval_voto_nao_obst\": aval_voto_nao_obst,\n",
    "                  \"aval_relevancia\": aval_relevancia\n",
    "                 }\n",
    "    votos.append(dicionario)\n",
    "df_votacao_votos_MPV_1061_2021 = pd.DataFrame(votos)\n",
    "df_votacao_votos_MPV_1061_2021.info()"
   ]
  },
  {
   "cell_type": "code",
   "execution_count": null,
   "id": "84a38147-2aa5-4fb3-a123-250eec34dc7a",
   "metadata": {},
   "outputs": [],
   "source": []
  },
  {
   "cell_type": "code",
   "execution_count": null,
   "id": "e6f5256e-0071-4c65-97d7-b5af11fed79c",
   "metadata": {},
   "outputs": [],
   "source": []
  },
  {
   "cell_type": "markdown",
   "id": "581f890f-1d1a-41f9-97f4-5f480ba98a4f",
   "metadata": {},
   "source": [
    "### MPV 871/2019"
   ]
  },
  {
   "cell_type": "code",
   "execution_count": 31,
   "id": "3339ffbd-ebf8-4b98-84a1-86264f15e4e8",
   "metadata": {},
   "outputs": [],
   "source": [
    "# https://www.camara.leg.br/proposicoesWeb/fichadetramitacao?idProposicao=2190355"
   ]
  },
  {
   "cell_type": "code",
   "execution_count": null,
   "id": "083fc9ba-5f32-45b0-9ff4-db46c92ced00",
   "metadata": {},
   "outputs": [],
   "source": []
  },
  {
   "cell_type": "code",
   "execution_count": 32,
   "id": "fc9f1f97-49d5-4c7b-a7ff-a43b8c9bcd8b",
   "metadata": {},
   "outputs": [
    {
     "name": "stdout",
     "output_type": "stream",
     "text": [
      "<class 'pandas.core.frame.DataFrame'>\n",
      "RangeIndex: 24 entries, 0 to 23\n",
      "Data columns (total 11 columns):\n",
      " #   Column               Non-Null Count  Dtype  \n",
      "---  ------               --------------  -----  \n",
      " 0   id                   24 non-null     object \n",
      " 1   uri                  24 non-null     object \n",
      " 2   data                 24 non-null     object \n",
      " 3   dataHoraRegistro     24 non-null     object \n",
      " 4   siglaOrgao           24 non-null     object \n",
      " 5   uriOrgao             24 non-null     object \n",
      " 6   uriEvento            24 non-null     object \n",
      " 7   proposicaoObjeto     0 non-null      object \n",
      " 8   uriProposicaoObjeto  0 non-null      object \n",
      " 9   descricao            24 non-null     object \n",
      " 10  aprovacao            16 non-null     float64\n",
      "dtypes: float64(1), object(10)\n",
      "memory usage: 2.2+ KB\n"
     ]
    }
   ],
   "source": [
    "id_proposicao = '2190355'\n",
    "url = prefixo_pl+id_proposicao+sufixo_pl\n",
    "dados_gerais = []\n",
    "parametros = {'formato': 'json'}\n",
    "resposta = requests.get(url, parametros)\n",
    "for lista in resposta.json()['dados']:\n",
    "    dicionario = {\"id\": lista['id'], \n",
    "                  \"uri\": lista['uri'],\n",
    "                  \"data\": lista['data'],\n",
    "                  \"dataHoraRegistro\": lista['dataHoraRegistro'],\n",
    "                  \"siglaOrgao\": lista['siglaOrgao'],\n",
    "                  \"uriOrgao\": lista['uriOrgao'],\n",
    "                  \"uriEvento\": lista['uriEvento'],\n",
    "                  \"proposicaoObjeto\": lista['proposicaoObjeto'],\n",
    "                  \"uriProposicaoObjeto\": lista['uriProposicaoObjeto'],\n",
    "                  \"descricao\": lista['descricao'],\n",
    "                  \"aprovacao\": lista['aprovacao']\n",
    "                 }\n",
    "    dados_gerais.append(dicionario)\n",
    "df_votacao_api = pd.DataFrame(dados_gerais)\n",
    "df_votacao_api.info()\n",
    "df_votacao_api.to_excel('resultados/votacoes/MPV 871_2019_todas_votacoes.xlsx',sheet_name='Sheet1',index=False)"
   ]
  },
  {
   "cell_type": "code",
   "execution_count": null,
   "id": "bc1648c2-3b01-45b5-bfca-2ed278888756",
   "metadata": {},
   "outputs": [],
   "source": []
  },
  {
   "cell_type": "code",
   "execution_count": 33,
   "id": "7e3e7423-c903-4ac8-b6dc-0e5b748a3c5d",
   "metadata": {},
   "outputs": [
    {
     "data": {
      "text/plain": [
       "'\\nO projeto visava combater fraudes na concessão de benefícios do INSS. No que diz respeito ao trabalhador rural, ele exigia que os segurados especiais (agricultores familiares) \\nestivessem inscritos no Cadastro do Segurado Especial (CNIS Rural) para terem direito à cobertura previdenciária e acabava com a possibilidade de comprovar o trabalho no campo com \\ndeclaração de sindicato rural. O texto foi aprovado na Câmara e virou lei. Selecionamos para avaliação o destaque 3, que colocava em votação a emenda 185. Essa emenda visava manter \\na possibilidade de comprovar o trabalho no campo com declaração do sindicato rural e dava um prazo de cinco anos para a entrada em vigor do CNIS Rural. Quem votou \"sim\" queria \\nmanter o papel dos sindicatos e ampliar o prazo para cadastro dos pequenos agricultores.\\n'"
      ]
     },
     "execution_count": 33,
     "metadata": {},
     "output_type": "execute_result"
    }
   ],
   "source": [
    "'''\n",
    "O projeto visava combater fraudes na concessão de benefícios do INSS. No que diz respeito ao trabalhador rural, ele exigia que os segurados especiais (agricultores familiares) \n",
    "estivessem inscritos no Cadastro do Segurado Especial (CNIS Rural) para terem direito à cobertura previdenciária e acabava com a possibilidade de comprovar o trabalho no campo com \n",
    "declaração de sindicato rural. O texto foi aprovado na Câmara e virou lei. Selecionamos para avaliação o destaque 3, que colocava em votação a emenda 185. Essa emenda visava manter \n",
    "a possibilidade de comprovar o trabalho no campo com declaração do sindicato rural e dava um prazo de cinco anos para a entrada em vigor do CNIS Rural. Quem votou \"sim\" queria \n",
    "manter o papel dos sindicatos e ampliar o prazo para cadastro dos pequenos agricultores.\n",
    "'''"
   ]
  },
  {
   "cell_type": "code",
   "execution_count": 34,
   "id": "72f337fd-8867-40d0-b841-798506226330",
   "metadata": {},
   "outputs": [],
   "source": [
    "# MPV Nº 871/2019 - DTQ. 3 - PT - EMENDA Nº 185"
   ]
  },
  {
   "cell_type": "code",
   "execution_count": null,
   "id": "6b030a2c-a334-4e65-a925-a2611120d839",
   "metadata": {},
   "outputs": [],
   "source": []
  },
  {
   "cell_type": "code",
   "execution_count": 35,
   "id": "5e909624-a09c-4714-9c53-d5bf9b09a4a1",
   "metadata": {},
   "outputs": [
    {
     "data": {
      "text/plain": [
       "'\\nEncontrada:\\nRejeitada a Emenda n° 185. Sim: 166; não: 216; abstenção: 2; total: 384\\n\\n2190355-84\\n\\n'"
      ]
     },
     "execution_count": 35,
     "metadata": {},
     "output_type": "execute_result"
    }
   ],
   "source": [
    "'''\n",
    "Encontrada:\n",
    "Rejeitada a Emenda n° 185. Sim: 166; não: 216; abstenção: 2; total: 384\n",
    "\n",
    "2190355-84\n",
    "\n",
    "'''"
   ]
  },
  {
   "cell_type": "code",
   "execution_count": null,
   "id": "ce022e21-bcf8-4352-a5bc-8ecf616f6dc9",
   "metadata": {},
   "outputs": [],
   "source": []
  },
  {
   "cell_type": "code",
   "execution_count": 36,
   "id": "52f472a9-e06c-4b2f-a4e4-630c62ac2dd8",
   "metadata": {},
   "outputs": [
    {
     "name": "stdout",
     "output_type": "stream",
     "text": [
      "<class 'pandas.core.frame.DataFrame'>\n",
      "RangeIndex: 385 entries, 0 to 384\n",
      "Data columns (total 11 columns):\n",
      " #   Column              Non-Null Count  Dtype \n",
      "---  ------              --------------  ----- \n",
      " 0   id_proposicao       385 non-null    object\n",
      " 1   id_votacao          385 non-null    object\n",
      " 2   nome_votacao        385 non-null    object\n",
      " 3   tipoVoto            385 non-null    object\n",
      " 4   dataRegistroVoto    385 non-null    object\n",
      " 5   id_deputado         385 non-null    int64 \n",
      " 6   nome                385 non-null    object\n",
      " 7   siglaUf             385 non-null    object\n",
      " 8   aval_voto_sim       385 non-null    object\n",
      " 9   aval_voto_nao_obst  385 non-null    object\n",
      " 10  aval_relevancia     385 non-null    object\n",
      "dtypes: int64(1), object(10)\n",
      "memory usage: 33.2+ KB\n"
     ]
    }
   ],
   "source": [
    "id_votos = '2190355-84'\n",
    "url = prefixo_voto+id_votos+sufixo_voto\n",
    "nome_votacao = \"MPV 871/2019\"\n",
    "\n",
    "aval_voto_sim = 'FAVORÁVEL'\n",
    "aval_voto_nao_obst = 'DESFAVORÁVEL'\n",
    "aval_relevancia = 'RELEVANTE'\n",
    "\n",
    "votos = []\n",
    "parametros = {'formato': 'json'}\n",
    "resposta = requests.get(url, parametros)\n",
    "for lista in resposta.json()['dados']:\n",
    "    dicionario = {\"id_proposicao\": id_proposicao,\n",
    "        \"id_votacao\": id_votos,\n",
    "                  \"nome_votacao\": nome_votacao,\n",
    "        \"tipoVoto\": lista['tipoVoto'], \n",
    "                  \"dataRegistroVoto\": lista['dataRegistroVoto'],\n",
    "                  \"id_deputado\": lista['deputado_']['id'],\n",
    "                  \"nome\": lista['deputado_']['nome'],\n",
    "                   \"siglaUf\": lista['deputado_']['siglaUf'],\n",
    "                  \"aval_voto_sim\": aval_voto_sim,\n",
    "                  \"aval_voto_nao_obst\": aval_voto_nao_obst,\n",
    "                  \"aval_relevancia\": aval_relevancia\n",
    "                 }\n",
    "    votos.append(dicionario)\n",
    "df_votacao_votos_MPV_871_2019 = pd.DataFrame(votos)\n",
    "df_votacao_votos_MPV_871_2019.info()"
   ]
  },
  {
   "cell_type": "code",
   "execution_count": null,
   "id": "c5901560-339a-42cb-8e45-93a674cb24e4",
   "metadata": {},
   "outputs": [],
   "source": []
  },
  {
   "cell_type": "code",
   "execution_count": null,
   "id": "456af449-e9ee-4850-a300-4791c67da010",
   "metadata": {},
   "outputs": [],
   "source": []
  },
  {
   "cell_type": "markdown",
   "id": "1e1335e8-b25b-453a-8b4a-314bce39f48e",
   "metadata": {},
   "source": [
    "### MPV 1045/2021"
   ]
  },
  {
   "cell_type": "code",
   "execution_count": 37,
   "id": "137ae261-ab43-4cca-910a-eb68008e0119",
   "metadata": {},
   "outputs": [],
   "source": [
    "# https://www.camara.leg.br/proposicoesWeb/fichadetramitacao?idProposicao=2279513"
   ]
  },
  {
   "cell_type": "code",
   "execution_count": null,
   "id": "7dcab86d-32a6-488d-b0d1-724c511422fa",
   "metadata": {},
   "outputs": [],
   "source": []
  },
  {
   "cell_type": "code",
   "execution_count": 38,
   "id": "732cb919-3710-41e1-963f-6ddf01c25f9f",
   "metadata": {},
   "outputs": [
    {
     "name": "stdout",
     "output_type": "stream",
     "text": [
      "<class 'pandas.core.frame.DataFrame'>\n",
      "RangeIndex: 24 entries, 0 to 23\n",
      "Data columns (total 11 columns):\n",
      " #   Column               Non-Null Count  Dtype  \n",
      "---  ------               --------------  -----  \n",
      " 0   id                   24 non-null     object \n",
      " 1   uri                  24 non-null     object \n",
      " 2   data                 24 non-null     object \n",
      " 3   dataHoraRegistro     24 non-null     object \n",
      " 4   siglaOrgao           24 non-null     object \n",
      " 5   uriOrgao             24 non-null     object \n",
      " 6   uriEvento            22 non-null     object \n",
      " 7   proposicaoObjeto     1 non-null      object \n",
      " 8   uriProposicaoObjeto  1 non-null      object \n",
      " 9   descricao            24 non-null     object \n",
      " 10  aprovacao            16 non-null     float64\n",
      "dtypes: float64(1), object(10)\n",
      "memory usage: 2.2+ KB\n"
     ]
    }
   ],
   "source": [
    "id_proposicao = '2279513'\n",
    "url = prefixo_pl+id_proposicao+sufixo_pl\n",
    "dados_gerais = []\n",
    "parametros = {'formato': 'json'}\n",
    "resposta = requests.get(url, parametros)\n",
    "for lista in resposta.json()['dados']:\n",
    "    dicionario = {\"id\": lista['id'], \n",
    "                  \"uri\": lista['uri'],\n",
    "                  \"data\": lista['data'],\n",
    "                  \"dataHoraRegistro\": lista['dataHoraRegistro'],\n",
    "                  \"siglaOrgao\": lista['siglaOrgao'],\n",
    "                  \"uriOrgao\": lista['uriOrgao'],\n",
    "                  \"uriEvento\": lista['uriEvento'],\n",
    "                  \"proposicaoObjeto\": lista['proposicaoObjeto'],\n",
    "                  \"uriProposicaoObjeto\": lista['uriProposicaoObjeto'],\n",
    "                  \"descricao\": lista['descricao'],\n",
    "                  \"aprovacao\": lista['aprovacao']\n",
    "                 }\n",
    "    dados_gerais.append(dicionario)\n",
    "df_votacao_api = pd.DataFrame(dados_gerais)\n",
    "df_votacao_api.info()\n",
    "df_votacao_api.to_excel('resultados/votacoes/MPV_1045_2021_todas_votacoes.xlsx',sheet_name='Sheet1',index=False)"
   ]
  },
  {
   "cell_type": "code",
   "execution_count": null,
   "id": "ee555002-5280-4361-9795-4b31cd70a82c",
   "metadata": {},
   "outputs": [],
   "source": []
  },
  {
   "cell_type": "code",
   "execution_count": 39,
   "id": "4f86f151-6712-4a82-b6ac-2e50aae43d34",
   "metadata": {},
   "outputs": [
    {
     "data": {
      "text/plain": [
       "'\\nA medida autorizou a suspensão de contratos e redução da jornada de trabalho para ajudar as empresas prejudicadas pela pandemia. \\nNo entanto, o que era para ser uma resposta emergencial tornou-se uma minirreforma trabalhista em virtude de vários jabutis. \\nEsses dispositivos criavam categorias de contratação com menos direitos, sobretudo de jovens, e precarizavam a fiscalização. Selecionamos para avaliação a votação do destaque 24, \\nque queria retirar o art. 90 inserido pelo Projeto de Lei de Conversão. Esse artigo fazia inúmeras alterações na CLT, dentre elas acabava com o \\nlimite diário de 6 horas para trabalhadores de minas de subsolo, impunha a exigência de um segundo flagrante para que empregadores infratores fossem multados e \\ndificultava o acesso à gratuidade para entrar com ação na Justiça do Trabalho. Votaram \"sim\" os parlamentares que concordavam com as alterações na CLT previstas no projeto.\\n\\nMPV  Nº 1045/2021 - DTQ 24 - PCdoB - ART. 90 DO PLV, COM VISTAS À SUA SUPRESSÃO\\n\\n'"
      ]
     },
     "execution_count": 39,
     "metadata": {},
     "output_type": "execute_result"
    }
   ],
   "source": [
    "'''\n",
    "A medida autorizou a suspensão de contratos e redução da jornada de trabalho para ajudar as empresas prejudicadas pela pandemia. \n",
    "No entanto, o que era para ser uma resposta emergencial tornou-se uma minirreforma trabalhista em virtude de vários jabutis. \n",
    "Esses dispositivos criavam categorias de contratação com menos direitos, sobretudo de jovens, e precarizavam a fiscalização. Selecionamos para avaliação a votação do destaque 24, \n",
    "que queria retirar o art. 90 inserido pelo Projeto de Lei de Conversão. Esse artigo fazia inúmeras alterações na CLT, dentre elas acabava com o \n",
    "limite diário de 6 horas para trabalhadores de minas de subsolo, impunha a exigência de um segundo flagrante para que empregadores infratores fossem multados e \n",
    "dificultava o acesso à gratuidade para entrar com ação na Justiça do Trabalho. Votaram \"sim\" os parlamentares que concordavam com as alterações na CLT previstas no projeto.\n",
    "\n",
    "MPV  Nº 1045/2021 - DTQ 24 - PCdoB - ART. 90 DO PLV, COM VISTAS À SUA SUPRESSÃO\n",
    "\n",
    "'''"
   ]
  },
  {
   "cell_type": "code",
   "execution_count": null,
   "id": "171e4b29-b5e1-4ad8-9d8e-e54e8d127136",
   "metadata": {},
   "outputs": [],
   "source": []
  },
  {
   "cell_type": "code",
   "execution_count": 40,
   "id": "c9d30d56-cdbe-4aa1-b3a0-f37a57ed97c1",
   "metadata": {},
   "outputs": [
    {
     "data": {
      "text/plain": [
       "'\\nEncontrado:\\n<descUltimaAberturaVotacao>Votação do DTQ 24: PCdoB: Destaque do Art. 90 do PLV apresentado apresentado à MP 1045/2021. (com vistas a sua supressão) (art. 161, I).</descUltimaAberturaVotacao>\\n\\n2279513-115\\n\\n'"
      ]
     },
     "execution_count": 40,
     "metadata": {},
     "output_type": "execute_result"
    }
   ],
   "source": [
    "'''\n",
    "Encontrado:\n",
    "<descUltimaAberturaVotacao>Votação do DTQ 24: PCdoB: Destaque do Art. 90 do PLV apresentado apresentado à MP 1045/2021. (com vistas a sua supressão) (art. 161, I).</descUltimaAberturaVotacao>\n",
    "\n",
    "2279513-115\n",
    "\n",
    "'''"
   ]
  },
  {
   "cell_type": "code",
   "execution_count": null,
   "id": "53bb887f-8411-40d4-8d0c-df596d2f928d",
   "metadata": {},
   "outputs": [],
   "source": []
  },
  {
   "cell_type": "code",
   "execution_count": 41,
   "id": "3cdcbb88-8e4c-4c4c-9565-00bf801aede7",
   "metadata": {},
   "outputs": [
    {
     "name": "stdout",
     "output_type": "stream",
     "text": [
      "<class 'pandas.core.frame.DataFrame'>\n",
      "RangeIndex: 409 entries, 0 to 408\n",
      "Data columns (total 11 columns):\n",
      " #   Column              Non-Null Count  Dtype \n",
      "---  ------              --------------  ----- \n",
      " 0   id_proposicao       409 non-null    object\n",
      " 1   id_votacao          409 non-null    object\n",
      " 2   nome_votacao        409 non-null    object\n",
      " 3   tipoVoto            409 non-null    object\n",
      " 4   dataRegistroVoto    409 non-null    object\n",
      " 5   id_deputado         409 non-null    int64 \n",
      " 6   nome                409 non-null    object\n",
      " 7   siglaUf             409 non-null    object\n",
      " 8   aval_voto_sim       409 non-null    object\n",
      " 9   aval_voto_nao_obst  409 non-null    object\n",
      " 10  aval_relevancia     409 non-null    object\n",
      "dtypes: int64(1), object(10)\n",
      "memory usage: 35.3+ KB\n"
     ]
    }
   ],
   "source": [
    "id_votos = '2279513-115'\n",
    "url = prefixo_voto+id_votos+sufixo_voto\n",
    "nome_votacao = \"MPV 1045/2021\"\n",
    "\n",
    "aval_voto_sim = 'DESFAVORÁVEL'\n",
    "aval_voto_nao_obst = 'FAVORÁVEL'\n",
    "aval_relevancia = 'MUITO RELEVANTE'\n",
    "\n",
    "votos = []\n",
    "parametros = {'formato': 'json'}\n",
    "resposta = requests.get(url, parametros)\n",
    "for lista in resposta.json()['dados']:\n",
    "    dicionario = {\"id_proposicao\": id_proposicao,\n",
    "        \"id_votacao\": id_votos,\n",
    "                  \"nome_votacao\": nome_votacao,\n",
    "        \"tipoVoto\": lista['tipoVoto'], \n",
    "                  \"dataRegistroVoto\": lista['dataRegistroVoto'],\n",
    "                  \"id_deputado\": lista['deputado_']['id'],\n",
    "                  \"nome\": lista['deputado_']['nome'],\n",
    "                   \"siglaUf\": lista['deputado_']['siglaUf'],\n",
    "                  \"aval_voto_sim\": aval_voto_sim,\n",
    "                  \"aval_voto_nao_obst\": aval_voto_nao_obst,\n",
    "                  \"aval_relevancia\": aval_relevancia\n",
    "                 }\n",
    "    votos.append(dicionario)\n",
    "df_votacao_votos_MPV_1045_2021 = pd.DataFrame(votos)\n",
    "df_votacao_votos_MPV_1045_2021.info()"
   ]
  },
  {
   "cell_type": "code",
   "execution_count": 42,
   "id": "cf2d67e6-d208-4770-9d02-6a8512d47e95",
   "metadata": {},
   "outputs": [
    {
     "data": {
      "text/html": [
       "<div>\n",
       "<style scoped>\n",
       "    .dataframe tbody tr th:only-of-type {\n",
       "        vertical-align: middle;\n",
       "    }\n",
       "\n",
       "    .dataframe tbody tr th {\n",
       "        vertical-align: top;\n",
       "    }\n",
       "\n",
       "    .dataframe thead th {\n",
       "        text-align: right;\n",
       "    }\n",
       "</style>\n",
       "<table border=\"1\" class=\"dataframe\">\n",
       "  <thead>\n",
       "    <tr style=\"text-align: right;\">\n",
       "      <th></th>\n",
       "      <th>id_proposicao</th>\n",
       "      <th>id_votacao</th>\n",
       "      <th>nome_votacao</th>\n",
       "      <th>tipoVoto</th>\n",
       "      <th>dataRegistroVoto</th>\n",
       "      <th>id_deputado</th>\n",
       "      <th>nome</th>\n",
       "      <th>siglaUf</th>\n",
       "      <th>aval_voto_sim</th>\n",
       "      <th>aval_voto_nao_obst</th>\n",
       "      <th>aval_relevancia</th>\n",
       "    </tr>\n",
       "  </thead>\n",
       "  <tbody>\n",
       "    <tr>\n",
       "      <th>71</th>\n",
       "      <td>2279513</td>\n",
       "      <td>2279513-115</td>\n",
       "      <td>MPV 1045/2021</td>\n",
       "      <td>Sim</td>\n",
       "      <td>2021-08-12T13:15:45</td>\n",
       "      <td>150418</td>\n",
       "      <td>Márcio Marinho</td>\n",
       "      <td>BA</td>\n",
       "      <td>DESFAVORÁVEL</td>\n",
       "      <td>FAVORÁVEL</td>\n",
       "      <td>MUITO RELEVANTE</td>\n",
       "    </tr>\n",
       "    <tr>\n",
       "      <th>243</th>\n",
       "      <td>2279513</td>\n",
       "      <td>2279513-115</td>\n",
       "      <td>MPV 1045/2021</td>\n",
       "      <td>Sim</td>\n",
       "      <td>2021-08-12T13:12:45</td>\n",
       "      <td>204540</td>\n",
       "      <td>Maria Rosas</td>\n",
       "      <td>SP</td>\n",
       "      <td>DESFAVORÁVEL</td>\n",
       "      <td>FAVORÁVEL</td>\n",
       "      <td>MUITO RELEVANTE</td>\n",
       "    </tr>\n",
       "    <tr>\n",
       "      <th>296</th>\n",
       "      <td>2279513</td>\n",
       "      <td>2279513-115</td>\n",
       "      <td>MPV 1045/2021</td>\n",
       "      <td>Não</td>\n",
       "      <td>2021-08-12T13:12:19</td>\n",
       "      <td>73604</td>\n",
       "      <td>Rui Falcão</td>\n",
       "      <td>SP</td>\n",
       "      <td>DESFAVORÁVEL</td>\n",
       "      <td>FAVORÁVEL</td>\n",
       "      <td>MUITO RELEVANTE</td>\n",
       "    </tr>\n",
       "    <tr>\n",
       "      <th>316</th>\n",
       "      <td>2279513</td>\n",
       "      <td>2279513-115</td>\n",
       "      <td>MPV 1045/2021</td>\n",
       "      <td>Sim</td>\n",
       "      <td>2021-08-12T13:12:10</td>\n",
       "      <td>160532</td>\n",
       "      <td>Eli Corrêa Filho</td>\n",
       "      <td>SP</td>\n",
       "      <td>DESFAVORÁVEL</td>\n",
       "      <td>FAVORÁVEL</td>\n",
       "      <td>MUITO RELEVANTE</td>\n",
       "    </tr>\n",
       "    <tr>\n",
       "      <th>347</th>\n",
       "      <td>2279513</td>\n",
       "      <td>2279513-115</td>\n",
       "      <td>MPV 1045/2021</td>\n",
       "      <td>Sim</td>\n",
       "      <td>2021-08-12T13:12:00</td>\n",
       "      <td>178961</td>\n",
       "      <td>Shéridan</td>\n",
       "      <td>RR</td>\n",
       "      <td>DESFAVORÁVEL</td>\n",
       "      <td>FAVORÁVEL</td>\n",
       "      <td>MUITO RELEVANTE</td>\n",
       "    </tr>\n",
       "  </tbody>\n",
       "</table>\n",
       "</div>"
      ],
      "text/plain": [
       "    id_proposicao   id_votacao   nome_votacao tipoVoto     dataRegistroVoto  \\\n",
       "71        2279513  2279513-115  MPV 1045/2021      Sim  2021-08-12T13:15:45   \n",
       "243       2279513  2279513-115  MPV 1045/2021      Sim  2021-08-12T13:12:45   \n",
       "296       2279513  2279513-115  MPV 1045/2021      Não  2021-08-12T13:12:19   \n",
       "316       2279513  2279513-115  MPV 1045/2021      Sim  2021-08-12T13:12:10   \n",
       "347       2279513  2279513-115  MPV 1045/2021      Sim  2021-08-12T13:12:00   \n",
       "\n",
       "     id_deputado              nome siglaUf aval_voto_sim aval_voto_nao_obst  \\\n",
       "71        150418    Márcio Marinho      BA  DESFAVORÁVEL          FAVORÁVEL   \n",
       "243       204540       Maria Rosas      SP  DESFAVORÁVEL          FAVORÁVEL   \n",
       "296        73604        Rui Falcão      SP  DESFAVORÁVEL          FAVORÁVEL   \n",
       "316       160532  Eli Corrêa Filho      SP  DESFAVORÁVEL          FAVORÁVEL   \n",
       "347       178961          Shéridan      RR  DESFAVORÁVEL          FAVORÁVEL   \n",
       "\n",
       "     aval_relevancia  \n",
       "71   MUITO RELEVANTE  \n",
       "243  MUITO RELEVANTE  \n",
       "296  MUITO RELEVANTE  \n",
       "316  MUITO RELEVANTE  \n",
       "347  MUITO RELEVANTE  "
      ]
     },
     "execution_count": 42,
     "metadata": {},
     "output_type": "execute_result"
    }
   ],
   "source": [
    "df_votacao_votos_MPV_1045_2021.sample(5)"
   ]
  },
  {
   "cell_type": "code",
   "execution_count": null,
   "id": "2e631b28-5b74-44c5-ab36-afbc7c5092cf",
   "metadata": {},
   "outputs": [],
   "source": []
  },
  {
   "cell_type": "code",
   "execution_count": null,
   "id": "860e2131-8d62-48ec-a472-0a38bb852d96",
   "metadata": {},
   "outputs": [],
   "source": []
  },
  {
   "cell_type": "markdown",
   "id": "4b4e9adc-0d20-4615-806a-6b503523814d",
   "metadata": {},
   "source": [
    "### MPV 881/2019"
   ]
  },
  {
   "cell_type": "code",
   "execution_count": 43,
   "id": "bb61cd70-e1ba-4bf1-8868-6420d4cef052",
   "metadata": {},
   "outputs": [],
   "source": [
    "# https://www.camara.leg.br/proposicoesWeb/fichadetramitacao?idProposicao=2199763"
   ]
  },
  {
   "cell_type": "code",
   "execution_count": null,
   "id": "9aefb648-83ae-487b-919b-8438849e8b09",
   "metadata": {},
   "outputs": [],
   "source": []
  },
  {
   "cell_type": "code",
   "execution_count": 44,
   "id": "ca29407d-c008-4961-ae65-c4e65b7416da",
   "metadata": {},
   "outputs": [
    {
     "name": "stdout",
     "output_type": "stream",
     "text": [
      "<class 'pandas.core.frame.DataFrame'>\n",
      "RangeIndex: 17 entries, 0 to 16\n",
      "Data columns (total 11 columns):\n",
      " #   Column               Non-Null Count  Dtype  \n",
      "---  ------               --------------  -----  \n",
      " 0   id                   17 non-null     object \n",
      " 1   uri                  17 non-null     object \n",
      " 2   data                 17 non-null     object \n",
      " 3   dataHoraRegistro     17 non-null     object \n",
      " 4   siglaOrgao           17 non-null     object \n",
      " 5   uriOrgao             17 non-null     object \n",
      " 6   uriEvento            17 non-null     object \n",
      " 7   proposicaoObjeto     0 non-null      object \n",
      " 8   uriProposicaoObjeto  0 non-null      object \n",
      " 9   descricao            17 non-null     object \n",
      " 10  aprovacao            12 non-null     float64\n",
      "dtypes: float64(1), object(10)\n",
      "memory usage: 1.6+ KB\n"
     ]
    }
   ],
   "source": [
    "id_proposicao = '2199763'\n",
    "url = prefixo_pl+id_proposicao+sufixo_pl\n",
    "dados_gerais = []\n",
    "parametros = {'formato': 'json'}\n",
    "resposta = requests.get(url, parametros)\n",
    "for lista in resposta.json()['dados']:\n",
    "    dicionario = {\"id\": lista['id'], \n",
    "                  \"uri\": lista['uri'],\n",
    "                  \"data\": lista['data'],\n",
    "                  \"dataHoraRegistro\": lista['dataHoraRegistro'],\n",
    "                  \"siglaOrgao\": lista['siglaOrgao'],\n",
    "                  \"uriOrgao\": lista['uriOrgao'],\n",
    "                  \"uriEvento\": lista['uriEvento'],\n",
    "                  \"proposicaoObjeto\": lista['proposicaoObjeto'],\n",
    "                  \"uriProposicaoObjeto\": lista['uriProposicaoObjeto'],\n",
    "                  \"descricao\": lista['descricao'],\n",
    "                  \"aprovacao\": lista['aprovacao']\n",
    "                 }\n",
    "    dados_gerais.append(dicionario)\n",
    "df_votacao_api = pd.DataFrame(dados_gerais)\n",
    "df_votacao_api.info()\n",
    "df_votacao_api.to_excel('resultados/votacoes/MPV_881_2019_todas_votacoes.xlsx',sheet_name='Sheet1',index=False)"
   ]
  },
  {
   "cell_type": "code",
   "execution_count": null,
   "id": "f9b244b4-0f85-4e0c-bdbd-0fe95bdb2a41",
   "metadata": {},
   "outputs": [],
   "source": []
  },
  {
   "cell_type": "code",
   "execution_count": 45,
   "id": "61017d35-a1eb-466c-9d9b-742bc9cf6e75",
   "metadata": {},
   "outputs": [
    {
     "data": {
      "text/plain": [
       "'\\nA chamada \"MP da Liberdade Econômica\" retirava direitos, enfraquecia a fiscalização e facilitava descumprimento da lei, promovendo uma continuação da reforma trabalhista. \\nAlém de acabar com pagamento em dobro aos domingos, o texto fragilizava a fiscalização de empresas e a cobrança de direitos na Justiça, dificultando a punição a maus empregadores. \\nSelecionamos para avaliação a votação da Emenda Aglutinativa Substitutiva Global 1, que dá uma visão geral do projeto. Votou \"sim\" quem era a favor da desburocratização da atividade \\neconômica, apesar dos seus impactos negativos sobre o trabalhador.\\n\\nMPV Nº 881/2019 - EMENDA AGLUTINATIVA Nº 1\\n'"
      ]
     },
     "execution_count": 45,
     "metadata": {},
     "output_type": "execute_result"
    }
   ],
   "source": [
    "'''\n",
    "A chamada \"MP da Liberdade Econômica\" retirava direitos, enfraquecia a fiscalização e facilitava descumprimento da lei, promovendo uma continuação da reforma trabalhista. \n",
    "Além de acabar com pagamento em dobro aos domingos, o texto fragilizava a fiscalização de empresas e a cobrança de direitos na Justiça, dificultando a punição a maus empregadores. \n",
    "Selecionamos para avaliação a votação da Emenda Aglutinativa Substitutiva Global 1, que dá uma visão geral do projeto. Votou \"sim\" quem era a favor da desburocratização da atividade \n",
    "econômica, apesar dos seus impactos negativos sobre o trabalhador.\n",
    "\n",
    "MPV Nº 881/2019 - EMENDA AGLUTINATIVA Nº 1\n",
    "'''"
   ]
  },
  {
   "cell_type": "code",
   "execution_count": null,
   "id": "4818f9d9-cf10-4fe7-b1d7-28840e6a41f0",
   "metadata": {},
   "outputs": [],
   "source": []
  },
  {
   "cell_type": "code",
   "execution_count": 46,
   "id": "e9b6218e-4fc3-443f-a0fd-fdbbfc5a30aa",
   "metadata": {},
   "outputs": [
    {
     "data": {
      "text/plain": [
       "'\\nEncontrado:\\nAprovada a Medida Provisória nº 881 de 2019, na forma da Emenda Aglutinativa Substitutiva Global 1, ressalvados os destaques. Sim: 345; não: 76; abstenção: 1; total: 422.\\n\\n2199763-58\\n\\n'"
      ]
     },
     "execution_count": 46,
     "metadata": {},
     "output_type": "execute_result"
    }
   ],
   "source": [
    "'''\n",
    "Encontrado:\n",
    "Aprovada a Medida Provisória nº 881 de 2019, na forma da Emenda Aglutinativa Substitutiva Global 1, ressalvados os destaques. Sim: 345; não: 76; abstenção: 1; total: 422.\n",
    "\n",
    "2199763-58\n",
    "\n",
    "'''"
   ]
  },
  {
   "cell_type": "code",
   "execution_count": null,
   "id": "75d5e9b8-7f12-4afa-9b1d-9bed1cbe1277",
   "metadata": {},
   "outputs": [],
   "source": []
  },
  {
   "cell_type": "code",
   "execution_count": 47,
   "id": "b1f52f3d-5e90-4147-9046-b917f6d8d5ad",
   "metadata": {},
   "outputs": [
    {
     "name": "stdout",
     "output_type": "stream",
     "text": [
      "<class 'pandas.core.frame.DataFrame'>\n",
      "RangeIndex: 423 entries, 0 to 422\n",
      "Data columns (total 11 columns):\n",
      " #   Column              Non-Null Count  Dtype \n",
      "---  ------              --------------  ----- \n",
      " 0   id_proposicao       423 non-null    object\n",
      " 1   id_votacao          423 non-null    object\n",
      " 2   nome_votacao        423 non-null    object\n",
      " 3   tipoVoto            423 non-null    object\n",
      " 4   dataRegistroVoto    423 non-null    object\n",
      " 5   id_deputado         423 non-null    int64 \n",
      " 6   nome                423 non-null    object\n",
      " 7   siglaUf             423 non-null    object\n",
      " 8   aval_voto_sim       423 non-null    object\n",
      " 9   aval_voto_nao_obst  423 non-null    object\n",
      " 10  aval_relevancia     423 non-null    object\n",
      "dtypes: int64(1), object(10)\n",
      "memory usage: 36.5+ KB\n"
     ]
    }
   ],
   "source": [
    "id_votos = '2199763-58'\n",
    "url = prefixo_voto+id_votos+sufixo_voto\n",
    "nome_votacao = \"MPV 881/2019\"\n",
    "\n",
    "aval_voto_sim = 'DESFAVORÁVEL'\n",
    "aval_voto_nao_obst = 'FAVORÁVEL'\n",
    "aval_relevancia = 'MUITO RELEVANTE'\n",
    "\n",
    "votos = []\n",
    "parametros = {'formato': 'json'}\n",
    "resposta = requests.get(url, parametros)\n",
    "for lista in resposta.json()['dados']:\n",
    "    dicionario = {\"id_proposicao\": id_proposicao,\n",
    "        \"id_votacao\": id_votos,\n",
    "                  \"nome_votacao\": nome_votacao,\n",
    "        \"tipoVoto\": lista['tipoVoto'], \n",
    "                  \"dataRegistroVoto\": lista['dataRegistroVoto'],\n",
    "                  \"id_deputado\": lista['deputado_']['id'],\n",
    "                  \"nome\": lista['deputado_']['nome'],\n",
    "                   \"siglaUf\": lista['deputado_']['siglaUf'],\n",
    "                  \"aval_voto_sim\": aval_voto_sim,\n",
    "                  \"aval_voto_nao_obst\": aval_voto_nao_obst,\n",
    "                  \"aval_relevancia\": aval_relevancia\n",
    "                 }\n",
    "    votos.append(dicionario)\n",
    "df_votacao_votos_MPV_881_2019 = pd.DataFrame(votos)\n",
    "df_votacao_votos_MPV_881_2019.info()"
   ]
  },
  {
   "cell_type": "code",
   "execution_count": null,
   "id": "278ccecf-22d9-4964-997a-c34d8a6ca783",
   "metadata": {},
   "outputs": [],
   "source": []
  },
  {
   "cell_type": "code",
   "execution_count": null,
   "id": "fc5faaa9-7993-46ae-841f-42f5ef379bf1",
   "metadata": {},
   "outputs": [],
   "source": []
  },
  {
   "cell_type": "markdown",
   "id": "d11aeee0-5232-4eb2-8af3-48bebdc48782",
   "metadata": {},
   "source": [
    "### MPV 905/2019"
   ]
  },
  {
   "cell_type": "code",
   "execution_count": 48,
   "id": "709f8b20-af20-4d60-bfb8-520a118a6136",
   "metadata": {},
   "outputs": [],
   "source": [
    "# https://www.camara.leg.br/proposicoesWeb/fichadetramitacao?idProposicao=2229308"
   ]
  },
  {
   "cell_type": "code",
   "execution_count": null,
   "id": "3eb2f7c8-fc6e-4d7a-a121-4bee914cabe2",
   "metadata": {},
   "outputs": [],
   "source": []
  },
  {
   "cell_type": "code",
   "execution_count": 49,
   "id": "c396bf5c-1c60-47c2-a28b-64811e3b83d9",
   "metadata": {},
   "outputs": [
    {
     "name": "stdout",
     "output_type": "stream",
     "text": [
      "<class 'pandas.core.frame.DataFrame'>\n",
      "RangeIndex: 21 entries, 0 to 20\n",
      "Data columns (total 11 columns):\n",
      " #   Column               Non-Null Count  Dtype  \n",
      "---  ------               --------------  -----  \n",
      " 0   id                   21 non-null     object \n",
      " 1   uri                  21 non-null     object \n",
      " 2   data                 21 non-null     object \n",
      " 3   dataHoraRegistro     21 non-null     object \n",
      " 4   siglaOrgao           21 non-null     object \n",
      " 5   uriOrgao             21 non-null     object \n",
      " 6   uriEvento            21 non-null     object \n",
      " 7   proposicaoObjeto     0 non-null      object \n",
      " 8   uriProposicaoObjeto  0 non-null      object \n",
      " 9   descricao            21 non-null     object \n",
      " 10  aprovacao            14 non-null     float64\n",
      "dtypes: float64(1), object(10)\n",
      "memory usage: 1.9+ KB\n"
     ]
    }
   ],
   "source": [
    "id_proposicao = '2229308'\n",
    "url = prefixo_pl+id_proposicao+sufixo_pl\n",
    "dados_gerais = []\n",
    "parametros = {'formato': 'json'}\n",
    "resposta = requests.get(url, parametros)\n",
    "for lista in resposta.json()['dados']:\n",
    "    dicionario = {\"id\": lista['id'], \n",
    "                  \"uri\": lista['uri'],\n",
    "                  \"data\": lista['data'],\n",
    "                  \"dataHoraRegistro\": lista['dataHoraRegistro'],\n",
    "                  \"siglaOrgao\": lista['siglaOrgao'],\n",
    "                  \"uriOrgao\": lista['uriOrgao'],\n",
    "                  \"uriEvento\": lista['uriEvento'],\n",
    "                  \"proposicaoObjeto\": lista['proposicaoObjeto'],\n",
    "                  \"uriProposicaoObjeto\": lista['uriProposicaoObjeto'],\n",
    "                  \"descricao\": lista['descricao'],\n",
    "                  \"aprovacao\": lista['aprovacao']\n",
    "                 }\n",
    "    dados_gerais.append(dicionario)\n",
    "df_votacao_api = pd.DataFrame(dados_gerais)\n",
    "df_votacao_api.info()\n",
    "df_votacao_api.to_excel('resultados/votacoes/MPV_905_2019_todas_votacoes.xlsx',sheet_name='Sheet1',index=False)"
   ]
  },
  {
   "cell_type": "code",
   "execution_count": null,
   "id": "eb78be62-f82c-4302-8e3c-d7769c700aae",
   "metadata": {},
   "outputs": [],
   "source": []
  },
  {
   "cell_type": "code",
   "execution_count": 50,
   "id": "e5e738cb-c874-433f-a3f0-ace476d9b657",
   "metadata": {},
   "outputs": [
    {
     "data": {
      "text/plain": [
       "'\\nO Contrato Verde e Amarelo permitia a contratação com menos direitos de jovens de 18 a 29 anos que nunca haviam trabalhado com carteira assinada. Além disso, o texto promovia alterações \\nna CLT que afetavam outros trabalhadores, como a redução da multa sobre o FGTS em caso de demissão, e dificultavam a fiscalização do trabalho. O projeto foi aprovado na Câmara, \\nmas revogado pelo Executivo a pedido do Senado. Selecionamos para avaliação a votação do destaque 100, sobre um parágrafo do substitutivo que permitia a utilização da \\nmodalidade de Contrato Verde e Amarelo no trabalho rural, excluindo apenas o contrato de safra. Deputados que votaram “sim” queriam que a medida valesse também para o trabalhador rural.\\n\\nMPV 905/19 - DTQ 100 - PDT\\n\\n'"
      ]
     },
     "execution_count": 50,
     "metadata": {},
     "output_type": "execute_result"
    }
   ],
   "source": [
    "'''\n",
    "O Contrato Verde e Amarelo permitia a contratação com menos direitos de jovens de 18 a 29 anos que nunca haviam trabalhado com carteira assinada. Além disso, o texto promovia alterações \n",
    "na CLT que afetavam outros trabalhadores, como a redução da multa sobre o FGTS em caso de demissão, e dificultavam a fiscalização do trabalho. O projeto foi aprovado na Câmara, \n",
    "mas revogado pelo Executivo a pedido do Senado. Selecionamos para avaliação a votação do destaque 100, sobre um parágrafo do substitutivo que permitia a utilização da \n",
    "modalidade de Contrato Verde e Amarelo no trabalho rural, excluindo apenas o contrato de safra. Deputados que votaram “sim” queriam que a medida valesse também para o trabalhador rural.\n",
    "\n",
    "MPV 905/19 - DTQ 100 - PDT\n",
    "\n",
    "'''"
   ]
  },
  {
   "cell_type": "code",
   "execution_count": null,
   "id": "9504dc49-eeac-4667-94d4-8f40ad52a87f",
   "metadata": {},
   "outputs": [],
   "source": []
  },
  {
   "cell_type": "code",
   "execution_count": 51,
   "id": "b333fa1f-6b18-4fd8-86b9-ce72313023a3",
   "metadata": {},
   "outputs": [
    {
     "data": {
      "text/plain": [
       "'\\nEncontrado:\\n<descUltimaAberturaVotacao>Votação do DTQ 100: PDT: destaque para votação em separado do Parágrafo Único, do Art. 17 do PLV apresentado à MP 905/19, com finalidade de suprimi-lo. Art. 16 EA1.</descUltimaAberturaVotacao>\\n\\n2229308-75\\t\\n\\n'"
      ]
     },
     "execution_count": 51,
     "metadata": {},
     "output_type": "execute_result"
    }
   ],
   "source": [
    "'''\n",
    "Encontrado:\n",
    "<descUltimaAberturaVotacao>Votação do DTQ 100: PDT: destaque para votação em separado do Parágrafo Único, do Art. 17 do PLV apresentado à MP 905/19, com finalidade de suprimi-lo. Art. 16 EA1.</descUltimaAberturaVotacao>\n",
    "\n",
    "2229308-75\t\n",
    "\n",
    "'''"
   ]
  },
  {
   "cell_type": "code",
   "execution_count": null,
   "id": "7b8382c3-08d2-4ea1-b3d0-0011b5d8b872",
   "metadata": {},
   "outputs": [],
   "source": []
  },
  {
   "cell_type": "code",
   "execution_count": 52,
   "id": "299d8a5f-39cc-4cfa-968e-62997333383d",
   "metadata": {},
   "outputs": [
    {
     "name": "stdout",
     "output_type": "stream",
     "text": [
      "<class 'pandas.core.frame.DataFrame'>\n",
      "RangeIndex: 456 entries, 0 to 455\n",
      "Data columns (total 11 columns):\n",
      " #   Column              Non-Null Count  Dtype \n",
      "---  ------              --------------  ----- \n",
      " 0   id_proposicao       456 non-null    object\n",
      " 1   id_votacao          456 non-null    object\n",
      " 2   nome_votacao        456 non-null    object\n",
      " 3   tipoVoto            456 non-null    object\n",
      " 4   dataRegistroVoto    456 non-null    object\n",
      " 5   id_deputado         456 non-null    int64 \n",
      " 6   nome                456 non-null    object\n",
      " 7   siglaUf             456 non-null    object\n",
      " 8   aval_voto_sim       456 non-null    object\n",
      " 9   aval_voto_nao_obst  456 non-null    object\n",
      " 10  aval_relevancia     456 non-null    object\n",
      "dtypes: int64(1), object(10)\n",
      "memory usage: 39.3+ KB\n"
     ]
    }
   ],
   "source": [
    "id_votos = '2229308-75'\n",
    "url = prefixo_voto+id_votos+sufixo_voto\n",
    "nome_votacao = \"MPV 905/2019\"\n",
    "\n",
    "aval_voto_sim = 'DESFAVORÁVEL'\n",
    "aval_voto_nao_obst = 'FAVORÁVEL'\n",
    "aval_relevancia = 'MUITO RELEVANTE'\n",
    "\n",
    "votos = []\n",
    "parametros = {'formato': 'json'}\n",
    "resposta = requests.get(url, parametros)\n",
    "for lista in resposta.json()['dados']:\n",
    "    dicionario = {\"id_proposicao\": id_proposicao,\n",
    "        \"id_votacao\": id_votos,\n",
    "                  \"nome_votacao\": nome_votacao,\n",
    "        \"tipoVoto\": lista['tipoVoto'], \n",
    "                  \"dataRegistroVoto\": lista['dataRegistroVoto'],\n",
    "                  \"id_deputado\": lista['deputado_']['id'],\n",
    "                  \"nome\": lista['deputado_']['nome'],\n",
    "                   \"siglaUf\": lista['deputado_']['siglaUf'],\n",
    "                  \"aval_voto_sim\": aval_voto_sim,\n",
    "                  \"aval_voto_nao_obst\": aval_voto_nao_obst,\n",
    "                  \"aval_relevancia\": aval_relevancia\n",
    "                 }\n",
    "    votos.append(dicionario)\n",
    "df_votacao_votos_MPV_905_2019 = pd.DataFrame(votos)\n",
    "df_votacao_votos_MPV_905_2019.info()"
   ]
  },
  {
   "cell_type": "code",
   "execution_count": null,
   "id": "ddd47420-9360-4bce-ba83-fb4186a17597",
   "metadata": {},
   "outputs": [],
   "source": []
  },
  {
   "cell_type": "code",
   "execution_count": null,
   "id": "ea0750f5-3560-4f79-92da-08ef922d52db",
   "metadata": {},
   "outputs": [],
   "source": []
  },
  {
   "cell_type": "markdown",
   "id": "e45da27e-e03f-4d89-82d1-ab57fd30bc17",
   "metadata": {},
   "source": [
    "### MPV 927/2020"
   ]
  },
  {
   "cell_type": "code",
   "execution_count": 53,
   "id": "0522fce8-ca27-4395-bfaf-2a882fb70048",
   "metadata": {},
   "outputs": [],
   "source": [
    "# https://www.camara.leg.br/proposicoesWeb/fichadetramitacao?idProposicao=2241662"
   ]
  },
  {
   "cell_type": "code",
   "execution_count": null,
   "id": "ac7311f9-a8b0-4aff-b0c9-7c1931556df2",
   "metadata": {},
   "outputs": [],
   "source": []
  },
  {
   "cell_type": "code",
   "execution_count": 54,
   "id": "ae3e70a8-4938-4f5e-9e48-d7140c950ff9",
   "metadata": {},
   "outputs": [
    {
     "name": "stdout",
     "output_type": "stream",
     "text": [
      "<class 'pandas.core.frame.DataFrame'>\n",
      "RangeIndex: 22 entries, 0 to 21\n",
      "Data columns (total 11 columns):\n",
      " #   Column               Non-Null Count  Dtype  \n",
      "---  ------               --------------  -----  \n",
      " 0   id                   22 non-null     object \n",
      " 1   uri                  22 non-null     object \n",
      " 2   data                 22 non-null     object \n",
      " 3   dataHoraRegistro     22 non-null     object \n",
      " 4   siglaOrgao           22 non-null     object \n",
      " 5   uriOrgao             22 non-null     object \n",
      " 6   uriEvento            22 non-null     object \n",
      " 7   proposicaoObjeto     0 non-null      object \n",
      " 8   uriProposicaoObjeto  0 non-null      object \n",
      " 9   descricao            22 non-null     object \n",
      " 10  aprovacao            15 non-null     float64\n",
      "dtypes: float64(1), object(10)\n",
      "memory usage: 2.0+ KB\n"
     ]
    }
   ],
   "source": [
    "id_proposicao = '2241662'\n",
    "url = prefixo_pl+id_proposicao+sufixo_pl\n",
    "dados_gerais = []\n",
    "parametros = {'formato': 'json'}\n",
    "resposta = requests.get(url, parametros)\n",
    "for lista in resposta.json()['dados']:\n",
    "    dicionario = {\"id\": lista['id'], \n",
    "                  \"uri\": lista['uri'],\n",
    "                  \"data\": lista['data'],\n",
    "                  \"dataHoraRegistro\": lista['dataHoraRegistro'],\n",
    "                  \"siglaOrgao\": lista['siglaOrgao'],\n",
    "                  \"uriOrgao\": lista['uriOrgao'],\n",
    "                  \"uriEvento\": lista['uriEvento'],\n",
    "                  \"proposicaoObjeto\": lista['proposicaoObjeto'],\n",
    "                  \"uriProposicaoObjeto\": lista['uriProposicaoObjeto'],\n",
    "                  \"descricao\": lista['descricao'],\n",
    "                  \"aprovacao\": lista['aprovacao']\n",
    "                 }\n",
    "    dados_gerais.append(dicionario)\n",
    "df_votacao_api = pd.DataFrame(dados_gerais)\n",
    "df_votacao_api.info()\n",
    "df_votacao_api.to_excel('resultados/votacoes/MPV_927_2020_todas_votacoes.xlsx',sheet_name='Sheet1',index=False)"
   ]
  },
  {
   "cell_type": "code",
   "execution_count": null,
   "id": "0b28f753-a793-4531-92b4-d84c4f387147",
   "metadata": {},
   "outputs": [],
   "source": []
  },
  {
   "cell_type": "code",
   "execution_count": 55,
   "id": "9dfaffcc-3ba8-4f06-9ff7-4d28b17cd699",
   "metadata": {},
   "outputs": [
    {
     "data": {
      "text/plain": [
       "'\\nPrevia o trabalho remoto, a antecipação de férias, a concessão de férias coletivas, a suspensão dos exames ocupacionais e o adiamento do recolhimento do FGTS. \\nO texto também permitia aumentar a carga horária dos trabalhadores da saúde e previa a celebração de acordos individuais entre patrão e empregados, sem a participação de sindicatos. \\nA medida afetava também os trabalhadores rurais com carteira assinada, na parte que cabia a eles. Foi aprovada na Câmara em votação nominal, mas caducou no Senado. \\nAvaliamos a votação do Projeto de Lei de Conversão nº 18, de 2020, que foi votado nominalmente com ressalvas para os destaques. Votou \"sim\" quem era a favor das medidas trabalhistas propostas para o período de pandemia.\\n\\nMPV 927/2020  - PLV\\n'"
      ]
     },
     "execution_count": 55,
     "metadata": {},
     "output_type": "execute_result"
    }
   ],
   "source": [
    "'''\n",
    "Previa o trabalho remoto, a antecipação de férias, a concessão de férias coletivas, a suspensão dos exames ocupacionais e o adiamento do recolhimento do FGTS. \n",
    "O texto também permitia aumentar a carga horária dos trabalhadores da saúde e previa a celebração de acordos individuais entre patrão e empregados, sem a participação de sindicatos. \n",
    "A medida afetava também os trabalhadores rurais com carteira assinada, na parte que cabia a eles. Foi aprovada na Câmara em votação nominal, mas caducou no Senado. \n",
    "Avaliamos a votação do Projeto de Lei de Conversão nº 18, de 2020, que foi votado nominalmente com ressalvas para os destaques. Votou \"sim\" quem era a favor das medidas trabalhistas propostas para o período de pandemia.\n",
    "\n",
    "MPV 927/2020  - PLV\n",
    "'''"
   ]
  },
  {
   "cell_type": "code",
   "execution_count": 56,
   "id": "66fea7cc-a4f8-40fe-b8e2-0ee124503417",
   "metadata": {},
   "outputs": [
    {
     "data": {
      "text/plain": [
       "'\\nEncontrado:\\nAprovada a Medida Provisória nº 927, de 2020, na forma do Projeto de Lei de Conversão nº 18, de 2020, ressalvados os destaques. Sim: 332; não: 132; total: 464.\\n2241662-79\\n\\n\\n'"
      ]
     },
     "execution_count": 56,
     "metadata": {},
     "output_type": "execute_result"
    }
   ],
   "source": [
    "'''\n",
    "Encontrado:\n",
    "Aprovada a Medida Provisória nº 927, de 2020, na forma do Projeto de Lei de Conversão nº 18, de 2020, ressalvados os destaques. Sim: 332; não: 132; total: 464.\n",
    "2241662-79\n",
    "\n",
    "\n",
    "'''"
   ]
  },
  {
   "cell_type": "code",
   "execution_count": null,
   "id": "c0148548-aa00-4cf3-b319-488441462fa9",
   "metadata": {},
   "outputs": [],
   "source": []
  },
  {
   "cell_type": "code",
   "execution_count": 57,
   "id": "42b935a6-4113-4974-a870-9a1401139c59",
   "metadata": {},
   "outputs": [
    {
     "name": "stdout",
     "output_type": "stream",
     "text": [
      "<class 'pandas.core.frame.DataFrame'>\n",
      "RangeIndex: 464 entries, 0 to 463\n",
      "Data columns (total 11 columns):\n",
      " #   Column              Non-Null Count  Dtype \n",
      "---  ------              --------------  ----- \n",
      " 0   id_proposicao       464 non-null    object\n",
      " 1   id_votacao          464 non-null    object\n",
      " 2   nome_votacao        464 non-null    object\n",
      " 3   tipoVoto            464 non-null    object\n",
      " 4   dataRegistroVoto    464 non-null    object\n",
      " 5   id_deputado         464 non-null    int64 \n",
      " 6   nome                464 non-null    object\n",
      " 7   siglaUf             464 non-null    object\n",
      " 8   aval_voto_sim       464 non-null    object\n",
      " 9   aval_voto_nao_obst  464 non-null    object\n",
      " 10  aval_relevancia     464 non-null    object\n",
      "dtypes: int64(1), object(10)\n",
      "memory usage: 40.0+ KB\n"
     ]
    }
   ],
   "source": [
    "id_votos = '2241662-79'\n",
    "url = prefixo_voto+id_votos+sufixo_voto\n",
    "nome_votacao = \"MPV 927/2020\"\n",
    "\n",
    "aval_voto_sim = 'DESFAVORÁVEL'\n",
    "aval_voto_nao_obst = 'FAVORÁVEL'\n",
    "aval_relevancia = 'RELEVANTE'\n",
    "\n",
    "votos = []\n",
    "parametros = {'formato': 'json'}\n",
    "resposta = requests.get(url, parametros)\n",
    "for lista in resposta.json()['dados']:\n",
    "    dicionario = {\"id_proposicao\": id_proposicao,\n",
    "        \"id_votacao\": id_votos,\n",
    "                  \"nome_votacao\": nome_votacao,\n",
    "        \"tipoVoto\": lista['tipoVoto'], \n",
    "                  \"dataRegistroVoto\": lista['dataRegistroVoto'],\n",
    "                  \"id_deputado\": lista['deputado_']['id'],\n",
    "                  \"nome\": lista['deputado_']['nome'],\n",
    "                   \"siglaUf\": lista['deputado_']['siglaUf'],\n",
    "                  \"aval_voto_sim\": aval_voto_sim,\n",
    "                  \"aval_voto_nao_obst\": aval_voto_nao_obst,\n",
    "                  \"aval_relevancia\": aval_relevancia\n",
    "                 }\n",
    "    votos.append(dicionario)\n",
    "df_votacao_votos_MPV_927_2020 = pd.DataFrame(votos)\n",
    "df_votacao_votos_MPV_927_2020.info()"
   ]
  },
  {
   "cell_type": "code",
   "execution_count": 58,
   "id": "64d3d160-29c1-4651-ac16-ba5f99eec78e",
   "metadata": {},
   "outputs": [
    {
     "data": {
      "text/html": [
       "<div>\n",
       "<style scoped>\n",
       "    .dataframe tbody tr th:only-of-type {\n",
       "        vertical-align: middle;\n",
       "    }\n",
       "\n",
       "    .dataframe tbody tr th {\n",
       "        vertical-align: top;\n",
       "    }\n",
       "\n",
       "    .dataframe thead th {\n",
       "        text-align: right;\n",
       "    }\n",
       "</style>\n",
       "<table border=\"1\" class=\"dataframe\">\n",
       "  <thead>\n",
       "    <tr style=\"text-align: right;\">\n",
       "      <th></th>\n",
       "      <th>id_proposicao</th>\n",
       "      <th>id_votacao</th>\n",
       "      <th>nome_votacao</th>\n",
       "      <th>tipoVoto</th>\n",
       "      <th>dataRegistroVoto</th>\n",
       "      <th>id_deputado</th>\n",
       "      <th>nome</th>\n",
       "      <th>siglaUf</th>\n",
       "      <th>aval_voto_sim</th>\n",
       "      <th>aval_voto_nao_obst</th>\n",
       "      <th>aval_relevancia</th>\n",
       "    </tr>\n",
       "  </thead>\n",
       "  <tbody>\n",
       "    <tr>\n",
       "      <th>307</th>\n",
       "      <td>2241662</td>\n",
       "      <td>2241662-79</td>\n",
       "      <td>MPV 927/2020</td>\n",
       "      <td>Sim</td>\n",
       "      <td>2020-06-17T13:34:46</td>\n",
       "      <td>204414</td>\n",
       "      <td>Aroldo Martins</td>\n",
       "      <td>PR</td>\n",
       "      <td>DESFAVORÁVEL</td>\n",
       "      <td>FAVORÁVEL</td>\n",
       "      <td>RELEVANTE</td>\n",
       "    </tr>\n",
       "    <tr>\n",
       "      <th>411</th>\n",
       "      <td>2241662</td>\n",
       "      <td>2241662-79</td>\n",
       "      <td>MPV 927/2020</td>\n",
       "      <td>Sim</td>\n",
       "      <td>2020-06-17T13:34:46</td>\n",
       "      <td>204531</td>\n",
       "      <td>Capitão Derrite</td>\n",
       "      <td>SP</td>\n",
       "      <td>DESFAVORÁVEL</td>\n",
       "      <td>FAVORÁVEL</td>\n",
       "      <td>RELEVANTE</td>\n",
       "    </tr>\n",
       "    <tr>\n",
       "      <th>228</th>\n",
       "      <td>2241662</td>\n",
       "      <td>2241662-79</td>\n",
       "      <td>MPV 927/2020</td>\n",
       "      <td>Não</td>\n",
       "      <td>2020-06-17T13:34:46</td>\n",
       "      <td>178964</td>\n",
       "      <td>Heitor Schuch</td>\n",
       "      <td>RS</td>\n",
       "      <td>DESFAVORÁVEL</td>\n",
       "      <td>FAVORÁVEL</td>\n",
       "      <td>RELEVANTE</td>\n",
       "    </tr>\n",
       "    <tr>\n",
       "      <th>298</th>\n",
       "      <td>2241662</td>\n",
       "      <td>2241662-79</td>\n",
       "      <td>MPV 927/2020</td>\n",
       "      <td>Sim</td>\n",
       "      <td>2020-06-17T13:34:46</td>\n",
       "      <td>204404</td>\n",
       "      <td>Lucas Redecker</td>\n",
       "      <td>RS</td>\n",
       "      <td>DESFAVORÁVEL</td>\n",
       "      <td>FAVORÁVEL</td>\n",
       "      <td>RELEVANTE</td>\n",
       "    </tr>\n",
       "    <tr>\n",
       "      <th>78</th>\n",
       "      <td>2241662</td>\n",
       "      <td>2241662-79</td>\n",
       "      <td>MPV 927/2020</td>\n",
       "      <td>Sim</td>\n",
       "      <td>2020-06-17T13:34:46</td>\n",
       "      <td>112437</td>\n",
       "      <td>João Marcelo Souza</td>\n",
       "      <td>MA</td>\n",
       "      <td>DESFAVORÁVEL</td>\n",
       "      <td>FAVORÁVEL</td>\n",
       "      <td>RELEVANTE</td>\n",
       "    </tr>\n",
       "  </tbody>\n",
       "</table>\n",
       "</div>"
      ],
      "text/plain": [
       "    id_proposicao  id_votacao  nome_votacao tipoVoto     dataRegistroVoto  \\\n",
       "307       2241662  2241662-79  MPV 927/2020      Sim  2020-06-17T13:34:46   \n",
       "411       2241662  2241662-79  MPV 927/2020      Sim  2020-06-17T13:34:46   \n",
       "228       2241662  2241662-79  MPV 927/2020      Não  2020-06-17T13:34:46   \n",
       "298       2241662  2241662-79  MPV 927/2020      Sim  2020-06-17T13:34:46   \n",
       "78        2241662  2241662-79  MPV 927/2020      Sim  2020-06-17T13:34:46   \n",
       "\n",
       "     id_deputado                nome siglaUf aval_voto_sim aval_voto_nao_obst  \\\n",
       "307       204414      Aroldo Martins      PR  DESFAVORÁVEL          FAVORÁVEL   \n",
       "411       204531     Capitão Derrite      SP  DESFAVORÁVEL          FAVORÁVEL   \n",
       "228       178964       Heitor Schuch      RS  DESFAVORÁVEL          FAVORÁVEL   \n",
       "298       204404      Lucas Redecker      RS  DESFAVORÁVEL          FAVORÁVEL   \n",
       "78        112437  João Marcelo Souza      MA  DESFAVORÁVEL          FAVORÁVEL   \n",
       "\n",
       "    aval_relevancia  \n",
       "307       RELEVANTE  \n",
       "411       RELEVANTE  \n",
       "228       RELEVANTE  \n",
       "298       RELEVANTE  \n",
       "78        RELEVANTE  "
      ]
     },
     "execution_count": 58,
     "metadata": {},
     "output_type": "execute_result"
    }
   ],
   "source": [
    "df_votacao_votos_MPV_927_2020.sample(5)"
   ]
  },
  {
   "cell_type": "code",
   "execution_count": null,
   "id": "34c7b467-916f-46a1-83cc-e5875094dc3c",
   "metadata": {},
   "outputs": [],
   "source": []
  },
  {
   "cell_type": "code",
   "execution_count": null,
   "id": "ee633aaa-661f-4bb3-958b-a644fd2d9881",
   "metadata": {},
   "outputs": [],
   "source": []
  },
  {
   "cell_type": "markdown",
   "id": "45b221ed-47e1-4fce-9ae6-00eb1ba9a61e",
   "metadata": {},
   "source": [
    "### MPV 936/2020"
   ]
  },
  {
   "cell_type": "code",
   "execution_count": 59,
   "id": "ffefde2a-ace8-4db2-9472-8b99148946e5",
   "metadata": {},
   "outputs": [],
   "source": [
    "# https://www.camara.leg.br/proposicoesWeb/fichadetramitacao?idProposicao=2242618"
   ]
  },
  {
   "cell_type": "code",
   "execution_count": null,
   "id": "21625728-4085-45f9-903b-91a5840c6a6b",
   "metadata": {},
   "outputs": [],
   "source": []
  },
  {
   "cell_type": "code",
   "execution_count": 60,
   "id": "1749de54-3552-45cf-a614-81d2a1e41e23",
   "metadata": {},
   "outputs": [
    {
     "name": "stdout",
     "output_type": "stream",
     "text": [
      "<class 'pandas.core.frame.DataFrame'>\n",
      "RangeIndex: 14 entries, 0 to 13\n",
      "Data columns (total 11 columns):\n",
      " #   Column               Non-Null Count  Dtype  \n",
      "---  ------               --------------  -----  \n",
      " 0   id                   14 non-null     object \n",
      " 1   uri                  14 non-null     object \n",
      " 2   data                 14 non-null     object \n",
      " 3   dataHoraRegistro     14 non-null     object \n",
      " 4   siglaOrgao           14 non-null     object \n",
      " 5   uriOrgao             14 non-null     object \n",
      " 6   uriEvento            14 non-null     object \n",
      " 7   proposicaoObjeto     0 non-null      object \n",
      " 8   uriProposicaoObjeto  0 non-null      object \n",
      " 9   descricao            14 non-null     object \n",
      " 10  aprovacao            12 non-null     float64\n",
      "dtypes: float64(1), object(10)\n",
      "memory usage: 1.3+ KB\n"
     ]
    }
   ],
   "source": [
    "id_proposicao = '2242618'\n",
    "url = prefixo_pl+id_proposicao+sufixo_pl\n",
    "dados_gerais = []\n",
    "parametros = {'formato': 'json'}\n",
    "resposta = requests.get(url, parametros)\n",
    "for lista in resposta.json()['dados']:\n",
    "    dicionario = {\"id\": lista['id'], \n",
    "                  \"uri\": lista['uri'],\n",
    "                  \"data\": lista['data'],\n",
    "                  \"dataHoraRegistro\": lista['dataHoraRegistro'],\n",
    "                  \"siglaOrgao\": lista['siglaOrgao'],\n",
    "                  \"uriOrgao\": lista['uriOrgao'],\n",
    "                  \"uriEvento\": lista['uriEvento'],\n",
    "                  \"proposicaoObjeto\": lista['proposicaoObjeto'],\n",
    "                  \"uriProposicaoObjeto\": lista['uriProposicaoObjeto'],\n",
    "                  \"descricao\": lista['descricao'],\n",
    "                  \"aprovacao\": lista['aprovacao']\n",
    "                 }\n",
    "    dados_gerais.append(dicionario)\n",
    "df_votacao_api = pd.DataFrame(dados_gerais)\n",
    "df_votacao_api.info()\n",
    "df_votacao_api.to_excel('resultados/votacoes/MPV_936_2020_todas_votacoes.xlsx',sheet_name='Sheet1',index=False)"
   ]
  },
  {
   "cell_type": "code",
   "execution_count": null,
   "id": "ebfd5478-0e66-4f29-93c8-cdfb701164c4",
   "metadata": {},
   "outputs": [],
   "source": []
  },
  {
   "cell_type": "code",
   "execution_count": 61,
   "id": "7fac4492-ff9d-4a8b-924c-c89b4cbbc64e",
   "metadata": {},
   "outputs": [
    {
     "data": {
      "text/plain": [
       "'\\nPermitia suspensão do contrato de trabalho e redução de jornada e salário por causa da pandemia, visando manter empregos. Criava um auxílio para quem teve o contrato suspenso. \\nPodia afetar também o trabalhador rural com carteira assinada. Quase toda a votação foi simbólica, mas houve votação nominal de destaques. \\nFoi aprovado e tornou-se lei. Selecionamos para avaliação o destaque 12, que queria aprovar a proposta do governo para o cálculo do benefício emergencial, \\nprevista no texto original da MP, em detrimento da sugestão do relator. A proposição do governo queria que o pagamento tivesse como base de cálculo o valor do \\nseguro-desemprego a que o empregado teria direito. Já o relator, no projeto de conversão, previa a média dos três últimos salários, limitada a três salários mínimos, \\no que potencialmente garantia um pagamento maior aos trabalhadores afastados. Votou \"sim\" quem era a favor do cálculo defendido pelo governo, com valor menor. \\n\\nMPV 936/2020 - DTQ 12\\n\\n'"
      ]
     },
     "execution_count": 61,
     "metadata": {},
     "output_type": "execute_result"
    }
   ],
   "source": [
    "'''\n",
    "Permitia suspensão do contrato de trabalho e redução de jornada e salário por causa da pandemia, visando manter empregos. Criava um auxílio para quem teve o contrato suspenso. \n",
    "Podia afetar também o trabalhador rural com carteira assinada. Quase toda a votação foi simbólica, mas houve votação nominal de destaques. \n",
    "Foi aprovado e tornou-se lei. Selecionamos para avaliação o destaque 12, que queria aprovar a proposta do governo para o cálculo do benefício emergencial, \n",
    "prevista no texto original da MP, em detrimento da sugestão do relator. A proposição do governo queria que o pagamento tivesse como base de cálculo o valor do \n",
    "seguro-desemprego a que o empregado teria direito. Já o relator, no projeto de conversão, previa a média dos três últimos salários, limitada a três salários mínimos, \n",
    "o que potencialmente garantia um pagamento maior aos trabalhadores afastados. Votou \"sim\" quem era a favor do cálculo defendido pelo governo, com valor menor. \n",
    "\n",
    "MPV 936/2020 - DTQ 12\n",
    "\n",
    "'''"
   ]
  },
  {
   "cell_type": "code",
   "execution_count": 62,
   "id": "f763de7a-3a15-443c-9c5b-62982afe13d1",
   "metadata": {},
   "outputs": [
    {
     "data": {
      "text/plain": [
       "'\\nEncontrado:\\n<descUltimaAberturaVotacao>Votação do DTQ 12: Bloco PP: Destaque do art. 6º da Medida Provisória nº 936/2020, a fim de substituição de dispositivo corresponde no PLV. (161, IV)</descUltimaAberturaVotacao>\\n\\n2242618-52\\n\\n\\n'"
      ]
     },
     "execution_count": 62,
     "metadata": {},
     "output_type": "execute_result"
    }
   ],
   "source": [
    "'''\n",
    "Encontrado:\n",
    "<descUltimaAberturaVotacao>Votação do DTQ 12: Bloco PP: Destaque do art. 6º da Medida Provisória nº 936/2020, a fim de substituição de dispositivo corresponde no PLV. (161, IV)</descUltimaAberturaVotacao>\n",
    "\n",
    "2242618-52\n",
    "\n",
    "\n",
    "'''"
   ]
  },
  {
   "cell_type": "code",
   "execution_count": null,
   "id": "1ac594f9-7cc4-450b-8d24-39f153e78816",
   "metadata": {},
   "outputs": [],
   "source": []
  },
  {
   "cell_type": "code",
   "execution_count": 63,
   "id": "4911b73d-96fc-4d69-843b-efd33ad934da",
   "metadata": {},
   "outputs": [
    {
     "name": "stdout",
     "output_type": "stream",
     "text": [
      "<class 'pandas.core.frame.DataFrame'>\n",
      "RangeIndex: 471 entries, 0 to 470\n",
      "Data columns (total 11 columns):\n",
      " #   Column              Non-Null Count  Dtype \n",
      "---  ------              --------------  ----- \n",
      " 0   id_proposicao       471 non-null    object\n",
      " 1   id_votacao          471 non-null    object\n",
      " 2   nome_votacao        471 non-null    object\n",
      " 3   tipoVoto            471 non-null    object\n",
      " 4   dataRegistroVoto    471 non-null    object\n",
      " 5   id_deputado         471 non-null    int64 \n",
      " 6   nome                471 non-null    object\n",
      " 7   siglaUf             471 non-null    object\n",
      " 8   aval_voto_sim       471 non-null    object\n",
      " 9   aval_voto_nao_obst  471 non-null    object\n",
      " 10  aval_relevancia     471 non-null    object\n",
      "dtypes: int64(1), object(10)\n",
      "memory usage: 40.6+ KB\n"
     ]
    }
   ],
   "source": [
    "id_votos = '2242618-52'\n",
    "url = prefixo_voto+id_votos+sufixo_voto\n",
    "nome_votacao = \"MPV 936/2020\"\n",
    "\n",
    "aval_voto_sim = 'DESFAVORÁVEL'\n",
    "aval_voto_nao_obst = 'FAVORÁVEL'\n",
    "aval_relevancia = 'RELEVANTE'\n",
    "\n",
    "votos = []\n",
    "parametros = {'formato': 'json'}\n",
    "resposta = requests.get(url, parametros)\n",
    "for lista in resposta.json()['dados']:\n",
    "    dicionario = {\"id_proposicao\": id_proposicao,\n",
    "        \"id_votacao\": id_votos,\n",
    "                  \"nome_votacao\": nome_votacao,\n",
    "        \"tipoVoto\": lista['tipoVoto'], \n",
    "                  \"dataRegistroVoto\": lista['dataRegistroVoto'],\n",
    "                  \"id_deputado\": lista['deputado_']['id'],\n",
    "                  \"nome\": lista['deputado_']['nome'],\n",
    "                   \"siglaUf\": lista['deputado_']['siglaUf'],\n",
    "                  \"aval_voto_sim\": aval_voto_sim,\n",
    "                  \"aval_voto_nao_obst\": aval_voto_nao_obst,\n",
    "                  \"aval_relevancia\": aval_relevancia\n",
    "                 }\n",
    "    votos.append(dicionario)\n",
    "df_votacao_votos_MPV_936_2020 = pd.DataFrame(votos)\n",
    "df_votacao_votos_MPV_936_2020.info()"
   ]
  },
  {
   "cell_type": "code",
   "execution_count": 64,
   "id": "2ac3327a-21d9-43e0-b9da-d68f245db3b6",
   "metadata": {},
   "outputs": [
    {
     "data": {
      "text/html": [
       "<div>\n",
       "<style scoped>\n",
       "    .dataframe tbody tr th:only-of-type {\n",
       "        vertical-align: middle;\n",
       "    }\n",
       "\n",
       "    .dataframe tbody tr th {\n",
       "        vertical-align: top;\n",
       "    }\n",
       "\n",
       "    .dataframe thead th {\n",
       "        text-align: right;\n",
       "    }\n",
       "</style>\n",
       "<table border=\"1\" class=\"dataframe\">\n",
       "  <thead>\n",
       "    <tr style=\"text-align: right;\">\n",
       "      <th></th>\n",
       "      <th>id_proposicao</th>\n",
       "      <th>id_votacao</th>\n",
       "      <th>nome_votacao</th>\n",
       "      <th>tipoVoto</th>\n",
       "      <th>dataRegistroVoto</th>\n",
       "      <th>id_deputado</th>\n",
       "      <th>nome</th>\n",
       "      <th>siglaUf</th>\n",
       "      <th>aval_voto_sim</th>\n",
       "      <th>aval_voto_nao_obst</th>\n",
       "      <th>aval_relevancia</th>\n",
       "    </tr>\n",
       "  </thead>\n",
       "  <tbody>\n",
       "    <tr>\n",
       "      <th>455</th>\n",
       "      <td>2242618</td>\n",
       "      <td>2242618-52</td>\n",
       "      <td>MPV 936/2020</td>\n",
       "      <td>Sim</td>\n",
       "      <td>2020-05-28T19:43:25</td>\n",
       "      <td>204571</td>\n",
       "      <td>Alex Santana</td>\n",
       "      <td>BA</td>\n",
       "      <td>DESFAVORÁVEL</td>\n",
       "      <td>FAVORÁVEL</td>\n",
       "      <td>RELEVANTE</td>\n",
       "    </tr>\n",
       "    <tr>\n",
       "      <th>392</th>\n",
       "      <td>2242618</td>\n",
       "      <td>2242618-52</td>\n",
       "      <td>MPV 936/2020</td>\n",
       "      <td>Sim</td>\n",
       "      <td>2020-05-28T19:43:25</td>\n",
       "      <td>204497</td>\n",
       "      <td>Júnior Ferrari</td>\n",
       "      <td>PA</td>\n",
       "      <td>DESFAVORÁVEL</td>\n",
       "      <td>FAVORÁVEL</td>\n",
       "      <td>RELEVANTE</td>\n",
       "    </tr>\n",
       "    <tr>\n",
       "      <th>128</th>\n",
       "      <td>2242618</td>\n",
       "      <td>2242618-52</td>\n",
       "      <td>MPV 936/2020</td>\n",
       "      <td>Não</td>\n",
       "      <td>2020-05-28T19:43:25</td>\n",
       "      <td>160512</td>\n",
       "      <td>Aureo Ribeiro</td>\n",
       "      <td>RJ</td>\n",
       "      <td>DESFAVORÁVEL</td>\n",
       "      <td>FAVORÁVEL</td>\n",
       "      <td>RELEVANTE</td>\n",
       "    </tr>\n",
       "    <tr>\n",
       "      <th>364</th>\n",
       "      <td>2242618</td>\n",
       "      <td>2242618-52</td>\n",
       "      <td>MPV 936/2020</td>\n",
       "      <td>Sim</td>\n",
       "      <td>2020-05-28T19:43:25</td>\n",
       "      <td>204465</td>\n",
       "      <td>Haroldo Cathedral</td>\n",
       "      <td>RR</td>\n",
       "      <td>DESFAVORÁVEL</td>\n",
       "      <td>FAVORÁVEL</td>\n",
       "      <td>RELEVANTE</td>\n",
       "    </tr>\n",
       "    <tr>\n",
       "      <th>424</th>\n",
       "      <td>2242618</td>\n",
       "      <td>2242618-52</td>\n",
       "      <td>MPV 936/2020</td>\n",
       "      <td>Não</td>\n",
       "      <td>2020-05-28T19:43:25</td>\n",
       "      <td>204533</td>\n",
       "      <td>Idilvan Alencar</td>\n",
       "      <td>CE</td>\n",
       "      <td>DESFAVORÁVEL</td>\n",
       "      <td>FAVORÁVEL</td>\n",
       "      <td>RELEVANTE</td>\n",
       "    </tr>\n",
       "  </tbody>\n",
       "</table>\n",
       "</div>"
      ],
      "text/plain": [
       "    id_proposicao  id_votacao  nome_votacao tipoVoto     dataRegistroVoto  \\\n",
       "455       2242618  2242618-52  MPV 936/2020      Sim  2020-05-28T19:43:25   \n",
       "392       2242618  2242618-52  MPV 936/2020      Sim  2020-05-28T19:43:25   \n",
       "128       2242618  2242618-52  MPV 936/2020      Não  2020-05-28T19:43:25   \n",
       "364       2242618  2242618-52  MPV 936/2020      Sim  2020-05-28T19:43:25   \n",
       "424       2242618  2242618-52  MPV 936/2020      Não  2020-05-28T19:43:25   \n",
       "\n",
       "     id_deputado               nome siglaUf aval_voto_sim aval_voto_nao_obst  \\\n",
       "455       204571       Alex Santana      BA  DESFAVORÁVEL          FAVORÁVEL   \n",
       "392       204497     Júnior Ferrari      PA  DESFAVORÁVEL          FAVORÁVEL   \n",
       "128       160512      Aureo Ribeiro      RJ  DESFAVORÁVEL          FAVORÁVEL   \n",
       "364       204465  Haroldo Cathedral      RR  DESFAVORÁVEL          FAVORÁVEL   \n",
       "424       204533    Idilvan Alencar      CE  DESFAVORÁVEL          FAVORÁVEL   \n",
       "\n",
       "    aval_relevancia  \n",
       "455       RELEVANTE  \n",
       "392       RELEVANTE  \n",
       "128       RELEVANTE  \n",
       "364       RELEVANTE  \n",
       "424       RELEVANTE  "
      ]
     },
     "execution_count": 64,
     "metadata": {},
     "output_type": "execute_result"
    }
   ],
   "source": [
    "df_votacao_votos_MPV_936_2020.sample(5)"
   ]
  },
  {
   "cell_type": "code",
   "execution_count": null,
   "id": "767cfd19-b16a-4bee-9156-5584c2d50a16",
   "metadata": {},
   "outputs": [],
   "source": []
  },
  {
   "cell_type": "code",
   "execution_count": null,
   "id": "e96cfb48-b84c-4e61-ad7c-e6d543106df3",
   "metadata": {},
   "outputs": [],
   "source": []
  },
  {
   "cell_type": "markdown",
   "id": "75fa4f8f-a236-4b43-adce-216e53f31c6d",
   "metadata": {},
   "source": [
    "### PEC 6/2019"
   ]
  },
  {
   "cell_type": "code",
   "execution_count": 65,
   "id": "b50f4158-8d96-46f1-89f6-67903f6e0876",
   "metadata": {},
   "outputs": [],
   "source": [
    "# https://www.camara.leg.br/proposicoesWeb/fichadetramitacao?idProposicao=2192459"
   ]
  },
  {
   "cell_type": "code",
   "execution_count": null,
   "id": "b667ce8d-0a92-4240-9286-9ebe7f24c9e4",
   "metadata": {},
   "outputs": [],
   "source": []
  },
  {
   "cell_type": "code",
   "execution_count": 66,
   "id": "e7155987-7f46-4114-a3ab-4d04af8cad2c",
   "metadata": {},
   "outputs": [
    {
     "name": "stdout",
     "output_type": "stream",
     "text": [
      "<class 'pandas.core.frame.DataFrame'>\n",
      "RangeIndex: 228 entries, 0 to 227\n",
      "Data columns (total 11 columns):\n",
      " #   Column               Non-Null Count  Dtype  \n",
      "---  ------               --------------  -----  \n",
      " 0   id                   228 non-null    object \n",
      " 1   uri                  228 non-null    object \n",
      " 2   data                 228 non-null    object \n",
      " 3   dataHoraRegistro     228 non-null    object \n",
      " 4   siglaOrgao           228 non-null    object \n",
      " 5   uriOrgao             228 non-null    object \n",
      " 6   uriEvento            219 non-null    object \n",
      " 7   proposicaoObjeto     155 non-null    object \n",
      " 8   uriProposicaoObjeto  155 non-null    object \n",
      " 9   descricao            228 non-null    object \n",
      " 10  aprovacao            211 non-null    float64\n",
      "dtypes: float64(1), object(10)\n",
      "memory usage: 19.7+ KB\n"
     ]
    }
   ],
   "source": [
    "id_proposicao = '2192459'\n",
    "url = prefixo_pl+id_proposicao+sufixo_pl\n",
    "dados_gerais = []\n",
    "parametros = {'formato': 'json'}\n",
    "resposta = requests.get(url, parametros)\n",
    "for lista in resposta.json()['dados']:\n",
    "    dicionario = {\"id\": lista['id'], \n",
    "                  \"uri\": lista['uri'],\n",
    "                  \"data\": lista['data'],\n",
    "                  \"dataHoraRegistro\": lista['dataHoraRegistro'],\n",
    "                  \"siglaOrgao\": lista['siglaOrgao'],\n",
    "                  \"uriOrgao\": lista['uriOrgao'],\n",
    "                  \"uriEvento\": lista['uriEvento'],\n",
    "                  \"proposicaoObjeto\": lista['proposicaoObjeto'],\n",
    "                  \"uriProposicaoObjeto\": lista['uriProposicaoObjeto'],\n",
    "                  \"descricao\": lista['descricao'],\n",
    "                  \"aprovacao\": lista['aprovacao']\n",
    "                 }\n",
    "    dados_gerais.append(dicionario)\n",
    "df_votacao_api = pd.DataFrame(dados_gerais)\n",
    "df_votacao_api.info()\n",
    "df_votacao_api.to_excel('resultados/votacoes/PEC_6_2019_todas_votacoes.xlsx',sheet_name='Sheet1',index=False)"
   ]
  },
  {
   "cell_type": "code",
   "execution_count": null,
   "id": "ddd0822a-41ba-442f-8c3e-9d678283cd74",
   "metadata": {},
   "outputs": [],
   "source": []
  },
  {
   "cell_type": "code",
   "execution_count": 67,
   "id": "344c4327-4adf-42bf-97b3-bdd80b2a7ff9",
   "metadata": {},
   "outputs": [
    {
     "data": {
      "text/plain": [
       "'\\nÉ a PEC da Reforma da Previdência. O texto original instituía uma contribuição ao INSS para pequenos produtores rurais, pescadores, seringueiros e outros segurados especiais. \\nEssa modificação, porém, foi retirada durante a tramitação da PEC nas comissões e, por isso, não foi votada. No entanto, as mudanças na aposentadoria promovidas pela \\nreforma ainda afetam trabalhadores do campo que atuam com carteira assinada ou fazem trabalhos avulsos, como os boias-frias, dificultando a obtenção da aposentadoria. \\nPor ser uma PEC, houve votação em dois turnos. No primeiro turno, houve votação nominal de vários destaques. O texto retornou à comissão especial para elaborar a votação para o segundo turno. \\nSelecionamos para avaliação o segundo turno de votação da PEC 6/2019, que dava uma visão geral do projeto. Quem votou \"sim\" concordava com a Reforma da Previdência.\\n\\nPEC Nº 6/2019 - PROPOSTA DE EMENDA À CONSTITUIÇÃO - SEGUNDO TURNO\\n\\n\\n'"
      ]
     },
     "execution_count": 67,
     "metadata": {},
     "output_type": "execute_result"
    }
   ],
   "source": [
    "'''\n",
    "É a PEC da Reforma da Previdência. O texto original instituía uma contribuição ao INSS para pequenos produtores rurais, pescadores, seringueiros e outros segurados especiais. \n",
    "Essa modificação, porém, foi retirada durante a tramitação da PEC nas comissões e, por isso, não foi votada. No entanto, as mudanças na aposentadoria promovidas pela \n",
    "reforma ainda afetam trabalhadores do campo que atuam com carteira assinada ou fazem trabalhos avulsos, como os boias-frias, dificultando a obtenção da aposentadoria. \n",
    "Por ser uma PEC, houve votação em dois turnos. No primeiro turno, houve votação nominal de vários destaques. O texto retornou à comissão especial para elaborar a votação para o segundo turno. \n",
    "Selecionamos para avaliação o segundo turno de votação da PEC 6/2019, que dava uma visão geral do projeto. Quem votou \"sim\" concordava com a Reforma da Previdência.\n",
    "\n",
    "PEC Nº 6/2019 - PROPOSTA DE EMENDA À CONSTITUIÇÃO - SEGUNDO TURNO\n",
    "\n",
    "\n",
    "'''"
   ]
  },
  {
   "cell_type": "code",
   "execution_count": 68,
   "id": "0fa3916b-68d1-45c2-8ad4-5a6283aba2e0",
   "metadata": {},
   "outputs": [
    {
     "data": {
      "text/plain": [
       "'\\nEncontrado:\\nAprovada, em segundo turno, a Proposta de Emenda à Constituição nº 6, de 2019, ressalvados os destaques. Sim: 370; Não: 124; abstenção: 1; Total: 495.\\n\\n2192459-786\\n\\n'"
      ]
     },
     "execution_count": 68,
     "metadata": {},
     "output_type": "execute_result"
    }
   ],
   "source": [
    "'''\n",
    "Encontrado:\n",
    "Aprovada, em segundo turno, a Proposta de Emenda à Constituição nº 6, de 2019, ressalvados os destaques. Sim: 370; Não: 124; abstenção: 1; Total: 495.\n",
    "\n",
    "2192459-786\n",
    "\n",
    "'''"
   ]
  },
  {
   "cell_type": "code",
   "execution_count": null,
   "id": "a33f5ca7-7855-482a-a0d0-a21ea9aa6100",
   "metadata": {},
   "outputs": [],
   "source": []
  },
  {
   "cell_type": "code",
   "execution_count": 69,
   "id": "b4154596-6bea-4cc1-8800-eb88ecec253d",
   "metadata": {},
   "outputs": [
    {
     "name": "stdout",
     "output_type": "stream",
     "text": [
      "<class 'pandas.core.frame.DataFrame'>\n",
      "RangeIndex: 495 entries, 0 to 494\n",
      "Data columns (total 11 columns):\n",
      " #   Column              Non-Null Count  Dtype \n",
      "---  ------              --------------  ----- \n",
      " 0   id_proposicao       495 non-null    object\n",
      " 1   id_votacao          495 non-null    object\n",
      " 2   nome_votacao        495 non-null    object\n",
      " 3   tipoVoto            495 non-null    object\n",
      " 4   dataRegistroVoto    495 non-null    object\n",
      " 5   id_deputado         495 non-null    int64 \n",
      " 6   nome                495 non-null    object\n",
      " 7   siglaUf             495 non-null    object\n",
      " 8   aval_voto_sim       495 non-null    object\n",
      " 9   aval_voto_nao_obst  495 non-null    object\n",
      " 10  aval_relevancia     495 non-null    object\n",
      "dtypes: int64(1), object(10)\n",
      "memory usage: 42.7+ KB\n"
     ]
    }
   ],
   "source": [
    "id_votos = '2192459-786'\n",
    "url = prefixo_voto+id_votos+sufixo_voto\n",
    "nome_votacao = \"PEC 6/2019\"\n",
    "\n",
    "aval_voto_sim = 'DESFAVORÁVEL'\n",
    "aval_voto_nao_obst = 'FAVORÁVEL'\n",
    "aval_relevancia = 'MUITO RELEVANTE'\n",
    "\n",
    "votos = []\n",
    "parametros = {'formato': 'json'}\n",
    "resposta = requests.get(url, parametros)\n",
    "for lista in resposta.json()['dados']:\n",
    "    dicionario = {\"id_proposicao\": id_proposicao,\n",
    "        \"id_votacao\": id_votos,\n",
    "                  \"nome_votacao\": nome_votacao,\n",
    "        \"tipoVoto\": lista['tipoVoto'], \n",
    "                  \"dataRegistroVoto\": lista['dataRegistroVoto'],\n",
    "                  \"id_deputado\": lista['deputado_']['id'],\n",
    "                  \"nome\": lista['deputado_']['nome'],\n",
    "                   \"siglaUf\": lista['deputado_']['siglaUf'],\n",
    "                  \"aval_voto_sim\": aval_voto_sim,\n",
    "                  \"aval_voto_nao_obst\": aval_voto_nao_obst,\n",
    "                  \"aval_relevancia\": aval_relevancia\n",
    "                 }\n",
    "    votos.append(dicionario)\n",
    "df_votacao_votos_PEC_6_2019 = pd.DataFrame(votos)\n",
    "df_votacao_votos_PEC_6_2019.info()"
   ]
  },
  {
   "cell_type": "code",
   "execution_count": 70,
   "id": "4de6203d-d2e2-4ac9-b04b-f373386830f6",
   "metadata": {},
   "outputs": [
    {
     "data": {
      "text/html": [
       "<div>\n",
       "<style scoped>\n",
       "    .dataframe tbody tr th:only-of-type {\n",
       "        vertical-align: middle;\n",
       "    }\n",
       "\n",
       "    .dataframe tbody tr th {\n",
       "        vertical-align: top;\n",
       "    }\n",
       "\n",
       "    .dataframe thead th {\n",
       "        text-align: right;\n",
       "    }\n",
       "</style>\n",
       "<table border=\"1\" class=\"dataframe\">\n",
       "  <thead>\n",
       "    <tr style=\"text-align: right;\">\n",
       "      <th></th>\n",
       "      <th>id_proposicao</th>\n",
       "      <th>id_votacao</th>\n",
       "      <th>nome_votacao</th>\n",
       "      <th>tipoVoto</th>\n",
       "      <th>dataRegistroVoto</th>\n",
       "      <th>id_deputado</th>\n",
       "      <th>nome</th>\n",
       "      <th>siglaUf</th>\n",
       "      <th>aval_voto_sim</th>\n",
       "      <th>aval_voto_nao_obst</th>\n",
       "      <th>aval_relevancia</th>\n",
       "    </tr>\n",
       "  </thead>\n",
       "  <tbody>\n",
       "    <tr>\n",
       "      <th>279</th>\n",
       "      <td>2192459</td>\n",
       "      <td>2192459-786</td>\n",
       "      <td>PEC 6/2019</td>\n",
       "      <td>Sim</td>\n",
       "      <td>2019-08-07T00:13:34</td>\n",
       "      <td>204412</td>\n",
       "      <td>Dr. Zacharias Calil</td>\n",
       "      <td>GO</td>\n",
       "      <td>DESFAVORÁVEL</td>\n",
       "      <td>FAVORÁVEL</td>\n",
       "      <td>MUITO RELEVANTE</td>\n",
       "    </tr>\n",
       "    <tr>\n",
       "      <th>194</th>\n",
       "      <td>2192459</td>\n",
       "      <td>2192459-786</td>\n",
       "      <td>PEC 6/2019</td>\n",
       "      <td>Sim</td>\n",
       "      <td>2019-08-07T00:13:55</td>\n",
       "      <td>204376</td>\n",
       "      <td>Coronel Armando</td>\n",
       "      <td>SC</td>\n",
       "      <td>DESFAVORÁVEL</td>\n",
       "      <td>FAVORÁVEL</td>\n",
       "      <td>MUITO RELEVANTE</td>\n",
       "    </tr>\n",
       "    <tr>\n",
       "      <th>441</th>\n",
       "      <td>2192459</td>\n",
       "      <td>2192459-786</td>\n",
       "      <td>PEC 6/2019</td>\n",
       "      <td>Sim</td>\n",
       "      <td>2019-08-07T00:13:07</td>\n",
       "      <td>160655</td>\n",
       "      <td>Ricardo Izar</td>\n",
       "      <td>SP</td>\n",
       "      <td>DESFAVORÁVEL</td>\n",
       "      <td>FAVORÁVEL</td>\n",
       "      <td>MUITO RELEVANTE</td>\n",
       "    </tr>\n",
       "    <tr>\n",
       "      <th>449</th>\n",
       "      <td>2192459</td>\n",
       "      <td>2192459-786</td>\n",
       "      <td>PEC 6/2019</td>\n",
       "      <td>Sim</td>\n",
       "      <td>2019-08-07T00:13:06</td>\n",
       "      <td>204367</td>\n",
       "      <td>Daniel Freitas</td>\n",
       "      <td>SC</td>\n",
       "      <td>DESFAVORÁVEL</td>\n",
       "      <td>FAVORÁVEL</td>\n",
       "      <td>MUITO RELEVANTE</td>\n",
       "    </tr>\n",
       "    <tr>\n",
       "      <th>51</th>\n",
       "      <td>2192459</td>\n",
       "      <td>2192459-786</td>\n",
       "      <td>PEC 6/2019</td>\n",
       "      <td>Sim</td>\n",
       "      <td>2019-08-07T00:15:35</td>\n",
       "      <td>143632</td>\n",
       "      <td>Domingos Neto</td>\n",
       "      <td>CE</td>\n",
       "      <td>DESFAVORÁVEL</td>\n",
       "      <td>FAVORÁVEL</td>\n",
       "      <td>MUITO RELEVANTE</td>\n",
       "    </tr>\n",
       "  </tbody>\n",
       "</table>\n",
       "</div>"
      ],
      "text/plain": [
       "    id_proposicao   id_votacao nome_votacao tipoVoto     dataRegistroVoto  \\\n",
       "279       2192459  2192459-786   PEC 6/2019      Sim  2019-08-07T00:13:34   \n",
       "194       2192459  2192459-786   PEC 6/2019      Sim  2019-08-07T00:13:55   \n",
       "441       2192459  2192459-786   PEC 6/2019      Sim  2019-08-07T00:13:07   \n",
       "449       2192459  2192459-786   PEC 6/2019      Sim  2019-08-07T00:13:06   \n",
       "51        2192459  2192459-786   PEC 6/2019      Sim  2019-08-07T00:15:35   \n",
       "\n",
       "     id_deputado                 nome siglaUf aval_voto_sim  \\\n",
       "279       204412  Dr. Zacharias Calil      GO  DESFAVORÁVEL   \n",
       "194       204376      Coronel Armando      SC  DESFAVORÁVEL   \n",
       "441       160655         Ricardo Izar      SP  DESFAVORÁVEL   \n",
       "449       204367       Daniel Freitas      SC  DESFAVORÁVEL   \n",
       "51        143632        Domingos Neto      CE  DESFAVORÁVEL   \n",
       "\n",
       "    aval_voto_nao_obst  aval_relevancia  \n",
       "279          FAVORÁVEL  MUITO RELEVANTE  \n",
       "194          FAVORÁVEL  MUITO RELEVANTE  \n",
       "441          FAVORÁVEL  MUITO RELEVANTE  \n",
       "449          FAVORÁVEL  MUITO RELEVANTE  \n",
       "51           FAVORÁVEL  MUITO RELEVANTE  "
      ]
     },
     "execution_count": 70,
     "metadata": {},
     "output_type": "execute_result"
    }
   ],
   "source": [
    "df_votacao_votos_PEC_6_2019.sample(5)"
   ]
  },
  {
   "cell_type": "code",
   "execution_count": null,
   "id": "c71778c5-210b-4bf6-851a-41b5800907f8",
   "metadata": {},
   "outputs": [],
   "source": []
  },
  {
   "cell_type": "code",
   "execution_count": null,
   "id": "9bf8137b-047f-40eb-8413-5c190e837b82",
   "metadata": {},
   "outputs": [],
   "source": []
  },
  {
   "cell_type": "markdown",
   "id": "22671a67-3f4a-417f-88b2-e0ec1b91b78c",
   "metadata": {},
   "source": [
    "### PL 1100/2021"
   ]
  },
  {
   "cell_type": "code",
   "execution_count": 71,
   "id": "a8cc7bd0-264b-45fc-a179-e8d58c6e0338",
   "metadata": {},
   "outputs": [],
   "source": [
    "# https://www.camara.leg.br/proposicoesWeb/fichadetramitacao?idProposicao=2275723"
   ]
  },
  {
   "cell_type": "code",
   "execution_count": null,
   "id": "5672d97b-e65c-42f5-90c3-967e107702d9",
   "metadata": {},
   "outputs": [],
   "source": []
  },
  {
   "cell_type": "code",
   "execution_count": 72,
   "id": "0a580ef9-8ccf-460b-a0e0-9a5406a195bc",
   "metadata": {},
   "outputs": [
    {
     "name": "stdout",
     "output_type": "stream",
     "text": [
      "<class 'pandas.core.frame.DataFrame'>\n",
      "RangeIndex: 6 entries, 0 to 5\n",
      "Data columns (total 11 columns):\n",
      " #   Column               Non-Null Count  Dtype \n",
      "---  ------               --------------  ----- \n",
      " 0   id                   6 non-null      object\n",
      " 1   uri                  6 non-null      object\n",
      " 2   data                 6 non-null      object\n",
      " 3   dataHoraRegistro     6 non-null      object\n",
      " 4   siglaOrgao           6 non-null      object\n",
      " 5   uriOrgao             6 non-null      object\n",
      " 6   uriEvento            3 non-null      object\n",
      " 7   proposicaoObjeto     1 non-null      object\n",
      " 8   uriProposicaoObjeto  1 non-null      object\n",
      " 9   descricao            6 non-null      object\n",
      " 10  aprovacao            6 non-null      int64 \n",
      "dtypes: int64(1), object(10)\n",
      "memory usage: 656.0+ bytes\n"
     ]
    }
   ],
   "source": [
    "id_proposicao = '2275723'\n",
    "url = prefixo_pl+id_proposicao+sufixo_pl\n",
    "dados_gerais = []\n",
    "parametros = {'formato': 'json'}\n",
    "resposta = requests.get(url, parametros)\n",
    "for lista in resposta.json()['dados']:\n",
    "    dicionario = {\"id\": lista['id'], \n",
    "                  \"uri\": lista['uri'],\n",
    "                  \"data\": lista['data'],\n",
    "                  \"dataHoraRegistro\": lista['dataHoraRegistro'],\n",
    "                  \"siglaOrgao\": lista['siglaOrgao'],\n",
    "                  \"uriOrgao\": lista['uriOrgao'],\n",
    "                  \"uriEvento\": lista['uriEvento'],\n",
    "                  \"proposicaoObjeto\": lista['proposicaoObjeto'],\n",
    "                  \"uriProposicaoObjeto\": lista['uriProposicaoObjeto'],\n",
    "                  \"descricao\": lista['descricao'],\n",
    "                  \"aprovacao\": lista['aprovacao']\n",
    "                 }\n",
    "    dados_gerais.append(dicionario)\n",
    "df_votacao_api = pd.DataFrame(dados_gerais)\n",
    "df_votacao_api.info()\n",
    "df_votacao_api.to_excel('resultados/votacoes/PL_1100_2021_todas_votacoes.xlsx',sheet_name='Sheet1',index=False)"
   ]
  },
  {
   "cell_type": "code",
   "execution_count": null,
   "id": "5ae839d0-2517-4af7-87b9-8456d7aff418",
   "metadata": {},
   "outputs": [],
   "source": []
  },
  {
   "cell_type": "code",
   "execution_count": null,
   "id": "df324db4-68e5-46bc-934a-35cae788347a",
   "metadata": {},
   "outputs": [],
   "source": []
  },
  {
   "cell_type": "code",
   "execution_count": 73,
   "id": "f43e1144-acff-42c8-96ec-e9f52c65a9af",
   "metadata": {},
   "outputs": [
    {
     "data": {
      "text/plain": [
       "'\\nO projeto concedia isenção do Imposto de Renda e facilitava o acesso a benefícios do INSS por pessoas que sobreviveram à COVID-19, mas ficaram com complicações ou sequelas graves. \\nFoi aprovado na Câmara e seguiu para o Senado. Selecionamos para avaliação a votação da Subemenda Substitutiva Global, \\nadotada pelo relator da Comissão de Seguridade Social e Família, que trazia uma visão geral do projeto. Votou \"sim\" quem era a favor de conceder os benefícios a quem sobreviveu à Covid.\\n\\nPL   Nº 1100/2021 - SUBEMENDA SUBSTITUTIVA\\n\\n'"
      ]
     },
     "execution_count": 73,
     "metadata": {},
     "output_type": "execute_result"
    }
   ],
   "source": [
    "'''\n",
    "O projeto concedia isenção do Imposto de Renda e facilitava o acesso a benefícios do INSS por pessoas que sobreviveram à COVID-19, mas ficaram com complicações ou sequelas graves. \n",
    "Foi aprovado na Câmara e seguiu para o Senado. Selecionamos para avaliação a votação da Subemenda Substitutiva Global, \n",
    "adotada pelo relator da Comissão de Seguridade Social e Família, que trazia uma visão geral do projeto. Votou \"sim\" quem era a favor de conceder os benefícios a quem sobreviveu à Covid.\n",
    "\n",
    "PL   Nº 1100/2021 - SUBEMENDA SUBSTITUTIVA\n",
    "\n",
    "'''"
   ]
  },
  {
   "cell_type": "code",
   "execution_count": 74,
   "id": "3e55c58f-cc2e-4781-b686-2d1789f9244e",
   "metadata": {},
   "outputs": [
    {
     "data": {
      "text/plain": [
       "'\\nEncontrado:\\nAprovada a Subemenda Substitutiva Global ao Projeto de Lei nº 1.100, de 2021, adotada pelo relator da Comissão de Seguridade Social e Família. Sim: 438; não: 31; total: 469.\\n\\n2275723-79\\n\\n'"
      ]
     },
     "execution_count": 74,
     "metadata": {},
     "output_type": "execute_result"
    }
   ],
   "source": [
    "'''\n",
    "Encontrado:\n",
    "Aprovada a Subemenda Substitutiva Global ao Projeto de Lei nº 1.100, de 2021, adotada pelo relator da Comissão de Seguridade Social e Família. Sim: 438; não: 31; total: 469.\n",
    "\n",
    "2275723-79\n",
    "\n",
    "'''"
   ]
  },
  {
   "cell_type": "code",
   "execution_count": null,
   "id": "a146ec81-12d6-444a-aac2-120be1af6ba1",
   "metadata": {},
   "outputs": [],
   "source": []
  },
  {
   "cell_type": "code",
   "execution_count": 75,
   "id": "74a0c3bc-beb8-4aac-b026-ed9ee534dc52",
   "metadata": {},
   "outputs": [
    {
     "name": "stdout",
     "output_type": "stream",
     "text": [
      "<class 'pandas.core.frame.DataFrame'>\n",
      "RangeIndex: 471 entries, 0 to 470\n",
      "Data columns (total 11 columns):\n",
      " #   Column              Non-Null Count  Dtype \n",
      "---  ------              --------------  ----- \n",
      " 0   id_proposicao       471 non-null    object\n",
      " 1   id_votacao          471 non-null    object\n",
      " 2   nome_votacao        471 non-null    object\n",
      " 3   tipoVoto            471 non-null    object\n",
      " 4   dataRegistroVoto    471 non-null    object\n",
      " 5   id_deputado         471 non-null    int64 \n",
      " 6   nome                471 non-null    object\n",
      " 7   siglaUf             471 non-null    object\n",
      " 8   aval_voto_sim       471 non-null    object\n",
      " 9   aval_voto_nao_obst  471 non-null    object\n",
      " 10  aval_relevancia     471 non-null    object\n",
      "dtypes: int64(1), object(10)\n",
      "memory usage: 40.6+ KB\n"
     ]
    }
   ],
   "source": [
    "id_votos = '2275723-79'\n",
    "url = prefixo_voto+id_votos+sufixo_voto\n",
    "nome_votacao = \"PL 1100/2021\"\n",
    "\n",
    "aval_voto_sim = 'FAVORÁVEL'\n",
    "aval_voto_nao_obst = 'DESFAVORÁVEL'\n",
    "aval_relevancia = 'RELEVANTE'\n",
    "\n",
    "votos = []\n",
    "parametros = {'formato': 'json'}\n",
    "resposta = requests.get(url, parametros)\n",
    "for lista in resposta.json()['dados']:\n",
    "    dicionario = {\"id_proposicao\": id_proposicao,\n",
    "        \"id_votacao\": id_votos,\n",
    "                  \"nome_votacao\": nome_votacao,\n",
    "        \"tipoVoto\": lista['tipoVoto'], \n",
    "                  \"dataRegistroVoto\": lista['dataRegistroVoto'],\n",
    "                  \"id_deputado\": lista['deputado_']['id'],\n",
    "                  \"nome\": lista['deputado_']['nome'],\n",
    "                   \"siglaUf\": lista['deputado_']['siglaUf'],\n",
    "                  \"aval_voto_sim\": aval_voto_sim,\n",
    "                  \"aval_voto_nao_obst\": aval_voto_nao_obst,\n",
    "                  \"aval_relevancia\": aval_relevancia\n",
    "                 }\n",
    "    votos.append(dicionario)\n",
    "df_votacao_votos_PL_1100_2021 = pd.DataFrame(votos)\n",
    "df_votacao_votos_PL_1100_2021.info()"
   ]
  },
  {
   "cell_type": "code",
   "execution_count": 76,
   "id": "d52e9916-b510-4261-ad09-d487b1e4ad5f",
   "metadata": {},
   "outputs": [
    {
     "data": {
      "text/html": [
       "<div>\n",
       "<style scoped>\n",
       "    .dataframe tbody tr th:only-of-type {\n",
       "        vertical-align: middle;\n",
       "    }\n",
       "\n",
       "    .dataframe tbody tr th {\n",
       "        vertical-align: top;\n",
       "    }\n",
       "\n",
       "    .dataframe thead th {\n",
       "        text-align: right;\n",
       "    }\n",
       "</style>\n",
       "<table border=\"1\" class=\"dataframe\">\n",
       "  <thead>\n",
       "    <tr style=\"text-align: right;\">\n",
       "      <th></th>\n",
       "      <th>id_proposicao</th>\n",
       "      <th>id_votacao</th>\n",
       "      <th>nome_votacao</th>\n",
       "      <th>tipoVoto</th>\n",
       "      <th>dataRegistroVoto</th>\n",
       "      <th>id_deputado</th>\n",
       "      <th>nome</th>\n",
       "      <th>siglaUf</th>\n",
       "      <th>aval_voto_sim</th>\n",
       "      <th>aval_voto_nao_obst</th>\n",
       "      <th>aval_relevancia</th>\n",
       "    </tr>\n",
       "  </thead>\n",
       "  <tbody>\n",
       "    <tr>\n",
       "      <th>284</th>\n",
       "      <td>2275723</td>\n",
       "      <td>2275723-79</td>\n",
       "      <td>PL 1100/2021</td>\n",
       "      <td>Sim</td>\n",
       "      <td>2021-09-22T17:31:24</td>\n",
       "      <td>160527</td>\n",
       "      <td>Aguinaldo Ribeiro</td>\n",
       "      <td>PB</td>\n",
       "      <td>FAVORÁVEL</td>\n",
       "      <td>DESFAVORÁVEL</td>\n",
       "      <td>RELEVANTE</td>\n",
       "    </tr>\n",
       "    <tr>\n",
       "      <th>464</th>\n",
       "      <td>2275723</td>\n",
       "      <td>2275723-79</td>\n",
       "      <td>PL 1100/2021</td>\n",
       "      <td>Não</td>\n",
       "      <td>2021-09-22T17:29:44</td>\n",
       "      <td>73788</td>\n",
       "      <td>Ricardo Barros</td>\n",
       "      <td>PR</td>\n",
       "      <td>FAVORÁVEL</td>\n",
       "      <td>DESFAVORÁVEL</td>\n",
       "      <td>RELEVANTE</td>\n",
       "    </tr>\n",
       "    <tr>\n",
       "      <th>79</th>\n",
       "      <td>2275723</td>\n",
       "      <td>2275723-79</td>\n",
       "      <td>PL 1100/2021</td>\n",
       "      <td>Sim</td>\n",
       "      <td>2021-09-22T17:35:20</td>\n",
       "      <td>74376</td>\n",
       "      <td>Vander Loubet</td>\n",
       "      <td>MS</td>\n",
       "      <td>FAVORÁVEL</td>\n",
       "      <td>DESFAVORÁVEL</td>\n",
       "      <td>RELEVANTE</td>\n",
       "    </tr>\n",
       "    <tr>\n",
       "      <th>165</th>\n",
       "      <td>2275723</td>\n",
       "      <td>2275723-79</td>\n",
       "      <td>PL 1100/2021</td>\n",
       "      <td>Sim</td>\n",
       "      <td>2021-09-22T17:33:06</td>\n",
       "      <td>74090</td>\n",
       "      <td>Átila Lins</td>\n",
       "      <td>AM</td>\n",
       "      <td>FAVORÁVEL</td>\n",
       "      <td>DESFAVORÁVEL</td>\n",
       "      <td>RELEVANTE</td>\n",
       "    </tr>\n",
       "    <tr>\n",
       "      <th>384</th>\n",
       "      <td>2275723</td>\n",
       "      <td>2275723-79</td>\n",
       "      <td>PL 1100/2021</td>\n",
       "      <td>Sim</td>\n",
       "      <td>2021-09-22T17:30:35</td>\n",
       "      <td>73463</td>\n",
       "      <td>Osmar Serraglio</td>\n",
       "      <td>PR</td>\n",
       "      <td>FAVORÁVEL</td>\n",
       "      <td>DESFAVORÁVEL</td>\n",
       "      <td>RELEVANTE</td>\n",
       "    </tr>\n",
       "  </tbody>\n",
       "</table>\n",
       "</div>"
      ],
      "text/plain": [
       "    id_proposicao  id_votacao  nome_votacao tipoVoto     dataRegistroVoto  \\\n",
       "284       2275723  2275723-79  PL 1100/2021      Sim  2021-09-22T17:31:24   \n",
       "464       2275723  2275723-79  PL 1100/2021      Não  2021-09-22T17:29:44   \n",
       "79        2275723  2275723-79  PL 1100/2021      Sim  2021-09-22T17:35:20   \n",
       "165       2275723  2275723-79  PL 1100/2021      Sim  2021-09-22T17:33:06   \n",
       "384       2275723  2275723-79  PL 1100/2021      Sim  2021-09-22T17:30:35   \n",
       "\n",
       "     id_deputado               nome siglaUf aval_voto_sim aval_voto_nao_obst  \\\n",
       "284       160527  Aguinaldo Ribeiro      PB     FAVORÁVEL       DESFAVORÁVEL   \n",
       "464        73788     Ricardo Barros      PR     FAVORÁVEL       DESFAVORÁVEL   \n",
       "79         74376      Vander Loubet      MS     FAVORÁVEL       DESFAVORÁVEL   \n",
       "165        74090         Átila Lins      AM     FAVORÁVEL       DESFAVORÁVEL   \n",
       "384        73463    Osmar Serraglio      PR     FAVORÁVEL       DESFAVORÁVEL   \n",
       "\n",
       "    aval_relevancia  \n",
       "284       RELEVANTE  \n",
       "464       RELEVANTE  \n",
       "79        RELEVANTE  \n",
       "165       RELEVANTE  \n",
       "384       RELEVANTE  "
      ]
     },
     "execution_count": 76,
     "metadata": {},
     "output_type": "execute_result"
    }
   ],
   "source": [
    "df_votacao_votos_PL_1100_2021.sample(5)"
   ]
  },
  {
   "cell_type": "code",
   "execution_count": null,
   "id": "244fd919-915b-47b3-8b68-54cc72b7ac7c",
   "metadata": {},
   "outputs": [],
   "source": []
  },
  {
   "cell_type": "code",
   "execution_count": null,
   "id": "fce1733c-087b-4aa1-8707-2db7cd4cb27b",
   "metadata": {},
   "outputs": [],
   "source": []
  },
  {
   "cell_type": "code",
   "execution_count": null,
   "id": "cae79c8d-f8eb-4705-8d7d-0fa45cb5e7ae",
   "metadata": {},
   "outputs": [],
   "source": []
  },
  {
   "cell_type": "markdown",
   "id": "de3d97eb-d1ad-4424-9556-0dad7bf66a1e",
   "metadata": {},
   "source": [
    "### PL 2058/2021"
   ]
  },
  {
   "cell_type": "code",
   "execution_count": 77,
   "id": "80867b5c-fe8b-4959-bef7-fd414b6cccb3",
   "metadata": {},
   "outputs": [],
   "source": [
    "# https://www.camara.leg.br/proposicoesWeb/fichadetramitacao?idProposicao=2285889"
   ]
  },
  {
   "cell_type": "code",
   "execution_count": null,
   "id": "d614cbb8-b46d-4c73-9e1f-fa48ac88ef13",
   "metadata": {},
   "outputs": [],
   "source": []
  },
  {
   "cell_type": "code",
   "execution_count": 78,
   "id": "0c1181b1-b80c-4a76-90b1-30c10ce8d50e",
   "metadata": {},
   "outputs": [
    {
     "name": "stdout",
     "output_type": "stream",
     "text": [
      "<class 'pandas.core.frame.DataFrame'>\n",
      "RangeIndex: 23 entries, 0 to 22\n",
      "Data columns (total 11 columns):\n",
      " #   Column               Non-Null Count  Dtype  \n",
      "---  ------               --------------  -----  \n",
      " 0   id                   23 non-null     object \n",
      " 1   uri                  23 non-null     object \n",
      " 2   data                 23 non-null     object \n",
      " 3   dataHoraRegistro     23 non-null     object \n",
      " 4   siglaOrgao           23 non-null     object \n",
      " 5   uriOrgao             23 non-null     object \n",
      " 6   uriEvento            20 non-null     object \n",
      " 7   proposicaoObjeto     1 non-null      object \n",
      " 8   uriProposicaoObjeto  1 non-null      object \n",
      " 9   descricao            23 non-null     object \n",
      " 10  aprovacao            19 non-null     float64\n",
      "dtypes: float64(1), object(10)\n",
      "memory usage: 2.1+ KB\n"
     ]
    }
   ],
   "source": [
    "id_proposicao = '2285889'\n",
    "url = prefixo_pl+id_proposicao+sufixo_pl\n",
    "dados_gerais = []\n",
    "parametros = {'formato': 'json'}\n",
    "resposta = requests.get(url, parametros)\n",
    "for lista in resposta.json()['dados']:\n",
    "    dicionario = {\"id\": lista['id'], \n",
    "                  \"uri\": lista['uri'],\n",
    "                  \"data\": lista['data'],\n",
    "                  \"dataHoraRegistro\": lista['dataHoraRegistro'],\n",
    "                  \"siglaOrgao\": lista['siglaOrgao'],\n",
    "                  \"uriOrgao\": lista['uriOrgao'],\n",
    "                  \"uriEvento\": lista['uriEvento'],\n",
    "                  \"proposicaoObjeto\": lista['proposicaoObjeto'],\n",
    "                  \"uriProposicaoObjeto\": lista['uriProposicaoObjeto'],\n",
    "                  \"descricao\": lista['descricao'],\n",
    "                  \"aprovacao\": lista['aprovacao']\n",
    "                 }\n",
    "    dados_gerais.append(dicionario)\n",
    "df_votacao_api = pd.DataFrame(dados_gerais)\n",
    "df_votacao_api.info()\n",
    "df_votacao_api.to_excel('resultados/votacoes/PL_2058_2021_todas_votacoes.xlsx',sheet_name='Sheet1',index=False)"
   ]
  },
  {
   "cell_type": "code",
   "execution_count": null,
   "id": "d6b5a27a-7415-4e78-9d9c-8f7d825d0483",
   "metadata": {},
   "outputs": [],
   "source": []
  },
  {
   "cell_type": "code",
   "execution_count": 79,
   "id": "6e5d18e1-14f3-4579-9ca6-2da12569bb43",
   "metadata": {},
   "outputs": [
    {
     "data": {
      "text/plain": [
       "'\\nAs grávidas tinham sido dispensadas de trabalho presencial na pandemia por um PL anterior. Este projeto sugeria a possibilidade de volta ao trabalho para grávidas vacinadas ou as que \\ndeclararem que não queriam se vacinar. Os opositores do projeto criticavam a medida com base no fato de que a pandemia vitimou muitas grávidas no Brasil. Teve votação nominal do substitutivo \\ne de destaques. Aprovado na Câmara, seguiu para o Senado, onde foi alterado. Selecionamos para avaliação a votação da Subemenda Substitutiva Global adotada pela relatora da Comissão de \\nDefesa dos Direitos da Mulher, que dá uma visão geral do projeto. Votou \"sim\" quem era a favor de fazer com que as grávidas vacinadas ou que optaram por não se vacinar voltassem ao trabalho presencial.\\n\\nPL   Nº 2058/2021 - SUBEMENDA SUBSTITUTIVA\\n\\n'"
      ]
     },
     "execution_count": 79,
     "metadata": {},
     "output_type": "execute_result"
    }
   ],
   "source": [
    "'''\n",
    "As grávidas tinham sido dispensadas de trabalho presencial na pandemia por um PL anterior. Este projeto sugeria a possibilidade de volta ao trabalho para grávidas vacinadas ou as que \n",
    "declararem que não queriam se vacinar. Os opositores do projeto criticavam a medida com base no fato de que a pandemia vitimou muitas grávidas no Brasil. Teve votação nominal do substitutivo \n",
    "e de destaques. Aprovado na Câmara, seguiu para o Senado, onde foi alterado. Selecionamos para avaliação a votação da Subemenda Substitutiva Global adotada pela relatora da Comissão de \n",
    "Defesa dos Direitos da Mulher, que dá uma visão geral do projeto. Votou \"sim\" quem era a favor de fazer com que as grávidas vacinadas ou que optaram por não se vacinar voltassem ao trabalho presencial.\n",
    "\n",
    "PL   Nº 2058/2021 - SUBEMENDA SUBSTITUTIVA\n",
    "\n",
    "'''"
   ]
  },
  {
   "cell_type": "code",
   "execution_count": 80,
   "id": "84d856ab-b3aa-4f5e-9398-99f5166ef2de",
   "metadata": {},
   "outputs": [
    {
     "data": {
      "text/plain": [
       "'\\nEncontrado:\\nAprovada a Subemenda Substitutiva Global ao Projeto de Lei nº 2.058, de 2021, adotada pela relatora da Comissão de Defesa dos Direitos da Mulher, ressalvados os destaques. Sim: 296; não: 121; abstenção: 1; total: 418.\\n2285889-91\\n\\n'"
      ]
     },
     "execution_count": 80,
     "metadata": {},
     "output_type": "execute_result"
    }
   ],
   "source": [
    "'''\n",
    "Encontrado:\n",
    "Aprovada a Subemenda Substitutiva Global ao Projeto de Lei nº 2.058, de 2021, adotada pela relatora da Comissão de Defesa dos Direitos da Mulher, ressalvados os destaques. Sim: 296; não: 121; abstenção: 1; total: 418.\n",
    "2285889-91\n",
    "\n",
    "'''"
   ]
  },
  {
   "cell_type": "code",
   "execution_count": null,
   "id": "3e100ac5-38e6-463a-8c25-deeb20351a59",
   "metadata": {},
   "outputs": [],
   "source": []
  },
  {
   "cell_type": "code",
   "execution_count": 81,
   "id": "b30d55b3-d631-4942-beb8-900be79246ff",
   "metadata": {},
   "outputs": [
    {
     "name": "stdout",
     "output_type": "stream",
     "text": [
      "<class 'pandas.core.frame.DataFrame'>\n",
      "RangeIndex: 419 entries, 0 to 418\n",
      "Data columns (total 11 columns):\n",
      " #   Column              Non-Null Count  Dtype \n",
      "---  ------              --------------  ----- \n",
      " 0   id_proposicao       419 non-null    object\n",
      " 1   id_votacao          419 non-null    object\n",
      " 2   nome_votacao        419 non-null    object\n",
      " 3   tipoVoto            419 non-null    object\n",
      " 4   dataRegistroVoto    419 non-null    object\n",
      " 5   id_deputado         419 non-null    int64 \n",
      " 6   nome                419 non-null    object\n",
      " 7   siglaUf             419 non-null    object\n",
      " 8   aval_voto_sim       419 non-null    object\n",
      " 9   aval_voto_nao_obst  419 non-null    object\n",
      " 10  aval_relevancia     419 non-null    object\n",
      "dtypes: int64(1), object(10)\n",
      "memory usage: 36.1+ KB\n"
     ]
    }
   ],
   "source": [
    "id_votos = '2285889-91'\n",
    "url = prefixo_voto+id_votos+sufixo_voto\n",
    "nome_votacao = \"PL 2058/2021\"\n",
    "\n",
    "aval_voto_sim = 'DESFAVORÁVEL'\n",
    "aval_voto_nao_obst = 'FAVORÁVEL'\n",
    "aval_relevancia = 'RELEVANTE'\n",
    "\n",
    "votos = []\n",
    "parametros = {'formato': 'json'}\n",
    "resposta = requests.get(url, parametros)\n",
    "for lista in resposta.json()['dados']:\n",
    "    dicionario = {\"id_proposicao\": id_proposicao,\n",
    "        \"id_votacao\": id_votos,\n",
    "                  \"nome_votacao\": nome_votacao,\n",
    "        \"tipoVoto\": lista['tipoVoto'], \n",
    "                  \"dataRegistroVoto\": lista['dataRegistroVoto'],\n",
    "                  \"id_deputado\": lista['deputado_']['id'],\n",
    "                  \"nome\": lista['deputado_']['nome'],\n",
    "                   \"siglaUf\": lista['deputado_']['siglaUf'],\n",
    "                  \"aval_voto_sim\": aval_voto_sim,\n",
    "                  \"aval_voto_nao_obst\": aval_voto_nao_obst,\n",
    "                  \"aval_relevancia\": aval_relevancia\n",
    "                 }\n",
    "    votos.append(dicionario)\n",
    "df_votacao_votos_PL_2058_2021 = pd.DataFrame(votos)\n",
    "df_votacao_votos_PL_2058_2021.info()"
   ]
  },
  {
   "cell_type": "code",
   "execution_count": 82,
   "id": "355c2d9c-4305-4778-b6f1-1adfdd3566f6",
   "metadata": {},
   "outputs": [
    {
     "data": {
      "text/html": [
       "<div>\n",
       "<style scoped>\n",
       "    .dataframe tbody tr th:only-of-type {\n",
       "        vertical-align: middle;\n",
       "    }\n",
       "\n",
       "    .dataframe tbody tr th {\n",
       "        vertical-align: top;\n",
       "    }\n",
       "\n",
       "    .dataframe thead th {\n",
       "        text-align: right;\n",
       "    }\n",
       "</style>\n",
       "<table border=\"1\" class=\"dataframe\">\n",
       "  <thead>\n",
       "    <tr style=\"text-align: right;\">\n",
       "      <th></th>\n",
       "      <th>id_proposicao</th>\n",
       "      <th>id_votacao</th>\n",
       "      <th>nome_votacao</th>\n",
       "      <th>tipoVoto</th>\n",
       "      <th>dataRegistroVoto</th>\n",
       "      <th>id_deputado</th>\n",
       "      <th>nome</th>\n",
       "      <th>siglaUf</th>\n",
       "      <th>aval_voto_sim</th>\n",
       "      <th>aval_voto_nao_obst</th>\n",
       "      <th>aval_relevancia</th>\n",
       "    </tr>\n",
       "  </thead>\n",
       "  <tbody>\n",
       "    <tr>\n",
       "      <th>166</th>\n",
       "      <td>2285889</td>\n",
       "      <td>2285889-91</td>\n",
       "      <td>PL 2058/2021</td>\n",
       "      <td>Sim</td>\n",
       "      <td>2021-10-06T21:50:45</td>\n",
       "      <td>204529</td>\n",
       "      <td>Policial Katia Sastre</td>\n",
       "      <td>SP</td>\n",
       "      <td>DESFAVORÁVEL</td>\n",
       "      <td>FAVORÁVEL</td>\n",
       "      <td>RELEVANTE</td>\n",
       "    </tr>\n",
       "    <tr>\n",
       "      <th>327</th>\n",
       "      <td>2285889</td>\n",
       "      <td>2285889-91</td>\n",
       "      <td>PL 2058/2021</td>\n",
       "      <td>Sim</td>\n",
       "      <td>2021-10-06T21:49:34</td>\n",
       "      <td>205476</td>\n",
       "      <td>Charles Fernandes</td>\n",
       "      <td>BA</td>\n",
       "      <td>DESFAVORÁVEL</td>\n",
       "      <td>FAVORÁVEL</td>\n",
       "      <td>RELEVANTE</td>\n",
       "    </tr>\n",
       "    <tr>\n",
       "      <th>351</th>\n",
       "      <td>2285889</td>\n",
       "      <td>2285889-91</td>\n",
       "      <td>PL 2058/2021</td>\n",
       "      <td>Não</td>\n",
       "      <td>2021-10-06T21:49:24</td>\n",
       "      <td>72442</td>\n",
       "      <td>Felipe Carreras</td>\n",
       "      <td>PE</td>\n",
       "      <td>DESFAVORÁVEL</td>\n",
       "      <td>FAVORÁVEL</td>\n",
       "      <td>RELEVANTE</td>\n",
       "    </tr>\n",
       "    <tr>\n",
       "      <th>172</th>\n",
       "      <td>2285889</td>\n",
       "      <td>2285889-91</td>\n",
       "      <td>PL 2058/2021</td>\n",
       "      <td>Não</td>\n",
       "      <td>2021-10-06T21:50:38</td>\n",
       "      <td>73466</td>\n",
       "      <td>Rubens Bueno</td>\n",
       "      <td>PR</td>\n",
       "      <td>DESFAVORÁVEL</td>\n",
       "      <td>FAVORÁVEL</td>\n",
       "      <td>RELEVANTE</td>\n",
       "    </tr>\n",
       "    <tr>\n",
       "      <th>286</th>\n",
       "      <td>2285889</td>\n",
       "      <td>2285889-91</td>\n",
       "      <td>PL 2058/2021</td>\n",
       "      <td>Sim</td>\n",
       "      <td>2021-10-06T21:49:46</td>\n",
       "      <td>178956</td>\n",
       "      <td>Mariana Carvalho</td>\n",
       "      <td>RO</td>\n",
       "      <td>DESFAVORÁVEL</td>\n",
       "      <td>FAVORÁVEL</td>\n",
       "      <td>RELEVANTE</td>\n",
       "    </tr>\n",
       "  </tbody>\n",
       "</table>\n",
       "</div>"
      ],
      "text/plain": [
       "    id_proposicao  id_votacao  nome_votacao tipoVoto     dataRegistroVoto  \\\n",
       "166       2285889  2285889-91  PL 2058/2021      Sim  2021-10-06T21:50:45   \n",
       "327       2285889  2285889-91  PL 2058/2021      Sim  2021-10-06T21:49:34   \n",
       "351       2285889  2285889-91  PL 2058/2021      Não  2021-10-06T21:49:24   \n",
       "172       2285889  2285889-91  PL 2058/2021      Não  2021-10-06T21:50:38   \n",
       "286       2285889  2285889-91  PL 2058/2021      Sim  2021-10-06T21:49:46   \n",
       "\n",
       "     id_deputado                   nome siglaUf aval_voto_sim  \\\n",
       "166       204529  Policial Katia Sastre      SP  DESFAVORÁVEL   \n",
       "327       205476      Charles Fernandes      BA  DESFAVORÁVEL   \n",
       "351        72442        Felipe Carreras      PE  DESFAVORÁVEL   \n",
       "172        73466           Rubens Bueno      PR  DESFAVORÁVEL   \n",
       "286       178956       Mariana Carvalho      RO  DESFAVORÁVEL   \n",
       "\n",
       "    aval_voto_nao_obst aval_relevancia  \n",
       "166          FAVORÁVEL       RELEVANTE  \n",
       "327          FAVORÁVEL       RELEVANTE  \n",
       "351          FAVORÁVEL       RELEVANTE  \n",
       "172          FAVORÁVEL       RELEVANTE  \n",
       "286          FAVORÁVEL       RELEVANTE  "
      ]
     },
     "execution_count": 82,
     "metadata": {},
     "output_type": "execute_result"
    }
   ],
   "source": [
    "df_votacao_votos_PL_2058_2021.sample(5)"
   ]
  },
  {
   "cell_type": "code",
   "execution_count": null,
   "id": "ecfc773b-7535-4284-8726-690020f461e8",
   "metadata": {},
   "outputs": [],
   "source": []
  },
  {
   "cell_type": "code",
   "execution_count": null,
   "id": "884bfe5f-dda6-4fe2-bff9-aa1b4010b149",
   "metadata": {},
   "outputs": [],
   "source": []
  },
  {
   "cell_type": "markdown",
   "id": "53aaaf5c-568c-4807-a832-96f31bc32823",
   "metadata": {},
   "source": [
    "### PL 3715/2019"
   ]
  },
  {
   "cell_type": "code",
   "execution_count": 83,
   "id": "0657ca0f-eabf-4609-adf3-f966d4977e3c",
   "metadata": {},
   "outputs": [],
   "source": [
    "# https://www.camara.leg.br/proposicoesWeb/fichadetramitacao?idProposicao=2210523"
   ]
  },
  {
   "cell_type": "code",
   "execution_count": null,
   "id": "7219dcdd-6b0e-4491-8501-4b8b1b4b6690",
   "metadata": {},
   "outputs": [],
   "source": []
  },
  {
   "cell_type": "code",
   "execution_count": 84,
   "id": "1579c612-8df0-4a9e-96fb-8b53d2329d19",
   "metadata": {},
   "outputs": [
    {
     "name": "stdout",
     "output_type": "stream",
     "text": [
      "<class 'pandas.core.frame.DataFrame'>\n",
      "RangeIndex: 13 entries, 0 to 12\n",
      "Data columns (total 11 columns):\n",
      " #   Column               Non-Null Count  Dtype \n",
      "---  ------               --------------  ----- \n",
      " 0   id                   13 non-null     object\n",
      " 1   uri                  13 non-null     object\n",
      " 2   data                 13 non-null     object\n",
      " 3   dataHoraRegistro     13 non-null     object\n",
      " 4   siglaOrgao           13 non-null     object\n",
      " 5   uriOrgao             13 non-null     object\n",
      " 6   uriEvento            12 non-null     object\n",
      " 7   proposicaoObjeto     1 non-null      object\n",
      " 8   uriProposicaoObjeto  1 non-null      object\n",
      " 9   descricao            13 non-null     object\n",
      " 10  aprovacao            13 non-null     int64 \n",
      "dtypes: int64(1), object(10)\n",
      "memory usage: 1.2+ KB\n"
     ]
    }
   ],
   "source": [
    "id_proposicao = '2210523'\n",
    "url = prefixo_pl+id_proposicao+sufixo_pl\n",
    "dados_gerais = []\n",
    "parametros = {'formato': 'json'}\n",
    "resposta = requests.get(url, parametros)\n",
    "for lista in resposta.json()['dados']:\n",
    "    dicionario = {\"id\": lista['id'], \n",
    "                  \"uri\": lista['uri'],\n",
    "                  \"data\": lista['data'],\n",
    "                  \"dataHoraRegistro\": lista['dataHoraRegistro'],\n",
    "                  \"siglaOrgao\": lista['siglaOrgao'],\n",
    "                  \"uriOrgao\": lista['uriOrgao'],\n",
    "                  \"uriEvento\": lista['uriEvento'],\n",
    "                  \"proposicaoObjeto\": lista['proposicaoObjeto'],\n",
    "                  \"uriProposicaoObjeto\": lista['uriProposicaoObjeto'],\n",
    "                  \"descricao\": lista['descricao'],\n",
    "                  \"aprovacao\": lista['aprovacao']\n",
    "                 }\n",
    "    dados_gerais.append(dicionario)\n",
    "df_votacao_api = pd.DataFrame(dados_gerais)\n",
    "df_votacao_api.info()\n",
    "df_votacao_api.to_excel('resultados/votacoes/PL_3715_2019_todas_votacoes.xlsx',sheet_name='Sheet1',index=False)"
   ]
  },
  {
   "cell_type": "code",
   "execution_count": null,
   "id": "8857e3a3-cf3d-4480-9f20-96c8b34ad2b0",
   "metadata": {},
   "outputs": [],
   "source": []
  },
  {
   "cell_type": "code",
   "execution_count": 85,
   "id": "ebad05b4-44c7-425e-8706-0f3c31d6a917",
   "metadata": {},
   "outputs": [
    {
     "data": {
      "text/plain": [
       "'\\nO texto autorizava a posse de arma em toda a extensão do imóvel rural. Ruralistas argumentaram pela necessidade de combater a criminalidade, enquanto críticos do projeto \\ntemiam aumento da violência no campo. O projeto foi aprovado e virou lei. Avaliamos a votação geral do projeto, que foi nominal. Quem votou \"sim\" era a favor de facilitar \\no acesso às armas no mundo rural, enquanto \"não\" e \"obstrução\" indicavam posição contrária.\\n\\nPL Nº 3715/2019 - PROJETO DE LEI\\n'"
      ]
     },
     "execution_count": 85,
     "metadata": {},
     "output_type": "execute_result"
    }
   ],
   "source": [
    "'''\n",
    "O texto autorizava a posse de arma em toda a extensão do imóvel rural. Ruralistas argumentaram pela necessidade de combater a criminalidade, enquanto críticos do projeto \n",
    "temiam aumento da violência no campo. O projeto foi aprovado e virou lei. Avaliamos a votação geral do projeto, que foi nominal. Quem votou \"sim\" era a favor de facilitar \n",
    "o acesso às armas no mundo rural, enquanto \"não\" e \"obstrução\" indicavam posição contrária.\n",
    "\n",
    "PL Nº 3715/2019 - PROJETO DE LEI\n",
    "'''"
   ]
  },
  {
   "cell_type": "code",
   "execution_count": 86,
   "id": "feeff6cc-fa20-4b17-bb55-8dabbfdf8ce6",
   "metadata": {},
   "outputs": [
    {
     "data": {
      "text/plain": [
       "'\\nEncontrado:\\nAprovado o Projeto de Lei n° 3.715, de 2019, ressalvados os destaques. Sim: 320; não: 61; abstenção: 1; total: 382.\\n\\n2210523-70\\n\\n'"
      ]
     },
     "execution_count": 86,
     "metadata": {},
     "output_type": "execute_result"
    }
   ],
   "source": [
    "'''\n",
    "Encontrado:\n",
    "Aprovado o Projeto de Lei n° 3.715, de 2019, ressalvados os destaques. Sim: 320; não: 61; abstenção: 1; total: 382.\n",
    "\n",
    "2210523-70\n",
    "\n",
    "'''"
   ]
  },
  {
   "cell_type": "code",
   "execution_count": null,
   "id": "19ac02f5-6298-4e84-a43c-91cf09b41fb9",
   "metadata": {},
   "outputs": [],
   "source": []
  },
  {
   "cell_type": "code",
   "execution_count": 87,
   "id": "a7659626-8e49-4b43-b0dc-39173c9dd48c",
   "metadata": {},
   "outputs": [
    {
     "name": "stdout",
     "output_type": "stream",
     "text": [
      "<class 'pandas.core.frame.DataFrame'>\n",
      "RangeIndex: 390 entries, 0 to 389\n",
      "Data columns (total 11 columns):\n",
      " #   Column              Non-Null Count  Dtype \n",
      "---  ------              --------------  ----- \n",
      " 0   id_proposicao       390 non-null    object\n",
      " 1   id_votacao          390 non-null    object\n",
      " 2   nome_votacao        390 non-null    object\n",
      " 3   tipoVoto            390 non-null    object\n",
      " 4   dataRegistroVoto    390 non-null    object\n",
      " 5   id_deputado         390 non-null    int64 \n",
      " 6   nome                390 non-null    object\n",
      " 7   siglaUf             390 non-null    object\n",
      " 8   aval_voto_sim       390 non-null    object\n",
      " 9   aval_voto_nao_obst  390 non-null    object\n",
      " 10  aval_relevancia     390 non-null    object\n",
      "dtypes: int64(1), object(10)\n",
      "memory usage: 33.6+ KB\n"
     ]
    }
   ],
   "source": [
    "id_votos = '2210523-70'\n",
    "url = prefixo_voto+id_votos+sufixo_voto\n",
    "nome_votacao = \"PL 3715/2019\"\n",
    "\n",
    "aval_voto_sim = 'DESFAVORÁVEL'\n",
    "aval_voto_nao_obst = 'FAVORÁVEL'\n",
    "aval_relevancia = 'MUITO RELEVANTE'\n",
    "\n",
    "votos = []\n",
    "parametros = {'formato': 'json'}\n",
    "resposta = requests.get(url, parametros)\n",
    "for lista in resposta.json()['dados']:\n",
    "    dicionario = {\"id_proposicao\": id_proposicao,\n",
    "        \"id_votacao\": id_votos,\n",
    "                  \"nome_votacao\": nome_votacao,\n",
    "        \"tipoVoto\": lista['tipoVoto'], \n",
    "                  \"dataRegistroVoto\": lista['dataRegistroVoto'],\n",
    "                  \"id_deputado\": lista['deputado_']['id'],\n",
    "                  \"nome\": lista['deputado_']['nome'],\n",
    "                   \"siglaUf\": lista['deputado_']['siglaUf'],\n",
    "                  \"aval_voto_sim\": aval_voto_sim,\n",
    "                  \"aval_voto_nao_obst\": aval_voto_nao_obst,\n",
    "                  \"aval_relevancia\": aval_relevancia\n",
    "                 }\n",
    "    votos.append(dicionario)\n",
    "df_votacao_votos_PL_3715_2019 = pd.DataFrame(votos)\n",
    "df_votacao_votos_PL_3715_2019.info()"
   ]
  },
  {
   "cell_type": "code",
   "execution_count": 88,
   "id": "a7abb7a5-3212-4ca8-860d-cb74cbd917bb",
   "metadata": {},
   "outputs": [
    {
     "data": {
      "text/html": [
       "<div>\n",
       "<style scoped>\n",
       "    .dataframe tbody tr th:only-of-type {\n",
       "        vertical-align: middle;\n",
       "    }\n",
       "\n",
       "    .dataframe tbody tr th {\n",
       "        vertical-align: top;\n",
       "    }\n",
       "\n",
       "    .dataframe thead th {\n",
       "        text-align: right;\n",
       "    }\n",
       "</style>\n",
       "<table border=\"1\" class=\"dataframe\">\n",
       "  <thead>\n",
       "    <tr style=\"text-align: right;\">\n",
       "      <th></th>\n",
       "      <th>id_proposicao</th>\n",
       "      <th>id_votacao</th>\n",
       "      <th>nome_votacao</th>\n",
       "      <th>tipoVoto</th>\n",
       "      <th>dataRegistroVoto</th>\n",
       "      <th>id_deputado</th>\n",
       "      <th>nome</th>\n",
       "      <th>siglaUf</th>\n",
       "      <th>aval_voto_sim</th>\n",
       "      <th>aval_voto_nao_obst</th>\n",
       "      <th>aval_relevancia</th>\n",
       "    </tr>\n",
       "  </thead>\n",
       "  <tbody>\n",
       "    <tr>\n",
       "      <th>80</th>\n",
       "      <td>2210523</td>\n",
       "      <td>2210523-70</td>\n",
       "      <td>PL 3715/2019</td>\n",
       "      <td>Sim</td>\n",
       "      <td>2019-08-21T22:25:38</td>\n",
       "      <td>204563</td>\n",
       "      <td>Josimar Maranhãozinho</td>\n",
       "      <td>MA</td>\n",
       "      <td>DESFAVORÁVEL</td>\n",
       "      <td>FAVORÁVEL</td>\n",
       "      <td>MUITO RELEVANTE</td>\n",
       "    </tr>\n",
       "    <tr>\n",
       "      <th>20</th>\n",
       "      <td>2210523</td>\n",
       "      <td>2210523-70</td>\n",
       "      <td>PL 3715/2019</td>\n",
       "      <td>Sim</td>\n",
       "      <td>2019-08-21T22:29:06</td>\n",
       "      <td>141555</td>\n",
       "      <td>Vinicius Carvalho</td>\n",
       "      <td>SP</td>\n",
       "      <td>DESFAVORÁVEL</td>\n",
       "      <td>FAVORÁVEL</td>\n",
       "      <td>MUITO RELEVANTE</td>\n",
       "    </tr>\n",
       "    <tr>\n",
       "      <th>103</th>\n",
       "      <td>2210523</td>\n",
       "      <td>2210523-70</td>\n",
       "      <td>PL 3715/2019</td>\n",
       "      <td>Sim</td>\n",
       "      <td>2019-08-21T22:25:14</td>\n",
       "      <td>204491</td>\n",
       "      <td>Gilberto Abramo</td>\n",
       "      <td>MG</td>\n",
       "      <td>DESFAVORÁVEL</td>\n",
       "      <td>FAVORÁVEL</td>\n",
       "      <td>MUITO RELEVANTE</td>\n",
       "    </tr>\n",
       "    <tr>\n",
       "      <th>263</th>\n",
       "      <td>2210523</td>\n",
       "      <td>2210523-70</td>\n",
       "      <td>PL 3715/2019</td>\n",
       "      <td>Sim</td>\n",
       "      <td>2019-08-21T22:23:59</td>\n",
       "      <td>204444</td>\n",
       "      <td>Helio Lopes</td>\n",
       "      <td>RJ</td>\n",
       "      <td>DESFAVORÁVEL</td>\n",
       "      <td>FAVORÁVEL</td>\n",
       "      <td>MUITO RELEVANTE</td>\n",
       "    </tr>\n",
       "    <tr>\n",
       "      <th>303</th>\n",
       "      <td>2210523</td>\n",
       "      <td>2210523-70</td>\n",
       "      <td>PL 3715/2019</td>\n",
       "      <td>Sim</td>\n",
       "      <td>2019-08-21T22:23:47</td>\n",
       "      <td>178992</td>\n",
       "      <td>Vitor Lippi</td>\n",
       "      <td>SP</td>\n",
       "      <td>DESFAVORÁVEL</td>\n",
       "      <td>FAVORÁVEL</td>\n",
       "      <td>MUITO RELEVANTE</td>\n",
       "    </tr>\n",
       "  </tbody>\n",
       "</table>\n",
       "</div>"
      ],
      "text/plain": [
       "    id_proposicao  id_votacao  nome_votacao tipoVoto     dataRegistroVoto  \\\n",
       "80        2210523  2210523-70  PL 3715/2019      Sim  2019-08-21T22:25:38   \n",
       "20        2210523  2210523-70  PL 3715/2019      Sim  2019-08-21T22:29:06   \n",
       "103       2210523  2210523-70  PL 3715/2019      Sim  2019-08-21T22:25:14   \n",
       "263       2210523  2210523-70  PL 3715/2019      Sim  2019-08-21T22:23:59   \n",
       "303       2210523  2210523-70  PL 3715/2019      Sim  2019-08-21T22:23:47   \n",
       "\n",
       "     id_deputado                   nome siglaUf aval_voto_sim  \\\n",
       "80        204563  Josimar Maranhãozinho      MA  DESFAVORÁVEL   \n",
       "20        141555      Vinicius Carvalho      SP  DESFAVORÁVEL   \n",
       "103       204491        Gilberto Abramo      MG  DESFAVORÁVEL   \n",
       "263       204444            Helio Lopes      RJ  DESFAVORÁVEL   \n",
       "303       178992            Vitor Lippi      SP  DESFAVORÁVEL   \n",
       "\n",
       "    aval_voto_nao_obst  aval_relevancia  \n",
       "80           FAVORÁVEL  MUITO RELEVANTE  \n",
       "20           FAVORÁVEL  MUITO RELEVANTE  \n",
       "103          FAVORÁVEL  MUITO RELEVANTE  \n",
       "263          FAVORÁVEL  MUITO RELEVANTE  \n",
       "303          FAVORÁVEL  MUITO RELEVANTE  "
      ]
     },
     "execution_count": 88,
     "metadata": {},
     "output_type": "execute_result"
    }
   ],
   "source": [
    "df_votacao_votos_PL_3715_2019.sample(5)"
   ]
  },
  {
   "cell_type": "code",
   "execution_count": null,
   "id": "0aa3500c-029c-4cef-8b1f-333fe86dc436",
   "metadata": {},
   "outputs": [],
   "source": []
  },
  {
   "cell_type": "code",
   "execution_count": null,
   "id": "c563fce6-6713-428b-a362-2c05feded28c",
   "metadata": {},
   "outputs": [],
   "source": []
  },
  {
   "cell_type": "markdown",
   "id": "6d3cb7b6-97cd-4f47-a13f-dcb5a647f917",
   "metadata": {},
   "source": [
    "### MPV 1027/2021"
   ]
  },
  {
   "cell_type": "code",
   "execution_count": 89,
   "id": "e4304d29-11da-4925-ac5b-1be5da0646fe",
   "metadata": {},
   "outputs": [],
   "source": [
    "#https://www.camara.leg.br/proposicoesWeb/fichadetramitacao?idProposicao=2268619"
   ]
  },
  {
   "cell_type": "code",
   "execution_count": null,
   "id": "682a211f-e48c-4b80-986a-be42514c3416",
   "metadata": {},
   "outputs": [],
   "source": []
  },
  {
   "cell_type": "code",
   "execution_count": 90,
   "id": "bcc0048b-1a80-4bb2-ba0d-df7178bc2585",
   "metadata": {},
   "outputs": [
    {
     "name": "stdout",
     "output_type": "stream",
     "text": [
      "<class 'pandas.core.frame.DataFrame'>\n",
      "RangeIndex: 5 entries, 0 to 4\n",
      "Data columns (total 11 columns):\n",
      " #   Column               Non-Null Count  Dtype \n",
      "---  ------               --------------  ----- \n",
      " 0   id                   5 non-null      object\n",
      " 1   uri                  5 non-null      object\n",
      " 2   data                 5 non-null      object\n",
      " 3   dataHoraRegistro     5 non-null      object\n",
      " 4   siglaOrgao           5 non-null      object\n",
      " 5   uriOrgao             5 non-null      object\n",
      " 6   uriEvento            5 non-null      object\n",
      " 7   proposicaoObjeto     0 non-null      object\n",
      " 8   uriProposicaoObjeto  0 non-null      object\n",
      " 9   descricao            5 non-null      object\n",
      " 10  aprovacao            5 non-null      int64 \n",
      "dtypes: int64(1), object(10)\n",
      "memory usage: 568.0+ bytes\n"
     ]
    }
   ],
   "source": [
    "id_proposicao = '2268619'\n",
    "url = prefixo_pl+id_proposicao+sufixo_pl\n",
    "dados_gerais = []\n",
    "parametros = {'formato': 'json'}\n",
    "resposta = requests.get(url, parametros)\n",
    "for lista in resposta.json()['dados']:\n",
    "    dicionario = {\"id\": lista['id'], \n",
    "                  \"uri\": lista['uri'],\n",
    "                  \"data\": lista['data'],\n",
    "                  \"dataHoraRegistro\": lista['dataHoraRegistro'],\n",
    "                  \"siglaOrgao\": lista['siglaOrgao'],\n",
    "                  \"uriOrgao\": lista['uriOrgao'],\n",
    "                  \"uriEvento\": lista['uriEvento'],\n",
    "                  \"proposicaoObjeto\": lista['proposicaoObjeto'],\n",
    "                  \"uriProposicaoObjeto\": lista['uriProposicaoObjeto'],\n",
    "                  \"descricao\": lista['descricao'],\n",
    "                  \"aprovacao\": lista['aprovacao']\n",
    "                 }\n",
    "    dados_gerais.append(dicionario)\n",
    "df_votacao_api = pd.DataFrame(dados_gerais)\n",
    "df_votacao_api.info()\n",
    "df_votacao_api.to_excel('resultados/votacoes/MPV_1027_2021_todas_votacoes.xlsx',sheet_name='Sheet1',index=False)"
   ]
  },
  {
   "cell_type": "code",
   "execution_count": null,
   "id": "a47f527b-b0b1-4d27-866e-ba8cc88c6c83",
   "metadata": {},
   "outputs": [],
   "source": []
  },
  {
   "cell_type": "code",
   "execution_count": 91,
   "id": "89ab3d9d-3945-4cd3-94c1-0484bc936c8b",
   "metadata": {},
   "outputs": [
    {
     "data": {
      "text/plain": [
       "'\\nMedida autoriza a FUNAI a planejar e montar barreiras sanitárias em áreas indígenas para evitar a disseminação da Covid-19, controlando o trânsito de pessoas \\ne mercadorias. Quase toda a votação foi simbólica, exceto de um destaque. Foi aprovada na Câmara e virou lei. Avaliamos a votação do destaque 1, sobre a emenda \\nde Comissão 52, que pedia que as barreiras sanitárias protegessem também as comunidades quilombolas, além das indígenas, para evitar a disseminação da COVID-19. \\nQuem votou \"sim\" concordava em incluir também os quilombolas, enquanto o voto \"não\" queria que a medida se aplicasse apenas aos indígenas.\\n\\nMPV  Nº 1027/2021 - DTQ 1 - PSB - EMENDA DE COMISSÃO N. 52\\n\\n'"
      ]
     },
     "execution_count": 91,
     "metadata": {},
     "output_type": "execute_result"
    }
   ],
   "source": [
    "'''\n",
    "Medida autoriza a FUNAI a planejar e montar barreiras sanitárias em áreas indígenas para evitar a disseminação da Covid-19, controlando o trânsito de pessoas \n",
    "e mercadorias. Quase toda a votação foi simbólica, exceto de um destaque. Foi aprovada na Câmara e virou lei. Avaliamos a votação do destaque 1, sobre a emenda \n",
    "de Comissão 52, que pedia que as barreiras sanitárias protegessem também as comunidades quilombolas, além das indígenas, para evitar a disseminação da COVID-19. \n",
    "Quem votou \"sim\" concordava em incluir também os quilombolas, enquanto o voto \"não\" queria que a medida se aplicasse apenas aos indígenas.\n",
    "\n",
    "MPV  Nº 1027/2021 - DTQ 1 - PSB - EMENDA DE COMISSÃO N. 52\n",
    "\n",
    "'''"
   ]
  },
  {
   "cell_type": "code",
   "execution_count": 92,
   "id": "3da98d70-9f61-4b63-b0e3-7d8cd1f3f833",
   "metadata": {},
   "outputs": [
    {
     "data": {
      "text/plain": [
       "'\\nEncontrado:\\nRejeitada a Emenda n° 52. Sim: 144; não: 314; total: 458.\\n\\n2268619-48\\n\\n'"
      ]
     },
     "execution_count": 92,
     "metadata": {},
     "output_type": "execute_result"
    }
   ],
   "source": [
    "'''\n",
    "Encontrado:\n",
    "Rejeitada a Emenda n° 52. Sim: 144; não: 314; total: 458.\n",
    "\n",
    "2268619-48\n",
    "\n",
    "'''"
   ]
  },
  {
   "cell_type": "code",
   "execution_count": null,
   "id": "73e8164e-6d5f-4d7c-8c70-af4d782fed85",
   "metadata": {},
   "outputs": [],
   "source": []
  },
  {
   "cell_type": "code",
   "execution_count": 93,
   "id": "4b22ee73-82c4-40e5-b9b8-df36c8a06d94",
   "metadata": {},
   "outputs": [
    {
     "name": "stdout",
     "output_type": "stream",
     "text": [
      "<class 'pandas.core.frame.DataFrame'>\n",
      "RangeIndex: 458 entries, 0 to 457\n",
      "Data columns (total 11 columns):\n",
      " #   Column              Non-Null Count  Dtype \n",
      "---  ------              --------------  ----- \n",
      " 0   id_proposicao       458 non-null    object\n",
      " 1   id_votacao          458 non-null    object\n",
      " 2   nome_votacao        458 non-null    object\n",
      " 3   tipoVoto            458 non-null    object\n",
      " 4   dataRegistroVoto    458 non-null    object\n",
      " 5   id_deputado         458 non-null    int64 \n",
      " 6   nome                458 non-null    object\n",
      " 7   siglaUf             458 non-null    object\n",
      " 8   aval_voto_sim       458 non-null    object\n",
      " 9   aval_voto_nao_obst  458 non-null    object\n",
      " 10  aval_relevancia     458 non-null    object\n",
      "dtypes: int64(1), object(10)\n",
      "memory usage: 39.5+ KB\n"
     ]
    }
   ],
   "source": [
    "id_votos = '2268619-48'\n",
    "url = prefixo_voto+id_votos+sufixo_voto\n",
    "nome_votacao = \"MPV 1027/2021\"\n",
    "\n",
    "aval_voto_sim = 'FAVORÁVEL'\n",
    "aval_voto_nao_obst = 'DESFAVORÁVEL'\n",
    "aval_relevancia = 'MUITO RELEVANTE'\n",
    "\n",
    "votos = []\n",
    "parametros = {'formato': 'json'}\n",
    "resposta = requests.get(url, parametros)\n",
    "for lista in resposta.json()['dados']:\n",
    "    dicionario = {\"id_proposicao\": id_proposicao,\n",
    "        \"id_votacao\": id_votos,\n",
    "                  \"nome_votacao\": nome_votacao,\n",
    "        \"tipoVoto\": lista['tipoVoto'], \n",
    "                  \"dataRegistroVoto\": lista['dataRegistroVoto'],\n",
    "                  \"id_deputado\": lista['deputado_']['id'],\n",
    "                  \"nome\": lista['deputado_']['nome'],\n",
    "                   \"siglaUf\": lista['deputado_']['siglaUf'],\n",
    "                  \"aval_voto_sim\": aval_voto_sim,\n",
    "                  \"aval_voto_nao_obst\": aval_voto_nao_obst,\n",
    "                  \"aval_relevancia\": aval_relevancia\n",
    "                 }\n",
    "    votos.append(dicionario)\n",
    "df_votacao_votos_MPV_1027_2021 = pd.DataFrame(votos)\n",
    "df_votacao_votos_MPV_1027_2021.info()"
   ]
  },
  {
   "cell_type": "code",
   "execution_count": 94,
   "id": "b4f20ddb-dca9-4074-80c1-a655a48dc33f",
   "metadata": {},
   "outputs": [
    {
     "data": {
      "text/html": [
       "<div>\n",
       "<style scoped>\n",
       "    .dataframe tbody tr th:only-of-type {\n",
       "        vertical-align: middle;\n",
       "    }\n",
       "\n",
       "    .dataframe tbody tr th {\n",
       "        vertical-align: top;\n",
       "    }\n",
       "\n",
       "    .dataframe thead th {\n",
       "        text-align: right;\n",
       "    }\n",
       "</style>\n",
       "<table border=\"1\" class=\"dataframe\">\n",
       "  <thead>\n",
       "    <tr style=\"text-align: right;\">\n",
       "      <th></th>\n",
       "      <th>id_proposicao</th>\n",
       "      <th>id_votacao</th>\n",
       "      <th>nome_votacao</th>\n",
       "      <th>tipoVoto</th>\n",
       "      <th>dataRegistroVoto</th>\n",
       "      <th>id_deputado</th>\n",
       "      <th>nome</th>\n",
       "      <th>siglaUf</th>\n",
       "      <th>aval_voto_sim</th>\n",
       "      <th>aval_voto_nao_obst</th>\n",
       "      <th>aval_relevancia</th>\n",
       "    </tr>\n",
       "  </thead>\n",
       "  <tbody>\n",
       "    <tr>\n",
       "      <th>414</th>\n",
       "      <td>2268619</td>\n",
       "      <td>2268619-48</td>\n",
       "      <td>MPV 1027/2021</td>\n",
       "      <td>Não</td>\n",
       "      <td>2021-05-27T12:26:45</td>\n",
       "      <td>135054</td>\n",
       "      <td>Cristiano Vale</td>\n",
       "      <td>PA</td>\n",
       "      <td>FAVORÁVEL</td>\n",
       "      <td>DESFAVORÁVEL</td>\n",
       "      <td>MUITO RELEVANTE</td>\n",
       "    </tr>\n",
       "    <tr>\n",
       "      <th>431</th>\n",
       "      <td>2268619</td>\n",
       "      <td>2268619-48</td>\n",
       "      <td>MPV 1027/2021</td>\n",
       "      <td>Sim</td>\n",
       "      <td>2021-05-27T12:26:38</td>\n",
       "      <td>204468</td>\n",
       "      <td>Joenia Wapichana</td>\n",
       "      <td>RR</td>\n",
       "      <td>FAVORÁVEL</td>\n",
       "      <td>DESFAVORÁVEL</td>\n",
       "      <td>MUITO RELEVANTE</td>\n",
       "    </tr>\n",
       "    <tr>\n",
       "      <th>44</th>\n",
       "      <td>2268619</td>\n",
       "      <td>2268619-48</td>\n",
       "      <td>MPV 1027/2021</td>\n",
       "      <td>Não</td>\n",
       "      <td>2021-05-27T12:37:03</td>\n",
       "      <td>74554</td>\n",
       "      <td>José Rocha</td>\n",
       "      <td>BA</td>\n",
       "      <td>FAVORÁVEL</td>\n",
       "      <td>DESFAVORÁVEL</td>\n",
       "      <td>MUITO RELEVANTE</td>\n",
       "    </tr>\n",
       "    <tr>\n",
       "      <th>399</th>\n",
       "      <td>2268619</td>\n",
       "      <td>2268619-48</td>\n",
       "      <td>MPV 1027/2021</td>\n",
       "      <td>Não</td>\n",
       "      <td>2021-05-27T12:26:51</td>\n",
       "      <td>204565</td>\n",
       "      <td>Professora Dayane Pimentel</td>\n",
       "      <td>BA</td>\n",
       "      <td>FAVORÁVEL</td>\n",
       "      <td>DESFAVORÁVEL</td>\n",
       "      <td>MUITO RELEVANTE</td>\n",
       "    </tr>\n",
       "    <tr>\n",
       "      <th>289</th>\n",
       "      <td>2268619</td>\n",
       "      <td>2268619-48</td>\n",
       "      <td>MPV 1027/2021</td>\n",
       "      <td>Não</td>\n",
       "      <td>2021-05-27T12:27:33</td>\n",
       "      <td>204485</td>\n",
       "      <td>Luiz Carlos Motta</td>\n",
       "      <td>SP</td>\n",
       "      <td>FAVORÁVEL</td>\n",
       "      <td>DESFAVORÁVEL</td>\n",
       "      <td>MUITO RELEVANTE</td>\n",
       "    </tr>\n",
       "  </tbody>\n",
       "</table>\n",
       "</div>"
      ],
      "text/plain": [
       "    id_proposicao  id_votacao   nome_votacao tipoVoto     dataRegistroVoto  \\\n",
       "414       2268619  2268619-48  MPV 1027/2021      Não  2021-05-27T12:26:45   \n",
       "431       2268619  2268619-48  MPV 1027/2021      Sim  2021-05-27T12:26:38   \n",
       "44        2268619  2268619-48  MPV 1027/2021      Não  2021-05-27T12:37:03   \n",
       "399       2268619  2268619-48  MPV 1027/2021      Não  2021-05-27T12:26:51   \n",
       "289       2268619  2268619-48  MPV 1027/2021      Não  2021-05-27T12:27:33   \n",
       "\n",
       "     id_deputado                        nome siglaUf aval_voto_sim  \\\n",
       "414       135054              Cristiano Vale      PA     FAVORÁVEL   \n",
       "431       204468            Joenia Wapichana      RR     FAVORÁVEL   \n",
       "44         74554                  José Rocha      BA     FAVORÁVEL   \n",
       "399       204565  Professora Dayane Pimentel      BA     FAVORÁVEL   \n",
       "289       204485           Luiz Carlos Motta      SP     FAVORÁVEL   \n",
       "\n",
       "    aval_voto_nao_obst  aval_relevancia  \n",
       "414       DESFAVORÁVEL  MUITO RELEVANTE  \n",
       "431       DESFAVORÁVEL  MUITO RELEVANTE  \n",
       "44        DESFAVORÁVEL  MUITO RELEVANTE  \n",
       "399       DESFAVORÁVEL  MUITO RELEVANTE  \n",
       "289       DESFAVORÁVEL  MUITO RELEVANTE  "
      ]
     },
     "execution_count": 94,
     "metadata": {},
     "output_type": "execute_result"
    }
   ],
   "source": [
    "df_votacao_votos_MPV_1027_2021.sample(5)"
   ]
  },
  {
   "cell_type": "code",
   "execution_count": null,
   "id": "c2b07854-194a-4c2f-9fa9-286ed824199c",
   "metadata": {},
   "outputs": [],
   "source": []
  },
  {
   "cell_type": "code",
   "execution_count": null,
   "id": "5b39c66e-819f-4042-a038-e9fd2938337c",
   "metadata": {},
   "outputs": [],
   "source": []
  },
  {
   "cell_type": "markdown",
   "id": "210fbb0d-7e10-404e-815e-c0dfbb0dd14c",
   "metadata": {},
   "source": [
    "### PL 1304/2020"
   ]
  },
  {
   "cell_type": "code",
   "execution_count": 95,
   "id": "0c0eb18e-0703-4add-ab7d-e7963da02aee",
   "metadata": {},
   "outputs": [],
   "source": [
    "# https://www.camara.leg.br/proposicoesWeb/fichadetramitacao?idProposicao=2242488"
   ]
  },
  {
   "cell_type": "code",
   "execution_count": null,
   "id": "45a2ffcc-3037-4cc4-8138-944407cc4d53",
   "metadata": {},
   "outputs": [],
   "source": []
  },
  {
   "cell_type": "code",
   "execution_count": 96,
   "id": "29334afd-0d11-49fc-9613-fe459c56eb0c",
   "metadata": {},
   "outputs": [
    {
     "name": "stdout",
     "output_type": "stream",
     "text": [
      "<class 'pandas.core.frame.DataFrame'>\n",
      "RangeIndex: 11 entries, 0 to 10\n",
      "Data columns (total 11 columns):\n",
      " #   Column               Non-Null Count  Dtype  \n",
      "---  ------               --------------  -----  \n",
      " 0   id                   11 non-null     object \n",
      " 1   uri                  11 non-null     object \n",
      " 2   data                 11 non-null     object \n",
      " 3   dataHoraRegistro     11 non-null     object \n",
      " 4   siglaOrgao           11 non-null     object \n",
      " 5   uriOrgao             11 non-null     object \n",
      " 6   uriEvento            9 non-null      object \n",
      " 7   proposicaoObjeto     1 non-null      object \n",
      " 8   uriProposicaoObjeto  1 non-null      object \n",
      " 9   descricao            11 non-null     object \n",
      " 10  aprovacao            9 non-null      float64\n",
      "dtypes: float64(1), object(10)\n",
      "memory usage: 1.1+ KB\n"
     ]
    }
   ],
   "source": [
    "id_proposicao = '2242488'\n",
    "url = prefixo_pl+id_proposicao+sufixo_pl\n",
    "dados_gerais = []\n",
    "parametros = {'formato': 'json'}\n",
    "resposta = requests.get(url, parametros)\n",
    "for lista in resposta.json()['dados']:\n",
    "    dicionario = {\"id\": lista['id'], \n",
    "                  \"uri\": lista['uri'],\n",
    "                  \"data\": lista['data'],\n",
    "                  \"dataHoraRegistro\": lista['dataHoraRegistro'],\n",
    "                  \"siglaOrgao\": lista['siglaOrgao'],\n",
    "                  \"uriOrgao\": lista['uriOrgao'],\n",
    "                  \"uriEvento\": lista['uriEvento'],\n",
    "                  \"proposicaoObjeto\": lista['proposicaoObjeto'],\n",
    "                  \"uriProposicaoObjeto\": lista['uriProposicaoObjeto'],\n",
    "                  \"descricao\": lista['descricao'],\n",
    "                  \"aprovacao\": lista['aprovacao']\n",
    "                 }\n",
    "    dados_gerais.append(dicionario)\n",
    "df_votacao_api = pd.DataFrame(dados_gerais)\n",
    "df_votacao_api.info()\n",
    "df_votacao_api.to_excel('resultados/votacoes/PL_1304_2020_todas_votacoes.xlsx',sheet_name='Sheet1',index=False)"
   ]
  },
  {
   "cell_type": "code",
   "execution_count": null,
   "id": "2b71747a-54b5-466d-bafe-fb275ac5bd2d",
   "metadata": {},
   "outputs": [],
   "source": []
  },
  {
   "cell_type": "code",
   "execution_count": 97,
   "id": "46b95f22-ad63-42bb-970b-f40d091fb51e",
   "metadata": {},
   "outputs": [
    {
     "data": {
      "text/plain": [
       "'\\nTransfere terras da União para os Estados de Roraima e Amapá. Com isso, os Estados poderão fazer a regularização fundiária e expedir títulos definitivos de posse, \\nbeneficiando o setor agropecuário. Originalmente, o projeto reduzia o percentual de reserva legal dos Estados, mas o substituto aprovado retirou a alteração ao \\nCódigo Florestal. Não teve votação nominal do texto total, que foi aprovado. A avaliação é referente ao destaque 1, que colocou em votação a emenda de plenário 5, \\nque pretendia excluir da transferência da União terras ocupadas por quilombolas que se encontram em processo de reconhecimento de direitos - a legislação já prevê \\nque terras indígenas e unidades de conservação não podem ser transferidas. A não inclusão dos quilombolas no projeto pode permitir que as terras dessas comunidades \\nsejam registradas por grileiros. O voto \"sim\" indica que o deputado era favorável à medida que protegia os quilombolas.\\n\\nPL 1304/2020 - DTQ 1 - do PT -  Requer, nos termos do art. 161, II, e § 2º, RICD, destaque para votação da emenda de plenário de  nº 5\\n\\n'"
      ]
     },
     "execution_count": 97,
     "metadata": {},
     "output_type": "execute_result"
    }
   ],
   "source": [
    "'''\n",
    "Transfere terras da União para os Estados de Roraima e Amapá. Com isso, os Estados poderão fazer a regularização fundiária e expedir títulos definitivos de posse, \n",
    "beneficiando o setor agropecuário. Originalmente, o projeto reduzia o percentual de reserva legal dos Estados, mas o substituto aprovado retirou a alteração ao \n",
    "Código Florestal. Não teve votação nominal do texto total, que foi aprovado. A avaliação é referente ao destaque 1, que colocou em votação a emenda de plenário 5, \n",
    "que pretendia excluir da transferência da União terras ocupadas por quilombolas que se encontram em processo de reconhecimento de direitos - a legislação já prevê \n",
    "que terras indígenas e unidades de conservação não podem ser transferidas. A não inclusão dos quilombolas no projeto pode permitir que as terras dessas comunidades \n",
    "sejam registradas por grileiros. O voto \"sim\" indica que o deputado era favorável à medida que protegia os quilombolas.\n",
    "\n",
    "PL 1304/2020 - DTQ 1 - do PT -  Requer, nos termos do art. 161, II, e § 2º, RICD, destaque para votação da emenda de plenário de  nº 5\n",
    "\n",
    "'''"
   ]
  },
  {
   "cell_type": "code",
   "execution_count": 98,
   "id": "09b57314-ff02-47d6-8022-ba97e813ad52",
   "metadata": {},
   "outputs": [
    {
     "data": {
      "text/plain": [
       "'\\nEncontrado:\\nRejeitada a Emenda nº 5. Sim: 131; não: 337; abstenção: 1; total: 469.\\n\\n2242488-56\\n\\n'"
      ]
     },
     "execution_count": 98,
     "metadata": {},
     "output_type": "execute_result"
    }
   ],
   "source": [
    "'''\n",
    "Encontrado:\n",
    "Rejeitada a Emenda nº 5. Sim: 131; não: 337; abstenção: 1; total: 469.\n",
    "\n",
    "2242488-56\n",
    "\n",
    "'''"
   ]
  },
  {
   "cell_type": "code",
   "execution_count": null,
   "id": "1e6b86d7-51cd-4aed-88aa-7c32265bb3d5",
   "metadata": {},
   "outputs": [],
   "source": []
  },
  {
   "cell_type": "code",
   "execution_count": 99,
   "id": "dd32bfeb-9a15-4b03-ba52-cfdddc92867c",
   "metadata": {},
   "outputs": [
    {
     "name": "stdout",
     "output_type": "stream",
     "text": [
      "<class 'pandas.core.frame.DataFrame'>\n",
      "RangeIndex: 470 entries, 0 to 469\n",
      "Data columns (total 11 columns):\n",
      " #   Column              Non-Null Count  Dtype \n",
      "---  ------              --------------  ----- \n",
      " 0   id_proposicao       470 non-null    object\n",
      " 1   id_votacao          470 non-null    object\n",
      " 2   nome_votacao        470 non-null    object\n",
      " 3   tipoVoto            470 non-null    object\n",
      " 4   dataRegistroVoto    470 non-null    object\n",
      " 5   id_deputado         470 non-null    int64 \n",
      " 6   nome                470 non-null    object\n",
      " 7   siglaUf             470 non-null    object\n",
      " 8   aval_voto_sim       470 non-null    object\n",
      " 9   aval_voto_nao_obst  470 non-null    object\n",
      " 10  aval_relevancia     470 non-null    object\n",
      "dtypes: int64(1), object(10)\n",
      "memory usage: 40.5+ KB\n"
     ]
    }
   ],
   "source": [
    "id_votos = '2242488-56'\n",
    "url = prefixo_voto+id_votos+sufixo_voto\n",
    "nome_votacao = \"PL 1304/2020\"\n",
    "\n",
    "aval_voto_sim = 'FAVORÁVEL'\n",
    "aval_voto_nao_obst = 'DESFAVORÁVEL'\n",
    "aval_relevancia = 'MUITO RELEVANTE'\n",
    "\n",
    "votos = []\n",
    "parametros = {'formato': 'json'}\n",
    "resposta = requests.get(url, parametros)\n",
    "for lista in resposta.json()['dados']:\n",
    "    dicionario = {\"id_proposicao\": id_proposicao,\n",
    "        \"id_votacao\": id_votos,\n",
    "                  \"nome_votacao\": nome_votacao,\n",
    "        \"tipoVoto\": lista['tipoVoto'], \n",
    "                  \"dataRegistroVoto\": lista['dataRegistroVoto'],\n",
    "                  \"id_deputado\": lista['deputado_']['id'],\n",
    "                  \"nome\": lista['deputado_']['nome'],\n",
    "                   \"siglaUf\": lista['deputado_']['siglaUf'],\n",
    "                  \"aval_voto_sim\": aval_voto_sim,\n",
    "                  \"aval_voto_nao_obst\": aval_voto_nao_obst,\n",
    "                  \"aval_relevancia\": aval_relevancia\n",
    "                 }\n",
    "    votos.append(dicionario)\n",
    "df_votacao_votos_PL_1304_2020 = pd.DataFrame(votos)\n",
    "df_votacao_votos_PL_1304_2020.info()"
   ]
  },
  {
   "cell_type": "code",
   "execution_count": 100,
   "id": "42f3590b-5016-4845-b04f-b08ffd204215",
   "metadata": {},
   "outputs": [
    {
     "data": {
      "text/html": [
       "<div>\n",
       "<style scoped>\n",
       "    .dataframe tbody tr th:only-of-type {\n",
       "        vertical-align: middle;\n",
       "    }\n",
       "\n",
       "    .dataframe tbody tr th {\n",
       "        vertical-align: top;\n",
       "    }\n",
       "\n",
       "    .dataframe thead th {\n",
       "        text-align: right;\n",
       "    }\n",
       "</style>\n",
       "<table border=\"1\" class=\"dataframe\">\n",
       "  <thead>\n",
       "    <tr style=\"text-align: right;\">\n",
       "      <th></th>\n",
       "      <th>id_proposicao</th>\n",
       "      <th>id_votacao</th>\n",
       "      <th>nome_votacao</th>\n",
       "      <th>tipoVoto</th>\n",
       "      <th>dataRegistroVoto</th>\n",
       "      <th>id_deputado</th>\n",
       "      <th>nome</th>\n",
       "      <th>siglaUf</th>\n",
       "      <th>aval_voto_sim</th>\n",
       "      <th>aval_voto_nao_obst</th>\n",
       "      <th>aval_relevancia</th>\n",
       "    </tr>\n",
       "  </thead>\n",
       "  <tbody>\n",
       "    <tr>\n",
       "      <th>393</th>\n",
       "      <td>2242488</td>\n",
       "      <td>2242488-56</td>\n",
       "      <td>PL 1304/2020</td>\n",
       "      <td>Não</td>\n",
       "      <td>2020-04-29T20:56:37</td>\n",
       "      <td>204500</td>\n",
       "      <td>Eduardo Costa</td>\n",
       "      <td>PA</td>\n",
       "      <td>FAVORÁVEL</td>\n",
       "      <td>DESFAVORÁVEL</td>\n",
       "      <td>MUITO RELEVANTE</td>\n",
       "    </tr>\n",
       "    <tr>\n",
       "      <th>140</th>\n",
       "      <td>2242488</td>\n",
       "      <td>2242488-56</td>\n",
       "      <td>PL 1304/2020</td>\n",
       "      <td>Não</td>\n",
       "      <td>2020-04-29T20:56:37</td>\n",
       "      <td>160534</td>\n",
       "      <td>Lauriete</td>\n",
       "      <td>ES</td>\n",
       "      <td>FAVORÁVEL</td>\n",
       "      <td>DESFAVORÁVEL</td>\n",
       "      <td>MUITO RELEVANTE</td>\n",
       "    </tr>\n",
       "    <tr>\n",
       "      <th>270</th>\n",
       "      <td>2242488</td>\n",
       "      <td>2242488-56</td>\n",
       "      <td>PL 1304/2020</td>\n",
       "      <td>Sim</td>\n",
       "      <td>2020-04-29T20:56:37</td>\n",
       "      <td>204360</td>\n",
       "      <td>Silvia Cristina</td>\n",
       "      <td>RO</td>\n",
       "      <td>FAVORÁVEL</td>\n",
       "      <td>DESFAVORÁVEL</td>\n",
       "      <td>MUITO RELEVANTE</td>\n",
       "    </tr>\n",
       "    <tr>\n",
       "      <th>99</th>\n",
       "      <td>2242488</td>\n",
       "      <td>2242488-56</td>\n",
       "      <td>PL 1304/2020</td>\n",
       "      <td>Sim</td>\n",
       "      <td>2020-04-29T20:56:37</td>\n",
       "      <td>141411</td>\n",
       "      <td>Dagoberto Nogueira</td>\n",
       "      <td>MS</td>\n",
       "      <td>FAVORÁVEL</td>\n",
       "      <td>DESFAVORÁVEL</td>\n",
       "      <td>MUITO RELEVANTE</td>\n",
       "    </tr>\n",
       "    <tr>\n",
       "      <th>271</th>\n",
       "      <td>2242488</td>\n",
       "      <td>2242488-56</td>\n",
       "      <td>PL 1304/2020</td>\n",
       "      <td>Não</td>\n",
       "      <td>2020-04-29T20:56:37</td>\n",
       "      <td>204361</td>\n",
       "      <td>Carlos Chiodini</td>\n",
       "      <td>SC</td>\n",
       "      <td>FAVORÁVEL</td>\n",
       "      <td>DESFAVORÁVEL</td>\n",
       "      <td>MUITO RELEVANTE</td>\n",
       "    </tr>\n",
       "  </tbody>\n",
       "</table>\n",
       "</div>"
      ],
      "text/plain": [
       "    id_proposicao  id_votacao  nome_votacao tipoVoto     dataRegistroVoto  \\\n",
       "393       2242488  2242488-56  PL 1304/2020      Não  2020-04-29T20:56:37   \n",
       "140       2242488  2242488-56  PL 1304/2020      Não  2020-04-29T20:56:37   \n",
       "270       2242488  2242488-56  PL 1304/2020      Sim  2020-04-29T20:56:37   \n",
       "99        2242488  2242488-56  PL 1304/2020      Sim  2020-04-29T20:56:37   \n",
       "271       2242488  2242488-56  PL 1304/2020      Não  2020-04-29T20:56:37   \n",
       "\n",
       "     id_deputado                nome siglaUf aval_voto_sim aval_voto_nao_obst  \\\n",
       "393       204500       Eduardo Costa      PA     FAVORÁVEL       DESFAVORÁVEL   \n",
       "140       160534            Lauriete      ES     FAVORÁVEL       DESFAVORÁVEL   \n",
       "270       204360     Silvia Cristina      RO     FAVORÁVEL       DESFAVORÁVEL   \n",
       "99        141411  Dagoberto Nogueira      MS     FAVORÁVEL       DESFAVORÁVEL   \n",
       "271       204361     Carlos Chiodini      SC     FAVORÁVEL       DESFAVORÁVEL   \n",
       "\n",
       "     aval_relevancia  \n",
       "393  MUITO RELEVANTE  \n",
       "140  MUITO RELEVANTE  \n",
       "270  MUITO RELEVANTE  \n",
       "99   MUITO RELEVANTE  \n",
       "271  MUITO RELEVANTE  "
      ]
     },
     "execution_count": 100,
     "metadata": {},
     "output_type": "execute_result"
    }
   ],
   "source": [
    "df_votacao_votos_PL_1304_2020.sample(5)"
   ]
  },
  {
   "cell_type": "code",
   "execution_count": null,
   "id": "9275ff6d-7dc9-4572-95e5-b0d39f24f8a3",
   "metadata": {},
   "outputs": [],
   "source": []
  },
  {
   "cell_type": "code",
   "execution_count": null,
   "id": "6207d358-d892-4062-a36b-8c6f4f10c233",
   "metadata": {},
   "outputs": [],
   "source": []
  },
  {
   "cell_type": "markdown",
   "id": "2c83606a-ce97-476b-914f-19ce4343d9c2",
   "metadata": {},
   "source": [
    "### PL 2633/2020"
   ]
  },
  {
   "cell_type": "code",
   "execution_count": 101,
   "id": "1e541c98-b508-4258-b120-4b204002d5d0",
   "metadata": {},
   "outputs": [],
   "source": [
    "# https://www.camara.leg.br/proposicoesWeb/fichadetramitacao?idProposicao=2252589"
   ]
  },
  {
   "cell_type": "code",
   "execution_count": null,
   "id": "99dc2fad-2324-42aa-b9ed-e5214a1b608b",
   "metadata": {},
   "outputs": [],
   "source": []
  },
  {
   "cell_type": "code",
   "execution_count": 102,
   "id": "05070075-c939-4309-84ff-80299ec5e2cf",
   "metadata": {},
   "outputs": [
    {
     "name": "stdout",
     "output_type": "stream",
     "text": [
      "<class 'pandas.core.frame.DataFrame'>\n",
      "RangeIndex: 25 entries, 0 to 24\n",
      "Data columns (total 11 columns):\n",
      " #   Column               Non-Null Count  Dtype  \n",
      "---  ------               --------------  -----  \n",
      " 0   id                   25 non-null     object \n",
      " 1   uri                  25 non-null     object \n",
      " 2   data                 25 non-null     object \n",
      " 3   dataHoraRegistro     25 non-null     object \n",
      " 4   siglaOrgao           25 non-null     object \n",
      " 5   uriOrgao             25 non-null     object \n",
      " 6   uriEvento            16 non-null     object \n",
      " 7   proposicaoObjeto     2 non-null      object \n",
      " 8   uriProposicaoObjeto  2 non-null      object \n",
      " 9   descricao            25 non-null     object \n",
      " 10  aprovacao            19 non-null     float64\n",
      "dtypes: float64(1), object(10)\n",
      "memory usage: 2.3+ KB\n"
     ]
    }
   ],
   "source": [
    "id_proposicao = '2252589'\n",
    "url = prefixo_pl+id_proposicao+sufixo_pl\n",
    "dados_gerais = []\n",
    "parametros = {'formato': 'json'}\n",
    "resposta = requests.get(url, parametros)\n",
    "for lista in resposta.json()['dados']:\n",
    "    dicionario = {\"id\": lista['id'], \n",
    "                  \"uri\": lista['uri'],\n",
    "                  \"data\": lista['data'],\n",
    "                  \"dataHoraRegistro\": lista['dataHoraRegistro'],\n",
    "                  \"siglaOrgao\": lista['siglaOrgao'],\n",
    "                  \"uriOrgao\": lista['uriOrgao'],\n",
    "                  \"uriEvento\": lista['uriEvento'],\n",
    "                  \"proposicaoObjeto\": lista['proposicaoObjeto'],\n",
    "                  \"uriProposicaoObjeto\": lista['uriProposicaoObjeto'],\n",
    "                  \"descricao\": lista['descricao'],\n",
    "                  \"aprovacao\": lista['aprovacao']\n",
    "                 }\n",
    "    dados_gerais.append(dicionario)\n",
    "df_votacao_api = pd.DataFrame(dados_gerais)\n",
    "df_votacao_api.info()\n",
    "df_votacao_api.to_excel('resultados/votacoes/PL_2633_2020_todas_votacoes.xlsx',sheet_name='Sheet1',index=False)"
   ]
  },
  {
   "cell_type": "code",
   "execution_count": null,
   "id": "9f6b8fee-b15b-4162-8f09-1da82ee37665",
   "metadata": {},
   "outputs": [],
   "source": []
  },
  {
   "cell_type": "code",
   "execution_count": 103,
   "id": "7b994d1e-c371-4beb-a7ab-25b24628db4e",
   "metadata": {},
   "outputs": [
    {
     "data": {
      "text/plain": [
       "'\\nO projeto dispensava a vistoria presencial do INCRA para a titulação de propriedades rurais com até seis módulos fiscais (660 hectares), enquanto atualmente esse limite é de quatro. \\nPelo processo simplificado de titulação, o INCRA não faz uma vistoria in loco para checar se a área está de acordo com a legislação ambiental ou se existe \\nconflito de posse com vizinhos ou comunidades tradicionais, bastando uma autodeclaração. Invasores de terras indígenas, quilombolas e unidades de conservação poderão conseguir a \\ntitulação com mais facilidade, uma vez que a lei só proíbe a regularização se houver estudo técnico conclusivo ou processo administrativo aberto nos órgãos responsáveis pelo \\nreconhecimento dos territórios tradicionais ou de conservação ambiental. Áreas em fases iniciais de reconhecimento podem, com isso, ser alvo de grilagem. Além disso, o texto \\ntambém abre caminho para uma anistia a desmatadores e grileiros. Foi aprovado na Câmara, com votação nominal do substitutivo. Foi avaliada a votação da Subemenda Substitutiva Global, \\nadotada pelo Relator da Comissão Especial, ressalvados os destaques. Quem votou \"sim\" era a favor de facilitar a regularização das terras.\\n\\nPL   Nº 2633/2020 - SUBEMENDA SUBSTITUTIVA\\n\\n'"
      ]
     },
     "execution_count": 103,
     "metadata": {},
     "output_type": "execute_result"
    }
   ],
   "source": [
    "'''\n",
    "O projeto dispensava a vistoria presencial do INCRA para a titulação de propriedades rurais com até seis módulos fiscais (660 hectares), enquanto atualmente esse limite é de quatro. \n",
    "Pelo processo simplificado de titulação, o INCRA não faz uma vistoria in loco para checar se a área está de acordo com a legislação ambiental ou se existe \n",
    "conflito de posse com vizinhos ou comunidades tradicionais, bastando uma autodeclaração. Invasores de terras indígenas, quilombolas e unidades de conservação poderão conseguir a \n",
    "titulação com mais facilidade, uma vez que a lei só proíbe a regularização se houver estudo técnico conclusivo ou processo administrativo aberto nos órgãos responsáveis pelo \n",
    "reconhecimento dos territórios tradicionais ou de conservação ambiental. Áreas em fases iniciais de reconhecimento podem, com isso, ser alvo de grilagem. Além disso, o texto \n",
    "também abre caminho para uma anistia a desmatadores e grileiros. Foi aprovado na Câmara, com votação nominal do substitutivo. Foi avaliada a votação da Subemenda Substitutiva Global, \n",
    "adotada pelo Relator da Comissão Especial, ressalvados os destaques. Quem votou \"sim\" era a favor de facilitar a regularização das terras.\n",
    "\n",
    "PL   Nº 2633/2020 - SUBEMENDA SUBSTITUTIVA\n",
    "\n",
    "'''"
   ]
  },
  {
   "cell_type": "code",
   "execution_count": 104,
   "id": "1b8bb931-6c7b-45ac-bd44-fbff6c7fbe50",
   "metadata": {},
   "outputs": [
    {
     "data": {
      "text/plain": [
       "'\\nEncontrado:\\nAprovada a Subemenda Substitutiva Global ao Projeto de Lei nº 2.633, de 2020, adotada pelo Relator da Comissão Especial, ressalvados os destaques. Sim: 296; não: 136; abstenção: 1; total: 433.\\n\\n2252589-59\\n\\n'"
      ]
     },
     "execution_count": 104,
     "metadata": {},
     "output_type": "execute_result"
    }
   ],
   "source": [
    "'''\n",
    "Encontrado:\n",
    "Aprovada a Subemenda Substitutiva Global ao Projeto de Lei nº 2.633, de 2020, adotada pelo Relator da Comissão Especial, ressalvados os destaques. Sim: 296; não: 136; abstenção: 1; total: 433.\n",
    "\n",
    "2252589-59\n",
    "\n",
    "'''"
   ]
  },
  {
   "cell_type": "code",
   "execution_count": null,
   "id": "5739d310-6658-4cf1-8c75-87d64547a6cd",
   "metadata": {},
   "outputs": [],
   "source": []
  },
  {
   "cell_type": "code",
   "execution_count": 105,
   "id": "cc9b430f-4feb-4f5d-81c1-d6ea24a52971",
   "metadata": {},
   "outputs": [
    {
     "name": "stdout",
     "output_type": "stream",
     "text": [
      "<class 'pandas.core.frame.DataFrame'>\n",
      "RangeIndex: 435 entries, 0 to 434\n",
      "Data columns (total 11 columns):\n",
      " #   Column              Non-Null Count  Dtype \n",
      "---  ------              --------------  ----- \n",
      " 0   id_proposicao       435 non-null    object\n",
      " 1   id_votacao          435 non-null    object\n",
      " 2   nome_votacao        435 non-null    object\n",
      " 3   tipoVoto            435 non-null    object\n",
      " 4   dataRegistroVoto    435 non-null    object\n",
      " 5   id_deputado         435 non-null    int64 \n",
      " 6   nome                435 non-null    object\n",
      " 7   siglaUf             435 non-null    object\n",
      " 8   aval_voto_sim       435 non-null    object\n",
      " 9   aval_voto_nao_obst  435 non-null    object\n",
      " 10  aval_relevancia     435 non-null    object\n",
      "dtypes: int64(1), object(10)\n",
      "memory usage: 37.5+ KB\n"
     ]
    }
   ],
   "source": [
    "id_votos = '2252589-59'\n",
    "url = prefixo_voto+id_votos+sufixo_voto\n",
    "nome_votacao = \"PL 2633/2020\"\n",
    "\n",
    "aval_voto_sim = 'DESFAVORÁVEL'\n",
    "aval_voto_nao_obst = 'FAVORÁVEL'\n",
    "aval_relevancia = 'MUITO RELEVANTE'\n",
    "\n",
    "votos = []\n",
    "parametros = {'formato': 'json'}\n",
    "resposta = requests.get(url, parametros)\n",
    "for lista in resposta.json()['dados']:\n",
    "    dicionario = {\"id_proposicao\": id_proposicao,\n",
    "        \"id_votacao\": id_votos,\n",
    "                  \"nome_votacao\": nome_votacao,\n",
    "        \"tipoVoto\": lista['tipoVoto'], \n",
    "                  \"dataRegistroVoto\": lista['dataRegistroVoto'],\n",
    "                  \"id_deputado\": lista['deputado_']['id'],\n",
    "                  \"nome\": lista['deputado_']['nome'],\n",
    "                   \"siglaUf\": lista['deputado_']['siglaUf'],\n",
    "                  \"aval_voto_sim\": aval_voto_sim,\n",
    "                  \"aval_voto_nao_obst\": aval_voto_nao_obst,\n",
    "                  \"aval_relevancia\": aval_relevancia\n",
    "                 }\n",
    "    votos.append(dicionario)\n",
    "df_votacao_votos_PL_2633_2020 = pd.DataFrame(votos)\n",
    "df_votacao_votos_PL_2633_2020.info()"
   ]
  },
  {
   "cell_type": "code",
   "execution_count": 106,
   "id": "51d99d29-4891-4011-9825-ad1e3e06e2e2",
   "metadata": {},
   "outputs": [
    {
     "data": {
      "text/html": [
       "<div>\n",
       "<style scoped>\n",
       "    .dataframe tbody tr th:only-of-type {\n",
       "        vertical-align: middle;\n",
       "    }\n",
       "\n",
       "    .dataframe tbody tr th {\n",
       "        vertical-align: top;\n",
       "    }\n",
       "\n",
       "    .dataframe thead th {\n",
       "        text-align: right;\n",
       "    }\n",
       "</style>\n",
       "<table border=\"1\" class=\"dataframe\">\n",
       "  <thead>\n",
       "    <tr style=\"text-align: right;\">\n",
       "      <th></th>\n",
       "      <th>id_proposicao</th>\n",
       "      <th>id_votacao</th>\n",
       "      <th>nome_votacao</th>\n",
       "      <th>tipoVoto</th>\n",
       "      <th>dataRegistroVoto</th>\n",
       "      <th>id_deputado</th>\n",
       "      <th>nome</th>\n",
       "      <th>siglaUf</th>\n",
       "      <th>aval_voto_sim</th>\n",
       "      <th>aval_voto_nao_obst</th>\n",
       "      <th>aval_relevancia</th>\n",
       "    </tr>\n",
       "  </thead>\n",
       "  <tbody>\n",
       "    <tr>\n",
       "      <th>23</th>\n",
       "      <td>2252589</td>\n",
       "      <td>2252589-59</td>\n",
       "      <td>PL 2633/2020</td>\n",
       "      <td>Sim</td>\n",
       "      <td>2021-08-03T19:12:08</td>\n",
       "      <td>141391</td>\n",
       "      <td>Arnaldo Jardim</td>\n",
       "      <td>SP</td>\n",
       "      <td>DESFAVORÁVEL</td>\n",
       "      <td>FAVORÁVEL</td>\n",
       "      <td>MUITO RELEVANTE</td>\n",
       "    </tr>\n",
       "    <tr>\n",
       "      <th>400</th>\n",
       "      <td>2252589</td>\n",
       "      <td>2252589-59</td>\n",
       "      <td>PL 2633/2020</td>\n",
       "      <td>Sim</td>\n",
       "      <td>2021-08-03T19:03:45</td>\n",
       "      <td>178861</td>\n",
       "      <td>Ronaldo Carletto</td>\n",
       "      <td>BA</td>\n",
       "      <td>DESFAVORÁVEL</td>\n",
       "      <td>FAVORÁVEL</td>\n",
       "      <td>MUITO RELEVANTE</td>\n",
       "    </tr>\n",
       "    <tr>\n",
       "      <th>277</th>\n",
       "      <td>2252589</td>\n",
       "      <td>2252589-59</td>\n",
       "      <td>PL 2633/2020</td>\n",
       "      <td>Sim</td>\n",
       "      <td>2021-08-03T19:04:42</td>\n",
       "      <td>204507</td>\n",
       "      <td>Carla Zambelli</td>\n",
       "      <td>SP</td>\n",
       "      <td>DESFAVORÁVEL</td>\n",
       "      <td>FAVORÁVEL</td>\n",
       "      <td>MUITO RELEVANTE</td>\n",
       "    </tr>\n",
       "    <tr>\n",
       "      <th>0</th>\n",
       "      <td>2252589</td>\n",
       "      <td>2252589-59</td>\n",
       "      <td>PL 2633/2020</td>\n",
       "      <td>Não</td>\n",
       "      <td>2021-08-03T19:15:58</td>\n",
       "      <td>177282</td>\n",
       "      <td>Subtenente Gonzaga</td>\n",
       "      <td>MG</td>\n",
       "      <td>DESFAVORÁVEL</td>\n",
       "      <td>FAVORÁVEL</td>\n",
       "      <td>MUITO RELEVANTE</td>\n",
       "    </tr>\n",
       "    <tr>\n",
       "      <th>12</th>\n",
       "      <td>2252589</td>\n",
       "      <td>2252589-59</td>\n",
       "      <td>PL 2633/2020</td>\n",
       "      <td>Sim</td>\n",
       "      <td>2021-08-03T19:13:55</td>\n",
       "      <td>160635</td>\n",
       "      <td>Ruy Carneiro</td>\n",
       "      <td>PB</td>\n",
       "      <td>DESFAVORÁVEL</td>\n",
       "      <td>FAVORÁVEL</td>\n",
       "      <td>MUITO RELEVANTE</td>\n",
       "    </tr>\n",
       "  </tbody>\n",
       "</table>\n",
       "</div>"
      ],
      "text/plain": [
       "    id_proposicao  id_votacao  nome_votacao tipoVoto     dataRegistroVoto  \\\n",
       "23        2252589  2252589-59  PL 2633/2020      Sim  2021-08-03T19:12:08   \n",
       "400       2252589  2252589-59  PL 2633/2020      Sim  2021-08-03T19:03:45   \n",
       "277       2252589  2252589-59  PL 2633/2020      Sim  2021-08-03T19:04:42   \n",
       "0         2252589  2252589-59  PL 2633/2020      Não  2021-08-03T19:15:58   \n",
       "12        2252589  2252589-59  PL 2633/2020      Sim  2021-08-03T19:13:55   \n",
       "\n",
       "     id_deputado                nome siglaUf aval_voto_sim aval_voto_nao_obst  \\\n",
       "23        141391      Arnaldo Jardim      SP  DESFAVORÁVEL          FAVORÁVEL   \n",
       "400       178861    Ronaldo Carletto      BA  DESFAVORÁVEL          FAVORÁVEL   \n",
       "277       204507      Carla Zambelli      SP  DESFAVORÁVEL          FAVORÁVEL   \n",
       "0         177282  Subtenente Gonzaga      MG  DESFAVORÁVEL          FAVORÁVEL   \n",
       "12        160635        Ruy Carneiro      PB  DESFAVORÁVEL          FAVORÁVEL   \n",
       "\n",
       "     aval_relevancia  \n",
       "23   MUITO RELEVANTE  \n",
       "400  MUITO RELEVANTE  \n",
       "277  MUITO RELEVANTE  \n",
       "0    MUITO RELEVANTE  \n",
       "12   MUITO RELEVANTE  "
      ]
     },
     "execution_count": 106,
     "metadata": {},
     "output_type": "execute_result"
    }
   ],
   "source": [
    "df_votacao_votos_PL_2633_2020.sample(5)"
   ]
  },
  {
   "cell_type": "code",
   "execution_count": null,
   "id": "97a4c93e-0c2d-4fa8-b6c3-c4ce429bedb1",
   "metadata": {},
   "outputs": [],
   "source": []
  },
  {
   "cell_type": "code",
   "execution_count": null,
   "id": "2d7e8931-542c-4b51-ba69-5d774171f1ce",
   "metadata": {},
   "outputs": [],
   "source": []
  },
  {
   "cell_type": "markdown",
   "id": "f2e678b9-8c39-4481-bbf1-5b12a03b5281",
   "metadata": {},
   "source": [
    "### PL 2787/2019"
   ]
  },
  {
   "cell_type": "code",
   "execution_count": 107,
   "id": "804e28e4-92f3-4ec7-a975-f024bb613c3e",
   "metadata": {},
   "outputs": [],
   "source": [
    "# https://www.camara.leg.br/proposicoesWeb/fichadetramitacao?idProposicao=2201529"
   ]
  },
  {
   "cell_type": "code",
   "execution_count": null,
   "id": "a4778377-c688-45b9-964a-a49b2442deb5",
   "metadata": {},
   "outputs": [],
   "source": []
  },
  {
   "cell_type": "code",
   "execution_count": 108,
   "id": "7de01abb-446d-41f0-b4bd-fbe776a56436",
   "metadata": {},
   "outputs": [
    {
     "name": "stdout",
     "output_type": "stream",
     "text": [
      "<class 'pandas.core.frame.DataFrame'>\n",
      "RangeIndex: 5 entries, 0 to 4\n",
      "Data columns (total 11 columns):\n",
      " #   Column               Non-Null Count  Dtype \n",
      "---  ------               --------------  ----- \n",
      " 0   id                   5 non-null      object\n",
      " 1   uri                  5 non-null      object\n",
      " 2   data                 5 non-null      object\n",
      " 3   dataHoraRegistro     5 non-null      object\n",
      " 4   siglaOrgao           5 non-null      object\n",
      " 5   uriOrgao             5 non-null      object\n",
      " 6   uriEvento            5 non-null      object\n",
      " 7   proposicaoObjeto     1 non-null      object\n",
      " 8   uriProposicaoObjeto  1 non-null      object\n",
      " 9   descricao            5 non-null      object\n",
      " 10  aprovacao            5 non-null      int64 \n",
      "dtypes: int64(1), object(10)\n",
      "memory usage: 568.0+ bytes\n"
     ]
    }
   ],
   "source": [
    "id_proposicao = '2201529'\n",
    "url = prefixo_pl+id_proposicao+sufixo_pl\n",
    "dados_gerais = []\n",
    "parametros = {'formato': 'json'}\n",
    "resposta = requests.get(url, parametros)\n",
    "for lista in resposta.json()['dados']:\n",
    "    dicionario = {\"id\": lista['id'], \n",
    "                  \"uri\": lista['uri'],\n",
    "                  \"data\": lista['data'],\n",
    "                  \"dataHoraRegistro\": lista['dataHoraRegistro'],\n",
    "                  \"siglaOrgao\": lista['siglaOrgao'],\n",
    "                  \"uriOrgao\": lista['uriOrgao'],\n",
    "                  \"uriEvento\": lista['uriEvento'],\n",
    "                  \"proposicaoObjeto\": lista['proposicaoObjeto'],\n",
    "                  \"uriProposicaoObjeto\": lista['uriProposicaoObjeto'],\n",
    "                  \"descricao\": lista['descricao'],\n",
    "                  \"aprovacao\": lista['aprovacao']\n",
    "                 }\n",
    "    dados_gerais.append(dicionario)\n",
    "df_votacao_api = pd.DataFrame(dados_gerais)\n",
    "df_votacao_api.info()\n",
    "df_votacao_api.to_excel('resultados/votacoes/PL_2787_2019_todas_votacoes.xlsx',sheet_name='Sheet1',index=False)"
   ]
  },
  {
   "cell_type": "code",
   "execution_count": null,
   "id": "93216722-71bb-40b1-be39-66a6b9bc64db",
   "metadata": {},
   "outputs": [],
   "source": []
  },
  {
   "cell_type": "code",
   "execution_count": null,
   "id": "2cb0ff77-5818-47db-a80d-f7a33cbad435",
   "metadata": {},
   "outputs": [],
   "source": []
  },
  {
   "cell_type": "code",
   "execution_count": 109,
   "id": "c192c296-34b7-4ff0-a148-7ace8292b540",
   "metadata": {},
   "outputs": [
    {
     "data": {
      "text/plain": [
       "'\\nAprova tipificação de crime para punir quem causa desastre ambiental por rompimento de barragem. Além de prever penas de prisão, o texto também altera a Lei de Crimes Ambientais \\npara aumentar o valor máximo de multa possível de ser cobrado, de R$ 50 milhões para R$ 1 bilhão. A votação do texto não foi nominal, mas houve votação nominal de uma \\ntentativa de obstruir a votação. Foi aprovado e seguiu para o Senado. Foi avaliada a votação do requerimento da bancada do PSL, que solicitava a retirada do projeto da pauta do \\nplenário da Câmara. A manobra tentava evitar que o projeto fosse aprovado por discordar de seu conteúdo. Votou \"sim\" quem era a favor de não se votar esse projeto.\\n\\nPL Nº 2787/2019 - REQUERIMENTO DE RETIRADA DE PAUTA\\n\\n'"
      ]
     },
     "execution_count": 109,
     "metadata": {},
     "output_type": "execute_result"
    }
   ],
   "source": [
    "'''\n",
    "Aprova tipificação de crime para punir quem causa desastre ambiental por rompimento de barragem. Além de prever penas de prisão, o texto também altera a Lei de Crimes Ambientais \n",
    "para aumentar o valor máximo de multa possível de ser cobrado, de R$ 50 milhões para R$ 1 bilhão. A votação do texto não foi nominal, mas houve votação nominal de uma \n",
    "tentativa de obstruir a votação. Foi aprovado e seguiu para o Senado. Foi avaliada a votação do requerimento da bancada do PSL, que solicitava a retirada do projeto da pauta do \n",
    "plenário da Câmara. A manobra tentava evitar que o projeto fosse aprovado por discordar de seu conteúdo. Votou \"sim\" quem era a favor de não se votar esse projeto.\n",
    "\n",
    "PL Nº 2787/2019 - REQUERIMENTO DE RETIRADA DE PAUTA\n",
    "\n",
    "'''"
   ]
  },
  {
   "cell_type": "code",
   "execution_count": 110,
   "id": "062fffb4-78ae-4f88-86f9-a64d292a68ad",
   "metadata": {},
   "outputs": [
    {
     "data": {
      "text/plain": [
       "'\\nEncontrado:\\nRejeitado o Requerimento. Sim: 29; não: 244; abstenção: 1; total: 274.\\n\\n2201529-33\\n\\n'"
      ]
     },
     "execution_count": 110,
     "metadata": {},
     "output_type": "execute_result"
    }
   ],
   "source": [
    "'''\n",
    "Encontrado:\n",
    "Rejeitado o Requerimento. Sim: 29; não: 244; abstenção: 1; total: 274.\n",
    "\n",
    "2201529-33\n",
    "\n",
    "'''"
   ]
  },
  {
   "cell_type": "code",
   "execution_count": null,
   "id": "6607a3ea-7d75-4766-bbd8-b691f7712e8e",
   "metadata": {},
   "outputs": [],
   "source": []
  },
  {
   "cell_type": "code",
   "execution_count": 111,
   "id": "9be917f4-231a-4878-b81d-9c57cdcfa8dd",
   "metadata": {},
   "outputs": [
    {
     "name": "stdout",
     "output_type": "stream",
     "text": [
      "<class 'pandas.core.frame.DataFrame'>\n",
      "RangeIndex: 275 entries, 0 to 274\n",
      "Data columns (total 11 columns):\n",
      " #   Column              Non-Null Count  Dtype \n",
      "---  ------              --------------  ----- \n",
      " 0   id_proposicao       275 non-null    object\n",
      " 1   id_votacao          275 non-null    object\n",
      " 2   nome_votacao        275 non-null    object\n",
      " 3   tipoVoto            275 non-null    object\n",
      " 4   dataRegistroVoto    275 non-null    object\n",
      " 5   id_deputado         275 non-null    int64 \n",
      " 6   nome                275 non-null    object\n",
      " 7   siglaUf             275 non-null    object\n",
      " 8   aval_voto_sim       275 non-null    object\n",
      " 9   aval_voto_nao_obst  275 non-null    object\n",
      " 10  aval_relevancia     275 non-null    object\n",
      "dtypes: int64(1), object(10)\n",
      "memory usage: 23.8+ KB\n"
     ]
    }
   ],
   "source": [
    "id_votos = '2201529-33'\n",
    "url = prefixo_voto+id_votos+sufixo_voto\n",
    "nome_votacao = \"PL 2787/2019\"\n",
    "\n",
    "aval_voto_sim = 'DESFAVORÁVEL'\n",
    "aval_voto_nao_obst = 'FAVORÁVEL'\n",
    "aval_relevancia = 'MUITO RELEVANTE'\n",
    "\n",
    "votos = []\n",
    "parametros = {'formato': 'json'}\n",
    "resposta = requests.get(url, parametros)\n",
    "for lista in resposta.json()['dados']:\n",
    "    dicionario = {\"id_proposicao\": id_proposicao,\n",
    "        \"id_votacao\": id_votos,\n",
    "                  \"nome_votacao\": nome_votacao,\n",
    "        \"tipoVoto\": lista['tipoVoto'], \n",
    "                  \"dataRegistroVoto\": lista['dataRegistroVoto'],\n",
    "                  \"id_deputado\": lista['deputado_']['id'],\n",
    "                  \"nome\": lista['deputado_']['nome'],\n",
    "                   \"siglaUf\": lista['deputado_']['siglaUf'],\n",
    "                  \"aval_voto_sim\": aval_voto_sim,\n",
    "                  \"aval_voto_nao_obst\": aval_voto_nao_obst,\n",
    "                  \"aval_relevancia\": aval_relevancia\n",
    "                 }\n",
    "    votos.append(dicionario)\n",
    "df_votacao_votos_PL_2787_2019 = pd.DataFrame(votos)\n",
    "df_votacao_votos_PL_2787_2019.info()"
   ]
  },
  {
   "cell_type": "code",
   "execution_count": 112,
   "id": "a6e0d68f-5af6-4404-9463-8e007c2d72e0",
   "metadata": {},
   "outputs": [
    {
     "data": {
      "text/html": [
       "<div>\n",
       "<style scoped>\n",
       "    .dataframe tbody tr th:only-of-type {\n",
       "        vertical-align: middle;\n",
       "    }\n",
       "\n",
       "    .dataframe tbody tr th {\n",
       "        vertical-align: top;\n",
       "    }\n",
       "\n",
       "    .dataframe thead th {\n",
       "        text-align: right;\n",
       "    }\n",
       "</style>\n",
       "<table border=\"1\" class=\"dataframe\">\n",
       "  <thead>\n",
       "    <tr style=\"text-align: right;\">\n",
       "      <th></th>\n",
       "      <th>id_proposicao</th>\n",
       "      <th>id_votacao</th>\n",
       "      <th>nome_votacao</th>\n",
       "      <th>tipoVoto</th>\n",
       "      <th>dataRegistroVoto</th>\n",
       "      <th>id_deputado</th>\n",
       "      <th>nome</th>\n",
       "      <th>siglaUf</th>\n",
       "      <th>aval_voto_sim</th>\n",
       "      <th>aval_voto_nao_obst</th>\n",
       "      <th>aval_relevancia</th>\n",
       "    </tr>\n",
       "  </thead>\n",
       "  <tbody>\n",
       "    <tr>\n",
       "      <th>201</th>\n",
       "      <td>2201529</td>\n",
       "      <td>2201529-33</td>\n",
       "      <td>PL 2787/2019</td>\n",
       "      <td>Sim</td>\n",
       "      <td>2019-06-25T17:45:02</td>\n",
       "      <td>178977</td>\n",
       "      <td>Eduardo Cury</td>\n",
       "      <td>SP</td>\n",
       "      <td>DESFAVORÁVEL</td>\n",
       "      <td>FAVORÁVEL</td>\n",
       "      <td>MUITO RELEVANTE</td>\n",
       "    </tr>\n",
       "    <tr>\n",
       "      <th>113</th>\n",
       "      <td>2201529</td>\n",
       "      <td>2201529-33</td>\n",
       "      <td>PL 2787/2019</td>\n",
       "      <td>Não</td>\n",
       "      <td>2019-06-25T17:47:54</td>\n",
       "      <td>204469</td>\n",
       "      <td>Manuel Marcos</td>\n",
       "      <td>AC</td>\n",
       "      <td>DESFAVORÁVEL</td>\n",
       "      <td>FAVORÁVEL</td>\n",
       "      <td>MUITO RELEVANTE</td>\n",
       "    </tr>\n",
       "    <tr>\n",
       "      <th>158</th>\n",
       "      <td>2201529</td>\n",
       "      <td>2201529-33</td>\n",
       "      <td>PL 2787/2019</td>\n",
       "      <td>Não</td>\n",
       "      <td>2019-06-25T17:46:29</td>\n",
       "      <td>204494</td>\n",
       "      <td>Fred Costa</td>\n",
       "      <td>MG</td>\n",
       "      <td>DESFAVORÁVEL</td>\n",
       "      <td>FAVORÁVEL</td>\n",
       "      <td>MUITO RELEVANTE</td>\n",
       "    </tr>\n",
       "    <tr>\n",
       "      <th>92</th>\n",
       "      <td>2201529</td>\n",
       "      <td>2201529-33</td>\n",
       "      <td>PL 2787/2019</td>\n",
       "      <td>Não</td>\n",
       "      <td>2019-06-25T17:48:38</td>\n",
       "      <td>178969</td>\n",
       "      <td>Fábio Mitidieri</td>\n",
       "      <td>SE</td>\n",
       "      <td>DESFAVORÁVEL</td>\n",
       "      <td>FAVORÁVEL</td>\n",
       "      <td>MUITO RELEVANTE</td>\n",
       "    </tr>\n",
       "    <tr>\n",
       "      <th>259</th>\n",
       "      <td>2201529</td>\n",
       "      <td>2201529-33</td>\n",
       "      <td>PL 2787/2019</td>\n",
       "      <td>Não</td>\n",
       "      <td>2019-06-25T17:43:22</td>\n",
       "      <td>204459</td>\n",
       "      <td>Daniela do Waguinho</td>\n",
       "      <td>RJ</td>\n",
       "      <td>DESFAVORÁVEL</td>\n",
       "      <td>FAVORÁVEL</td>\n",
       "      <td>MUITO RELEVANTE</td>\n",
       "    </tr>\n",
       "  </tbody>\n",
       "</table>\n",
       "</div>"
      ],
      "text/plain": [
       "    id_proposicao  id_votacao  nome_votacao tipoVoto     dataRegistroVoto  \\\n",
       "201       2201529  2201529-33  PL 2787/2019      Sim  2019-06-25T17:45:02   \n",
       "113       2201529  2201529-33  PL 2787/2019      Não  2019-06-25T17:47:54   \n",
       "158       2201529  2201529-33  PL 2787/2019      Não  2019-06-25T17:46:29   \n",
       "92        2201529  2201529-33  PL 2787/2019      Não  2019-06-25T17:48:38   \n",
       "259       2201529  2201529-33  PL 2787/2019      Não  2019-06-25T17:43:22   \n",
       "\n",
       "     id_deputado                 nome siglaUf aval_voto_sim  \\\n",
       "201       178977         Eduardo Cury      SP  DESFAVORÁVEL   \n",
       "113       204469        Manuel Marcos      AC  DESFAVORÁVEL   \n",
       "158       204494           Fred Costa      MG  DESFAVORÁVEL   \n",
       "92        178969      Fábio Mitidieri      SE  DESFAVORÁVEL   \n",
       "259       204459  Daniela do Waguinho      RJ  DESFAVORÁVEL   \n",
       "\n",
       "    aval_voto_nao_obst  aval_relevancia  \n",
       "201          FAVORÁVEL  MUITO RELEVANTE  \n",
       "113          FAVORÁVEL  MUITO RELEVANTE  \n",
       "158          FAVORÁVEL  MUITO RELEVANTE  \n",
       "92           FAVORÁVEL  MUITO RELEVANTE  \n",
       "259          FAVORÁVEL  MUITO RELEVANTE  "
      ]
     },
     "execution_count": 112,
     "metadata": {},
     "output_type": "execute_result"
    }
   ],
   "source": [
    "df_votacao_votos_PL_2787_2019.sample(5)"
   ]
  },
  {
   "cell_type": "code",
   "execution_count": null,
   "id": "5e08dd2c-48f7-42d0-89a0-4b62d31f7334",
   "metadata": {},
   "outputs": [],
   "source": []
  },
  {
   "cell_type": "code",
   "execution_count": null,
   "id": "4148c0bb-78e0-4e5e-baf6-2c72623ef41b",
   "metadata": {},
   "outputs": [],
   "source": []
  },
  {
   "cell_type": "markdown",
   "id": "6af48e15-d6e0-47b1-8576-f9428fce7e5c",
   "metadata": {},
   "source": [
    "### PL 2788/2019"
   ]
  },
  {
   "cell_type": "code",
   "execution_count": 113,
   "id": "88776f70-8a89-4936-bc47-2af17897b3b3",
   "metadata": {},
   "outputs": [],
   "source": [
    "# https://www.camara.leg.br/proposicoesWeb/fichadetramitacao?idProposicao=2201532"
   ]
  },
  {
   "cell_type": "code",
   "execution_count": null,
   "id": "7200a2ae-cfb1-4212-94d2-5967c028d437",
   "metadata": {},
   "outputs": [],
   "source": []
  },
  {
   "cell_type": "code",
   "execution_count": 114,
   "id": "8d96b582-c748-409f-866e-0360552e0e2d",
   "metadata": {},
   "outputs": [
    {
     "name": "stdout",
     "output_type": "stream",
     "text": [
      "<class 'pandas.core.frame.DataFrame'>\n",
      "RangeIndex: 4 entries, 0 to 3\n",
      "Data columns (total 11 columns):\n",
      " #   Column               Non-Null Count  Dtype \n",
      "---  ------               --------------  ----- \n",
      " 0   id                   4 non-null      object\n",
      " 1   uri                  4 non-null      object\n",
      " 2   data                 4 non-null      object\n",
      " 3   dataHoraRegistro     4 non-null      object\n",
      " 4   siglaOrgao           4 non-null      object\n",
      " 5   uriOrgao             4 non-null      object\n",
      " 6   uriEvento            4 non-null      object\n",
      " 7   proposicaoObjeto     1 non-null      object\n",
      " 8   uriProposicaoObjeto  1 non-null      object\n",
      " 9   descricao            4 non-null      object\n",
      " 10  aprovacao            4 non-null      int64 \n",
      "dtypes: int64(1), object(10)\n",
      "memory usage: 480.0+ bytes\n"
     ]
    }
   ],
   "source": [
    "id_proposicao = '2201532'\n",
    "url = prefixo_pl+id_proposicao+sufixo_pl\n",
    "dados_gerais = []\n",
    "parametros = {'formato': 'json'}\n",
    "resposta = requests.get(url, parametros)\n",
    "for lista in resposta.json()['dados']:\n",
    "    dicionario = {\"id\": lista['id'], \n",
    "                  \"uri\": lista['uri'],\n",
    "                  \"data\": lista['data'],\n",
    "                  \"dataHoraRegistro\": lista['dataHoraRegistro'],\n",
    "                  \"siglaOrgao\": lista['siglaOrgao'],\n",
    "                  \"uriOrgao\": lista['uriOrgao'],\n",
    "                  \"uriEvento\": lista['uriEvento'],\n",
    "                  \"proposicaoObjeto\": lista['proposicaoObjeto'],\n",
    "                  \"uriProposicaoObjeto\": lista['uriProposicaoObjeto'],\n",
    "                  \"descricao\": lista['descricao'],\n",
    "                  \"aprovacao\": lista['aprovacao']\n",
    "                 }\n",
    "    dados_gerais.append(dicionario)\n",
    "df_votacao_api = pd.DataFrame(dados_gerais)\n",
    "df_votacao_api.info()\n",
    "df_votacao_api.to_excel('resultados/votacoes/PL_2788_2019_todas_votacoes.xlsx',sheet_name='Sheet1',index=False)"
   ]
  },
  {
   "cell_type": "code",
   "execution_count": null,
   "id": "e4fceee5-dfec-412c-ac52-26305e156d14",
   "metadata": {},
   "outputs": [],
   "source": []
  },
  {
   "cell_type": "code",
   "execution_count": 115,
   "id": "d68ae07b-61f6-4b84-96e0-4a0d5c801977",
   "metadata": {},
   "outputs": [
    {
     "data": {
      "text/plain": [
       "'\\nO projeto estabelece os direitos das populações afetadas pela construção de barragens e as regras de responsabilidade social para as empresas responsáveis \\npor elas. O substitutivo apresentado pelo relator da Comissão de Constituição e Justiça e de Cidadania teve votação nominal, sendo aprovado. Foi avaliada \\na votação desse substitutivo. Quem votou \"sim\" era a favor da política para os atingidos por barragens.\\n\\nPL Nº 2788/2019 - SUBSTITUTIVO DA CCJ\\n\\n'"
      ]
     },
     "execution_count": 115,
     "metadata": {},
     "output_type": "execute_result"
    }
   ],
   "source": [
    "'''\n",
    "O projeto estabelece os direitos das populações afetadas pela construção de barragens e as regras de responsabilidade social para as empresas responsáveis \n",
    "por elas. O substitutivo apresentado pelo relator da Comissão de Constituição e Justiça e de Cidadania teve votação nominal, sendo aprovado. Foi avaliada \n",
    "a votação desse substitutivo. Quem votou \"sim\" era a favor da política para os atingidos por barragens.\n",
    "\n",
    "PL Nº 2788/2019 - SUBSTITUTIVO DA CCJ\n",
    "\n",
    "'''"
   ]
  },
  {
   "cell_type": "code",
   "execution_count": 116,
   "id": "32ddf38f-7882-45a9-95f4-fdbb13415aa2",
   "metadata": {},
   "outputs": [
    {
     "data": {
      "text/plain": [
       "'\\nEncontrado:\\nAprovado o Substitutivo adotado pelo Relator da Comissão de Constituição e Justiça e de Cidadania ao Projeto de Lei nº 2.788, de 2019. Sim: 328; não: 62; abstenção: 1; total: 391.\\n\\n2201532-47\\n\\n'"
      ]
     },
     "execution_count": 116,
     "metadata": {},
     "output_type": "execute_result"
    }
   ],
   "source": [
    "'''\n",
    "Encontrado:\n",
    "Aprovado o Substitutivo adotado pelo Relator da Comissão de Constituição e Justiça e de Cidadania ao Projeto de Lei nº 2.788, de 2019. Sim: 328; não: 62; abstenção: 1; total: 391.\n",
    "\n",
    "2201532-47\n",
    "\n",
    "'''"
   ]
  },
  {
   "cell_type": "code",
   "execution_count": null,
   "id": "62c1eafa-2bbe-43dc-b7b0-a4c99fd205e5",
   "metadata": {},
   "outputs": [],
   "source": []
  },
  {
   "cell_type": "code",
   "execution_count": 117,
   "id": "9b29dcda-3021-446f-b46a-c5ac9fb54487",
   "metadata": {},
   "outputs": [
    {
     "name": "stdout",
     "output_type": "stream",
     "text": [
      "<class 'pandas.core.frame.DataFrame'>\n",
      "Index: 0 entries\n",
      "Empty DataFrame"
     ]
    }
   ],
   "source": [
    "id_votos = '2201532-47'\n",
    "url = prefixo_voto+id_votos+sufixo_voto\n",
    "nome_votacao = \"PL 2788/2019\"\n",
    "\n",
    "aval_voto_sim = 'FAVORÁVEL'\n",
    "aval_voto_nao_obst = 'DESFAVORÁVEL'\n",
    "aval_relevancia = 'MUITO RELEVANTE'\n",
    "\n",
    "votos = []\n",
    "parametros = {'formato': 'json'}\n",
    "resposta = requests.get(url, parametros)\n",
    "for lista in resposta.json()['dados']:\n",
    "    dicionario = {\"id_proposicao\": id_proposicao,\n",
    "        \"id_votacao\": id_votos,\n",
    "                  \"nome_votacao\": nome_votacao,\n",
    "        \"tipoVoto\": lista['tipoVoto'], \n",
    "                  \"dataRegistroVoto\": lista['dataRegistroVoto'],\n",
    "                  \"id_deputado\": lista['deputado_']['id'],\n",
    "                  \"nome\": lista['deputado_']['nome'],\n",
    "                   \"siglaUf\": lista['deputado_']['siglaUf'],\n",
    "                  \"aval_voto_sim\": aval_voto_sim,\n",
    "                  \"aval_voto_nao_obst\": aval_voto_nao_obst,\n",
    "                  \"aval_relevancia\": aval_relevancia\n",
    "                 }\n",
    "    votos.append(dicionario)\n",
    "df_votacao_votos_PL_2788_2019 = pd.DataFrame(votos)\n",
    "df_votacao_votos_PL_2788_2019.info()"
   ]
  },
  {
   "cell_type": "code",
   "execution_count": 118,
   "id": "475fa404-1131-4198-a851-2cb3754410a3",
   "metadata": {},
   "outputs": [
    {
     "data": {
      "text/plain": [
       "'https://dadosabertos.camara.leg.br/api/v2/votacoes/2201532-47/votos'"
      ]
     },
     "execution_count": 118,
     "metadata": {},
     "output_type": "execute_result"
    }
   ],
   "source": [
    "url"
   ]
  },
  {
   "cell_type": "code",
   "execution_count": null,
   "id": "c0a74e6d-48ac-420e-8064-b21523f62381",
   "metadata": {},
   "outputs": [],
   "source": []
  },
  {
   "cell_type": "code",
   "execution_count": null,
   "id": "6ec3d867-d3d4-4589-b019-d821c2328afe",
   "metadata": {},
   "outputs": [],
   "source": []
  },
  {
   "cell_type": "markdown",
   "id": "7b94c32d-0c8f-4f92-8654-03000fdbb834",
   "metadata": {},
   "source": [
    "### MPV 867/2018"
   ]
  },
  {
   "cell_type": "code",
   "execution_count": 119,
   "id": "d582d884-4bc7-4ce4-96c2-e628d16c613d",
   "metadata": {},
   "outputs": [],
   "source": [
    "# https://www.camara.leg.br/proposicoesWeb/fichadetramitacao?idProposicao=2190237"
   ]
  },
  {
   "cell_type": "code",
   "execution_count": null,
   "id": "72f2b027-07b3-40cb-8e76-675cc68ad03e",
   "metadata": {},
   "outputs": [],
   "source": []
  },
  {
   "cell_type": "code",
   "execution_count": 120,
   "id": "7f7a130b-236a-40dc-b2bc-96c4b8c3c662",
   "metadata": {},
   "outputs": [
    {
     "name": "stdout",
     "output_type": "stream",
     "text": [
      "<class 'pandas.core.frame.DataFrame'>\n",
      "RangeIndex: 24 entries, 0 to 23\n",
      "Data columns (total 11 columns):\n",
      " #   Column               Non-Null Count  Dtype  \n",
      "---  ------               --------------  -----  \n",
      " 0   id                   24 non-null     object \n",
      " 1   uri                  24 non-null     object \n",
      " 2   data                 24 non-null     object \n",
      " 3   dataHoraRegistro     24 non-null     object \n",
      " 4   siglaOrgao           24 non-null     object \n",
      " 5   uriOrgao             24 non-null     object \n",
      " 6   uriEvento            24 non-null     object \n",
      " 7   proposicaoObjeto     0 non-null      object \n",
      " 8   uriProposicaoObjeto  0 non-null      object \n",
      " 9   descricao            24 non-null     object \n",
      " 10  aprovacao            16 non-null     float64\n",
      "dtypes: float64(1), object(10)\n",
      "memory usage: 2.2+ KB\n"
     ]
    }
   ],
   "source": [
    "id_proposicao = '2190237'\n",
    "url = prefixo_pl+id_proposicao+sufixo_pl\n",
    "dados_gerais = []\n",
    "parametros = {'formato': 'json'}\n",
    "resposta = requests.get(url, parametros)\n",
    "for lista in resposta.json()['dados']:\n",
    "    dicionario = {\"id\": lista['id'], \n",
    "                  \"uri\": lista['uri'],\n",
    "                  \"data\": lista['data'],\n",
    "                  \"dataHoraRegistro\": lista['dataHoraRegistro'],\n",
    "                  \"siglaOrgao\": lista['siglaOrgao'],\n",
    "                  \"uriOrgao\": lista['uriOrgao'],\n",
    "                  \"uriEvento\": lista['uriEvento'],\n",
    "                  \"proposicaoObjeto\": lista['proposicaoObjeto'],\n",
    "                  \"uriProposicaoObjeto\": lista['uriProposicaoObjeto'],\n",
    "                  \"descricao\": lista['descricao'],\n",
    "                  \"aprovacao\": lista['aprovacao']\n",
    "                 }\n",
    "    dados_gerais.append(dicionario)\n",
    "df_votacao_api = pd.DataFrame(dados_gerais)\n",
    "df_votacao_api.info()\n",
    "df_votacao_api.to_excel('resultados/votacoes/MPV_867_2018_todas_votacoes.xlsx',sheet_name='Sheet1',index=False)"
   ]
  },
  {
   "cell_type": "code",
   "execution_count": null,
   "id": "fe3f142e-ecc2-4e20-8f5f-35544645a482",
   "metadata": {},
   "outputs": [],
   "source": []
  },
  {
   "cell_type": "code",
   "execution_count": 121,
   "id": "d004369c-9cb2-4538-ab37-7c8cf3f21745",
   "metadata": {},
   "outputs": [
    {
     "data": {
      "text/plain": [
       "'\\nOriginalmente, a MP 867 propunha apenas a prorrogação, por dois anos, do prazo para os produtores rurais aderirem ao PRA (Programa de Regularização Ambiental). \\nNo entanto, o texto recebeu uma série de jabutis durante sua tramitação no Congresso, fragilizando o Código Florestal. Teve votação nominal do projeto de lei \\nde conversão e de destaques e requerimentos. A redação final foi aprovada na Câmara em votação simbólica, mas o projeto caducou no Senado. Foi avaliada a votação \\ndo destaque 7, que fez com que fosse votado separadamente um dos acréscimos mais graves feitos ao texto original da MP, sobre a reserva legal – parcela de 20% do \\nterreno que precisa manter a vegetação original. O jabuti dispensava médios e grandes produtores de recuperar as áreas desmatadas antes de 1989, no caso do Cerrado, \\ne de 1965, para a Mata Atlântica. O voto \"sim\" dos parlamentares representava sua concordância com a redução da recuperação da vegetação, enquanto o voto \"não\" e a \"obstrução\" representam discordância. \\n\\nMPV Nº 867/2018 - DTQ. 7 - PSB - §3º DO ART. 68 DA LEI 12651/2012, CONST. DO ART. 1º DO PLV\\n\\n'"
      ]
     },
     "execution_count": 121,
     "metadata": {},
     "output_type": "execute_result"
    }
   ],
   "source": [
    "'''\n",
    "Originalmente, a MP 867 propunha apenas a prorrogação, por dois anos, do prazo para os produtores rurais aderirem ao PRA (Programa de Regularização Ambiental). \n",
    "No entanto, o texto recebeu uma série de jabutis durante sua tramitação no Congresso, fragilizando o Código Florestal. Teve votação nominal do projeto de lei \n",
    "de conversão e de destaques e requerimentos. A redação final foi aprovada na Câmara em votação simbólica, mas o projeto caducou no Senado. Foi avaliada a votação \n",
    "do destaque 7, que fez com que fosse votado separadamente um dos acréscimos mais graves feitos ao texto original da MP, sobre a reserva legal – parcela de 20% do \n",
    "terreno que precisa manter a vegetação original. O jabuti dispensava médios e grandes produtores de recuperar as áreas desmatadas antes de 1989, no caso do Cerrado, \n",
    "e de 1965, para a Mata Atlântica. O voto \"sim\" dos parlamentares representava sua concordância com a redução da recuperação da vegetação, enquanto o voto \"não\" e a \"obstrução\" representam discordância. \n",
    "\n",
    "MPV Nº 867/2018 - DTQ. 7 - PSB - §3º DO ART. 68 DA LEI 12651/2012, CONST. DO ART. 1º DO PLV\n",
    "\n",
    "'''"
   ]
  },
  {
   "cell_type": "code",
   "execution_count": 122,
   "id": "70c3523a-0584-48b4-bc14-5efd48adf3e9",
   "metadata": {},
   "outputs": [
    {
     "data": {
      "text/plain": [
       "'\\nEncontrado:\\n<descUltimaAberturaVotacao>Votação do §3º do art. 68, da Lei 12.651/2012, contido no art. 1º do PLV nº 9/2019, apresentado à MPV 867/18, com vistas à supressão, objeto do destaque para votação em separado da bancada do PSB - DTQ 7.</descUltimaAberturaVotacao>\\n\\n2190237-86\\n\\n'"
      ]
     },
     "execution_count": 122,
     "metadata": {},
     "output_type": "execute_result"
    }
   ],
   "source": [
    "'''\n",
    "Encontrado:\n",
    "<descUltimaAberturaVotacao>Votação do §3º do art. 68, da Lei 12.651/2012, contido no art. 1º do PLV nº 9/2019, apresentado à MPV 867/18, com vistas à supressão, objeto do destaque para votação em separado da bancada do PSB - DTQ 7.</descUltimaAberturaVotacao>\n",
    "\n",
    "2190237-86\n",
    "\n",
    "'''"
   ]
  },
  {
   "cell_type": "code",
   "execution_count": null,
   "id": "08c18dd4-c59e-4e2f-9f4d-3439ae186354",
   "metadata": {},
   "outputs": [],
   "source": []
  },
  {
   "cell_type": "code",
   "execution_count": 123,
   "id": "685bb571-b3c2-43c7-9a6c-0de4132df4c9",
   "metadata": {},
   "outputs": [
    {
     "name": "stdout",
     "output_type": "stream",
     "text": [
      "<class 'pandas.core.frame.DataFrame'>\n",
      "RangeIndex: 368 entries, 0 to 367\n",
      "Data columns (total 11 columns):\n",
      " #   Column              Non-Null Count  Dtype \n",
      "---  ------              --------------  ----- \n",
      " 0   id_proposicao       368 non-null    object\n",
      " 1   id_votacao          368 non-null    object\n",
      " 2   nome_votacao        368 non-null    object\n",
      " 3   tipoVoto            368 non-null    object\n",
      " 4   dataRegistroVoto    368 non-null    object\n",
      " 5   id_deputado         368 non-null    int64 \n",
      " 6   nome                368 non-null    object\n",
      " 7   siglaUf             368 non-null    object\n",
      " 8   aval_voto_sim       368 non-null    object\n",
      " 9   aval_voto_nao_obst  368 non-null    object\n",
      " 10  aval_relevancia     368 non-null    object\n",
      "dtypes: int64(1), object(10)\n",
      "memory usage: 31.8+ KB\n"
     ]
    }
   ],
   "source": [
    "id_votos = '2190237-86'\n",
    "url = prefixo_voto+id_votos+sufixo_voto\n",
    "nome_votacao = \"MPV 867/2018\"\n",
    "\n",
    "aval_voto_sim = 'DESFAVORÁVEL'\n",
    "aval_voto_nao_obst = 'FAVORÁVEL'\n",
    "aval_relevancia = 'MUITO RELEVANTE'\n",
    "\n",
    "votos = []\n",
    "parametros = {'formato': 'json'}\n",
    "resposta = requests.get(url, parametros)\n",
    "for lista in resposta.json()['dados']:\n",
    "    dicionario = {\"id_proposicao\": id_proposicao,\n",
    "        \"id_votacao\": id_votos,\n",
    "                  \"nome_votacao\": nome_votacao,\n",
    "        \"tipoVoto\": lista['tipoVoto'], \n",
    "                  \"dataRegistroVoto\": lista['dataRegistroVoto'],\n",
    "                  \"id_deputado\": lista['deputado_']['id'],\n",
    "                  \"nome\": lista['deputado_']['nome'],\n",
    "                   \"siglaUf\": lista['deputado_']['siglaUf'],\n",
    "                  \"aval_voto_sim\": aval_voto_sim,\n",
    "                  \"aval_voto_nao_obst\": aval_voto_nao_obst,\n",
    "                  \"aval_relevancia\": aval_relevancia\n",
    "                 }\n",
    "    votos.append(dicionario)\n",
    "df_votacao_votos_MPV_867_2018 = pd.DataFrame(votos)\n",
    "df_votacao_votos_MPV_867_2018.info()"
   ]
  },
  {
   "cell_type": "code",
   "execution_count": 124,
   "id": "8e83c12e-b5ab-4211-814a-0462914e3704",
   "metadata": {},
   "outputs": [
    {
     "data": {
      "text/html": [
       "<div>\n",
       "<style scoped>\n",
       "    .dataframe tbody tr th:only-of-type {\n",
       "        vertical-align: middle;\n",
       "    }\n",
       "\n",
       "    .dataframe tbody tr th {\n",
       "        vertical-align: top;\n",
       "    }\n",
       "\n",
       "    .dataframe thead th {\n",
       "        text-align: right;\n",
       "    }\n",
       "</style>\n",
       "<table border=\"1\" class=\"dataframe\">\n",
       "  <thead>\n",
       "    <tr style=\"text-align: right;\">\n",
       "      <th></th>\n",
       "      <th>id_proposicao</th>\n",
       "      <th>id_votacao</th>\n",
       "      <th>nome_votacao</th>\n",
       "      <th>tipoVoto</th>\n",
       "      <th>dataRegistroVoto</th>\n",
       "      <th>id_deputado</th>\n",
       "      <th>nome</th>\n",
       "      <th>siglaUf</th>\n",
       "      <th>aval_voto_sim</th>\n",
       "      <th>aval_voto_nao_obst</th>\n",
       "      <th>aval_relevancia</th>\n",
       "    </tr>\n",
       "  </thead>\n",
       "  <tbody>\n",
       "    <tr>\n",
       "      <th>147</th>\n",
       "      <td>2190237</td>\n",
       "      <td>2190237-86</td>\n",
       "      <td>MPV 867/2018</td>\n",
       "      <td>Sim</td>\n",
       "      <td>2019-05-29T17:12:02</td>\n",
       "      <td>178956</td>\n",
       "      <td>Mariana Carvalho</td>\n",
       "      <td>RO</td>\n",
       "      <td>DESFAVORÁVEL</td>\n",
       "      <td>FAVORÁVEL</td>\n",
       "      <td>MUITO RELEVANTE</td>\n",
       "    </tr>\n",
       "    <tr>\n",
       "      <th>336</th>\n",
       "      <td>2190237</td>\n",
       "      <td>2190237-86</td>\n",
       "      <td>MPV 867/2018</td>\n",
       "      <td>Não</td>\n",
       "      <td>2019-05-29T17:10:12</td>\n",
       "      <td>204525</td>\n",
       "      <td>Rosana Valle</td>\n",
       "      <td>SP</td>\n",
       "      <td>DESFAVORÁVEL</td>\n",
       "      <td>FAVORÁVEL</td>\n",
       "      <td>MUITO RELEVANTE</td>\n",
       "    </tr>\n",
       "    <tr>\n",
       "      <th>91</th>\n",
       "      <td>2190237</td>\n",
       "      <td>2190237-86</td>\n",
       "      <td>MPV 867/2018</td>\n",
       "      <td>Não</td>\n",
       "      <td>2019-05-29T17:13:27</td>\n",
       "      <td>204464</td>\n",
       "      <td>Talíria Petrone</td>\n",
       "      <td>RJ</td>\n",
       "      <td>DESFAVORÁVEL</td>\n",
       "      <td>FAVORÁVEL</td>\n",
       "      <td>MUITO RELEVANTE</td>\n",
       "    </tr>\n",
       "    <tr>\n",
       "      <th>190</th>\n",
       "      <td>2190237</td>\n",
       "      <td>2190237-86</td>\n",
       "      <td>MPV 867/2018</td>\n",
       "      <td>Sim</td>\n",
       "      <td>2019-05-29T17:11:13</td>\n",
       "      <td>204474</td>\n",
       "      <td>Juarez Costa</td>\n",
       "      <td>MT</td>\n",
       "      <td>DESFAVORÁVEL</td>\n",
       "      <td>FAVORÁVEL</td>\n",
       "      <td>MUITO RELEVANTE</td>\n",
       "    </tr>\n",
       "    <tr>\n",
       "      <th>312</th>\n",
       "      <td>2190237</td>\n",
       "      <td>2190237-86</td>\n",
       "      <td>MPV 867/2018</td>\n",
       "      <td>Sim</td>\n",
       "      <td>2019-05-29T17:10:17</td>\n",
       "      <td>204479</td>\n",
       "      <td>Nicoletti</td>\n",
       "      <td>RR</td>\n",
       "      <td>DESFAVORÁVEL</td>\n",
       "      <td>FAVORÁVEL</td>\n",
       "      <td>MUITO RELEVANTE</td>\n",
       "    </tr>\n",
       "  </tbody>\n",
       "</table>\n",
       "</div>"
      ],
      "text/plain": [
       "    id_proposicao  id_votacao  nome_votacao tipoVoto     dataRegistroVoto  \\\n",
       "147       2190237  2190237-86  MPV 867/2018      Sim  2019-05-29T17:12:02   \n",
       "336       2190237  2190237-86  MPV 867/2018      Não  2019-05-29T17:10:12   \n",
       "91        2190237  2190237-86  MPV 867/2018      Não  2019-05-29T17:13:27   \n",
       "190       2190237  2190237-86  MPV 867/2018      Sim  2019-05-29T17:11:13   \n",
       "312       2190237  2190237-86  MPV 867/2018      Sim  2019-05-29T17:10:17   \n",
       "\n",
       "     id_deputado              nome siglaUf aval_voto_sim aval_voto_nao_obst  \\\n",
       "147       178956  Mariana Carvalho      RO  DESFAVORÁVEL          FAVORÁVEL   \n",
       "336       204525      Rosana Valle      SP  DESFAVORÁVEL          FAVORÁVEL   \n",
       "91        204464   Talíria Petrone      RJ  DESFAVORÁVEL          FAVORÁVEL   \n",
       "190       204474      Juarez Costa      MT  DESFAVORÁVEL          FAVORÁVEL   \n",
       "312       204479         Nicoletti      RR  DESFAVORÁVEL          FAVORÁVEL   \n",
       "\n",
       "     aval_relevancia  \n",
       "147  MUITO RELEVANTE  \n",
       "336  MUITO RELEVANTE  \n",
       "91   MUITO RELEVANTE  \n",
       "190  MUITO RELEVANTE  \n",
       "312  MUITO RELEVANTE  "
      ]
     },
     "execution_count": 124,
     "metadata": {},
     "output_type": "execute_result"
    }
   ],
   "source": [
    "df_votacao_votos_MPV_867_2018.sample(5)"
   ]
  },
  {
   "cell_type": "code",
   "execution_count": null,
   "id": "cedcb724-4efe-4935-af46-584d8a0fee74",
   "metadata": {},
   "outputs": [],
   "source": []
  },
  {
   "cell_type": "code",
   "execution_count": null,
   "id": "60ba0fc4-df00-48a0-bc7c-cdbe337f3860",
   "metadata": {},
   "outputs": [],
   "source": []
  },
  {
   "cell_type": "markdown",
   "id": "0d3b487e-f29d-42cc-851f-ebc76b33cb0c",
   "metadata": {},
   "source": [
    "### PL 3729/2004"
   ]
  },
  {
   "cell_type": "code",
   "execution_count": 125,
   "id": "afb7b4bd-a045-43e5-ae84-267f7f5a2662",
   "metadata": {},
   "outputs": [],
   "source": [
    "# https://www.camara.leg.br/proposicoesWeb/fichadetramitacao?idProposicao=257161"
   ]
  },
  {
   "cell_type": "code",
   "execution_count": null,
   "id": "840857fd-fa02-4d65-94d4-312aa19dcb94",
   "metadata": {},
   "outputs": [],
   "source": []
  },
  {
   "cell_type": "code",
   "execution_count": 126,
   "id": "027568a0-36b9-4f7f-aa78-88482a5c7b27",
   "metadata": {},
   "outputs": [
    {
     "name": "stdout",
     "output_type": "stream",
     "text": [
      "<class 'pandas.core.frame.DataFrame'>\n",
      "RangeIndex: 22 entries, 0 to 21\n",
      "Data columns (total 11 columns):\n",
      " #   Column               Non-Null Count  Dtype  \n",
      "---  ------               --------------  -----  \n",
      " 0   id                   22 non-null     object \n",
      " 1   uri                  22 non-null     object \n",
      " 2   data                 22 non-null     object \n",
      " 3   dataHoraRegistro     22 non-null     object \n",
      " 4   siglaOrgao           22 non-null     object \n",
      " 5   uriOrgao             22 non-null     object \n",
      " 6   uriEvento            21 non-null     object \n",
      " 7   proposicaoObjeto     1 non-null      object \n",
      " 8   uriProposicaoObjeto  1 non-null      object \n",
      " 9   descricao            22 non-null     object \n",
      " 10  aprovacao            20 non-null     float64\n",
      "dtypes: float64(1), object(10)\n",
      "memory usage: 2.0+ KB\n"
     ]
    }
   ],
   "source": [
    "id_proposicao = '257161'\n",
    "url = prefixo_pl+id_proposicao+sufixo_pl\n",
    "dados_gerais = []\n",
    "parametros = {'formato': 'json'}\n",
    "resposta = requests.get(url, parametros)\n",
    "for lista in resposta.json()['dados']:\n",
    "    dicionario = {\"id\": lista['id'], \n",
    "                  \"uri\": lista['uri'],\n",
    "                  \"data\": lista['data'],\n",
    "                  \"dataHoraRegistro\": lista['dataHoraRegistro'],\n",
    "                  \"siglaOrgao\": lista['siglaOrgao'],\n",
    "                  \"uriOrgao\": lista['uriOrgao'],\n",
    "                  \"uriEvento\": lista['uriEvento'],\n",
    "                  \"proposicaoObjeto\": lista['proposicaoObjeto'],\n",
    "                  \"uriProposicaoObjeto\": lista['uriProposicaoObjeto'],\n",
    "                  \"descricao\": lista['descricao'],\n",
    "                  \"aprovacao\": lista['aprovacao']\n",
    "                 }\n",
    "    dados_gerais.append(dicionario)\n",
    "df_votacao_api = pd.DataFrame(dados_gerais)\n",
    "df_votacao_api.info()\n",
    "df_votacao_api.to_excel('resultados/votacoes/PL_3729_2004_todas_votacoes.xlsx',sheet_name='Sheet1',index=False)"
   ]
  },
  {
   "cell_type": "code",
   "execution_count": null,
   "id": "6e75fb3d-b241-4d13-9afa-22dd441f5615",
   "metadata": {},
   "outputs": [],
   "source": []
  },
  {
   "cell_type": "code",
   "execution_count": 127,
   "id": "5fbb712a-bfeb-4d61-a374-1ca7e22560d0",
   "metadata": {},
   "outputs": [
    {
     "data": {
      "text/plain": [
       "'\\nO texto aprovado dispensava de licenciamento ambiental várias atividades que potencialmente trazem impactos ao meio ambiente, como a agricultura, a pecuária \\n(com exceção da intensiva de médio e grande porte), a silvicultura e obras de instalação de redes de água e esgoto. Também permitia que atividades e obras de baixo e \\nmédio risco ambiental, inclusive mineração, pudessem ser liberadas apenas com uma licença autodeclaratória, emitida pela internet, sem análise prévia de órgãos ambientais. \\nO projeto também ameaçava povos indígenas e comunidades tradicionais, ao exigir a necessidade de estudos de impacto ambiental apenas no caso de empreendimentos próximos a territórios já \\nreconhecidos, excluindo os casos em que os processos de homologação e titulação estão abertos, mas ainda em análise. O texto foi aprovado na Câmara. Foi avaliada a votação da redação final do texto. \\nQuem votou \"sim\" concordava com as mudanças no licenciamento ambiental, para deixá-lo mais frouxo.\\n\\nPL   Nº 3729/2004 - REDAÇÃO FINAL\\n\\n'"
      ]
     },
     "execution_count": 127,
     "metadata": {},
     "output_type": "execute_result"
    }
   ],
   "source": [
    "'''\n",
    "O texto aprovado dispensava de licenciamento ambiental várias atividades que potencialmente trazem impactos ao meio ambiente, como a agricultura, a pecuária \n",
    "(com exceção da intensiva de médio e grande porte), a silvicultura e obras de instalação de redes de água e esgoto. Também permitia que atividades e obras de baixo e \n",
    "médio risco ambiental, inclusive mineração, pudessem ser liberadas apenas com uma licença autodeclaratória, emitida pela internet, sem análise prévia de órgãos ambientais. \n",
    "O projeto também ameaçava povos indígenas e comunidades tradicionais, ao exigir a necessidade de estudos de impacto ambiental apenas no caso de empreendimentos próximos a territórios já \n",
    "reconhecidos, excluindo os casos em que os processos de homologação e titulação estão abertos, mas ainda em análise. O texto foi aprovado na Câmara. Foi avaliada a votação da redação final do texto. \n",
    "Quem votou \"sim\" concordava com as mudanças no licenciamento ambiental, para deixá-lo mais frouxo.\n",
    "\n",
    "PL   Nº 3729/2004 - REDAÇÃO FINAL\n",
    "\n",
    "'''"
   ]
  },
  {
   "cell_type": "code",
   "execution_count": 128,
   "id": "f92b9672-ab70-4ba2-975a-caba9013d577",
   "metadata": {},
   "outputs": [
    {
     "data": {
      "text/plain": [
       "'\\nEncontrado:\\nAprovada a Redação Final assinada pelo Relator, Dep. Dep. Neri Geller (PP-MT). Sim: 290; não: 115; total: 405.\\n\\n257161-386\\n\\n'"
      ]
     },
     "execution_count": 128,
     "metadata": {},
     "output_type": "execute_result"
    }
   ],
   "source": [
    "'''\n",
    "Encontrado:\n",
    "Aprovada a Redação Final assinada pelo Relator, Dep. Dep. Neri Geller (PP-MT). Sim: 290; não: 115; total: 405.\n",
    "\n",
    "257161-386\n",
    "\n",
    "'''"
   ]
  },
  {
   "cell_type": "code",
   "execution_count": null,
   "id": "9d5ee5db-e672-4f3f-92e0-a51dfb293974",
   "metadata": {},
   "outputs": [],
   "source": []
  },
  {
   "cell_type": "code",
   "execution_count": 129,
   "id": "29863784-e2a0-441f-b48c-e74e60f98620",
   "metadata": {},
   "outputs": [
    {
     "name": "stdout",
     "output_type": "stream",
     "text": [
      "<class 'pandas.core.frame.DataFrame'>\n",
      "RangeIndex: 406 entries, 0 to 405\n",
      "Data columns (total 11 columns):\n",
      " #   Column              Non-Null Count  Dtype \n",
      "---  ------              --------------  ----- \n",
      " 0   id_proposicao       406 non-null    object\n",
      " 1   id_votacao          406 non-null    object\n",
      " 2   nome_votacao        406 non-null    object\n",
      " 3   tipoVoto            406 non-null    object\n",
      " 4   dataRegistroVoto    406 non-null    object\n",
      " 5   id_deputado         406 non-null    int64 \n",
      " 6   nome                406 non-null    object\n",
      " 7   siglaUf             406 non-null    object\n",
      " 8   aval_voto_sim       406 non-null    object\n",
      " 9   aval_voto_nao_obst  406 non-null    object\n",
      " 10  aval_relevancia     406 non-null    object\n",
      "dtypes: int64(1), object(10)\n",
      "memory usage: 35.0+ KB\n"
     ]
    }
   ],
   "source": [
    "id_votos = '257161-386'\n",
    "url = prefixo_voto+id_votos+sufixo_voto\n",
    "nome_votacao = \"PL 3729/2004\"\n",
    "\n",
    "aval_voto_sim = 'DESFAVORÁVEL'\n",
    "aval_voto_nao_obst = 'FAVORÁVEL'\n",
    "aval_relevancia = 'MUITO RELEVANTE'\n",
    "\n",
    "votos = []\n",
    "parametros = {'formato': 'json'}\n",
    "resposta = requests.get(url, parametros)\n",
    "for lista in resposta.json()['dados']:\n",
    "    dicionario = {\"id_proposicao\": id_proposicao,\n",
    "        \"id_votacao\": id_votos,\n",
    "                  \"nome_votacao\": nome_votacao,\n",
    "        \"tipoVoto\": lista['tipoVoto'], \n",
    "                  \"dataRegistroVoto\": lista['dataRegistroVoto'],\n",
    "                  \"id_deputado\": lista['deputado_']['id'],\n",
    "                  \"nome\": lista['deputado_']['nome'],\n",
    "                   \"siglaUf\": lista['deputado_']['siglaUf'],\n",
    "                  \"aval_voto_sim\": aval_voto_sim,\n",
    "                  \"aval_voto_nao_obst\": aval_voto_nao_obst,\n",
    "                  \"aval_relevancia\": aval_relevancia\n",
    "                 }\n",
    "    votos.append(dicionario)\n",
    "df_votacao_votos_PL_3729_2004 = pd.DataFrame(votos)\n",
    "df_votacao_votos_PL_3729_2004.info()"
   ]
  },
  {
   "cell_type": "code",
   "execution_count": 130,
   "id": "1b0d2aba-f980-4e21-86aa-46ff59a486dc",
   "metadata": {},
   "outputs": [
    {
     "data": {
      "text/html": [
       "<div>\n",
       "<style scoped>\n",
       "    .dataframe tbody tr th:only-of-type {\n",
       "        vertical-align: middle;\n",
       "    }\n",
       "\n",
       "    .dataframe tbody tr th {\n",
       "        vertical-align: top;\n",
       "    }\n",
       "\n",
       "    .dataframe thead th {\n",
       "        text-align: right;\n",
       "    }\n",
       "</style>\n",
       "<table border=\"1\" class=\"dataframe\">\n",
       "  <thead>\n",
       "    <tr style=\"text-align: right;\">\n",
       "      <th></th>\n",
       "      <th>id_proposicao</th>\n",
       "      <th>id_votacao</th>\n",
       "      <th>nome_votacao</th>\n",
       "      <th>tipoVoto</th>\n",
       "      <th>dataRegistroVoto</th>\n",
       "      <th>id_deputado</th>\n",
       "      <th>nome</th>\n",
       "      <th>siglaUf</th>\n",
       "      <th>aval_voto_sim</th>\n",
       "      <th>aval_voto_nao_obst</th>\n",
       "      <th>aval_relevancia</th>\n",
       "    </tr>\n",
       "  </thead>\n",
       "  <tbody>\n",
       "    <tr>\n",
       "      <th>280</th>\n",
       "      <td>257161</td>\n",
       "      <td>257161-386</td>\n",
       "      <td>PL 3729/2004</td>\n",
       "      <td>Sim</td>\n",
       "      <td>2021-05-13T15:59:31</td>\n",
       "      <td>74273</td>\n",
       "      <td>Jefferson Campos</td>\n",
       "      <td>SP</td>\n",
       "      <td>DESFAVORÁVEL</td>\n",
       "      <td>FAVORÁVEL</td>\n",
       "      <td>MUITO RELEVANTE</td>\n",
       "    </tr>\n",
       "    <tr>\n",
       "      <th>76</th>\n",
       "      <td>257161</td>\n",
       "      <td>257161-386</td>\n",
       "      <td>PL 3729/2004</td>\n",
       "      <td>Sim</td>\n",
       "      <td>2021-05-13T16:01:48</td>\n",
       "      <td>73441</td>\n",
       "      <td>Celso Russomanno</td>\n",
       "      <td>SP</td>\n",
       "      <td>DESFAVORÁVEL</td>\n",
       "      <td>FAVORÁVEL</td>\n",
       "      <td>MUITO RELEVANTE</td>\n",
       "    </tr>\n",
       "    <tr>\n",
       "      <th>310</th>\n",
       "      <td>257161</td>\n",
       "      <td>257161-386</td>\n",
       "      <td>PL 3729/2004</td>\n",
       "      <td>Não</td>\n",
       "      <td>2021-05-13T15:59:20</td>\n",
       "      <td>141523</td>\n",
       "      <td>Raul Henry</td>\n",
       "      <td>PE</td>\n",
       "      <td>DESFAVORÁVEL</td>\n",
       "      <td>FAVORÁVEL</td>\n",
       "      <td>MUITO RELEVANTE</td>\n",
       "    </tr>\n",
       "    <tr>\n",
       "      <th>152</th>\n",
       "      <td>257161</td>\n",
       "      <td>257161-386</td>\n",
       "      <td>PL 3729/2004</td>\n",
       "      <td>Sim</td>\n",
       "      <td>2021-05-13T16:00:26</td>\n",
       "      <td>179000</td>\n",
       "      <td>Marcelo Álvaro Antônio</td>\n",
       "      <td>MG</td>\n",
       "      <td>DESFAVORÁVEL</td>\n",
       "      <td>FAVORÁVEL</td>\n",
       "      <td>MUITO RELEVANTE</td>\n",
       "    </tr>\n",
       "    <tr>\n",
       "      <th>133</th>\n",
       "      <td>257161</td>\n",
       "      <td>257161-386</td>\n",
       "      <td>PL 3729/2004</td>\n",
       "      <td>Não</td>\n",
       "      <td>2021-05-13T16:00:38</td>\n",
       "      <td>160535</td>\n",
       "      <td>Marcon</td>\n",
       "      <td>RS</td>\n",
       "      <td>DESFAVORÁVEL</td>\n",
       "      <td>FAVORÁVEL</td>\n",
       "      <td>MUITO RELEVANTE</td>\n",
       "    </tr>\n",
       "  </tbody>\n",
       "</table>\n",
       "</div>"
      ],
      "text/plain": [
       "    id_proposicao  id_votacao  nome_votacao tipoVoto     dataRegistroVoto  \\\n",
       "280        257161  257161-386  PL 3729/2004      Sim  2021-05-13T15:59:31   \n",
       "76         257161  257161-386  PL 3729/2004      Sim  2021-05-13T16:01:48   \n",
       "310        257161  257161-386  PL 3729/2004      Não  2021-05-13T15:59:20   \n",
       "152        257161  257161-386  PL 3729/2004      Sim  2021-05-13T16:00:26   \n",
       "133        257161  257161-386  PL 3729/2004      Não  2021-05-13T16:00:38   \n",
       "\n",
       "     id_deputado                    nome siglaUf aval_voto_sim  \\\n",
       "280        74273        Jefferson Campos      SP  DESFAVORÁVEL   \n",
       "76         73441        Celso Russomanno      SP  DESFAVORÁVEL   \n",
       "310       141523              Raul Henry      PE  DESFAVORÁVEL   \n",
       "152       179000  Marcelo Álvaro Antônio      MG  DESFAVORÁVEL   \n",
       "133       160535                  Marcon      RS  DESFAVORÁVEL   \n",
       "\n",
       "    aval_voto_nao_obst  aval_relevancia  \n",
       "280          FAVORÁVEL  MUITO RELEVANTE  \n",
       "76           FAVORÁVEL  MUITO RELEVANTE  \n",
       "310          FAVORÁVEL  MUITO RELEVANTE  \n",
       "152          FAVORÁVEL  MUITO RELEVANTE  \n",
       "133          FAVORÁVEL  MUITO RELEVANTE  "
      ]
     },
     "execution_count": 130,
     "metadata": {},
     "output_type": "execute_result"
    }
   ],
   "source": [
    "df_votacao_votos_PL_3729_2004.sample(5)"
   ]
  },
  {
   "cell_type": "code",
   "execution_count": null,
   "id": "d613042b-7e3d-42e7-b4fb-aaa21257f3a9",
   "metadata": {},
   "outputs": [],
   "source": []
  },
  {
   "cell_type": "code",
   "execution_count": null,
   "id": "6d27f9a2-cfb1-493f-a51d-16047ca105b2",
   "metadata": {},
   "outputs": [],
   "source": []
  },
  {
   "cell_type": "markdown",
   "id": "bcb3f002-8c58-4ff4-8184-314a017f50cd",
   "metadata": {},
   "source": [
    "### MPV 897/2019"
   ]
  },
  {
   "cell_type": "code",
   "execution_count": 131,
   "id": "f434d736-fe0c-4011-b86f-bf02571c4e31",
   "metadata": {},
   "outputs": [],
   "source": [
    "# https://www.camara.leg.br/proposicoesWeb/fichadetramitacao?idProposicao=2222884"
   ]
  },
  {
   "cell_type": "code",
   "execution_count": null,
   "id": "44d7cc26-816f-4e25-9a49-b7a14f41280e",
   "metadata": {},
   "outputs": [],
   "source": []
  },
  {
   "cell_type": "code",
   "execution_count": 132,
   "id": "f18359cc-f403-408b-9d84-b5d80fdd2a8a",
   "metadata": {},
   "outputs": [
    {
     "name": "stdout",
     "output_type": "stream",
     "text": [
      "<class 'pandas.core.frame.DataFrame'>\n",
      "RangeIndex: 22 entries, 0 to 21\n",
      "Data columns (total 11 columns):\n",
      " #   Column               Non-Null Count  Dtype  \n",
      "---  ------               --------------  -----  \n",
      " 0   id                   22 non-null     object \n",
      " 1   uri                  22 non-null     object \n",
      " 2   data                 22 non-null     object \n",
      " 3   dataHoraRegistro     22 non-null     object \n",
      " 4   siglaOrgao           22 non-null     object \n",
      " 5   uriOrgao             22 non-null     object \n",
      " 6   uriEvento            22 non-null     object \n",
      " 7   proposicaoObjeto     0 non-null      object \n",
      " 8   uriProposicaoObjeto  0 non-null      object \n",
      " 9   descricao            22 non-null     object \n",
      " 10  aprovacao            14 non-null     float64\n",
      "dtypes: float64(1), object(10)\n",
      "memory usage: 2.0+ KB\n"
     ]
    }
   ],
   "source": [
    "id_proposicao = '2222884'\n",
    "url = prefixo_pl+id_proposicao+sufixo_pl\n",
    "dados_gerais = []\n",
    "parametros = {'formato': 'json'}\n",
    "resposta = requests.get(url, parametros)\n",
    "for lista in resposta.json()['dados']:\n",
    "    dicionario = {\"id\": lista['id'], \n",
    "                  \"uri\": lista['uri'],\n",
    "                  \"data\": lista['data'],\n",
    "                  \"dataHoraRegistro\": lista['dataHoraRegistro'],\n",
    "                  \"siglaOrgao\": lista['siglaOrgao'],\n",
    "                  \"uriOrgao\": lista['uriOrgao'],\n",
    "                  \"uriEvento\": lista['uriEvento'],\n",
    "                  \"proposicaoObjeto\": lista['proposicaoObjeto'],\n",
    "                  \"uriProposicaoObjeto\": lista['uriProposicaoObjeto'],\n",
    "                  \"descricao\": lista['descricao'],\n",
    "                  \"aprovacao\": lista['aprovacao']\n",
    "                 }\n",
    "    dados_gerais.append(dicionario)\n",
    "df_votacao_api = pd.DataFrame(dados_gerais)\n",
    "df_votacao_api.info()\n",
    "df_votacao_api.to_excel('resultados/votacoes/MPV_897_2019_todas_votacoes.xlsx',sheet_name='Sheet1',index=False)"
   ]
  },
  {
   "cell_type": "code",
   "execution_count": null,
   "id": "26f8006a-a731-4f24-af78-4dc7b8f0c543",
   "metadata": {},
   "outputs": [],
   "source": []
  },
  {
   "cell_type": "code",
   "execution_count": 133,
   "id": "98f5c0a8-a8df-4ceb-a473-885cd3fb9bea",
   "metadata": {},
   "outputs": [
    {
     "data": {
      "text/plain": [
       "'\\nChamada \"Lei do Agro\", ampliava a concessão de crédito para o agronegócio. Permitia que os produtores rurais dessem apenas uma parte da propriedade rural para obter crédito, \\ncriava fundos garantidores para fomentar a concessão e permitia que bancos privados passassem a conceder crédito rural. Foi avaliada a votação do Projeto de Lei de Conversão nº 30, de 2019, \\nressalvados os destaques. Votou \"sim\" quem era a favor das medidas que ampliavam o crédito para o agronegócio.\\n\\nMPV Nº 897/2019 - PROJETO DE LEI DE CONVERSÃO Nº 30/2019\\n\\n'"
      ]
     },
     "execution_count": 133,
     "metadata": {},
     "output_type": "execute_result"
    }
   ],
   "source": [
    "'''\n",
    "Chamada \"Lei do Agro\", ampliava a concessão de crédito para o agronegócio. Permitia que os produtores rurais dessem apenas uma parte da propriedade rural para obter crédito, \n",
    "criava fundos garantidores para fomentar a concessão e permitia que bancos privados passassem a conceder crédito rural. Foi avaliada a votação do Projeto de Lei de Conversão nº 30, de 2019, \n",
    "ressalvados os destaques. Votou \"sim\" quem era a favor das medidas que ampliavam o crédito para o agronegócio.\n",
    "\n",
    "MPV Nº 897/2019 - PROJETO DE LEI DE CONVERSÃO Nº 30/2019\n",
    "\n",
    "'''"
   ]
  },
  {
   "cell_type": "code",
   "execution_count": 134,
   "id": "33beb2e7-330b-4ff2-8352-237f18dd812a",
   "metadata": {},
   "outputs": [
    {
     "data": {
      "text/plain": [
       "'\\nAprovada a Medida Provisória nº 897, de 2019, na forma do Projeto de Lei de Conversão nº 30, de 2019, ressalvados os destaques. Sim 329; não 58; total 387.\\n\\n2222884-62\\n\\n'"
      ]
     },
     "execution_count": 134,
     "metadata": {},
     "output_type": "execute_result"
    }
   ],
   "source": [
    "'''\n",
    "Aprovada a Medida Provisória nº 897, de 2019, na forma do Projeto de Lei de Conversão nº 30, de 2019, ressalvados os destaques. Sim 329; não 58; total 387.\n",
    "\n",
    "2222884-62\n",
    "\n",
    "'''"
   ]
  },
  {
   "cell_type": "code",
   "execution_count": null,
   "id": "9e7f7b99-524c-4a0b-b8d2-9c577141cefc",
   "metadata": {},
   "outputs": [],
   "source": []
  },
  {
   "cell_type": "code",
   "execution_count": 135,
   "id": "da969247-be77-41d8-915d-0a711b683b25",
   "metadata": {},
   "outputs": [
    {
     "name": "stdout",
     "output_type": "stream",
     "text": [
      "<class 'pandas.core.frame.DataFrame'>\n",
      "RangeIndex: 388 entries, 0 to 387\n",
      "Data columns (total 11 columns):\n",
      " #   Column              Non-Null Count  Dtype \n",
      "---  ------              --------------  ----- \n",
      " 0   id_proposicao       388 non-null    object\n",
      " 1   id_votacao          388 non-null    object\n",
      " 2   nome_votacao        388 non-null    object\n",
      " 3   tipoVoto            388 non-null    object\n",
      " 4   dataRegistroVoto    388 non-null    object\n",
      " 5   id_deputado         388 non-null    int64 \n",
      " 6   nome                388 non-null    object\n",
      " 7   siglaUf             388 non-null    object\n",
      " 8   aval_voto_sim       388 non-null    object\n",
      " 9   aval_voto_nao_obst  388 non-null    object\n",
      " 10  aval_relevancia     388 non-null    object\n",
      "dtypes: int64(1), object(10)\n",
      "memory usage: 33.5+ KB\n"
     ]
    }
   ],
   "source": [
    "id_votos = '2222884-62'\n",
    "url = prefixo_voto+id_votos+sufixo_voto\n",
    "nome_votacao = \"MPV_897_2019\"\n",
    "\n",
    "aval_voto_sim = 'DESFAVORÁVEL'\n",
    "aval_voto_nao_obst = 'FAVORÁVEL'\n",
    "aval_relevancia = 'RELEVANTE'\n",
    "\n",
    "votos = []\n",
    "parametros = {'formato': 'json'}\n",
    "resposta = requests.get(url, parametros)\n",
    "for lista in resposta.json()['dados']:\n",
    "    dicionario = {\"id_proposicao\": id_proposicao,\n",
    "        \"id_votacao\": id_votos,\n",
    "                  \"nome_votacao\": nome_votacao,\n",
    "        \"tipoVoto\": lista['tipoVoto'], \n",
    "                  \"dataRegistroVoto\": lista['dataRegistroVoto'],\n",
    "                  \"id_deputado\": lista['deputado_']['id'],\n",
    "                  \"nome\": lista['deputado_']['nome'],\n",
    "                   \"siglaUf\": lista['deputado_']['siglaUf'],\n",
    "                  \"aval_voto_sim\": aval_voto_sim,\n",
    "                  \"aval_voto_nao_obst\": aval_voto_nao_obst,\n",
    "                  \"aval_relevancia\": aval_relevancia\n",
    "                 }\n",
    "    votos.append(dicionario)\n",
    "df_votacao_votos_MPV_897_2019 = pd.DataFrame(votos)\n",
    "df_votacao_votos_MPV_897_2019.info()"
   ]
  },
  {
   "cell_type": "code",
   "execution_count": 136,
   "id": "de7cb4ca-c948-450e-b8f9-eee6d5d00d83",
   "metadata": {},
   "outputs": [
    {
     "data": {
      "text/html": [
       "<div>\n",
       "<style scoped>\n",
       "    .dataframe tbody tr th:only-of-type {\n",
       "        vertical-align: middle;\n",
       "    }\n",
       "\n",
       "    .dataframe tbody tr th {\n",
       "        vertical-align: top;\n",
       "    }\n",
       "\n",
       "    .dataframe thead th {\n",
       "        text-align: right;\n",
       "    }\n",
       "</style>\n",
       "<table border=\"1\" class=\"dataframe\">\n",
       "  <thead>\n",
       "    <tr style=\"text-align: right;\">\n",
       "      <th></th>\n",
       "      <th>id_proposicao</th>\n",
       "      <th>id_votacao</th>\n",
       "      <th>nome_votacao</th>\n",
       "      <th>tipoVoto</th>\n",
       "      <th>dataRegistroVoto</th>\n",
       "      <th>id_deputado</th>\n",
       "      <th>nome</th>\n",
       "      <th>siglaUf</th>\n",
       "      <th>aval_voto_sim</th>\n",
       "      <th>aval_voto_nao_obst</th>\n",
       "      <th>aval_relevancia</th>\n",
       "    </tr>\n",
       "  </thead>\n",
       "  <tbody>\n",
       "    <tr>\n",
       "      <th>197</th>\n",
       "      <td>2222884</td>\n",
       "      <td>2222884-62</td>\n",
       "      <td>MPV_897_2019</td>\n",
       "      <td>Sim</td>\n",
       "      <td>2020-02-11T20:36:08</td>\n",
       "      <td>204386</td>\n",
       "      <td>Jose Mario Schreiner</td>\n",
       "      <td>GO</td>\n",
       "      <td>DESFAVORÁVEL</td>\n",
       "      <td>FAVORÁVEL</td>\n",
       "      <td>RELEVANTE</td>\n",
       "    </tr>\n",
       "    <tr>\n",
       "      <th>379</th>\n",
       "      <td>2222884</td>\n",
       "      <td>2222884-62</td>\n",
       "      <td>MPV_897_2019</td>\n",
       "      <td>Sim</td>\n",
       "      <td>2020-02-11T20:35:35</td>\n",
       "      <td>204427</td>\n",
       "      <td>Fernando Rodolfo</td>\n",
       "      <td>PE</td>\n",
       "      <td>DESFAVORÁVEL</td>\n",
       "      <td>FAVORÁVEL</td>\n",
       "      <td>RELEVANTE</td>\n",
       "    </tr>\n",
       "    <tr>\n",
       "      <th>204</th>\n",
       "      <td>2222884</td>\n",
       "      <td>2222884-62</td>\n",
       "      <td>MPV_897_2019</td>\n",
       "      <td>Sim</td>\n",
       "      <td>2020-02-11T20:36:05</td>\n",
       "      <td>160667</td>\n",
       "      <td>Guilherme Mussi</td>\n",
       "      <td>SP</td>\n",
       "      <td>DESFAVORÁVEL</td>\n",
       "      <td>FAVORÁVEL</td>\n",
       "      <td>RELEVANTE</td>\n",
       "    </tr>\n",
       "    <tr>\n",
       "      <th>296</th>\n",
       "      <td>2222884</td>\n",
       "      <td>2222884-62</td>\n",
       "      <td>MPV_897_2019</td>\n",
       "      <td>Sim</td>\n",
       "      <td>2020-02-11T20:35:46</td>\n",
       "      <td>74079</td>\n",
       "      <td>José Priante</td>\n",
       "      <td>PA</td>\n",
       "      <td>DESFAVORÁVEL</td>\n",
       "      <td>FAVORÁVEL</td>\n",
       "      <td>RELEVANTE</td>\n",
       "    </tr>\n",
       "    <tr>\n",
       "      <th>234</th>\n",
       "      <td>2222884</td>\n",
       "      <td>2222884-62</td>\n",
       "      <td>MPV_897_2019</td>\n",
       "      <td>Sim</td>\n",
       "      <td>2020-02-11T20:35:58</td>\n",
       "      <td>204471</td>\n",
       "      <td>Mara Rocha</td>\n",
       "      <td>AC</td>\n",
       "      <td>DESFAVORÁVEL</td>\n",
       "      <td>FAVORÁVEL</td>\n",
       "      <td>RELEVANTE</td>\n",
       "    </tr>\n",
       "  </tbody>\n",
       "</table>\n",
       "</div>"
      ],
      "text/plain": [
       "    id_proposicao  id_votacao  nome_votacao tipoVoto     dataRegistroVoto  \\\n",
       "197       2222884  2222884-62  MPV_897_2019      Sim  2020-02-11T20:36:08   \n",
       "379       2222884  2222884-62  MPV_897_2019      Sim  2020-02-11T20:35:35   \n",
       "204       2222884  2222884-62  MPV_897_2019      Sim  2020-02-11T20:36:05   \n",
       "296       2222884  2222884-62  MPV_897_2019      Sim  2020-02-11T20:35:46   \n",
       "234       2222884  2222884-62  MPV_897_2019      Sim  2020-02-11T20:35:58   \n",
       "\n",
       "     id_deputado                  nome siglaUf aval_voto_sim  \\\n",
       "197       204386  Jose Mario Schreiner      GO  DESFAVORÁVEL   \n",
       "379       204427      Fernando Rodolfo      PE  DESFAVORÁVEL   \n",
       "204       160667       Guilherme Mussi      SP  DESFAVORÁVEL   \n",
       "296        74079          José Priante      PA  DESFAVORÁVEL   \n",
       "234       204471            Mara Rocha      AC  DESFAVORÁVEL   \n",
       "\n",
       "    aval_voto_nao_obst aval_relevancia  \n",
       "197          FAVORÁVEL       RELEVANTE  \n",
       "379          FAVORÁVEL       RELEVANTE  \n",
       "204          FAVORÁVEL       RELEVANTE  \n",
       "296          FAVORÁVEL       RELEVANTE  \n",
       "234          FAVORÁVEL       RELEVANTE  "
      ]
     },
     "execution_count": 136,
     "metadata": {},
     "output_type": "execute_result"
    }
   ],
   "source": [
    "df_votacao_votos_MPV_897_2019.sample(5)"
   ]
  },
  {
   "cell_type": "code",
   "execution_count": null,
   "id": "7cd95605-c4a6-42f2-a91a-79b40014a8b5",
   "metadata": {},
   "outputs": [],
   "source": []
  },
  {
   "cell_type": "code",
   "execution_count": null,
   "id": "e778d6a0-4d37-4b20-b295-b5167e7e84d0",
   "metadata": {},
   "outputs": [],
   "source": []
  },
  {
   "cell_type": "markdown",
   "id": "3bce5623-3bcf-4346-9436-99b6dfe44d43",
   "metadata": {},
   "source": [
    "### PL 3430/2019"
   ]
  },
  {
   "cell_type": "code",
   "execution_count": 137,
   "id": "df3fd194-63a1-4f49-a2c1-f72e5340f513",
   "metadata": {},
   "outputs": [],
   "source": [
    "# https://www.camara.leg.br/proposicoesWeb/fichadetramitacao?idProposicao=2207429"
   ]
  },
  {
   "cell_type": "code",
   "execution_count": null,
   "id": "60184f67-95d0-4861-a6e3-5037ad3eeed5",
   "metadata": {},
   "outputs": [],
   "source": []
  },
  {
   "cell_type": "code",
   "execution_count": 138,
   "id": "d09cbfed-4d4e-4147-8620-58c9a6a67fd2",
   "metadata": {},
   "outputs": [
    {
     "name": "stdout",
     "output_type": "stream",
     "text": [
      "<class 'pandas.core.frame.DataFrame'>\n",
      "RangeIndex: 4 entries, 0 to 3\n",
      "Data columns (total 11 columns):\n",
      " #   Column               Non-Null Count  Dtype \n",
      "---  ------               --------------  ----- \n",
      " 0   id                   4 non-null      object\n",
      " 1   uri                  4 non-null      object\n",
      " 2   data                 4 non-null      object\n",
      " 3   dataHoraRegistro     4 non-null      object\n",
      " 4   siglaOrgao           4 non-null      object\n",
      " 5   uriOrgao             4 non-null      object\n",
      " 6   uriEvento            4 non-null      object\n",
      " 7   proposicaoObjeto     1 non-null      object\n",
      " 8   uriProposicaoObjeto  1 non-null      object\n",
      " 9   descricao            4 non-null      object\n",
      " 10  aprovacao            4 non-null      int64 \n",
      "dtypes: int64(1), object(10)\n",
      "memory usage: 480.0+ bytes\n"
     ]
    }
   ],
   "source": [
    "id_proposicao = '2207429'\n",
    "url = prefixo_pl+id_proposicao+sufixo_pl\n",
    "dados_gerais = []\n",
    "parametros = {'formato': 'json'}\n",
    "resposta = requests.get(url, parametros)\n",
    "for lista in resposta.json()['dados']:\n",
    "    dicionario = {\"id\": lista['id'], \n",
    "                  \"uri\": lista['uri'],\n",
    "                  \"data\": lista['data'],\n",
    "                  \"dataHoraRegistro\": lista['dataHoraRegistro'],\n",
    "                  \"siglaOrgao\": lista['siglaOrgao'],\n",
    "                  \"uriOrgao\": lista['uriOrgao'],\n",
    "                  \"uriEvento\": lista['uriEvento'],\n",
    "                  \"proposicaoObjeto\": lista['proposicaoObjeto'],\n",
    "                  \"uriProposicaoObjeto\": lista['uriProposicaoObjeto'],\n",
    "                  \"descricao\": lista['descricao'],\n",
    "                  \"aprovacao\": lista['aprovacao']\n",
    "                 }\n",
    "    dados_gerais.append(dicionario)\n",
    "df_votacao_api = pd.DataFrame(dados_gerais)\n",
    "df_votacao_api.info()\n",
    "df_votacao_api.to_excel('resultados/votacoes/PL_3430_2019_todas_votacoes.xlsx',sheet_name='Sheet1',index=False)"
   ]
  },
  {
   "cell_type": "code",
   "execution_count": null,
   "id": "c40bfc62-3946-4579-90c9-036ceb7fe569",
   "metadata": {},
   "outputs": [],
   "source": []
  },
  {
   "cell_type": "code",
   "execution_count": 139,
   "id": "eb4e6490-e4ca-45c8-b3c7-ea2e35ccb7b9",
   "metadata": {},
   "outputs": [
    {
     "data": {
      "text/plain": [
       "'\\nO projeto de lei classificava as atividades de proteção e recuperação de nascentes como sendo de interesse social. Alterava o Código Florestal, para facilitar a recomposição de vegetação \\nem torno de nascentes, dispensando licenciamento ambiental. Foi avaliada a votação da Subemenda Substitutiva Global adotada pelo relator da Comissão de Meio Ambiente e de Desenvolvimento Sustentável. \\nVotou \"sim\" quem era a favor do projeto que incentivava a recuperação e proteção de nascentes.\\n\\nPL   Nº 3430/2019 - SUBEMENDA SUBSTITUTIVA OFERECIDA PELO RELATOR\\n\\n'"
      ]
     },
     "execution_count": 139,
     "metadata": {},
     "output_type": "execute_result"
    }
   ],
   "source": [
    "'''\n",
    "O projeto de lei classificava as atividades de proteção e recuperação de nascentes como sendo de interesse social. Alterava o Código Florestal, para facilitar a recomposição de vegetação \n",
    "em torno de nascentes, dispensando licenciamento ambiental. Foi avaliada a votação da Subemenda Substitutiva Global adotada pelo relator da Comissão de Meio Ambiente e de Desenvolvimento Sustentável. \n",
    "Votou \"sim\" quem era a favor do projeto que incentivava a recuperação e proteção de nascentes.\n",
    "\n",
    "PL   Nº 3430/2019 - SUBEMENDA SUBSTITUTIVA OFERECIDA PELO RELATOR\n",
    "\n",
    "'''"
   ]
  },
  {
   "cell_type": "code",
   "execution_count": 140,
   "id": "8bee24b6-35fe-4d7a-a084-7bd66f3e262c",
   "metadata": {},
   "outputs": [
    {
     "data": {
      "text/plain": [
       "'\\nAprovada a Subemenda Substitutiva Global ao Projeto de Lei nº 3.430, de 2019, adotada pelo Relator da Comissão de Meio Ambiente e de Desenvolvimento Sustentável. Sim: 453; total: 453.\\n\\n2207429-60\\n\\n'"
      ]
     },
     "execution_count": 140,
     "metadata": {},
     "output_type": "execute_result"
    }
   ],
   "source": [
    "'''\n",
    "Aprovada a Subemenda Substitutiva Global ao Projeto de Lei nº 3.430, de 2019, adotada pelo Relator da Comissão de Meio Ambiente e de Desenvolvimento Sustentável. Sim: 453; total: 453.\n",
    "\n",
    "2207429-60\n",
    "\n",
    "'''"
   ]
  },
  {
   "cell_type": "code",
   "execution_count": null,
   "id": "1fec57b1-5852-49d7-bd43-e33e486d827e",
   "metadata": {},
   "outputs": [],
   "source": []
  },
  {
   "cell_type": "code",
   "execution_count": 141,
   "id": "0902d77a-06f2-40a8-aae2-8911e2b731f2",
   "metadata": {},
   "outputs": [
    {
     "name": "stdout",
     "output_type": "stream",
     "text": [
      "<class 'pandas.core.frame.DataFrame'>\n",
      "RangeIndex: 454 entries, 0 to 453\n",
      "Data columns (total 11 columns):\n",
      " #   Column              Non-Null Count  Dtype \n",
      "---  ------              --------------  ----- \n",
      " 0   id_proposicao       454 non-null    object\n",
      " 1   id_votacao          454 non-null    object\n",
      " 2   nome_votacao        454 non-null    object\n",
      " 3   tipoVoto            454 non-null    object\n",
      " 4   dataRegistroVoto    454 non-null    object\n",
      " 5   id_deputado         454 non-null    int64 \n",
      " 6   nome                454 non-null    object\n",
      " 7   siglaUf             454 non-null    object\n",
      " 8   aval_voto_sim       454 non-null    object\n",
      " 9   aval_voto_nao_obst  454 non-null    object\n",
      " 10  aval_relevancia     454 non-null    object\n",
      "dtypes: int64(1), object(10)\n",
      "memory usage: 39.1+ KB\n"
     ]
    }
   ],
   "source": [
    "id_votos = '2207429-60'\n",
    "url = prefixo_voto+id_votos+sufixo_voto\n",
    "nome_votacao = \"PL 3430/20199\"\n",
    "\n",
    "aval_voto_sim = 'FAVORÁVEL'\n",
    "aval_voto_nao_obst = 'DESFAVORÁVEL'\n",
    "aval_relevancia = 'RELEVANTE'\n",
    "\n",
    "votos = []\n",
    "parametros = {'formato': 'json'}\n",
    "resposta = requests.get(url, parametros)\n",
    "for lista in resposta.json()['dados']:\n",
    "    dicionario = {\"id_proposicao\": id_proposicao,\n",
    "        \"id_votacao\": id_votos,\n",
    "                  \"nome_votacao\": nome_votacao,\n",
    "        \"tipoVoto\": lista['tipoVoto'], \n",
    "                  \"dataRegistroVoto\": lista['dataRegistroVoto'],\n",
    "                  \"id_deputado\": lista['deputado_']['id'],\n",
    "                  \"nome\": lista['deputado_']['nome'],\n",
    "                   \"siglaUf\": lista['deputado_']['siglaUf'],\n",
    "                  \"aval_voto_sim\": aval_voto_sim,\n",
    "                  \"aval_voto_nao_obst\": aval_voto_nao_obst,\n",
    "                  \"aval_relevancia\": aval_relevancia\n",
    "                 }\n",
    "    votos.append(dicionario)\n",
    "df_votacao_votos_PL_3430_2019 = pd.DataFrame(votos)\n",
    "df_votacao_votos_PL_3430_2019.info()"
   ]
  },
  {
   "cell_type": "code",
   "execution_count": 142,
   "id": "32545bb7-10df-4ec6-ac54-5ebb33df9d33",
   "metadata": {},
   "outputs": [
    {
     "data": {
      "text/html": [
       "<div>\n",
       "<style scoped>\n",
       "    .dataframe tbody tr th:only-of-type {\n",
       "        vertical-align: middle;\n",
       "    }\n",
       "\n",
       "    .dataframe tbody tr th {\n",
       "        vertical-align: top;\n",
       "    }\n",
       "\n",
       "    .dataframe thead th {\n",
       "        text-align: right;\n",
       "    }\n",
       "</style>\n",
       "<table border=\"1\" class=\"dataframe\">\n",
       "  <thead>\n",
       "    <tr style=\"text-align: right;\">\n",
       "      <th></th>\n",
       "      <th>id_proposicao</th>\n",
       "      <th>id_votacao</th>\n",
       "      <th>nome_votacao</th>\n",
       "      <th>tipoVoto</th>\n",
       "      <th>dataRegistroVoto</th>\n",
       "      <th>id_deputado</th>\n",
       "      <th>nome</th>\n",
       "      <th>siglaUf</th>\n",
       "      <th>aval_voto_sim</th>\n",
       "      <th>aval_voto_nao_obst</th>\n",
       "      <th>aval_relevancia</th>\n",
       "    </tr>\n",
       "  </thead>\n",
       "  <tbody>\n",
       "    <tr>\n",
       "      <th>114</th>\n",
       "      <td>2207429</td>\n",
       "      <td>2207429-60</td>\n",
       "      <td>PL 3430/20199</td>\n",
       "      <td>Sim</td>\n",
       "      <td>2021-06-08T18:20:41</td>\n",
       "      <td>178921</td>\n",
       "      <td>Sebastião Oliveira</td>\n",
       "      <td>PE</td>\n",
       "      <td>FAVORÁVEL</td>\n",
       "      <td>DESFAVORÁVEL</td>\n",
       "      <td>RELEVANTE</td>\n",
       "    </tr>\n",
       "    <tr>\n",
       "      <th>102</th>\n",
       "      <td>2207429</td>\n",
       "      <td>2207429-60</td>\n",
       "      <td>PL 3430/20199</td>\n",
       "      <td>Sim</td>\n",
       "      <td>2021-06-08T18:21:21</td>\n",
       "      <td>160669</td>\n",
       "      <td>Genecias Noronha</td>\n",
       "      <td>CE</td>\n",
       "      <td>FAVORÁVEL</td>\n",
       "      <td>DESFAVORÁVEL</td>\n",
       "      <td>RELEVANTE</td>\n",
       "    </tr>\n",
       "    <tr>\n",
       "      <th>447</th>\n",
       "      <td>2207429</td>\n",
       "      <td>2207429-60</td>\n",
       "      <td>PL 3430/20199</td>\n",
       "      <td>Sim</td>\n",
       "      <td>2021-06-08T18:17:17</td>\n",
       "      <td>160632</td>\n",
       "      <td>Zé Silva</td>\n",
       "      <td>MG</td>\n",
       "      <td>FAVORÁVEL</td>\n",
       "      <td>DESFAVORÁVEL</td>\n",
       "      <td>RELEVANTE</td>\n",
       "    </tr>\n",
       "    <tr>\n",
       "      <th>146</th>\n",
       "      <td>2207429</td>\n",
       "      <td>2207429-60</td>\n",
       "      <td>PL 3430/20199</td>\n",
       "      <td>Sim</td>\n",
       "      <td>2021-06-08T18:19:54</td>\n",
       "      <td>204517</td>\n",
       "      <td>Zé Vitor</td>\n",
       "      <td>MG</td>\n",
       "      <td>FAVORÁVEL</td>\n",
       "      <td>DESFAVORÁVEL</td>\n",
       "      <td>RELEVANTE</td>\n",
       "    </tr>\n",
       "    <tr>\n",
       "      <th>186</th>\n",
       "      <td>2207429</td>\n",
       "      <td>2207429-60</td>\n",
       "      <td>PL 3430/20199</td>\n",
       "      <td>Sim</td>\n",
       "      <td>2021-06-08T18:19:18</td>\n",
       "      <td>204454</td>\n",
       "      <td>Daniel Silveira</td>\n",
       "      <td>RJ</td>\n",
       "      <td>FAVORÁVEL</td>\n",
       "      <td>DESFAVORÁVEL</td>\n",
       "      <td>RELEVANTE</td>\n",
       "    </tr>\n",
       "  </tbody>\n",
       "</table>\n",
       "</div>"
      ],
      "text/plain": [
       "    id_proposicao  id_votacao   nome_votacao tipoVoto     dataRegistroVoto  \\\n",
       "114       2207429  2207429-60  PL 3430/20199      Sim  2021-06-08T18:20:41   \n",
       "102       2207429  2207429-60  PL 3430/20199      Sim  2021-06-08T18:21:21   \n",
       "447       2207429  2207429-60  PL 3430/20199      Sim  2021-06-08T18:17:17   \n",
       "146       2207429  2207429-60  PL 3430/20199      Sim  2021-06-08T18:19:54   \n",
       "186       2207429  2207429-60  PL 3430/20199      Sim  2021-06-08T18:19:18   \n",
       "\n",
       "     id_deputado                nome siglaUf aval_voto_sim aval_voto_nao_obst  \\\n",
       "114       178921  Sebastião Oliveira      PE     FAVORÁVEL       DESFAVORÁVEL   \n",
       "102       160669    Genecias Noronha      CE     FAVORÁVEL       DESFAVORÁVEL   \n",
       "447       160632            Zé Silva      MG     FAVORÁVEL       DESFAVORÁVEL   \n",
       "146       204517            Zé Vitor      MG     FAVORÁVEL       DESFAVORÁVEL   \n",
       "186       204454     Daniel Silveira      RJ     FAVORÁVEL       DESFAVORÁVEL   \n",
       "\n",
       "    aval_relevancia  \n",
       "114       RELEVANTE  \n",
       "102       RELEVANTE  \n",
       "447       RELEVANTE  \n",
       "146       RELEVANTE  \n",
       "186       RELEVANTE  "
      ]
     },
     "execution_count": 142,
     "metadata": {},
     "output_type": "execute_result"
    }
   ],
   "source": [
    "df_votacao_votos_PL_3430_2019.sample(5)"
   ]
  },
  {
   "cell_type": "code",
   "execution_count": null,
   "id": "94a0eff8-2ec9-4aaf-9974-115786cfd0db",
   "metadata": {},
   "outputs": [],
   "source": []
  },
  {
   "cell_type": "code",
   "execution_count": null,
   "id": "fe52e67a-c9b5-4bde-b945-dd71894fcc9a",
   "metadata": {},
   "outputs": [],
   "source": []
  },
  {
   "cell_type": "markdown",
   "id": "41613dd0-0b2d-426c-a46d-f7e1daf15959",
   "metadata": {},
   "source": [
    "### PL 5191/2020"
   ]
  },
  {
   "cell_type": "code",
   "execution_count": 143,
   "id": "dc9410bf-06cf-44f2-adc0-e3bae0b28230",
   "metadata": {},
   "outputs": [],
   "source": [
    "# https://www.camara.leg.br/proposicoesWeb/fichadetramitacao?idProposicao=2265295"
   ]
  },
  {
   "cell_type": "code",
   "execution_count": null,
   "id": "e2dde772-3823-4329-93e0-423aaad7faaa",
   "metadata": {},
   "outputs": [],
   "source": []
  },
  {
   "cell_type": "code",
   "execution_count": 144,
   "id": "ffa9799a-debc-4fbb-9b35-a0cb963b4d1b",
   "metadata": {},
   "outputs": [
    {
     "name": "stdout",
     "output_type": "stream",
     "text": [
      "<class 'pandas.core.frame.DataFrame'>\n",
      "RangeIndex: 7 entries, 0 to 6\n",
      "Data columns (total 11 columns):\n",
      " #   Column               Non-Null Count  Dtype  \n",
      "---  ------               --------------  -----  \n",
      " 0   id                   7 non-null      object \n",
      " 1   uri                  7 non-null      object \n",
      " 2   data                 7 non-null      object \n",
      " 3   dataHoraRegistro     7 non-null      object \n",
      " 4   siglaOrgao           7 non-null      object \n",
      " 5   uriOrgao             7 non-null      object \n",
      " 6   uriEvento            7 non-null      object \n",
      " 7   proposicaoObjeto     1 non-null      object \n",
      " 8   uriProposicaoObjeto  1 non-null      object \n",
      " 9   descricao            7 non-null      object \n",
      " 10  aprovacao            6 non-null      float64\n",
      "dtypes: float64(1), object(10)\n",
      "memory usage: 744.0+ bytes\n"
     ]
    }
   ],
   "source": [
    "id_proposicao = '2265295'\n",
    "url = prefixo_pl+id_proposicao+sufixo_pl\n",
    "dados_gerais = []\n",
    "parametros = {'formato': 'json'}\n",
    "resposta = requests.get(url, parametros)\n",
    "for lista in resposta.json()['dados']:\n",
    "    dicionario = {\"id\": lista['id'], \n",
    "                  \"uri\": lista['uri'],\n",
    "                  \"data\": lista['data'],\n",
    "                  \"dataHoraRegistro\": lista['dataHoraRegistro'],\n",
    "                  \"siglaOrgao\": lista['siglaOrgao'],\n",
    "                  \"uriOrgao\": lista['uriOrgao'],\n",
    "                  \"uriEvento\": lista['uriEvento'],\n",
    "                  \"proposicaoObjeto\": lista['proposicaoObjeto'],\n",
    "                  \"uriProposicaoObjeto\": lista['uriProposicaoObjeto'],\n",
    "                  \"descricao\": lista['descricao'],\n",
    "                  \"aprovacao\": lista['aprovacao']\n",
    "                 }\n",
    "    dados_gerais.append(dicionario)\n",
    "df_votacao_api = pd.DataFrame(dados_gerais)\n",
    "df_votacao_api.info()\n",
    "df_votacao_api.to_excel('resultados/votacoes/PL_5191_2020_todas_votacoes.xlsx',sheet_name='Sheet1',index=False)"
   ]
  },
  {
   "cell_type": "code",
   "execution_count": null,
   "id": "b70b12f8-8514-4a7b-b172-a3ec76f30ab7",
   "metadata": {},
   "outputs": [],
   "source": []
  },
  {
   "cell_type": "code",
   "execution_count": 145,
   "id": "c89e9ae4-64d1-4603-be31-2b11c6b0630b",
   "metadata": {},
   "outputs": [
    {
     "data": {
      "text/plain": [
       "'\\nChamado de PL do Fiagro, criava Fundos Imobiliários Rurais. Na prática, acaba por permitir indiretamente que estrangeiros comprem terras e controlem a produção, o \\nque eleva o risco de especulação financeira sobre ativos fundiários. Foi avaliada a votação do destaque 1, que visava excluir a possibilidade de os fundos imobiliários \\ninvestirem em imóveis rurais, mas mantinha outros tipos de investimentos. Votou \"sim\" quem era a favor de manter no texto a autorização para o investimento dos fundos em imóveis rurais.\\n\\nPL 5191/2020 - Destaque 1\\n'"
      ]
     },
     "execution_count": 145,
     "metadata": {},
     "output_type": "execute_result"
    }
   ],
   "source": [
    "'''\n",
    "Chamado de PL do Fiagro, criava Fundos Imobiliários Rurais. Na prática, acaba por permitir indiretamente que estrangeiros comprem terras e controlem a produção, o \n",
    "que eleva o risco de especulação financeira sobre ativos fundiários. Foi avaliada a votação do destaque 1, que visava excluir a possibilidade de os fundos imobiliários \n",
    "investirem em imóveis rurais, mas mantinha outros tipos de investimentos. Votou \"sim\" quem era a favor de manter no texto a autorização para o investimento dos fundos em imóveis rurais.\n",
    "\n",
    "PL 5191/2020 - Destaque 1\n",
    "'''"
   ]
  },
  {
   "cell_type": "code",
   "execution_count": 146,
   "id": "835909ae-70ec-4f6e-855b-74a2d8804f3b",
   "metadata": {},
   "outputs": [
    {
     "data": {
      "text/plain": [
       "'\\nEncontado:\\n<descUltimaAberturaVotacao>Votação do DTQ 1: PT: Destaque, com vistas à rejeição, do inciso I do artigo 20-A da Lei 8.668/1992 e, por decorrência, dos §§ 1º e 2º desse mesmo artigo, nas \\nredações dadas pelo artigo 3º do Substitutivo oferecido ao PL 5.191/2020 (art. 161, I)</descUltimaAberturaVotacao>\\n\\nMantido o texto. Sim: 295;  não: 115; abstenção: 1; total: 411.\\n\\n2265295-74\\n\\n\\n'"
      ]
     },
     "execution_count": 146,
     "metadata": {},
     "output_type": "execute_result"
    }
   ],
   "source": [
    "'''\n",
    "Encontado:\n",
    "<descUltimaAberturaVotacao>Votação do DTQ 1: PT: Destaque, com vistas à rejeição, do inciso I do artigo 20-A da Lei 8.668/1992 e, por decorrência, dos §§ 1º e 2º desse mesmo artigo, nas \n",
    "redações dadas pelo artigo 3º do Substitutivo oferecido ao PL 5.191/2020 (art. 161, I)</descUltimaAberturaVotacao>\n",
    "\n",
    "Mantido o texto. Sim: 295;  não: 115; abstenção: 1; total: 411.\n",
    "\n",
    "2265295-74\n",
    "\n",
    "\n",
    "'''"
   ]
  },
  {
   "cell_type": "code",
   "execution_count": null,
   "id": "21e16110-ab90-4b79-8ca9-3cd8a5db861a",
   "metadata": {},
   "outputs": [],
   "source": []
  },
  {
   "cell_type": "code",
   "execution_count": 147,
   "id": "d664fbd5-cabf-4635-8678-4b0660aae7e0",
   "metadata": {},
   "outputs": [
    {
     "name": "stdout",
     "output_type": "stream",
     "text": [
      "<class 'pandas.core.frame.DataFrame'>\n",
      "RangeIndex: 412 entries, 0 to 411\n",
      "Data columns (total 11 columns):\n",
      " #   Column              Non-Null Count  Dtype \n",
      "---  ------              --------------  ----- \n",
      " 0   id_proposicao       412 non-null    object\n",
      " 1   id_votacao          412 non-null    object\n",
      " 2   nome_votacao        412 non-null    object\n",
      " 3   tipoVoto            412 non-null    object\n",
      " 4   dataRegistroVoto    412 non-null    object\n",
      " 5   id_deputado         412 non-null    int64 \n",
      " 6   nome                412 non-null    object\n",
      " 7   siglaUf             412 non-null    object\n",
      " 8   aval_voto_sim       412 non-null    object\n",
      " 9   aval_voto_nao_obst  412 non-null    object\n",
      " 10  aval_relevancia     412 non-null    object\n",
      "dtypes: int64(1), object(10)\n",
      "memory usage: 35.5+ KB\n"
     ]
    }
   ],
   "source": [
    "id_votos = '2265295-74'\n",
    "url = prefixo_voto+id_votos+sufixo_voto\n",
    "nome_votacao = \"PL 5191/2020\"\n",
    "\n",
    "aval_voto_sim = 'DESFAVORÁVEL'\n",
    "aval_voto_nao_obst = 'FAVORÁVEL'\n",
    "aval_relevancia = 'RELEVANTE'\n",
    "\n",
    "votos = []\n",
    "parametros = {'formato': 'json'}\n",
    "resposta = requests.get(url, parametros)\n",
    "for lista in resposta.json()['dados']:\n",
    "    dicionario = {\"id_proposicao\": id_proposicao,\n",
    "        \"id_votacao\": id_votos,\n",
    "                  \"nome_votacao\": nome_votacao,\n",
    "        \"tipoVoto\": lista['tipoVoto'], \n",
    "                  \"dataRegistroVoto\": lista['dataRegistroVoto'],\n",
    "                  \"id_deputado\": lista['deputado_']['id'],\n",
    "                  \"nome\": lista['deputado_']['nome'],\n",
    "                   \"siglaUf\": lista['deputado_']['siglaUf'],\n",
    "                  \"aval_voto_sim\": aval_voto_sim,\n",
    "                  \"aval_voto_nao_obst\": aval_voto_nao_obst,\n",
    "                  \"aval_relevancia\": aval_relevancia\n",
    "                 }\n",
    "    votos.append(dicionario)\n",
    "df_votacao_votos_PL_5191_2020 = pd.DataFrame(votos)\n",
    "df_votacao_votos_PL_5191_2020.info()"
   ]
  },
  {
   "cell_type": "code",
   "execution_count": 148,
   "id": "f7b36db3-1109-4a1b-be1d-6fcf4aec9e5e",
   "metadata": {},
   "outputs": [
    {
     "data": {
      "text/html": [
       "<div>\n",
       "<style scoped>\n",
       "    .dataframe tbody tr th:only-of-type {\n",
       "        vertical-align: middle;\n",
       "    }\n",
       "\n",
       "    .dataframe tbody tr th {\n",
       "        vertical-align: top;\n",
       "    }\n",
       "\n",
       "    .dataframe thead th {\n",
       "        text-align: right;\n",
       "    }\n",
       "</style>\n",
       "<table border=\"1\" class=\"dataframe\">\n",
       "  <thead>\n",
       "    <tr style=\"text-align: right;\">\n",
       "      <th></th>\n",
       "      <th>id_proposicao</th>\n",
       "      <th>id_votacao</th>\n",
       "      <th>nome_votacao</th>\n",
       "      <th>tipoVoto</th>\n",
       "      <th>dataRegistroVoto</th>\n",
       "      <th>id_deputado</th>\n",
       "      <th>nome</th>\n",
       "      <th>siglaUf</th>\n",
       "      <th>aval_voto_sim</th>\n",
       "      <th>aval_voto_nao_obst</th>\n",
       "      <th>aval_relevancia</th>\n",
       "    </tr>\n",
       "  </thead>\n",
       "  <tbody>\n",
       "    <tr>\n",
       "      <th>167</th>\n",
       "      <td>2265295</td>\n",
       "      <td>2265295-74</td>\n",
       "      <td>PL 5191/2020</td>\n",
       "      <td>Sim</td>\n",
       "      <td>2020-12-22T15:10:30</td>\n",
       "      <td>178861</td>\n",
       "      <td>Ronaldo Carletto</td>\n",
       "      <td>BA</td>\n",
       "      <td>DESFAVORÁVEL</td>\n",
       "      <td>FAVORÁVEL</td>\n",
       "      <td>RELEVANTE</td>\n",
       "    </tr>\n",
       "    <tr>\n",
       "      <th>250</th>\n",
       "      <td>2265295</td>\n",
       "      <td>2265295-74</td>\n",
       "      <td>PL 5191/2020</td>\n",
       "      <td>Sim</td>\n",
       "      <td>2020-12-22T15:10:30</td>\n",
       "      <td>204382</td>\n",
       "      <td>Loester Trutis</td>\n",
       "      <td>MS</td>\n",
       "      <td>DESFAVORÁVEL</td>\n",
       "      <td>FAVORÁVEL</td>\n",
       "      <td>RELEVANTE</td>\n",
       "    </tr>\n",
       "    <tr>\n",
       "      <th>367</th>\n",
       "      <td>2265295</td>\n",
       "      <td>2265295-74</td>\n",
       "      <td>PL 5191/2020</td>\n",
       "      <td>Não</td>\n",
       "      <td>2020-12-22T15:10:30</td>\n",
       "      <td>204533</td>\n",
       "      <td>Idilvan Alencar</td>\n",
       "      <td>CE</td>\n",
       "      <td>DESFAVORÁVEL</td>\n",
       "      <td>FAVORÁVEL</td>\n",
       "      <td>RELEVANTE</td>\n",
       "    </tr>\n",
       "    <tr>\n",
       "      <th>48</th>\n",
       "      <td>2265295</td>\n",
       "      <td>2265295-74</td>\n",
       "      <td>PL 5191/2020</td>\n",
       "      <td>Não</td>\n",
       "      <td>2020-12-22T15:10:30</td>\n",
       "      <td>74467</td>\n",
       "      <td>Damião Feliciano</td>\n",
       "      <td>PB</td>\n",
       "      <td>DESFAVORÁVEL</td>\n",
       "      <td>FAVORÁVEL</td>\n",
       "      <td>RELEVANTE</td>\n",
       "    </tr>\n",
       "    <tr>\n",
       "      <th>113</th>\n",
       "      <td>2265295</td>\n",
       "      <td>2265295-74</td>\n",
       "      <td>PL 5191/2020</td>\n",
       "      <td>Não</td>\n",
       "      <td>2020-12-22T15:10:30</td>\n",
       "      <td>160511</td>\n",
       "      <td>Alessandro Molon</td>\n",
       "      <td>RJ</td>\n",
       "      <td>DESFAVORÁVEL</td>\n",
       "      <td>FAVORÁVEL</td>\n",
       "      <td>RELEVANTE</td>\n",
       "    </tr>\n",
       "  </tbody>\n",
       "</table>\n",
       "</div>"
      ],
      "text/plain": [
       "    id_proposicao  id_votacao  nome_votacao tipoVoto     dataRegistroVoto  \\\n",
       "167       2265295  2265295-74  PL 5191/2020      Sim  2020-12-22T15:10:30   \n",
       "250       2265295  2265295-74  PL 5191/2020      Sim  2020-12-22T15:10:30   \n",
       "367       2265295  2265295-74  PL 5191/2020      Não  2020-12-22T15:10:30   \n",
       "48        2265295  2265295-74  PL 5191/2020      Não  2020-12-22T15:10:30   \n",
       "113       2265295  2265295-74  PL 5191/2020      Não  2020-12-22T15:10:30   \n",
       "\n",
       "     id_deputado              nome siglaUf aval_voto_sim aval_voto_nao_obst  \\\n",
       "167       178861  Ronaldo Carletto      BA  DESFAVORÁVEL          FAVORÁVEL   \n",
       "250       204382    Loester Trutis      MS  DESFAVORÁVEL          FAVORÁVEL   \n",
       "367       204533   Idilvan Alencar      CE  DESFAVORÁVEL          FAVORÁVEL   \n",
       "48         74467  Damião Feliciano      PB  DESFAVORÁVEL          FAVORÁVEL   \n",
       "113       160511  Alessandro Molon      RJ  DESFAVORÁVEL          FAVORÁVEL   \n",
       "\n",
       "    aval_relevancia  \n",
       "167       RELEVANTE  \n",
       "250       RELEVANTE  \n",
       "367       RELEVANTE  \n",
       "48        RELEVANTE  \n",
       "113       RELEVANTE  "
      ]
     },
     "execution_count": 148,
     "metadata": {},
     "output_type": "execute_result"
    }
   ],
   "source": [
    "df_votacao_votos_PL_5191_2020.sample(5)"
   ]
  },
  {
   "cell_type": "code",
   "execution_count": null,
   "id": "4cd6ab1b-9b0c-4ce3-89fd-ad2057ad5910",
   "metadata": {},
   "outputs": [],
   "source": []
  },
  {
   "cell_type": "code",
   "execution_count": null,
   "id": "9283729e-03da-4d2d-a773-abb7bfd51b17",
   "metadata": {},
   "outputs": [],
   "source": []
  },
  {
   "cell_type": "markdown",
   "id": "4cdffb97-9212-4b4b-a0b5-3a6b7aa7bcca",
   "metadata": {},
   "source": [
    "### PL 6299/2002"
   ]
  },
  {
   "cell_type": "code",
   "execution_count": 149,
   "id": "5ff3b20a-7667-431c-b514-2bb9cddd63fb",
   "metadata": {},
   "outputs": [],
   "source": [
    "# https://www.camara.leg.br/proposicoesWeb/fichadetramitacao?idProposicao=46249"
   ]
  },
  {
   "cell_type": "code",
   "execution_count": null,
   "id": "fb3096a6-074a-4771-9db8-ab8d4d3207b3",
   "metadata": {},
   "outputs": [],
   "source": []
  },
  {
   "cell_type": "code",
   "execution_count": 150,
   "id": "e110cbd6-0a19-447f-822e-fcc7fb733d36",
   "metadata": {},
   "outputs": [
    {
     "name": "stdout",
     "output_type": "stream",
     "text": [
      "<class 'pandas.core.frame.DataFrame'>\n",
      "RangeIndex: 49 entries, 0 to 48\n",
      "Data columns (total 11 columns):\n",
      " #   Column               Non-Null Count  Dtype  \n",
      "---  ------               --------------  -----  \n",
      " 0   id                   49 non-null     object \n",
      " 1   uri                  49 non-null     object \n",
      " 2   data                 49 non-null     object \n",
      " 3   dataHoraRegistro     49 non-null     object \n",
      " 4   siglaOrgao           49 non-null     object \n",
      " 5   uriOrgao             49 non-null     object \n",
      " 6   uriEvento            45 non-null     object \n",
      " 7   proposicaoObjeto     14 non-null     object \n",
      " 8   uriProposicaoObjeto  14 non-null     object \n",
      " 9   descricao            49 non-null     object \n",
      " 10  aprovacao            45 non-null     float64\n",
      "dtypes: float64(1), object(10)\n",
      "memory usage: 4.3+ KB\n"
     ]
    }
   ],
   "source": [
    "id_proposicao = '46249'\n",
    "url = prefixo_pl+id_proposicao+sufixo_pl\n",
    "dados_gerais = []\n",
    "parametros = {'formato': 'json'}\n",
    "resposta = requests.get(url, parametros)\n",
    "for lista in resposta.json()['dados']:\n",
    "    dicionario = {\"id\": lista['id'], \n",
    "                  \"uri\": lista['uri'],\n",
    "                  \"data\": lista['data'],\n",
    "                  \"dataHoraRegistro\": lista['dataHoraRegistro'],\n",
    "                  \"siglaOrgao\": lista['siglaOrgao'],\n",
    "                  \"uriOrgao\": lista['uriOrgao'],\n",
    "                  \"uriEvento\": lista['uriEvento'],\n",
    "                  \"proposicaoObjeto\": lista['proposicaoObjeto'],\n",
    "                  \"uriProposicaoObjeto\": lista['uriProposicaoObjeto'],\n",
    "                  \"descricao\": lista['descricao'],\n",
    "                  \"aprovacao\": lista['aprovacao']\n",
    "                 }\n",
    "    dados_gerais.append(dicionario)\n",
    "df_votacao_api = pd.DataFrame(dados_gerais)\n",
    "df_votacao_api.info()\n",
    "df_votacao_api.to_excel('resultados/votacoes/PL_6299_2002_todas_votacoes.xlsx',sheet_name='Sheet1',index=False)"
   ]
  },
  {
   "cell_type": "code",
   "execution_count": null,
   "id": "a2edd3d8-dc0b-4b1e-8d70-95cce042ba11",
   "metadata": {},
   "outputs": [],
   "source": []
  },
  {
   "cell_type": "code",
   "execution_count": 151,
   "id": "ec202461-2c7b-4a0f-90f8-4963a0d66b9d",
   "metadata": {},
   "outputs": [
    {
     "data": {
      "text/plain": [
       "'\\nApelidado de \"Pacote do Veneno\", o projeto deve facilitar ainda mais o registro de agrotóxicos no Brasil, que já é mais permissivo do que em outros países. \\nDentre outras medidas, o texto permite o registro de substâncias comprovadamente cancerígenas, que hoje não podem ser comercializadas, além de centralizar a decisão sobre a aprovação \\nde um novo agrotóxico no Ministério da Agricultura, tirando desse processo o Ministério do Meio Ambiente e a Anvisa – órgãos mais aptos a avaliar o impacto dessas substâncias \\nno meio ambiente e na saúde das populações. Foi avaliada a votação da Subemenda Substitutiva Global adotada pelo relator da Comissão Especial, que dava uma visão global sobre o texto. \\nO voto \"sim\" significa que o parlamentar era a favor de facilitar o registro de agrotóxicos.\\n\\nPL   Nº 6299/2002 - SUBEMENDA SUBSTITUTIVA\\n\\n'"
      ]
     },
     "execution_count": 151,
     "metadata": {},
     "output_type": "execute_result"
    }
   ],
   "source": [
    "'''\n",
    "Apelidado de \"Pacote do Veneno\", o projeto deve facilitar ainda mais o registro de agrotóxicos no Brasil, que já é mais permissivo do que em outros países. \n",
    "Dentre outras medidas, o texto permite o registro de substâncias comprovadamente cancerígenas, que hoje não podem ser comercializadas, além de centralizar a decisão sobre a aprovação \n",
    "de um novo agrotóxico no Ministério da Agricultura, tirando desse processo o Ministério do Meio Ambiente e a Anvisa – órgãos mais aptos a avaliar o impacto dessas substâncias \n",
    "no meio ambiente e na saúde das populações. Foi avaliada a votação da Subemenda Substitutiva Global adotada pelo relator da Comissão Especial, que dava uma visão global sobre o texto. \n",
    "O voto \"sim\" significa que o parlamentar era a favor de facilitar o registro de agrotóxicos.\n",
    "\n",
    "PL   Nº 6299/2002 - SUBEMENDA SUBSTITUTIVA\n",
    "\n",
    "'''"
   ]
  },
  {
   "cell_type": "code",
   "execution_count": 152,
   "id": "6e7d4a1b-7c33-4bb4-b9c9-a987e3aa7027",
   "metadata": {},
   "outputs": [
    {
     "data": {
      "text/plain": [
       "'\\nEncontrado:\\nAprovada a Subemenda Substitutiva Global ao Projeto de Lei 6.299, de 2002, adotada pelo relator da Comissão Especial, ressalvados os destaques. Sim: 301; não: 150; abstenção: 2; total: 453.\\n\\n46249-297\\n\\n'"
      ]
     },
     "execution_count": 152,
     "metadata": {},
     "output_type": "execute_result"
    }
   ],
   "source": [
    "'''\n",
    "Encontrado:\n",
    "Aprovada a Subemenda Substitutiva Global ao Projeto de Lei 6.299, de 2002, adotada pelo relator da Comissão Especial, ressalvados os destaques. Sim: 301; não: 150; abstenção: 2; total: 453.\n",
    "\n",
    "46249-297\n",
    "\n",
    "'''"
   ]
  },
  {
   "cell_type": "code",
   "execution_count": null,
   "id": "70ce5cea-d462-4f3f-928f-ec05d116043e",
   "metadata": {},
   "outputs": [],
   "source": []
  },
  {
   "cell_type": "code",
   "execution_count": 153,
   "id": "bdb2a9bf-0dbc-42bb-8057-670cb4571154",
   "metadata": {},
   "outputs": [
    {
     "name": "stdout",
     "output_type": "stream",
     "text": [
      "<class 'pandas.core.frame.DataFrame'>\n",
      "RangeIndex: 454 entries, 0 to 453\n",
      "Data columns (total 11 columns):\n",
      " #   Column              Non-Null Count  Dtype \n",
      "---  ------              --------------  ----- \n",
      " 0   id_proposicao       454 non-null    object\n",
      " 1   id_votacao          454 non-null    object\n",
      " 2   nome_votacao        454 non-null    object\n",
      " 3   tipoVoto            454 non-null    object\n",
      " 4   dataRegistroVoto    454 non-null    object\n",
      " 5   id_deputado         454 non-null    int64 \n",
      " 6   nome                454 non-null    object\n",
      " 7   siglaUf             454 non-null    object\n",
      " 8   aval_voto_sim       454 non-null    object\n",
      " 9   aval_voto_nao_obst  454 non-null    object\n",
      " 10  aval_relevancia     454 non-null    object\n",
      "dtypes: int64(1), object(10)\n",
      "memory usage: 39.1+ KB\n"
     ]
    }
   ],
   "source": [
    "id_votos = '46249-297'\n",
    "url = prefixo_voto+id_votos+sufixo_voto\n",
    "nome_votacao = \"PL 6299/2002\"\n",
    "\n",
    "aval_voto_sim = 'DESFAVORÁVEL'\n",
    "aval_voto_nao_obst = 'FAVORÁVEL'\n",
    "aval_relevancia = 'MUITO RELEVANTE'\n",
    "\n",
    "votos = []\n",
    "parametros = {'formato': 'json'}\n",
    "resposta = requests.get(url, parametros)\n",
    "for lista in resposta.json()['dados']:\n",
    "    dicionario = {\"id_proposicao\": id_proposicao,\n",
    "        \"id_votacao\": id_votos,\n",
    "                  \"nome_votacao\": nome_votacao,\n",
    "        \"tipoVoto\": lista['tipoVoto'], \n",
    "                  \"dataRegistroVoto\": lista['dataRegistroVoto'],\n",
    "                  \"id_deputado\": lista['deputado_']['id'],\n",
    "                  \"nome\": lista['deputado_']['nome'],\n",
    "                   \"siglaUf\": lista['deputado_']['siglaUf'],\n",
    "                  \"aval_voto_sim\": aval_voto_sim,\n",
    "                  \"aval_voto_nao_obst\": aval_voto_nao_obst,\n",
    "                  \"aval_relevancia\": aval_relevancia\n",
    "                 }\n",
    "    votos.append(dicionario)\n",
    "df_votacao_votos_PL_6299_2002 = pd.DataFrame(votos)\n",
    "df_votacao_votos_PL_6299_2002.info()"
   ]
  },
  {
   "cell_type": "code",
   "execution_count": 154,
   "id": "0ee86073-cfeb-404a-ac7d-917957419633",
   "metadata": {},
   "outputs": [
    {
     "data": {
      "text/html": [
       "<div>\n",
       "<style scoped>\n",
       "    .dataframe tbody tr th:only-of-type {\n",
       "        vertical-align: middle;\n",
       "    }\n",
       "\n",
       "    .dataframe tbody tr th {\n",
       "        vertical-align: top;\n",
       "    }\n",
       "\n",
       "    .dataframe thead th {\n",
       "        text-align: right;\n",
       "    }\n",
       "</style>\n",
       "<table border=\"1\" class=\"dataframe\">\n",
       "  <thead>\n",
       "    <tr style=\"text-align: right;\">\n",
       "      <th></th>\n",
       "      <th>id_proposicao</th>\n",
       "      <th>id_votacao</th>\n",
       "      <th>nome_votacao</th>\n",
       "      <th>tipoVoto</th>\n",
       "      <th>dataRegistroVoto</th>\n",
       "      <th>id_deputado</th>\n",
       "      <th>nome</th>\n",
       "      <th>siglaUf</th>\n",
       "      <th>aval_voto_sim</th>\n",
       "      <th>aval_voto_nao_obst</th>\n",
       "      <th>aval_relevancia</th>\n",
       "    </tr>\n",
       "  </thead>\n",
       "  <tbody>\n",
       "    <tr>\n",
       "      <th>419</th>\n",
       "      <td>46249</td>\n",
       "      <td>46249-297</td>\n",
       "      <td>PL 6299/2002</td>\n",
       "      <td>Não</td>\n",
       "      <td>2022-02-09T19:30:14</td>\n",
       "      <td>74848</td>\n",
       "      <td>Jandira Feghali</td>\n",
       "      <td>RJ</td>\n",
       "      <td>DESFAVORÁVEL</td>\n",
       "      <td>FAVORÁVEL</td>\n",
       "      <td>MUITO RELEVANTE</td>\n",
       "    </tr>\n",
       "    <tr>\n",
       "      <th>244</th>\n",
       "      <td>46249</td>\n",
       "      <td>46249-297</td>\n",
       "      <td>PL 6299/2002</td>\n",
       "      <td>Sim</td>\n",
       "      <td>2022-02-09T19:31:51</td>\n",
       "      <td>204371</td>\n",
       "      <td>Felipe Rigoni</td>\n",
       "      <td>ES</td>\n",
       "      <td>DESFAVORÁVEL</td>\n",
       "      <td>FAVORÁVEL</td>\n",
       "      <td>MUITO RELEVANTE</td>\n",
       "    </tr>\n",
       "    <tr>\n",
       "      <th>320</th>\n",
       "      <td>46249</td>\n",
       "      <td>46249-297</td>\n",
       "      <td>PL 6299/2002</td>\n",
       "      <td>Sim</td>\n",
       "      <td>2022-02-09T19:31:06</td>\n",
       "      <td>204411</td>\n",
       "      <td>Filipe Barros</td>\n",
       "      <td>PR</td>\n",
       "      <td>DESFAVORÁVEL</td>\n",
       "      <td>FAVORÁVEL</td>\n",
       "      <td>MUITO RELEVANTE</td>\n",
       "    </tr>\n",
       "    <tr>\n",
       "      <th>392</th>\n",
       "      <td>46249</td>\n",
       "      <td>46249-297</td>\n",
       "      <td>PL 6299/2002</td>\n",
       "      <td>Sim</td>\n",
       "      <td>2022-02-09T19:30:30</td>\n",
       "      <td>141555</td>\n",
       "      <td>Vinicius Carvalho</td>\n",
       "      <td>SP</td>\n",
       "      <td>DESFAVORÁVEL</td>\n",
       "      <td>FAVORÁVEL</td>\n",
       "      <td>MUITO RELEVANTE</td>\n",
       "    </tr>\n",
       "    <tr>\n",
       "      <th>304</th>\n",
       "      <td>46249</td>\n",
       "      <td>46249-297</td>\n",
       "      <td>PL 6299/2002</td>\n",
       "      <td>Sim</td>\n",
       "      <td>2022-02-09T19:31:15</td>\n",
       "      <td>74585</td>\n",
       "      <td>Lincoln Portela</td>\n",
       "      <td>MG</td>\n",
       "      <td>DESFAVORÁVEL</td>\n",
       "      <td>FAVORÁVEL</td>\n",
       "      <td>MUITO RELEVANTE</td>\n",
       "    </tr>\n",
       "  </tbody>\n",
       "</table>\n",
       "</div>"
      ],
      "text/plain": [
       "    id_proposicao id_votacao  nome_votacao tipoVoto     dataRegistroVoto  \\\n",
       "419         46249  46249-297  PL 6299/2002      Não  2022-02-09T19:30:14   \n",
       "244         46249  46249-297  PL 6299/2002      Sim  2022-02-09T19:31:51   \n",
       "320         46249  46249-297  PL 6299/2002      Sim  2022-02-09T19:31:06   \n",
       "392         46249  46249-297  PL 6299/2002      Sim  2022-02-09T19:30:30   \n",
       "304         46249  46249-297  PL 6299/2002      Sim  2022-02-09T19:31:15   \n",
       "\n",
       "     id_deputado               nome siglaUf aval_voto_sim aval_voto_nao_obst  \\\n",
       "419        74848    Jandira Feghali      RJ  DESFAVORÁVEL          FAVORÁVEL   \n",
       "244       204371      Felipe Rigoni      ES  DESFAVORÁVEL          FAVORÁVEL   \n",
       "320       204411      Filipe Barros      PR  DESFAVORÁVEL          FAVORÁVEL   \n",
       "392       141555  Vinicius Carvalho      SP  DESFAVORÁVEL          FAVORÁVEL   \n",
       "304        74585    Lincoln Portela      MG  DESFAVORÁVEL          FAVORÁVEL   \n",
       "\n",
       "     aval_relevancia  \n",
       "419  MUITO RELEVANTE  \n",
       "244  MUITO RELEVANTE  \n",
       "320  MUITO RELEVANTE  \n",
       "392  MUITO RELEVANTE  \n",
       "304  MUITO RELEVANTE  "
      ]
     },
     "execution_count": 154,
     "metadata": {},
     "output_type": "execute_result"
    }
   ],
   "source": [
    "df_votacao_votos_PL_6299_2002.sample(5)"
   ]
  },
  {
   "cell_type": "code",
   "execution_count": null,
   "id": "b0bc9ae6-6afa-4163-8de5-1c87ba179d6f",
   "metadata": {},
   "outputs": [],
   "source": []
  },
  {
   "cell_type": "markdown",
   "id": "c7eca2eb-f7d0-4de8-8837-fa829b28fc06",
   "metadata": {},
   "source": [
    "### PL 191/2020 (REQ 227/2022)"
   ]
  },
  {
   "cell_type": "code",
   "execution_count": 155,
   "id": "a8062266-c87c-466f-8e8a-998516a4bc9e",
   "metadata": {},
   "outputs": [],
   "source": [
    "# https://www.camara.leg.br/proposicoesWeb/fichadetramitacao?idProposicao=2236765"
   ]
  },
  {
   "cell_type": "code",
   "execution_count": null,
   "id": "80b58cbb-ce9a-45f7-9394-29a7a574c694",
   "metadata": {},
   "outputs": [],
   "source": []
  },
  {
   "cell_type": "code",
   "execution_count": 156,
   "id": "107606f5-a0c6-4177-8961-4b95569e70c8",
   "metadata": {},
   "outputs": [
    {
     "name": "stdout",
     "output_type": "stream",
     "text": [
      "<class 'pandas.core.frame.DataFrame'>\n",
      "RangeIndex: 14 entries, 0 to 13\n",
      "Data columns (total 11 columns):\n",
      " #   Column               Non-Null Count  Dtype \n",
      "---  ------               --------------  ----- \n",
      " 0   id                   14 non-null     object\n",
      " 1   uri                  14 non-null     object\n",
      " 2   data                 14 non-null     object\n",
      " 3   dataHoraRegistro     14 non-null     object\n",
      " 4   siglaOrgao           14 non-null     object\n",
      " 5   uriOrgao             14 non-null     object\n",
      " 6   uriEvento            2 non-null      object\n",
      " 7   proposicaoObjeto     2 non-null      object\n",
      " 8   uriProposicaoObjeto  2 non-null      object\n",
      " 9   descricao            14 non-null     object\n",
      " 10  aprovacao            14 non-null     int64 \n",
      "dtypes: int64(1), object(10)\n",
      "memory usage: 1.3+ KB\n"
     ]
    }
   ],
   "source": [
    "id_proposicao = '2236765'\n",
    "url = prefixo_pl+id_proposicao+sufixo_pl\n",
    "dados_gerais = []\n",
    "parametros = {'formato': 'json'}\n",
    "resposta = requests.get(url, parametros)\n",
    "for lista in resposta.json()['dados']:\n",
    "    dicionario = {\"id\": lista['id'], \n",
    "                  \"uri\": lista['uri'],\n",
    "                  \"data\": lista['data'],\n",
    "                  \"dataHoraRegistro\": lista['dataHoraRegistro'],\n",
    "                  \"siglaOrgao\": lista['siglaOrgao'],\n",
    "                  \"uriOrgao\": lista['uriOrgao'],\n",
    "                  \"uriEvento\": lista['uriEvento'],\n",
    "                  \"proposicaoObjeto\": lista['proposicaoObjeto'],\n",
    "                  \"uriProposicaoObjeto\": lista['uriProposicaoObjeto'],\n",
    "                  \"descricao\": lista['descricao'],\n",
    "                  \"aprovacao\": lista['aprovacao']\n",
    "                 }\n",
    "    dados_gerais.append(dicionario)\n",
    "df_votacao_api = pd.DataFrame(dados_gerais)\n",
    "df_votacao_api.info()\n",
    "df_votacao_api.to_excel('resultados/votacoes/PL_191_2020_(REQ_227_2022)_todas_votacoes.xlsx',sheet_name='Sheet1',index=False)"
   ]
  },
  {
   "cell_type": "code",
   "execution_count": null,
   "id": "365a0fd6-d9e7-4b52-a22c-08b8cd381daf",
   "metadata": {},
   "outputs": [],
   "source": []
  },
  {
   "cell_type": "code",
   "execution_count": 157,
   "id": "31dd4ac7-fe62-43a9-82be-f062b9e4c5f7",
   "metadata": {},
   "outputs": [
    {
     "data": {
      "text/plain": [
       "'\\nEm 9 de março, a Câmara aprovou a tramitação em regime de urgência do PL 191/2020, que regulamenta, entre outras coisas, a mineração em terras indígenas. \\nCom a aprovação do regime de urgência, o prazo de tramitação e análise do projeto se tornará mais curto. Quem votou \"sim\" queria acelerar a tramitação do projeto, para tentar aprová-lo ainda neste governo.\\n\\nREQ Nº 227/2022 - URGÊNCIA PARA APRECIAÇÃO DO PL Nº 191/2020\\n\\n'"
      ]
     },
     "execution_count": 157,
     "metadata": {},
     "output_type": "execute_result"
    }
   ],
   "source": [
    "'''\n",
    "Em 9 de março, a Câmara aprovou a tramitação em regime de urgência do PL 191/2020, que regulamenta, entre outras coisas, a mineração em terras indígenas. \n",
    "Com a aprovação do regime de urgência, o prazo de tramitação e análise do projeto se tornará mais curto. Quem votou \"sim\" queria acelerar a tramitação do projeto, para tentar aprová-lo ainda neste governo.\n",
    "\n",
    "REQ Nº 227/2022 - URGÊNCIA PARA APRECIAÇÃO DO PL Nº 191/2020\n",
    "\n",
    "'''"
   ]
  },
  {
   "cell_type": "code",
   "execution_count": 158,
   "id": "47da035d-03df-450b-8e82-06cc16770c6f",
   "metadata": {},
   "outputs": [
    {
     "data": {
      "text/plain": [
       "'\\nEncontrado:\\nAprovado o Requerimento de Urgência (Art. 155 do RICD). Sim: 279; não: 180; abstenção: 3; total: 462.\\n\\n2317406-8\\n\\n'"
      ]
     },
     "execution_count": 158,
     "metadata": {},
     "output_type": "execute_result"
    }
   ],
   "source": [
    "'''\n",
    "Encontrado:\n",
    "Aprovado o Requerimento de Urgência (Art. 155 do RICD). Sim: 279; não: 180; abstenção: 3; total: 462.\n",
    "\n",
    "2317406-8\n",
    "\n",
    "'''"
   ]
  },
  {
   "cell_type": "code",
   "execution_count": null,
   "id": "58f72ef9-166b-4ba3-bdc3-23aa8a35bf81",
   "metadata": {},
   "outputs": [],
   "source": []
  },
  {
   "cell_type": "code",
   "execution_count": 159,
   "id": "f9628c65-24b7-48fb-bd89-5924f9e87b66",
   "metadata": {},
   "outputs": [
    {
     "name": "stdout",
     "output_type": "stream",
     "text": [
      "<class 'pandas.core.frame.DataFrame'>\n",
      "RangeIndex: 463 entries, 0 to 462\n",
      "Data columns (total 11 columns):\n",
      " #   Column              Non-Null Count  Dtype \n",
      "---  ------              --------------  ----- \n",
      " 0   id_proposicao       463 non-null    object\n",
      " 1   id_votacao          463 non-null    object\n",
      " 2   nome_votacao        463 non-null    object\n",
      " 3   tipoVoto            463 non-null    object\n",
      " 4   dataRegistroVoto    463 non-null    object\n",
      " 5   id_deputado         463 non-null    int64 \n",
      " 6   nome                463 non-null    object\n",
      " 7   siglaUf             463 non-null    object\n",
      " 8   aval_voto_sim       463 non-null    object\n",
      " 9   aval_voto_nao_obst  463 non-null    object\n",
      " 10  aval_relevancia     463 non-null    object\n",
      "dtypes: int64(1), object(10)\n",
      "memory usage: 39.9+ KB\n"
     ]
    }
   ],
   "source": [
    "id_votos = '2317406-8'\n",
    "url = prefixo_voto+id_votos+sufixo_voto\n",
    "nome_votacao = \"PL 191/2020 (REQ 227/2022)\"\n",
    "\n",
    "aval_voto_sim = 'DESFAVORÁVEL'\n",
    "aval_voto_nao_obst = 'FAVORÁVEL'\n",
    "aval_relevancia = 'MUITO RELEVANTE'\n",
    "\n",
    "votos = []\n",
    "parametros = {'formato': 'json'}\n",
    "resposta = requests.get(url, parametros)\n",
    "for lista in resposta.json()['dados']:\n",
    "    dicionario = {\"id_proposicao\": id_proposicao,\n",
    "        \"id_votacao\": id_votos,\n",
    "                  \"nome_votacao\": nome_votacao,\n",
    "        \"tipoVoto\": lista['tipoVoto'], \n",
    "                  \"dataRegistroVoto\": lista['dataRegistroVoto'],\n",
    "                  \"id_deputado\": lista['deputado_']['id'],\n",
    "                  \"nome\": lista['deputado_']['nome'],\n",
    "                   \"siglaUf\": lista['deputado_']['siglaUf'],\n",
    "                  \"aval_voto_sim\": aval_voto_sim,\n",
    "                  \"aval_voto_nao_obst\": aval_voto_nao_obst,\n",
    "                  \"aval_relevancia\": aval_relevancia\n",
    "                 }\n",
    "    votos.append(dicionario)\n",
    "df_votacao_votos_PL_191_2020_REQ_227_2022 = pd.DataFrame(votos)\n",
    "df_votacao_votos_PL_191_2020_REQ_227_2022.info()"
   ]
  },
  {
   "cell_type": "code",
   "execution_count": 160,
   "id": "7b91ed32-f419-4a12-aa58-0bdd2303e781",
   "metadata": {},
   "outputs": [
    {
     "data": {
      "text/html": [
       "<div>\n",
       "<style scoped>\n",
       "    .dataframe tbody tr th:only-of-type {\n",
       "        vertical-align: middle;\n",
       "    }\n",
       "\n",
       "    .dataframe tbody tr th {\n",
       "        vertical-align: top;\n",
       "    }\n",
       "\n",
       "    .dataframe thead th {\n",
       "        text-align: right;\n",
       "    }\n",
       "</style>\n",
       "<table border=\"1\" class=\"dataframe\">\n",
       "  <thead>\n",
       "    <tr style=\"text-align: right;\">\n",
       "      <th></th>\n",
       "      <th>id_proposicao</th>\n",
       "      <th>id_votacao</th>\n",
       "      <th>nome_votacao</th>\n",
       "      <th>tipoVoto</th>\n",
       "      <th>dataRegistroVoto</th>\n",
       "      <th>id_deputado</th>\n",
       "      <th>nome</th>\n",
       "      <th>siglaUf</th>\n",
       "      <th>aval_voto_sim</th>\n",
       "      <th>aval_voto_nao_obst</th>\n",
       "      <th>aval_relevancia</th>\n",
       "    </tr>\n",
       "  </thead>\n",
       "  <tbody>\n",
       "    <tr>\n",
       "      <th>90</th>\n",
       "      <td>2236765</td>\n",
       "      <td>2317406-8</td>\n",
       "      <td>PL 191/2020 (REQ 227/2022)</td>\n",
       "      <td>Abstenção</td>\n",
       "      <td>2022-03-09T21:15:53</td>\n",
       "      <td>218741</td>\n",
       "      <td>Patrick Dorneles</td>\n",
       "      <td>PB</td>\n",
       "      <td>DESFAVORÁVEL</td>\n",
       "      <td>FAVORÁVEL</td>\n",
       "      <td>MUITO RELEVANTE</td>\n",
       "    </tr>\n",
       "    <tr>\n",
       "      <th>365</th>\n",
       "      <td>2236765</td>\n",
       "      <td>2317406-8</td>\n",
       "      <td>PL 191/2020 (REQ 227/2022)</td>\n",
       "      <td>Não</td>\n",
       "      <td>2022-03-09T21:05:54</td>\n",
       "      <td>178924</td>\n",
       "      <td>Capitão Fábio Abreu</td>\n",
       "      <td>PI</td>\n",
       "      <td>DESFAVORÁVEL</td>\n",
       "      <td>FAVORÁVEL</td>\n",
       "      <td>MUITO RELEVANTE</td>\n",
       "    </tr>\n",
       "    <tr>\n",
       "      <th>251</th>\n",
       "      <td>2236765</td>\n",
       "      <td>2317406-8</td>\n",
       "      <td>PL 191/2020 (REQ 227/2022)</td>\n",
       "      <td>Não</td>\n",
       "      <td>2022-03-09T21:07:13</td>\n",
       "      <td>74160</td>\n",
       "      <td>Patrus Ananias</td>\n",
       "      <td>MG</td>\n",
       "      <td>DESFAVORÁVEL</td>\n",
       "      <td>FAVORÁVEL</td>\n",
       "      <td>MUITO RELEVANTE</td>\n",
       "    </tr>\n",
       "    <tr>\n",
       "      <th>383</th>\n",
       "      <td>2236765</td>\n",
       "      <td>2317406-8</td>\n",
       "      <td>PL 191/2020 (REQ 227/2022)</td>\n",
       "      <td>Não</td>\n",
       "      <td>2022-03-09T21:05:45</td>\n",
       "      <td>73433</td>\n",
       "      <td>Arlindo Chinaglia</td>\n",
       "      <td>SP</td>\n",
       "      <td>DESFAVORÁVEL</td>\n",
       "      <td>FAVORÁVEL</td>\n",
       "      <td>MUITO RELEVANTE</td>\n",
       "    </tr>\n",
       "    <tr>\n",
       "      <th>321</th>\n",
       "      <td>2236765</td>\n",
       "      <td>2317406-8</td>\n",
       "      <td>PL 191/2020 (REQ 227/2022)</td>\n",
       "      <td>Sim</td>\n",
       "      <td>2022-03-09T21:06:15</td>\n",
       "      <td>178962</td>\n",
       "      <td>Carlos Gomes</td>\n",
       "      <td>RS</td>\n",
       "      <td>DESFAVORÁVEL</td>\n",
       "      <td>FAVORÁVEL</td>\n",
       "      <td>MUITO RELEVANTE</td>\n",
       "    </tr>\n",
       "  </tbody>\n",
       "</table>\n",
       "</div>"
      ],
      "text/plain": [
       "    id_proposicao id_votacao                nome_votacao   tipoVoto  \\\n",
       "90        2236765  2317406-8  PL 191/2020 (REQ 227/2022)  Abstenção   \n",
       "365       2236765  2317406-8  PL 191/2020 (REQ 227/2022)        Não   \n",
       "251       2236765  2317406-8  PL 191/2020 (REQ 227/2022)        Não   \n",
       "383       2236765  2317406-8  PL 191/2020 (REQ 227/2022)        Não   \n",
       "321       2236765  2317406-8  PL 191/2020 (REQ 227/2022)        Sim   \n",
       "\n",
       "        dataRegistroVoto  id_deputado                 nome siglaUf  \\\n",
       "90   2022-03-09T21:15:53       218741     Patrick Dorneles      PB   \n",
       "365  2022-03-09T21:05:54       178924  Capitão Fábio Abreu      PI   \n",
       "251  2022-03-09T21:07:13        74160       Patrus Ananias      MG   \n",
       "383  2022-03-09T21:05:45        73433    Arlindo Chinaglia      SP   \n",
       "321  2022-03-09T21:06:15       178962         Carlos Gomes      RS   \n",
       "\n",
       "    aval_voto_sim aval_voto_nao_obst  aval_relevancia  \n",
       "90   DESFAVORÁVEL          FAVORÁVEL  MUITO RELEVANTE  \n",
       "365  DESFAVORÁVEL          FAVORÁVEL  MUITO RELEVANTE  \n",
       "251  DESFAVORÁVEL          FAVORÁVEL  MUITO RELEVANTE  \n",
       "383  DESFAVORÁVEL          FAVORÁVEL  MUITO RELEVANTE  \n",
       "321  DESFAVORÁVEL          FAVORÁVEL  MUITO RELEVANTE  "
      ]
     },
     "execution_count": 160,
     "metadata": {},
     "output_type": "execute_result"
    }
   ],
   "source": [
    "df_votacao_votos_PL_191_2020_REQ_227_2022.sample(5)"
   ]
  },
  {
   "cell_type": "code",
   "execution_count": null,
   "id": "8cf53a58-7ca4-4191-b9c4-7bc12ce00b4e",
   "metadata": {},
   "outputs": [],
   "source": []
  },
  {
   "cell_type": "code",
   "execution_count": null,
   "id": "6b2a5c77-8224-4199-9931-6376ee06a546",
   "metadata": {},
   "outputs": [],
   "source": []
  },
  {
   "cell_type": "code",
   "execution_count": null,
   "id": "8f020c0b-7905-4346-a928-c620f27cbfe8",
   "metadata": {},
   "outputs": [],
   "source": []
  },
  {
   "cell_type": "code",
   "execution_count": 286,
   "id": "df5c8830-6924-4077-b87b-052ce25f34d2",
   "metadata": {},
   "outputs": [],
   "source": [
    "frames = [df_votacao_votos_PL_3292_2020, \n",
    "          df_votacao_votos_MPV_1023_2020, \n",
    "          df_votacao_votos_MPV_1061_2021, \n",
    "          df_votacao_votos_MPV_871_2019,\n",
    "         df_votacao_votos_MPV_1045_2021,\n",
    "         df_votacao_votos_MPV_881_2019,\n",
    "         df_votacao_votos_MPV_905_2019,\n",
    "         df_votacao_votos_MPV_927_2020,\n",
    "         df_votacao_votos_MPV_936_2020,\n",
    "         df_votacao_votos_PEC_6_2019,\n",
    "         df_votacao_votos_PL_1100_2021,\n",
    "         df_votacao_votos_PL_2058_2021,\n",
    "         df_votacao_votos_PL_3715_2019,\n",
    "         df_votacao_votos_MPV_1027_2021,\n",
    "         df_votacao_votos_PL_1304_2020,\n",
    "         df_votacao_votos_PL_2633_2020,\n",
    "         df_votacao_votos_PL_2787_2019,\n",
    "         df_votacao_votos_PL_2788_2019,\n",
    "         df_votacao_votos_MPV_867_2018,\n",
    "          df_votacao_votos_PL_3729_2004,\n",
    "          df_votacao_votos_MPV_897_2019,\n",
    "          df_votacao_votos_PL_3430_2019,\n",
    "          df_votacao_votos_PL_5191_2020,\n",
    "          df_votacao_votos_PL_6299_2002,\n",
    "          df_votacao_votos_PL_191_2020_REQ_227_2022\n",
    "         ]\n",
    "todos_votos = pd.concat(frames)"
   ]
  },
  {
   "cell_type": "code",
   "execution_count": null,
   "id": "e8d0f394-8f24-4b06-9f49-cbf04281da70",
   "metadata": {},
   "outputs": [],
   "source": []
  },
  {
   "cell_type": "code",
   "execution_count": 219,
   "id": "f32c5149-a8db-4958-9cbe-f0a5dca15023",
   "metadata": {},
   "outputs": [],
   "source": [
    "todos_votos.to_excel('resultados/votacoes/votos_todas_proposicoes.xlsx',sheet_name='Sheet1',index=False)"
   ]
  },
  {
   "cell_type": "code",
   "execution_count": 178,
   "id": "d26322d3-1717-4d91-97db-7fb0f6d329d1",
   "metadata": {},
   "outputs": [
    {
     "name": "stdout",
     "output_type": "stream",
     "text": [
      "<class 'pandas.core.frame.DataFrame'>\n",
      "Int64Index: 10094 entries, 0 to 462\n",
      "Data columns (total 11 columns):\n",
      " #   Column              Non-Null Count  Dtype \n",
      "---  ------              --------------  ----- \n",
      " 0   id_proposicao       10094 non-null  object\n",
      " 1   id_votacao          10094 non-null  object\n",
      " 2   nome_votacao        10094 non-null  object\n",
      " 3   tipoVoto            10094 non-null  object\n",
      " 4   dataRegistroVoto    10094 non-null  object\n",
      " 5   id_deputado         10094 non-null  int64 \n",
      " 6   nome                10094 non-null  object\n",
      " 7   siglaUf             10094 non-null  object\n",
      " 8   aval_voto_sim       10094 non-null  object\n",
      " 9   aval_voto_nao_obst  10094 non-null  object\n",
      " 10  aval_relevancia     10094 non-null  object\n",
      "dtypes: int64(1), object(10)\n",
      "memory usage: 946.3+ KB\n"
     ]
    }
   ],
   "source": [
    "todos_votos.info()"
   ]
  },
  {
   "cell_type": "code",
   "execution_count": 287,
   "id": "fe95d552-7a5b-447a-a765-288bf793f3a0",
   "metadata": {},
   "outputs": [
    {
     "data": {
      "text/html": [
       "<div>\n",
       "<style scoped>\n",
       "    .dataframe tbody tr th:only-of-type {\n",
       "        vertical-align: middle;\n",
       "    }\n",
       "\n",
       "    .dataframe tbody tr th {\n",
       "        vertical-align: top;\n",
       "    }\n",
       "\n",
       "    .dataframe thead th {\n",
       "        text-align: right;\n",
       "    }\n",
       "</style>\n",
       "<table border=\"1\" class=\"dataframe\">\n",
       "  <thead>\n",
       "    <tr style=\"text-align: right;\">\n",
       "      <th></th>\n",
       "      <th>id_proposicao</th>\n",
       "      <th>id_votacao</th>\n",
       "      <th>nome_votacao</th>\n",
       "      <th>tipoVoto</th>\n",
       "      <th>dataRegistroVoto</th>\n",
       "      <th>id_deputado</th>\n",
       "      <th>nome</th>\n",
       "      <th>siglaUf</th>\n",
       "      <th>aval_voto_sim</th>\n",
       "      <th>aval_voto_nao_obst</th>\n",
       "      <th>aval_relevancia</th>\n",
       "    </tr>\n",
       "  </thead>\n",
       "  <tbody>\n",
       "    <tr>\n",
       "      <th>120</th>\n",
       "      <td>2192459</td>\n",
       "      <td>2192459-786</td>\n",
       "      <td>PEC 6/2019</td>\n",
       "      <td>Sim</td>\n",
       "      <td>2019-08-07T00:14:25</td>\n",
       "      <td>204560</td>\n",
       "      <td>Adolfo Viana</td>\n",
       "      <td>BA</td>\n",
       "      <td>DESFAVORÁVEL</td>\n",
       "      <td>FAVORÁVEL</td>\n",
       "      <td>MUITO RELEVANTE</td>\n",
       "    </tr>\n",
       "    <tr>\n",
       "      <th>182</th>\n",
       "      <td>2190355</td>\n",
       "      <td>2190355-84</td>\n",
       "      <td>MPV 871/2019</td>\n",
       "      <td>Não</td>\n",
       "      <td>2019-05-29T22:26:32</td>\n",
       "      <td>156190</td>\n",
       "      <td>Marcel van Hattem</td>\n",
       "      <td>RS</td>\n",
       "      <td>FAVORÁVEL</td>\n",
       "      <td>DESFAVORÁVEL</td>\n",
       "      <td>RELEVANTE</td>\n",
       "    </tr>\n",
       "    <tr>\n",
       "      <th>185</th>\n",
       "      <td>2192459</td>\n",
       "      <td>2192459-786</td>\n",
       "      <td>PEC 6/2019</td>\n",
       "      <td>Não</td>\n",
       "      <td>2019-08-07T00:13:59</td>\n",
       "      <td>204467</td>\n",
       "      <td>Professora Rosa Neide</td>\n",
       "      <td>MT</td>\n",
       "      <td>DESFAVORÁVEL</td>\n",
       "      <td>FAVORÁVEL</td>\n",
       "      <td>MUITO RELEVANTE</td>\n",
       "    </tr>\n",
       "    <tr>\n",
       "      <th>396</th>\n",
       "      <td>2242488</td>\n",
       "      <td>2242488-56</td>\n",
       "      <td>PL 1304/2020</td>\n",
       "      <td>Sim</td>\n",
       "      <td>2020-04-29T20:56:37</td>\n",
       "      <td>204503</td>\n",
       "      <td>Alexandre Padilha</td>\n",
       "      <td>SP</td>\n",
       "      <td>FAVORÁVEL</td>\n",
       "      <td>DESFAVORÁVEL</td>\n",
       "      <td>MUITO RELEVANTE</td>\n",
       "    </tr>\n",
       "    <tr>\n",
       "      <th>119</th>\n",
       "      <td>2293428</td>\n",
       "      <td>2293428-77</td>\n",
       "      <td>MPV 1061/2021</td>\n",
       "      <td>Não</td>\n",
       "      <td>2021-11-25T15:43:17</td>\n",
       "      <td>204555</td>\n",
       "      <td>José Ricardo</td>\n",
       "      <td>AM</td>\n",
       "      <td>DESFAVORÁVEL</td>\n",
       "      <td>FAVORÁVEL</td>\n",
       "      <td>RELEVANTE</td>\n",
       "    </tr>\n",
       "  </tbody>\n",
       "</table>\n",
       "</div>"
      ],
      "text/plain": [
       "    id_proposicao   id_votacao   nome_votacao tipoVoto     dataRegistroVoto  \\\n",
       "120       2192459  2192459-786     PEC 6/2019      Sim  2019-08-07T00:14:25   \n",
       "182       2190355   2190355-84   MPV 871/2019      Não  2019-05-29T22:26:32   \n",
       "185       2192459  2192459-786     PEC 6/2019      Não  2019-08-07T00:13:59   \n",
       "396       2242488   2242488-56   PL 1304/2020      Sim  2020-04-29T20:56:37   \n",
       "119       2293428   2293428-77  MPV 1061/2021      Não  2021-11-25T15:43:17   \n",
       "\n",
       "     id_deputado                   nome siglaUf aval_voto_sim  \\\n",
       "120       204560           Adolfo Viana      BA  DESFAVORÁVEL   \n",
       "182       156190      Marcel van Hattem      RS     FAVORÁVEL   \n",
       "185       204467  Professora Rosa Neide      MT  DESFAVORÁVEL   \n",
       "396       204503      Alexandre Padilha      SP     FAVORÁVEL   \n",
       "119       204555           José Ricardo      AM  DESFAVORÁVEL   \n",
       "\n",
       "    aval_voto_nao_obst  aval_relevancia  \n",
       "120          FAVORÁVEL  MUITO RELEVANTE  \n",
       "182       DESFAVORÁVEL        RELEVANTE  \n",
       "185          FAVORÁVEL  MUITO RELEVANTE  \n",
       "396       DESFAVORÁVEL  MUITO RELEVANTE  \n",
       "119          FAVORÁVEL        RELEVANTE  "
      ]
     },
     "execution_count": 287,
     "metadata": {},
     "output_type": "execute_result"
    }
   ],
   "source": [
    "todos_votos.sample(5)"
   ]
  },
  {
   "cell_type": "code",
   "execution_count": 288,
   "id": "a9579200-823a-43e6-9bf6-16533b0417d3",
   "metadata": {},
   "outputs": [],
   "source": [
    "todos_votos.rename(columns = {'id_deputado':'id_interno'},inplace = True)"
   ]
  },
  {
   "cell_type": "code",
   "execution_count": 289,
   "id": "25e8e345-da53-4298-a862-bf57cd3683ba",
   "metadata": {},
   "outputs": [],
   "source": [
    "todos_votos = todos_votos[['nome_votacao', 'tipoVoto', 'nome', 'aval_voto_sim', 'aval_voto_nao_obst', 'aval_relevancia', 'id_interno']]"
   ]
  },
  {
   "cell_type": "code",
   "execution_count": null,
   "id": "609feb11-5259-439c-9c91-d74287875180",
   "metadata": {},
   "outputs": [],
   "source": []
  },
  {
   "cell_type": "code",
   "execution_count": null,
   "id": "ee07f3a6-e3ce-4085-90c2-a3a2218d3ded",
   "metadata": {},
   "outputs": [],
   "source": []
  },
  {
   "cell_type": "markdown",
   "id": "a77123a3-4e0f-4fdb-b9bc-3ea1fb2403e4",
   "metadata": {},
   "source": [
    "### Votos manuais"
   ]
  },
  {
   "cell_type": "code",
   "execution_count": 232,
   "id": "a080e893-f974-43f1-8428-62ed5cfc3aaf",
   "metadata": {},
   "outputs": [],
   "source": [
    "manuais = pd.read_excel('resultados/votacoes/votos_manuais_restantes.xlsx', sheet_name='Planilha1')"
   ]
  },
  {
   "cell_type": "code",
   "execution_count": 233,
   "id": "9311078c-692a-48d1-bfd0-54bd253874b3",
   "metadata": {},
   "outputs": [],
   "source": [
    "manuais[\"nome_semacentos\"] = manuais[\"Parlamentar\"].str.upper()\n",
    "manuais[\"nome_semacentos\"] = manuais[\"nome_semacentos\"].apply(f)"
   ]
  },
  {
   "cell_type": "code",
   "execution_count": 234,
   "id": "cbea97cd-4e88-4d1e-a7be-1c070229b000",
   "metadata": {},
   "outputs": [
    {
     "data": {
      "text/html": [
       "<div>\n",
       "<style scoped>\n",
       "    .dataframe tbody tr th:only-of-type {\n",
       "        vertical-align: middle;\n",
       "    }\n",
       "\n",
       "    .dataframe tbody tr th {\n",
       "        vertical-align: top;\n",
       "    }\n",
       "\n",
       "    .dataframe thead th {\n",
       "        text-align: right;\n",
       "    }\n",
       "</style>\n",
       "<table border=\"1\" class=\"dataframe\">\n",
       "  <thead>\n",
       "    <tr style=\"text-align: right;\">\n",
       "      <th></th>\n",
       "      <th>Parlamentar</th>\n",
       "      <th>Partido</th>\n",
       "      <th>UF</th>\n",
       "      <th>Voto</th>\n",
       "      <th>nome_votacao</th>\n",
       "      <th>aval_voto_sim</th>\n",
       "      <th>aval_voto_nao_obst</th>\n",
       "      <th>aval_relevancia</th>\n",
       "      <th>nome_semacentos</th>\n",
       "    </tr>\n",
       "  </thead>\n",
       "  <tbody>\n",
       "    <tr>\n",
       "      <th>1475</th>\n",
       "      <td>Margarete Coelho</td>\n",
       "      <td>PP</td>\n",
       "      <td>PpMdbPtb</td>\n",
       "      <td>Sim</td>\n",
       "      <td>PL 2788/2019</td>\n",
       "      <td>FAVORÁVEL</td>\n",
       "      <td>DESFAVORÁVEL</td>\n",
       "      <td>MUITO RELEVANTE</td>\n",
       "      <td>MARGARETE COELHO</td>\n",
       "    </tr>\n",
       "    <tr>\n",
       "      <th>1195</th>\n",
       "      <td>Léo Motta</td>\n",
       "      <td>PSL</td>\n",
       "      <td>MG</td>\n",
       "      <td>Não</td>\n",
       "      <td>PL 823/2021</td>\n",
       "      <td>DESFAVORÁVEL</td>\n",
       "      <td>FAVORÁVEL</td>\n",
       "      <td>MUITO RELEVANTE</td>\n",
       "      <td>LEO MOTTA</td>\n",
       "    </tr>\n",
       "    <tr>\n",
       "      <th>952</th>\n",
       "      <td>Alan Rick</td>\n",
       "      <td>DEM</td>\n",
       "      <td>AC</td>\n",
       "      <td>Não</td>\n",
       "      <td>PL 823/2021</td>\n",
       "      <td>DESFAVORÁVEL</td>\n",
       "      <td>FAVORÁVEL</td>\n",
       "      <td>MUITO RELEVANTE</td>\n",
       "      <td>ALAN RICK</td>\n",
       "    </tr>\n",
       "    <tr>\n",
       "      <th>703</th>\n",
       "      <td>João Carlos Bacelar</td>\n",
       "      <td>PL</td>\n",
       "      <td>BA</td>\n",
       "      <td>Não</td>\n",
       "      <td>PL 385/2021</td>\n",
       "      <td>DESFAVORÁVEL</td>\n",
       "      <td>FAVORÁVEL</td>\n",
       "      <td>RELEVANTE</td>\n",
       "      <td>JOAO CARLOS BACELAR</td>\n",
       "    </tr>\n",
       "    <tr>\n",
       "      <th>1426</th>\n",
       "      <td>Léo Moraes</td>\n",
       "      <td>Podemos</td>\n",
       "      <td>NaN</td>\n",
       "      <td>Sim</td>\n",
       "      <td>PL 2788/2019</td>\n",
       "      <td>FAVORÁVEL</td>\n",
       "      <td>DESFAVORÁVEL</td>\n",
       "      <td>MUITO RELEVANTE</td>\n",
       "      <td>LEO MORAES</td>\n",
       "    </tr>\n",
       "  </tbody>\n",
       "</table>\n",
       "</div>"
      ],
      "text/plain": [
       "              Parlamentar  Partido        UF Voto  nome_votacao aval_voto_sim  \\\n",
       "1475     Margarete Coelho       PP  PpMdbPtb  Sim  PL 2788/2019     FAVORÁVEL   \n",
       "1195            Léo Motta      PSL        MG  Não   PL 823/2021  DESFAVORÁVEL   \n",
       "952             Alan Rick      DEM        AC  Não   PL 823/2021  DESFAVORÁVEL   \n",
       "703   João Carlos Bacelar       PL        BA  Não   PL 385/2021  DESFAVORÁVEL   \n",
       "1426           Léo Moraes  Podemos       NaN  Sim  PL 2788/2019     FAVORÁVEL   \n",
       "\n",
       "     aval_voto_nao_obst  aval_relevancia      nome_semacentos  \n",
       "1475       DESFAVORÁVEL  MUITO RELEVANTE     MARGARETE COELHO  \n",
       "1195          FAVORÁVEL  MUITO RELEVANTE            LEO MOTTA  \n",
       "952           FAVORÁVEL  MUITO RELEVANTE            ALAN RICK  \n",
       "703           FAVORÁVEL        RELEVANTE  JOAO CARLOS BACELAR  \n",
       "1426       DESFAVORÁVEL  MUITO RELEVANTE           LEO MORAES  "
      ]
     },
     "execution_count": 234,
     "metadata": {},
     "output_type": "execute_result"
    }
   ],
   "source": [
    "manuais.sample(5)"
   ]
  },
  {
   "cell_type": "code",
   "execution_count": 235,
   "id": "000d9828-e4c9-4ad3-8dcd-c9b838cf227e",
   "metadata": {},
   "outputs": [
    {
     "name": "stdout",
     "output_type": "stream",
     "text": [
      "<class 'pandas.core.frame.DataFrame'>\n",
      "RangeIndex: 1784 entries, 0 to 1783\n",
      "Data columns (total 9 columns):\n",
      " #   Column              Non-Null Count  Dtype \n",
      "---  ------              --------------  ----- \n",
      " 0   Parlamentar         1784 non-null   object\n",
      " 1   Partido             1784 non-null   object\n",
      " 2   UF                  1453 non-null   object\n",
      " 3   Voto                1784 non-null   object\n",
      " 4   nome_votacao        1784 non-null   object\n",
      " 5   aval_voto_sim       1784 non-null   object\n",
      " 6   aval_voto_nao_obst  1784 non-null   object\n",
      " 7   aval_relevancia     1784 non-null   object\n",
      " 8   nome_semacentos     1784 non-null   object\n",
      "dtypes: object(9)\n",
      "memory usage: 125.6+ KB\n"
     ]
    }
   ],
   "source": [
    "manuais.info()"
   ]
  },
  {
   "cell_type": "code",
   "execution_count": 236,
   "id": "814167e7-6801-4516-9694-c3216ed2cb4d",
   "metadata": {},
   "outputs": [
    {
     "data": {
      "text/plain": [
       "Index(['Parlamentar', 'Partido', 'UF', 'Voto', 'nome_votacao', 'aval_voto_sim',\n",
       "       'aval_voto_nao_obst', 'aval_relevancia', 'nome_semacentos'],\n",
       "      dtype='object')"
      ]
     },
     "execution_count": 236,
     "metadata": {},
     "output_type": "execute_result"
    }
   ],
   "source": [
    "manuais.columns"
   ]
  },
  {
   "cell_type": "code",
   "execution_count": null,
   "id": "7106e218-5a65-42aa-b537-cb7a2b5b6f4d",
   "metadata": {},
   "outputs": [],
   "source": []
  },
  {
   "cell_type": "code",
   "execution_count": 237,
   "id": "2499a8c8-b7b9-4e12-9a94-aeb2c4ae3386",
   "metadata": {},
   "outputs": [],
   "source": [
    "# Versão com os 510 nomes da metodologia\n",
    "kwargs = {'sep': ',', 'dtype': str, 'encoding': 'utf-8'}\n",
    "politicos = pd.read_csv(\"resultados/politicos_2018_versao_9mai.csv\", **kwargs)"
   ]
  },
  {
   "cell_type": "code",
   "execution_count": 238,
   "id": "c97080b2-260a-4ec1-a764-fb0d781694d9",
   "metadata": {},
   "outputs": [],
   "source": [
    "politicos[\"urna_semacentos\"] = politicos[\"nome_urna\"].str.upper()\n",
    "politicos[\"urna_semacentos\"] = politicos[\"urna_semacentos\"].apply(f)"
   ]
  },
  {
   "cell_type": "code",
   "execution_count": 239,
   "id": "64060f37-5577-4ebf-beb2-6c412665258d",
   "metadata": {},
   "outputs": [
    {
     "data": {
      "text/html": [
       "<div>\n",
       "<style scoped>\n",
       "    .dataframe tbody tr th:only-of-type {\n",
       "        vertical-align: middle;\n",
       "    }\n",
       "\n",
       "    .dataframe tbody tr th {\n",
       "        vertical-align: top;\n",
       "    }\n",
       "\n",
       "    .dataframe thead th {\n",
       "        text-align: right;\n",
       "    }\n",
       "</style>\n",
       "<table border=\"1\" class=\"dataframe\">\n",
       "  <thead>\n",
       "    <tr style=\"text-align: right;\">\n",
       "      <th></th>\n",
       "      <th>nome</th>\n",
       "      <th>foto</th>\n",
       "      <th>nome_urna</th>\n",
       "      <th>uf_eleicao_disputa</th>\n",
       "      <th>politico_id</th>\n",
       "      <th>partido_eleicao</th>\n",
       "      <th>partido_atual</th>\n",
       "      <th>uri</th>\n",
       "      <th>sequencial_candidato</th>\n",
       "      <th>bancada_ruralista</th>\n",
       "      <th>id_interno</th>\n",
       "      <th>urna_semacentos</th>\n",
       "    </tr>\n",
       "  </thead>\n",
       "  <tbody>\n",
       "    <tr>\n",
       "      <th>114</th>\n",
       "      <td>JOAO SOMARIVA DANIEL</td>\n",
       "      <td>https://www.camara.leg.br/internet/deputado/ba...</td>\n",
       "      <td>João Daniel</td>\n",
       "      <td>SE</td>\n",
       "      <td>51625091591</td>\n",
       "      <td>PT</td>\n",
       "      <td>PT</td>\n",
       "      <td>https://dadosabertos.camara.leg.br/api/v2/depu...</td>\n",
       "      <td>260000623621</td>\n",
       "      <td>NaN</td>\n",
       "      <td>178970</td>\n",
       "      <td>JOAO DANIEL</td>\n",
       "    </tr>\n",
       "    <tr>\n",
       "      <th>149</th>\n",
       "      <td>ALICE MAZZUCO PORTUGAL</td>\n",
       "      <td>https://www.camara.leg.br/internet/deputado/ba...</td>\n",
       "      <td>Alice Portugal</td>\n",
       "      <td>BA</td>\n",
       "      <td>12377392504</td>\n",
       "      <td>PC do B</td>\n",
       "      <td>PCdoB</td>\n",
       "      <td>https://dadosabertos.camara.leg.br/api/v2/depu...</td>\n",
       "      <td>50000607816</td>\n",
       "      <td>NaN</td>\n",
       "      <td>74057</td>\n",
       "      <td>ALICE PORTUGAL</td>\n",
       "    </tr>\n",
       "    <tr>\n",
       "      <th>434</th>\n",
       "      <td>MÁRCIO DA SILVEIRA LABRE</td>\n",
       "      <td>https://www.camara.leg.br/internet/deputado/ba...</td>\n",
       "      <td>Márcio Labre</td>\n",
       "      <td>RJ</td>\n",
       "      <td>03394588790</td>\n",
       "      <td>PSL</td>\n",
       "      <td>PL</td>\n",
       "      <td>https://dadosabertos.camara.leg.br/api/v2/depu...</td>\n",
       "      <td>190000614715</td>\n",
       "      <td>NaN</td>\n",
       "      <td>204452</td>\n",
       "      <td>MARCIO LABRE</td>\n",
       "    </tr>\n",
       "    <tr>\n",
       "      <th>256</th>\n",
       "      <td>FERNANDO LUCIO GIACOBO</td>\n",
       "      <td>https://www.camara.leg.br/internet/deputado/ba...</td>\n",
       "      <td>Giacobo</td>\n",
       "      <td>PR</td>\n",
       "      <td>71827404949</td>\n",
       "      <td>PR</td>\n",
       "      <td>PL</td>\n",
       "      <td>https://dadosabertos.camara.leg.br/api/v2/depu...</td>\n",
       "      <td>160000619695</td>\n",
       "      <td>Sim</td>\n",
       "      <td>74383</td>\n",
       "      <td>GIACOBO</td>\n",
       "    </tr>\n",
       "    <tr>\n",
       "      <th>433</th>\n",
       "      <td>HELDER IGNACIO SALOMÃO</td>\n",
       "      <td>https://www.camara.leg.br/internet/deputado/ba...</td>\n",
       "      <td>Helder Salomão</td>\n",
       "      <td>ES</td>\n",
       "      <td>76808742715</td>\n",
       "      <td>PT</td>\n",
       "      <td>PT</td>\n",
       "      <td>https://dadosabertos.camara.leg.br/api/v2/depu...</td>\n",
       "      <td>80000626736</td>\n",
       "      <td>NaN</td>\n",
       "      <td>178873</td>\n",
       "      <td>HELDER SALOMAO</td>\n",
       "    </tr>\n",
       "  </tbody>\n",
       "</table>\n",
       "</div>"
      ],
      "text/plain": [
       "                         nome  \\\n",
       "114      JOAO SOMARIVA DANIEL   \n",
       "149    ALICE MAZZUCO PORTUGAL   \n",
       "434  MÁRCIO DA SILVEIRA LABRE   \n",
       "256    FERNANDO LUCIO GIACOBO   \n",
       "433    HELDER IGNACIO SALOMÃO   \n",
       "\n",
       "                                                  foto       nome_urna  \\\n",
       "114  https://www.camara.leg.br/internet/deputado/ba...     João Daniel   \n",
       "149  https://www.camara.leg.br/internet/deputado/ba...  Alice Portugal   \n",
       "434  https://www.camara.leg.br/internet/deputado/ba...    Márcio Labre   \n",
       "256  https://www.camara.leg.br/internet/deputado/ba...         Giacobo   \n",
       "433  https://www.camara.leg.br/internet/deputado/ba...  Helder Salomão   \n",
       "\n",
       "    uf_eleicao_disputa  politico_id partido_eleicao partido_atual  \\\n",
       "114                 SE  51625091591              PT            PT   \n",
       "149                 BA  12377392504         PC do B         PCdoB   \n",
       "434                 RJ  03394588790             PSL            PL   \n",
       "256                 PR  71827404949              PR            PL   \n",
       "433                 ES  76808742715              PT            PT   \n",
       "\n",
       "                                                   uri sequencial_candidato  \\\n",
       "114  https://dadosabertos.camara.leg.br/api/v2/depu...         260000623621   \n",
       "149  https://dadosabertos.camara.leg.br/api/v2/depu...          50000607816   \n",
       "434  https://dadosabertos.camara.leg.br/api/v2/depu...         190000614715   \n",
       "256  https://dadosabertos.camara.leg.br/api/v2/depu...         160000619695   \n",
       "433  https://dadosabertos.camara.leg.br/api/v2/depu...          80000626736   \n",
       "\n",
       "    bancada_ruralista id_interno urna_semacentos  \n",
       "114               NaN     178970     JOAO DANIEL  \n",
       "149               NaN      74057  ALICE PORTUGAL  \n",
       "434               NaN     204452    MARCIO LABRE  \n",
       "256               Sim      74383         GIACOBO  \n",
       "433               NaN     178873  HELDER SALOMAO  "
      ]
     },
     "execution_count": 239,
     "metadata": {},
     "output_type": "execute_result"
    }
   ],
   "source": [
    "politicos.sample(5)"
   ]
  },
  {
   "cell_type": "code",
   "execution_count": null,
   "id": "971e9116-160b-4e7b-a05e-7b9edf7c978f",
   "metadata": {},
   "outputs": [],
   "source": []
  },
  {
   "cell_type": "code",
   "execution_count": null,
   "id": "292c4222-fee8-4447-b4df-d76ee38b3fb3",
   "metadata": {},
   "outputs": [],
   "source": []
  },
  {
   "cell_type": "code",
   "execution_count": null,
   "id": "3e77da71-9183-4513-ab79-2f6408dd18aa",
   "metadata": {},
   "outputs": [],
   "source": []
  },
  {
   "cell_type": "code",
   "execution_count": 240,
   "id": "fed5e092-6de5-4a9b-9872-63560aff39a8",
   "metadata": {},
   "outputs": [],
   "source": [
    "compara = pd.merge(manuais, politicos, \n",
    "                                    how = 'left',\n",
    "                       left_on = 'nome_semacentos', \n",
    "                       right_on = 'urna_semacentos')"
   ]
  },
  {
   "cell_type": "code",
   "execution_count": 241,
   "id": "74324b9c-bcbb-494f-b58d-6929cb178c21",
   "metadata": {},
   "outputs": [
    {
     "name": "stdout",
     "output_type": "stream",
     "text": [
      "<class 'pandas.core.frame.DataFrame'>\n",
      "Int64Index: 1784 entries, 0 to 1783\n",
      "Data columns (total 21 columns):\n",
      " #   Column                Non-Null Count  Dtype \n",
      "---  ------                --------------  ----- \n",
      " 0   Parlamentar           1784 non-null   object\n",
      " 1   Partido               1784 non-null   object\n",
      " 2   UF                    1453 non-null   object\n",
      " 3   Voto                  1784 non-null   object\n",
      " 4   nome_votacao          1784 non-null   object\n",
      " 5   aval_voto_sim         1784 non-null   object\n",
      " 6   aval_voto_nao_obst    1784 non-null   object\n",
      " 7   aval_relevancia       1784 non-null   object\n",
      " 8   nome_semacentos       1784 non-null   object\n",
      " 9   nome                  1665 non-null   object\n",
      " 10  foto                  1665 non-null   object\n",
      " 11  nome_urna             1665 non-null   object\n",
      " 12  uf_eleicao_disputa    1665 non-null   object\n",
      " 13  politico_id           1665 non-null   object\n",
      " 14  partido_eleicao       1665 non-null   object\n",
      " 15  partido_atual         1665 non-null   object\n",
      " 16  uri                   1665 non-null   object\n",
      " 17  sequencial_candidato  1665 non-null   object\n",
      " 18  bancada_ruralista     775 non-null    object\n",
      " 19  id_interno            1665 non-null   object\n",
      " 20  urna_semacentos       1665 non-null   object\n",
      "dtypes: object(21)\n",
      "memory usage: 306.6+ KB\n"
     ]
    }
   ],
   "source": [
    "compara.info()"
   ]
  },
  {
   "cell_type": "code",
   "execution_count": 242,
   "id": "6e5267af-20cc-4c97-8a69-392ab19839dc",
   "metadata": {},
   "outputs": [
    {
     "data": {
      "text/plain": [
       "Index(['Parlamentar', 'Partido', 'UF', 'Voto', 'nome_votacao', 'aval_voto_sim',\n",
       "       'aval_voto_nao_obst', 'aval_relevancia', 'nome_semacentos', 'nome',\n",
       "       'foto', 'nome_urna', 'uf_eleicao_disputa', 'politico_id',\n",
       "       'partido_eleicao', 'partido_atual', 'uri', 'sequencial_candidato',\n",
       "       'bancada_ruralista', 'id_interno', 'urna_semacentos'],\n",
       "      dtype='object')"
      ]
     },
     "execution_count": 242,
     "metadata": {},
     "output_type": "execute_result"
    }
   ],
   "source": [
    "compara.columns"
   ]
  },
  {
   "cell_type": "code",
   "execution_count": null,
   "id": "bff8c404-0963-488c-b6bc-4b26dae0934c",
   "metadata": {},
   "outputs": [],
   "source": []
  },
  {
   "cell_type": "code",
   "execution_count": 243,
   "id": "d455809e-e2f6-4490-9485-246d5e7b2d34",
   "metadata": {},
   "outputs": [],
   "source": [
    "# Nao encontrados para preencher manual"
   ]
  },
  {
   "cell_type": "code",
   "execution_count": 244,
   "id": "86a56140-6242-4db0-807e-fbb64de8fd3b",
   "metadata": {},
   "outputs": [
    {
     "data": {
      "text/plain": [
       "(119, 21)"
      ]
     },
     "execution_count": 244,
     "metadata": {},
     "output_type": "execute_result"
    }
   ],
   "source": [
    "conta = compara[pd.isnull(compara['id_interno'])].copy()\n",
    "conta.shape"
   ]
  },
  {
   "cell_type": "code",
   "execution_count": 246,
   "id": "15928de2-2e4a-416c-8dc7-5389c2a71492",
   "metadata": {},
   "outputs": [],
   "source": [
    "conta.to_excel('resultados/votacoes/votos_colocar_ids_manuais.xlsx',sheet_name='Sheet1',index=False)"
   ]
  },
  {
   "cell_type": "code",
   "execution_count": null,
   "id": "fc5412ba-d590-4b0f-9cad-3adde201744b",
   "metadata": {},
   "outputs": [],
   "source": []
  },
  {
   "cell_type": "code",
   "execution_count": null,
   "id": "0ee8937d-22fe-4c25-b3cb-6c293b956dee",
   "metadata": {},
   "outputs": [],
   "source": [
    "# Carrega preenchidos"
   ]
  },
  {
   "cell_type": "code",
   "execution_count": 245,
   "id": "1f6ea7bf-c49c-4acb-983e-6e48a9b9964f",
   "metadata": {},
   "outputs": [],
   "source": [
    "preenchidos_manuais = pd.read_excel('resultados/votacoes/votos_colocar_ids_manuais.xlsx', sheet_name='Sheet1', dtype='str')"
   ]
  },
  {
   "cell_type": "code",
   "execution_count": 246,
   "id": "ea7b079a-d760-44f0-bc58-ad48211fa263",
   "metadata": {},
   "outputs": [],
   "source": [
    "preenchidos_manuais.drop('nome', axis=1, inplace=True)"
   ]
  },
  {
   "cell_type": "code",
   "execution_count": 247,
   "id": "e303025a-e1e2-42a0-8556-8d7442ea31fa",
   "metadata": {},
   "outputs": [
    {
     "data": {
      "text/html": [
       "<div>\n",
       "<style scoped>\n",
       "    .dataframe tbody tr th:only-of-type {\n",
       "        vertical-align: middle;\n",
       "    }\n",
       "\n",
       "    .dataframe tbody tr th {\n",
       "        vertical-align: top;\n",
       "    }\n",
       "\n",
       "    .dataframe thead th {\n",
       "        text-align: right;\n",
       "    }\n",
       "</style>\n",
       "<table border=\"1\" class=\"dataframe\">\n",
       "  <thead>\n",
       "    <tr style=\"text-align: right;\">\n",
       "      <th></th>\n",
       "      <th>Parlamentar</th>\n",
       "      <th>Partido</th>\n",
       "      <th>UF</th>\n",
       "      <th>Voto</th>\n",
       "      <th>nome_votacao</th>\n",
       "      <th>aval_voto_sim</th>\n",
       "      <th>aval_voto_nao_obst</th>\n",
       "      <th>aval_relevancia</th>\n",
       "      <th>nome_semacentos</th>\n",
       "      <th>foto</th>\n",
       "      <th>nome_urna</th>\n",
       "      <th>uf_eleicao_disputa</th>\n",
       "      <th>politico_id</th>\n",
       "      <th>partido_eleicao</th>\n",
       "      <th>partido_atual</th>\n",
       "      <th>uri</th>\n",
       "      <th>sequencial_candidato</th>\n",
       "      <th>bancada_ruralista</th>\n",
       "      <th>id_interno</th>\n",
       "      <th>urna_semacentos</th>\n",
       "    </tr>\n",
       "  </thead>\n",
       "  <tbody>\n",
       "    <tr>\n",
       "      <th>60</th>\n",
       "      <td>Valtenir Pereira</td>\n",
       "      <td>MDB</td>\n",
       "      <td>MT</td>\n",
       "      <td>Não</td>\n",
       "      <td>PL 385/2021</td>\n",
       "      <td>DESFAVORÁVEL</td>\n",
       "      <td>FAVORÁVEL</td>\n",
       "      <td>RELEVANTE</td>\n",
       "      <td>VALTENIR PEREIRA</td>\n",
       "      <td>NaN</td>\n",
       "      <td>NaN</td>\n",
       "      <td>NaN</td>\n",
       "      <td>NaN</td>\n",
       "      <td>NaN</td>\n",
       "      <td>NaN</td>\n",
       "      <td>NaN</td>\n",
       "      <td>NaN</td>\n",
       "      <td>NaN</td>\n",
       "      <td>141552</td>\n",
       "      <td>NaN</td>\n",
       "    </tr>\n",
       "    <tr>\n",
       "      <th>68</th>\n",
       "      <td>Danilo Forte</td>\n",
       "      <td>PSDB</td>\n",
       "      <td>CE</td>\n",
       "      <td>Não</td>\n",
       "      <td>PL 823/2021</td>\n",
       "      <td>DESFAVORÁVEL</td>\n",
       "      <td>FAVORÁVEL</td>\n",
       "      <td>MUITO RELEVANTE</td>\n",
       "      <td>DANILO FORTE</td>\n",
       "      <td>NaN</td>\n",
       "      <td>NaN</td>\n",
       "      <td>NaN</td>\n",
       "      <td>NaN</td>\n",
       "      <td>NaN</td>\n",
       "      <td>NaN</td>\n",
       "      <td>NaN</td>\n",
       "      <td>NaN</td>\n",
       "      <td>NaN</td>\n",
       "      <td>62881</td>\n",
       "      <td>NaN</td>\n",
       "    </tr>\n",
       "    <tr>\n",
       "      <th>101</th>\n",
       "      <td>Joseildo Ramos</td>\n",
       "      <td>PT</td>\n",
       "      <td>NaN</td>\n",
       "      <td>Sim</td>\n",
       "      <td>PL 2788/2019</td>\n",
       "      <td>FAVORÁVEL</td>\n",
       "      <td>DESFAVORÁVEL</td>\n",
       "      <td>MUITO RELEVANTE</td>\n",
       "      <td>JOSEILDO RAMOS</td>\n",
       "      <td>NaN</td>\n",
       "      <td>NaN</td>\n",
       "      <td>NaN</td>\n",
       "      <td>NaN</td>\n",
       "      <td>NaN</td>\n",
       "      <td>NaN</td>\n",
       "      <td>NaN</td>\n",
       "      <td>NaN</td>\n",
       "      <td>NaN</td>\n",
       "      <td>209189</td>\n",
       "      <td>NaN</td>\n",
       "    </tr>\n",
       "    <tr>\n",
       "      <th>10</th>\n",
       "      <td>Joseildo Ramos</td>\n",
       "      <td>PT</td>\n",
       "      <td>BA</td>\n",
       "      <td>Não</td>\n",
       "      <td>PL 1142/2020</td>\n",
       "      <td>DESFAVORÁVEL</td>\n",
       "      <td>FAVORÁVEL</td>\n",
       "      <td>MUITO RELEVANTE</td>\n",
       "      <td>JOSEILDO RAMOS</td>\n",
       "      <td>NaN</td>\n",
       "      <td>NaN</td>\n",
       "      <td>NaN</td>\n",
       "      <td>NaN</td>\n",
       "      <td>NaN</td>\n",
       "      <td>NaN</td>\n",
       "      <td>NaN</td>\n",
       "      <td>NaN</td>\n",
       "      <td>NaN</td>\n",
       "      <td>209189</td>\n",
       "      <td>NaN</td>\n",
       "    </tr>\n",
       "    <tr>\n",
       "      <th>1</th>\n",
       "      <td>Bia Cavassa</td>\n",
       "      <td>PSDB</td>\n",
       "      <td>MS</td>\n",
       "      <td>Não</td>\n",
       "      <td>PL 1142/2020</td>\n",
       "      <td>DESFAVORÁVEL</td>\n",
       "      <td>FAVORÁVEL</td>\n",
       "      <td>MUITO RELEVANTE</td>\n",
       "      <td>BIA CAVASSA</td>\n",
       "      <td>NaN</td>\n",
       "      <td>NaN</td>\n",
       "      <td>NaN</td>\n",
       "      <td>NaN</td>\n",
       "      <td>NaN</td>\n",
       "      <td>NaN</td>\n",
       "      <td>NaN</td>\n",
       "      <td>NaN</td>\n",
       "      <td>NaN</td>\n",
       "      <td>207176</td>\n",
       "      <td>NaN</td>\n",
       "    </tr>\n",
       "  </tbody>\n",
       "</table>\n",
       "</div>"
      ],
      "text/plain": [
       "          Parlamentar Partido   UF Voto  nome_votacao aval_voto_sim  \\\n",
       "60   Valtenir Pereira     MDB   MT  Não   PL 385/2021  DESFAVORÁVEL   \n",
       "68       Danilo Forte    PSDB   CE  Não   PL 823/2021  DESFAVORÁVEL   \n",
       "101    Joseildo Ramos      PT  NaN  Sim  PL 2788/2019     FAVORÁVEL   \n",
       "10     Joseildo Ramos      PT   BA  Não  PL 1142/2020  DESFAVORÁVEL   \n",
       "1         Bia Cavassa    PSDB   MS  Não  PL 1142/2020  DESFAVORÁVEL   \n",
       "\n",
       "    aval_voto_nao_obst  aval_relevancia   nome_semacentos foto nome_urna  \\\n",
       "60           FAVORÁVEL        RELEVANTE  VALTENIR PEREIRA  NaN       NaN   \n",
       "68           FAVORÁVEL  MUITO RELEVANTE      DANILO FORTE  NaN       NaN   \n",
       "101       DESFAVORÁVEL  MUITO RELEVANTE    JOSEILDO RAMOS  NaN       NaN   \n",
       "10           FAVORÁVEL  MUITO RELEVANTE    JOSEILDO RAMOS  NaN       NaN   \n",
       "1            FAVORÁVEL  MUITO RELEVANTE       BIA CAVASSA  NaN       NaN   \n",
       "\n",
       "    uf_eleicao_disputa politico_id partido_eleicao partido_atual  uri  \\\n",
       "60                 NaN         NaN             NaN           NaN  NaN   \n",
       "68                 NaN         NaN             NaN           NaN  NaN   \n",
       "101                NaN         NaN             NaN           NaN  NaN   \n",
       "10                 NaN         NaN             NaN           NaN  NaN   \n",
       "1                  NaN         NaN             NaN           NaN  NaN   \n",
       "\n",
       "    sequencial_candidato bancada_ruralista id_interno urna_semacentos  \n",
       "60                   NaN               NaN     141552             NaN  \n",
       "68                   NaN               NaN      62881             NaN  \n",
       "101                  NaN               NaN     209189             NaN  \n",
       "10                   NaN               NaN     209189             NaN  \n",
       "1                    NaN               NaN     207176             NaN  "
      ]
     },
     "execution_count": 247,
     "metadata": {},
     "output_type": "execute_result"
    }
   ],
   "source": [
    "preenchidos_manuais.sample(5)"
   ]
  },
  {
   "cell_type": "code",
   "execution_count": null,
   "id": "40163026-5af8-4167-9ee0-315e904a1063",
   "metadata": {},
   "outputs": [],
   "source": []
  },
  {
   "cell_type": "code",
   "execution_count": 248,
   "id": "fb6e9039-40d4-4c3d-b89e-b448c6aeb6da",
   "metadata": {},
   "outputs": [],
   "source": [
    "# Separa os encontrados"
   ]
  },
  {
   "cell_type": "code",
   "execution_count": 249,
   "id": "b995bd8a-90b6-44bc-9ef8-98e05b576eac",
   "metadata": {},
   "outputs": [
    {
     "data": {
      "text/plain": [
       "(1665, 21)"
      ]
     },
     "execution_count": 249,
     "metadata": {},
     "output_type": "execute_result"
    }
   ],
   "source": [
    "encontrados = compara[pd.notnull(compara['id_interno'])].copy()\n",
    "encontrados.shape"
   ]
  },
  {
   "cell_type": "code",
   "execution_count": 259,
   "id": "f9cd3a63-3483-4fa9-9645-0c905cd38498",
   "metadata": {},
   "outputs": [
    {
     "data": {
      "text/plain": [
       "Index(['Parlamentar', 'Partido', 'UF', 'Voto', 'nome_votacao', 'aval_voto_sim',\n",
       "       'aval_voto_nao_obst', 'aval_relevancia', 'nome_semacentos', 'nome',\n",
       "       'foto', 'nome_urna', 'uf_eleicao_disputa', 'politico_id',\n",
       "       'partido_eleicao', 'partido_atual', 'uri', 'sequencial_candidato',\n",
       "       'bancada_ruralista', 'id_interno', 'urna_semacentos'],\n",
       "      dtype='object')"
      ]
     },
     "execution_count": 259,
     "metadata": {},
     "output_type": "execute_result"
    }
   ],
   "source": [
    "encontrados.columns"
   ]
  },
  {
   "cell_type": "code",
   "execution_count": null,
   "id": "f37776b6-2eb1-4e9e-a772-c8a1f863214c",
   "metadata": {},
   "outputs": [],
   "source": []
  },
  {
   "cell_type": "code",
   "execution_count": 250,
   "id": "7bb9df35-511c-4b30-b164-dfffc43a8699",
   "metadata": {},
   "outputs": [],
   "source": [
    "# Une preenchidos manuais e encontrados"
   ]
  },
  {
   "cell_type": "code",
   "execution_count": 273,
   "id": "9eed89f1-1f01-4e89-bac6-8c00e64fefab",
   "metadata": {},
   "outputs": [],
   "source": [
    "frames = [preenchidos_manuais, encontrados]\n",
    "votos_restantes = pd.concat(frames)"
   ]
  },
  {
   "cell_type": "code",
   "execution_count": 274,
   "id": "8d9487ef-22ef-4fc5-88af-33637a5002ad",
   "metadata": {},
   "outputs": [
    {
     "name": "stdout",
     "output_type": "stream",
     "text": [
      "<class 'pandas.core.frame.DataFrame'>\n",
      "Int64Index: 1784 entries, 0 to 1782\n",
      "Data columns (total 21 columns):\n",
      " #   Column                Non-Null Count  Dtype \n",
      "---  ------                --------------  ----- \n",
      " 0   Parlamentar           1784 non-null   object\n",
      " 1   Partido               1784 non-null   object\n",
      " 2   UF                    1453 non-null   object\n",
      " 3   Voto                  1784 non-null   object\n",
      " 4   nome_votacao          1784 non-null   object\n",
      " 5   aval_voto_sim         1784 non-null   object\n",
      " 6   aval_voto_nao_obst    1784 non-null   object\n",
      " 7   aval_relevancia       1784 non-null   object\n",
      " 8   nome_semacentos       1784 non-null   object\n",
      " 9   foto                  1665 non-null   object\n",
      " 10  nome_urna             1665 non-null   object\n",
      " 11  uf_eleicao_disputa    1665 non-null   object\n",
      " 12  politico_id           1665 non-null   object\n",
      " 13  partido_eleicao       1665 non-null   object\n",
      " 14  partido_atual         1665 non-null   object\n",
      " 15  uri                   1665 non-null   object\n",
      " 16  sequencial_candidato  1665 non-null   object\n",
      " 17  bancada_ruralista     775 non-null    object\n",
      " 18  id_interno            1784 non-null   object\n",
      " 19  urna_semacentos       1665 non-null   object\n",
      " 20  nome                  1665 non-null   object\n",
      "dtypes: object(21)\n",
      "memory usage: 306.6+ KB\n"
     ]
    }
   ],
   "source": [
    "votos_restantes.info()"
   ]
  },
  {
   "cell_type": "code",
   "execution_count": 275,
   "id": "25646862-eac5-4d8e-b9b3-3ce49bfe20e2",
   "metadata": {},
   "outputs": [
    {
     "data": {
      "text/plain": [
       "Index(['Parlamentar', 'Partido', 'UF', 'Voto', 'nome_votacao', 'aval_voto_sim',\n",
       "       'aval_voto_nao_obst', 'aval_relevancia', 'nome_semacentos', 'foto',\n",
       "       'nome_urna', 'uf_eleicao_disputa', 'politico_id', 'partido_eleicao',\n",
       "       'partido_atual', 'uri', 'sequencial_candidato', 'bancada_ruralista',\n",
       "       'id_interno', 'urna_semacentos', 'nome'],\n",
       "      dtype='object')"
      ]
     },
     "execution_count": 275,
     "metadata": {},
     "output_type": "execute_result"
    }
   ],
   "source": [
    "votos_restantes.columns"
   ]
  },
  {
   "cell_type": "code",
   "execution_count": 276,
   "id": "32e0dba6-acf1-45d9-9334-62bfca99fd9e",
   "metadata": {},
   "outputs": [],
   "source": [
    "votos_restantes.rename(columns = {'Voto':'tipoVoto'},inplace = True)\n",
    "#votos_restantes.rename(columns = {'Parlamentar':'nome'},inplace = True)"
   ]
  },
  {
   "cell_type": "code",
   "execution_count": 277,
   "id": "540309b3-489b-4379-9532-1985ceca83b0",
   "metadata": {},
   "outputs": [
    {
     "data": {
      "text/plain": [
       "Index(['Parlamentar', 'Partido', 'UF', 'tipoVoto', 'nome_votacao',\n",
       "       'aval_voto_sim', 'aval_voto_nao_obst', 'aval_relevancia',\n",
       "       'nome_semacentos', 'foto', 'nome_urna', 'uf_eleicao_disputa',\n",
       "       'politico_id', 'partido_eleicao', 'partido_atual', 'uri',\n",
       "       'sequencial_candidato', 'bancada_ruralista', 'id_interno',\n",
       "       'urna_semacentos', 'nome'],\n",
       "      dtype='object')"
      ]
     },
     "execution_count": 277,
     "metadata": {},
     "output_type": "execute_result"
    }
   ],
   "source": [
    "votos_restantes.columns"
   ]
  },
  {
   "cell_type": "code",
   "execution_count": 278,
   "id": "c200b355-b8c4-432e-9aeb-6f3caf26d5c6",
   "metadata": {},
   "outputs": [
    {
     "name": "stdout",
     "output_type": "stream",
     "text": [
      "<class 'pandas.core.frame.DataFrame'>\n",
      "Int64Index: 1784 entries, 0 to 1782\n",
      "Data columns (total 21 columns):\n",
      " #   Column                Non-Null Count  Dtype \n",
      "---  ------                --------------  ----- \n",
      " 0   Parlamentar           1784 non-null   object\n",
      " 1   Partido               1784 non-null   object\n",
      " 2   UF                    1453 non-null   object\n",
      " 3   tipoVoto              1784 non-null   object\n",
      " 4   nome_votacao          1784 non-null   object\n",
      " 5   aval_voto_sim         1784 non-null   object\n",
      " 6   aval_voto_nao_obst    1784 non-null   object\n",
      " 7   aval_relevancia       1784 non-null   object\n",
      " 8   nome_semacentos       1784 non-null   object\n",
      " 9   foto                  1665 non-null   object\n",
      " 10  nome_urna             1665 non-null   object\n",
      " 11  uf_eleicao_disputa    1665 non-null   object\n",
      " 12  politico_id           1665 non-null   object\n",
      " 13  partido_eleicao       1665 non-null   object\n",
      " 14  partido_atual         1665 non-null   object\n",
      " 15  uri                   1665 non-null   object\n",
      " 16  sequencial_candidato  1665 non-null   object\n",
      " 17  bancada_ruralista     775 non-null    object\n",
      " 18  id_interno            1784 non-null   object\n",
      " 19  urna_semacentos       1665 non-null   object\n",
      " 20  nome                  1665 non-null   object\n",
      "dtypes: object(21)\n",
      "memory usage: 306.6+ KB\n"
     ]
    }
   ],
   "source": [
    "votos_restantes.info()"
   ]
  },
  {
   "cell_type": "code",
   "execution_count": 279,
   "id": "b4705fe2-5446-4df1-b7fc-57694b14b8c6",
   "metadata": {},
   "outputs": [],
   "source": [
    "votos_restantes = votos_restantes[['nome_votacao', 'tipoVoto', 'Parlamentar', 'nome', 'aval_voto_sim', 'aval_voto_nao_obst', 'aval_relevancia', 'id_interno']]"
   ]
  },
  {
   "cell_type": "code",
   "execution_count": 280,
   "id": "2eacdc3d-175f-4e40-9ede-a97093310064",
   "metadata": {},
   "outputs": [
    {
     "data": {
      "text/html": [
       "<div>\n",
       "<style scoped>\n",
       "    .dataframe tbody tr th:only-of-type {\n",
       "        vertical-align: middle;\n",
       "    }\n",
       "\n",
       "    .dataframe tbody tr th {\n",
       "        vertical-align: top;\n",
       "    }\n",
       "\n",
       "    .dataframe thead th {\n",
       "        text-align: right;\n",
       "    }\n",
       "</style>\n",
       "<table border=\"1\" class=\"dataframe\">\n",
       "  <thead>\n",
       "    <tr style=\"text-align: right;\">\n",
       "      <th></th>\n",
       "      <th>nome_votacao</th>\n",
       "      <th>tipoVoto</th>\n",
       "      <th>Parlamentar</th>\n",
       "      <th>nome</th>\n",
       "      <th>aval_voto_sim</th>\n",
       "      <th>aval_voto_nao_obst</th>\n",
       "      <th>aval_relevancia</th>\n",
       "      <th>id_interno</th>\n",
       "    </tr>\n",
       "  </thead>\n",
       "  <tbody>\n",
       "    <tr>\n",
       "      <th>0</th>\n",
       "      <td>PL 1142/2020</td>\n",
       "      <td>Não</td>\n",
       "      <td>Alencar Santana Braga</td>\n",
       "      <td>NaN</td>\n",
       "      <td>DESFAVORÁVEL</td>\n",
       "      <td>FAVORÁVEL</td>\n",
       "      <td>MUITO RELEVANTE</td>\n",
       "      <td>204501</td>\n",
       "    </tr>\n",
       "    <tr>\n",
       "      <th>1</th>\n",
       "      <td>PL 1142/2020</td>\n",
       "      <td>Não</td>\n",
       "      <td>Bia Cavassa</td>\n",
       "      <td>NaN</td>\n",
       "      <td>DESFAVORÁVEL</td>\n",
       "      <td>FAVORÁVEL</td>\n",
       "      <td>MUITO RELEVANTE</td>\n",
       "      <td>207176</td>\n",
       "    </tr>\n",
       "    <tr>\n",
       "      <th>2</th>\n",
       "      <td>PL 1142/2020</td>\n",
       "      <td>Não</td>\n",
       "      <td>Carla Dickson</td>\n",
       "      <td>NaN</td>\n",
       "      <td>DESFAVORÁVEL</td>\n",
       "      <td>FAVORÁVEL</td>\n",
       "      <td>MUITO RELEVANTE</td>\n",
       "      <td>213762</td>\n",
       "    </tr>\n",
       "    <tr>\n",
       "      <th>3</th>\n",
       "      <td>PL 1142/2020</td>\n",
       "      <td>Não</td>\n",
       "      <td>Danilo Forte</td>\n",
       "      <td>NaN</td>\n",
       "      <td>DESFAVORÁVEL</td>\n",
       "      <td>FAVORÁVEL</td>\n",
       "      <td>MUITO RELEVANTE</td>\n",
       "      <td>62881</td>\n",
       "    </tr>\n",
       "    <tr>\n",
       "      <th>4</th>\n",
       "      <td>PL 1142/2020</td>\n",
       "      <td>Não</td>\n",
       "      <td>Deuzinho Filho</td>\n",
       "      <td>NaN</td>\n",
       "      <td>DESFAVORÁVEL</td>\n",
       "      <td>FAVORÁVEL</td>\n",
       "      <td>MUITO RELEVANTE</td>\n",
       "      <td>213856</td>\n",
       "    </tr>\n",
       "    <tr>\n",
       "      <th>...</th>\n",
       "      <td>...</td>\n",
       "      <td>...</td>\n",
       "      <td>...</td>\n",
       "      <td>...</td>\n",
       "      <td>...</td>\n",
       "      <td>...</td>\n",
       "      <td>...</td>\n",
       "      <td>...</td>\n",
       "    </tr>\n",
       "    <tr>\n",
       "      <th>1778</th>\n",
       "      <td>PL 2788/2019</td>\n",
       "      <td>Sim</td>\n",
       "      <td>Maria do Rosário</td>\n",
       "      <td>MARIA DO ROSÁRIO NUNES</td>\n",
       "      <td>FAVORÁVEL</td>\n",
       "      <td>DESFAVORÁVEL</td>\n",
       "      <td>MUITO RELEVANTE</td>\n",
       "      <td>74398</td>\n",
       "    </tr>\n",
       "    <tr>\n",
       "      <th>1779</th>\n",
       "      <td>PL 2788/2019</td>\n",
       "      <td>Sim</td>\n",
       "      <td>Maurício Dziedricki</td>\n",
       "      <td>MAURÍCIO ALEXANDRE DZIEDRICKI</td>\n",
       "      <td>FAVORÁVEL</td>\n",
       "      <td>DESFAVORÁVEL</td>\n",
       "      <td>MUITO RELEVANTE</td>\n",
       "      <td>75431</td>\n",
       "    </tr>\n",
       "    <tr>\n",
       "      <th>1780</th>\n",
       "      <td>PL 2788/2019</td>\n",
       "      <td>Sim</td>\n",
       "      <td>Paulo Pimenta</td>\n",
       "      <td>PAULO ROBERTO SEVERO PIMENTA</td>\n",
       "      <td>FAVORÁVEL</td>\n",
       "      <td>DESFAVORÁVEL</td>\n",
       "      <td>MUITO RELEVANTE</td>\n",
       "      <td>74400</td>\n",
       "    </tr>\n",
       "    <tr>\n",
       "      <th>1781</th>\n",
       "      <td>PL 2788/2019</td>\n",
       "      <td>Sim</td>\n",
       "      <td>Pedro Westphalen</td>\n",
       "      <td>PEDRO BANDARRA WESTPHALEN</td>\n",
       "      <td>FAVORÁVEL</td>\n",
       "      <td>DESFAVORÁVEL</td>\n",
       "      <td>MUITO RELEVANTE</td>\n",
       "      <td>204406</td>\n",
       "    </tr>\n",
       "    <tr>\n",
       "      <th>1782</th>\n",
       "      <td>PL 2788/2019</td>\n",
       "      <td>Não</td>\n",
       "      <td>Sanderson</td>\n",
       "      <td>UBIRATAN ANTUNES SANDERSON</td>\n",
       "      <td>FAVORÁVEL</td>\n",
       "      <td>DESFAVORÁVEL</td>\n",
       "      <td>MUITO RELEVANTE</td>\n",
       "      <td>204416</td>\n",
       "    </tr>\n",
       "  </tbody>\n",
       "</table>\n",
       "<p>1784 rows × 8 columns</p>\n",
       "</div>"
      ],
      "text/plain": [
       "      nome_votacao tipoVoto            Parlamentar  \\\n",
       "0     PL 1142/2020      Não  Alencar Santana Braga   \n",
       "1     PL 1142/2020      Não            Bia Cavassa   \n",
       "2     PL 1142/2020      Não          Carla Dickson   \n",
       "3     PL 1142/2020      Não           Danilo Forte   \n",
       "4     PL 1142/2020      Não         Deuzinho Filho   \n",
       "...            ...      ...                    ...   \n",
       "1778  PL 2788/2019      Sim       Maria do Rosário   \n",
       "1779  PL 2788/2019      Sim    Maurício Dziedricki   \n",
       "1780  PL 2788/2019      Sim          Paulo Pimenta   \n",
       "1781  PL 2788/2019      Sim       Pedro Westphalen   \n",
       "1782  PL 2788/2019      Não              Sanderson   \n",
       "\n",
       "                               nome aval_voto_sim aval_voto_nao_obst  \\\n",
       "0                               NaN  DESFAVORÁVEL          FAVORÁVEL   \n",
       "1                               NaN  DESFAVORÁVEL          FAVORÁVEL   \n",
       "2                               NaN  DESFAVORÁVEL          FAVORÁVEL   \n",
       "3                               NaN  DESFAVORÁVEL          FAVORÁVEL   \n",
       "4                               NaN  DESFAVORÁVEL          FAVORÁVEL   \n",
       "...                             ...           ...                ...   \n",
       "1778         MARIA DO ROSÁRIO NUNES     FAVORÁVEL       DESFAVORÁVEL   \n",
       "1779  MAURÍCIO ALEXANDRE DZIEDRICKI     FAVORÁVEL       DESFAVORÁVEL   \n",
       "1780   PAULO ROBERTO SEVERO PIMENTA     FAVORÁVEL       DESFAVORÁVEL   \n",
       "1781      PEDRO BANDARRA WESTPHALEN     FAVORÁVEL       DESFAVORÁVEL   \n",
       "1782     UBIRATAN ANTUNES SANDERSON     FAVORÁVEL       DESFAVORÁVEL   \n",
       "\n",
       "      aval_relevancia id_interno  \n",
       "0     MUITO RELEVANTE     204501  \n",
       "1     MUITO RELEVANTE     207176  \n",
       "2     MUITO RELEVANTE     213762  \n",
       "3     MUITO RELEVANTE      62881  \n",
       "4     MUITO RELEVANTE     213856  \n",
       "...               ...        ...  \n",
       "1778  MUITO RELEVANTE      74398  \n",
       "1779  MUITO RELEVANTE      75431  \n",
       "1780  MUITO RELEVANTE      74400  \n",
       "1781  MUITO RELEVANTE     204406  \n",
       "1782  MUITO RELEVANTE     204416  \n",
       "\n",
       "[1784 rows x 8 columns]"
      ]
     },
     "execution_count": 280,
     "metadata": {},
     "output_type": "execute_result"
    }
   ],
   "source": [
    "votos_restantes"
   ]
  },
  {
   "cell_type": "code",
   "execution_count": 281,
   "id": "3536a621-1cd6-4c45-90b3-03b9e2287ab6",
   "metadata": {},
   "outputs": [],
   "source": [
    "votos_restantes.drop('nome', axis=1, inplace=True)"
   ]
  },
  {
   "cell_type": "code",
   "execution_count": 282,
   "id": "0e46295f-deb1-489c-9c0a-e0247b87c923",
   "metadata": {},
   "outputs": [
    {
     "data": {
      "text/plain": [
       "Index(['nome_votacao', 'tipoVoto', 'Parlamentar', 'aval_voto_sim',\n",
       "       'aval_voto_nao_obst', 'aval_relevancia', 'id_interno'],\n",
       "      dtype='object')"
      ]
     },
     "execution_count": 282,
     "metadata": {},
     "output_type": "execute_result"
    }
   ],
   "source": [
    "votos_restantes.columns"
   ]
  },
  {
   "cell_type": "code",
   "execution_count": 283,
   "id": "00af216d-15c5-4f3c-bc45-ee87a46e7598",
   "metadata": {},
   "outputs": [],
   "source": [
    "votos_restantes.rename(columns = {'Parlamentar':'nome'},inplace = True)"
   ]
  },
  {
   "cell_type": "code",
   "execution_count": null,
   "id": "453580ab-ccb1-4949-9193-051166181a95",
   "metadata": {},
   "outputs": [],
   "source": []
  },
  {
   "cell_type": "code",
   "execution_count": 284,
   "id": "e7857167-d3e2-4474-b574-920a4e03c8e2",
   "metadata": {},
   "outputs": [
    {
     "data": {
      "text/html": [
       "<div>\n",
       "<style scoped>\n",
       "    .dataframe tbody tr th:only-of-type {\n",
       "        vertical-align: middle;\n",
       "    }\n",
       "\n",
       "    .dataframe tbody tr th {\n",
       "        vertical-align: top;\n",
       "    }\n",
       "\n",
       "    .dataframe thead th {\n",
       "        text-align: right;\n",
       "    }\n",
       "</style>\n",
       "<table border=\"1\" class=\"dataframe\">\n",
       "  <thead>\n",
       "    <tr style=\"text-align: right;\">\n",
       "      <th></th>\n",
       "      <th>nome_votacao</th>\n",
       "      <th>tipoVoto</th>\n",
       "      <th>nome</th>\n",
       "      <th>aval_voto_sim</th>\n",
       "      <th>aval_voto_nao_obst</th>\n",
       "      <th>aval_relevancia</th>\n",
       "      <th>id_interno</th>\n",
       "    </tr>\n",
       "  </thead>\n",
       "  <tbody>\n",
       "    <tr>\n",
       "      <th>0</th>\n",
       "      <td>PL 1142/2020</td>\n",
       "      <td>Não</td>\n",
       "      <td>Alencar Santana Braga</td>\n",
       "      <td>DESFAVORÁVEL</td>\n",
       "      <td>FAVORÁVEL</td>\n",
       "      <td>MUITO RELEVANTE</td>\n",
       "      <td>204501</td>\n",
       "    </tr>\n",
       "    <tr>\n",
       "      <th>1</th>\n",
       "      <td>PL 1142/2020</td>\n",
       "      <td>Não</td>\n",
       "      <td>Bia Cavassa</td>\n",
       "      <td>DESFAVORÁVEL</td>\n",
       "      <td>FAVORÁVEL</td>\n",
       "      <td>MUITO RELEVANTE</td>\n",
       "      <td>207176</td>\n",
       "    </tr>\n",
       "    <tr>\n",
       "      <th>2</th>\n",
       "      <td>PL 1142/2020</td>\n",
       "      <td>Não</td>\n",
       "      <td>Carla Dickson</td>\n",
       "      <td>DESFAVORÁVEL</td>\n",
       "      <td>FAVORÁVEL</td>\n",
       "      <td>MUITO RELEVANTE</td>\n",
       "      <td>213762</td>\n",
       "    </tr>\n",
       "    <tr>\n",
       "      <th>3</th>\n",
       "      <td>PL 1142/2020</td>\n",
       "      <td>Não</td>\n",
       "      <td>Danilo Forte</td>\n",
       "      <td>DESFAVORÁVEL</td>\n",
       "      <td>FAVORÁVEL</td>\n",
       "      <td>MUITO RELEVANTE</td>\n",
       "      <td>62881</td>\n",
       "    </tr>\n",
       "    <tr>\n",
       "      <th>4</th>\n",
       "      <td>PL 1142/2020</td>\n",
       "      <td>Não</td>\n",
       "      <td>Deuzinho Filho</td>\n",
       "      <td>DESFAVORÁVEL</td>\n",
       "      <td>FAVORÁVEL</td>\n",
       "      <td>MUITO RELEVANTE</td>\n",
       "      <td>213856</td>\n",
       "    </tr>\n",
       "    <tr>\n",
       "      <th>...</th>\n",
       "      <td>...</td>\n",
       "      <td>...</td>\n",
       "      <td>...</td>\n",
       "      <td>...</td>\n",
       "      <td>...</td>\n",
       "      <td>...</td>\n",
       "      <td>...</td>\n",
       "    </tr>\n",
       "    <tr>\n",
       "      <th>1778</th>\n",
       "      <td>PL 2788/2019</td>\n",
       "      <td>Sim</td>\n",
       "      <td>Maria do Rosário</td>\n",
       "      <td>FAVORÁVEL</td>\n",
       "      <td>DESFAVORÁVEL</td>\n",
       "      <td>MUITO RELEVANTE</td>\n",
       "      <td>74398</td>\n",
       "    </tr>\n",
       "    <tr>\n",
       "      <th>1779</th>\n",
       "      <td>PL 2788/2019</td>\n",
       "      <td>Sim</td>\n",
       "      <td>Maurício Dziedricki</td>\n",
       "      <td>FAVORÁVEL</td>\n",
       "      <td>DESFAVORÁVEL</td>\n",
       "      <td>MUITO RELEVANTE</td>\n",
       "      <td>75431</td>\n",
       "    </tr>\n",
       "    <tr>\n",
       "      <th>1780</th>\n",
       "      <td>PL 2788/2019</td>\n",
       "      <td>Sim</td>\n",
       "      <td>Paulo Pimenta</td>\n",
       "      <td>FAVORÁVEL</td>\n",
       "      <td>DESFAVORÁVEL</td>\n",
       "      <td>MUITO RELEVANTE</td>\n",
       "      <td>74400</td>\n",
       "    </tr>\n",
       "    <tr>\n",
       "      <th>1781</th>\n",
       "      <td>PL 2788/2019</td>\n",
       "      <td>Sim</td>\n",
       "      <td>Pedro Westphalen</td>\n",
       "      <td>FAVORÁVEL</td>\n",
       "      <td>DESFAVORÁVEL</td>\n",
       "      <td>MUITO RELEVANTE</td>\n",
       "      <td>204406</td>\n",
       "    </tr>\n",
       "    <tr>\n",
       "      <th>1782</th>\n",
       "      <td>PL 2788/2019</td>\n",
       "      <td>Não</td>\n",
       "      <td>Sanderson</td>\n",
       "      <td>FAVORÁVEL</td>\n",
       "      <td>DESFAVORÁVEL</td>\n",
       "      <td>MUITO RELEVANTE</td>\n",
       "      <td>204416</td>\n",
       "    </tr>\n",
       "  </tbody>\n",
       "</table>\n",
       "<p>1784 rows × 7 columns</p>\n",
       "</div>"
      ],
      "text/plain": [
       "      nome_votacao tipoVoto                   nome aval_voto_sim  \\\n",
       "0     PL 1142/2020      Não  Alencar Santana Braga  DESFAVORÁVEL   \n",
       "1     PL 1142/2020      Não            Bia Cavassa  DESFAVORÁVEL   \n",
       "2     PL 1142/2020      Não          Carla Dickson  DESFAVORÁVEL   \n",
       "3     PL 1142/2020      Não           Danilo Forte  DESFAVORÁVEL   \n",
       "4     PL 1142/2020      Não         Deuzinho Filho  DESFAVORÁVEL   \n",
       "...            ...      ...                    ...           ...   \n",
       "1778  PL 2788/2019      Sim       Maria do Rosário     FAVORÁVEL   \n",
       "1779  PL 2788/2019      Sim    Maurício Dziedricki     FAVORÁVEL   \n",
       "1780  PL 2788/2019      Sim          Paulo Pimenta     FAVORÁVEL   \n",
       "1781  PL 2788/2019      Sim       Pedro Westphalen     FAVORÁVEL   \n",
       "1782  PL 2788/2019      Não              Sanderson     FAVORÁVEL   \n",
       "\n",
       "     aval_voto_nao_obst  aval_relevancia id_interno  \n",
       "0             FAVORÁVEL  MUITO RELEVANTE     204501  \n",
       "1             FAVORÁVEL  MUITO RELEVANTE     207176  \n",
       "2             FAVORÁVEL  MUITO RELEVANTE     213762  \n",
       "3             FAVORÁVEL  MUITO RELEVANTE      62881  \n",
       "4             FAVORÁVEL  MUITO RELEVANTE     213856  \n",
       "...                 ...              ...        ...  \n",
       "1778       DESFAVORÁVEL  MUITO RELEVANTE      74398  \n",
       "1779       DESFAVORÁVEL  MUITO RELEVANTE      75431  \n",
       "1780       DESFAVORÁVEL  MUITO RELEVANTE      74400  \n",
       "1781       DESFAVORÁVEL  MUITO RELEVANTE     204406  \n",
       "1782       DESFAVORÁVEL  MUITO RELEVANTE     204416  \n",
       "\n",
       "[1784 rows x 7 columns]"
      ]
     },
     "execution_count": 284,
     "metadata": {},
     "output_type": "execute_result"
    }
   ],
   "source": [
    "votos_restantes"
   ]
  },
  {
   "cell_type": "code",
   "execution_count": 285,
   "id": "3ff2daf7-75f2-4990-9038-3af3a2082d0f",
   "metadata": {},
   "outputs": [
    {
     "name": "stdout",
     "output_type": "stream",
     "text": [
      "<class 'pandas.core.frame.DataFrame'>\n",
      "Int64Index: 1784 entries, 0 to 1782\n",
      "Data columns (total 7 columns):\n",
      " #   Column              Non-Null Count  Dtype \n",
      "---  ------              --------------  ----- \n",
      " 0   nome_votacao        1784 non-null   object\n",
      " 1   tipoVoto            1784 non-null   object\n",
      " 2   nome                1784 non-null   object\n",
      " 3   aval_voto_sim       1784 non-null   object\n",
      " 4   aval_voto_nao_obst  1784 non-null   object\n",
      " 5   aval_relevancia     1784 non-null   object\n",
      " 6   id_interno          1784 non-null   object\n",
      "dtypes: object(7)\n",
      "memory usage: 111.5+ KB\n"
     ]
    }
   ],
   "source": [
    "votos_restantes.info()"
   ]
  },
  {
   "cell_type": "code",
   "execution_count": null,
   "id": "f5895164-a654-4b18-9ba4-d7353cf8e1c3",
   "metadata": {},
   "outputs": [],
   "source": []
  },
  {
   "cell_type": "code",
   "execution_count": null,
   "id": "2be3899c-0916-4347-b3b1-6ce6345024f4",
   "metadata": {},
   "outputs": [],
   "source": []
  },
  {
   "cell_type": "code",
   "execution_count": null,
   "id": "01722a87-b1c6-4993-863e-bd957d9b2ad1",
   "metadata": {},
   "outputs": [],
   "source": []
  },
  {
   "cell_type": "code",
   "execution_count": null,
   "id": "2c87642f-d236-4e03-9933-30c290b99633",
   "metadata": {},
   "outputs": [],
   "source": [
    "# Junta tudo "
   ]
  },
  {
   "cell_type": "code",
   "execution_count": 290,
   "id": "1e4e1bc4-bac4-4db6-a2b0-e0b0d60cffa1",
   "metadata": {},
   "outputs": [],
   "source": [
    "frames = [todos_votos, votos_restantes]\n",
    "votos_gerais = pd.concat(frames)"
   ]
  },
  {
   "cell_type": "code",
   "execution_count": 291,
   "id": "0b9e890c-389f-4bc9-9879-f0eaa2a954a4",
   "metadata": {},
   "outputs": [
    {
     "name": "stdout",
     "output_type": "stream",
     "text": [
      "<class 'pandas.core.frame.DataFrame'>\n",
      "Int64Index: 11878 entries, 0 to 1782\n",
      "Data columns (total 7 columns):\n",
      " #   Column              Non-Null Count  Dtype \n",
      "---  ------              --------------  ----- \n",
      " 0   nome_votacao        11878 non-null  object\n",
      " 1   tipoVoto            11878 non-null  object\n",
      " 2   nome                11878 non-null  object\n",
      " 3   aval_voto_sim       11878 non-null  object\n",
      " 4   aval_voto_nao_obst  11878 non-null  object\n",
      " 5   aval_relevancia     11878 non-null  object\n",
      " 6   id_interno          11878 non-null  object\n",
      "dtypes: object(7)\n",
      "memory usage: 742.4+ KB\n"
     ]
    }
   ],
   "source": [
    "votos_gerais.info()"
   ]
  },
  {
   "cell_type": "code",
   "execution_count": null,
   "id": "6f96029f-23f4-497a-bf4b-21f7219e2b8c",
   "metadata": {},
   "outputs": [],
   "source": []
  },
  {
   "cell_type": "code",
   "execution_count": 292,
   "id": "06e41d15-7933-4e45-a170-3c68d5f48f18",
   "metadata": {},
   "outputs": [
    {
     "data": {
      "text/html": [
       "<div>\n",
       "<style scoped>\n",
       "    .dataframe tbody tr th:only-of-type {\n",
       "        vertical-align: middle;\n",
       "    }\n",
       "\n",
       "    .dataframe tbody tr th {\n",
       "        vertical-align: top;\n",
       "    }\n",
       "\n",
       "    .dataframe thead th {\n",
       "        text-align: right;\n",
       "    }\n",
       "</style>\n",
       "<table border=\"1\" class=\"dataframe\">\n",
       "  <thead>\n",
       "    <tr style=\"text-align: right;\">\n",
       "      <th></th>\n",
       "      <th>nome_votacao</th>\n",
       "      <th>tipoVoto</th>\n",
       "      <th>nome</th>\n",
       "      <th>aval_voto_sim</th>\n",
       "      <th>aval_voto_nao_obst</th>\n",
       "      <th>aval_relevancia</th>\n",
       "      <th>id_interno</th>\n",
       "    </tr>\n",
       "  </thead>\n",
       "  <tbody>\n",
       "    <tr>\n",
       "      <th>343</th>\n",
       "      <td>PL 3430/20199</td>\n",
       "      <td>Sim</td>\n",
       "      <td>Junior Lourenço</td>\n",
       "      <td>FAVORÁVEL</td>\n",
       "      <td>DESFAVORÁVEL</td>\n",
       "      <td>RELEVANTE</td>\n",
       "      <td>204574</td>\n",
       "    </tr>\n",
       "    <tr>\n",
       "      <th>403</th>\n",
       "      <td>PL 2633/2020</td>\n",
       "      <td>Sim</td>\n",
       "      <td>Evair Vieira de Melo</td>\n",
       "      <td>DESFAVORÁVEL</td>\n",
       "      <td>FAVORÁVEL</td>\n",
       "      <td>MUITO RELEVANTE</td>\n",
       "      <td>178871</td>\n",
       "    </tr>\n",
       "    <tr>\n",
       "      <th>45</th>\n",
       "      <td>PL 2058/2021</td>\n",
       "      <td>Sim</td>\n",
       "      <td>Hugo Leal</td>\n",
       "      <td>DESFAVORÁVEL</td>\n",
       "      <td>FAVORÁVEL</td>\n",
       "      <td>RELEVANTE</td>\n",
       "      <td>141450</td>\n",
       "    </tr>\n",
       "    <tr>\n",
       "      <th>270</th>\n",
       "      <td>MPV 905/2019</td>\n",
       "      <td>Sim</td>\n",
       "      <td>Hélio Costa</td>\n",
       "      <td>DESFAVORÁVEL</td>\n",
       "      <td>FAVORÁVEL</td>\n",
       "      <td>MUITO RELEVANTE</td>\n",
       "      <td>204373</td>\n",
       "    </tr>\n",
       "    <tr>\n",
       "      <th>105</th>\n",
       "      <td>MPV 867/2018</td>\n",
       "      <td>Obstrução</td>\n",
       "      <td>Orlando Silva</td>\n",
       "      <td>DESFAVORÁVEL</td>\n",
       "      <td>FAVORÁVEL</td>\n",
       "      <td>MUITO RELEVANTE</td>\n",
       "      <td>178987</td>\n",
       "    </tr>\n",
       "  </tbody>\n",
       "</table>\n",
       "</div>"
      ],
      "text/plain": [
       "      nome_votacao   tipoVoto                  nome aval_voto_sim  \\\n",
       "343  PL 3430/20199        Sim       Junior Lourenço     FAVORÁVEL   \n",
       "403   PL 2633/2020        Sim  Evair Vieira de Melo  DESFAVORÁVEL   \n",
       "45    PL 2058/2021        Sim             Hugo Leal  DESFAVORÁVEL   \n",
       "270   MPV 905/2019        Sim           Hélio Costa  DESFAVORÁVEL   \n",
       "105   MPV 867/2018  Obstrução         Orlando Silva  DESFAVORÁVEL   \n",
       "\n",
       "    aval_voto_nao_obst  aval_relevancia id_interno  \n",
       "343       DESFAVORÁVEL        RELEVANTE     204574  \n",
       "403          FAVORÁVEL  MUITO RELEVANTE     178871  \n",
       "45           FAVORÁVEL        RELEVANTE     141450  \n",
       "270          FAVORÁVEL  MUITO RELEVANTE     204373  \n",
       "105          FAVORÁVEL  MUITO RELEVANTE     178987  "
      ]
     },
     "execution_count": 292,
     "metadata": {},
     "output_type": "execute_result"
    }
   ],
   "source": [
    "votos_gerais.sample(5)"
   ]
  },
  {
   "cell_type": "code",
   "execution_count": 293,
   "id": "4d1e1886-33bc-45f8-ab1e-9e627308894f",
   "metadata": {},
   "outputs": [],
   "source": [
    "votos_gerais = votos_gerais.sort_values(by=['nome_votacao'], ascending=False)"
   ]
  },
  {
   "cell_type": "code",
   "execution_count": 294,
   "id": "bb58c151-29ad-4b7f-be7e-31f3edfc865b",
   "metadata": {},
   "outputs": [
    {
     "data": {
      "text/plain": [
       "array(['PL 823/2021', 'PL 6299/2002', 'PL 5191/2020', 'PL 385/2021',\n",
       "       'PL 3729/2004', 'PL 3715/2019', 'PL 3430/20199', 'PL 3292/2020',\n",
       "       'PL 2788/2019', 'PL 2787/2019', 'PL 2633/2020', 'PL 2058/2021',\n",
       "       'PL 191/2020 (REQ 227/2022)', 'PL 1304/2020', 'PL 1142/2020',\n",
       "       'PL 1100/2021', 'PEC 6/2019', 'MPV_897_2019', 'MPV 936/2020',\n",
       "       'MPV 927/2020', 'MPV 905/2019', 'MPV 881/2019', 'MPV 871/2019',\n",
       "       'MPV 867/2018', 'MPV 1061/2021', 'MPV 1045/2021', 'MPV 1027/2021',\n",
       "       'MPV 1023/2020'], dtype=object)"
      ]
     },
     "execution_count": 294,
     "metadata": {},
     "output_type": "execute_result"
    }
   ],
   "source": [
    "votos_gerais['nome_votacao'].unique()"
   ]
  },
  {
   "cell_type": "code",
   "execution_count": 295,
   "id": "418a0556-763f-4add-97ef-6b35c1301c88",
   "metadata": {},
   "outputs": [
    {
     "data": {
      "text/plain": [
       "28"
      ]
     },
     "execution_count": 295,
     "metadata": {},
     "output_type": "execute_result"
    }
   ],
   "source": [
    "a_tolist = votos_gerais['nome_votacao'].unique()\n",
    "numero = a_tolist.tolist()\n",
    "len(numero)"
   ]
  },
  {
   "cell_type": "code",
   "execution_count": null,
   "id": "017dcc70-13b9-42ff-9dc5-de1e5635ee5b",
   "metadata": {},
   "outputs": [],
   "source": []
  },
  {
   "cell_type": "code",
   "execution_count": 296,
   "id": "4da0ee72-a3ed-4a8f-9e04-7ddcb16477be",
   "metadata": {},
   "outputs": [],
   "source": [
    "votos_gerais.to_excel('resultados/votacoes/votacoes_ruralometro2_22mai.xlsx',sheet_name='Sheet1',index=False)"
   ]
  },
  {
   "cell_type": "code",
   "execution_count": 297,
   "id": "1e04481a-f950-448d-8fba-7bd6f326d5b9",
   "metadata": {},
   "outputs": [],
   "source": [
    "votos_gerais.to_csv('resultados/votacoes/votacoes_ruralometro2_22mai.csv',index=False)"
   ]
  },
  {
   "cell_type": "code",
   "execution_count": null,
   "id": "89be1ea6-7794-4ccf-ae87-c570bd682aaa",
   "metadata": {},
   "outputs": [],
   "source": []
  },
  {
   "cell_type": "code",
   "execution_count": null,
   "id": "0720d935-991a-4115-ac4a-f1c9e316ef45",
   "metadata": {},
   "outputs": [],
   "source": []
  }
 ],
 "metadata": {
  "kernelspec": {
   "display_name": "Python 3",
   "language": "python",
   "name": "python3"
  },
  "language_info": {
   "codemirror_mode": {
    "name": "ipython",
    "version": 3
   },
   "file_extension": ".py",
   "mimetype": "text/x-python",
   "name": "python",
   "nbconvert_exporter": "python",
   "pygments_lexer": "ipython3",
   "version": "3.8.2"
  }
 },
 "nbformat": 4,
 "nbformat_minor": 5
}
