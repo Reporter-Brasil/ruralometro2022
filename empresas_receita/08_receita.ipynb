{
 "cells": [
  {
   "cell_type": "code",
   "execution_count": null,
   "id": "db228092-b255-475c-be6a-e9730f1cf9c9",
   "metadata": {},
   "outputs": [],
   "source": [
    "# -*- coding: utf-8\n",
    "# Repórter Brasil (https://ruralometro2022.reporterbrasil.org.br/)\n",
    "# Reinaldo Chaves (@paidatocandeira)\n",
    "# Faz o cruzamento de nomes completos e CPFs de deputados com os dados da Receita Federal para obter empresas que os deputados participam do quadro de sócios e administradores (QSA) e também os demais sócios dessas empresas e os outros CNPJs que eles possuem\n",
    "# Dados - Receita (https://www.gov.br/receitafederal/pt-br/assuntos/orientacao-tributaria/cadastros/consultas/dados-publicos-cnpj)\n",
    "# e tabulados em SQL pelo projeto (https://github.com/rictom/cnpj-sqlite)"
   ]
  },
  {
   "cell_type": "code",
   "execution_count": null,
   "id": "98e9fdd4-a5d1-4017-8ac6-3714ed0fc937",
   "metadata": {},
   "outputs": [],
   "source": []
  },
  {
   "cell_type": "code",
   "execution_count": 1,
   "id": "80b3b8bc-47c2-4de5-aab5-c6d7ad5ae9f2",
   "metadata": {},
   "outputs": [],
   "source": [
    "import pandas as pd\n",
    "from datetime import datetime"
   ]
  },
  {
   "cell_type": "code",
   "execution_count": null,
   "id": "f743fabc-16af-4685-aa33-2ecf0c85af78",
   "metadata": {},
   "outputs": [],
   "source": []
  },
  {
   "cell_type": "code",
   "execution_count": 2,
   "id": "aaa25fa7-2281-4b4b-8e3c-f4c85885ab1a",
   "metadata": {},
   "outputs": [],
   "source": [
    "kwargs = {'sep': ',', 'dtype': str, 'encoding': 'utf-8'}\n",
    "politicos = pd.read_csv(\"resultados/politicos_2018_09abr.csv\", **kwargs)"
   ]
  },
  {
   "cell_type": "code",
   "execution_count": 3,
   "id": "7193295f-30d5-4ee3-86d9-dc9d62dac801",
   "metadata": {},
   "outputs": [
    {
     "name": "stdout",
     "output_type": "stream",
     "text": [
      "<class 'pandas.core.frame.DataFrame'>\n",
      "RangeIndex: 510 entries, 0 to 509\n",
      "Data columns (total 9 columns):\n",
      " #   Column                Non-Null Count  Dtype \n",
      "---  ------                --------------  ----- \n",
      " 0   nome                  510 non-null    object\n",
      " 1   foto                  510 non-null    object\n",
      " 2   nome_urna             510 non-null    object\n",
      " 3   politico_id           510 non-null    object\n",
      " 4   partido_eleicao       510 non-null    object\n",
      " 5   partido_atual         510 non-null    object\n",
      " 6   uri                   510 non-null    object\n",
      " 7   sequencial_candidato  510 non-null    object\n",
      " 8   bancada_ruralista     236 non-null    object\n",
      "dtypes: object(9)\n",
      "memory usage: 36.0+ KB\n"
     ]
    }
   ],
   "source": [
    "politicos.info()"
   ]
  },
  {
   "cell_type": "code",
   "execution_count": 4,
   "id": "599fad7b-640c-4c28-b308-c12a43d076c6",
   "metadata": {},
   "outputs": [],
   "source": [
    "politicos['cpf_mascarado']= '***'+politicos['politico_id'].str[3:9]+'**'"
   ]
  },
  {
   "cell_type": "code",
   "execution_count": null,
   "id": "99101bd3-b131-4657-a4b2-94bf244039ef",
   "metadata": {},
   "outputs": [],
   "source": []
  },
  {
   "cell_type": "code",
   "execution_count": null,
   "id": "ddcf0c4c-c728-46cc-ae07-03bec569b905",
   "metadata": {},
   "outputs": [],
   "source": []
  },
  {
   "cell_type": "code",
   "execution_count": null,
   "id": "dae877d4-038f-416f-97bb-3ee5d6330bf7",
   "metadata": {},
   "outputs": [],
   "source": []
  },
  {
   "cell_type": "code",
   "execution_count": 5,
   "id": "96462ad7-c19e-497e-a1d2-5fdc5452cc3c",
   "metadata": {},
   "outputs": [],
   "source": [
    "TextFileReader = pd.read_csv('D://Code//nova_receita//socios_fev_2022.csv',\\\n",
    "                             chunksize=1000,\\\n",
    "                             sep=',',\\\n",
    "                             converters={'cnpj': lambda x: str(x),\n",
    "                                         'cnpj_basico': lambda x: str(x)\n",
    "                                        },\\\n",
    "                             usecols=['cnpj', \n",
    "                                      'cnpj_basico', \n",
    "                                      'identificador_de_socio', \n",
    "                                      'nome_socio', \n",
    "                                      'cnpj_cpf_socio', \n",
    "                                      'qualificacao_socio', \n",
    "                                      'pais',\n",
    "                                      'representante_legal', \n",
    "                                      'nome_representante'])"
   ]
  },
  {
   "cell_type": "code",
   "execution_count": null,
   "id": "283f124e-ccdc-4c3d-b571-0fa5399f7b68",
   "metadata": {},
   "outputs": [],
   "source": []
  },
  {
   "cell_type": "code",
   "execution_count": 6,
   "id": "da5b58a7-88ff-4da4-b370-a5a8f8957edd",
   "metadata": {},
   "outputs": [
    {
     "name": "stdout",
     "output_type": "stream",
     "text": [
      "A extração começou às:  2022-03-31 14:28:21.793560\n",
      "A extração terminou às:  2022-03-31 14:30:26.331702\n"
     ]
    }
   ],
   "source": [
    "now = datetime.now()\n",
    "print(\"A extração começou às: \", now)\n",
    "\n",
    "conta = 0\n",
    "for df in TextFileReader:\n",
    "\n",
    "    empresas_encontradas = pd.merge(politicos, \\\n",
    "                                 df, \\\n",
    "                                 left_on= ['nome','cpf_mascarado'], \\\n",
    "                                 right_on=['nome_socio', 'cnpj_cpf_socio'])\n",
    "    \n",
    "    if empresas_encontradas.empty is False:\n",
    "        if conta == 0:\n",
    "            df_socio1 = empresas_encontradas.copy()\n",
    "        else:\n",
    "            df_socio1 = pd.concat([df_socio1, empresas_encontradas])             \n",
    "    \n",
    "        conta = conta + 1\n",
    "        \n",
    "now = datetime.now()\n",
    "print(\"A extração terminou às: \", now)"
   ]
  },
  {
   "cell_type": "code",
   "execution_count": null,
   "id": "fe1ddeb5-f9f5-4308-8806-60362c0fbf7a",
   "metadata": {},
   "outputs": [],
   "source": []
  },
  {
   "cell_type": "code",
   "execution_count": 7,
   "id": "b693bb84-c7a1-4354-8588-3c1651815c4b",
   "metadata": {},
   "outputs": [
    {
     "name": "stdout",
     "output_type": "stream",
     "text": [
      "<class 'pandas.core.frame.DataFrame'>\n",
      "Int64Index: 758 entries, 0 to 0\n",
      "Data columns (total 19 columns):\n",
      " #   Column                  Non-Null Count  Dtype  \n",
      "---  ------                  --------------  -----  \n",
      " 0   nome                    758 non-null    object \n",
      " 1   foto                    758 non-null    object \n",
      " 2   nome_urna               758 non-null    object \n",
      " 3   politico_id             758 non-null    object \n",
      " 4   partido_eleicao         758 non-null    object \n",
      " 5   partido_atual           758 non-null    object \n",
      " 6   uri                     758 non-null    object \n",
      " 7   sequencial_candidato    758 non-null    object \n",
      " 8   bancada_ruralista       402 non-null    object \n",
      " 9   cpf_mascarado           758 non-null    object \n",
      " 10  cnpj                    758 non-null    object \n",
      " 11  cnpj_basico             758 non-null    object \n",
      " 12  identificador_de_socio  758 non-null    int64  \n",
      " 13  nome_socio              758 non-null    object \n",
      " 14  cnpj_cpf_socio          758 non-null    object \n",
      " 15  qualificacao_socio      758 non-null    int64  \n",
      " 16  pais                    0 non-null      float64\n",
      " 17  representante_legal     758 non-null    object \n",
      " 18  nome_representante      2 non-null      object \n",
      "dtypes: float64(1), int64(2), object(16)\n",
      "memory usage: 118.4+ KB\n"
     ]
    }
   ],
   "source": [
    "df_socio1.info()"
   ]
  },
  {
   "cell_type": "code",
   "execution_count": null,
   "id": "f65b5c46-57be-44cb-8fba-9f5586b29b4e",
   "metadata": {},
   "outputs": [],
   "source": []
  },
  {
   "cell_type": "code",
   "execution_count": null,
   "id": "4b862850-8c04-4782-b29b-ac2db23f69a2",
   "metadata": {},
   "outputs": [],
   "source": []
  },
  {
   "cell_type": "code",
   "execution_count": 8,
   "id": "dbf9efac-f168-4ee4-83be-c5b3e25370ea",
   "metadata": {},
   "outputs": [],
   "source": [
    "TextFileReader = pd.read_csv('D://Code//nova_receita//empresas_fev_2022.csv',\\\n",
    "                             chunksize=1000,\\\n",
    "                             sep=',',\\\n",
    "                             converters={'cnpj_basico': lambda x: str(x)},\\\n",
    "                             usecols=['cnpj_basico', \n",
    "                                      'razao_social'])"
   ]
  },
  {
   "cell_type": "code",
   "execution_count": null,
   "id": "2a5dc3ba-60bf-441c-b576-8285036958b5",
   "metadata": {},
   "outputs": [],
   "source": []
  },
  {
   "cell_type": "code",
   "execution_count": 9,
   "id": "0ceffa26-caaa-48b8-8380-1c9716cfd6d9",
   "metadata": {},
   "outputs": [
    {
     "name": "stdout",
     "output_type": "stream",
     "text": [
      "A extração começou às:  2022-03-31 14:32:07.862947\n",
      "A extração terminou às:  2022-03-31 14:36:07.583292\n"
     ]
    }
   ],
   "source": [
    "now = datetime.now()\n",
    "print(\"A extração começou às: \", now)\n",
    "\n",
    "conta = 0\n",
    "for df in TextFileReader:\n",
    "\n",
    "    empresas_encontradas = pd.merge(df_socio1, \\\n",
    "                                 df, \\\n",
    "                                 left_on= 'cnpj_basico', \\\n",
    "                                 right_on='cnpj_basico')\n",
    "    \n",
    "    if empresas_encontradas.empty is False:\n",
    "        if conta == 0:\n",
    "            df_empresas1 = empresas_encontradas.copy()\n",
    "        else:\n",
    "             df_empresas1 = pd.concat([df_empresas1, empresas_encontradas])             \n",
    "    \n",
    "        conta = conta + 1\n",
    "        \n",
    "now = datetime.now()\n",
    "print(\"A extração terminou às: \", now)"
   ]
  },
  {
   "cell_type": "code",
   "execution_count": null,
   "id": "1ed3b2d2-750c-489d-82a7-22a3ce9ba294",
   "metadata": {},
   "outputs": [],
   "source": []
  },
  {
   "cell_type": "code",
   "execution_count": 10,
   "id": "2839dfcc-fd91-43b9-9857-f4c3e03cacc9",
   "metadata": {},
   "outputs": [
    {
     "name": "stdout",
     "output_type": "stream",
     "text": [
      "<class 'pandas.core.frame.DataFrame'>\n",
      "Int64Index: 758 entries, 0 to 0\n",
      "Data columns (total 20 columns):\n",
      " #   Column                  Non-Null Count  Dtype  \n",
      "---  ------                  --------------  -----  \n",
      " 0   nome                    758 non-null    object \n",
      " 1   foto                    758 non-null    object \n",
      " 2   nome_urna               758 non-null    object \n",
      " 3   politico_id             758 non-null    object \n",
      " 4   partido_eleicao         758 non-null    object \n",
      " 5   partido_atual           758 non-null    object \n",
      " 6   uri                     758 non-null    object \n",
      " 7   sequencial_candidato    758 non-null    object \n",
      " 8   bancada_ruralista       402 non-null    object \n",
      " 9   cpf_mascarado           758 non-null    object \n",
      " 10  cnpj                    758 non-null    object \n",
      " 11  cnpj_basico             758 non-null    object \n",
      " 12  identificador_de_socio  758 non-null    int64  \n",
      " 13  nome_socio              758 non-null    object \n",
      " 14  cnpj_cpf_socio          758 non-null    object \n",
      " 15  qualificacao_socio      758 non-null    int64  \n",
      " 16  pais                    0 non-null      float64\n",
      " 17  representante_legal     758 non-null    object \n",
      " 18  nome_representante      2 non-null      object \n",
      " 19  razao_social            758 non-null    object \n",
      "dtypes: float64(1), int64(2), object(17)\n",
      "memory usage: 124.4+ KB\n"
     ]
    }
   ],
   "source": [
    " df_empresas1.info()"
   ]
  },
  {
   "cell_type": "code",
   "execution_count": null,
   "id": "26ff6087-572a-430c-b189-07a447591c7e",
   "metadata": {},
   "outputs": [],
   "source": []
  },
  {
   "cell_type": "code",
   "execution_count": 11,
   "id": "b6ace5d8-1cbd-4a50-84b5-a797617c1c7d",
   "metadata": {},
   "outputs": [],
   "source": [
    "TextFileReader = pd.read_csv('D://Code//nova_receita//estabelecimentos_fev_2022.csv',\\\n",
    "                             chunksize=1000,\\\n",
    "                             sep=',',\\\n",
    "                             converters={'cnpj_basico': lambda x: str(x),\n",
    "                                         'cnpj': lambda x: str(x),\n",
    "                                         'situacao_cadastral': lambda x: str(x),\n",
    "                                         'cnae_fiscal': lambda x: str(x),\n",
    "                                         'cnae_fiscal_secundaria': lambda x: str(x),\n",
    "                                         'municipio': lambda x: str(x)\n",
    "                                        },\\\n",
    "                             usecols=['cnpj_basico', \n",
    "                                      'cnpj', \n",
    "                                      'nome_fantasia', \n",
    "                                      'situacao_cadastral', \n",
    "                                      'cnae_fiscal', \n",
    "                                      'cnae_fiscal_secundaria', \n",
    "                                      'uf', \n",
    "                                      'municipio'])"
   ]
  },
  {
   "cell_type": "code",
   "execution_count": null,
   "id": "830e82df-98f9-4a7e-953c-7a55f8e792dc",
   "metadata": {},
   "outputs": [],
   "source": []
  },
  {
   "cell_type": "code",
   "execution_count": 12,
   "id": "387da358-94de-488e-8aa4-b1d82bda1ed2",
   "metadata": {},
   "outputs": [
    {
     "name": "stdout",
     "output_type": "stream",
     "text": [
      "A extração começou às:  2022-03-31 14:36:36.602095\n",
      "A extração terminou às:  2022-03-31 14:43:23.328621\n"
     ]
    }
   ],
   "source": [
    "now = datetime.now()\n",
    "print(\"A extração começou às: \", now)\n",
    "\n",
    "conta = 0\n",
    "for df in TextFileReader:\n",
    "\n",
    "    empresas_encontradas = pd.merge(df_empresas1, \\\n",
    "                                 df, \\\n",
    "                                 left_on= 'cnpj', \\\n",
    "                                 right_on='cnpj')\n",
    "    \n",
    "    if empresas_encontradas.empty is False:\n",
    "        if conta == 0:\n",
    "            df_empresas_final = empresas_encontradas.copy()\n",
    "        else:\n",
    "             df_empresas_final = pd.concat([df_empresas_final, empresas_encontradas])             \n",
    "    \n",
    "        conta = conta + 1\n",
    "        \n",
    "now = datetime.now()\n",
    "print(\"A extração terminou às: \", now)"
   ]
  },
  {
   "cell_type": "code",
   "execution_count": null,
   "id": "bbc36c30-9d8b-4869-b627-bb51ccecb2d2",
   "metadata": {},
   "outputs": [],
   "source": []
  },
  {
   "cell_type": "code",
   "execution_count": 13,
   "id": "08de8352-cfd9-41b6-938e-6c08ccdfe2e6",
   "metadata": {},
   "outputs": [
    {
     "name": "stdout",
     "output_type": "stream",
     "text": [
      "<class 'pandas.core.frame.DataFrame'>\n",
      "Int64Index: 758 entries, 0 to 0\n",
      "Data columns (total 27 columns):\n",
      " #   Column                  Non-Null Count  Dtype  \n",
      "---  ------                  --------------  -----  \n",
      " 0   nome                    758 non-null    object \n",
      " 1   foto                    758 non-null    object \n",
      " 2   nome_urna               758 non-null    object \n",
      " 3   politico_id             758 non-null    object \n",
      " 4   partido_eleicao         758 non-null    object \n",
      " 5   partido_atual           758 non-null    object \n",
      " 6   uri                     758 non-null    object \n",
      " 7   sequencial_candidato    758 non-null    object \n",
      " 8   bancada_ruralista       402 non-null    object \n",
      " 9   cpf_mascarado           758 non-null    object \n",
      " 10  cnpj                    758 non-null    object \n",
      " 11  cnpj_basico_x           758 non-null    object \n",
      " 12  identificador_de_socio  758 non-null    int64  \n",
      " 13  nome_socio              758 non-null    object \n",
      " 14  cnpj_cpf_socio          758 non-null    object \n",
      " 15  qualificacao_socio      758 non-null    int64  \n",
      " 16  pais                    0 non-null      float64\n",
      " 17  representante_legal     758 non-null    object \n",
      " 18  nome_representante      2 non-null      object \n",
      " 19  razao_social            758 non-null    object \n",
      " 20  cnpj_basico_y           758 non-null    object \n",
      " 21  nome_fantasia           444 non-null    object \n",
      " 22  situacao_cadastral      758 non-null    object \n",
      " 23  cnae_fiscal             758 non-null    object \n",
      " 24  cnae_fiscal_secundaria  758 non-null    object \n",
      " 25  uf                      758 non-null    object \n",
      " 26  municipio               758 non-null    object \n",
      "dtypes: float64(1), int64(2), object(24)\n",
      "memory usage: 165.8+ KB\n"
     ]
    }
   ],
   "source": [
    " df_empresas_final.info()"
   ]
  },
  {
   "cell_type": "code",
   "execution_count": null,
   "id": "c8f5bf13-db6c-4f04-9a32-e1ea511284d0",
   "metadata": {},
   "outputs": [],
   "source": []
  },
  {
   "cell_type": "code",
   "execution_count": 14,
   "id": "ddb5d51e-fdb6-4dcb-aed2-fec8ca077acc",
   "metadata": {},
   "outputs": [],
   "source": [
    " df_empresas_final.to_excel('resultados/empresas_deputados/empresas_deputados_fev_2022.xlsx',sheet_name='Sheet1',index=False)"
   ]
  },
  {
   "cell_type": "code",
   "execution_count": null,
   "id": "7dbc50d8-f801-4e80-b03d-a8436dbadac9",
   "metadata": {},
   "outputs": [],
   "source": []
  },
  {
   "cell_type": "code",
   "execution_count": 23,
   "id": "56434652-5cd6-482e-9eca-ef1d0ead84b9",
   "metadata": {},
   "outputs": [],
   "source": [
    "df_empresas_deputados = df_empresas_final[['nome', 'nome_urna', 'politico_id', 'cpf_mascarado', 'cnpj', 'cnpj_basico_x', 'nome_socio', 'cnpj_cpf_socio', 'razao_social', 'nome_fantasia', 'situacao_cadastral', 'cnae_fiscal', 'cnae_fiscal_secundaria', 'uf', 'municipio']].copy()"
   ]
  },
  {
   "cell_type": "code",
   "execution_count": 24,
   "id": "3355ad91-484f-4171-a428-dd03b99eb877",
   "metadata": {},
   "outputs": [],
   "source": [
    "df_empresas_deputados.rename(columns = {'cnpj_basico_x':'cnpj_raiz'},inplace = True)"
   ]
  },
  {
   "cell_type": "code",
   "execution_count": 26,
   "id": "d0f75e77-5693-4f4e-aed2-12a57e8abf56",
   "metadata": {},
   "outputs": [],
   "source": [
    "df_empresas_deputados.to_csv('resultados/empresas_deputados/todas_empresas_deputados_fev_2022.csv',index=False)"
   ]
  },
  {
   "cell_type": "code",
   "execution_count": null,
   "id": "e624ec2f-60f0-4816-a383-f7f32e903feb",
   "metadata": {},
   "outputs": [],
   "source": []
  },
  {
   "cell_type": "code",
   "execution_count": null,
   "id": "4c088331-c4b7-4725-bcf2-e864143f29b8",
   "metadata": {},
   "outputs": [],
   "source": []
  },
  {
   "cell_type": "code",
   "execution_count": 15,
   "id": "d12a36c8-1a89-4cea-8c14-a3fe9244819e",
   "metadata": {},
   "outputs": [],
   "source": [
    "df_empresas_limpo =  df_empresas_final[['cnpj', 'cnpj_basico_x']]"
   ]
  },
  {
   "cell_type": "code",
   "execution_count": 16,
   "id": "dbf300aa-fb24-4f2c-bfbc-bcfeb8521872",
   "metadata": {},
   "outputs": [],
   "source": [
    "TextFileReader = pd.read_csv('D://Code//nova_receita//socios_fev_2022.csv',\\\n",
    "                             chunksize=1000,\\\n",
    "                             sep=',',\\\n",
    "                             converters={'cnpj': lambda x: str(x),\n",
    "                                         'cnpj_basico': lambda x: str(x)\n",
    "                                        },\\\n",
    "                             usecols=['cnpj', \n",
    "                                      'cnpj_basico', \n",
    "                                      'identificador_de_socio', \n",
    "                                      'nome_socio', \n",
    "                                      'cnpj_cpf_socio', \n",
    "                                      'qualificacao_socio', \n",
    "                                      'pais',\n",
    "                                      'representante_legal', \n",
    "                                      'nome_representante'])"
   ]
  },
  {
   "cell_type": "code",
   "execution_count": 17,
   "id": "2d86f1d3-5876-4241-aa8d-54ff0f822b3d",
   "metadata": {},
   "outputs": [
    {
     "name": "stdout",
     "output_type": "stream",
     "text": [
      "A extração começou às:  2022-03-31 14:59:33.626637\n",
      "A extração terminou às:  2022-03-31 15:01:48.647273\n"
     ]
    }
   ],
   "source": [
    "now = datetime.now()\n",
    "print(\"A extração começou às: \", now)\n",
    "\n",
    "conta = 0\n",
    "for df in TextFileReader:\n",
    "\n",
    "    empresas_encontradas = pd.merge(df_empresas_limpo, \\\n",
    "                                 df, \\\n",
    "                                 left_on= 'cnpj', \\\n",
    "                                 right_on='cnpj')\n",
    "    \n",
    "    if empresas_encontradas.empty is False:\n",
    "        if conta == 0:\n",
    "            df_socio1 = empresas_encontradas.copy()\n",
    "        else:\n",
    "            df_socio1 = pd.concat([df_socio1, empresas_encontradas])             \n",
    "    \n",
    "        conta = conta + 1\n",
    "        \n",
    "now = datetime.now()\n",
    "print(\"A extração terminou às: \", now)"
   ]
  },
  {
   "cell_type": "code",
   "execution_count": 18,
   "id": "f0f56a0f-20c7-4a40-8ef1-0369b26727aa",
   "metadata": {},
   "outputs": [
    {
     "name": "stdout",
     "output_type": "stream",
     "text": [
      "<class 'pandas.core.frame.DataFrame'>\n",
      "Int64Index: 2101 entries, 0 to 11\n",
      "Data columns (total 10 columns):\n",
      " #   Column                  Non-Null Count  Dtype  \n",
      "---  ------                  --------------  -----  \n",
      " 0   cnpj                    2101 non-null   object \n",
      " 1   cnpj_basico_x           2101 non-null   object \n",
      " 2   cnpj_basico             2101 non-null   object \n",
      " 3   identificador_de_socio  2101 non-null   int64  \n",
      " 4   nome_socio              2101 non-null   object \n",
      " 5   cnpj_cpf_socio          2099 non-null   object \n",
      " 6   qualificacao_socio      2101 non-null   int64  \n",
      " 7   pais                    3 non-null      float64\n",
      " 8   representante_legal     2101 non-null   object \n",
      " 9   nome_representante      88 non-null     object \n",
      "dtypes: float64(1), int64(2), object(7)\n",
      "memory usage: 180.6+ KB\n"
     ]
    }
   ],
   "source": [
    "df_socio1.info()"
   ]
  },
  {
   "cell_type": "code",
   "execution_count": null,
   "id": "0c4e64c7-a202-43ef-9898-53e9c02ff184",
   "metadata": {},
   "outputs": [],
   "source": []
  },
  {
   "cell_type": "code",
   "execution_count": 27,
   "id": "c5bba637-f3a3-4854-845e-2d77c113924a",
   "metadata": {},
   "outputs": [],
   "source": [
    "df_empresas_deputados_socios = df_socio1[['cnpj', 'cnpj_basico', 'nome_socio', 'cnpj_cpf_socio']].copy()\n",
    "df_empresas_deputados_socios.rename(columns = {'cnpj_basico':'cnpj_raiz'},inplace = True)"
   ]
  },
  {
   "cell_type": "code",
   "execution_count": null,
   "id": "5680e9ef-b390-4021-a1ed-978ba8091cbf",
   "metadata": {},
   "outputs": [],
   "source": []
  },
  {
   "cell_type": "code",
   "execution_count": 28,
   "id": "1f2775ca-f105-4c4a-a6c7-ddf768a88391",
   "metadata": {},
   "outputs": [],
   "source": [
    "df_empresas_deputados_socios.to_csv('resultados/empresas_deputados/todos_socios_empresas_deputados_fev_2022.csv',index=False)"
   ]
  },
  {
   "cell_type": "code",
   "execution_count": 19,
   "id": "9dd2df43-6bf7-4913-9662-be5d23ff3cdf",
   "metadata": {},
   "outputs": [],
   "source": [
    "df_socio1.to_excel('resultados/empresas_deputados/todos_socios_empresas_deputados_fev_2022.xlsx',sheet_name='Sheet1',index=False)"
   ]
  },
  {
   "cell_type": "code",
   "execution_count": null,
   "id": "7c514e3d-ea1e-4d28-bd20-904acd0e8cac",
   "metadata": {},
   "outputs": [],
   "source": []
  }
 ],
 "metadata": {
  "kernelspec": {
   "display_name": "Python 3",
   "language": "python",
   "name": "python3"
  },
  "language_info": {
   "codemirror_mode": {
    "name": "ipython",
    "version": 3
   },
   "file_extension": ".py",
   "mimetype": "text/x-python",
   "name": "python",
   "nbconvert_exporter": "python",
   "pygments_lexer": "ipython3",
   "version": "3.8.2"
  }
 },
 "nbformat": 4,
 "nbformat_minor": 5
}
