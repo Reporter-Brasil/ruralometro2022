{
 "cells": [
  {
   "cell_type": "code",
   "execution_count": null,
   "id": "095ef75e-a85e-45f5-a5ae-65ecfac43ad0",
   "metadata": {},
   "outputs": [],
   "source": [
    "# -*- coding: utf-8\n",
    "# Repórter Brasil (https://ruralometro2022.reporterbrasil.org.br/)\n",
    "# Reinaldo Chaves (@paidatocandeira)\n",
    "# Filtra as empresas de deputados, ativas e inativas e que aparecem no quadro de sócios e \n",
    "# administradores (QSA), que possuem Classificação Nacional de Atividades Econômicas – CNAE \n",
    "# com atividades relacionadas à agricultura ou extração que envolva questões ambientais"
   ]
  },
  {
   "cell_type": "code",
   "execution_count": null,
   "id": "beb4ac3e-27bb-4659-bfe3-b323dd271b3e",
   "metadata": {},
   "outputs": [],
   "source": []
  },
  {
   "cell_type": "code",
   "execution_count": 2,
   "id": "6fb1f0f1-6b75-4db2-ae69-5b190e131b15",
   "metadata": {},
   "outputs": [],
   "source": [
    "import pandas as pd\n",
    "import unidecode"
   ]
  },
  {
   "cell_type": "code",
   "execution_count": null,
   "id": "b076bf0f-7d0b-4609-8435-a11247ecb0b0",
   "metadata": {},
   "outputs": [],
   "source": []
  },
  {
   "cell_type": "code",
   "execution_count": 3,
   "id": "72b86ecf-80ac-4ef9-adea-4c082ac3a375",
   "metadata": {},
   "outputs": [],
   "source": [
    "def f(str):\n",
    "    try:\n",
    "        return (unidecode.unidecode(str))\n",
    "    except:\n",
    "        return (str)"
   ]
  },
  {
   "cell_type": "code",
   "execution_count": null,
   "id": "3f53a5ca-7a01-48ad-980c-3a586fecb9a9",
   "metadata": {},
   "outputs": [],
   "source": []
  },
  {
   "cell_type": "code",
   "execution_count": 4,
   "id": "f8a3b322-ac7d-4300-97e9-37f7ff529bf5",
   "metadata": {},
   "outputs": [],
   "source": [
    "kwargs = {'sep': ',', 'dtype': str, 'encoding': 'utf-8'}\n",
    "empresas_politicos = pd.read_csv(\"resultados/empresas_deputados/empresas_deputados_fev_2022.csv\", **kwargs)"
   ]
  },
  {
   "cell_type": "code",
   "execution_count": 5,
   "id": "64a603f7-69b5-48a4-8c2f-d7bd30764a73",
   "metadata": {},
   "outputs": [
    {
     "name": "stdout",
     "output_type": "stream",
     "text": [
      "<class 'pandas.core.frame.DataFrame'>\n",
      "RangeIndex: 758 entries, 0 to 757\n",
      "Data columns (total 15 columns):\n",
      " #   Column                  Non-Null Count  Dtype \n",
      "---  ------                  --------------  ----- \n",
      " 0   nome                    758 non-null    object\n",
      " 1   nome_urna               758 non-null    object\n",
      " 2   politico_id             758 non-null    object\n",
      " 3   cpf_mascarado           758 non-null    object\n",
      " 4   cnpj                    758 non-null    object\n",
      " 5   cnpj_basico_x           758 non-null    object\n",
      " 6   nome_socio              758 non-null    object\n",
      " 7   cnpj_cpf_socio          758 non-null    object\n",
      " 8   razao_social            758 non-null    object\n",
      " 9   nome_fantasia           444 non-null    object\n",
      " 10  situacao_cadastral      758 non-null    object\n",
      " 11  cnae_fiscal             758 non-null    object\n",
      " 12  cnae_fiscal_secundaria  441 non-null    object\n",
      " 13  uf                      758 non-null    object\n",
      " 14  municipio               758 non-null    object\n",
      "dtypes: object(15)\n",
      "memory usage: 89.0+ KB\n"
     ]
    }
   ],
   "source": [
    "empresas_politicos.info()"
   ]
  },
  {
   "cell_type": "code",
   "execution_count": null,
   "id": "486cfcf7-f2ee-4652-b593-729287d606d3",
   "metadata": {},
   "outputs": [],
   "source": []
  },
  {
   "cell_type": "code",
   "execution_count": 6,
   "id": "f8e385ba-d16a-4eed-bacd-56c6f70a0a06",
   "metadata": {},
   "outputs": [
    {
     "name": "stdout",
     "output_type": "stream",
     "text": [
      "<class 'pandas.core.frame.DataFrame'>\n",
      "RangeIndex: 195 entries, 0 to 194\n",
      "Data columns (total 2 columns):\n",
      " #   Column     Non-Null Count  Dtype \n",
      "---  ------     --------------  ----- \n",
      " 0   codigo     195 non-null    object\n",
      " 1   descricao  195 non-null    object\n",
      "dtypes: object(2)\n",
      "memory usage: 3.2+ KB\n"
     ]
    }
   ],
   "source": [
    "cnae_interesse = pd.read_excel(\"originais/filtros_cnae.xlsx\", sheet_name = 'cnae', dtype = 'str')\n",
    "cnae_interesse.info()"
   ]
  },
  {
   "cell_type": "code",
   "execution_count": 7,
   "id": "5d0d2afa-349d-46bf-9beb-02fe2ce4bad7",
   "metadata": {},
   "outputs": [],
   "source": [
    "cnae_interesse.rename(columns = {'codigo':'cnae_fiscal'},inplace = True)\n",
    "cnae_interesse.rename(columns = {'descricao':'cnae_fiscal_descricao'},inplace = True)"
   ]
  },
  {
   "cell_type": "code",
   "execution_count": null,
   "id": "db8631e6-280d-438e-aa8d-b8b0171e2725",
   "metadata": {},
   "outputs": [],
   "source": []
  },
  {
   "cell_type": "code",
   "execution_count": 8,
   "id": "a27b4e73-9f9e-49d2-9bb4-74abda457a77",
   "metadata": {},
   "outputs": [],
   "source": [
    "empresas_cnae = pd.merge(empresas_politicos, cnae_interesse, left_on='cnae_fiscal', right_on='cnae_fiscal')"
   ]
  },
  {
   "cell_type": "code",
   "execution_count": 10,
   "id": "604c4eca-8ac6-4a00-bc32-2fe47f1671c9",
   "metadata": {},
   "outputs": [
    {
     "name": "stdout",
     "output_type": "stream",
     "text": [
      "<class 'pandas.core.frame.DataFrame'>\n",
      "Int64Index: 46 entries, 0 to 45\n",
      "Data columns (total 16 columns):\n",
      " #   Column                  Non-Null Count  Dtype \n",
      "---  ------                  --------------  ----- \n",
      " 0   nome                    46 non-null     object\n",
      " 1   nome_urna               46 non-null     object\n",
      " 2   politico_id             46 non-null     object\n",
      " 3   cpf_mascarado           46 non-null     object\n",
      " 4   cnpj                    46 non-null     object\n",
      " 5   cnpj_basico_x           46 non-null     object\n",
      " 6   nome_socio              46 non-null     object\n",
      " 7   cnpj_cpf_socio          46 non-null     object\n",
      " 8   razao_social            46 non-null     object\n",
      " 9   nome_fantasia           25 non-null     object\n",
      " 10  situacao_cadastral      46 non-null     object\n",
      " 11  cnae_fiscal             46 non-null     object\n",
      " 12  cnae_fiscal_secundaria  35 non-null     object\n",
      " 13  uf                      46 non-null     object\n",
      " 14  municipio               46 non-null     object\n",
      " 15  cnae_fiscal_descricao   46 non-null     object\n",
      "dtypes: object(16)\n",
      "memory usage: 6.1+ KB\n"
     ]
    }
   ],
   "source": [
    "empresas_cnae.info()"
   ]
  },
  {
   "cell_type": "code",
   "execution_count": null,
   "id": "6b65dad4-55ce-46de-a2d5-132bdcda1238",
   "metadata": {},
   "outputs": [],
   "source": []
  },
  {
   "cell_type": "code",
   "execution_count": 11,
   "id": "ab2162c4-d176-4fce-853b-35a9b70e63e1",
   "metadata": {},
   "outputs": [],
   "source": [
    "empresas_cnae.to_excel('resultados/empresas_deputados/apenas_cnae_interesse_empresas_deputados_fev_2022.xlsx',sheet_name='Sheet1',index=False)"
   ]
  },
  {
   "cell_type": "code",
   "execution_count": null,
   "id": "c6fba868-92ea-4580-9a3e-4f94388629c5",
   "metadata": {},
   "outputs": [],
   "source": []
  },
  {
   "cell_type": "code",
   "execution_count": 12,
   "id": "2035f27e-3444-498d-a8d3-bbcfa409cf0f",
   "metadata": {},
   "outputs": [],
   "source": [
    "df_empresas_recorte = empresas_cnae[['cnpj', 'politico_id']].copy()"
   ]
  },
  {
   "cell_type": "code",
   "execution_count": 14,
   "id": "fb9289b1-d882-45e9-9b74-c7dc3bea5291",
   "metadata": {},
   "outputs": [],
   "source": [
    "df_empresas_recorte.to_csv('resultados/empresas_deputados/apenas_cnae_interesse_empresas_deputados_fev_2022.csv',index=False)"
   ]
  },
  {
   "cell_type": "code",
   "execution_count": null,
   "id": "a7c64c6e-ffb6-4774-a68c-f81bc7f37735",
   "metadata": {},
   "outputs": [],
   "source": []
  }
 ],
 "metadata": {
  "kernelspec": {
   "display_name": "Python 3",
   "language": "python",
   "name": "python3"
  },
  "language_info": {
   "codemirror_mode": {
    "name": "ipython",
    "version": 3
   },
   "file_extension": ".py",
   "mimetype": "text/x-python",
   "name": "python",
   "nbconvert_exporter": "python",
   "pygments_lexer": "ipython3",
   "version": "3.8.2"
  }
 },
 "nbformat": 4,
 "nbformat_minor": 5
}
