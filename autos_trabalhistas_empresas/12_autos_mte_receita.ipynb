{
 "cells": [
  {
   "cell_type": "code",
   "execution_count": null,
   "id": "f6aba905-c807-468a-a216-34c37c269a56",
   "metadata": {},
   "outputs": [],
   "source": [
    "# -*- coding: utf-8\n",
    "# Repórter Brasil (https://ruralometro2022.reporterbrasil.org.br/)\n",
    "# Reinaldo Chaves (@paidatocandeira)\n",
    "# Procura empresas de deputados federais inscritas em autos de infração trabalhista \n",
    "# do antigo Ministério do Trabalho"
   ]
  },
  {
   "cell_type": "code",
   "execution_count": null,
   "id": "d87c7923-47fe-41c4-98d1-46254d864671",
   "metadata": {},
   "outputs": [],
   "source": []
  },
  {
   "cell_type": "code",
   "execution_count": 1,
   "id": "f2d89fce-4eaa-4145-8a0f-b79daa979ae8",
   "metadata": {},
   "outputs": [],
   "source": [
    "import pandas as pd\n",
    "import unidecode"
   ]
  },
  {
   "cell_type": "code",
   "execution_count": null,
   "id": "0cea0507-2a2f-4058-ba31-e075226d2507",
   "metadata": {},
   "outputs": [],
   "source": []
  },
  {
   "cell_type": "code",
   "execution_count": 2,
   "id": "9298d527-2f4c-4a2e-aa57-dcc1c297214c",
   "metadata": {},
   "outputs": [],
   "source": [
    "def f(str):\n",
    "    try:\n",
    "        return (unidecode.unidecode(str))\n",
    "    except:\n",
    "        return (str)"
   ]
  },
  {
   "cell_type": "code",
   "execution_count": null,
   "id": "44646db3-85c0-42c5-9ff8-f310d6e56473",
   "metadata": {},
   "outputs": [],
   "source": []
  },
  {
   "cell_type": "code",
   "execution_count": 3,
   "id": "dbc5abec-b355-481c-afd9-33660a165d8f",
   "metadata": {},
   "outputs": [],
   "source": [
    "kwargs = {'sep': ';', 'dtype': str, 'encoding': 'utf-8'}\n",
    "autos_mte = pd.read_csv(\"originais/autos_mte_10anos.csv\", **kwargs)\n",
    "autos_mte = autos_mte[pd.notnull(autos_mte['cpf_cnpj_infrator'])]\n",
    "def limpeza1(linha):\n",
    "    documento = str(linha[\"cpf_cnpj_infrator\"])\n",
    "    documento = documento.strip()\n",
    "    documento = documento.replace('.', '')\n",
    "    documento = documento.replace('-', '')\n",
    "    documento = documento.replace('/', '')\n",
    "    return str(documento)\n",
    "autos_mte[\"cpf_cnpj_infrator\"] = autos_mte.apply(limpeza1, axis=1)\n",
    "# Preenche zeros a esquerda nos documentos\n",
    "def compara1(linha):\n",
    "    documento = str(linha[\"cpf_cnpj_infrator\"])\n",
    "    \n",
    "    if len(documento) < 14 and len(documento) >= 12:\n",
    "        conta = 14 - (len(documento))\n",
    "        zero = '0'\n",
    "        zeros = zero * conta\n",
    "        alterado = zeros + documento\n",
    "    elif len(documento) == 14:\n",
    "        alterado = documento\n",
    "    elif len(documento) < 11:\n",
    "        conta = 11 - (len(documento))\n",
    "        zero = '0'\n",
    "        zeros = zero * conta\n",
    "        alterado = zeros + documento\n",
    "    elif len(documento) == 11:\n",
    "        alterado = documento\n",
    "    \n",
    "    return alterado\n",
    "autos_mte[\"cpf_cnpj_infrator\"] = autos_mte.apply(compara1, axis=1)\n",
    "def limpeza2(linha):\n",
    "    documento = str(linha[\"cpf_cnpj_infrator\"])\n",
    "    if len(documento) > 11:\n",
    "        return documento[:8]\n",
    "    else:\n",
    "        return \"documento_cpf\"\n",
    "\n",
    "autos_mte['cnpj_raiz'] = autos_mte.apply(limpeza2, axis=1)\n",
    "autos_mte_pf = autos_mte[(autos_mte['cnpj_raiz'] == 'documento_cpf')]\n",
    "autos_mte_pj = autos_mte[(autos_mte['cnpj_raiz'] != 'documento_cpf')]\n"
   ]
  },
  {
   "cell_type": "code",
   "execution_count": null,
   "id": "85ef806c-b1b3-45a6-bc30-6826732f386c",
   "metadata": {},
   "outputs": [],
   "source": []
  },
  {
   "cell_type": "code",
   "execution_count": 17,
   "id": "96e5adfb-e9b7-4799-8c2c-641c554170ac",
   "metadata": {},
   "outputs": [],
   "source": [
    "kwargs = {'sep': ',', 'dtype': str, 'encoding': 'utf-8'}\n",
    "empresas_politicos = pd.read_csv(\"resultados/empresas_deputados/empresas_deputados_fev_2022.csv\", **kwargs)"
   ]
  },
  {
   "cell_type": "code",
   "execution_count": null,
   "id": "4e12302c-ea72-4701-b8e4-f1983ae1c701",
   "metadata": {},
   "outputs": [],
   "source": []
  },
  {
   "cell_type": "code",
   "execution_count": 18,
   "id": "5659169d-020f-46a6-8eef-6122a17fc86f",
   "metadata": {},
   "outputs": [],
   "source": [
    "kwargs = {'sep': ',', 'dtype': str, 'encoding': 'utf-8'}\n",
    "empresas_politicos_socios = pd.read_csv(\"resultados/empresas_deputados/todos_socios_empresas_deputados_fev_2022.csv\", **kwargs)"
   ]
  },
  {
   "cell_type": "code",
   "execution_count": null,
   "id": "ba674bfe-326a-4d39-9329-8f8912f1b444",
   "metadata": {},
   "outputs": [],
   "source": []
  },
  {
   "cell_type": "code",
   "execution_count": 19,
   "id": "89e94b93-84c7-49aa-a523-f436f0a7b98b",
   "metadata": {},
   "outputs": [],
   "source": [
    "# Procura empresas de deputados em autos do MTE"
   ]
  },
  {
   "cell_type": "code",
   "execution_count": 20,
   "id": "33578c76-ed85-45d8-9845-b4dd1ef226e8",
   "metadata": {},
   "outputs": [
    {
     "data": {
      "text/plain": [
       "Index(['nome', 'nome_urna', 'politico_id', 'cpf_mascarado', 'cnpj',\n",
       "       'cnpj_basico_x', 'nome_socio', 'cnpj_cpf_socio', 'razao_social',\n",
       "       'nome_fantasia', 'situacao_cadastral', 'cnae_fiscal',\n",
       "       'cnae_fiscal_secundaria', 'uf', 'municipio'],\n",
       "      dtype='object')"
      ]
     },
     "execution_count": 20,
     "metadata": {},
     "output_type": "execute_result"
    }
   ],
   "source": [
    "empresas_politicos.columns"
   ]
  },
  {
   "cell_type": "code",
   "execution_count": 21,
   "id": "c1d3e225-834f-4cde-b409-f4af9ef799be",
   "metadata": {},
   "outputs": [
    {
     "data": {
      "text/plain": [
       "Index(['num_processo', 'cpf_cnpj_infrator', 'tipo_infracao', 'capitulacao',\n",
       "       'valor_multa', 'data', 'reincidencia', 'cnpj_raiz'],\n",
       "      dtype='object')"
      ]
     },
     "execution_count": 21,
     "metadata": {},
     "output_type": "execute_result"
    }
   ],
   "source": [
    "autos_mte_pj.columns"
   ]
  },
  {
   "cell_type": "code",
   "execution_count": 22,
   "id": "a2382a54-db16-4a2d-9664-dff32087c64c",
   "metadata": {},
   "outputs": [
    {
     "data": {
      "text/html": [
       "<div>\n",
       "<style scoped>\n",
       "    .dataframe tbody tr th:only-of-type {\n",
       "        vertical-align: middle;\n",
       "    }\n",
       "\n",
       "    .dataframe tbody tr th {\n",
       "        vertical-align: top;\n",
       "    }\n",
       "\n",
       "    .dataframe thead th {\n",
       "        text-align: right;\n",
       "    }\n",
       "</style>\n",
       "<table border=\"1\" class=\"dataframe\">\n",
       "  <thead>\n",
       "    <tr style=\"text-align: right;\">\n",
       "      <th></th>\n",
       "      <th>cpf_cnpj_infrator</th>\n",
       "    </tr>\n",
       "  </thead>\n",
       "  <tbody>\n",
       "    <tr>\n",
       "      <th>0</th>\n",
       "      <td>01478313000112</td>\n",
       "    </tr>\n",
       "    <tr>\n",
       "      <th>1</th>\n",
       "      <td>76483726001832</td>\n",
       "    </tr>\n",
       "    <tr>\n",
       "      <th>2</th>\n",
       "      <td>07352882000101</td>\n",
       "    </tr>\n",
       "    <tr>\n",
       "      <th>3</th>\n",
       "      <td>04084451000105</td>\n",
       "    </tr>\n",
       "    <tr>\n",
       "      <th>4</th>\n",
       "      <td>07102206000171</td>\n",
       "    </tr>\n",
       "    <tr>\n",
       "      <th>...</th>\n",
       "      <td>...</td>\n",
       "    </tr>\n",
       "    <tr>\n",
       "      <th>1048570</th>\n",
       "      <td>09622736000176</td>\n",
       "    </tr>\n",
       "    <tr>\n",
       "      <th>1048571</th>\n",
       "      <td>27733974000130</td>\n",
       "    </tr>\n",
       "    <tr>\n",
       "      <th>1048572</th>\n",
       "      <td>12542573000126</td>\n",
       "    </tr>\n",
       "    <tr>\n",
       "      <th>1048573</th>\n",
       "      <td>00831373003804</td>\n",
       "    </tr>\n",
       "    <tr>\n",
       "      <th>1048574</th>\n",
       "      <td>08893267000167</td>\n",
       "    </tr>\n",
       "  </tbody>\n",
       "</table>\n",
       "<p>1048575 rows × 1 columns</p>\n",
       "</div>"
      ],
      "text/plain": [
       "        cpf_cnpj_infrator\n",
       "0          01478313000112\n",
       "1          76483726001832\n",
       "2          07352882000101\n",
       "3          04084451000105\n",
       "4          07102206000171\n",
       "...                   ...\n",
       "1048570    09622736000176\n",
       "1048571    27733974000130\n",
       "1048572    12542573000126\n",
       "1048573    00831373003804\n",
       "1048574    08893267000167\n",
       "\n",
       "[1048575 rows x 1 columns]"
      ]
     },
     "execution_count": 22,
     "metadata": {},
     "output_type": "execute_result"
    }
   ],
   "source": [
    "autos_mte[['cpf_cnpj_infrator']]"
   ]
  },
  {
   "cell_type": "code",
   "execution_count": null,
   "id": "9abed9d3-90b8-4570-96ef-932fb5e64d81",
   "metadata": {},
   "outputs": [],
   "source": []
  },
  {
   "cell_type": "code",
   "execution_count": 23,
   "id": "af145428-34fb-43c2-a5e5-f9b5daa1cb12",
   "metadata": {},
   "outputs": [],
   "source": [
    "empresas_mte = pd.merge(empresas_politicos.drop_duplicates('cnpj_basico_x'), autos_mte_pj.drop_duplicates('cnpj_raiz'), left_on='cnpj_basico_x', right_on='cnpj_raiz', how = 'left')"
   ]
  },
  {
   "cell_type": "code",
   "execution_count": 24,
   "id": "6b654e81-5bd0-47e6-9339-8e50b51ef638",
   "metadata": {},
   "outputs": [
    {
     "data": {
      "text/plain": [
       "(35, 23)"
      ]
     },
     "execution_count": 24,
     "metadata": {},
     "output_type": "execute_result"
    }
   ],
   "source": [
    "conta = empresas_mte[pd.notnull(empresas_mte['cpf_cnpj_infrator'])].copy()\n",
    "conta.shape"
   ]
  },
  {
   "cell_type": "code",
   "execution_count": 25,
   "id": "2bbf07d5-f86e-45aa-9b06-941be461e431",
   "metadata": {},
   "outputs": [],
   "source": [
    "conta.to_excel('resultados/empresas_autos_mte/empresas de deputados em autos trabalhistas.xlsx',sheet_name='Sheet1',index=False)"
   ]
  },
  {
   "cell_type": "code",
   "execution_count": null,
   "id": "7aad5c3b-2477-4b01-a8e3-e10cd135adc4",
   "metadata": {},
   "outputs": [],
   "source": []
  },
  {
   "cell_type": "code",
   "execution_count": 26,
   "id": "108eed8b-8b57-4d3c-9f18-ce877db54cce",
   "metadata": {},
   "outputs": [
    {
     "data": {
      "text/plain": [
       "Index(['nome', 'nome_urna', 'politico_id', 'cpf_mascarado', 'cnpj',\n",
       "       'cnpj_basico_x', 'nome_socio', 'cnpj_cpf_socio', 'razao_social',\n",
       "       'nome_fantasia', 'situacao_cadastral', 'cnae_fiscal',\n",
       "       'cnae_fiscal_secundaria', 'uf', 'municipio', 'num_processo',\n",
       "       'cpf_cnpj_infrator', 'tipo_infracao', 'capitulacao', 'valor_multa',\n",
       "       'data', 'reincidencia', 'cnpj_raiz'],\n",
       "      dtype='object')"
      ]
     },
     "execution_count": 26,
     "metadata": {},
     "output_type": "execute_result"
    }
   ],
   "source": [
    "conta.columns"
   ]
  },
  {
   "cell_type": "code",
   "execution_count": 27,
   "id": "93293d4d-418d-4f0a-a94a-860227049306",
   "metadata": {},
   "outputs": [],
   "source": [
    "conta.rename(columns = {'cnpj':'entidade_id'},inplace = True)\n",
    "conta.rename(columns = {'nome':'politico_nome'},inplace = True)\n",
    "conta.rename(columns = {'razao_social':'entidade_nome'},inplace = True)"
   ]
  },
  {
   "cell_type": "code",
   "execution_count": 28,
   "id": "70ab1a54-b5f0-45a8-b0d6-f9e295a33c2f",
   "metadata": {},
   "outputs": [],
   "source": [
    "conta = conta[['politico_id', 'entidade_id', 'politico_nome', 'entidade_nome']]"
   ]
  },
  {
   "cell_type": "code",
   "execution_count": 29,
   "id": "d5b1ae9d-ea44-4a63-b0ae-1c7f89586b04",
   "metadata": {},
   "outputs": [],
   "source": [
    "conta.to_csv('resultados/empresas_autos_mte/empresas de deputados em autos trabalhistas.csv',index=False)"
   ]
  },
  {
   "cell_type": "code",
   "execution_count": null,
   "id": "ee5b72be-9fe8-4f59-a1ad-08d568fbea4b",
   "metadata": {},
   "outputs": [],
   "source": []
  },
  {
   "cell_type": "code",
   "execution_count": null,
   "id": "d85abb74-090c-454d-bdfe-718081d109ad",
   "metadata": {},
   "outputs": [],
   "source": []
  },
  {
   "cell_type": "code",
   "execution_count": null,
   "id": "2fb48b16-f58a-4a91-b8d5-ed459dd3db92",
   "metadata": {},
   "outputs": [],
   "source": []
  }
 ],
 "metadata": {
  "kernelspec": {
   "display_name": "Python 3",
   "language": "python",
   "name": "python3"
  },
  "language_info": {
   "codemirror_mode": {
    "name": "ipython",
    "version": 3
   },
   "file_extension": ".py",
   "mimetype": "text/x-python",
   "name": "python",
   "nbconvert_exporter": "python",
   "pygments_lexer": "ipython3",
   "version": "3.8.2"
  }
 },
 "nbformat": 4,
 "nbformat_minor": 5
}
