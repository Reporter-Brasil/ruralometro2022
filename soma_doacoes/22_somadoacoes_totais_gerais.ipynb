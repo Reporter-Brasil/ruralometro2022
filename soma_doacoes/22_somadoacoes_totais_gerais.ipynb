{
 "cells": [
  {
   "cell_type": "code",
   "execution_count": null,
   "id": "9a4b4460-5d02-4da9-b8a9-32a9a8383da1",
   "metadata": {},
   "outputs": [],
   "source": [
    "# -*- coding: utf-8\n",
    "# Repórter Brasil (https://ruralometro2022.reporterbrasil.org.br/)\n",
    "# Reinaldo Chaves (@paidatocandeira)\n",
    "# Scripts para somar, sem repetições as doações dos deputados em 2018 - e separa as doações em geral\n",
    "# de cada candidato analisado pelo projeto"
   ]
  },
  {
   "cell_type": "code",
   "execution_count": null,
   "id": "34ad7665-3856-41e3-afa0-75448d310f4b",
   "metadata": {},
   "outputs": [],
   "source": []
  },
  {
   "cell_type": "code",
   "execution_count": 1,
   "id": "567cb72c-69ea-4bc4-a5e5-b271f5913b3b",
   "metadata": {},
   "outputs": [],
   "source": [
    "import pandas as pd"
   ]
  },
  {
   "cell_type": "code",
   "execution_count": null,
   "id": "fe2a5c0f-48df-494a-94aa-80eda1895a37",
   "metadata": {},
   "outputs": [],
   "source": []
  },
  {
   "cell_type": "markdown",
   "id": "734e545d-01e4-48b3-abb5-81858b0879e3",
   "metadata": {},
   "source": [
    "### Doacoes gerais diretas"
   ]
  },
  {
   "cell_type": "code",
   "execution_count": 2,
   "id": "c47439e9-8b26-41e7-8147-1682ff8bb49b",
   "metadata": {},
   "outputs": [],
   "source": [
    "kwargs = {'sep': ',', 'dtype': str, 'encoding': 'utf-8'}\n",
    "doacoes_2018 = pd.read_csv(\"resultados/doacoes/doacoes_geral_politicos_2018.csv\", **kwargs)"
   ]
  },
  {
   "cell_type": "code",
   "execution_count": 3,
   "id": "3579bc59-73a8-4ce7-9a4e-0e265c90de46",
   "metadata": {},
   "outputs": [],
   "source": [
    "doacoes_2018['VR_RECEITA'] = doacoes_2018['VR_RECEITA'].str.replace(',','.')\n",
    "doacoes_2018['VR_RECEITA'] = doacoes_2018['VR_RECEITA'].astype('float64') "
   ]
  },
  {
   "cell_type": "code",
   "execution_count": 4,
   "id": "b8986e18-6c58-4068-950a-39218519bd9a",
   "metadata": {},
   "outputs": [
    {
     "data": {
      "text/plain": [
       "Index(['DT_RECEITA', 'NR_CPF_CANDIDATO', 'SQ_CANDIDATO', 'NM_CANDIDATO',\n",
       "       'DS_FONTE_RECEITA', 'DS_NATUREZA_RECEITA', 'NR_CPF_CNPJ_DOADOR',\n",
       "       'NM_DOADOR_RFB', 'DS_ESFERA_PARTIDARIA_DOADOR', 'NM_PARTIDO_DOADOR',\n",
       "       'SQ_CANDIDATO_DOADOR', 'DS_CARGO_CANDIDATO_DOADOR', 'SG_PARTIDO_DOADOR',\n",
       "       'DS_RECEITA', 'VR_RECEITA'],\n",
       "      dtype='object')"
      ]
     },
     "execution_count": 4,
     "metadata": {},
     "output_type": "execute_result"
    }
   ],
   "source": [
    "doacoes_2018.columns"
   ]
  },
  {
   "cell_type": "code",
   "execution_count": null,
   "id": "ff702617-d025-43d4-9edb-96aa2a6b89fb",
   "metadata": {},
   "outputs": [],
   "source": []
  },
  {
   "cell_type": "markdown",
   "id": "cd59480b-2f10-4ae4-b6a4-9ddea903c88a",
   "metadata": {},
   "source": [
    "### Doações indiretas"
   ]
  },
  {
   "cell_type": "code",
   "execution_count": 5,
   "id": "e4c844be-6a7e-4968-8026-a4bff1972a8e",
   "metadata": {},
   "outputs": [],
   "source": [
    "doacoes_indiretas_2018 = pd.read_excel('resultados/doacoes/doacoes_todas_indiretas_politicos_2018.xlsx', sheet_name = 'Sheet1', dtype = 'str')"
   ]
  },
  {
   "cell_type": "code",
   "execution_count": 6,
   "id": "7b78c1ef-5220-4089-9757-293a58327720",
   "metadata": {},
   "outputs": [
    {
     "data": {
      "text/plain": [
       "Index(['DT_GERACAO', 'HH_GERACAO', 'ANO_ELEICAO', 'CD_TIPO_ELEICAO',\n",
       "       'NM_TIPO_ELEICAO', 'CD_ELEICAO', 'DS_ELEICAO', 'DT_ELEICAO', 'ST_TURNO',\n",
       "       'TP_PRESTACAO_CONTAS', 'DT_PRESTACAO_CONTAS', 'SQ_PRESTADOR_CONTAS',\n",
       "       'SG_UF', 'SG_UE', 'NM_UE', 'NR_CNPJ_PRESTADOR_CONTA', 'CD_CARGO',\n",
       "       'DS_CARGO', 'SQ_CANDIDATO', 'NR_CANDIDATO', 'NM_CANDIDATO',\n",
       "       'NR_CPF_CANDIDATO', 'NR_CPF_VICE_CANDIDATO', 'NR_PARTIDO', 'SG_PARTIDO',\n",
       "       'NM_PARTIDO', 'CD_FONTE_RECEITA', 'DS_FONTE_RECEITA',\n",
       "       'CD_ORIGEM_RECEITA', 'DS_ORIGEM_RECEITA', 'CD_NATUREZA_RECEITA',\n",
       "       'DS_NATUREZA_RECEITA', 'CD_ESPECIE_RECEITA', 'DS_ESPECIE_RECEITA',\n",
       "       'CD_CNAE_DOADOR', 'DS_CNAE_DOADOR', 'NR_CPF_CNPJ_DOADOR', 'NM_DOADOR',\n",
       "       'NM_DOADOR_RFB', 'CD_ESFERA_PARTIDARIA_DOADOR',\n",
       "       'DS_ESFERA_PARTIDARIA_DOADOR', 'SG_UF_DOADOR', 'CD_MUNICIPIO_DOADOR',\n",
       "       'NM_MUNICIPIO_DOADOR', 'SQ_CANDIDATO_DOADOR', 'NR_CANDIDATO_DOADOR',\n",
       "       'CD_CARGO_CANDIDATO_DOADOR', 'DS_CARGO_CANDIDATO_DOADOR',\n",
       "       'NR_PARTIDO_DOADOR', 'SG_PARTIDO_DOADOR', 'NM_PARTIDO_DOADOR',\n",
       "       'NR_RECIBO_DOACAO', 'NR_DOCUMENTO_DOACAO', 'SQ_RECEITA', 'DT_RECEITA',\n",
       "       'DS_RECEITA', 'VR_RECEITA', 'cpf_doacoaindireta', 'nome_doacoaindireta',\n",
       "       'sq_doacoaindireta', 'nome', 'foto', 'nome_urna', 'politico_id',\n",
       "       'partido_eleicao', 'partido_atual', 'uri', 'sequencial_candidato'],\n",
       "      dtype='object')"
      ]
     },
     "execution_count": 6,
     "metadata": {},
     "output_type": "execute_result"
    }
   ],
   "source": [
    "doacoes_indiretas_2018.columns"
   ]
  },
  {
   "cell_type": "code",
   "execution_count": 7,
   "id": "62d4dbb0-4b05-4daa-a08f-7458a87662da",
   "metadata": {},
   "outputs": [],
   "source": [
    "doacoes_indiretas_2018['VR_RECEITA'] = doacoes_indiretas_2018['VR_RECEITA'].str.replace(',','.')\n",
    "doacoes_indiretas_2018['VR_RECEITA'] = doacoes_indiretas_2018['VR_RECEITA'].astype('float64') "
   ]
  },
  {
   "cell_type": "code",
   "execution_count": null,
   "id": "933bb476-20df-494e-93a5-6511778c694f",
   "metadata": {},
   "outputs": [],
   "source": []
  },
  {
   "cell_type": "markdown",
   "id": "2ba897d0-ae37-4532-b705-740be2cd6636",
   "metadata": {},
   "source": [
    "### Doações originárias"
   ]
  },
  {
   "cell_type": "code",
   "execution_count": 8,
   "id": "323da6d5-deb2-4487-8635-3564b3464c3f",
   "metadata": {},
   "outputs": [],
   "source": [
    "doacoes_originarias_2018 = pd.read_excel('resultados/doacoes/doacoes_originarias_politicos_2018.xlsx', sheet_name = 'Sheet1', dtype = 'str')"
   ]
  },
  {
   "cell_type": "code",
   "execution_count": 9,
   "id": "12c268fd-c1f5-4e99-b5ab-685d02a3a2c7",
   "metadata": {},
   "outputs": [
    {
     "data": {
      "text/plain": [
       "Index(['DT_GERACAO', 'HH_GERACAO', 'ANO_ELEICAO', 'CD_TIPO_ELEICAO',\n",
       "       'NM_TIPO_ELEICAO', 'CD_ELEICAO', 'DS_ELEICAO', 'DT_ELEICAO', 'ST_TURNO',\n",
       "       'TP_PRESTACAO_CONTAS', 'DT_PRESTACAO_CONTAS', 'SQ_PRESTADOR_CONTAS',\n",
       "       'SG_UF', 'NR_CPF_CNPJ_DOADOR_ORIGINARIO', 'NM_DOADOR_ORIGINARIO',\n",
       "       'NM_DOADOR_ORIGINARIO_RFB', 'TP_DOADOR_ORIGINARIO',\n",
       "       'CD_CNAE_DOADOR_ORIGINARIO', 'DS_CNAE_DOADOR_ORIGINARIO', 'SQ_RECEITA',\n",
       "       'DT_RECEITA', 'DS_RECEITA', 'VR_RECEITA', 'NM_CANDIDATO',\n",
       "       'NR_CPF_CANDIDATO'],\n",
       "      dtype='object')"
      ]
     },
     "execution_count": 9,
     "metadata": {},
     "output_type": "execute_result"
    }
   ],
   "source": [
    "doacoes_originarias_2018.columns"
   ]
  },
  {
   "cell_type": "code",
   "execution_count": 10,
   "id": "c7d6116f-8f22-4de8-91e5-b2eef36d0a9a",
   "metadata": {},
   "outputs": [],
   "source": [
    "doacoes_originarias_2018['VR_RECEITA'] = doacoes_originarias_2018['VR_RECEITA'].str.replace(',','.')\n",
    "doacoes_originarias_2018['VR_RECEITA'] = doacoes_originarias_2018['VR_RECEITA'].astype('float64') "
   ]
  },
  {
   "cell_type": "code",
   "execution_count": null,
   "id": "a4ff0805-235e-4e96-ba3b-095b004e16ed",
   "metadata": {},
   "outputs": [],
   "source": []
  },
  {
   "cell_type": "code",
   "execution_count": null,
   "id": "abb657d2-bcae-448e-a952-099213be06c2",
   "metadata": {},
   "outputs": [],
   "source": []
  },
  {
   "cell_type": "code",
   "execution_count": 11,
   "id": "cd50dc1a-e3da-48e0-9f7c-09e8003ab8cf",
   "metadata": {},
   "outputs": [
    {
     "data": {
      "text/plain": [
       "NR_CPF_CANDIDATO\n",
       "00001608657     375073.75\n",
       "00007487738    1368651.41\n",
       "00019863098     790711.00\n",
       "00031226540    1803584.00\n",
       "00113735391     600671.00\n",
       "                  ...    \n",
       "98303651749     688674.00\n",
       "98451278949    2261169.63\n",
       "99316552672    1562760.96\n",
       "99445700015     108440.00\n",
       "99898659149    1392484.00\n",
       "Name: VR_RECEITA, Length: 510, dtype: float64"
      ]
     },
     "execution_count": 11,
     "metadata": {},
     "output_type": "execute_result"
    }
   ],
   "source": [
    "doacoes_2018.groupby('NR_CPF_CANDIDATO')['VR_RECEITA'].sum()"
   ]
  },
  {
   "cell_type": "code",
   "execution_count": 12,
   "id": "dcee775f-11b9-4a2f-ac68-ce4010b8c050",
   "metadata": {},
   "outputs": [],
   "source": [
    "total_diretas = doacoes_2018.groupby('NR_CPF_CANDIDATO')['VR_RECEITA'].sum().reset_index()\n",
    "total_diretas = total_diretas.sort_values(by=['VR_RECEITA'], ascending=False)"
   ]
  },
  {
   "cell_type": "code",
   "execution_count": 13,
   "id": "3979e3b3-590b-4821-bbb9-58e7093b3e59",
   "metadata": {},
   "outputs": [
    {
     "name": "stdout",
     "output_type": "stream",
     "text": [
      "<class 'pandas.core.frame.DataFrame'>\n",
      "Int64Index: 510 entries, 284 to 497\n",
      "Data columns (total 2 columns):\n",
      " #   Column            Non-Null Count  Dtype  \n",
      "---  ------            --------------  -----  \n",
      " 0   NR_CPF_CANDIDATO  510 non-null    object \n",
      " 1   VR_RECEITA        510 non-null    float64\n",
      "dtypes: float64(1), object(1)\n",
      "memory usage: 12.0+ KB\n"
     ]
    }
   ],
   "source": [
    "total_diretas.info()"
   ]
  },
  {
   "cell_type": "code",
   "execution_count": 14,
   "id": "3f5547c5-fca9-442f-b7f0-635853a66260",
   "metadata": {},
   "outputs": [],
   "source": [
    "total_diretas.rename(columns = {'VR_RECEITA':'total_geral_doacoes_diretas'},inplace = True)\n",
    "total_diretas.rename(columns = {'NR_CPF_CANDIDATO':'politico_id'},inplace = True)"
   ]
  },
  {
   "cell_type": "code",
   "execution_count": 15,
   "id": "a8f599f3-66c5-4017-8d75-c647b262396c",
   "metadata": {},
   "outputs": [
    {
     "data": {
      "text/html": [
       "<div>\n",
       "<style scoped>\n",
       "    .dataframe tbody tr th:only-of-type {\n",
       "        vertical-align: middle;\n",
       "    }\n",
       "\n",
       "    .dataframe tbody tr th {\n",
       "        vertical-align: top;\n",
       "    }\n",
       "\n",
       "    .dataframe thead th {\n",
       "        text-align: right;\n",
       "    }\n",
       "</style>\n",
       "<table border=\"1\" class=\"dataframe\">\n",
       "  <thead>\n",
       "    <tr style=\"text-align: right;\">\n",
       "      <th></th>\n",
       "      <th>politico_id</th>\n",
       "      <th>total_geral_doacoes_diretas</th>\n",
       "    </tr>\n",
       "  </thead>\n",
       "  <tbody>\n",
       "    <tr>\n",
       "      <th>284</th>\n",
       "      <td>31516410831</td>\n",
       "      <td>2507376.59</td>\n",
       "    </tr>\n",
       "    <tr>\n",
       "      <th>310</th>\n",
       "      <td>37311638372</td>\n",
       "      <td>2500500.00</td>\n",
       "    </tr>\n",
       "    <tr>\n",
       "      <th>396</th>\n",
       "      <td>57867100172</td>\n",
       "      <td>2500000.00</td>\n",
       "    </tr>\n",
       "    <tr>\n",
       "      <th>369</th>\n",
       "      <td>49156470991</td>\n",
       "      <td>2499683.32</td>\n",
       "    </tr>\n",
       "    <tr>\n",
       "      <th>276</th>\n",
       "      <td>29316715920</td>\n",
       "      <td>2498812.90</td>\n",
       "    </tr>\n",
       "  </tbody>\n",
       "</table>\n",
       "</div>"
      ],
      "text/plain": [
       "     politico_id  total_geral_doacoes_diretas\n",
       "284  31516410831                   2507376.59\n",
       "310  37311638372                   2500500.00\n",
       "396  57867100172                   2500000.00\n",
       "369  49156470991                   2499683.32\n",
       "276  29316715920                   2498812.90"
      ]
     },
     "execution_count": 15,
     "metadata": {},
     "output_type": "execute_result"
    }
   ],
   "source": [
    "total_diretas.head()"
   ]
  },
  {
   "cell_type": "code",
   "execution_count": null,
   "id": "a644e780-96b5-42e6-9694-b1a42a297dfc",
   "metadata": {},
   "outputs": [],
   "source": []
  },
  {
   "cell_type": "code",
   "execution_count": 16,
   "id": "edf8ae66-7ac9-4c29-a763-26a47a01d159",
   "metadata": {},
   "outputs": [],
   "source": [
    "total_indiretas = doacoes_indiretas_2018.groupby('NR_CPF_CANDIDATO')['VR_RECEITA'].sum().reset_index()"
   ]
  },
  {
   "cell_type": "code",
   "execution_count": 17,
   "id": "113c65f5-0da2-4167-b0d8-c2f8c5837deb",
   "metadata": {},
   "outputs": [],
   "source": [
    "total_indiretas.rename(columns = {'VR_RECEITA':'total_geral_doacoes_indiretas'},inplace = True)\n",
    "total_indiretas.rename(columns = {'NR_CPF_CANDIDATO':'politico_id'},inplace = True)"
   ]
  },
  {
   "cell_type": "code",
   "execution_count": 18,
   "id": "afcb97d1-c902-43b7-8499-123e35b42492",
   "metadata": {},
   "outputs": [
    {
     "name": "stdout",
     "output_type": "stream",
     "text": [
      "<class 'pandas.core.frame.DataFrame'>\n",
      "RangeIndex: 309 entries, 0 to 308\n",
      "Data columns (total 2 columns):\n",
      " #   Column                         Non-Null Count  Dtype  \n",
      "---  ------                         --------------  -----  \n",
      " 0   politico_id                    309 non-null    object \n",
      " 1   total_geral_doacoes_indiretas  309 non-null    float64\n",
      "dtypes: float64(1), object(1)\n",
      "memory usage: 5.0+ KB\n"
     ]
    }
   ],
   "source": [
    "total_indiretas.info()"
   ]
  },
  {
   "cell_type": "code",
   "execution_count": null,
   "id": "5f81ca00-7f17-48fe-8f97-740515c33778",
   "metadata": {},
   "outputs": [],
   "source": []
  },
  {
   "cell_type": "code",
   "execution_count": 19,
   "id": "e09cd06d-25c7-411a-9a60-9f45be6fea8c",
   "metadata": {},
   "outputs": [],
   "source": [
    "total_originarias = doacoes_originarias_2018.groupby('NR_CPF_CANDIDATO')['VR_RECEITA'].sum().reset_index()"
   ]
  },
  {
   "cell_type": "code",
   "execution_count": 20,
   "id": "4643d052-b815-457d-aa2f-6dc8fcf02a3b",
   "metadata": {},
   "outputs": [],
   "source": [
    "total_originarias.rename(columns = {'VR_RECEITA':'total_geral_doacoes_originarias'},inplace = True)\n",
    "total_originarias.rename(columns = {'NR_CPF_CANDIDATO':'politico_id'},inplace = True)"
   ]
  },
  {
   "cell_type": "code",
   "execution_count": 21,
   "id": "5f370f46-6dfd-415d-bb53-3f99f8f676e6",
   "metadata": {},
   "outputs": [
    {
     "name": "stdout",
     "output_type": "stream",
     "text": [
      "<class 'pandas.core.frame.DataFrame'>\n",
      "RangeIndex: 169 entries, 0 to 168\n",
      "Data columns (total 2 columns):\n",
      " #   Column                           Non-Null Count  Dtype  \n",
      "---  ------                           --------------  -----  \n",
      " 0   politico_id                      169 non-null    object \n",
      " 1   total_geral_doacoes_originarias  169 non-null    float64\n",
      "dtypes: float64(1), object(1)\n",
      "memory usage: 2.8+ KB\n"
     ]
    }
   ],
   "source": [
    "total_originarias.info()"
   ]
  },
  {
   "cell_type": "code",
   "execution_count": null,
   "id": "e7d50ab2-b508-4824-86e6-f3e2bc05621a",
   "metadata": {},
   "outputs": [],
   "source": []
  },
  {
   "cell_type": "code",
   "execution_count": null,
   "id": "5cabd59c-f7a7-455e-8091-0f8d467be960",
   "metadata": {},
   "outputs": [],
   "source": []
  },
  {
   "cell_type": "code",
   "execution_count": null,
   "id": "5a03c802-d2fd-4da9-947d-d6247ac5b08b",
   "metadata": {},
   "outputs": [],
   "source": []
  },
  {
   "cell_type": "code",
   "execution_count": 23,
   "id": "a5bf4c7c-19a2-461c-89d1-8cc3e0efc6f2",
   "metadata": {},
   "outputs": [],
   "source": [
    "# Versão com os 510 nomes da metodologia\n",
    "kwargs = {'sep': ',', 'dtype': str, 'encoding': 'utf-8'}\n",
    "politicos_atual = pd.read_csv(\"resultados/politicos_2018_versao_12julB.csv\", **kwargs)"
   ]
  },
  {
   "cell_type": "code",
   "execution_count": null,
   "id": "ea41ad08-f707-4137-a1f1-28388d841a77",
   "metadata": {},
   "outputs": [],
   "source": []
  },
  {
   "cell_type": "code",
   "execution_count": null,
   "id": "cac658c8-c735-4c61-9a45-51c2192ffe56",
   "metadata": {},
   "outputs": [],
   "source": []
  },
  {
   "cell_type": "code",
   "execution_count": 24,
   "id": "8738e78a-72f9-4174-a784-73214edc2b7d",
   "metadata": {},
   "outputs": [],
   "source": [
    "politicos_atual = pd.merge(politicos_atual, total_diretas, left_on='politico_id', right_on='politico_id', how = 'left')"
   ]
  },
  {
   "cell_type": "code",
   "execution_count": 25,
   "id": "79d8b83d-3032-411d-8440-e34fdb305c4b",
   "metadata": {},
   "outputs": [
    {
     "name": "stdout",
     "output_type": "stream",
     "text": [
      "<class 'pandas.core.frame.DataFrame'>\n",
      "Int64Index: 510 entries, 0 to 509\n",
      "Data columns (total 16 columns):\n",
      " #   Column                             Non-Null Count  Dtype  \n",
      "---  ------                             --------------  -----  \n",
      " 0   nome                               510 non-null    object \n",
      " 1   foto                               510 non-null    object \n",
      " 2   nome_urna                          510 non-null    object \n",
      " 3   uf_eleicao_disputa                 510 non-null    object \n",
      " 4   politico_id                        510 non-null    object \n",
      " 5   partido_eleicao                    510 non-null    object \n",
      " 6   partido_atual                      510 non-null    object \n",
      " 7   uri                                510 non-null    object \n",
      " 8   sequencial_candidato               510 non-null    object \n",
      " 9   bancada_ruralista                  236 non-null    object \n",
      " 10  id_interno                         510 non-null    object \n",
      " 11  doacao_ambiental_direta_total      101 non-null    object \n",
      " 12  doacao_ambiental_indireta_total    27 non-null     object \n",
      " 13  doacao_ambiental_originaria_total  25 non-null     object \n",
      " 14  doacao_trabalhista_direta_total    70 non-null     object \n",
      " 15  total_geral_doacoes_diretas        510 non-null    float64\n",
      "dtypes: float64(1), object(15)\n",
      "memory usage: 67.7+ KB\n"
     ]
    }
   ],
   "source": [
    "politicos_atual.info()"
   ]
  },
  {
   "cell_type": "code",
   "execution_count": 26,
   "id": "bd7c3278-d096-4bd5-a82b-bab690bfc886",
   "metadata": {},
   "outputs": [],
   "source": [
    "politicos_atual = pd.merge(politicos_atual, total_indiretas, left_on='politico_id', right_on='politico_id', how = 'left')"
   ]
  },
  {
   "cell_type": "code",
   "execution_count": 27,
   "id": "a4e70f4a-60c7-4502-972f-4c54e22fef93",
   "metadata": {},
   "outputs": [
    {
     "name": "stdout",
     "output_type": "stream",
     "text": [
      "<class 'pandas.core.frame.DataFrame'>\n",
      "Int64Index: 510 entries, 0 to 509\n",
      "Data columns (total 17 columns):\n",
      " #   Column                             Non-Null Count  Dtype  \n",
      "---  ------                             --------------  -----  \n",
      " 0   nome                               510 non-null    object \n",
      " 1   foto                               510 non-null    object \n",
      " 2   nome_urna                          510 non-null    object \n",
      " 3   uf_eleicao_disputa                 510 non-null    object \n",
      " 4   politico_id                        510 non-null    object \n",
      " 5   partido_eleicao                    510 non-null    object \n",
      " 6   partido_atual                      510 non-null    object \n",
      " 7   uri                                510 non-null    object \n",
      " 8   sequencial_candidato               510 non-null    object \n",
      " 9   bancada_ruralista                  236 non-null    object \n",
      " 10  id_interno                         510 non-null    object \n",
      " 11  doacao_ambiental_direta_total      101 non-null    object \n",
      " 12  doacao_ambiental_indireta_total    27 non-null     object \n",
      " 13  doacao_ambiental_originaria_total  25 non-null     object \n",
      " 14  doacao_trabalhista_direta_total    70 non-null     object \n",
      " 15  total_geral_doacoes_diretas        510 non-null    float64\n",
      " 16  total_geral_doacoes_indiretas      309 non-null    float64\n",
      "dtypes: float64(2), object(15)\n",
      "memory usage: 71.7+ KB\n"
     ]
    }
   ],
   "source": [
    "politicos_atual.info()"
   ]
  },
  {
   "cell_type": "code",
   "execution_count": 28,
   "id": "efd8a961-4ece-44d6-b54c-060a0553ccdf",
   "metadata": {},
   "outputs": [],
   "source": [
    "politicos_atual = pd.merge(politicos_atual, total_originarias, left_on='politico_id', right_on='politico_id', how = 'left')"
   ]
  },
  {
   "cell_type": "code",
   "execution_count": 29,
   "id": "062ce4a7-dca4-4bf7-a03b-b24d0fa59977",
   "metadata": {},
   "outputs": [
    {
     "name": "stdout",
     "output_type": "stream",
     "text": [
      "<class 'pandas.core.frame.DataFrame'>\n",
      "Int64Index: 510 entries, 0 to 509\n",
      "Data columns (total 18 columns):\n",
      " #   Column                             Non-Null Count  Dtype  \n",
      "---  ------                             --------------  -----  \n",
      " 0   nome                               510 non-null    object \n",
      " 1   foto                               510 non-null    object \n",
      " 2   nome_urna                          510 non-null    object \n",
      " 3   uf_eleicao_disputa                 510 non-null    object \n",
      " 4   politico_id                        510 non-null    object \n",
      " 5   partido_eleicao                    510 non-null    object \n",
      " 6   partido_atual                      510 non-null    object \n",
      " 7   uri                                510 non-null    object \n",
      " 8   sequencial_candidato               510 non-null    object \n",
      " 9   bancada_ruralista                  236 non-null    object \n",
      " 10  id_interno                         510 non-null    object \n",
      " 11  doacao_ambiental_direta_total      101 non-null    object \n",
      " 12  doacao_ambiental_indireta_total    27 non-null     object \n",
      " 13  doacao_ambiental_originaria_total  25 non-null     object \n",
      " 14  doacao_trabalhista_direta_total    70 non-null     object \n",
      " 15  total_geral_doacoes_diretas        510 non-null    float64\n",
      " 16  total_geral_doacoes_indiretas      309 non-null    float64\n",
      " 17  total_geral_doacoes_originarias    169 non-null    float64\n",
      "dtypes: float64(3), object(15)\n",
      "memory usage: 75.7+ KB\n"
     ]
    }
   ],
   "source": [
    "politicos_atual.info()"
   ]
  },
  {
   "cell_type": "code",
   "execution_count": null,
   "id": "7f8848ba-a0af-4cf7-a3a1-c001d7e067f1",
   "metadata": {},
   "outputs": [],
   "source": []
  },
  {
   "cell_type": "code",
   "execution_count": null,
   "id": "a8f9eb6d-8c92-4bac-ba8f-22bff87b31d9",
   "metadata": {},
   "outputs": [],
   "source": []
  },
  {
   "cell_type": "code",
   "execution_count": 30,
   "id": "24af5bb7-a7f0-4eaa-9573-bdafdec87859",
   "metadata": {},
   "outputs": [],
   "source": [
    "politicos_atual.to_csv('resultados/politicos_2018_versao_12julC.csv',index=False)"
   ]
  },
  {
   "cell_type": "code",
   "execution_count": null,
   "id": "2b1a91e4-d366-4e10-8348-71bdb532be20",
   "metadata": {},
   "outputs": [],
   "source": []
  }
 ],
 "metadata": {
  "kernelspec": {
   "display_name": "Python 3",
   "language": "python",
   "name": "python3"
  },
  "language_info": {
   "codemirror_mode": {
    "name": "ipython",
    "version": 3
   },
   "file_extension": ".py",
   "mimetype": "text/x-python",
   "name": "python",
   "nbconvert_exporter": "python",
   "pygments_lexer": "ipython3",
   "version": "3.8.2"
  }
 },
 "nbformat": 4,
 "nbformat_minor": 5
}
