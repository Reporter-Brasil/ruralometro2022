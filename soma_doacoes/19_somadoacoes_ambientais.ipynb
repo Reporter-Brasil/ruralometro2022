{
 "cells": [
  {
   "cell_type": "code",
   "execution_count": null,
   "id": "9a4b4460-5d02-4da9-b8a9-32a9a8383da1",
   "metadata": {},
   "outputs": [],
   "source": [
    "# -*- coding: utf-8\n",
    "# Repórter Brasil (https://ruralometro2022.reporterbrasil.org.br/)\n",
    "# Reinaldo Chaves (@paidatocandeira)\n",
    "# Scripts para somar, sem repetições as doações dos deputados em 2018 - relacionadas às listas de \n",
    "# pessoas/empresas no Ibama/ICMBio"
   ]
  },
  {
   "cell_type": "code",
   "execution_count": null,
   "id": "f7bbe78f-db1a-4ed4-933f-abde7bac7cbd",
   "metadata": {},
   "outputs": [],
   "source": []
  },
  {
   "cell_type": "code",
   "execution_count": 1,
   "id": "567cb72c-69ea-4bc4-a5e5-b271f5913b3b",
   "metadata": {},
   "outputs": [],
   "source": [
    "import pandas as pd"
   ]
  },
  {
   "cell_type": "code",
   "execution_count": null,
   "id": "fe2a5c0f-48df-494a-94aa-80eda1895a37",
   "metadata": {},
   "outputs": [],
   "source": []
  },
  {
   "cell_type": "markdown",
   "id": "734e545d-01e4-48b3-abb5-81858b0879e3",
   "metadata": {},
   "source": [
    "### Doacoes gerais diretas"
   ]
  },
  {
   "cell_type": "code",
   "execution_count": 26,
   "id": "c47439e9-8b26-41e7-8147-1682ff8bb49b",
   "metadata": {},
   "outputs": [],
   "source": [
    "kwargs = {'sep': ',', 'dtype': str, 'encoding': 'utf-8'}\n",
    "doacoes_2018 = pd.read_csv(\"resultados/doacoes/doacoes_geral_politicos_2018.csv\", **kwargs)"
   ]
  },
  {
   "cell_type": "code",
   "execution_count": 27,
   "id": "3579bc59-73a8-4ce7-9a4e-0e265c90de46",
   "metadata": {},
   "outputs": [],
   "source": [
    "doacoes_2018['VR_RECEITA'] = doacoes_2018['VR_RECEITA'].str.replace(',','.')\n",
    "doacoes_2018['VR_RECEITA'] = doacoes_2018['VR_RECEITA'].astype('float64') "
   ]
  },
  {
   "cell_type": "code",
   "execution_count": 28,
   "id": "b8986e18-6c58-4068-950a-39218519bd9a",
   "metadata": {},
   "outputs": [
    {
     "data": {
      "text/plain": [
       "Index(['DT_RECEITA', 'NR_CPF_CANDIDATO', 'SQ_CANDIDATO', 'NM_CANDIDATO',\n",
       "       'DS_FONTE_RECEITA', 'DS_NATUREZA_RECEITA', 'NR_CPF_CNPJ_DOADOR',\n",
       "       'NM_DOADOR_RFB', 'DS_ESFERA_PARTIDARIA_DOADOR', 'NM_PARTIDO_DOADOR',\n",
       "       'SQ_CANDIDATO_DOADOR', 'DS_CARGO_CANDIDATO_DOADOR', 'SG_PARTIDO_DOADOR',\n",
       "       'DS_RECEITA', 'VR_RECEITA'],\n",
       "      dtype='object')"
      ]
     },
     "execution_count": 28,
     "metadata": {},
     "output_type": "execute_result"
    }
   ],
   "source": [
    "doacoes_2018.columns"
   ]
  },
  {
   "cell_type": "code",
   "execution_count": 29,
   "id": "ff702617-d025-43d4-9edb-96aa2a6b89fb",
   "metadata": {},
   "outputs": [],
   "source": [
    "def limpeza5(linha):\n",
    "    documento = str(linha[\"NR_CPF_CNPJ_DOADOR\"])\n",
    "    if len(documento) > 11:\n",
    "        return documento[:8]\n",
    "    else:\n",
    "        return documento\n",
    "\n",
    "doacoes_2018['doador_raiz'] = doacoes_2018.apply(limpeza5, axis=1)"
   ]
  },
  {
   "cell_type": "code",
   "execution_count": null,
   "id": "e7a4ac4f-dc7a-4b73-b1ec-32e0f1849572",
   "metadata": {},
   "outputs": [],
   "source": []
  },
  {
   "cell_type": "code",
   "execution_count": null,
   "id": "abb657d2-bcae-448e-a952-099213be06c2",
   "metadata": {},
   "outputs": [],
   "source": []
  },
  {
   "cell_type": "markdown",
   "id": "68011e42-8fbe-4ec7-9840-e291ade059f6",
   "metadata": {},
   "source": [
    "#### Doações indiretas "
   ]
  },
  {
   "cell_type": "code",
   "execution_count": 30,
   "id": "c68b3982-ddd8-4078-ba63-4d6f09557371",
   "metadata": {},
   "outputs": [],
   "source": [
    "doacoes_indiretas_2018 = pd.read_excel('resultados/doacoes/doacoes_todas_indiretas_politicos_2018.xlsx', sheet_name = 'Sheet1', dtype = 'str')"
   ]
  },
  {
   "cell_type": "code",
   "execution_count": 31,
   "id": "98eb96c5-f9ca-48b4-b57f-3685331f986a",
   "metadata": {},
   "outputs": [
    {
     "data": {
      "text/plain": [
       "Index(['DT_GERACAO', 'HH_GERACAO', 'ANO_ELEICAO', 'CD_TIPO_ELEICAO',\n",
       "       'NM_TIPO_ELEICAO', 'CD_ELEICAO', 'DS_ELEICAO', 'DT_ELEICAO', 'ST_TURNO',\n",
       "       'TP_PRESTACAO_CONTAS', 'DT_PRESTACAO_CONTAS', 'SQ_PRESTADOR_CONTAS',\n",
       "       'SG_UF', 'SG_UE', 'NM_UE', 'NR_CNPJ_PRESTADOR_CONTA', 'CD_CARGO',\n",
       "       'DS_CARGO', 'SQ_CANDIDATO', 'NR_CANDIDATO', 'NM_CANDIDATO',\n",
       "       'NR_CPF_CANDIDATO', 'NR_CPF_VICE_CANDIDATO', 'NR_PARTIDO', 'SG_PARTIDO',\n",
       "       'NM_PARTIDO', 'CD_FONTE_RECEITA', 'DS_FONTE_RECEITA',\n",
       "       'CD_ORIGEM_RECEITA', 'DS_ORIGEM_RECEITA', 'CD_NATUREZA_RECEITA',\n",
       "       'DS_NATUREZA_RECEITA', 'CD_ESPECIE_RECEITA', 'DS_ESPECIE_RECEITA',\n",
       "       'CD_CNAE_DOADOR', 'DS_CNAE_DOADOR', 'NR_CPF_CNPJ_DOADOR', 'NM_DOADOR',\n",
       "       'NM_DOADOR_RFB', 'CD_ESFERA_PARTIDARIA_DOADOR',\n",
       "       'DS_ESFERA_PARTIDARIA_DOADOR', 'SG_UF_DOADOR', 'CD_MUNICIPIO_DOADOR',\n",
       "       'NM_MUNICIPIO_DOADOR', 'SQ_CANDIDATO_DOADOR', 'NR_CANDIDATO_DOADOR',\n",
       "       'CD_CARGO_CANDIDATO_DOADOR', 'DS_CARGO_CANDIDATO_DOADOR',\n",
       "       'NR_PARTIDO_DOADOR', 'SG_PARTIDO_DOADOR', 'NM_PARTIDO_DOADOR',\n",
       "       'NR_RECIBO_DOACAO', 'NR_DOCUMENTO_DOACAO', 'SQ_RECEITA', 'DT_RECEITA',\n",
       "       'DS_RECEITA', 'VR_RECEITA', 'cpf_doacoaindireta', 'nome_doacoaindireta',\n",
       "       'sq_doacoaindireta', 'nome', 'foto', 'nome_urna', 'politico_id',\n",
       "       'partido_eleicao', 'partido_atual', 'uri', 'sequencial_candidato'],\n",
       "      dtype='object')"
      ]
     },
     "execution_count": 31,
     "metadata": {},
     "output_type": "execute_result"
    }
   ],
   "source": [
    "doacoes_indiretas_2018.columns"
   ]
  },
  {
   "cell_type": "code",
   "execution_count": 32,
   "id": "83097695-7b8c-47a6-acde-f9fc9d8904e8",
   "metadata": {},
   "outputs": [],
   "source": [
    "doacoes_indiretas_2018['VR_RECEITA'] = doacoes_indiretas_2018['VR_RECEITA'].str.replace(',','.')\n",
    "doacoes_indiretas_2018['VR_RECEITA'] = doacoes_indiretas_2018['VR_RECEITA'].astype('float64') "
   ]
  },
  {
   "cell_type": "code",
   "execution_count": null,
   "id": "7f695eb1-3c72-420b-9ff2-842dd51a076f",
   "metadata": {},
   "outputs": [],
   "source": []
  },
  {
   "cell_type": "code",
   "execution_count": null,
   "id": "48ed33de-77aa-4081-a9fa-f50e06799f23",
   "metadata": {},
   "outputs": [],
   "source": []
  },
  {
   "cell_type": "markdown",
   "id": "3a80a117-8973-495e-be07-7056cdc088e4",
   "metadata": {},
   "source": [
    "### Doações originárias"
   ]
  },
  {
   "cell_type": "code",
   "execution_count": 33,
   "id": "12d7db27-3ce8-4d2b-bcd7-9eb206a164aa",
   "metadata": {},
   "outputs": [],
   "source": [
    "doacoes_originarias_2018 = pd.read_excel('resultados/doacoes/doacoes_originarias_politicos_2018.xlsx', sheet_name = 'Sheet1', dtype = 'str')"
   ]
  },
  {
   "cell_type": "code",
   "execution_count": 34,
   "id": "8a16aaf5-d43f-4d58-9ecf-d612451cef77",
   "metadata": {},
   "outputs": [
    {
     "data": {
      "text/plain": [
       "Index(['DT_GERACAO', 'HH_GERACAO', 'ANO_ELEICAO', 'CD_TIPO_ELEICAO',\n",
       "       'NM_TIPO_ELEICAO', 'CD_ELEICAO', 'DS_ELEICAO', 'DT_ELEICAO', 'ST_TURNO',\n",
       "       'TP_PRESTACAO_CONTAS', 'DT_PRESTACAO_CONTAS', 'SQ_PRESTADOR_CONTAS',\n",
       "       'SG_UF', 'NR_CPF_CNPJ_DOADOR_ORIGINARIO', 'NM_DOADOR_ORIGINARIO',\n",
       "       'NM_DOADOR_ORIGINARIO_RFB', 'TP_DOADOR_ORIGINARIO',\n",
       "       'CD_CNAE_DOADOR_ORIGINARIO', 'DS_CNAE_DOADOR_ORIGINARIO', 'SQ_RECEITA',\n",
       "       'DT_RECEITA', 'DS_RECEITA', 'VR_RECEITA', 'NM_CANDIDATO',\n",
       "       'NR_CPF_CANDIDATO'],\n",
       "      dtype='object')"
      ]
     },
     "execution_count": 34,
     "metadata": {},
     "output_type": "execute_result"
    }
   ],
   "source": [
    "doacoes_originarias_2018.columns"
   ]
  },
  {
   "cell_type": "code",
   "execution_count": 35,
   "id": "0a45525c-1cf4-4fd6-9beb-08933de36643",
   "metadata": {},
   "outputs": [],
   "source": [
    "doacoes_originarias_2018['VR_RECEITA'] = doacoes_originarias_2018['VR_RECEITA'].str.replace(',','.')\n",
    "doacoes_originarias_2018['VR_RECEITA'] = doacoes_originarias_2018['VR_RECEITA'].astype('float64') "
   ]
  },
  {
   "cell_type": "code",
   "execution_count": 36,
   "id": "ec5d87bc-413a-460a-9315-c14e0bb25fe4",
   "metadata": {},
   "outputs": [],
   "source": [
    "def limpeza6(linha):\n",
    "    documento = str(linha[\"NR_CPF_CNPJ_DOADOR_ORIGINARIO\"])\n",
    "    if len(documento) > 11:\n",
    "        return documento[:8]\n",
    "    else:\n",
    "        return documento\n",
    "\n",
    "doacoes_originarias_2018['doador_raiz'] = doacoes_originarias_2018.apply(limpeza6, axis=1)"
   ]
  },
  {
   "cell_type": "code",
   "execution_count": null,
   "id": "2d422d34-496e-43bb-a90a-bc89a679e850",
   "metadata": {},
   "outputs": [],
   "source": []
  },
  {
   "cell_type": "code",
   "execution_count": null,
   "id": "5cabd59c-f7a7-455e-8091-0f8d467be960",
   "metadata": {},
   "outputs": [],
   "source": []
  },
  {
   "cell_type": "markdown",
   "id": "87d31772-4521-4223-843d-df7113519144",
   "metadata": {},
   "source": [
    "### Ambientais diretas"
   ]
  },
  {
   "cell_type": "code",
   "execution_count": 37,
   "id": "984ced5c-781a-4c9e-bc04-f3e0536b20da",
   "metadata": {},
   "outputs": [],
   "source": [
    "kwargs = {'sep': ',', 'dtype': str, 'encoding': 'utf-8'}\n",
    "doacoes_pf_embargos = pd.read_csv(\"resultados/embargos_ibama/doacoes_vindas_pessoas_com_embargos_ibama_2018.csv\", **kwargs)"
   ]
  },
  {
   "cell_type": "code",
   "execution_count": 38,
   "id": "9dd2a1fb-fbf5-4aed-add4-645bb3b03b29",
   "metadata": {},
   "outputs": [],
   "source": [
    "doacoes_pf_embargos['valor'] = doacoes_pf_embargos['valor'].str.replace(',','.')\n",
    "doacoes_pf_embargos['valor'] = doacoes_pf_embargos['valor'].astype('float64') "
   ]
  },
  {
   "cell_type": "code",
   "execution_count": 39,
   "id": "ee19e44a-5122-4cc8-befa-678818ac1896",
   "metadata": {},
   "outputs": [
    {
     "data": {
      "text/plain": [
       "Index(['valor', 'politico_id', 'entidade_id', 'entidade_nome', 'doacoes_tipo',\n",
       "       'origem_do_dinheiro_no_tse', 'data'],\n",
       "      dtype='object')"
      ]
     },
     "execution_count": 39,
     "metadata": {},
     "output_type": "execute_result"
    }
   ],
   "source": [
    "doacoes_pf_embargos.columns"
   ]
  },
  {
   "cell_type": "code",
   "execution_count": 40,
   "id": "28c0cf65-b435-4fca-b433-57b5a5a765d9",
   "metadata": {},
   "outputs": [
    {
     "data": {
      "text/html": [
       "<div>\n",
       "<style scoped>\n",
       "    .dataframe tbody tr th:only-of-type {\n",
       "        vertical-align: middle;\n",
       "    }\n",
       "\n",
       "    .dataframe tbody tr th {\n",
       "        vertical-align: top;\n",
       "    }\n",
       "\n",
       "    .dataframe thead th {\n",
       "        text-align: right;\n",
       "    }\n",
       "</style>\n",
       "<table border=\"1\" class=\"dataframe\">\n",
       "  <thead>\n",
       "    <tr style=\"text-align: right;\">\n",
       "      <th></th>\n",
       "      <th>valor</th>\n",
       "      <th>politico_id</th>\n",
       "      <th>entidade_id</th>\n",
       "      <th>entidade_nome</th>\n",
       "      <th>doacoes_tipo</th>\n",
       "      <th>origem_do_dinheiro_no_tse</th>\n",
       "      <th>data</th>\n",
       "    </tr>\n",
       "  </thead>\n",
       "  <tbody>\n",
       "    <tr>\n",
       "      <th>36</th>\n",
       "      <td>60000.0</td>\n",
       "      <td>04921093466</td>\n",
       "      <td>01522833404</td>\n",
       "      <td>PAULO FERNANDO CAVALCANTI DE MORAIS</td>\n",
       "      <td>direta</td>\n",
       "      <td>Outros Recursos</td>\n",
       "      <td>05/10/2018</td>\n",
       "    </tr>\n",
       "    <tr>\n",
       "      <th>27</th>\n",
       "      <td>6000.0</td>\n",
       "      <td>47843080910</td>\n",
       "      <td>54471028987</td>\n",
       "      <td>GUILHERME DOMINGOS CAMILOTTI JUNIOR</td>\n",
       "      <td>direta</td>\n",
       "      <td>Outros Recursos</td>\n",
       "      <td>24/10/2018</td>\n",
       "    </tr>\n",
       "    <tr>\n",
       "      <th>40</th>\n",
       "      <td>2800.0</td>\n",
       "      <td>93279493234</td>\n",
       "      <td>29594073268</td>\n",
       "      <td>LUIZ NICACIO DE BRITO</td>\n",
       "      <td>direta</td>\n",
       "      <td>Outros Recursos</td>\n",
       "      <td>16/08/2018</td>\n",
       "    </tr>\n",
       "    <tr>\n",
       "      <th>13</th>\n",
       "      <td>954.0</td>\n",
       "      <td>13620983100</td>\n",
       "      <td>90472608134</td>\n",
       "      <td>JOAO ALBERTO VIEIRA RODRIGUES</td>\n",
       "      <td>direta</td>\n",
       "      <td>Outros Recursos</td>\n",
       "      <td>27/08/2018</td>\n",
       "    </tr>\n",
       "    <tr>\n",
       "      <th>12</th>\n",
       "      <td>25000.0</td>\n",
       "      <td>02261265794</td>\n",
       "      <td>01612869173</td>\n",
       "      <td>ANDRE GUILHERME SUCOLOTTI</td>\n",
       "      <td>direta</td>\n",
       "      <td>Outros Recursos</td>\n",
       "      <td>21/09/2018</td>\n",
       "    </tr>\n",
       "  </tbody>\n",
       "</table>\n",
       "</div>"
      ],
      "text/plain": [
       "      valor  politico_id  entidade_id                        entidade_nome  \\\n",
       "36  60000.0  04921093466  01522833404  PAULO FERNANDO CAVALCANTI DE MORAIS   \n",
       "27   6000.0  47843080910  54471028987  GUILHERME DOMINGOS CAMILOTTI JUNIOR   \n",
       "40   2800.0  93279493234  29594073268                LUIZ NICACIO DE BRITO   \n",
       "13    954.0  13620983100  90472608134        JOAO ALBERTO VIEIRA RODRIGUES   \n",
       "12  25000.0  02261265794  01612869173            ANDRE GUILHERME SUCOLOTTI   \n",
       "\n",
       "   doacoes_tipo origem_do_dinheiro_no_tse        data  \n",
       "36       direta           Outros Recursos  05/10/2018  \n",
       "27       direta           Outros Recursos  24/10/2018  \n",
       "40       direta           Outros Recursos  16/08/2018  \n",
       "13       direta           Outros Recursos  27/08/2018  \n",
       "12       direta           Outros Recursos  21/09/2018  "
      ]
     },
     "execution_count": 40,
     "metadata": {},
     "output_type": "execute_result"
    }
   ],
   "source": [
    "doacoes_pf_embargos.sample(5)"
   ]
  },
  {
   "cell_type": "code",
   "execution_count": 41,
   "id": "884708e8-dce7-4a13-bfe9-fb56e656dec2",
   "metadata": {},
   "outputs": [],
   "source": [
    "doacoes_pf_autos_ibama = pd.read_csv(\"resultados/autos_ibama/doacoes_diretas_vindas_pessoas_com_autos_de_infracao_ibama_2018.csv\", **kwargs)"
   ]
  },
  {
   "cell_type": "code",
   "execution_count": 42,
   "id": "f0ea1067-9056-4963-8fef-bf911168b834",
   "metadata": {},
   "outputs": [],
   "source": [
    "doacoes_pf_autos_ibama['valor'] = doacoes_pf_autos_ibama['valor'].str.replace(',','.')\n",
    "doacoes_pf_autos_ibama['valor'] = doacoes_pf_autos_ibama['valor'].astype('float64') "
   ]
  },
  {
   "cell_type": "code",
   "execution_count": 43,
   "id": "40e9ae02-0ba7-4c84-9899-401535f5583a",
   "metadata": {},
   "outputs": [
    {
     "data": {
      "text/plain": [
       "Index(['valor', 'politico_id', 'entidade_id', 'entidade_id_mascarada',\n",
       "       'entidade_nome', 'doacoes_tipo', 'origem_do_dinheiro_no_tse', 'data'],\n",
       "      dtype='object')"
      ]
     },
     "execution_count": 43,
     "metadata": {},
     "output_type": "execute_result"
    }
   ],
   "source": [
    "doacoes_pf_autos_ibama.columns"
   ]
  },
  {
   "cell_type": "code",
   "execution_count": 44,
   "id": "70b5b897-525d-4fe4-8e3c-4d07de5f2533",
   "metadata": {},
   "outputs": [
    {
     "data": {
      "text/html": [
       "<div>\n",
       "<style scoped>\n",
       "    .dataframe tbody tr th:only-of-type {\n",
       "        vertical-align: middle;\n",
       "    }\n",
       "\n",
       "    .dataframe tbody tr th {\n",
       "        vertical-align: top;\n",
       "    }\n",
       "\n",
       "    .dataframe thead th {\n",
       "        text-align: right;\n",
       "    }\n",
       "</style>\n",
       "<table border=\"1\" class=\"dataframe\">\n",
       "  <thead>\n",
       "    <tr style=\"text-align: right;\">\n",
       "      <th></th>\n",
       "      <th>valor</th>\n",
       "      <th>politico_id</th>\n",
       "      <th>entidade_id</th>\n",
       "      <th>entidade_id_mascarada</th>\n",
       "      <th>entidade_nome</th>\n",
       "      <th>doacoes_tipo</th>\n",
       "      <th>origem_do_dinheiro_no_tse</th>\n",
       "      <th>data</th>\n",
       "    </tr>\n",
       "  </thead>\n",
       "  <tbody>\n",
       "    <tr>\n",
       "      <th>72</th>\n",
       "      <td>80000.0</td>\n",
       "      <td>43422780653</td>\n",
       "      <td>25002341004</td>\n",
       "      <td>***023410**</td>\n",
       "      <td>MARCELINO FLORES DE OLIVEIRA</td>\n",
       "      <td>direta</td>\n",
       "      <td>Outros Recursos</td>\n",
       "      <td>18/09/2018</td>\n",
       "    </tr>\n",
       "    <tr>\n",
       "      <th>97</th>\n",
       "      <td>50000.0</td>\n",
       "      <td>42442540134</td>\n",
       "      <td>30818125934</td>\n",
       "      <td>***181259**</td>\n",
       "      <td>ELIZEU ZULMAR MAGGI SCHEFFER</td>\n",
       "      <td>direta</td>\n",
       "      <td>Outros Recursos</td>\n",
       "      <td>22/10/2018</td>\n",
       "    </tr>\n",
       "    <tr>\n",
       "      <th>93</th>\n",
       "      <td>3150.0</td>\n",
       "      <td>41190335115</td>\n",
       "      <td>17259215100</td>\n",
       "      <td>***592151**</td>\n",
       "      <td>CATARINO PEDROSO DE BARROS</td>\n",
       "      <td>direta</td>\n",
       "      <td>Outros Recursos</td>\n",
       "      <td>24/08/2018</td>\n",
       "    </tr>\n",
       "    <tr>\n",
       "      <th>67</th>\n",
       "      <td>600.0</td>\n",
       "      <td>30825628172</td>\n",
       "      <td>06767206687</td>\n",
       "      <td>***672066**</td>\n",
       "      <td>EDUARDO ARAUJO DE SOUZA</td>\n",
       "      <td>direta</td>\n",
       "      <td>Outros Recursos</td>\n",
       "      <td>21/09/2018</td>\n",
       "    </tr>\n",
       "    <tr>\n",
       "      <th>12</th>\n",
       "      <td>5000.0</td>\n",
       "      <td>49465589500</td>\n",
       "      <td>01754580904</td>\n",
       "      <td>***545809**</td>\n",
       "      <td>ANTONIO CELSO SGANZERLA</td>\n",
       "      <td>direta</td>\n",
       "      <td>Outros Recursos</td>\n",
       "      <td>02/10/2018</td>\n",
       "    </tr>\n",
       "  </tbody>\n",
       "</table>\n",
       "</div>"
      ],
      "text/plain": [
       "      valor  politico_id  entidade_id entidade_id_mascarada  \\\n",
       "72  80000.0  43422780653  25002341004           ***023410**   \n",
       "97  50000.0  42442540134  30818125934           ***181259**   \n",
       "93   3150.0  41190335115  17259215100           ***592151**   \n",
       "67    600.0  30825628172  06767206687           ***672066**   \n",
       "12   5000.0  49465589500  01754580904           ***545809**   \n",
       "\n",
       "                   entidade_nome doacoes_tipo origem_do_dinheiro_no_tse  \\\n",
       "72  MARCELINO FLORES DE OLIVEIRA       direta           Outros Recursos   \n",
       "97  ELIZEU ZULMAR MAGGI SCHEFFER       direta           Outros Recursos   \n",
       "93    CATARINO PEDROSO DE BARROS       direta           Outros Recursos   \n",
       "67       EDUARDO ARAUJO DE SOUZA       direta           Outros Recursos   \n",
       "12       ANTONIO CELSO SGANZERLA       direta           Outros Recursos   \n",
       "\n",
       "          data  \n",
       "72  18/09/2018  \n",
       "97  22/10/2018  \n",
       "93  24/08/2018  \n",
       "67  21/09/2018  \n",
       "12  02/10/2018  "
      ]
     },
     "execution_count": 44,
     "metadata": {},
     "output_type": "execute_result"
    }
   ],
   "source": [
    "doacoes_pf_autos_ibama.sample(5)"
   ]
  },
  {
   "cell_type": "code",
   "execution_count": 45,
   "id": "0fa32407-01d6-4590-996d-d678460b8628",
   "metadata": {},
   "outputs": [],
   "source": [
    "doacoes_pf_autos_icmbio = pd.read_csv(\"resultados/autos_icmbio/doacoes_vindas_pessoas_com_autos_icmbio_2018.csv\", **kwargs)"
   ]
  },
  {
   "cell_type": "code",
   "execution_count": 46,
   "id": "7b5d6daf-eb14-4bca-a3a8-c175d2ab5898",
   "metadata": {},
   "outputs": [],
   "source": [
    "doacoes_pf_autos_icmbio['valor'] = doacoes_pf_autos_icmbio['valor'].str.replace(',','.')\n",
    "doacoes_pf_autos_icmbio['valor'] = doacoes_pf_autos_icmbio['valor'].astype('float64') "
   ]
  },
  {
   "cell_type": "code",
   "execution_count": 47,
   "id": "3cdf0808-c1c7-47a4-bf93-1b5be6ad873e",
   "metadata": {},
   "outputs": [
    {
     "data": {
      "text/plain": [
       "Index(['valor', 'politico_id', 'entidade_id', 'entidade_nome', 'doacoes_tipo',\n",
       "       'origem_do_dinheiro_no_tse', 'data'],\n",
       "      dtype='object')"
      ]
     },
     "execution_count": 47,
     "metadata": {},
     "output_type": "execute_result"
    }
   ],
   "source": [
    "doacoes_pf_autos_icmbio.columns"
   ]
  },
  {
   "cell_type": "code",
   "execution_count": 48,
   "id": "798f0d53-1792-4723-9643-18bbc91e1d22",
   "metadata": {},
   "outputs": [
    {
     "data": {
      "text/html": [
       "<div>\n",
       "<style scoped>\n",
       "    .dataframe tbody tr th:only-of-type {\n",
       "        vertical-align: middle;\n",
       "    }\n",
       "\n",
       "    .dataframe tbody tr th {\n",
       "        vertical-align: top;\n",
       "    }\n",
       "\n",
       "    .dataframe thead th {\n",
       "        text-align: right;\n",
       "    }\n",
       "</style>\n",
       "<table border=\"1\" class=\"dataframe\">\n",
       "  <thead>\n",
       "    <tr style=\"text-align: right;\">\n",
       "      <th></th>\n",
       "      <th>valor</th>\n",
       "      <th>politico_id</th>\n",
       "      <th>entidade_id</th>\n",
       "      <th>entidade_nome</th>\n",
       "      <th>doacoes_tipo</th>\n",
       "      <th>origem_do_dinheiro_no_tse</th>\n",
       "      <th>data</th>\n",
       "    </tr>\n",
       "  </thead>\n",
       "  <tbody>\n",
       "    <tr>\n",
       "      <th>0</th>\n",
       "      <td>2000.0</td>\n",
       "      <td>09911967751</td>\n",
       "      <td>76623670700</td>\n",
       "      <td>MARCELO PINTO DUARTE BARBARA</td>\n",
       "      <td>direta</td>\n",
       "      <td>Outros Recursos</td>\n",
       "      <td>03/10/2018</td>\n",
       "    </tr>\n",
       "    <tr>\n",
       "      <th>1</th>\n",
       "      <td>2000.0</td>\n",
       "      <td>08868429721</td>\n",
       "      <td>76623670700</td>\n",
       "      <td>MARCELO PINTO DUARTE BARBARA</td>\n",
       "      <td>direta</td>\n",
       "      <td>Outros Recursos</td>\n",
       "      <td>03/10/2018</td>\n",
       "    </tr>\n",
       "    <tr>\n",
       "      <th>2</th>\n",
       "      <td>10000.0</td>\n",
       "      <td>34806872881</td>\n",
       "      <td>76623670700</td>\n",
       "      <td>MARCELO PINTO DUARTE BARBARA</td>\n",
       "      <td>direta</td>\n",
       "      <td>Outros Recursos</td>\n",
       "      <td>27/08/2018</td>\n",
       "    </tr>\n",
       "  </tbody>\n",
       "</table>\n",
       "</div>"
      ],
      "text/plain": [
       "     valor  politico_id  entidade_id                 entidade_nome  \\\n",
       "0   2000.0  09911967751  76623670700  MARCELO PINTO DUARTE BARBARA   \n",
       "1   2000.0  08868429721  76623670700  MARCELO PINTO DUARTE BARBARA   \n",
       "2  10000.0  34806872881  76623670700  MARCELO PINTO DUARTE BARBARA   \n",
       "\n",
       "  doacoes_tipo origem_do_dinheiro_no_tse        data  \n",
       "0       direta           Outros Recursos  03/10/2018  \n",
       "1       direta           Outros Recursos  03/10/2018  \n",
       "2       direta           Outros Recursos  27/08/2018  "
      ]
     },
     "execution_count": 48,
     "metadata": {},
     "output_type": "execute_result"
    }
   ],
   "source": [
    "doacoes_pf_autos_icmbio"
   ]
  },
  {
   "cell_type": "code",
   "execution_count": null,
   "id": "f9e07660-2a89-4909-aa97-897ea7a9b8e1",
   "metadata": {},
   "outputs": [],
   "source": []
  },
  {
   "cell_type": "code",
   "execution_count": null,
   "id": "27a8f4e2-c68a-44f2-b4ff-2fc3d5b8ab59",
   "metadata": {},
   "outputs": [],
   "source": []
  },
  {
   "cell_type": "code",
   "execution_count": 49,
   "id": "30600e73-3b22-4dae-9e0f-e87b16fbd244",
   "metadata": {},
   "outputs": [],
   "source": [
    "frames = [doacoes_pf_embargos, doacoes_pf_autos_ibama, doacoes_pf_autos_icmbio]\n",
    "doacoes_ambt = pd.concat(frames)"
   ]
  },
  {
   "cell_type": "code",
   "execution_count": 50,
   "id": "b59ec5ce-c7b6-469e-b2d3-5cf66e01895e",
   "metadata": {},
   "outputs": [
    {
     "data": {
      "text/html": [
       "<div>\n",
       "<style scoped>\n",
       "    .dataframe tbody tr th:only-of-type {\n",
       "        vertical-align: middle;\n",
       "    }\n",
       "\n",
       "    .dataframe tbody tr th {\n",
       "        vertical-align: top;\n",
       "    }\n",
       "\n",
       "    .dataframe thead th {\n",
       "        text-align: right;\n",
       "    }\n",
       "</style>\n",
       "<table border=\"1\" class=\"dataframe\">\n",
       "  <thead>\n",
       "    <tr style=\"text-align: right;\">\n",
       "      <th></th>\n",
       "      <th>valor</th>\n",
       "      <th>politico_id</th>\n",
       "      <th>entidade_id</th>\n",
       "      <th>entidade_nome</th>\n",
       "      <th>doacoes_tipo</th>\n",
       "      <th>origem_do_dinheiro_no_tse</th>\n",
       "      <th>data</th>\n",
       "      <th>entidade_id_mascarada</th>\n",
       "    </tr>\n",
       "  </thead>\n",
       "  <tbody>\n",
       "    <tr>\n",
       "      <th>18</th>\n",
       "      <td>30000.0</td>\n",
       "      <td>37788566349</td>\n",
       "      <td>37788566349</td>\n",
       "      <td>MARCOS ROBERIO RIBEIRO MONTEIRO</td>\n",
       "      <td>direta</td>\n",
       "      <td>Outros Recursos</td>\n",
       "      <td>20/09/2018</td>\n",
       "      <td>***885663**</td>\n",
       "    </tr>\n",
       "    <tr>\n",
       "      <th>149</th>\n",
       "      <td>1000.0</td>\n",
       "      <td>14997169234</td>\n",
       "      <td>10215735668</td>\n",
       "      <td>HOMERO GUSMAO DE ALMEIDA</td>\n",
       "      <td>direta</td>\n",
       "      <td>Outros Recursos</td>\n",
       "      <td>28/09/2018</td>\n",
       "      <td>***157356**</td>\n",
       "    </tr>\n",
       "    <tr>\n",
       "      <th>114</th>\n",
       "      <td>28000.0</td>\n",
       "      <td>01960970453</td>\n",
       "      <td>01960970453</td>\n",
       "      <td>LUIZ GONZAGA PATRIOTA</td>\n",
       "      <td>direta</td>\n",
       "      <td>Outros Recursos</td>\n",
       "      <td>01/11/2018</td>\n",
       "      <td>***609704**</td>\n",
       "    </tr>\n",
       "    <tr>\n",
       "      <th>190</th>\n",
       "      <td>5000.0</td>\n",
       "      <td>02441369806</td>\n",
       "      <td>14142727826</td>\n",
       "      <td>OTAVIO UCHOA ZARVOS</td>\n",
       "      <td>direta</td>\n",
       "      <td>Outros Recursos</td>\n",
       "      <td>24/08/2018</td>\n",
       "      <td>***427278**</td>\n",
       "    </tr>\n",
       "    <tr>\n",
       "      <th>49</th>\n",
       "      <td>8000.0</td>\n",
       "      <td>82706522534</td>\n",
       "      <td>01421710501</td>\n",
       "      <td>THIAGO DE SANTANA SILVA</td>\n",
       "      <td>direta</td>\n",
       "      <td>Outros Recursos</td>\n",
       "      <td>25/08/2018</td>\n",
       "      <td>NaN</td>\n",
       "    </tr>\n",
       "  </tbody>\n",
       "</table>\n",
       "</div>"
      ],
      "text/plain": [
       "       valor  politico_id  entidade_id                    entidade_nome  \\\n",
       "18   30000.0  37788566349  37788566349  MARCOS ROBERIO RIBEIRO MONTEIRO   \n",
       "149   1000.0  14997169234  10215735668         HOMERO GUSMAO DE ALMEIDA   \n",
       "114  28000.0  01960970453  01960970453            LUIZ GONZAGA PATRIOTA   \n",
       "190   5000.0  02441369806  14142727826              OTAVIO UCHOA ZARVOS   \n",
       "49    8000.0  82706522534  01421710501          THIAGO DE SANTANA SILVA   \n",
       "\n",
       "    doacoes_tipo origem_do_dinheiro_no_tse        data entidade_id_mascarada  \n",
       "18        direta           Outros Recursos  20/09/2018           ***885663**  \n",
       "149       direta           Outros Recursos  28/09/2018           ***157356**  \n",
       "114       direta           Outros Recursos  01/11/2018           ***609704**  \n",
       "190       direta           Outros Recursos  24/08/2018           ***427278**  \n",
       "49        direta           Outros Recursos  25/08/2018                   NaN  "
      ]
     },
     "execution_count": 50,
     "metadata": {},
     "output_type": "execute_result"
    }
   ],
   "source": [
    "doacoes_ambt.sample(5)"
   ]
  },
  {
   "cell_type": "code",
   "execution_count": 51,
   "id": "344caec2-37e0-4825-aad8-51385f472b44",
   "metadata": {},
   "outputs": [
    {
     "data": {
      "text/plain": [
       "(253, 8)"
      ]
     },
     "execution_count": 51,
     "metadata": {},
     "output_type": "execute_result"
    }
   ],
   "source": [
    "doacoes_ambt.shape"
   ]
  },
  {
   "cell_type": "code",
   "execution_count": null,
   "id": "ea8ac79f-caed-4be5-83f8-a1f72d70315b",
   "metadata": {},
   "outputs": [],
   "source": []
  },
  {
   "cell_type": "code",
   "execution_count": 52,
   "id": "e3a0443f-5a3e-476b-b9b1-993e886b1c65",
   "metadata": {},
   "outputs": [],
   "source": [
    "doacoes_ambt = doacoes_ambt.sort_values(by=['politico_id'], ascending=False)"
   ]
  },
  {
   "cell_type": "code",
   "execution_count": 53,
   "id": "b247eb36-2cbf-4221-aaa4-109620e8cc09",
   "metadata": {},
   "outputs": [],
   "source": [
    "arr = doacoes_ambt[\"politico_id\"].unique()\n",
    "lista = arr.tolist()"
   ]
  },
  {
   "cell_type": "code",
   "execution_count": 54,
   "id": "9e17c5d1-f768-4d02-aad4-9f6223eafe0a",
   "metadata": {},
   "outputs": [
    {
     "data": {
      "text/plain": [
       "101"
      ]
     },
     "execution_count": 54,
     "metadata": {},
     "output_type": "execute_result"
    }
   ],
   "source": [
    "len(lista)"
   ]
  },
  {
   "cell_type": "code",
   "execution_count": null,
   "id": "56edff09-b71e-4078-ad87-3c4592e2f2b4",
   "metadata": {},
   "outputs": [],
   "source": []
  },
  {
   "cell_type": "code",
   "execution_count": 55,
   "id": "d7900ac5-cebf-4a04-9bd2-db2097d3a8e1",
   "metadata": {},
   "outputs": [],
   "source": [
    "dados_encontrados = []\n",
    "for politico in lista:\n",
    "    valor = 0\n",
    "    doadores = doacoes_ambt[(doacoes_ambt['politico_id'] == politico)]\n",
    "    \n",
    "    arr = doadores[\"entidade_id\"].unique()\n",
    "    lista_doadores = arr.tolist()\n",
    "    \n",
    "    for doador in lista_doadores:\n",
    "        \n",
    "        if len(doador) > 11:\n",
    "            doador = doador[:8]\n",
    "        \n",
    "        soma = doacoes_2018[(doacoes_2018['NR_CPF_CANDIDATO'] == politico) & (doacoes_2018['doador_raiz'] == doador)]\n",
    "        total = soma['VR_RECEITA'].sum()\n",
    "        valor += total\n",
    "    \n",
    "    dicionario = {\"politico_id\": politico, \n",
    "                  \"doacao_ambiental_direta_total\": valor}\n",
    "    dados_encontrados.append(dicionario)    "
   ]
  },
  {
   "cell_type": "code",
   "execution_count": 56,
   "id": "984b051b-c272-452e-9027-31d49800dffe",
   "metadata": {},
   "outputs": [],
   "source": [
    "doacoes_ambientais_diretas = pd.DataFrame(dados_encontrados)"
   ]
  },
  {
   "cell_type": "code",
   "execution_count": 57,
   "id": "afd6cfb6-704d-4652-8282-e1621870af68",
   "metadata": {},
   "outputs": [
    {
     "data": {
      "text/html": [
       "<div>\n",
       "<style scoped>\n",
       "    .dataframe tbody tr th:only-of-type {\n",
       "        vertical-align: middle;\n",
       "    }\n",
       "\n",
       "    .dataframe tbody tr th {\n",
       "        vertical-align: top;\n",
       "    }\n",
       "\n",
       "    .dataframe thead th {\n",
       "        text-align: right;\n",
       "    }\n",
       "</style>\n",
       "<table border=\"1\" class=\"dataframe\">\n",
       "  <thead>\n",
       "    <tr style=\"text-align: right;\">\n",
       "      <th></th>\n",
       "      <th>politico_id</th>\n",
       "      <th>doacao_ambiental_direta_total</th>\n",
       "    </tr>\n",
       "  </thead>\n",
       "  <tbody>\n",
       "    <tr>\n",
       "      <th>0</th>\n",
       "      <td>99898659149</td>\n",
       "      <td>47000.0</td>\n",
       "    </tr>\n",
       "    <tr>\n",
       "      <th>1</th>\n",
       "      <td>98042734700</td>\n",
       "      <td>300.0</td>\n",
       "    </tr>\n",
       "    <tr>\n",
       "      <th>2</th>\n",
       "      <td>94892393649</td>\n",
       "      <td>100000.0</td>\n",
       "    </tr>\n",
       "    <tr>\n",
       "      <th>3</th>\n",
       "      <td>93279493234</td>\n",
       "      <td>4600.0</td>\n",
       "    </tr>\n",
       "    <tr>\n",
       "      <th>4</th>\n",
       "      <td>91804736791</td>\n",
       "      <td>1500.0</td>\n",
       "    </tr>\n",
       "    <tr>\n",
       "      <th>...</th>\n",
       "      <td>...</td>\n",
       "      <td>...</td>\n",
       "    </tr>\n",
       "    <tr>\n",
       "      <th>96</th>\n",
       "      <td>01102125334</td>\n",
       "      <td>15000.0</td>\n",
       "    </tr>\n",
       "    <tr>\n",
       "      <th>97</th>\n",
       "      <td>00731302060</td>\n",
       "      <td>7500.0</td>\n",
       "    </tr>\n",
       "    <tr>\n",
       "      <th>98</th>\n",
       "      <td>00263382893</td>\n",
       "      <td>1500.0</td>\n",
       "    </tr>\n",
       "    <tr>\n",
       "      <th>99</th>\n",
       "      <td>00168780860</td>\n",
       "      <td>10000.0</td>\n",
       "    </tr>\n",
       "    <tr>\n",
       "      <th>100</th>\n",
       "      <td>00113735391</td>\n",
       "      <td>20000.0</td>\n",
       "    </tr>\n",
       "  </tbody>\n",
       "</table>\n",
       "<p>101 rows × 2 columns</p>\n",
       "</div>"
      ],
      "text/plain": [
       "     politico_id  doacao_ambiental_direta_total\n",
       "0    99898659149                        47000.0\n",
       "1    98042734700                          300.0\n",
       "2    94892393649                       100000.0\n",
       "3    93279493234                         4600.0\n",
       "4    91804736791                         1500.0\n",
       "..           ...                            ...\n",
       "96   01102125334                        15000.0\n",
       "97   00731302060                         7500.0\n",
       "98   00263382893                         1500.0\n",
       "99   00168780860                        10000.0\n",
       "100  00113735391                        20000.0\n",
       "\n",
       "[101 rows x 2 columns]"
      ]
     },
     "execution_count": 57,
     "metadata": {},
     "output_type": "execute_result"
    }
   ],
   "source": [
    "doacoes_ambientais_diretas"
   ]
  },
  {
   "cell_type": "code",
   "execution_count": 93,
   "id": "ba6d6e7d-5610-4aa0-8c54-2a11d230d3cb",
   "metadata": {},
   "outputs": [],
   "source": [
    "doacoes_ambientais_diretas.to_excel('resultados/totais_doacoes/totais_doacoes_diretas_irregularidades_ambientais.xlsx',sheet_name='Sheet1',index=False)"
   ]
  },
  {
   "cell_type": "code",
   "execution_count": null,
   "id": "5109873b-869a-4f32-9bb1-9f2f44724726",
   "metadata": {},
   "outputs": [],
   "source": []
  },
  {
   "cell_type": "code",
   "execution_count": 58,
   "id": "8c1bac94-d992-4e00-9656-e007a90b813e",
   "metadata": {},
   "outputs": [
    {
     "data": {
      "text/plain": [
       "0.0"
      ]
     },
     "execution_count": 58,
     "metadata": {},
     "output_type": "execute_result"
    }
   ],
   "source": [
    "busca = doacoes_pf_embargos[(doacoes_pf_embargos['politico_id'] == '00113735391')]\n",
    "busca['valor'].sum()"
   ]
  },
  {
   "cell_type": "code",
   "execution_count": 59,
   "id": "444d99d9-e65a-4f19-ad74-2fa95cf4d14f",
   "metadata": {},
   "outputs": [
    {
     "data": {
      "text/plain": [
       "20000.0"
      ]
     },
     "execution_count": 59,
     "metadata": {},
     "output_type": "execute_result"
    }
   ],
   "source": [
    "busca = doacoes_pf_autos_ibama[(doacoes_pf_autos_ibama['politico_id'] == '00113735391')]\n",
    "busca['valor'].sum()"
   ]
  },
  {
   "cell_type": "code",
   "execution_count": 60,
   "id": "cbe803dc-d074-42f0-8311-4601128357e3",
   "metadata": {},
   "outputs": [
    {
     "data": {
      "text/html": [
       "<div>\n",
       "<style scoped>\n",
       "    .dataframe tbody tr th:only-of-type {\n",
       "        vertical-align: middle;\n",
       "    }\n",
       "\n",
       "    .dataframe tbody tr th {\n",
       "        vertical-align: top;\n",
       "    }\n",
       "\n",
       "    .dataframe thead th {\n",
       "        text-align: right;\n",
       "    }\n",
       "</style>\n",
       "<table border=\"1\" class=\"dataframe\">\n",
       "  <thead>\n",
       "    <tr style=\"text-align: right;\">\n",
       "      <th></th>\n",
       "      <th>valor</th>\n",
       "      <th>politico_id</th>\n",
       "      <th>entidade_id</th>\n",
       "      <th>entidade_id_mascarada</th>\n",
       "      <th>entidade_nome</th>\n",
       "      <th>doacoes_tipo</th>\n",
       "      <th>origem_do_dinheiro_no_tse</th>\n",
       "      <th>data</th>\n",
       "    </tr>\n",
       "  </thead>\n",
       "  <tbody>\n",
       "    <tr>\n",
       "      <th>16</th>\n",
       "      <td>15000.0</td>\n",
       "      <td>00113735391</td>\n",
       "      <td>01324071320</td>\n",
       "      <td>***240713**</td>\n",
       "      <td>EVERARDO FERREIRA TELLES</td>\n",
       "      <td>direta</td>\n",
       "      <td>Outros Recursos</td>\n",
       "      <td>02/10/2018</td>\n",
       "    </tr>\n",
       "    <tr>\n",
       "      <th>17</th>\n",
       "      <td>5000.0</td>\n",
       "      <td>00113735391</td>\n",
       "      <td>41394143320</td>\n",
       "      <td>***941433**</td>\n",
       "      <td>EVELINE PESSOA DE ARAUJO</td>\n",
       "      <td>direta</td>\n",
       "      <td>Outros Recursos</td>\n",
       "      <td>04/11/2018</td>\n",
       "    </tr>\n",
       "  </tbody>\n",
       "</table>\n",
       "</div>"
      ],
      "text/plain": [
       "      valor  politico_id  entidade_id entidade_id_mascarada  \\\n",
       "16  15000.0  00113735391  01324071320           ***240713**   \n",
       "17   5000.0  00113735391  41394143320           ***941433**   \n",
       "\n",
       "               entidade_nome doacoes_tipo origem_do_dinheiro_no_tse  \\\n",
       "16  EVERARDO FERREIRA TELLES       direta           Outros Recursos   \n",
       "17  EVELINE PESSOA DE ARAUJO       direta           Outros Recursos   \n",
       "\n",
       "          data  \n",
       "16  02/10/2018  \n",
       "17  04/11/2018  "
      ]
     },
     "execution_count": 60,
     "metadata": {},
     "output_type": "execute_result"
    }
   ],
   "source": [
    "busca"
   ]
  },
  {
   "cell_type": "code",
   "execution_count": 61,
   "id": "a60e4ee6-4406-469e-b178-b34e02fb5849",
   "metadata": {},
   "outputs": [
    {
     "data": {
      "text/plain": [
       "0.0"
      ]
     },
     "execution_count": 61,
     "metadata": {},
     "output_type": "execute_result"
    }
   ],
   "source": [
    "busca = doacoes_pf_autos_icmbio[(doacoes_pf_autos_icmbio['politico_id'] == '00113735391')]\n",
    "busca['valor'].sum()"
   ]
  },
  {
   "cell_type": "code",
   "execution_count": null,
   "id": "551288a1-0ed9-439e-8c68-d5a24dfb6f0b",
   "metadata": {},
   "outputs": [],
   "source": []
  },
  {
   "cell_type": "code",
   "execution_count": 62,
   "id": "d1dd5f67-a9a7-4c11-8465-21bc792533f4",
   "metadata": {},
   "outputs": [
    {
     "data": {
      "text/plain": [
       "566140.0"
      ]
     },
     "execution_count": 62,
     "metadata": {},
     "output_type": "execute_result"
    }
   ],
   "source": [
    "busca = doacoes_pf_embargos[(doacoes_pf_embargos['politico_id'] == '15791563809')]\n",
    "busca['valor'].sum()"
   ]
  },
  {
   "cell_type": "code",
   "execution_count": 63,
   "id": "aad65a41-218c-40e6-81f6-09f139ab9e91",
   "metadata": {},
   "outputs": [
    {
     "data": {
      "text/html": [
       "<div>\n",
       "<style scoped>\n",
       "    .dataframe tbody tr th:only-of-type {\n",
       "        vertical-align: middle;\n",
       "    }\n",
       "\n",
       "    .dataframe tbody tr th {\n",
       "        vertical-align: top;\n",
       "    }\n",
       "\n",
       "    .dataframe thead th {\n",
       "        text-align: right;\n",
       "    }\n",
       "</style>\n",
       "<table border=\"1\" class=\"dataframe\">\n",
       "  <thead>\n",
       "    <tr style=\"text-align: right;\">\n",
       "      <th></th>\n",
       "      <th>valor</th>\n",
       "      <th>politico_id</th>\n",
       "      <th>entidade_id</th>\n",
       "      <th>entidade_nome</th>\n",
       "      <th>doacoes_tipo</th>\n",
       "      <th>origem_do_dinheiro_no_tse</th>\n",
       "      <th>data</th>\n",
       "    </tr>\n",
       "  </thead>\n",
       "  <tbody>\n",
       "    <tr>\n",
       "      <th>9</th>\n",
       "      <td>275000.0</td>\n",
       "      <td>15791563809</td>\n",
       "      <td>66296676891</td>\n",
       "      <td>FERNANDO DE CASTRO MARQUES</td>\n",
       "      <td>direta</td>\n",
       "      <td>Outros Recursos</td>\n",
       "      <td>04/10/2018</td>\n",
       "    </tr>\n",
       "    <tr>\n",
       "      <th>10</th>\n",
       "      <td>275000.0</td>\n",
       "      <td>15791563809</td>\n",
       "      <td>66296676891</td>\n",
       "      <td>FERNANDO DE CASTRO MARQUES</td>\n",
       "      <td>direta</td>\n",
       "      <td>Outros Recursos</td>\n",
       "      <td>24/09/2018</td>\n",
       "    </tr>\n",
       "    <tr>\n",
       "      <th>11</th>\n",
       "      <td>16140.0</td>\n",
       "      <td>15791563809</td>\n",
       "      <td>66296676891</td>\n",
       "      <td>FERNANDO DE CASTRO MARQUES</td>\n",
       "      <td>direta</td>\n",
       "      <td>Outros Recursos</td>\n",
       "      <td>21/09/2018</td>\n",
       "    </tr>\n",
       "  </tbody>\n",
       "</table>\n",
       "</div>"
      ],
      "text/plain": [
       "       valor  politico_id  entidade_id               entidade_nome  \\\n",
       "9   275000.0  15791563809  66296676891  FERNANDO DE CASTRO MARQUES   \n",
       "10  275000.0  15791563809  66296676891  FERNANDO DE CASTRO MARQUES   \n",
       "11   16140.0  15791563809  66296676891  FERNANDO DE CASTRO MARQUES   \n",
       "\n",
       "   doacoes_tipo origem_do_dinheiro_no_tse        data  \n",
       "9        direta           Outros Recursos  04/10/2018  \n",
       "10       direta           Outros Recursos  24/09/2018  \n",
       "11       direta           Outros Recursos  21/09/2018  "
      ]
     },
     "execution_count": 63,
     "metadata": {},
     "output_type": "execute_result"
    }
   ],
   "source": [
    "busca"
   ]
  },
  {
   "cell_type": "code",
   "execution_count": 64,
   "id": "e76a5d77-cb31-4bb2-8141-a1c422ab7fd5",
   "metadata": {},
   "outputs": [
    {
     "data": {
      "text/plain": [
       "566140.0"
      ]
     },
     "execution_count": 64,
     "metadata": {},
     "output_type": "execute_result"
    }
   ],
   "source": [
    "busca = doacoes_pf_autos_ibama[(doacoes_pf_autos_ibama['politico_id'] == '15791563809')]\n",
    "busca['valor'].sum()"
   ]
  },
  {
   "cell_type": "code",
   "execution_count": 65,
   "id": "a63e4947-9457-420f-9529-8c72f272f21e",
   "metadata": {},
   "outputs": [
    {
     "data": {
      "text/html": [
       "<div>\n",
       "<style scoped>\n",
       "    .dataframe tbody tr th:only-of-type {\n",
       "        vertical-align: middle;\n",
       "    }\n",
       "\n",
       "    .dataframe tbody tr th {\n",
       "        vertical-align: top;\n",
       "    }\n",
       "\n",
       "    .dataframe thead th {\n",
       "        text-align: right;\n",
       "    }\n",
       "</style>\n",
       "<table border=\"1\" class=\"dataframe\">\n",
       "  <thead>\n",
       "    <tr style=\"text-align: right;\">\n",
       "      <th></th>\n",
       "      <th>valor</th>\n",
       "      <th>politico_id</th>\n",
       "      <th>entidade_id</th>\n",
       "      <th>entidade_id_mascarada</th>\n",
       "      <th>entidade_nome</th>\n",
       "      <th>doacoes_tipo</th>\n",
       "      <th>origem_do_dinheiro_no_tse</th>\n",
       "      <th>data</th>\n",
       "    </tr>\n",
       "  </thead>\n",
       "  <tbody>\n",
       "    <tr>\n",
       "      <th>25</th>\n",
       "      <td>275000.0</td>\n",
       "      <td>15791563809</td>\n",
       "      <td>66296676891</td>\n",
       "      <td>***966768**</td>\n",
       "      <td>FERNANDO DE CASTRO MARQUES</td>\n",
       "      <td>direta</td>\n",
       "      <td>Outros Recursos</td>\n",
       "      <td>04/10/2018</td>\n",
       "    </tr>\n",
       "    <tr>\n",
       "      <th>26</th>\n",
       "      <td>275000.0</td>\n",
       "      <td>15791563809</td>\n",
       "      <td>66296676891</td>\n",
       "      <td>***966768**</td>\n",
       "      <td>FERNANDO DE CASTRO MARQUES</td>\n",
       "      <td>direta</td>\n",
       "      <td>Outros Recursos</td>\n",
       "      <td>24/09/2018</td>\n",
       "    </tr>\n",
       "    <tr>\n",
       "      <th>27</th>\n",
       "      <td>16140.0</td>\n",
       "      <td>15791563809</td>\n",
       "      <td>66296676891</td>\n",
       "      <td>***966768**</td>\n",
       "      <td>FERNANDO DE CASTRO MARQUES</td>\n",
       "      <td>direta</td>\n",
       "      <td>Outros Recursos</td>\n",
       "      <td>21/09/2018</td>\n",
       "    </tr>\n",
       "  </tbody>\n",
       "</table>\n",
       "</div>"
      ],
      "text/plain": [
       "       valor  politico_id  entidade_id entidade_id_mascarada  \\\n",
       "25  275000.0  15791563809  66296676891           ***966768**   \n",
       "26  275000.0  15791563809  66296676891           ***966768**   \n",
       "27   16140.0  15791563809  66296676891           ***966768**   \n",
       "\n",
       "                 entidade_nome doacoes_tipo origem_do_dinheiro_no_tse  \\\n",
       "25  FERNANDO DE CASTRO MARQUES       direta           Outros Recursos   \n",
       "26  FERNANDO DE CASTRO MARQUES       direta           Outros Recursos   \n",
       "27  FERNANDO DE CASTRO MARQUES       direta           Outros Recursos   \n",
       "\n",
       "          data  \n",
       "25  04/10/2018  \n",
       "26  24/09/2018  \n",
       "27  21/09/2018  "
      ]
     },
     "execution_count": 65,
     "metadata": {},
     "output_type": "execute_result"
    }
   ],
   "source": [
    "busca"
   ]
  },
  {
   "cell_type": "code",
   "execution_count": 66,
   "id": "8555ef23-c1c9-4717-b873-ee4db33a91bc",
   "metadata": {},
   "outputs": [
    {
     "data": {
      "text/plain": [
       "0.0"
      ]
     },
     "execution_count": 66,
     "metadata": {},
     "output_type": "execute_result"
    }
   ],
   "source": [
    "busca = doacoes_pf_autos_icmbio[(doacoes_pf_autos_icmbio['politico_id'] == '15791563809')]\n",
    "busca['valor'].sum()"
   ]
  },
  {
   "cell_type": "code",
   "execution_count": null,
   "id": "3c49a3de-4676-4418-b6d6-33dbf45e0237",
   "metadata": {},
   "outputs": [],
   "source": []
  },
  {
   "cell_type": "code",
   "execution_count": 67,
   "id": "6a04f993-37d2-4237-a9c0-16b51aa56a67",
   "metadata": {},
   "outputs": [
    {
     "data": {
      "text/plain": [
       "0.0"
      ]
     },
     "execution_count": 67,
     "metadata": {},
     "output_type": "execute_result"
    }
   ],
   "source": [
    "busca = doacoes_pf_embargos[(doacoes_pf_embargos['politico_id'] == '13205285115')]\n",
    "busca['valor'].sum()"
   ]
  },
  {
   "cell_type": "code",
   "execution_count": 68,
   "id": "2e958556-a1ad-4e79-8065-61e1b145cac0",
   "metadata": {},
   "outputs": [
    {
     "data": {
      "text/plain": [
       "240293.48"
      ]
     },
     "execution_count": 68,
     "metadata": {},
     "output_type": "execute_result"
    }
   ],
   "source": [
    "busca = doacoes_pf_autos_ibama[(doacoes_pf_autos_ibama['politico_id'] == '13205285115')]\n",
    "busca['valor'].sum()"
   ]
  },
  {
   "cell_type": "code",
   "execution_count": 69,
   "id": "c512b1ff-bba6-4fec-8dcb-d630d781a354",
   "metadata": {},
   "outputs": [
    {
     "data": {
      "text/plain": [
       "0.0"
      ]
     },
     "execution_count": 69,
     "metadata": {},
     "output_type": "execute_result"
    }
   ],
   "source": [
    "busca = doacoes_pf_autos_icmbio[(doacoes_pf_autos_icmbio['politico_id'] == '13205285115')]\n",
    "busca['valor'].sum()"
   ]
  },
  {
   "cell_type": "code",
   "execution_count": null,
   "id": "967de67d-1f52-4c3e-b28c-812a581cda52",
   "metadata": {},
   "outputs": [],
   "source": []
  },
  {
   "cell_type": "code",
   "execution_count": 70,
   "id": "ff50953f-b68e-4c79-b505-7a9aceb8af26",
   "metadata": {},
   "outputs": [
    {
     "data": {
      "text/plain": [
       "0.0"
      ]
     },
     "execution_count": 70,
     "metadata": {},
     "output_type": "execute_result"
    }
   ],
   "source": [
    "busca = doacoes_pf_embargos[(doacoes_pf_embargos['politico_id'] == '09911967751')]\n",
    "busca['valor'].sum()"
   ]
  },
  {
   "cell_type": "code",
   "execution_count": 71,
   "id": "345f815b-923c-47ba-bf52-460342d9dcd3",
   "metadata": {},
   "outputs": [
    {
     "data": {
      "text/html": [
       "<div>\n",
       "<style scoped>\n",
       "    .dataframe tbody tr th:only-of-type {\n",
       "        vertical-align: middle;\n",
       "    }\n",
       "\n",
       "    .dataframe tbody tr th {\n",
       "        vertical-align: top;\n",
       "    }\n",
       "\n",
       "    .dataframe thead th {\n",
       "        text-align: right;\n",
       "    }\n",
       "</style>\n",
       "<table border=\"1\" class=\"dataframe\">\n",
       "  <thead>\n",
       "    <tr style=\"text-align: right;\">\n",
       "      <th></th>\n",
       "      <th>valor</th>\n",
       "      <th>politico_id</th>\n",
       "      <th>entidade_id</th>\n",
       "      <th>entidade_id_mascarada</th>\n",
       "      <th>entidade_nome</th>\n",
       "      <th>doacoes_tipo</th>\n",
       "      <th>origem_do_dinheiro_no_tse</th>\n",
       "      <th>data</th>\n",
       "    </tr>\n",
       "  </thead>\n",
       "  <tbody>\n",
       "    <tr>\n",
       "      <th>133</th>\n",
       "      <td>2000.0</td>\n",
       "      <td>09911967751</td>\n",
       "      <td>76623670700</td>\n",
       "      <td>***236707**</td>\n",
       "      <td>MARCELO PINTO DUARTE BARBARA</td>\n",
       "      <td>direta</td>\n",
       "      <td>Outros Recursos</td>\n",
       "      <td>03/10/2018</td>\n",
       "    </tr>\n",
       "    <tr>\n",
       "      <th>134</th>\n",
       "      <td>10000.0</td>\n",
       "      <td>09911967751</td>\n",
       "      <td>00814440797</td>\n",
       "      <td>***144407**</td>\n",
       "      <td>ARMANDO KLABIN</td>\n",
       "      <td>direta</td>\n",
       "      <td>Outros Recursos</td>\n",
       "      <td>31/08/2018</td>\n",
       "    </tr>\n",
       "  </tbody>\n",
       "</table>\n",
       "</div>"
      ],
      "text/plain": [
       "       valor  politico_id  entidade_id entidade_id_mascarada  \\\n",
       "133   2000.0  09911967751  76623670700           ***236707**   \n",
       "134  10000.0  09911967751  00814440797           ***144407**   \n",
       "\n",
       "                    entidade_nome doacoes_tipo origem_do_dinheiro_no_tse  \\\n",
       "133  MARCELO PINTO DUARTE BARBARA       direta           Outros Recursos   \n",
       "134                ARMANDO KLABIN       direta           Outros Recursos   \n",
       "\n",
       "           data  \n",
       "133  03/10/2018  \n",
       "134  31/08/2018  "
      ]
     },
     "execution_count": 71,
     "metadata": {},
     "output_type": "execute_result"
    }
   ],
   "source": [
    "busca = doacoes_pf_autos_ibama[(doacoes_pf_autos_ibama['politico_id'] == '09911967751')]\n",
    "busca['valor'].sum()\n",
    "busca"
   ]
  },
  {
   "cell_type": "code",
   "execution_count": 72,
   "id": "5aa1bc64-0479-4da7-bf1a-2ed212529576",
   "metadata": {},
   "outputs": [
    {
     "data": {
      "text/html": [
       "<div>\n",
       "<style scoped>\n",
       "    .dataframe tbody tr th:only-of-type {\n",
       "        vertical-align: middle;\n",
       "    }\n",
       "\n",
       "    .dataframe tbody tr th {\n",
       "        vertical-align: top;\n",
       "    }\n",
       "\n",
       "    .dataframe thead th {\n",
       "        text-align: right;\n",
       "    }\n",
       "</style>\n",
       "<table border=\"1\" class=\"dataframe\">\n",
       "  <thead>\n",
       "    <tr style=\"text-align: right;\">\n",
       "      <th></th>\n",
       "      <th>valor</th>\n",
       "      <th>politico_id</th>\n",
       "      <th>entidade_id</th>\n",
       "      <th>entidade_nome</th>\n",
       "      <th>doacoes_tipo</th>\n",
       "      <th>origem_do_dinheiro_no_tse</th>\n",
       "      <th>data</th>\n",
       "    </tr>\n",
       "  </thead>\n",
       "  <tbody>\n",
       "    <tr>\n",
       "      <th>0</th>\n",
       "      <td>2000.0</td>\n",
       "      <td>09911967751</td>\n",
       "      <td>76623670700</td>\n",
       "      <td>MARCELO PINTO DUARTE BARBARA</td>\n",
       "      <td>direta</td>\n",
       "      <td>Outros Recursos</td>\n",
       "      <td>03/10/2018</td>\n",
       "    </tr>\n",
       "  </tbody>\n",
       "</table>\n",
       "</div>"
      ],
      "text/plain": [
       "    valor  politico_id  entidade_id                 entidade_nome  \\\n",
       "0  2000.0  09911967751  76623670700  MARCELO PINTO DUARTE BARBARA   \n",
       "\n",
       "  doacoes_tipo origem_do_dinheiro_no_tse        data  \n",
       "0       direta           Outros Recursos  03/10/2018  "
      ]
     },
     "execution_count": 72,
     "metadata": {},
     "output_type": "execute_result"
    }
   ],
   "source": [
    "busca = doacoes_pf_autos_icmbio[(doacoes_pf_autos_icmbio['politico_id'] == '09911967751')]\n",
    "busca['valor'].sum()\n",
    "busca"
   ]
  },
  {
   "cell_type": "code",
   "execution_count": null,
   "id": "0a9aa635-4fa1-43b3-9405-19a817694fcf",
   "metadata": {},
   "outputs": [],
   "source": []
  },
  {
   "cell_type": "code",
   "execution_count": null,
   "id": "a40bcc36-0ff5-413f-a9b3-71614a14171e",
   "metadata": {},
   "outputs": [],
   "source": []
  },
  {
   "cell_type": "markdown",
   "id": "719d26bb-aa49-4b7f-bb9a-7a8f92a3679c",
   "metadata": {},
   "source": [
    "### Ambientais indiretas"
   ]
  },
  {
   "cell_type": "code",
   "execution_count": 73,
   "id": "665f11ed-24ef-49a2-bb97-a634cd9dc395",
   "metadata": {},
   "outputs": [
    {
     "data": {
      "text/plain": [
       "Index(['valor', 'politico_id', 'politico_id.1', 'entidade_id', 'entidade_nome',\n",
       "       'sequencialdoador_id', 'doacoes_tipo', 'origem_do_dinheiro_no_tse',\n",
       "       'data'],\n",
       "      dtype='object')"
      ]
     },
     "execution_count": 73,
     "metadata": {},
     "output_type": "execute_result"
    }
   ],
   "source": [
    "kwargs = {'sep': ',', 'dtype': str, 'encoding': 'utf-8'}\n",
    "doacoes_indiretas_pf_embargos = pd.read_csv(\"resultados/embargos_ibama/doacoes_indiretas_vindas_pessoas_com_embargos_ibama_2018.csv\", **kwargs)\n",
    "\n",
    "doacoes_indiretas_pf_embargos['valor'] = doacoes_indiretas_pf_embargos['valor'].str.replace(',','.')\n",
    "doacoes_indiretas_pf_embargos['valor'] = doacoes_indiretas_pf_embargos['valor'].astype('float64') \n",
    "doacoes_indiretas_pf_embargos.columns"
   ]
  },
  {
   "cell_type": "code",
   "execution_count": null,
   "id": "b5a20042-067b-4063-9133-d0c90bd6988a",
   "metadata": {},
   "outputs": [],
   "source": []
  },
  {
   "cell_type": "code",
   "execution_count": 74,
   "id": "7a087a19-126c-4365-8396-691c78f85d33",
   "metadata": {},
   "outputs": [
    {
     "data": {
      "text/plain": [
       "Index(['valor', 'politico_id', 'entidade_id', 'entidade_id_mascarada',\n",
       "       'entidade_nome', 'sequencialdoador_id', 'doacoes_tipo',\n",
       "       'origem_do_dinheiro_no_tse', 'data'],\n",
       "      dtype='object')"
      ]
     },
     "execution_count": 74,
     "metadata": {},
     "output_type": "execute_result"
    }
   ],
   "source": [
    "kwargs = {'sep': ',', 'dtype': str, 'encoding': 'utf-8'}\n",
    "doacoes_indiretas_pf_autos_ibama = pd.read_csv(\"resultados/autos_ibama/doacoes_indiretas_vindas_pessoas_com_autos_de_infracao_ibama_2018.csv\", **kwargs)\n",
    "\n",
    "doacoes_indiretas_pf_autos_ibama['valor'] = doacoes_indiretas_pf_autos_ibama['valor'].str.replace(',','.')\n",
    "doacoes_indiretas_pf_autos_ibama['valor'] = doacoes_indiretas_pf_autos_ibama['valor'].astype('float64') \n",
    "doacoes_indiretas_pf_autos_ibama.columns"
   ]
  },
  {
   "cell_type": "code",
   "execution_count": 75,
   "id": "8f403a10-0e49-462a-a8ed-881b25d2ff02",
   "metadata": {},
   "outputs": [
    {
     "data": {
      "text/html": [
       "<div>\n",
       "<style scoped>\n",
       "    .dataframe tbody tr th:only-of-type {\n",
       "        vertical-align: middle;\n",
       "    }\n",
       "\n",
       "    .dataframe tbody tr th {\n",
       "        vertical-align: top;\n",
       "    }\n",
       "\n",
       "    .dataframe thead th {\n",
       "        text-align: right;\n",
       "    }\n",
       "</style>\n",
       "<table border=\"1\" class=\"dataframe\">\n",
       "  <thead>\n",
       "    <tr style=\"text-align: right;\">\n",
       "      <th></th>\n",
       "      <th>valor</th>\n",
       "      <th>politico_id</th>\n",
       "      <th>entidade_id</th>\n",
       "      <th>entidade_id_mascarada</th>\n",
       "      <th>entidade_nome</th>\n",
       "      <th>sequencialdoador_id</th>\n",
       "      <th>doacoes_tipo</th>\n",
       "      <th>origem_do_dinheiro_no_tse</th>\n",
       "      <th>data</th>\n",
       "    </tr>\n",
       "  </thead>\n",
       "  <tbody>\n",
       "    <tr>\n",
       "      <th>0</th>\n",
       "      <td>47000.0</td>\n",
       "      <td>07894090549</td>\n",
       "      <td>04789113515</td>\n",
       "      <td>***891135**</td>\n",
       "      <td>JOSE ALVES ROCHA</td>\n",
       "      <td>50000607804</td>\n",
       "      <td>indireta</td>\n",
       "      <td>Fundo Especial</td>\n",
       "      <td>24/09/2018</td>\n",
       "    </tr>\n",
       "    <tr>\n",
       "      <th>1</th>\n",
       "      <td>30000.0</td>\n",
       "      <td>07894090549</td>\n",
       "      <td>04789113515</td>\n",
       "      <td>***891135**</td>\n",
       "      <td>JOSE ALVES ROCHA</td>\n",
       "      <td>50000607804</td>\n",
       "      <td>indireta</td>\n",
       "      <td>Fundo Especial</td>\n",
       "      <td>21/09/2018</td>\n",
       "    </tr>\n",
       "    <tr>\n",
       "      <th>2</th>\n",
       "      <td>5000.0</td>\n",
       "      <td>07894090549</td>\n",
       "      <td>04789113515</td>\n",
       "      <td>***891135**</td>\n",
       "      <td>JOSE ALVES ROCHA</td>\n",
       "      <td>50000607804</td>\n",
       "      <td>indireta</td>\n",
       "      <td>Fundo Especial</td>\n",
       "      <td>19/09/2018</td>\n",
       "    </tr>\n",
       "    <tr>\n",
       "      <th>3</th>\n",
       "      <td>25000.0</td>\n",
       "      <td>07894090549</td>\n",
       "      <td>04789113515</td>\n",
       "      <td>***891135**</td>\n",
       "      <td>JOSE ALVES ROCHA</td>\n",
       "      <td>50000607804</td>\n",
       "      <td>indireta</td>\n",
       "      <td>Fundo Especial</td>\n",
       "      <td>03/10/2018</td>\n",
       "    </tr>\n",
       "    <tr>\n",
       "      <th>4</th>\n",
       "      <td>12500.0</td>\n",
       "      <td>25630512315</td>\n",
       "      <td>03679004320</td>\n",
       "      <td>***790043**</td>\n",
       "      <td>EUNICIO LOPES DE OLIVEIRA</td>\n",
       "      <td>60000605116</td>\n",
       "      <td>indireta</td>\n",
       "      <td>Fundo Especial</td>\n",
       "      <td>03/10/2018</td>\n",
       "    </tr>\n",
       "    <tr>\n",
       "      <th>...</th>\n",
       "      <td>...</td>\n",
       "      <td>...</td>\n",
       "      <td>...</td>\n",
       "      <td>...</td>\n",
       "      <td>...</td>\n",
       "      <td>...</td>\n",
       "      <td>...</td>\n",
       "      <td>...</td>\n",
       "      <td>...</td>\n",
       "    </tr>\n",
       "    <tr>\n",
       "      <th>112</th>\n",
       "      <td>170.0</td>\n",
       "      <td>74274112268</td>\n",
       "      <td>11218789204</td>\n",
       "      <td>***187892**</td>\n",
       "      <td>ANTONIO MECIAS PEREIRA DE JESUS</td>\n",
       "      <td>230000609420</td>\n",
       "      <td>indireta</td>\n",
       "      <td>Fundo Especial</td>\n",
       "      <td>30/08/2018</td>\n",
       "    </tr>\n",
       "    <tr>\n",
       "      <th>113</th>\n",
       "      <td>140.0</td>\n",
       "      <td>74274112268</td>\n",
       "      <td>11218789204</td>\n",
       "      <td>***187892**</td>\n",
       "      <td>ANTONIO MECIAS PEREIRA DE JESUS</td>\n",
       "      <td>230000609420</td>\n",
       "      <td>indireta</td>\n",
       "      <td>Fundo Especial</td>\n",
       "      <td>30/08/2018</td>\n",
       "    </tr>\n",
       "    <tr>\n",
       "      <th>114</th>\n",
       "      <td>1600.0</td>\n",
       "      <td>74274112268</td>\n",
       "      <td>11218789204</td>\n",
       "      <td>***187892**</td>\n",
       "      <td>ANTONIO MECIAS PEREIRA DE JESUS</td>\n",
       "      <td>230000609420</td>\n",
       "      <td>indireta</td>\n",
       "      <td>Fundo Especial</td>\n",
       "      <td>30/08/2018</td>\n",
       "    </tr>\n",
       "    <tr>\n",
       "      <th>115</th>\n",
       "      <td>4800.0</td>\n",
       "      <td>74274112268</td>\n",
       "      <td>11218789204</td>\n",
       "      <td>***187892**</td>\n",
       "      <td>ANTONIO MECIAS PEREIRA DE JESUS</td>\n",
       "      <td>230000609420</td>\n",
       "      <td>indireta</td>\n",
       "      <td>Fundo Especial</td>\n",
       "      <td>30/08/2018</td>\n",
       "    </tr>\n",
       "    <tr>\n",
       "      <th>116</th>\n",
       "      <td>300.0</td>\n",
       "      <td>74274112268</td>\n",
       "      <td>11218789204</td>\n",
       "      <td>***187892**</td>\n",
       "      <td>ANTONIO MECIAS PEREIRA DE JESUS</td>\n",
       "      <td>230000609420</td>\n",
       "      <td>indireta</td>\n",
       "      <td>Fundo Especial</td>\n",
       "      <td>30/08/2018</td>\n",
       "    </tr>\n",
       "  </tbody>\n",
       "</table>\n",
       "<p>117 rows × 9 columns</p>\n",
       "</div>"
      ],
      "text/plain": [
       "       valor  politico_id  entidade_id entidade_id_mascarada  \\\n",
       "0    47000.0  07894090549  04789113515           ***891135**   \n",
       "1    30000.0  07894090549  04789113515           ***891135**   \n",
       "2     5000.0  07894090549  04789113515           ***891135**   \n",
       "3    25000.0  07894090549  04789113515           ***891135**   \n",
       "4    12500.0  25630512315  03679004320           ***790043**   \n",
       "..       ...          ...          ...                   ...   \n",
       "112    170.0  74274112268  11218789204           ***187892**   \n",
       "113    140.0  74274112268  11218789204           ***187892**   \n",
       "114   1600.0  74274112268  11218789204           ***187892**   \n",
       "115   4800.0  74274112268  11218789204           ***187892**   \n",
       "116    300.0  74274112268  11218789204           ***187892**   \n",
       "\n",
       "                       entidade_nome sequencialdoador_id doacoes_tipo  \\\n",
       "0                   JOSE ALVES ROCHA         50000607804     indireta   \n",
       "1                   JOSE ALVES ROCHA         50000607804     indireta   \n",
       "2                   JOSE ALVES ROCHA         50000607804     indireta   \n",
       "3                   JOSE ALVES ROCHA         50000607804     indireta   \n",
       "4          EUNICIO LOPES DE OLIVEIRA         60000605116     indireta   \n",
       "..                               ...                 ...          ...   \n",
       "112  ANTONIO MECIAS PEREIRA DE JESUS        230000609420     indireta   \n",
       "113  ANTONIO MECIAS PEREIRA DE JESUS        230000609420     indireta   \n",
       "114  ANTONIO MECIAS PEREIRA DE JESUS        230000609420     indireta   \n",
       "115  ANTONIO MECIAS PEREIRA DE JESUS        230000609420     indireta   \n",
       "116  ANTONIO MECIAS PEREIRA DE JESUS        230000609420     indireta   \n",
       "\n",
       "    origem_do_dinheiro_no_tse        data  \n",
       "0              Fundo Especial  24/09/2018  \n",
       "1              Fundo Especial  21/09/2018  \n",
       "2              Fundo Especial  19/09/2018  \n",
       "3              Fundo Especial  03/10/2018  \n",
       "4              Fundo Especial  03/10/2018  \n",
       "..                        ...         ...  \n",
       "112            Fundo Especial  30/08/2018  \n",
       "113            Fundo Especial  30/08/2018  \n",
       "114            Fundo Especial  30/08/2018  \n",
       "115            Fundo Especial  30/08/2018  \n",
       "116            Fundo Especial  30/08/2018  \n",
       "\n",
       "[117 rows x 9 columns]"
      ]
     },
     "execution_count": 75,
     "metadata": {},
     "output_type": "execute_result"
    }
   ],
   "source": [
    "doacoes_indiretas_pf_autos_ibama"
   ]
  },
  {
   "cell_type": "code",
   "execution_count": null,
   "id": "4934e9c2-6af8-4db2-84e1-d7b250f5721d",
   "metadata": {},
   "outputs": [],
   "source": []
  },
  {
   "cell_type": "code",
   "execution_count": 76,
   "id": "614e13ff-7d88-49bb-aba4-b5369836767e",
   "metadata": {},
   "outputs": [],
   "source": [
    "#kwargs = {'sep': ',', 'dtype': str, 'encoding': 'utf-8'}\n",
    "#doacoes_indiretas_pf_autos_icmbio = pd.read_csv(\"resultados/autos_icmbio/doacoes_vindas_pessoas_com_autos_icmbio_2018.csv\", **kwargs)\n",
    "\n",
    "#doacoes_indiretas_pf_autos_icmbio['valor'] = doacoes_indiretas_pf_autos_icmbio['valor'].str.replace(',','.')\n",
    "#doacoes_indiretas_pf_autos_icmbio['valor'] = doacoes_indiretas_pf_autos_icmbio['valor'].astype('float64') \n",
    "#doacoes_indiretas_pf_autos_icmbio.columns"
   ]
  },
  {
   "cell_type": "code",
   "execution_count": null,
   "id": "ce8dcac7-05b3-497b-a8be-58418843cb65",
   "metadata": {},
   "outputs": [],
   "source": []
  },
  {
   "cell_type": "code",
   "execution_count": 77,
   "id": "de394926-a563-42e2-ad19-f60e31e29453",
   "metadata": {},
   "outputs": [
    {
     "data": {
      "text/plain": [
       "24"
      ]
     },
     "execution_count": 77,
     "metadata": {},
     "output_type": "execute_result"
    }
   ],
   "source": [
    "frames = [doacoes_indiretas_pf_embargos, doacoes_indiretas_pf_autos_ibama]\n",
    "doacoes_ambt_indiretas = pd.concat(frames)\n",
    "\n",
    "doacoes_ambt_indiretas = doacoes_ambt_indiretas.sort_values(by=['politico_id'], ascending=False)\n",
    "\n",
    "arr = doacoes_ambt_indiretas[\"politico_id\"].unique()\n",
    "lista = arr.tolist()\n",
    "len(lista)"
   ]
  },
  {
   "cell_type": "code",
   "execution_count": null,
   "id": "7b1be942-256f-4d7c-877c-3c48f85aaedc",
   "metadata": {},
   "outputs": [],
   "source": []
  },
  {
   "cell_type": "code",
   "execution_count": 78,
   "id": "7f32ae2d-e747-4757-998e-c231485cbe5b",
   "metadata": {},
   "outputs": [],
   "source": [
    "dados_encontrados = []\n",
    "for politico in lista:\n",
    "    valor = 0\n",
    "    doadores = doacoes_ambt_indiretas[(doacoes_ambt_indiretas['politico_id'] == politico)]\n",
    "    \n",
    "    arr = doadores[\"sequencialdoador_id\"].unique()\n",
    "    lista_doadores = arr.tolist()\n",
    "    \n",
    "    for doador in lista_doadores:\n",
    "        \n",
    "        soma = doacoes_indiretas_2018[(doacoes_indiretas_2018['NR_CPF_CANDIDATO'] == politico) & (doacoes_indiretas_2018['SQ_CANDIDATO_DOADOR'] == doador)]\n",
    "        total = soma['VR_RECEITA'].sum()\n",
    "        valor += total\n",
    "    \n",
    "    dicionario = {\"politico_id\": politico, \n",
    "                  \"doacao_ambiental_indireta_total\": valor}\n",
    "    dados_encontrados.append(dicionario)   "
   ]
  },
  {
   "cell_type": "code",
   "execution_count": 79,
   "id": "2fc84d57-274d-47c9-85d3-0d294e52996c",
   "metadata": {},
   "outputs": [],
   "source": [
    "doacoes_ambientais_indiretas = pd.DataFrame(dados_encontrados)"
   ]
  },
  {
   "cell_type": "code",
   "execution_count": 80,
   "id": "71640c52-117a-4f97-98e5-e9e9179f5714",
   "metadata": {},
   "outputs": [
    {
     "data": {
      "text/html": [
       "<div>\n",
       "<style scoped>\n",
       "    .dataframe tbody tr th:only-of-type {\n",
       "        vertical-align: middle;\n",
       "    }\n",
       "\n",
       "    .dataframe tbody tr th {\n",
       "        vertical-align: top;\n",
       "    }\n",
       "\n",
       "    .dataframe thead th {\n",
       "        text-align: right;\n",
       "    }\n",
       "</style>\n",
       "<table border=\"1\" class=\"dataframe\">\n",
       "  <thead>\n",
       "    <tr style=\"text-align: right;\">\n",
       "      <th></th>\n",
       "      <th>politico_id</th>\n",
       "      <th>doacao_ambiental_indireta_total</th>\n",
       "    </tr>\n",
       "  </thead>\n",
       "  <tbody>\n",
       "    <tr>\n",
       "      <th>0</th>\n",
       "      <td>98303651749</td>\n",
       "      <td>3911.00</td>\n",
       "    </tr>\n",
       "    <tr>\n",
       "      <th>1</th>\n",
       "      <td>93132620106</td>\n",
       "      <td>800.00</td>\n",
       "    </tr>\n",
       "    <tr>\n",
       "      <th>2</th>\n",
       "      <td>83762116334</td>\n",
       "      <td>10250.00</td>\n",
       "    </tr>\n",
       "    <tr>\n",
       "      <th>3</th>\n",
       "      <td>74274112268</td>\n",
       "      <td>20005.00</td>\n",
       "    </tr>\n",
       "    <tr>\n",
       "      <th>4</th>\n",
       "      <td>70335591787</td>\n",
       "      <td>45000.00</td>\n",
       "    </tr>\n",
       "    <tr>\n",
       "      <th>5</th>\n",
       "      <td>69380007191</td>\n",
       "      <td>4876.74</td>\n",
       "    </tr>\n",
       "    <tr>\n",
       "      <th>6</th>\n",
       "      <td>45417202215</td>\n",
       "      <td>430.00</td>\n",
       "    </tr>\n",
       "    <tr>\n",
       "      <th>7</th>\n",
       "      <td>33096473234</td>\n",
       "      <td>930.00</td>\n",
       "    </tr>\n",
       "    <tr>\n",
       "      <th>8</th>\n",
       "      <td>26757184249</td>\n",
       "      <td>500.00</td>\n",
       "    </tr>\n",
       "    <tr>\n",
       "      <th>9</th>\n",
       "      <td>25630512315</td>\n",
       "      <td>12500.00</td>\n",
       "    </tr>\n",
       "    <tr>\n",
       "      <th>10</th>\n",
       "      <td>23211253220</td>\n",
       "      <td>430.00</td>\n",
       "    </tr>\n",
       "    <tr>\n",
       "      <th>11</th>\n",
       "      <td>20969430604</td>\n",
       "      <td>8044.97</td>\n",
       "    </tr>\n",
       "    <tr>\n",
       "      <th>12</th>\n",
       "      <td>17571243300</td>\n",
       "      <td>992.00</td>\n",
       "    </tr>\n",
       "    <tr>\n",
       "      <th>13</th>\n",
       "      <td>17293618204</td>\n",
       "      <td>5430.00</td>\n",
       "    </tr>\n",
       "    <tr>\n",
       "      <th>14</th>\n",
       "      <td>15791563809</td>\n",
       "      <td>120000.00</td>\n",
       "    </tr>\n",
       "    <tr>\n",
       "      <th>15</th>\n",
       "      <td>13606328249</td>\n",
       "      <td>430.00</td>\n",
       "    </tr>\n",
       "    <tr>\n",
       "      <th>16</th>\n",
       "      <td>13405551234</td>\n",
       "      <td>1730.00</td>\n",
       "    </tr>\n",
       "    <tr>\n",
       "      <th>17</th>\n",
       "      <td>10655365770</td>\n",
       "      <td>100000.00</td>\n",
       "    </tr>\n",
       "    <tr>\n",
       "      <th>18</th>\n",
       "      <td>07894090549</td>\n",
       "      <td>107000.00</td>\n",
       "    </tr>\n",
       "    <tr>\n",
       "      <th>19</th>\n",
       "      <td>05134552134</td>\n",
       "      <td>1008.00</td>\n",
       "    </tr>\n",
       "    <tr>\n",
       "      <th>20</th>\n",
       "      <td>02827898390</td>\n",
       "      <td>12500.00</td>\n",
       "    </tr>\n",
       "    <tr>\n",
       "      <th>21</th>\n",
       "      <td>00891743723</td>\n",
       "      <td>45000.00</td>\n",
       "    </tr>\n",
       "    <tr>\n",
       "      <th>22</th>\n",
       "      <td>00605387249</td>\n",
       "      <td>10430.00</td>\n",
       "    </tr>\n",
       "    <tr>\n",
       "      <th>23</th>\n",
       "      <td>00019863098</td>\n",
       "      <td>430.00</td>\n",
       "    </tr>\n",
       "  </tbody>\n",
       "</table>\n",
       "</div>"
      ],
      "text/plain": [
       "    politico_id  doacao_ambiental_indireta_total\n",
       "0   98303651749                          3911.00\n",
       "1   93132620106                           800.00\n",
       "2   83762116334                         10250.00\n",
       "3   74274112268                         20005.00\n",
       "4   70335591787                         45000.00\n",
       "5   69380007191                          4876.74\n",
       "6   45417202215                           430.00\n",
       "7   33096473234                           930.00\n",
       "8   26757184249                           500.00\n",
       "9   25630512315                         12500.00\n",
       "10  23211253220                           430.00\n",
       "11  20969430604                          8044.97\n",
       "12  17571243300                           992.00\n",
       "13  17293618204                          5430.00\n",
       "14  15791563809                        120000.00\n",
       "15  13606328249                           430.00\n",
       "16  13405551234                          1730.00\n",
       "17  10655365770                        100000.00\n",
       "18  07894090549                        107000.00\n",
       "19  05134552134                          1008.00\n",
       "20  02827898390                         12500.00\n",
       "21  00891743723                         45000.00\n",
       "22  00605387249                         10430.00\n",
       "23  00019863098                           430.00"
      ]
     },
     "execution_count": 80,
     "metadata": {},
     "output_type": "execute_result"
    }
   ],
   "source": [
    "doacoes_ambientais_indiretas"
   ]
  },
  {
   "cell_type": "code",
   "execution_count": 81,
   "id": "897720a2-1e24-4ad3-a705-69de9827f79c",
   "metadata": {},
   "outputs": [],
   "source": [
    "doacoes_ambientais_indiretas.to_excel('resultados/totais_doacoes/totais_doacoes_indiretas_irregularidades_ambientais.xlsx',sheet_name='Sheet1',index=False)"
   ]
  },
  {
   "cell_type": "code",
   "execution_count": null,
   "id": "4b0acf7b-a892-4cc7-8ec9-aa3d40e1a7ac",
   "metadata": {},
   "outputs": [],
   "source": []
  },
  {
   "cell_type": "code",
   "execution_count": 31,
   "id": "0b5c2c21-c93f-4873-bbee-7c56a835cdbc",
   "metadata": {},
   "outputs": [
    {
     "data": {
      "text/plain": [
       "120000.0"
      ]
     },
     "execution_count": 31,
     "metadata": {},
     "output_type": "execute_result"
    }
   ],
   "source": [
    "busca = doacoes_indiretas_pf_embargos[(doacoes_indiretas_pf_embargos['politico_id'] == '15791563809')]\n",
    "busca['valor'].sum()"
   ]
  },
  {
   "cell_type": "code",
   "execution_count": 32,
   "id": "7788dfd1-5b0a-4a8a-942f-68214b7ef2ce",
   "metadata": {},
   "outputs": [
    {
     "data": {
      "text/html": [
       "<div>\n",
       "<style scoped>\n",
       "    .dataframe tbody tr th:only-of-type {\n",
       "        vertical-align: middle;\n",
       "    }\n",
       "\n",
       "    .dataframe tbody tr th {\n",
       "        vertical-align: top;\n",
       "    }\n",
       "\n",
       "    .dataframe thead th {\n",
       "        text-align: right;\n",
       "    }\n",
       "</style>\n",
       "<table border=\"1\" class=\"dataframe\">\n",
       "  <thead>\n",
       "    <tr style=\"text-align: right;\">\n",
       "      <th></th>\n",
       "      <th>valor</th>\n",
       "      <th>politico_id</th>\n",
       "      <th>politico_id.1</th>\n",
       "      <th>entidade_id</th>\n",
       "      <th>entidade_nome</th>\n",
       "      <th>sequencialdoador_id</th>\n",
       "      <th>doacoes_tipo</th>\n",
       "      <th>origem_do_dinheiro_no_tse</th>\n",
       "      <th>data</th>\n",
       "    </tr>\n",
       "  </thead>\n",
       "  <tbody>\n",
       "    <tr>\n",
       "      <th>6</th>\n",
       "      <td>30000.0</td>\n",
       "      <td>15791563809</td>\n",
       "      <td>15791563809</td>\n",
       "      <td>66296676891</td>\n",
       "      <td>ELEICAO 2018 FERNANDO DE CASTRO MARQUES SENADOR</td>\n",
       "      <td>70000613826</td>\n",
       "      <td>indireta</td>\n",
       "      <td>Outros Recursos</td>\n",
       "      <td>02/10/2018</td>\n",
       "    </tr>\n",
       "    <tr>\n",
       "      <th>7</th>\n",
       "      <td>30000.0</td>\n",
       "      <td>15791563809</td>\n",
       "      <td>15791563809</td>\n",
       "      <td>66296676891</td>\n",
       "      <td>ELEICAO 2018 FERNANDO DE CASTRO MARQUES SENADOR</td>\n",
       "      <td>70000613826</td>\n",
       "      <td>indireta</td>\n",
       "      <td>Outros Recursos</td>\n",
       "      <td>10/09/2018</td>\n",
       "    </tr>\n",
       "    <tr>\n",
       "      <th>8</th>\n",
       "      <td>30000.0</td>\n",
       "      <td>15791563809</td>\n",
       "      <td>15791563809</td>\n",
       "      <td>66296676891</td>\n",
       "      <td>ELEICAO 2018 FERNANDO DE CASTRO MARQUES SENADOR</td>\n",
       "      <td>70000613826</td>\n",
       "      <td>indireta</td>\n",
       "      <td>Outros Recursos</td>\n",
       "      <td>19/09/2018</td>\n",
       "    </tr>\n",
       "    <tr>\n",
       "      <th>9</th>\n",
       "      <td>30000.0</td>\n",
       "      <td>15791563809</td>\n",
       "      <td>15791563809</td>\n",
       "      <td>66296676891</td>\n",
       "      <td>ELEICAO 2018 FERNANDO DE CASTRO MARQUES SENADOR</td>\n",
       "      <td>70000613826</td>\n",
       "      <td>indireta</td>\n",
       "      <td>Outros Recursos</td>\n",
       "      <td>26/09/2018</td>\n",
       "    </tr>\n",
       "  </tbody>\n",
       "</table>\n",
       "</div>"
      ],
      "text/plain": [
       "     valor  politico_id politico_id.1  entidade_id  \\\n",
       "6  30000.0  15791563809   15791563809  66296676891   \n",
       "7  30000.0  15791563809   15791563809  66296676891   \n",
       "8  30000.0  15791563809   15791563809  66296676891   \n",
       "9  30000.0  15791563809   15791563809  66296676891   \n",
       "\n",
       "                                     entidade_nome sequencialdoador_id  \\\n",
       "6  ELEICAO 2018 FERNANDO DE CASTRO MARQUES SENADOR         70000613826   \n",
       "7  ELEICAO 2018 FERNANDO DE CASTRO MARQUES SENADOR         70000613826   \n",
       "8  ELEICAO 2018 FERNANDO DE CASTRO MARQUES SENADOR         70000613826   \n",
       "9  ELEICAO 2018 FERNANDO DE CASTRO MARQUES SENADOR         70000613826   \n",
       "\n",
       "  doacoes_tipo origem_do_dinheiro_no_tse        data  \n",
       "6     indireta           Outros Recursos  02/10/2018  \n",
       "7     indireta           Outros Recursos  10/09/2018  \n",
       "8     indireta           Outros Recursos  19/09/2018  \n",
       "9     indireta           Outros Recursos  26/09/2018  "
      ]
     },
     "execution_count": 32,
     "metadata": {},
     "output_type": "execute_result"
    }
   ],
   "source": [
    "busca"
   ]
  },
  {
   "cell_type": "code",
   "execution_count": 33,
   "id": "37a5809d-2c4c-4e44-9a57-da45df9b4774",
   "metadata": {},
   "outputs": [
    {
     "data": {
      "text/plain": [
       "120000.0"
      ]
     },
     "execution_count": 33,
     "metadata": {},
     "output_type": "execute_result"
    }
   ],
   "source": [
    "busca = doacoes_indiretas_pf_autos_ibama[(doacoes_indiretas_pf_autos_ibama['politico_id'] == '15791563809')]\n",
    "busca['valor'].sum()"
   ]
  },
  {
   "cell_type": "code",
   "execution_count": 34,
   "id": "d9d07016-a27e-4bd1-8e89-5b91ff4b58a0",
   "metadata": {},
   "outputs": [
    {
     "data": {
      "text/html": [
       "<div>\n",
       "<style scoped>\n",
       "    .dataframe tbody tr th:only-of-type {\n",
       "        vertical-align: middle;\n",
       "    }\n",
       "\n",
       "    .dataframe tbody tr th {\n",
       "        vertical-align: top;\n",
       "    }\n",
       "\n",
       "    .dataframe thead th {\n",
       "        text-align: right;\n",
       "    }\n",
       "</style>\n",
       "<table border=\"1\" class=\"dataframe\">\n",
       "  <thead>\n",
       "    <tr style=\"text-align: right;\">\n",
       "      <th></th>\n",
       "      <th>valor</th>\n",
       "      <th>politico_id</th>\n",
       "      <th>entidade_id</th>\n",
       "      <th>entidade_id_mascarada</th>\n",
       "      <th>entidade_nome</th>\n",
       "      <th>sequencialdoador_id</th>\n",
       "      <th>doacoes_tipo</th>\n",
       "      <th>origem_do_dinheiro_no_tse</th>\n",
       "      <th>data</th>\n",
       "    </tr>\n",
       "  </thead>\n",
       "  <tbody>\n",
       "    <tr>\n",
       "      <th>6</th>\n",
       "      <td>30000.0</td>\n",
       "      <td>15791563809</td>\n",
       "      <td>66296676891</td>\n",
       "      <td>***966768**</td>\n",
       "      <td>FERNANDO DE CASTRO MARQUES</td>\n",
       "      <td>70000613826</td>\n",
       "      <td>indireta</td>\n",
       "      <td>Outros Recursos</td>\n",
       "      <td>02/10/2018</td>\n",
       "    </tr>\n",
       "    <tr>\n",
       "      <th>7</th>\n",
       "      <td>30000.0</td>\n",
       "      <td>15791563809</td>\n",
       "      <td>66296676891</td>\n",
       "      <td>***966768**</td>\n",
       "      <td>FERNANDO DE CASTRO MARQUES</td>\n",
       "      <td>70000613826</td>\n",
       "      <td>indireta</td>\n",
       "      <td>Outros Recursos</td>\n",
       "      <td>10/09/2018</td>\n",
       "    </tr>\n",
       "    <tr>\n",
       "      <th>8</th>\n",
       "      <td>30000.0</td>\n",
       "      <td>15791563809</td>\n",
       "      <td>66296676891</td>\n",
       "      <td>***966768**</td>\n",
       "      <td>FERNANDO DE CASTRO MARQUES</td>\n",
       "      <td>70000613826</td>\n",
       "      <td>indireta</td>\n",
       "      <td>Outros Recursos</td>\n",
       "      <td>19/09/2018</td>\n",
       "    </tr>\n",
       "    <tr>\n",
       "      <th>9</th>\n",
       "      <td>30000.0</td>\n",
       "      <td>15791563809</td>\n",
       "      <td>66296676891</td>\n",
       "      <td>***966768**</td>\n",
       "      <td>FERNANDO DE CASTRO MARQUES</td>\n",
       "      <td>70000613826</td>\n",
       "      <td>indireta</td>\n",
       "      <td>Outros Recursos</td>\n",
       "      <td>26/09/2018</td>\n",
       "    </tr>\n",
       "  </tbody>\n",
       "</table>\n",
       "</div>"
      ],
      "text/plain": [
       "     valor  politico_id  entidade_id entidade_id_mascarada  \\\n",
       "6  30000.0  15791563809  66296676891           ***966768**   \n",
       "7  30000.0  15791563809  66296676891           ***966768**   \n",
       "8  30000.0  15791563809  66296676891           ***966768**   \n",
       "9  30000.0  15791563809  66296676891           ***966768**   \n",
       "\n",
       "                entidade_nome sequencialdoador_id doacoes_tipo  \\\n",
       "6  FERNANDO DE CASTRO MARQUES         70000613826     indireta   \n",
       "7  FERNANDO DE CASTRO MARQUES         70000613826     indireta   \n",
       "8  FERNANDO DE CASTRO MARQUES         70000613826     indireta   \n",
       "9  FERNANDO DE CASTRO MARQUES         70000613826     indireta   \n",
       "\n",
       "  origem_do_dinheiro_no_tse        data  \n",
       "6           Outros Recursos  02/10/2018  \n",
       "7           Outros Recursos  10/09/2018  \n",
       "8           Outros Recursos  19/09/2018  \n",
       "9           Outros Recursos  26/09/2018  "
      ]
     },
     "execution_count": 34,
     "metadata": {},
     "output_type": "execute_result"
    }
   ],
   "source": [
    "busca"
   ]
  },
  {
   "cell_type": "code",
   "execution_count": 36,
   "id": "147fab13-2459-4c12-b96e-436366f9dade",
   "metadata": {},
   "outputs": [],
   "source": [
    "#busca = doacoes_indiretas_pf_autos_icmbio[(doacoes_indiretas_pf_autos_icmbio['politico_id'] == '15791563809')]\n",
    "#busca['valor'].sum()"
   ]
  },
  {
   "cell_type": "code",
   "execution_count": null,
   "id": "5d4b3f7f-6f33-4323-a98d-4422ee32e276",
   "metadata": {},
   "outputs": [],
   "source": []
  },
  {
   "cell_type": "code",
   "execution_count": 154,
   "id": "e9dd3a6e-69da-4020-89e8-a128436d7279",
   "metadata": {},
   "outputs": [
    {
     "data": {
      "text/plain": [
       "0.0"
      ]
     },
     "execution_count": 154,
     "metadata": {},
     "output_type": "execute_result"
    }
   ],
   "source": [
    "busca = doacoes_indiretas_pf_embargos[(doacoes_indiretas_pf_embargos['politico_id'] == '20969430604')]\n",
    "busca['valor'].sum()"
   ]
  },
  {
   "cell_type": "code",
   "execution_count": 155,
   "id": "a7483eaf-4d86-4269-a78b-a36c9f2b0b97",
   "metadata": {},
   "outputs": [
    {
     "data": {
      "text/plain": [
       "8044.969999999999"
      ]
     },
     "execution_count": 155,
     "metadata": {},
     "output_type": "execute_result"
    }
   ],
   "source": [
    "busca = doacoes_indiretas_pf_autos_ibama[(doacoes_indiretas_pf_autos_ibama['politico_id'] == '20969430604')]\n",
    "busca['valor'].sum()"
   ]
  },
  {
   "cell_type": "code",
   "execution_count": 156,
   "id": "9a88f32f-e6a3-4f71-bcc7-5c0f1839c684",
   "metadata": {},
   "outputs": [
    {
     "data": {
      "text/html": [
       "<div>\n",
       "<style scoped>\n",
       "    .dataframe tbody tr th:only-of-type {\n",
       "        vertical-align: middle;\n",
       "    }\n",
       "\n",
       "    .dataframe tbody tr th {\n",
       "        vertical-align: top;\n",
       "    }\n",
       "\n",
       "    .dataframe thead th {\n",
       "        text-align: right;\n",
       "    }\n",
       "</style>\n",
       "<table border=\"1\" class=\"dataframe\">\n",
       "  <thead>\n",
       "    <tr style=\"text-align: right;\">\n",
       "      <th></th>\n",
       "      <th>valor</th>\n",
       "      <th>politico_id</th>\n",
       "      <th>entidade_id</th>\n",
       "      <th>entidade_id_mascarada</th>\n",
       "      <th>entidade_nome</th>\n",
       "      <th>sequencialdoador_id</th>\n",
       "      <th>doacoes_tipo</th>\n",
       "      <th>origem_do_dinheiro_no_tse</th>\n",
       "      <th>data</th>\n",
       "    </tr>\n",
       "  </thead>\n",
       "  <tbody>\n",
       "    <tr>\n",
       "      <th>62</th>\n",
       "      <td>1350.00</td>\n",
       "      <td>20969430604</td>\n",
       "      <td>28633938120</td>\n",
       "      <td>***339381**</td>\n",
       "      <td>REINALDO AZAMBUJA SILVA</td>\n",
       "      <td>120000606863</td>\n",
       "      <td>indireta</td>\n",
       "      <td>Fundo Especial</td>\n",
       "      <td>11/09/2018</td>\n",
       "    </tr>\n",
       "    <tr>\n",
       "      <th>63</th>\n",
       "      <td>8.33</td>\n",
       "      <td>20969430604</td>\n",
       "      <td>28633938120</td>\n",
       "      <td>***339381**</td>\n",
       "      <td>REINALDO AZAMBUJA SILVA</td>\n",
       "      <td>120000606863</td>\n",
       "      <td>indireta</td>\n",
       "      <td>Outros Recursos</td>\n",
       "      <td>01/10/2018</td>\n",
       "    </tr>\n",
       "    <tr>\n",
       "      <th>64</th>\n",
       "      <td>750.00</td>\n",
       "      <td>20969430604</td>\n",
       "      <td>28633938120</td>\n",
       "      <td>***339381**</td>\n",
       "      <td>REINALDO AZAMBUJA SILVA</td>\n",
       "      <td>120000606863</td>\n",
       "      <td>indireta</td>\n",
       "      <td>Fundo Especial</td>\n",
       "      <td>11/09/2018</td>\n",
       "    </tr>\n",
       "    <tr>\n",
       "      <th>65</th>\n",
       "      <td>166.66</td>\n",
       "      <td>20969430604</td>\n",
       "      <td>28633938120</td>\n",
       "      <td>***339381**</td>\n",
       "      <td>REINALDO AZAMBUJA SILVA</td>\n",
       "      <td>120000606863</td>\n",
       "      <td>indireta</td>\n",
       "      <td>Outros Recursos</td>\n",
       "      <td>27/09/2018</td>\n",
       "    </tr>\n",
       "    <tr>\n",
       "      <th>66</th>\n",
       "      <td>83.33</td>\n",
       "      <td>20969430604</td>\n",
       "      <td>28633938120</td>\n",
       "      <td>***339381**</td>\n",
       "      <td>REINALDO AZAMBUJA SILVA</td>\n",
       "      <td>120000606863</td>\n",
       "      <td>indireta</td>\n",
       "      <td>Outros Recursos</td>\n",
       "      <td>01/10/2018</td>\n",
       "    </tr>\n",
       "    <tr>\n",
       "      <th>67</th>\n",
       "      <td>1125.00</td>\n",
       "      <td>20969430604</td>\n",
       "      <td>28633938120</td>\n",
       "      <td>***339381**</td>\n",
       "      <td>REINALDO AZAMBUJA SILVA</td>\n",
       "      <td>120000606863</td>\n",
       "      <td>indireta</td>\n",
       "      <td>Outros Recursos</td>\n",
       "      <td>11/09/2018</td>\n",
       "    </tr>\n",
       "    <tr>\n",
       "      <th>68</th>\n",
       "      <td>8.33</td>\n",
       "      <td>20969430604</td>\n",
       "      <td>28633938120</td>\n",
       "      <td>***339381**</td>\n",
       "      <td>REINALDO AZAMBUJA SILVA</td>\n",
       "      <td>120000606863</td>\n",
       "      <td>indireta</td>\n",
       "      <td>Outros Recursos</td>\n",
       "      <td>05/10/2018</td>\n",
       "    </tr>\n",
       "    <tr>\n",
       "      <th>69</th>\n",
       "      <td>800.00</td>\n",
       "      <td>20969430604</td>\n",
       "      <td>28633938120</td>\n",
       "      <td>***339381**</td>\n",
       "      <td>REINALDO AZAMBUJA SILVA</td>\n",
       "      <td>120000606863</td>\n",
       "      <td>indireta</td>\n",
       "      <td>Fundo Especial</td>\n",
       "      <td>05/10/2018</td>\n",
       "    </tr>\n",
       "    <tr>\n",
       "      <th>70</th>\n",
       "      <td>1350.00</td>\n",
       "      <td>20969430604</td>\n",
       "      <td>28633938120</td>\n",
       "      <td>***339381**</td>\n",
       "      <td>REINALDO AZAMBUJA SILVA</td>\n",
       "      <td>120000606863</td>\n",
       "      <td>indireta</td>\n",
       "      <td>Outros Recursos</td>\n",
       "      <td>11/09/2018</td>\n",
       "    </tr>\n",
       "    <tr>\n",
       "      <th>71</th>\n",
       "      <td>16.66</td>\n",
       "      <td>20969430604</td>\n",
       "      <td>28633938120</td>\n",
       "      <td>***339381**</td>\n",
       "      <td>REINALDO AZAMBUJA SILVA</td>\n",
       "      <td>120000606863</td>\n",
       "      <td>indireta</td>\n",
       "      <td>Outros Recursos</td>\n",
       "      <td>27/09/2018</td>\n",
       "    </tr>\n",
       "    <tr>\n",
       "      <th>72</th>\n",
       "      <td>1470.00</td>\n",
       "      <td>20969430604</td>\n",
       "      <td>28633938120</td>\n",
       "      <td>***339381**</td>\n",
       "      <td>REINALDO AZAMBUJA SILVA</td>\n",
       "      <td>120000606863</td>\n",
       "      <td>indireta</td>\n",
       "      <td>Outros Recursos</td>\n",
       "      <td>11/09/2018</td>\n",
       "    </tr>\n",
       "    <tr>\n",
       "      <th>73</th>\n",
       "      <td>250.00</td>\n",
       "      <td>20969430604</td>\n",
       "      <td>28633938120</td>\n",
       "      <td>***339381**</td>\n",
       "      <td>REINALDO AZAMBUJA SILVA</td>\n",
       "      <td>120000606863</td>\n",
       "      <td>indireta</td>\n",
       "      <td>Outros Recursos</td>\n",
       "      <td>27/09/2018</td>\n",
       "    </tr>\n",
       "    <tr>\n",
       "      <th>74</th>\n",
       "      <td>666.66</td>\n",
       "      <td>20969430604</td>\n",
       "      <td>28633938120</td>\n",
       "      <td>***339381**</td>\n",
       "      <td>REINALDO AZAMBUJA SILVA</td>\n",
       "      <td>120000606863</td>\n",
       "      <td>indireta</td>\n",
       "      <td>Outros Recursos</td>\n",
       "      <td>01/10/2018</td>\n",
       "    </tr>\n",
       "  </tbody>\n",
       "</table>\n",
       "</div>"
      ],
      "text/plain": [
       "      valor  politico_id  entidade_id entidade_id_mascarada  \\\n",
       "62  1350.00  20969430604  28633938120           ***339381**   \n",
       "63     8.33  20969430604  28633938120           ***339381**   \n",
       "64   750.00  20969430604  28633938120           ***339381**   \n",
       "65   166.66  20969430604  28633938120           ***339381**   \n",
       "66    83.33  20969430604  28633938120           ***339381**   \n",
       "67  1125.00  20969430604  28633938120           ***339381**   \n",
       "68     8.33  20969430604  28633938120           ***339381**   \n",
       "69   800.00  20969430604  28633938120           ***339381**   \n",
       "70  1350.00  20969430604  28633938120           ***339381**   \n",
       "71    16.66  20969430604  28633938120           ***339381**   \n",
       "72  1470.00  20969430604  28633938120           ***339381**   \n",
       "73   250.00  20969430604  28633938120           ***339381**   \n",
       "74   666.66  20969430604  28633938120           ***339381**   \n",
       "\n",
       "              entidade_nome sequencialdoador_id doacoes_tipo  \\\n",
       "62  REINALDO AZAMBUJA SILVA        120000606863     indireta   \n",
       "63  REINALDO AZAMBUJA SILVA        120000606863     indireta   \n",
       "64  REINALDO AZAMBUJA SILVA        120000606863     indireta   \n",
       "65  REINALDO AZAMBUJA SILVA        120000606863     indireta   \n",
       "66  REINALDO AZAMBUJA SILVA        120000606863     indireta   \n",
       "67  REINALDO AZAMBUJA SILVA        120000606863     indireta   \n",
       "68  REINALDO AZAMBUJA SILVA        120000606863     indireta   \n",
       "69  REINALDO AZAMBUJA SILVA        120000606863     indireta   \n",
       "70  REINALDO AZAMBUJA SILVA        120000606863     indireta   \n",
       "71  REINALDO AZAMBUJA SILVA        120000606863     indireta   \n",
       "72  REINALDO AZAMBUJA SILVA        120000606863     indireta   \n",
       "73  REINALDO AZAMBUJA SILVA        120000606863     indireta   \n",
       "74  REINALDO AZAMBUJA SILVA        120000606863     indireta   \n",
       "\n",
       "   origem_do_dinheiro_no_tse        data  \n",
       "62            Fundo Especial  11/09/2018  \n",
       "63           Outros Recursos  01/10/2018  \n",
       "64            Fundo Especial  11/09/2018  \n",
       "65           Outros Recursos  27/09/2018  \n",
       "66           Outros Recursos  01/10/2018  \n",
       "67           Outros Recursos  11/09/2018  \n",
       "68           Outros Recursos  05/10/2018  \n",
       "69            Fundo Especial  05/10/2018  \n",
       "70           Outros Recursos  11/09/2018  \n",
       "71           Outros Recursos  27/09/2018  \n",
       "72           Outros Recursos  11/09/2018  \n",
       "73           Outros Recursos  27/09/2018  \n",
       "74           Outros Recursos  01/10/2018  "
      ]
     },
     "execution_count": 156,
     "metadata": {},
     "output_type": "execute_result"
    }
   ],
   "source": [
    "busca"
   ]
  },
  {
   "cell_type": "code",
   "execution_count": 157,
   "id": "271f1acc-e771-46bb-9a47-7f0c8a39c0f5",
   "metadata": {},
   "outputs": [
    {
     "data": {
      "text/plain": [
       "0.0"
      ]
     },
     "execution_count": 157,
     "metadata": {},
     "output_type": "execute_result"
    }
   ],
   "source": [
    "busca = doacoes_indiretas_pf_autos_icmbio[(doacoes_indiretas_pf_autos_icmbio['politico_id'] == '20969430604')]\n",
    "busca['valor'].sum()"
   ]
  },
  {
   "cell_type": "code",
   "execution_count": null,
   "id": "e458b669-e886-4322-a5e9-e04f85a909fd",
   "metadata": {},
   "outputs": [],
   "source": []
  },
  {
   "cell_type": "code",
   "execution_count": null,
   "id": "5e417e53-d3e7-4357-97c7-4275fc894379",
   "metadata": {},
   "outputs": [],
   "source": []
  },
  {
   "cell_type": "markdown",
   "id": "612ffc66-ed9d-4a3f-8719-a459d58cd987",
   "metadata": {},
   "source": [
    "### Ambientais originárias"
   ]
  },
  {
   "cell_type": "code",
   "execution_count": 82,
   "id": "3a21ea32-eb0d-4a82-9e70-b432f82be413",
   "metadata": {},
   "outputs": [
    {
     "data": {
      "text/plain": [
       "Index(['valor', 'politico_id', 'entidade_id', 'entidade_nome', 'doacoes_tipo',\n",
       "       'origem_do_dinheiro_no_tse', 'data'],\n",
       "      dtype='object')"
      ]
     },
     "execution_count": 82,
     "metadata": {},
     "output_type": "execute_result"
    }
   ],
   "source": [
    "kwargs = {'sep': ',', 'dtype': str, 'encoding': 'utf-8'}\n",
    "doacoes_originarias_pf_embargos = pd.read_csv(\"resultados/embargos_ibama/doacoes_originarias_vindas_pessoas_com_embargos_ibama_2018.csv\", **kwargs)\n",
    "\n",
    "doacoes_originarias_pf_embargos['valor'] = doacoes_originarias_pf_embargos['valor'].str.replace(',','.')\n",
    "doacoes_originarias_pf_embargos['valor'] = doacoes_originarias_pf_embargos['valor'].astype('float64') \n",
    "doacoes_originarias_pf_embargos.columns"
   ]
  },
  {
   "cell_type": "code",
   "execution_count": null,
   "id": "76888dc8-3a85-41df-9ea5-2955793cb779",
   "metadata": {},
   "outputs": [],
   "source": []
  },
  {
   "cell_type": "code",
   "execution_count": 83,
   "id": "fedab987-ca06-453e-9e1f-f63af67d8bbf",
   "metadata": {},
   "outputs": [
    {
     "data": {
      "text/plain": [
       "Index(['valor', 'politico_id', 'entidade_id', 'entidade_id_mascarada',\n",
       "       'entidade_nome', 'doacoes_tipo', 'origem_do_dinheiro_no_tse', 'data'],\n",
       "      dtype='object')"
      ]
     },
     "execution_count": 83,
     "metadata": {},
     "output_type": "execute_result"
    }
   ],
   "source": [
    "kwargs = {'sep': ',', 'dtype': str, 'encoding': 'utf-8'}\n",
    "doacoes_originarias_pf_autos_ibama = pd.read_csv(\"resultados/autos_ibama/doacoes_originarias_vindas_pessoas_com_autos_ibama_2018.csv\", **kwargs)\n",
    "\n",
    "doacoes_originarias_pf_autos_ibama['valor'] = doacoes_originarias_pf_autos_ibama['valor'].str.replace(',','.')\n",
    "doacoes_originarias_pf_autos_ibama['valor'] = doacoes_originarias_pf_autos_ibama['valor'].astype('float64') \n",
    "doacoes_originarias_pf_autos_ibama.columns"
   ]
  },
  {
   "cell_type": "code",
   "execution_count": null,
   "id": "783d38a9-e71e-4f3c-93d1-bd0ee7d25a93",
   "metadata": {},
   "outputs": [],
   "source": []
  },
  {
   "cell_type": "code",
   "execution_count": 84,
   "id": "9048dbab-dec3-4898-8300-808618c785d7",
   "metadata": {},
   "outputs": [
    {
     "data": {
      "text/plain": [
       "25"
      ]
     },
     "execution_count": 84,
     "metadata": {},
     "output_type": "execute_result"
    }
   ],
   "source": [
    "frames = [doacoes_originarias_pf_embargos, doacoes_originarias_pf_autos_ibama]\n",
    "doacoes_ambt_originarias = pd.concat(frames)\n",
    "\n",
    "doacoes_ambt_originarias = doacoes_ambt_originarias.sort_values(by=['politico_id'], ascending=False)\n",
    "\n",
    "arr = doacoes_ambt_originarias[\"politico_id\"].unique()\n",
    "lista = arr.tolist()\n",
    "len(lista)"
   ]
  },
  {
   "cell_type": "code",
   "execution_count": null,
   "id": "b7ac06f4-fe6e-4e78-931d-ad76a2490503",
   "metadata": {},
   "outputs": [],
   "source": []
  },
  {
   "cell_type": "code",
   "execution_count": 85,
   "id": "9be60712-a09b-4523-8266-e5e91f8ac424",
   "metadata": {},
   "outputs": [],
   "source": [
    "dados_encontrados = []\n",
    "for politico in lista:\n",
    "    valor = 0\n",
    "    doadores = doacoes_ambt_originarias[(doacoes_ambt_originarias['politico_id'] == politico)]\n",
    "    \n",
    "    arr = doadores[\"entidade_id\"].unique()\n",
    "    lista_doadores = arr.tolist()\n",
    "    \n",
    "    for doador in lista_doadores:\n",
    "        \n",
    "        if len(doador) > 11:\n",
    "            doador = doador[:8]\n",
    "        \n",
    "        soma = doacoes_originarias_2018[(doacoes_originarias_2018['NR_CPF_CANDIDATO'] == politico) & (doacoes_originarias_2018['doador_raiz'] == doador)]\n",
    "        total = soma['VR_RECEITA'].sum()\n",
    "        valor += total\n",
    "    \n",
    "    dicionario = {\"politico_id\": politico, \n",
    "                  \"doacao_ambiental_originaria_total\": valor}\n",
    "    dados_encontrados.append(dicionario)   "
   ]
  },
  {
   "cell_type": "code",
   "execution_count": 86,
   "id": "2219bc1d-e3ed-4692-b0eb-52ea2b0defa3",
   "metadata": {},
   "outputs": [],
   "source": [
    "doacoes_ambientais_originarias = pd.DataFrame(dados_encontrados)"
   ]
  },
  {
   "cell_type": "code",
   "execution_count": 87,
   "id": "01ea9573-315e-48e6-bab8-d9f089074013",
   "metadata": {},
   "outputs": [
    {
     "data": {
      "text/html": [
       "<div>\n",
       "<style scoped>\n",
       "    .dataframe tbody tr th:only-of-type {\n",
       "        vertical-align: middle;\n",
       "    }\n",
       "\n",
       "    .dataframe tbody tr th {\n",
       "        vertical-align: top;\n",
       "    }\n",
       "\n",
       "    .dataframe thead th {\n",
       "        text-align: right;\n",
       "    }\n",
       "</style>\n",
       "<table border=\"1\" class=\"dataframe\">\n",
       "  <thead>\n",
       "    <tr style=\"text-align: right;\">\n",
       "      <th></th>\n",
       "      <th>politico_id</th>\n",
       "      <th>doacao_ambiental_originaria_total</th>\n",
       "    </tr>\n",
       "  </thead>\n",
       "  <tbody>\n",
       "    <tr>\n",
       "      <th>0</th>\n",
       "      <td>95622780772</td>\n",
       "      <td>100.00</td>\n",
       "    </tr>\n",
       "    <tr>\n",
       "      <th>1</th>\n",
       "      <td>73441040082</td>\n",
       "      <td>2064.00</td>\n",
       "    </tr>\n",
       "    <tr>\n",
       "      <th>2</th>\n",
       "      <td>70335591787</td>\n",
       "      <td>45000.00</td>\n",
       "    </tr>\n",
       "    <tr>\n",
       "      <th>3</th>\n",
       "      <td>49941720053</td>\n",
       "      <td>1064.00</td>\n",
       "    </tr>\n",
       "    <tr>\n",
       "      <th>4</th>\n",
       "      <td>47843080910</td>\n",
       "      <td>30000.00</td>\n",
       "    </tr>\n",
       "    <tr>\n",
       "      <th>5</th>\n",
       "      <td>45312346772</td>\n",
       "      <td>500.00</td>\n",
       "    </tr>\n",
       "    <tr>\n",
       "      <th>6</th>\n",
       "      <td>44828624953</td>\n",
       "      <td>100.00</td>\n",
       "    </tr>\n",
       "    <tr>\n",
       "      <th>7</th>\n",
       "      <td>42442540134</td>\n",
       "      <td>1000.00</td>\n",
       "    </tr>\n",
       "    <tr>\n",
       "      <th>8</th>\n",
       "      <td>39313495864</td>\n",
       "      <td>550.00</td>\n",
       "    </tr>\n",
       "    <tr>\n",
       "      <th>9</th>\n",
       "      <td>39154732867</td>\n",
       "      <td>200.00</td>\n",
       "    </tr>\n",
       "    <tr>\n",
       "      <th>10</th>\n",
       "      <td>38208563315</td>\n",
       "      <td>2500.00</td>\n",
       "    </tr>\n",
       "    <tr>\n",
       "      <th>11</th>\n",
       "      <td>36293334787</td>\n",
       "      <td>50.00</td>\n",
       "    </tr>\n",
       "    <tr>\n",
       "      <th>12</th>\n",
       "      <td>33155623420</td>\n",
       "      <td>501.25</td>\n",
       "    </tr>\n",
       "    <tr>\n",
       "      <th>13</th>\n",
       "      <td>18836178200</td>\n",
       "      <td>50.00</td>\n",
       "    </tr>\n",
       "    <tr>\n",
       "      <th>14</th>\n",
       "      <td>12519851813</td>\n",
       "      <td>1000.00</td>\n",
       "    </tr>\n",
       "    <tr>\n",
       "      <th>15</th>\n",
       "      <td>10777296004</td>\n",
       "      <td>50.00</td>\n",
       "    </tr>\n",
       "    <tr>\n",
       "      <th>16</th>\n",
       "      <td>10655365770</td>\n",
       "      <td>1800.00</td>\n",
       "    </tr>\n",
       "    <tr>\n",
       "      <th>17</th>\n",
       "      <td>09911967751</td>\n",
       "      <td>1064.10</td>\n",
       "    </tr>\n",
       "    <tr>\n",
       "      <th>18</th>\n",
       "      <td>06630008669</td>\n",
       "      <td>10.00</td>\n",
       "    </tr>\n",
       "    <tr>\n",
       "      <th>19</th>\n",
       "      <td>01412895626</td>\n",
       "      <td>50.00</td>\n",
       "    </tr>\n",
       "    <tr>\n",
       "      <th>20</th>\n",
       "      <td>00891743723</td>\n",
       "      <td>450.00</td>\n",
       "    </tr>\n",
       "    <tr>\n",
       "      <th>21</th>\n",
       "      <td>00834939134</td>\n",
       "      <td>145000.00</td>\n",
       "    </tr>\n",
       "    <tr>\n",
       "      <th>22</th>\n",
       "      <td>00731302060</td>\n",
       "      <td>150.00</td>\n",
       "    </tr>\n",
       "    <tr>\n",
       "      <th>23</th>\n",
       "      <td>00649039661</td>\n",
       "      <td>1064.10</td>\n",
       "    </tr>\n",
       "    <tr>\n",
       "      <th>24</th>\n",
       "      <td>00590048783</td>\n",
       "      <td>142665.85</td>\n",
       "    </tr>\n",
       "  </tbody>\n",
       "</table>\n",
       "</div>"
      ],
      "text/plain": [
       "    politico_id  doacao_ambiental_originaria_total\n",
       "0   95622780772                             100.00\n",
       "1   73441040082                            2064.00\n",
       "2   70335591787                           45000.00\n",
       "3   49941720053                            1064.00\n",
       "4   47843080910                           30000.00\n",
       "5   45312346772                             500.00\n",
       "6   44828624953                             100.00\n",
       "7   42442540134                            1000.00\n",
       "8   39313495864                             550.00\n",
       "9   39154732867                             200.00\n",
       "10  38208563315                            2500.00\n",
       "11  36293334787                              50.00\n",
       "12  33155623420                             501.25\n",
       "13  18836178200                              50.00\n",
       "14  12519851813                            1000.00\n",
       "15  10777296004                              50.00\n",
       "16  10655365770                            1800.00\n",
       "17  09911967751                            1064.10\n",
       "18  06630008669                              10.00\n",
       "19  01412895626                              50.00\n",
       "20  00891743723                             450.00\n",
       "21  00834939134                          145000.00\n",
       "22  00731302060                             150.00\n",
       "23  00649039661                            1064.10\n",
       "24  00590048783                          142665.85"
      ]
     },
     "execution_count": 87,
     "metadata": {},
     "output_type": "execute_result"
    }
   ],
   "source": [
    "doacoes_ambientais_originarias"
   ]
  },
  {
   "cell_type": "code",
   "execution_count": 125,
   "id": "5755d429-1a5d-4250-8b7b-9fd0be3bf632",
   "metadata": {},
   "outputs": [],
   "source": [
    "doacoes_ambientais_originarias.to_excel('resultados/totais_doacoes/totais_doacoes_originarias_irregularidades_ambientais.xlsx',sheet_name='Sheet1',index=False)"
   ]
  },
  {
   "cell_type": "code",
   "execution_count": null,
   "id": "daba81ff-581c-4377-ab4f-599dee180451",
   "metadata": {},
   "outputs": [],
   "source": []
  },
  {
   "cell_type": "code",
   "execution_count": null,
   "id": "a9e4ee20-20bf-4cad-bd63-1e3672ff1868",
   "metadata": {},
   "outputs": [],
   "source": []
  },
  {
   "cell_type": "code",
   "execution_count": 88,
   "id": "c4fbf41f-0a08-4598-8f58-d90b405350ec",
   "metadata": {},
   "outputs": [
    {
     "data": {
      "text/plain": [
       "0.0"
      ]
     },
     "execution_count": 88,
     "metadata": {},
     "output_type": "execute_result"
    }
   ],
   "source": [
    "busca = doacoes_originarias_pf_embargos[(doacoes_originarias_pf_embargos['politico_id'] == '00834939134')]\n",
    "busca['valor'].sum()"
   ]
  },
  {
   "cell_type": "code",
   "execution_count": 89,
   "id": "679dc941-c556-48bc-8c3e-2d0411432901",
   "metadata": {},
   "outputs": [
    {
     "data": {
      "text/plain": [
       "145000.0"
      ]
     },
     "execution_count": 89,
     "metadata": {},
     "output_type": "execute_result"
    }
   ],
   "source": [
    "busca = doacoes_originarias_pf_autos_ibama[(doacoes_originarias_pf_autos_ibama['politico_id'] == '00834939134')]\n",
    "busca['valor'].sum()"
   ]
  },
  {
   "cell_type": "code",
   "execution_count": 90,
   "id": "760b8947-0a79-4cc3-9091-8dca1065eca7",
   "metadata": {},
   "outputs": [
    {
     "data": {
      "text/html": [
       "<div>\n",
       "<style scoped>\n",
       "    .dataframe tbody tr th:only-of-type {\n",
       "        vertical-align: middle;\n",
       "    }\n",
       "\n",
       "    .dataframe tbody tr th {\n",
       "        vertical-align: top;\n",
       "    }\n",
       "\n",
       "    .dataframe thead th {\n",
       "        text-align: right;\n",
       "    }\n",
       "</style>\n",
       "<table border=\"1\" class=\"dataframe\">\n",
       "  <thead>\n",
       "    <tr style=\"text-align: right;\">\n",
       "      <th></th>\n",
       "      <th>valor</th>\n",
       "      <th>politico_id</th>\n",
       "      <th>entidade_id</th>\n",
       "      <th>entidade_id_mascarada</th>\n",
       "      <th>entidade_nome</th>\n",
       "      <th>doacoes_tipo</th>\n",
       "      <th>origem_do_dinheiro_no_tse</th>\n",
       "      <th>data</th>\n",
       "    </tr>\n",
       "  </thead>\n",
       "  <tbody>\n",
       "    <tr>\n",
       "      <th>8</th>\n",
       "      <td>45000.0</td>\n",
       "      <td>00834939134</td>\n",
       "      <td>27462773015</td>\n",
       "      <td>***627730**</td>\n",
       "      <td>OTAVIANO OLAVO PIVETTA</td>\n",
       "      <td>originaria</td>\n",
       "      <td>Recursos de partido político</td>\n",
       "      <td>07/02/2020</td>\n",
       "    </tr>\n",
       "    <tr>\n",
       "      <th>9</th>\n",
       "      <td>100000.0</td>\n",
       "      <td>00834939134</td>\n",
       "      <td>60748150978</td>\n",
       "      <td>***481509**</td>\n",
       "      <td>PAULO CEZAR LUCION</td>\n",
       "      <td>originaria</td>\n",
       "      <td>Recursos de partido político</td>\n",
       "      <td>07/02/2020</td>\n",
       "    </tr>\n",
       "  </tbody>\n",
       "</table>\n",
       "</div>"
      ],
      "text/plain": [
       "      valor  politico_id  entidade_id entidade_id_mascarada  \\\n",
       "8   45000.0  00834939134  27462773015           ***627730**   \n",
       "9  100000.0  00834939134  60748150978           ***481509**   \n",
       "\n",
       "            entidade_nome doacoes_tipo     origem_do_dinheiro_no_tse  \\\n",
       "8  OTAVIANO OLAVO PIVETTA   originaria  Recursos de partido político   \n",
       "9      PAULO CEZAR LUCION   originaria  Recursos de partido político   \n",
       "\n",
       "         data  \n",
       "8  07/02/2020  \n",
       "9  07/02/2020  "
      ]
     },
     "execution_count": 90,
     "metadata": {},
     "output_type": "execute_result"
    }
   ],
   "source": [
    "busca"
   ]
  },
  {
   "cell_type": "code",
   "execution_count": null,
   "id": "960354b1-d5e2-42b1-a8e9-184d6023557b",
   "metadata": {},
   "outputs": [],
   "source": []
  },
  {
   "cell_type": "code",
   "execution_count": 167,
   "id": "37cd45ea-3385-46f2-b235-9d155a9bc1cf",
   "metadata": {},
   "outputs": [
    {
     "data": {
      "text/plain": [
       "0.0"
      ]
     },
     "execution_count": 167,
     "metadata": {},
     "output_type": "execute_result"
    }
   ],
   "source": [
    "busca = doacoes_originarias_pf_embargos[(doacoes_originarias_pf_embargos['politico_id'] == '33155623420')]\n",
    "busca['valor'].sum()"
   ]
  },
  {
   "cell_type": "code",
   "execution_count": 168,
   "id": "be1f0462-84bf-4a42-8373-8c30a6523a50",
   "metadata": {},
   "outputs": [
    {
     "data": {
      "text/plain": [
       "501.25"
      ]
     },
     "execution_count": 168,
     "metadata": {},
     "output_type": "execute_result"
    }
   ],
   "source": [
    "busca = doacoes_originarias_pf_autos_ibama[(doacoes_originarias_pf_autos_ibama['politico_id'] == '33155623420')]\n",
    "busca['valor'].sum()"
   ]
  },
  {
   "cell_type": "code",
   "execution_count": 169,
   "id": "6b5b696c-8198-4adb-97d9-51eb1aabbd8c",
   "metadata": {},
   "outputs": [
    {
     "data": {
      "text/html": [
       "<div>\n",
       "<style scoped>\n",
       "    .dataframe tbody tr th:only-of-type {\n",
       "        vertical-align: middle;\n",
       "    }\n",
       "\n",
       "    .dataframe tbody tr th {\n",
       "        vertical-align: top;\n",
       "    }\n",
       "\n",
       "    .dataframe thead th {\n",
       "        text-align: right;\n",
       "    }\n",
       "</style>\n",
       "<table border=\"1\" class=\"dataframe\">\n",
       "  <thead>\n",
       "    <tr style=\"text-align: right;\">\n",
       "      <th></th>\n",
       "      <th>valor</th>\n",
       "      <th>politico_id</th>\n",
       "      <th>entidade_id</th>\n",
       "      <th>entidade_id_mascarada</th>\n",
       "      <th>entidade_nome</th>\n",
       "      <th>doacoes_tipo</th>\n",
       "      <th>origem_do_dinheiro_no_tse</th>\n",
       "      <th>data</th>\n",
       "    </tr>\n",
       "  </thead>\n",
       "  <tbody>\n",
       "    <tr>\n",
       "      <th>10</th>\n",
       "      <td>501.25</td>\n",
       "      <td>33155623420</td>\n",
       "      <td>33155623420</td>\n",
       "      <td>***556234**</td>\n",
       "      <td>AUGUSTO RODRIGUES COUTINHO DE MELO</td>\n",
       "      <td>originaria</td>\n",
       "      <td>Recursos de Financiamento Coletivo</td>\n",
       "      <td>13/11/2018</td>\n",
       "    </tr>\n",
       "  </tbody>\n",
       "</table>\n",
       "</div>"
      ],
      "text/plain": [
       "     valor  politico_id  entidade_id entidade_id_mascarada  \\\n",
       "10  501.25  33155623420  33155623420           ***556234**   \n",
       "\n",
       "                         entidade_nome doacoes_tipo  \\\n",
       "10  AUGUSTO RODRIGUES COUTINHO DE MELO   originaria   \n",
       "\n",
       "             origem_do_dinheiro_no_tse        data  \n",
       "10  Recursos de Financiamento Coletivo  13/11/2018  "
      ]
     },
     "execution_count": 169,
     "metadata": {},
     "output_type": "execute_result"
    }
   ],
   "source": [
    "busca"
   ]
  },
  {
   "cell_type": "code",
   "execution_count": null,
   "id": "3aa4c47b-8ef9-4224-a896-b169e020e805",
   "metadata": {},
   "outputs": [],
   "source": []
  },
  {
   "cell_type": "code",
   "execution_count": null,
   "id": "5a03c802-d2fd-4da9-947d-d6247ac5b08b",
   "metadata": {},
   "outputs": [],
   "source": []
  },
  {
   "cell_type": "code",
   "execution_count": 91,
   "id": "a5bf4c7c-19a2-461c-89d1-8cc3e0efc6f2",
   "metadata": {},
   "outputs": [],
   "source": [
    "# Versão com os 510 nomes da metodologia\n",
    "kwargs = {'sep': ',', 'dtype': str, 'encoding': 'utf-8'}\n",
    "politicos_atual = pd.read_csv(\"resultados/politicos_2018_versao_9mai.csv\", **kwargs)"
   ]
  },
  {
   "cell_type": "code",
   "execution_count": 92,
   "id": "bcf720bd-3ccb-436c-9bdb-9a85b26422b6",
   "metadata": {},
   "outputs": [
    {
     "name": "stdout",
     "output_type": "stream",
     "text": [
      "<class 'pandas.core.frame.DataFrame'>\n",
      "RangeIndex: 510 entries, 0 to 509\n",
      "Data columns (total 11 columns):\n",
      " #   Column                Non-Null Count  Dtype \n",
      "---  ------                --------------  ----- \n",
      " 0   nome                  510 non-null    object\n",
      " 1   foto                  510 non-null    object\n",
      " 2   nome_urna             510 non-null    object\n",
      " 3   uf_eleicao_disputa    510 non-null    object\n",
      " 4   politico_id           510 non-null    object\n",
      " 5   partido_eleicao       510 non-null    object\n",
      " 6   partido_atual         510 non-null    object\n",
      " 7   uri                   510 non-null    object\n",
      " 8   sequencial_candidato  510 non-null    object\n",
      " 9   bancada_ruralista     236 non-null    object\n",
      " 10  id_interno            510 non-null    object\n",
      "dtypes: object(11)\n",
      "memory usage: 44.0+ KB\n"
     ]
    }
   ],
   "source": [
    "politicos_atual.info()"
   ]
  },
  {
   "cell_type": "code",
   "execution_count": null,
   "id": "ea41ad08-f707-4137-a1f1-28388d841a77",
   "metadata": {},
   "outputs": [],
   "source": []
  },
  {
   "cell_type": "code",
   "execution_count": 93,
   "id": "cac658c8-c735-4c61-9a45-51c2192ffe56",
   "metadata": {},
   "outputs": [],
   "source": [
    "# Une coluna totais doacoes ambientais diretas"
   ]
  },
  {
   "cell_type": "code",
   "execution_count": 94,
   "id": "8738e78a-72f9-4174-a784-73214edc2b7d",
   "metadata": {},
   "outputs": [],
   "source": [
    "politicos_atual = pd.merge(politicos_atual, doacoes_ambientais_diretas, left_on='politico_id', right_on='politico_id', how = 'left')"
   ]
  },
  {
   "cell_type": "code",
   "execution_count": 95,
   "id": "79d8b83d-3032-411d-8440-e34fdb305c4b",
   "metadata": {},
   "outputs": [
    {
     "name": "stdout",
     "output_type": "stream",
     "text": [
      "<class 'pandas.core.frame.DataFrame'>\n",
      "Int64Index: 510 entries, 0 to 509\n",
      "Data columns (total 12 columns):\n",
      " #   Column                         Non-Null Count  Dtype  \n",
      "---  ------                         --------------  -----  \n",
      " 0   nome                           510 non-null    object \n",
      " 1   foto                           510 non-null    object \n",
      " 2   nome_urna                      510 non-null    object \n",
      " 3   uf_eleicao_disputa             510 non-null    object \n",
      " 4   politico_id                    510 non-null    object \n",
      " 5   partido_eleicao                510 non-null    object \n",
      " 6   partido_atual                  510 non-null    object \n",
      " 7   uri                            510 non-null    object \n",
      " 8   sequencial_candidato           510 non-null    object \n",
      " 9   bancada_ruralista              236 non-null    object \n",
      " 10  id_interno                     510 non-null    object \n",
      " 11  doacao_ambiental_direta_total  101 non-null    float64\n",
      "dtypes: float64(1), object(11)\n",
      "memory usage: 51.8+ KB\n"
     ]
    }
   ],
   "source": [
    "politicos_atual.info()"
   ]
  },
  {
   "cell_type": "code",
   "execution_count": 96,
   "id": "e72545b6-f8f6-4e18-92bd-659b30c51bfe",
   "metadata": {},
   "outputs": [],
   "source": [
    "# Une coluna totais doacoes ambientais indiretas"
   ]
  },
  {
   "cell_type": "code",
   "execution_count": 97,
   "id": "85f3d5dd-368e-489f-9cba-af6191dc4bae",
   "metadata": {},
   "outputs": [],
   "source": [
    "politicos_atual = pd.merge(politicos_atual, doacoes_ambientais_indiretas, left_on='politico_id', right_on='politico_id', how = 'left')"
   ]
  },
  {
   "cell_type": "code",
   "execution_count": 98,
   "id": "ef78a8b5-e9f5-4935-97b2-1141d4f21179",
   "metadata": {},
   "outputs": [
    {
     "name": "stdout",
     "output_type": "stream",
     "text": [
      "<class 'pandas.core.frame.DataFrame'>\n",
      "Int64Index: 510 entries, 0 to 509\n",
      "Data columns (total 13 columns):\n",
      " #   Column                           Non-Null Count  Dtype  \n",
      "---  ------                           --------------  -----  \n",
      " 0   nome                             510 non-null    object \n",
      " 1   foto                             510 non-null    object \n",
      " 2   nome_urna                        510 non-null    object \n",
      " 3   uf_eleicao_disputa               510 non-null    object \n",
      " 4   politico_id                      510 non-null    object \n",
      " 5   partido_eleicao                  510 non-null    object \n",
      " 6   partido_atual                    510 non-null    object \n",
      " 7   uri                              510 non-null    object \n",
      " 8   sequencial_candidato             510 non-null    object \n",
      " 9   bancada_ruralista                236 non-null    object \n",
      " 10  id_interno                       510 non-null    object \n",
      " 11  doacao_ambiental_direta_total    101 non-null    float64\n",
      " 12  doacao_ambiental_indireta_total  24 non-null     float64\n",
      "dtypes: float64(2), object(11)\n",
      "memory usage: 55.8+ KB\n"
     ]
    }
   ],
   "source": [
    "politicos_atual.info()"
   ]
  },
  {
   "cell_type": "code",
   "execution_count": 99,
   "id": "f78d5af5-3032-45d6-83c6-15dd80c49542",
   "metadata": {},
   "outputs": [],
   "source": [
    "# Une coluna totais doacoes ambientais orignarias"
   ]
  },
  {
   "cell_type": "code",
   "execution_count": 100,
   "id": "6d8792ea-9f02-4b79-8112-036fb3edf1e4",
   "metadata": {},
   "outputs": [],
   "source": [
    "politicos_atual = pd.merge(politicos_atual, doacoes_ambientais_originarias, left_on='politico_id', right_on='politico_id', how = 'left')"
   ]
  },
  {
   "cell_type": "code",
   "execution_count": 101,
   "id": "3caaa2bf-b8a1-48f2-8320-5b09bed9ac37",
   "metadata": {},
   "outputs": [
    {
     "name": "stdout",
     "output_type": "stream",
     "text": [
      "<class 'pandas.core.frame.DataFrame'>\n",
      "Int64Index: 510 entries, 0 to 509\n",
      "Data columns (total 14 columns):\n",
      " #   Column                             Non-Null Count  Dtype  \n",
      "---  ------                             --------------  -----  \n",
      " 0   nome                               510 non-null    object \n",
      " 1   foto                               510 non-null    object \n",
      " 2   nome_urna                          510 non-null    object \n",
      " 3   uf_eleicao_disputa                 510 non-null    object \n",
      " 4   politico_id                        510 non-null    object \n",
      " 5   partido_eleicao                    510 non-null    object \n",
      " 6   partido_atual                      510 non-null    object \n",
      " 7   uri                                510 non-null    object \n",
      " 8   sequencial_candidato               510 non-null    object \n",
      " 9   bancada_ruralista                  236 non-null    object \n",
      " 10  id_interno                         510 non-null    object \n",
      " 11  doacao_ambiental_direta_total      101 non-null    float64\n",
      " 12  doacao_ambiental_indireta_total    24 non-null     float64\n",
      " 13  doacao_ambiental_originaria_total  25 non-null     float64\n",
      "dtypes: float64(3), object(11)\n",
      "memory usage: 59.8+ KB\n"
     ]
    }
   ],
   "source": [
    "politicos_atual.info()"
   ]
  },
  {
   "cell_type": "code",
   "execution_count": null,
   "id": "a8f9eb6d-8c92-4bac-ba8f-22bff87b31d9",
   "metadata": {},
   "outputs": [],
   "source": []
  },
  {
   "cell_type": "code",
   "execution_count": 181,
   "id": "24af5bb7-a7f0-4eaa-9573-bdafdec87859",
   "metadata": {},
   "outputs": [],
   "source": [
    "politicos_atual.to_csv('resultados/politicos_2018_versao_12julA.csv',index=False)"
   ]
  },
  {
   "cell_type": "code",
   "execution_count": null,
   "id": "a32e45ee-8286-47f1-8a25-65327e978ca5",
   "metadata": {},
   "outputs": [],
   "source": []
  },
  {
   "cell_type": "code",
   "execution_count": null,
   "id": "23d95df7-8c52-4b84-b5ef-60847a149b34",
   "metadata": {},
   "outputs": [],
   "source": []
  },
  {
   "cell_type": "code",
   "execution_count": null,
   "id": "4eee2057-0dec-4440-8a12-e672a7fa5f74",
   "metadata": {},
   "outputs": [],
   "source": [
    "### Correção doações indiretas ambientais - 23/7"
   ]
  },
  {
   "cell_type": "code",
   "execution_count": 102,
   "id": "e323b56d-ac31-4f83-b4c7-4e65018b1b6d",
   "metadata": {},
   "outputs": [],
   "source": [
    "politicos = pd.read_excel(\"resultados/politicos_2018_versao_14jul_2022.xlsx\", sheet_name = 'Sheet1', dtype = 'str')"
   ]
  },
  {
   "cell_type": "code",
   "execution_count": 103,
   "id": "f31420e8-11bf-443f-8a44-4d236582a818",
   "metadata": {},
   "outputs": [
    {
     "name": "stdout",
     "output_type": "stream",
     "text": [
      "<class 'pandas.core.frame.DataFrame'>\n",
      "RangeIndex: 510 entries, 0 to 509\n",
      "Data columns (total 19 columns):\n",
      " #   Column                             Non-Null Count  Dtype \n",
      "---  ------                             --------------  ----- \n",
      " 0   nome                               510 non-null    object\n",
      " 1   foto                               510 non-null    object\n",
      " 2   nome_urna                          510 non-null    object\n",
      " 3   uf_eleicao_disputa                 510 non-null    object\n",
      " 4   politico_id                        510 non-null    object\n",
      " 5   partido_eleicao                    510 non-null    object\n",
      " 6   uri                                510 non-null    object\n",
      " 7   sequencial_candidato               510 non-null    object\n",
      " 8   bancada_ruralista                  236 non-null    object\n",
      " 9   id_interno                         510 non-null    object\n",
      " 10  doacao_ambiental_direta_total      101 non-null    object\n",
      " 11  doacao_ambiental_indireta_total    27 non-null     object\n",
      " 12  doacao_ambiental_originaria_total  25 non-null     object\n",
      " 13  doacao_trabalhista_direta_total    70 non-null     object\n",
      " 14  total_geral_doacoes_diretas        510 non-null    object\n",
      " 15  total_geral_doacoes_indiretas      309 non-null    object\n",
      " 16  total_geral_doacoes_originarias    169 non-null    object\n",
      " 17  temperatura_ruralometro_2018       228 non-null    object\n",
      " 18  partido_atual                      510 non-null    object\n",
      "dtypes: object(19)\n",
      "memory usage: 75.8+ KB\n"
     ]
    }
   ],
   "source": [
    "politicos.info()"
   ]
  },
  {
   "cell_type": "code",
   "execution_count": 104,
   "id": "319a6416-f284-414b-9de2-67c1975b5ba8",
   "metadata": {},
   "outputs": [
    {
     "data": {
      "text/plain": [
       "Index(['nome', 'foto', 'nome_urna', 'uf_eleicao_disputa', 'politico_id',\n",
       "       'partido_eleicao', 'uri', 'sequencial_candidato', 'bancada_ruralista',\n",
       "       'id_interno', 'doacao_ambiental_direta_total',\n",
       "       'doacao_ambiental_indireta_total', 'doacao_ambiental_originaria_total',\n",
       "       'doacao_trabalhista_direta_total', 'total_geral_doacoes_diretas',\n",
       "       'total_geral_doacoes_indiretas', 'total_geral_doacoes_originarias',\n",
       "       'temperatura_ruralometro_2018', 'partido_atual'],\n",
       "      dtype='object')"
      ]
     },
     "execution_count": 104,
     "metadata": {},
     "output_type": "execute_result"
    }
   ],
   "source": [
    "politicos.columns"
   ]
  },
  {
   "cell_type": "code",
   "execution_count": 105,
   "id": "6490180b-b50f-45ff-834c-cce5d1b28fff",
   "metadata": {},
   "outputs": [],
   "source": [
    "politicos.drop('doacao_ambiental_indireta_total', axis=1, inplace=True)"
   ]
  },
  {
   "cell_type": "code",
   "execution_count": null,
   "id": "237c73ed-7365-4f63-adf7-66eda30487f9",
   "metadata": {},
   "outputs": [],
   "source": []
  },
  {
   "cell_type": "code",
   "execution_count": 106,
   "id": "5f6057d8-6d3e-4172-af0e-e4fea6001fc6",
   "metadata": {},
   "outputs": [
    {
     "data": {
      "text/plain": [
       "Index(['politico_id', 'doacao_ambiental_indireta_total'], dtype='object')"
      ]
     },
     "execution_count": 106,
     "metadata": {},
     "output_type": "execute_result"
    }
   ],
   "source": [
    "doacoes_ambientais_indiretas.columns"
   ]
  },
  {
   "cell_type": "code",
   "execution_count": 107,
   "id": "6243a260-a843-4672-b1b1-8dde87f5f05e",
   "metadata": {},
   "outputs": [],
   "source": [
    "politicos_atual = pd.merge(politicos, doacoes_ambientais_indiretas, left_on='politico_id', right_on='politico_id', how = 'left')"
   ]
  },
  {
   "cell_type": "code",
   "execution_count": 108,
   "id": "1094ee91-80b3-42a1-9516-8c80b857abd1",
   "metadata": {},
   "outputs": [
    {
     "name": "stdout",
     "output_type": "stream",
     "text": [
      "<class 'pandas.core.frame.DataFrame'>\n",
      "Int64Index: 510 entries, 0 to 509\n",
      "Data columns (total 19 columns):\n",
      " #   Column                             Non-Null Count  Dtype  \n",
      "---  ------                             --------------  -----  \n",
      " 0   nome                               510 non-null    object \n",
      " 1   foto                               510 non-null    object \n",
      " 2   nome_urna                          510 non-null    object \n",
      " 3   uf_eleicao_disputa                 510 non-null    object \n",
      " 4   politico_id                        510 non-null    object \n",
      " 5   partido_eleicao                    510 non-null    object \n",
      " 6   uri                                510 non-null    object \n",
      " 7   sequencial_candidato               510 non-null    object \n",
      " 8   bancada_ruralista                  236 non-null    object \n",
      " 9   id_interno                         510 non-null    object \n",
      " 10  doacao_ambiental_direta_total      101 non-null    object \n",
      " 11  doacao_ambiental_originaria_total  25 non-null     object \n",
      " 12  doacao_trabalhista_direta_total    70 non-null     object \n",
      " 13  total_geral_doacoes_diretas        510 non-null    object \n",
      " 14  total_geral_doacoes_indiretas      309 non-null    object \n",
      " 15  total_geral_doacoes_originarias    169 non-null    object \n",
      " 16  temperatura_ruralometro_2018       228 non-null    object \n",
      " 17  partido_atual                      510 non-null    object \n",
      " 18  doacao_ambiental_indireta_total    24 non-null     float64\n",
      "dtypes: float64(1), object(18)\n",
      "memory usage: 79.7+ KB\n"
     ]
    }
   ],
   "source": [
    "politicos_atual.info()"
   ]
  },
  {
   "cell_type": "code",
   "execution_count": 109,
   "id": "f3e756f7-1a22-4398-97ef-5c5e5150c4ed",
   "metadata": {},
   "outputs": [],
   "source": [
    "politicos_atual = politicos_atual[['nome', 'foto', 'nome_urna', 'uf_eleicao_disputa', 'politico_id',\n",
    "       'partido_eleicao', 'uri', 'sequencial_candidato', 'bancada_ruralista',\n",
    "       'id_interno', 'doacao_ambiental_direta_total',\n",
    "       'doacao_ambiental_indireta_total', 'doacao_ambiental_originaria_total',\n",
    "       'doacao_trabalhista_direta_total', 'total_geral_doacoes_diretas',\n",
    "       'total_geral_doacoes_indiretas', 'total_geral_doacoes_originarias',\n",
    "       'temperatura_ruralometro_2018', 'partido_atual']]"
   ]
  },
  {
   "cell_type": "code",
   "execution_count": 110,
   "id": "5a205427-f73f-404b-9df7-506dbc6f127b",
   "metadata": {},
   "outputs": [
    {
     "name": "stdout",
     "output_type": "stream",
     "text": [
      "<class 'pandas.core.frame.DataFrame'>\n",
      "Int64Index: 510 entries, 0 to 509\n",
      "Data columns (total 19 columns):\n",
      " #   Column                             Non-Null Count  Dtype  \n",
      "---  ------                             --------------  -----  \n",
      " 0   nome                               510 non-null    object \n",
      " 1   foto                               510 non-null    object \n",
      " 2   nome_urna                          510 non-null    object \n",
      " 3   uf_eleicao_disputa                 510 non-null    object \n",
      " 4   politico_id                        510 non-null    object \n",
      " 5   partido_eleicao                    510 non-null    object \n",
      " 6   uri                                510 non-null    object \n",
      " 7   sequencial_candidato               510 non-null    object \n",
      " 8   bancada_ruralista                  236 non-null    object \n",
      " 9   id_interno                         510 non-null    object \n",
      " 10  doacao_ambiental_direta_total      101 non-null    object \n",
      " 11  doacao_ambiental_indireta_total    24 non-null     float64\n",
      " 12  doacao_ambiental_originaria_total  25 non-null     object \n",
      " 13  doacao_trabalhista_direta_total    70 non-null     object \n",
      " 14  total_geral_doacoes_diretas        510 non-null    object \n",
      " 15  total_geral_doacoes_indiretas      309 non-null    object \n",
      " 16  total_geral_doacoes_originarias    169 non-null    object \n",
      " 17  temperatura_ruralometro_2018       228 non-null    object \n",
      " 18  partido_atual                      510 non-null    object \n",
      "dtypes: float64(1), object(18)\n",
      "memory usage: 79.7+ KB\n"
     ]
    }
   ],
   "source": [
    "politicos_atual.info()"
   ]
  },
  {
   "cell_type": "code",
   "execution_count": 61,
   "id": "ead20be5-ca14-45ee-9beb-7ad6065908c5",
   "metadata": {},
   "outputs": [],
   "source": [
    "politicos_atual.to_csv('resultados/politicos_2018_versao_23jul_2022.xlsx',index=False)"
   ]
  },
  {
   "cell_type": "code",
   "execution_count": null,
   "id": "927fde1a-4418-41bc-8cdb-b110a8b4a17d",
   "metadata": {},
   "outputs": [],
   "source": []
  },
  {
   "cell_type": "code",
   "execution_count": null,
   "id": "97d9fc43-2e53-40fd-8860-ceca4aad04de",
   "metadata": {},
   "outputs": [],
   "source": []
  },
  {
   "cell_type": "code",
   "execution_count": null,
   "id": "49e71fcd-8619-4ae9-8e10-1622c0b7e431",
   "metadata": {},
   "outputs": [],
   "source": [
    "# Correcao 26 jul "
   ]
  },
  {
   "cell_type": "code",
   "execution_count": 111,
   "id": "80402517-cd70-466b-8f85-f77d675cfab2",
   "metadata": {},
   "outputs": [],
   "source": [
    "politicos_partidos_certos = pd.read_excel(\"resultados/Revisão politicos_2018_versao_14jul_2022.xlsx\", sheet_name = 'Sheet1', dtype = 'str')"
   ]
  },
  {
   "cell_type": "code",
   "execution_count": 112,
   "id": "87379f59-c284-46f3-b95d-874710af49d2",
   "metadata": {},
   "outputs": [
    {
     "name": "stdout",
     "output_type": "stream",
     "text": [
      "<class 'pandas.core.frame.DataFrame'>\n",
      "RangeIndex: 499 entries, 0 to 498\n",
      "Data columns (total 18 columns):\n",
      " #   Column                             Non-Null Count  Dtype \n",
      "---  ------                             --------------  ----- \n",
      " 0   nome                               499 non-null    object\n",
      " 1   foto                               499 non-null    object\n",
      " 2   nome_urna                          499 non-null    object\n",
      " 3   uf_eleicao_disputa                 499 non-null    object\n",
      " 4   politico_id                        499 non-null    object\n",
      " 5   uri                                499 non-null    object\n",
      " 6   sequencial_candidato               499 non-null    object\n",
      " 7   bancada_ruralista                  233 non-null    object\n",
      " 8   id_interno                         499 non-null    object\n",
      " 9   doacao_ambiental_direta_total      99 non-null     object\n",
      " 10  doacao_ambiental_indireta_total    26 non-null     object\n",
      " 11  doacao_ambiental_originaria_total  24 non-null     object\n",
      " 12  doacao_trabalhista_direta_total    68 non-null     object\n",
      " 13  total_geral_doacoes_diretas        499 non-null    object\n",
      " 14  total_geral_doacoes_indiretas      300 non-null    object\n",
      " 15  total_geral_doacoes_originarias    168 non-null    object\n",
      " 16  temperatura_ruralometro_2018       220 non-null    object\n",
      " 17  partido_atual                      499 non-null    object\n",
      "dtypes: object(18)\n",
      "memory usage: 70.3+ KB\n"
     ]
    }
   ],
   "source": [
    "politicos_partidos_certos.info()"
   ]
  },
  {
   "cell_type": "code",
   "execution_count": 113,
   "id": "1334a27f-e284-4b36-bf2b-e683dab8e6c1",
   "metadata": {},
   "outputs": [],
   "source": [
    "politicos_partidos_certos.drop('doacao_ambiental_indireta_total', axis=1, inplace=True)"
   ]
  },
  {
   "cell_type": "code",
   "execution_count": null,
   "id": "f3fd2aff-0ffd-4f89-b509-d13ff5f95cd8",
   "metadata": {},
   "outputs": [],
   "source": []
  },
  {
   "cell_type": "code",
   "execution_count": 114,
   "id": "237175c9-f1b6-4785-90a8-4d45b469a3da",
   "metadata": {},
   "outputs": [],
   "source": [
    "politicos_atual_indiretas = politicos_atual[['politico_id', 'doacao_ambiental_indireta_total']]"
   ]
  },
  {
   "cell_type": "code",
   "execution_count": null,
   "id": "cd06d51c-bcba-471a-8a17-8c885413ef53",
   "metadata": {},
   "outputs": [],
   "source": []
  },
  {
   "cell_type": "code",
   "execution_count": 115,
   "id": "be4a2e51-1c8e-4044-9469-40983eed079c",
   "metadata": {},
   "outputs": [],
   "source": [
    "politicos_atual_partidos = pd.merge(politicos_partidos_certos, politicos_atual_indiretas, left_on='politico_id', right_on='politico_id', how = 'left')"
   ]
  },
  {
   "cell_type": "code",
   "execution_count": 116,
   "id": "443e680d-4ed2-4ac5-827e-ea6f1b31e7fd",
   "metadata": {},
   "outputs": [
    {
     "data": {
      "text/plain": [
       "Index(['nome', 'foto', 'nome_urna', 'uf_eleicao_disputa', 'politico_id', 'uri',\n",
       "       'sequencial_candidato', 'bancada_ruralista', 'id_interno',\n",
       "       'doacao_ambiental_direta_total', 'doacao_ambiental_originaria_total',\n",
       "       'doacao_trabalhista_direta_total', 'total_geral_doacoes_diretas',\n",
       "       'total_geral_doacoes_indiretas', 'total_geral_doacoes_originarias',\n",
       "       'temperatura_ruralometro_2018', 'partido_atual',\n",
       "       'doacao_ambiental_indireta_total'],\n",
       "      dtype='object')"
      ]
     },
     "execution_count": 116,
     "metadata": {},
     "output_type": "execute_result"
    }
   ],
   "source": [
    "politicos_atual_partidos.columns"
   ]
  },
  {
   "cell_type": "code",
   "execution_count": 117,
   "id": "92188fc4-101c-4181-a146-be73beffc03a",
   "metadata": {},
   "outputs": [],
   "source": [
    "politicos_atual_partidos = politicos_atual_partidos[['nome', 'foto', 'nome_urna', 'uf_eleicao_disputa', 'politico_id',\n",
    "       'uri', 'sequencial_candidato', 'bancada_ruralista',\n",
    "       'id_interno', 'doacao_ambiental_direta_total',\n",
    "       'doacao_ambiental_indireta_total', 'doacao_ambiental_originaria_total',\n",
    "       'doacao_trabalhista_direta_total', 'total_geral_doacoes_diretas',\n",
    "       'total_geral_doacoes_indiretas', 'total_geral_doacoes_originarias',\n",
    "       'temperatura_ruralometro_2018', 'partido_atual']]"
   ]
  },
  {
   "cell_type": "code",
   "execution_count": 118,
   "id": "0a9d5556-9078-4f76-ab62-5307774db1d9",
   "metadata": {},
   "outputs": [
    {
     "name": "stdout",
     "output_type": "stream",
     "text": [
      "<class 'pandas.core.frame.DataFrame'>\n",
      "Int64Index: 499 entries, 0 to 498\n",
      "Data columns (total 18 columns):\n",
      " #   Column                             Non-Null Count  Dtype  \n",
      "---  ------                             --------------  -----  \n",
      " 0   nome                               499 non-null    object \n",
      " 1   foto                               499 non-null    object \n",
      " 2   nome_urna                          499 non-null    object \n",
      " 3   uf_eleicao_disputa                 499 non-null    object \n",
      " 4   politico_id                        499 non-null    object \n",
      " 5   uri                                499 non-null    object \n",
      " 6   sequencial_candidato               499 non-null    object \n",
      " 7   bancada_ruralista                  233 non-null    object \n",
      " 8   id_interno                         499 non-null    object \n",
      " 9   doacao_ambiental_direta_total      99 non-null     object \n",
      " 10  doacao_ambiental_indireta_total    23 non-null     float64\n",
      " 11  doacao_ambiental_originaria_total  24 non-null     object \n",
      " 12  doacao_trabalhista_direta_total    68 non-null     object \n",
      " 13  total_geral_doacoes_diretas        499 non-null    object \n",
      " 14  total_geral_doacoes_indiretas      300 non-null    object \n",
      " 15  total_geral_doacoes_originarias    168 non-null    object \n",
      " 16  temperatura_ruralometro_2018       220 non-null    object \n",
      " 17  partido_atual                      499 non-null    object \n",
      "dtypes: float64(1), object(17)\n",
      "memory usage: 74.1+ KB\n"
     ]
    }
   ],
   "source": [
    "politicos_atual_partidos.info()"
   ]
  },
  {
   "cell_type": "code",
   "execution_count": null,
   "id": "03515ac3-0a48-4b7f-b668-f5cedbba6da3",
   "metadata": {},
   "outputs": [],
   "source": []
  },
  {
   "cell_type": "code",
   "execution_count": 123,
   "id": "9ec5a628-9324-415e-904b-3ffa139d7411",
   "metadata": {},
   "outputs": [],
   "source": [
    "politicos_atual_partidos.to_excel('resultados/politicos_2018_versao_26jul_2022.xlsx',sheet_name='Sheet1',index=False)"
   ]
  },
  {
   "cell_type": "code",
   "execution_count": 124,
   "id": "0f26c4f8-2bce-47c6-841c-7cc6c34becd1",
   "metadata": {},
   "outputs": [],
   "source": [
    "politicos_atual_partidos.to_csv('resultados/politicos_2018_versao_26jul_2022.csv',index=False)"
   ]
  },
  {
   "cell_type": "code",
   "execution_count": null,
   "id": "27c4763d-eaed-4c5d-a961-29984b44ab3d",
   "metadata": {},
   "outputs": [],
   "source": []
  }
 ],
 "metadata": {
  "kernelspec": {
   "display_name": "Python 3",
   "language": "python",
   "name": "python3"
  },
  "language_info": {
   "codemirror_mode": {
    "name": "ipython",
    "version": 3
   },
   "file_extension": ".py",
   "mimetype": "text/x-python",
   "name": "python",
   "nbconvert_exporter": "python",
   "pygments_lexer": "ipython3",
   "version": "3.8.2"
  }
 },
 "nbformat": 4,
 "nbformat_minor": 5
}
