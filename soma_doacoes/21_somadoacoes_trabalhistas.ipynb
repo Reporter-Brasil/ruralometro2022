{
 "cells": [
  {
   "cell_type": "code",
   "execution_count": null,
   "id": "9a4b4460-5d02-4da9-b8a9-32a9a8383da1",
   "metadata": {},
   "outputs": [],
   "source": [
    "# -*- coding: utf-8\n",
    "# Repórter Brasil (https://ruralometro2022.reporterbrasil.org.br/)\n",
    "# Reinaldo Chaves (@paidatocandeira)\n",
    "# Scripts para somar, sem repetições as doações dos deputados em 2018 - relacionadas às listas de \n",
    "# pessoas/empresas em infrações trabalhistas"
   ]
  },
  {
   "cell_type": "code",
   "execution_count": null,
   "id": "8a3571e7-10af-40c6-9c48-b8e5fc623807",
   "metadata": {},
   "outputs": [],
   "source": []
  },
  {
   "cell_type": "code",
   "execution_count": 150,
   "id": "567cb72c-69ea-4bc4-a5e5-b271f5913b3b",
   "metadata": {},
   "outputs": [],
   "source": [
    "import pandas as pd"
   ]
  },
  {
   "cell_type": "code",
   "execution_count": null,
   "id": "fe2a5c0f-48df-494a-94aa-80eda1895a37",
   "metadata": {},
   "outputs": [],
   "source": []
  },
  {
   "cell_type": "markdown",
   "id": "734e545d-01e4-48b3-abb5-81858b0879e3",
   "metadata": {},
   "source": [
    "### Doacoes gerais diretas"
   ]
  },
  {
   "cell_type": "code",
   "execution_count": 151,
   "id": "c47439e9-8b26-41e7-8147-1682ff8bb49b",
   "metadata": {},
   "outputs": [],
   "source": [
    "kwargs = {'sep': ',', 'dtype': str, 'encoding': 'utf-8'}\n",
    "doacoes_2018 = pd.read_csv(\"resultados/doacoes/doacoes_geral_politicos_2018.csv\", **kwargs)"
   ]
  },
  {
   "cell_type": "code",
   "execution_count": 152,
   "id": "3579bc59-73a8-4ce7-9a4e-0e265c90de46",
   "metadata": {},
   "outputs": [],
   "source": [
    "doacoes_2018['VR_RECEITA'] = doacoes_2018['VR_RECEITA'].str.replace(',','.')\n",
    "doacoes_2018['VR_RECEITA'] = doacoes_2018['VR_RECEITA'].astype('float64') "
   ]
  },
  {
   "cell_type": "code",
   "execution_count": 153,
   "id": "b8986e18-6c58-4068-950a-39218519bd9a",
   "metadata": {},
   "outputs": [
    {
     "data": {
      "text/plain": [
       "Index(['DT_RECEITA', 'NR_CPF_CANDIDATO', 'SQ_CANDIDATO', 'NM_CANDIDATO',\n",
       "       'DS_FONTE_RECEITA', 'DS_NATUREZA_RECEITA', 'NR_CPF_CNPJ_DOADOR',\n",
       "       'NM_DOADOR_RFB', 'DS_ESFERA_PARTIDARIA_DOADOR', 'NM_PARTIDO_DOADOR',\n",
       "       'SQ_CANDIDATO_DOADOR', 'DS_CARGO_CANDIDATO_DOADOR', 'SG_PARTIDO_DOADOR',\n",
       "       'DS_RECEITA', 'VR_RECEITA'],\n",
       "      dtype='object')"
      ]
     },
     "execution_count": 153,
     "metadata": {},
     "output_type": "execute_result"
    }
   ],
   "source": [
    "doacoes_2018.columns"
   ]
  },
  {
   "cell_type": "code",
   "execution_count": 154,
   "id": "ff702617-d025-43d4-9edb-96aa2a6b89fb",
   "metadata": {},
   "outputs": [],
   "source": [
    "def limpeza5(linha):\n",
    "    documento = str(linha[\"NR_CPF_CNPJ_DOADOR\"])\n",
    "    if len(documento) > 11:\n",
    "        return documento[:8]\n",
    "    else:\n",
    "        return documento\n",
    "\n",
    "doacoes_2018['doador_raiz'] = doacoes_2018.apply(limpeza5, axis=1)"
   ]
  },
  {
   "cell_type": "code",
   "execution_count": null,
   "id": "abb657d2-bcae-448e-a952-099213be06c2",
   "metadata": {},
   "outputs": [],
   "source": []
  },
  {
   "cell_type": "code",
   "execution_count": null,
   "id": "5cabd59c-f7a7-455e-8091-0f8d467be960",
   "metadata": {},
   "outputs": [],
   "source": []
  },
  {
   "cell_type": "markdown",
   "id": "87d31772-4521-4223-843d-df7113519144",
   "metadata": {},
   "source": [
    "### Trabalhistas diretas"
   ]
  },
  {
   "cell_type": "code",
   "execution_count": 155,
   "id": "984ced5c-781a-4c9e-bc04-f3e0536b20da",
   "metadata": {},
   "outputs": [],
   "source": [
    "kwargs = {'sep': ',', 'dtype': str, 'encoding': 'utf-8'}\n",
    "doacoes_trabalhistas = pd.read_csv(\"resultados/autos_mte/doacoes_diretas_vindas_pessoas_com_autos_de_mte_2018.csv\", **kwargs)"
   ]
  },
  {
   "cell_type": "code",
   "execution_count": 156,
   "id": "9dd2a1fb-fbf5-4aed-add4-645bb3b03b29",
   "metadata": {},
   "outputs": [],
   "source": [
    "doacoes_trabalhistas['valor'] = doacoes_trabalhistas['valor'].str.replace(',','.')\n",
    "doacoes_trabalhistas['valor'] = doacoes_trabalhistas['valor'].astype('float64') "
   ]
  },
  {
   "cell_type": "code",
   "execution_count": 157,
   "id": "ee19e44a-5122-4cc8-befa-678818ac1896",
   "metadata": {},
   "outputs": [
    {
     "data": {
      "text/plain": [
       "Index(['valor', 'politico_id', 'entidade_id', 'entidade_nome', 'doacoes_tipo',\n",
       "       'origem_do_dinheiro_no_tse', 'data'],\n",
       "      dtype='object')"
      ]
     },
     "execution_count": 157,
     "metadata": {},
     "output_type": "execute_result"
    }
   ],
   "source": [
    "doacoes_trabalhistas.columns"
   ]
  },
  {
   "cell_type": "code",
   "execution_count": 158,
   "id": "28c0cf65-b435-4fca-b433-57b5a5a765d9",
   "metadata": {},
   "outputs": [
    {
     "data": {
      "text/html": [
       "<div>\n",
       "<style scoped>\n",
       "    .dataframe tbody tr th:only-of-type {\n",
       "        vertical-align: middle;\n",
       "    }\n",
       "\n",
       "    .dataframe tbody tr th {\n",
       "        vertical-align: top;\n",
       "    }\n",
       "\n",
       "    .dataframe thead th {\n",
       "        text-align: right;\n",
       "    }\n",
       "</style>\n",
       "<table border=\"1\" class=\"dataframe\">\n",
       "  <thead>\n",
       "    <tr style=\"text-align: right;\">\n",
       "      <th></th>\n",
       "      <th>valor</th>\n",
       "      <th>politico_id</th>\n",
       "      <th>entidade_id</th>\n",
       "      <th>entidade_nome</th>\n",
       "      <th>doacoes_tipo</th>\n",
       "      <th>origem_do_dinheiro_no_tse</th>\n",
       "      <th>data</th>\n",
       "    </tr>\n",
       "  </thead>\n",
       "  <tbody>\n",
       "    <tr>\n",
       "      <th>134</th>\n",
       "      <td>13.2</td>\n",
       "      <td>61464686815</td>\n",
       "      <td>00676262000170</td>\n",
       "      <td>PARTIDO DOS TRABALHADORES</td>\n",
       "      <td>direta</td>\n",
       "      <td>Fundo Partidario</td>\n",
       "      <td>01/11/2018</td>\n",
       "    </tr>\n",
       "    <tr>\n",
       "      <th>66</th>\n",
       "      <td>217500.0</td>\n",
       "      <td>03987461411</td>\n",
       "      <td>00676262000170</td>\n",
       "      <td>PARTIDO DOS TRABALHADORES</td>\n",
       "      <td>direta</td>\n",
       "      <td>Fundo Especial</td>\n",
       "      <td>29/08/2018</td>\n",
       "    </tr>\n",
       "    <tr>\n",
       "      <th>12</th>\n",
       "      <td>396802.0</td>\n",
       "      <td>19530773587</td>\n",
       "      <td>00676262000170</td>\n",
       "      <td>PARTIDO DOS TRABALHADORES</td>\n",
       "      <td>direta</td>\n",
       "      <td>Fundo Especial</td>\n",
       "      <td>12/09/2018</td>\n",
       "    </tr>\n",
       "    <tr>\n",
       "      <th>122</th>\n",
       "      <td>450000.0</td>\n",
       "      <td>00398099863</td>\n",
       "      <td>00676262000170</td>\n",
       "      <td>PARTIDO DOS TRABALHADORES</td>\n",
       "      <td>direta</td>\n",
       "      <td>Fundo Especial</td>\n",
       "      <td>12/09/2018</td>\n",
       "    </tr>\n",
       "    <tr>\n",
       "      <th>33</th>\n",
       "      <td>450000.0</td>\n",
       "      <td>13334727149</td>\n",
       "      <td>00676262000170</td>\n",
       "      <td>PARTIDO DOS TRABALHADORES</td>\n",
       "      <td>direta</td>\n",
       "      <td>Fundo Especial</td>\n",
       "      <td>12/09/2018</td>\n",
       "    </tr>\n",
       "  </tbody>\n",
       "</table>\n",
       "</div>"
      ],
      "text/plain": [
       "        valor  politico_id     entidade_id              entidade_nome  \\\n",
       "134      13.2  61464686815  00676262000170  PARTIDO DOS TRABALHADORES   \n",
       "66   217500.0  03987461411  00676262000170  PARTIDO DOS TRABALHADORES   \n",
       "12   396802.0  19530773587  00676262000170  PARTIDO DOS TRABALHADORES   \n",
       "122  450000.0  00398099863  00676262000170  PARTIDO DOS TRABALHADORES   \n",
       "33   450000.0  13334727149  00676262000170  PARTIDO DOS TRABALHADORES   \n",
       "\n",
       "    doacoes_tipo origem_do_dinheiro_no_tse        data  \n",
       "134       direta          Fundo Partidario  01/11/2018  \n",
       "66        direta            Fundo Especial  29/08/2018  \n",
       "12        direta            Fundo Especial  12/09/2018  \n",
       "122       direta            Fundo Especial  12/09/2018  \n",
       "33        direta            Fundo Especial  12/09/2018  "
      ]
     },
     "execution_count": 158,
     "metadata": {},
     "output_type": "execute_result"
    }
   ],
   "source": [
    "doacoes_trabalhistas.sample(5)"
   ]
  },
  {
   "cell_type": "code",
   "execution_count": null,
   "id": "f9e07660-2a89-4909-aa97-897ea7a9b8e1",
   "metadata": {},
   "outputs": [],
   "source": []
  },
  {
   "cell_type": "code",
   "execution_count": null,
   "id": "27a8f4e2-c68a-44f2-b4ff-2fc3d5b8ab59",
   "metadata": {},
   "outputs": [],
   "source": []
  },
  {
   "cell_type": "code",
   "execution_count": 159,
   "id": "e3a0443f-5a3e-476b-b9b1-993e886b1c65",
   "metadata": {},
   "outputs": [],
   "source": [
    "doacoes_trab = doacoes_trabalhistas.sort_values(by=['politico_id'], ascending=False)"
   ]
  },
  {
   "cell_type": "code",
   "execution_count": 160,
   "id": "b247eb36-2cbf-4221-aaa4-109620e8cc09",
   "metadata": {},
   "outputs": [],
   "source": [
    "arr = doacoes_trab[\"politico_id\"].unique()\n",
    "lista = arr.tolist()"
   ]
  },
  {
   "cell_type": "code",
   "execution_count": 161,
   "id": "9e17c5d1-f768-4d02-aad4-9f6223eafe0a",
   "metadata": {},
   "outputs": [
    {
     "data": {
      "text/plain": [
       "70"
      ]
     },
     "execution_count": 161,
     "metadata": {},
     "output_type": "execute_result"
    }
   ],
   "source": [
    "len(lista)"
   ]
  },
  {
   "cell_type": "code",
   "execution_count": null,
   "id": "56edff09-b71e-4078-ad87-3c4592e2f2b4",
   "metadata": {},
   "outputs": [],
   "source": []
  },
  {
   "cell_type": "code",
   "execution_count": 162,
   "id": "d7900ac5-cebf-4a04-9bd2-db2097d3a8e1",
   "metadata": {},
   "outputs": [],
   "source": [
    "dados_encontrados = []\n",
    "for politico in lista:\n",
    "    valor = 0\n",
    "    doadores = doacoes_trab[(doacoes_trab['politico_id'] == politico)]\n",
    "    \n",
    "    arr = doadores[\"entidade_id\"].unique()\n",
    "    lista_doadores = arr.tolist()\n",
    "    \n",
    "       \n",
    "    for doador in lista_doadores:\n",
    "        \n",
    "        if len(doador) > 11:\n",
    "            doador = doador[:8]\n",
    "        \n",
    "        soma = doacoes_2018[(doacoes_2018['NR_CPF_CANDIDATO'] == politico) & (doacoes_2018['doador_raiz'] == doador)]\n",
    "        total = soma['VR_RECEITA'].sum()\n",
    "        valor += total\n",
    "    \n",
    "    dicionario = {\"politico_id\": politico, \n",
    "                  \"doacao_trabalhista_direta_total\": valor}\n",
    "    dados_encontrados.append(dicionario)    "
   ]
  },
  {
   "cell_type": "code",
   "execution_count": 163,
   "id": "984b051b-c272-452e-9027-31d49800dffe",
   "metadata": {},
   "outputs": [],
   "source": [
    "doacoes_trab_diretas = pd.DataFrame(dados_encontrados)"
   ]
  },
  {
   "cell_type": "code",
   "execution_count": 164,
   "id": "afd6cfb6-704d-4652-8282-e1621870af68",
   "metadata": {},
   "outputs": [
    {
     "data": {
      "text/html": [
       "<div>\n",
       "<style scoped>\n",
       "    .dataframe tbody tr th:only-of-type {\n",
       "        vertical-align: middle;\n",
       "    }\n",
       "\n",
       "    .dataframe tbody tr th {\n",
       "        vertical-align: top;\n",
       "    }\n",
       "\n",
       "    .dataframe thead th {\n",
       "        text-align: right;\n",
       "    }\n",
       "</style>\n",
       "<table border=\"1\" class=\"dataframe\">\n",
       "  <thead>\n",
       "    <tr style=\"text-align: right;\">\n",
       "      <th></th>\n",
       "      <th>politico_id</th>\n",
       "      <th>doacao_trabalhista_direta_total</th>\n",
       "    </tr>\n",
       "  </thead>\n",
       "  <tbody>\n",
       "    <tr>\n",
       "      <th>0</th>\n",
       "      <td>98042734700</td>\n",
       "      <td>584064.05</td>\n",
       "    </tr>\n",
       "    <tr>\n",
       "      <th>1</th>\n",
       "      <td>94892393649</td>\n",
       "      <td>900000.00</td>\n",
       "    </tr>\n",
       "    <tr>\n",
       "      <th>2</th>\n",
       "      <td>90330862634</td>\n",
       "      <td>900000.00</td>\n",
       "    </tr>\n",
       "    <tr>\n",
       "      <th>3</th>\n",
       "      <td>86753991620</td>\n",
       "      <td>394715.10</td>\n",
       "    </tr>\n",
       "    <tr>\n",
       "      <th>4</th>\n",
       "      <td>76808742715</td>\n",
       "      <td>900000.00</td>\n",
       "    </tr>\n",
       "    <tr>\n",
       "      <th>...</th>\n",
       "      <td>...</td>\n",
       "      <td>...</td>\n",
       "    </tr>\n",
       "    <tr>\n",
       "      <th>65</th>\n",
       "      <td>02441369806</td>\n",
       "      <td>900000.00</td>\n",
       "    </tr>\n",
       "    <tr>\n",
       "      <th>66</th>\n",
       "      <td>02333314842</td>\n",
       "      <td>900000.00</td>\n",
       "    </tr>\n",
       "    <tr>\n",
       "      <th>67</th>\n",
       "      <td>01742564348</td>\n",
       "      <td>100000.00</td>\n",
       "    </tr>\n",
       "    <tr>\n",
       "      <th>68</th>\n",
       "      <td>01102125334</td>\n",
       "      <td>42000.00</td>\n",
       "    </tr>\n",
       "    <tr>\n",
       "      <th>69</th>\n",
       "      <td>00398099863</td>\n",
       "      <td>900000.00</td>\n",
       "    </tr>\n",
       "  </tbody>\n",
       "</table>\n",
       "<p>70 rows × 2 columns</p>\n",
       "</div>"
      ],
      "text/plain": [
       "    politico_id  doacao_trabalhista_direta_total\n",
       "0   98042734700                        584064.05\n",
       "1   94892393649                        900000.00\n",
       "2   90330862634                        900000.00\n",
       "3   86753991620                        394715.10\n",
       "4   76808742715                        900000.00\n",
       "..          ...                              ...\n",
       "65  02441369806                        900000.00\n",
       "66  02333314842                        900000.00\n",
       "67  01742564348                        100000.00\n",
       "68  01102125334                         42000.00\n",
       "69  00398099863                        900000.00\n",
       "\n",
       "[70 rows x 2 columns]"
      ]
     },
     "execution_count": 164,
     "metadata": {},
     "output_type": "execute_result"
    }
   ],
   "source": [
    "doacoes_trab_diretas"
   ]
  },
  {
   "cell_type": "code",
   "execution_count": 165,
   "id": "ba6d6e7d-5610-4aa0-8c54-2a11d230d3cb",
   "metadata": {},
   "outputs": [],
   "source": [
    "doacoes_trab_diretas.to_excel('resultados/totais_doacoes/totais_doacoes_diretas_irregularidades_trabalhistas.xlsx',sheet_name='Sheet1',index=False)"
   ]
  },
  {
   "cell_type": "code",
   "execution_count": null,
   "id": "5109873b-869a-4f32-9bb1-9f2f44724726",
   "metadata": {},
   "outputs": [],
   "source": []
  },
  {
   "cell_type": "code",
   "execution_count": 166,
   "id": "8c1bac94-d992-4e00-9656-e007a90b813e",
   "metadata": {},
   "outputs": [
    {
     "data": {
      "text/plain": [
       "1302797.57"
      ]
     },
     "execution_count": 166,
     "metadata": {},
     "output_type": "execute_result"
    }
   ],
   "source": [
    "busca = doacoes_trabalhistas[(doacoes_trabalhistas['politico_id'] == '02513878442')]\n",
    "busca['valor'].sum()"
   ]
  },
  {
   "cell_type": "code",
   "execution_count": 167,
   "id": "1d19235e-731d-4c51-a2dc-9b351c2036a2",
   "metadata": {},
   "outputs": [
    {
     "data": {
      "text/html": [
       "<div>\n",
       "<style scoped>\n",
       "    .dataframe tbody tr th:only-of-type {\n",
       "        vertical-align: middle;\n",
       "    }\n",
       "\n",
       "    .dataframe tbody tr th {\n",
       "        vertical-align: top;\n",
       "    }\n",
       "\n",
       "    .dataframe thead th {\n",
       "        text-align: right;\n",
       "    }\n",
       "</style>\n",
       "<table border=\"1\" class=\"dataframe\">\n",
       "  <thead>\n",
       "    <tr style=\"text-align: right;\">\n",
       "      <th></th>\n",
       "      <th>valor</th>\n",
       "      <th>politico_id</th>\n",
       "      <th>entidade_id</th>\n",
       "      <th>entidade_nome</th>\n",
       "      <th>doacoes_tipo</th>\n",
       "      <th>origem_do_dinheiro_no_tse</th>\n",
       "      <th>data</th>\n",
       "    </tr>\n",
       "  </thead>\n",
       "  <tbody>\n",
       "    <tr>\n",
       "      <th>63</th>\n",
       "      <td>1168128.11</td>\n",
       "      <td>02513878442</td>\n",
       "      <td>29417359000140</td>\n",
       "      <td>CIDADANIA - BRASIL - BR - NACIONAL</td>\n",
       "      <td>direta</td>\n",
       "      <td>Fundo Especial</td>\n",
       "      <td>22/08/2018</td>\n",
       "    </tr>\n",
       "    <tr>\n",
       "      <th>64</th>\n",
       "      <td>134669.46</td>\n",
       "      <td>02513878442</td>\n",
       "      <td>29417359000140</td>\n",
       "      <td>CIDADANIA - BRASIL - BR - NACIONAL</td>\n",
       "      <td>direta</td>\n",
       "      <td>Fundo Especial</td>\n",
       "      <td>10/09/2018</td>\n",
       "    </tr>\n",
       "  </tbody>\n",
       "</table>\n",
       "</div>"
      ],
      "text/plain": [
       "         valor  politico_id     entidade_id  \\\n",
       "63  1168128.11  02513878442  29417359000140   \n",
       "64   134669.46  02513878442  29417359000140   \n",
       "\n",
       "                         entidade_nome doacoes_tipo origem_do_dinheiro_no_tse  \\\n",
       "63  CIDADANIA - BRASIL - BR - NACIONAL       direta            Fundo Especial   \n",
       "64  CIDADANIA - BRASIL - BR - NACIONAL       direta            Fundo Especial   \n",
       "\n",
       "          data  \n",
       "63  22/08/2018  \n",
       "64  10/09/2018  "
      ]
     },
     "execution_count": 167,
     "metadata": {},
     "output_type": "execute_result"
    }
   ],
   "source": [
    "busca"
   ]
  },
  {
   "cell_type": "code",
   "execution_count": 168,
   "id": "444d99d9-e65a-4f19-ad74-2fa95cf4d14f",
   "metadata": {},
   "outputs": [
    {
     "data": {
      "text/plain": [
       "893787.19"
      ]
     },
     "execution_count": 168,
     "metadata": {},
     "output_type": "execute_result"
    }
   ],
   "source": [
    "busca = doacoes_trabalhistas[(doacoes_trabalhistas['politico_id'] == '03098871946')]\n",
    "busca['valor'].sum()"
   ]
  },
  {
   "cell_type": "code",
   "execution_count": 169,
   "id": "cbe803dc-d074-42f0-8311-4601128357e3",
   "metadata": {},
   "outputs": [
    {
     "data": {
      "text/html": [
       "<div>\n",
       "<style scoped>\n",
       "    .dataframe tbody tr th:only-of-type {\n",
       "        vertical-align: middle;\n",
       "    }\n",
       "\n",
       "    .dataframe tbody tr th {\n",
       "        vertical-align: top;\n",
       "    }\n",
       "\n",
       "    .dataframe thead th {\n",
       "        text-align: right;\n",
       "    }\n",
       "</style>\n",
       "<table border=\"1\" class=\"dataframe\">\n",
       "  <thead>\n",
       "    <tr style=\"text-align: right;\">\n",
       "      <th></th>\n",
       "      <th>valor</th>\n",
       "      <th>politico_id</th>\n",
       "      <th>entidade_id</th>\n",
       "      <th>entidade_nome</th>\n",
       "      <th>doacoes_tipo</th>\n",
       "      <th>origem_do_dinheiro_no_tse</th>\n",
       "      <th>data</th>\n",
       "    </tr>\n",
       "  </thead>\n",
       "  <tbody>\n",
       "    <tr>\n",
       "      <th>79</th>\n",
       "      <td>446893.60</td>\n",
       "      <td>03098871946</td>\n",
       "      <td>00676262000170</td>\n",
       "      <td>PARTIDO DOS TRABALHADORES</td>\n",
       "      <td>direta</td>\n",
       "      <td>Fundo Especial</td>\n",
       "      <td>24/08/2018</td>\n",
       "    </tr>\n",
       "    <tr>\n",
       "      <th>80</th>\n",
       "      <td>446893.59</td>\n",
       "      <td>03098871946</td>\n",
       "      <td>00676262000170</td>\n",
       "      <td>PARTIDO DOS TRABALHADORES</td>\n",
       "      <td>direta</td>\n",
       "      <td>Fundo Especial</td>\n",
       "      <td>12/09/2018</td>\n",
       "    </tr>\n",
       "  </tbody>\n",
       "</table>\n",
       "</div>"
      ],
      "text/plain": [
       "        valor  politico_id     entidade_id              entidade_nome  \\\n",
       "79  446893.60  03098871946  00676262000170  PARTIDO DOS TRABALHADORES   \n",
       "80  446893.59  03098871946  00676262000170  PARTIDO DOS TRABALHADORES   \n",
       "\n",
       "   doacoes_tipo origem_do_dinheiro_no_tse        data  \n",
       "79       direta            Fundo Especial  24/08/2018  \n",
       "80       direta            Fundo Especial  12/09/2018  "
      ]
     },
     "execution_count": 169,
     "metadata": {},
     "output_type": "execute_result"
    }
   ],
   "source": [
    "busca"
   ]
  },
  {
   "cell_type": "code",
   "execution_count": 170,
   "id": "0a9aa635-4fa1-43b3-9405-19a817694fcf",
   "metadata": {},
   "outputs": [
    {
     "data": {
      "text/plain": [
       "1542.5"
      ]
     },
     "execution_count": 170,
     "metadata": {},
     "output_type": "execute_result"
    }
   ],
   "source": [
    "busca = doacoes_trabalhistas[(doacoes_trabalhistas['politico_id'] == '07973687793')]\n",
    "busca['valor'].sum()"
   ]
  },
  {
   "cell_type": "code",
   "execution_count": 171,
   "id": "608ae83e-8cc7-49b2-bac8-3a1096a3bf54",
   "metadata": {},
   "outputs": [
    {
     "data": {
      "text/plain": [
       "1542.5"
      ]
     },
     "execution_count": 171,
     "metadata": {},
     "output_type": "execute_result"
    }
   ],
   "source": [
    "busca = doacoes_trab_diretas[(doacoes_trab_diretas['politico_id'] == '07973687793')]\n",
    "busca['doacao_trabalhista_direta_total'].sum()"
   ]
  },
  {
   "cell_type": "code",
   "execution_count": null,
   "id": "1e3be6c2-ef88-43e0-8624-945272c5ba9f",
   "metadata": {},
   "outputs": [],
   "source": []
  },
  {
   "cell_type": "code",
   "execution_count": null,
   "id": "e6802a80-3bc0-4848-9da5-209531e2f531",
   "metadata": {},
   "outputs": [],
   "source": []
  },
  {
   "cell_type": "code",
   "execution_count": null,
   "id": "5a03c802-d2fd-4da9-947d-d6247ac5b08b",
   "metadata": {},
   "outputs": [],
   "source": []
  },
  {
   "cell_type": "code",
   "execution_count": 172,
   "id": "a5bf4c7c-19a2-461c-89d1-8cc3e0efc6f2",
   "metadata": {},
   "outputs": [],
   "source": [
    "# Versão com os 510 nomes da metodologia\n",
    "kwargs = {'sep': ',', 'dtype': str, 'encoding': 'utf-8'}\n",
    "politicos_atual = pd.read_csv(\"resultados/politicos_2018_versao_12julA.csv\", **kwargs)"
   ]
  },
  {
   "cell_type": "code",
   "execution_count": 174,
   "id": "540f52bb-fa13-474b-9689-ccd3d4c84b28",
   "metadata": {},
   "outputs": [
    {
     "data": {
      "text/html": [
       "<div>\n",
       "<style scoped>\n",
       "    .dataframe tbody tr th:only-of-type {\n",
       "        vertical-align: middle;\n",
       "    }\n",
       "\n",
       "    .dataframe tbody tr th {\n",
       "        vertical-align: top;\n",
       "    }\n",
       "\n",
       "    .dataframe thead th {\n",
       "        text-align: right;\n",
       "    }\n",
       "</style>\n",
       "<table border=\"1\" class=\"dataframe\">\n",
       "  <thead>\n",
       "    <tr style=\"text-align: right;\">\n",
       "      <th></th>\n",
       "      <th>nome</th>\n",
       "      <th>foto</th>\n",
       "      <th>nome_urna</th>\n",
       "      <th>uf_eleicao_disputa</th>\n",
       "      <th>politico_id</th>\n",
       "      <th>partido_eleicao</th>\n",
       "      <th>partido_atual</th>\n",
       "      <th>uri</th>\n",
       "      <th>sequencial_candidato</th>\n",
       "      <th>bancada_ruralista</th>\n",
       "      <th>id_interno</th>\n",
       "      <th>doacao_ambiental_direta_total</th>\n",
       "      <th>doacao_ambiental_indireta_total</th>\n",
       "      <th>doacao_ambiental_originaria_total</th>\n",
       "    </tr>\n",
       "  </thead>\n",
       "  <tbody>\n",
       "    <tr>\n",
       "      <th>26</th>\n",
       "      <td>DANIELA MOTE DE SOUZA CARNEIRO</td>\n",
       "      <td>https://www.camara.leg.br/internet/deputado/ba...</td>\n",
       "      <td>Daniela do Waguinho</td>\n",
       "      <td>RJ</td>\n",
       "      <td>07973687793</td>\n",
       "      <td>MDB</td>\n",
       "      <td>UNIÃO</td>\n",
       "      <td>https://dadosabertos.camara.leg.br/api/v2/depu...</td>\n",
       "      <td>190000607467</td>\n",
       "      <td>Sim</td>\n",
       "      <td>204459</td>\n",
       "      <td>NaN</td>\n",
       "      <td>NaN</td>\n",
       "      <td>NaN</td>\n",
       "    </tr>\n",
       "  </tbody>\n",
       "</table>\n",
       "</div>"
      ],
      "text/plain": [
       "                              nome  \\\n",
       "26  DANIELA MOTE DE SOUZA CARNEIRO   \n",
       "\n",
       "                                                 foto            nome_urna  \\\n",
       "26  https://www.camara.leg.br/internet/deputado/ba...  Daniela do Waguinho   \n",
       "\n",
       "   uf_eleicao_disputa  politico_id partido_eleicao partido_atual  \\\n",
       "26                 RJ  07973687793             MDB         UNIÃO   \n",
       "\n",
       "                                                  uri sequencial_candidato  \\\n",
       "26  https://dadosabertos.camara.leg.br/api/v2/depu...         190000607467   \n",
       "\n",
       "   bancada_ruralista id_interno doacao_ambiental_direta_total  \\\n",
       "26               Sim     204459                           NaN   \n",
       "\n",
       "   doacao_ambiental_indireta_total doacao_ambiental_originaria_total  \n",
       "26                             NaN                               NaN  "
      ]
     },
     "execution_count": 174,
     "metadata": {},
     "output_type": "execute_result"
    }
   ],
   "source": [
    "busca = politicos_atual[(politicos_atual['politico_id'] == '07973687793')]\n",
    "busca"
   ]
  },
  {
   "cell_type": "code",
   "execution_count": null,
   "id": "ea41ad08-f707-4137-a1f1-28388d841a77",
   "metadata": {},
   "outputs": [],
   "source": []
  },
  {
   "cell_type": "code",
   "execution_count": 175,
   "id": "cac658c8-c735-4c61-9a45-51c2192ffe56",
   "metadata": {},
   "outputs": [],
   "source": [
    "# Une coluna totais doacoes ambientais diretas"
   ]
  },
  {
   "cell_type": "code",
   "execution_count": 176,
   "id": "8738e78a-72f9-4174-a784-73214edc2b7d",
   "metadata": {},
   "outputs": [],
   "source": [
    "politicos_atual = pd.merge(politicos_atual, doacoes_trab_diretas, left_on='politico_id', right_on='politico_id', how = 'left')"
   ]
  },
  {
   "cell_type": "code",
   "execution_count": 177,
   "id": "79d8b83d-3032-411d-8440-e34fdb305c4b",
   "metadata": {},
   "outputs": [
    {
     "name": "stdout",
     "output_type": "stream",
     "text": [
      "<class 'pandas.core.frame.DataFrame'>\n",
      "Int64Index: 510 entries, 0 to 509\n",
      "Data columns (total 15 columns):\n",
      " #   Column                             Non-Null Count  Dtype  \n",
      "---  ------                             --------------  -----  \n",
      " 0   nome                               510 non-null    object \n",
      " 1   foto                               510 non-null    object \n",
      " 2   nome_urna                          510 non-null    object \n",
      " 3   uf_eleicao_disputa                 510 non-null    object \n",
      " 4   politico_id                        510 non-null    object \n",
      " 5   partido_eleicao                    510 non-null    object \n",
      " 6   partido_atual                      510 non-null    object \n",
      " 7   uri                                510 non-null    object \n",
      " 8   sequencial_candidato               510 non-null    object \n",
      " 9   bancada_ruralista                  236 non-null    object \n",
      " 10  id_interno                         510 non-null    object \n",
      " 11  doacao_ambiental_direta_total      101 non-null    object \n",
      " 12  doacao_ambiental_indireta_total    27 non-null     object \n",
      " 13  doacao_ambiental_originaria_total  25 non-null     object \n",
      " 14  doacao_trabalhista_direta_total    70 non-null     float64\n",
      "dtypes: float64(1), object(14)\n",
      "memory usage: 63.8+ KB\n"
     ]
    }
   ],
   "source": [
    "politicos_atual.info()"
   ]
  },
  {
   "cell_type": "code",
   "execution_count": 179,
   "id": "e0b9e98b-42f3-40ec-86a7-c898a4bb02ea",
   "metadata": {},
   "outputs": [
    {
     "data": {
      "text/html": [
       "<div>\n",
       "<style scoped>\n",
       "    .dataframe tbody tr th:only-of-type {\n",
       "        vertical-align: middle;\n",
       "    }\n",
       "\n",
       "    .dataframe tbody tr th {\n",
       "        vertical-align: top;\n",
       "    }\n",
       "\n",
       "    .dataframe thead th {\n",
       "        text-align: right;\n",
       "    }\n",
       "</style>\n",
       "<table border=\"1\" class=\"dataframe\">\n",
       "  <thead>\n",
       "    <tr style=\"text-align: right;\">\n",
       "      <th></th>\n",
       "      <th>nome</th>\n",
       "      <th>foto</th>\n",
       "      <th>nome_urna</th>\n",
       "      <th>uf_eleicao_disputa</th>\n",
       "      <th>politico_id</th>\n",
       "      <th>partido_eleicao</th>\n",
       "      <th>partido_atual</th>\n",
       "      <th>uri</th>\n",
       "      <th>sequencial_candidato</th>\n",
       "      <th>bancada_ruralista</th>\n",
       "      <th>id_interno</th>\n",
       "      <th>doacao_ambiental_direta_total</th>\n",
       "      <th>doacao_ambiental_indireta_total</th>\n",
       "      <th>doacao_ambiental_originaria_total</th>\n",
       "      <th>doacao_trabalhista_direta_total</th>\n",
       "    </tr>\n",
       "  </thead>\n",
       "  <tbody>\n",
       "    <tr>\n",
       "      <th>26</th>\n",
       "      <td>DANIELA MOTE DE SOUZA CARNEIRO</td>\n",
       "      <td>https://www.camara.leg.br/internet/deputado/ba...</td>\n",
       "      <td>Daniela do Waguinho</td>\n",
       "      <td>RJ</td>\n",
       "      <td>07973687793</td>\n",
       "      <td>MDB</td>\n",
       "      <td>UNIÃO</td>\n",
       "      <td>https://dadosabertos.camara.leg.br/api/v2/depu...</td>\n",
       "      <td>190000607467</td>\n",
       "      <td>Sim</td>\n",
       "      <td>204459</td>\n",
       "      <td>NaN</td>\n",
       "      <td>NaN</td>\n",
       "      <td>NaN</td>\n",
       "      <td>1542.5</td>\n",
       "    </tr>\n",
       "  </tbody>\n",
       "</table>\n",
       "</div>"
      ],
      "text/plain": [
       "                              nome  \\\n",
       "26  DANIELA MOTE DE SOUZA CARNEIRO   \n",
       "\n",
       "                                                 foto            nome_urna  \\\n",
       "26  https://www.camara.leg.br/internet/deputado/ba...  Daniela do Waguinho   \n",
       "\n",
       "   uf_eleicao_disputa  politico_id partido_eleicao partido_atual  \\\n",
       "26                 RJ  07973687793             MDB         UNIÃO   \n",
       "\n",
       "                                                  uri sequencial_candidato  \\\n",
       "26  https://dadosabertos.camara.leg.br/api/v2/depu...         190000607467   \n",
       "\n",
       "   bancada_ruralista id_interno doacao_ambiental_direta_total  \\\n",
       "26               Sim     204459                           NaN   \n",
       "\n",
       "   doacao_ambiental_indireta_total doacao_ambiental_originaria_total  \\\n",
       "26                             NaN                               NaN   \n",
       "\n",
       "    doacao_trabalhista_direta_total  \n",
       "26                           1542.5  "
      ]
     },
     "execution_count": 179,
     "metadata": {},
     "output_type": "execute_result"
    }
   ],
   "source": [
    "busca = politicos_atual[(politicos_atual['politico_id'] == '07973687793')]\n",
    "busca"
   ]
  },
  {
   "cell_type": "code",
   "execution_count": null,
   "id": "a8f9eb6d-8c92-4bac-ba8f-22bff87b31d9",
   "metadata": {},
   "outputs": [],
   "source": []
  },
  {
   "cell_type": "code",
   "execution_count": 180,
   "id": "24af5bb7-a7f0-4eaa-9573-bdafdec87859",
   "metadata": {},
   "outputs": [],
   "source": [
    "politicos_atual.to_csv('resultados/politicos_2018_versao_12julB.csv',index=False)"
   ]
  },
  {
   "cell_type": "code",
   "execution_count": null,
   "id": "2b1a91e4-d366-4e10-8348-71bdb532be20",
   "metadata": {},
   "outputs": [],
   "source": []
  }
 ],
 "metadata": {
  "kernelspec": {
   "display_name": "Python 3",
   "language": "python",
   "name": "python3"
  },
  "language_info": {
   "codemirror_mode": {
    "name": "ipython",
    "version": 3
   },
   "file_extension": ".py",
   "mimetype": "text/x-python",
   "name": "python",
   "nbconvert_exporter": "python",
   "pygments_lexer": "ipython3",
   "version": "3.8.2"
  }
 },
 "nbformat": 4,
 "nbformat_minor": 5
}
