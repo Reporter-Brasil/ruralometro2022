{
 "cells": [
  {
   "cell_type": "code",
   "execution_count": 1,
   "id": "60f28850-222d-48b1-9243-b3f2515ecc81",
   "metadata": {},
   "outputs": [],
   "source": [
    "# -*- coding: utf-8\n",
    "# Repórter Brasil (https://ruralometro2022.reporterbrasil.org.br/)\n",
    "# Reinaldo Chaves (@paidatocandeira)\n",
    "# Script para gerar os arquivos gerais de doações diretas, indiretas e originárias\n",
    "# Dados em https://dadosabertos.tse.jus.br/dataset/?tags=Ano+2018"
   ]
  },
  {
   "cell_type": "code",
   "execution_count": null,
   "id": "e2af5e4b-5f7e-465f-965a-865b8f099f77",
   "metadata": {},
   "outputs": [],
   "source": []
  },
  {
   "cell_type": "code",
   "execution_count": null,
   "id": "fad42e37-45d4-4edc-befb-5a2f2797d30b",
   "metadata": {},
   "outputs": [],
   "source": []
  },
  {
   "cell_type": "code",
   "execution_count": 1,
   "id": "7af8a26a-0788-4eb2-b25a-3080c5258080",
   "metadata": {},
   "outputs": [],
   "source": [
    "import pandas as pd"
   ]
  },
  {
   "cell_type": "code",
   "execution_count": null,
   "id": "9d7fca5e-daef-4c84-b94b-61acec91b1d8",
   "metadata": {},
   "outputs": [],
   "source": []
  },
  {
   "cell_type": "code",
   "execution_count": null,
   "id": "ccab68bd-2e6e-4ae3-9208-6ff8663bdc99",
   "metadata": {},
   "outputs": [],
   "source": []
  },
  {
   "cell_type": "markdown",
   "id": "fc62273b-3168-40f1-a412-095149a3430c",
   "metadata": {},
   "source": [
    "### Carrega 510 deputados federais eleitos - os usados em nossa metodologia \n",
    "### Depois esse número foi ajustado - veja pasta deputados"
   ]
  },
  {
   "cell_type": "code",
   "execution_count": 2,
   "id": "60956edf-d579-4b5e-a7b1-ad14736f0264",
   "metadata": {},
   "outputs": [],
   "source": [
    "# Versão com os 510 nomes da metodologia\n",
    "kwargs = {'sep': ',', 'dtype': str, 'encoding': 'utf-8'}\n",
    "politicos = pd.read_csv(\"resultados/politicos_2018_versao_9mai.csv\", **kwargs)"
   ]
  },
  {
   "cell_type": "code",
   "execution_count": 3,
   "id": "2295c920-7751-4686-837f-971f218c2164",
   "metadata": {},
   "outputs": [
    {
     "name": "stdout",
     "output_type": "stream",
     "text": [
      "<class 'pandas.core.frame.DataFrame'>\n",
      "RangeIndex: 510 entries, 0 to 509\n",
      "Data columns (total 11 columns):\n",
      " #   Column                Non-Null Count  Dtype \n",
      "---  ------                --------------  ----- \n",
      " 0   nome                  510 non-null    object\n",
      " 1   foto                  510 non-null    object\n",
      " 2   nome_urna             510 non-null    object\n",
      " 3   uf_eleicao_disputa    510 non-null    object\n",
      " 4   politico_id           510 non-null    object\n",
      " 5   partido_eleicao       510 non-null    object\n",
      " 6   partido_atual         510 non-null    object\n",
      " 7   uri                   510 non-null    object\n",
      " 8   sequencial_candidato  510 non-null    object\n",
      " 9   bancada_ruralista     236 non-null    object\n",
      " 10  id_interno            510 non-null    object\n",
      "dtypes: object(11)\n",
      "memory usage: 44.0+ KB\n"
     ]
    }
   ],
   "source": [
    "politicos.info()"
   ]
  },
  {
   "cell_type": "code",
   "execution_count": 4,
   "id": "a2c9b4e6-afb3-4938-879c-72025058ce08",
   "metadata": {},
   "outputs": [
    {
     "data": {
      "text/html": [
       "<div>\n",
       "<style scoped>\n",
       "    .dataframe tbody tr th:only-of-type {\n",
       "        vertical-align: middle;\n",
       "    }\n",
       "\n",
       "    .dataframe tbody tr th {\n",
       "        vertical-align: top;\n",
       "    }\n",
       "\n",
       "    .dataframe thead th {\n",
       "        text-align: right;\n",
       "    }\n",
       "</style>\n",
       "<table border=\"1\" class=\"dataframe\">\n",
       "  <thead>\n",
       "    <tr style=\"text-align: right;\">\n",
       "      <th></th>\n",
       "      <th>nome</th>\n",
       "      <th>foto</th>\n",
       "      <th>nome_urna</th>\n",
       "      <th>uf_eleicao_disputa</th>\n",
       "      <th>politico_id</th>\n",
       "      <th>partido_eleicao</th>\n",
       "      <th>partido_atual</th>\n",
       "      <th>uri</th>\n",
       "      <th>sequencial_candidato</th>\n",
       "      <th>bancada_ruralista</th>\n",
       "      <th>id_interno</th>\n",
       "    </tr>\n",
       "  </thead>\n",
       "  <tbody>\n",
       "    <tr>\n",
       "      <th>0</th>\n",
       "      <td>GIOVANI BATISTA FELTES</td>\n",
       "      <td>https://www.camara.leg.br/internet/deputado/ba...</td>\n",
       "      <td>Giovani Feltes</td>\n",
       "      <td>RS</td>\n",
       "      <td>26586568072</td>\n",
       "      <td>MDB</td>\n",
       "      <td>MDB</td>\n",
       "      <td>https://dadosabertos.camara.leg.br/api/v2/depu...</td>\n",
       "      <td>210000605284</td>\n",
       "      <td>NaN</td>\n",
       "      <td>178996</td>\n",
       "    </tr>\n",
       "    <tr>\n",
       "      <th>1</th>\n",
       "      <td>GUTEMBERG REIS DE OLIVEIRA</td>\n",
       "      <td>https://www.camara.leg.br/internet/deputado/ba...</td>\n",
       "      <td>Gutemberg Reis</td>\n",
       "      <td>RJ</td>\n",
       "      <td>07733341736</td>\n",
       "      <td>MDB</td>\n",
       "      <td>MDB</td>\n",
       "      <td>https://dadosabertos.camara.leg.br/api/v2/depu...</td>\n",
       "      <td>190000607472</td>\n",
       "      <td>NaN</td>\n",
       "      <td>204456</td>\n",
       "    </tr>\n",
       "    <tr>\n",
       "      <th>2</th>\n",
       "      <td>ARNALDO CALIL PEREIRA JARDIM</td>\n",
       "      <td>https://www.camara.leg.br/internet/deputado/ba...</td>\n",
       "      <td>Arnaldo Jardim</td>\n",
       "      <td>SP</td>\n",
       "      <td>04197807856</td>\n",
       "      <td>PPS</td>\n",
       "      <td>CIDADANIA</td>\n",
       "      <td>https://dadosabertos.camara.leg.br/api/v2/depu...</td>\n",
       "      <td>250000615223</td>\n",
       "      <td>Sim</td>\n",
       "      <td>141391</td>\n",
       "    </tr>\n",
       "    <tr>\n",
       "      <th>3</th>\n",
       "      <td>LUIZA ERUNDINA DE SOUSA</td>\n",
       "      <td>https://www.camara.leg.br/internet/deputado/ba...</td>\n",
       "      <td>Luiza Erundina</td>\n",
       "      <td>SP</td>\n",
       "      <td>00480584400</td>\n",
       "      <td>PSOL</td>\n",
       "      <td>PSOL</td>\n",
       "      <td>https://dadosabertos.camara.leg.br/api/v2/depu...</td>\n",
       "      <td>250000601478</td>\n",
       "      <td>NaN</td>\n",
       "      <td>74784</td>\n",
       "    </tr>\n",
       "    <tr>\n",
       "      <th>4</th>\n",
       "      <td>OLIVAL HENRIQUE MARQUES DE SOUZA</td>\n",
       "      <td>https://www.camara.leg.br/internet/deputado/ba...</td>\n",
       "      <td>Olival Marques</td>\n",
       "      <td>PA</td>\n",
       "      <td>66514010253</td>\n",
       "      <td>DEM</td>\n",
       "      <td>MDB</td>\n",
       "      <td>https://dadosabertos.camara.leg.br/api/v2/depu...</td>\n",
       "      <td>140000613811</td>\n",
       "      <td>NaN</td>\n",
       "      <td>204498</td>\n",
       "    </tr>\n",
       "    <tr>\n",
       "      <th>...</th>\n",
       "      <td>...</td>\n",
       "      <td>...</td>\n",
       "      <td>...</td>\n",
       "      <td>...</td>\n",
       "      <td>...</td>\n",
       "      <td>...</td>\n",
       "      <td>...</td>\n",
       "      <td>...</td>\n",
       "      <td>...</td>\n",
       "      <td>...</td>\n",
       "      <td>...</td>\n",
       "    </tr>\n",
       "    <tr>\n",
       "      <th>505</th>\n",
       "      <td>FÁBIO SALUSTINO MESQUITA DE FARIA</td>\n",
       "      <td>https://www.camara.leg.br/internet/deputado/ba...</td>\n",
       "      <td>Fábio Faria</td>\n",
       "      <td>RN</td>\n",
       "      <td>02128728428</td>\n",
       "      <td>PSD</td>\n",
       "      <td>PP</td>\n",
       "      <td>https://dadosabertos.camara.leg.br/api/v2/depu...</td>\n",
       "      <td>200000611411</td>\n",
       "      <td>Sim</td>\n",
       "      <td>141428</td>\n",
       "    </tr>\n",
       "    <tr>\n",
       "      <th>506</th>\n",
       "      <td>TIAGO BRAGA PEREIRA</td>\n",
       "      <td>https://www.camara.leg.br/internet/deputado/ba...</td>\n",
       "      <td>Tiago Dimas</td>\n",
       "      <td>TO</td>\n",
       "      <td>01657051161</td>\n",
       "      <td>SOLIDARIEDADE</td>\n",
       "      <td>PODE</td>\n",
       "      <td>https://dadosabertos.camara.leg.br/api/v2/depu...</td>\n",
       "      <td>270000618825</td>\n",
       "      <td>Sim</td>\n",
       "      <td>143084</td>\n",
       "    </tr>\n",
       "    <tr>\n",
       "      <th>507</th>\n",
       "      <td>ROBERTO SEBASTIÃO PETERNELLI JUNIOR</td>\n",
       "      <td>https://www.camara.leg.br/internet/deputado/ba...</td>\n",
       "      <td>General Peternelli</td>\n",
       "      <td>SP</td>\n",
       "      <td>91311233849</td>\n",
       "      <td>PSL</td>\n",
       "      <td>UNIÃO</td>\n",
       "      <td>https://dadosabertos.camara.leg.br/api/v2/depu...</td>\n",
       "      <td>250000613307</td>\n",
       "      <td>NaN</td>\n",
       "      <td>204484</td>\n",
       "    </tr>\n",
       "    <tr>\n",
       "      <th>508</th>\n",
       "      <td>MARIA DO ROSÁRIO NUNES</td>\n",
       "      <td>https://www.camara.leg.br/internet/deputado/ba...</td>\n",
       "      <td>Maria do Rosário</td>\n",
       "      <td>RS</td>\n",
       "      <td>48989371015</td>\n",
       "      <td>PT</td>\n",
       "      <td>PT</td>\n",
       "      <td>https://dadosabertos.camara.leg.br/api/v2/depu...</td>\n",
       "      <td>210000611346</td>\n",
       "      <td>NaN</td>\n",
       "      <td>74398</td>\n",
       "    </tr>\n",
       "    <tr>\n",
       "      <th>509</th>\n",
       "      <td>JORGE BRAZ DE OLIVEIRA</td>\n",
       "      <td>https://www.camara.leg.br/internet/deputado/ba...</td>\n",
       "      <td>Jorge Braz</td>\n",
       "      <td>RJ</td>\n",
       "      <td>35201487734</td>\n",
       "      <td>PRB</td>\n",
       "      <td>REPUBLICANOS</td>\n",
       "      <td>https://dadosabertos.camara.leg.br/api/v2/depu...</td>\n",
       "      <td>190000626481</td>\n",
       "      <td>NaN</td>\n",
       "      <td>205550</td>\n",
       "    </tr>\n",
       "  </tbody>\n",
       "</table>\n",
       "<p>510 rows × 11 columns</p>\n",
       "</div>"
      ],
      "text/plain": [
       "                                    nome  \\\n",
       "0                 GIOVANI BATISTA FELTES   \n",
       "1             GUTEMBERG REIS DE OLIVEIRA   \n",
       "2           ARNALDO CALIL PEREIRA JARDIM   \n",
       "3                LUIZA ERUNDINA DE SOUSA   \n",
       "4       OLIVAL HENRIQUE MARQUES DE SOUZA   \n",
       "..                                   ...   \n",
       "505    FÁBIO SALUSTINO MESQUITA DE FARIA   \n",
       "506                  TIAGO BRAGA PEREIRA   \n",
       "507  ROBERTO SEBASTIÃO PETERNELLI JUNIOR   \n",
       "508               MARIA DO ROSÁRIO NUNES   \n",
       "509               JORGE BRAZ DE OLIVEIRA   \n",
       "\n",
       "                                                  foto           nome_urna  \\\n",
       "0    https://www.camara.leg.br/internet/deputado/ba...      Giovani Feltes   \n",
       "1    https://www.camara.leg.br/internet/deputado/ba...      Gutemberg Reis   \n",
       "2    https://www.camara.leg.br/internet/deputado/ba...      Arnaldo Jardim   \n",
       "3    https://www.camara.leg.br/internet/deputado/ba...      Luiza Erundina   \n",
       "4    https://www.camara.leg.br/internet/deputado/ba...      Olival Marques   \n",
       "..                                                 ...                 ...   \n",
       "505  https://www.camara.leg.br/internet/deputado/ba...         Fábio Faria   \n",
       "506  https://www.camara.leg.br/internet/deputado/ba...         Tiago Dimas   \n",
       "507  https://www.camara.leg.br/internet/deputado/ba...  General Peternelli   \n",
       "508  https://www.camara.leg.br/internet/deputado/ba...    Maria do Rosário   \n",
       "509  https://www.camara.leg.br/internet/deputado/ba...          Jorge Braz   \n",
       "\n",
       "    uf_eleicao_disputa  politico_id partido_eleicao partido_atual  \\\n",
       "0                   RS  26586568072             MDB           MDB   \n",
       "1                   RJ  07733341736             MDB           MDB   \n",
       "2                   SP  04197807856             PPS     CIDADANIA   \n",
       "3                   SP  00480584400            PSOL          PSOL   \n",
       "4                   PA  66514010253             DEM           MDB   \n",
       "..                 ...          ...             ...           ...   \n",
       "505                 RN  02128728428             PSD            PP   \n",
       "506                 TO  01657051161   SOLIDARIEDADE          PODE   \n",
       "507                 SP  91311233849             PSL         UNIÃO   \n",
       "508                 RS  48989371015              PT            PT   \n",
       "509                 RJ  35201487734             PRB  REPUBLICANOS   \n",
       "\n",
       "                                                   uri sequencial_candidato  \\\n",
       "0    https://dadosabertos.camara.leg.br/api/v2/depu...         210000605284   \n",
       "1    https://dadosabertos.camara.leg.br/api/v2/depu...         190000607472   \n",
       "2    https://dadosabertos.camara.leg.br/api/v2/depu...         250000615223   \n",
       "3    https://dadosabertos.camara.leg.br/api/v2/depu...         250000601478   \n",
       "4    https://dadosabertos.camara.leg.br/api/v2/depu...         140000613811   \n",
       "..                                                 ...                  ...   \n",
       "505  https://dadosabertos.camara.leg.br/api/v2/depu...         200000611411   \n",
       "506  https://dadosabertos.camara.leg.br/api/v2/depu...         270000618825   \n",
       "507  https://dadosabertos.camara.leg.br/api/v2/depu...         250000613307   \n",
       "508  https://dadosabertos.camara.leg.br/api/v2/depu...         210000611346   \n",
       "509  https://dadosabertos.camara.leg.br/api/v2/depu...         190000626481   \n",
       "\n",
       "    bancada_ruralista id_interno  \n",
       "0                 NaN     178996  \n",
       "1                 NaN     204456  \n",
       "2                 Sim     141391  \n",
       "3                 NaN      74784  \n",
       "4                 NaN     204498  \n",
       "..                ...        ...  \n",
       "505               Sim     141428  \n",
       "506               Sim     143084  \n",
       "507               NaN     204484  \n",
       "508               NaN      74398  \n",
       "509               NaN     205550  \n",
       "\n",
       "[510 rows x 11 columns]"
      ]
     },
     "execution_count": 4,
     "metadata": {},
     "output_type": "execute_result"
    }
   ],
   "source": [
    "politicos"
   ]
  },
  {
   "cell_type": "code",
   "execution_count": null,
   "id": "40b10c70-20aa-438f-8448-a3662399f955",
   "metadata": {},
   "outputs": [],
   "source": []
  },
  {
   "cell_type": "code",
   "execution_count": null,
   "id": "aa4bdb75-b967-4fe6-a521-e12600ca72c5",
   "metadata": {},
   "outputs": [],
   "source": []
  },
  {
   "cell_type": "code",
   "execution_count": 5,
   "id": "8ee237a2-a155-4b4b-a707-575d6e5e18b8",
   "metadata": {},
   "outputs": [],
   "source": [
    "# Preenche zeros a esquerda nos documentos\n",
    "def compara1(linha):\n",
    "    documento = str(linha['politico_id'].strip())\n",
    "    if len(documento) < 11:\n",
    "        conta = 11 - (len(documento))\n",
    "        zero = '0'\n",
    "        zeros = zero * conta\n",
    "        alterado = zeros + documento\n",
    "    elif len(documento) == 11:\n",
    "        alterado = documento\n",
    "    \n",
    "    return alterado\n",
    "\n",
    "politicos[\"politico_id\"] = politicos.apply(compara1, axis=1)"
   ]
  },
  {
   "cell_type": "code",
   "execution_count": null,
   "id": "34d4e266-5fbf-4a20-b173-0a243741d6a0",
   "metadata": {},
   "outputs": [],
   "source": []
  },
  {
   "cell_type": "code",
   "execution_count": 6,
   "id": "c1d2627e-a051-4e47-973d-7e0fa1169c83",
   "metadata": {},
   "outputs": [
    {
     "data": {
      "text/html": [
       "<div>\n",
       "<style scoped>\n",
       "    .dataframe tbody tr th:only-of-type {\n",
       "        vertical-align: middle;\n",
       "    }\n",
       "\n",
       "    .dataframe tbody tr th {\n",
       "        vertical-align: top;\n",
       "    }\n",
       "\n",
       "    .dataframe thead th {\n",
       "        text-align: right;\n",
       "    }\n",
       "</style>\n",
       "<table border=\"1\" class=\"dataframe\">\n",
       "  <thead>\n",
       "    <tr style=\"text-align: right;\">\n",
       "      <th></th>\n",
       "      <th>nome</th>\n",
       "      <th>foto</th>\n",
       "      <th>nome_urna</th>\n",
       "      <th>uf_eleicao_disputa</th>\n",
       "      <th>politico_id</th>\n",
       "      <th>partido_eleicao</th>\n",
       "      <th>partido_atual</th>\n",
       "      <th>uri</th>\n",
       "      <th>sequencial_candidato</th>\n",
       "      <th>bancada_ruralista</th>\n",
       "      <th>id_interno</th>\n",
       "    </tr>\n",
       "  </thead>\n",
       "  <tbody>\n",
       "    <tr>\n",
       "      <th>0</th>\n",
       "      <td>GIOVANI BATISTA FELTES</td>\n",
       "      <td>https://www.camara.leg.br/internet/deputado/ba...</td>\n",
       "      <td>Giovani Feltes</td>\n",
       "      <td>RS</td>\n",
       "      <td>26586568072</td>\n",
       "      <td>MDB</td>\n",
       "      <td>MDB</td>\n",
       "      <td>https://dadosabertos.camara.leg.br/api/v2/depu...</td>\n",
       "      <td>210000605284</td>\n",
       "      <td>NaN</td>\n",
       "      <td>178996</td>\n",
       "    </tr>\n",
       "    <tr>\n",
       "      <th>1</th>\n",
       "      <td>GUTEMBERG REIS DE OLIVEIRA</td>\n",
       "      <td>https://www.camara.leg.br/internet/deputado/ba...</td>\n",
       "      <td>Gutemberg Reis</td>\n",
       "      <td>RJ</td>\n",
       "      <td>07733341736</td>\n",
       "      <td>MDB</td>\n",
       "      <td>MDB</td>\n",
       "      <td>https://dadosabertos.camara.leg.br/api/v2/depu...</td>\n",
       "      <td>190000607472</td>\n",
       "      <td>NaN</td>\n",
       "      <td>204456</td>\n",
       "    </tr>\n",
       "    <tr>\n",
       "      <th>2</th>\n",
       "      <td>ARNALDO CALIL PEREIRA JARDIM</td>\n",
       "      <td>https://www.camara.leg.br/internet/deputado/ba...</td>\n",
       "      <td>Arnaldo Jardim</td>\n",
       "      <td>SP</td>\n",
       "      <td>04197807856</td>\n",
       "      <td>PPS</td>\n",
       "      <td>CIDADANIA</td>\n",
       "      <td>https://dadosabertos.camara.leg.br/api/v2/depu...</td>\n",
       "      <td>250000615223</td>\n",
       "      <td>Sim</td>\n",
       "      <td>141391</td>\n",
       "    </tr>\n",
       "    <tr>\n",
       "      <th>3</th>\n",
       "      <td>LUIZA ERUNDINA DE SOUSA</td>\n",
       "      <td>https://www.camara.leg.br/internet/deputado/ba...</td>\n",
       "      <td>Luiza Erundina</td>\n",
       "      <td>SP</td>\n",
       "      <td>00480584400</td>\n",
       "      <td>PSOL</td>\n",
       "      <td>PSOL</td>\n",
       "      <td>https://dadosabertos.camara.leg.br/api/v2/depu...</td>\n",
       "      <td>250000601478</td>\n",
       "      <td>NaN</td>\n",
       "      <td>74784</td>\n",
       "    </tr>\n",
       "    <tr>\n",
       "      <th>4</th>\n",
       "      <td>OLIVAL HENRIQUE MARQUES DE SOUZA</td>\n",
       "      <td>https://www.camara.leg.br/internet/deputado/ba...</td>\n",
       "      <td>Olival Marques</td>\n",
       "      <td>PA</td>\n",
       "      <td>66514010253</td>\n",
       "      <td>DEM</td>\n",
       "      <td>MDB</td>\n",
       "      <td>https://dadosabertos.camara.leg.br/api/v2/depu...</td>\n",
       "      <td>140000613811</td>\n",
       "      <td>NaN</td>\n",
       "      <td>204498</td>\n",
       "    </tr>\n",
       "  </tbody>\n",
       "</table>\n",
       "</div>"
      ],
      "text/plain": [
       "                               nome  \\\n",
       "0            GIOVANI BATISTA FELTES   \n",
       "1        GUTEMBERG REIS DE OLIVEIRA   \n",
       "2      ARNALDO CALIL PEREIRA JARDIM   \n",
       "3           LUIZA ERUNDINA DE SOUSA   \n",
       "4  OLIVAL HENRIQUE MARQUES DE SOUZA   \n",
       "\n",
       "                                                foto       nome_urna  \\\n",
       "0  https://www.camara.leg.br/internet/deputado/ba...  Giovani Feltes   \n",
       "1  https://www.camara.leg.br/internet/deputado/ba...  Gutemberg Reis   \n",
       "2  https://www.camara.leg.br/internet/deputado/ba...  Arnaldo Jardim   \n",
       "3  https://www.camara.leg.br/internet/deputado/ba...  Luiza Erundina   \n",
       "4  https://www.camara.leg.br/internet/deputado/ba...  Olival Marques   \n",
       "\n",
       "  uf_eleicao_disputa  politico_id partido_eleicao partido_atual  \\\n",
       "0                 RS  26586568072             MDB           MDB   \n",
       "1                 RJ  07733341736             MDB           MDB   \n",
       "2                 SP  04197807856             PPS     CIDADANIA   \n",
       "3                 SP  00480584400            PSOL          PSOL   \n",
       "4                 PA  66514010253             DEM           MDB   \n",
       "\n",
       "                                                 uri sequencial_candidato  \\\n",
       "0  https://dadosabertos.camara.leg.br/api/v2/depu...         210000605284   \n",
       "1  https://dadosabertos.camara.leg.br/api/v2/depu...         190000607472   \n",
       "2  https://dadosabertos.camara.leg.br/api/v2/depu...         250000615223   \n",
       "3  https://dadosabertos.camara.leg.br/api/v2/depu...         250000601478   \n",
       "4  https://dadosabertos.camara.leg.br/api/v2/depu...         140000613811   \n",
       "\n",
       "  bancada_ruralista id_interno  \n",
       "0               NaN     178996  \n",
       "1               NaN     204456  \n",
       "2               Sim     141391  \n",
       "3               NaN      74784  \n",
       "4               NaN     204498  "
      ]
     },
     "execution_count": 6,
     "metadata": {},
     "output_type": "execute_result"
    }
   ],
   "source": [
    "politicos.head()"
   ]
  },
  {
   "cell_type": "code",
   "execution_count": null,
   "id": "43e3bbe2-c107-46cb-a46a-caaf87a8421c",
   "metadata": {},
   "outputs": [],
   "source": []
  },
  {
   "cell_type": "code",
   "execution_count": 7,
   "id": "36f4cce0-a589-4be3-8ecb-ec4d7ce298c1",
   "metadata": {},
   "outputs": [],
   "source": [
    "# Carrega arquivo geral de candidatos 2018"
   ]
  },
  {
   "cell_type": "code",
   "execution_count": 16,
   "id": "fd3a7cfa-334e-4676-83f4-ae5d5cf3864c",
   "metadata": {},
   "outputs": [],
   "source": [
    "kwargs = {'sep': ';', 'dtype': str, 'encoding': 'latin_1'}\n",
    "candidatos = pd.read_csv(\"originais/consulta_cand_2018_BRASIL.csv\", **kwargs)"
   ]
  },
  {
   "cell_type": "code",
   "execution_count": 17,
   "id": "8c20f3ed-71e5-4064-a461-b1ee6fc97b93",
   "metadata": {},
   "outputs": [
    {
     "name": "stdout",
     "output_type": "stream",
     "text": [
      "<class 'pandas.core.frame.DataFrame'>\n",
      "RangeIndex: 29180 entries, 0 to 29179\n",
      "Data columns (total 63 columns):\n",
      " #   Column                         Non-Null Count  Dtype \n",
      "---  ------                         --------------  ----- \n",
      " 0   DT_GERACAO                     29180 non-null  object\n",
      " 1   HH_GERACAO                     29180 non-null  object\n",
      " 2   ANO_ELEICAO                    29180 non-null  object\n",
      " 3   CD_TIPO_ELEICAO                29180 non-null  object\n",
      " 4   NM_TIPO_ELEICAO                29180 non-null  object\n",
      " 5   NR_TURNO                       29180 non-null  object\n",
      " 6   CD_ELEICAO                     29180 non-null  object\n",
      " 7   DS_ELEICAO                     29180 non-null  object\n",
      " 8   DT_ELEICAO                     29180 non-null  object\n",
      " 9   TP_ABRANGENCIA                 29180 non-null  object\n",
      " 10  SG_UF                          29180 non-null  object\n",
      " 11  SG_UE                          29180 non-null  object\n",
      " 12  NM_UE                          29180 non-null  object\n",
      " 13  CD_CARGO                       29180 non-null  object\n",
      " 14  DS_CARGO                       29180 non-null  object\n",
      " 15  SQ_CANDIDATO                   29180 non-null  object\n",
      " 16  NR_CANDIDATO                   29180 non-null  object\n",
      " 17  NM_CANDIDATO                   29180 non-null  object\n",
      " 18  NM_URNA_CANDIDATO              29180 non-null  object\n",
      " 19  NM_SOCIAL_CANDIDATO            29180 non-null  object\n",
      " 20  NR_CPF_CANDIDATO               29180 non-null  object\n",
      " 21  NM_EMAIL                       29180 non-null  object\n",
      " 22  CD_SITUACAO_CANDIDATURA        29180 non-null  object\n",
      " 23  DS_SITUACAO_CANDIDATURA        29180 non-null  object\n",
      " 24  CD_DETALHE_SITUACAO_CAND       29180 non-null  object\n",
      " 25  DS_DETALHE_SITUACAO_CAND       29180 non-null  object\n",
      " 26  TP_AGREMIACAO                  29180 non-null  object\n",
      " 27  NR_PARTIDO                     29180 non-null  object\n",
      " 28  SG_PARTIDO                     29180 non-null  object\n",
      " 29  NM_PARTIDO                     29180 non-null  object\n",
      " 30  SQ_COLIGACAO                   29180 non-null  object\n",
      " 31  NM_COLIGACAO                   29180 non-null  object\n",
      " 32  DS_COMPOSICAO_COLIGACAO        29180 non-null  object\n",
      " 33  CD_NACIONALIDADE               29180 non-null  object\n",
      " 34  DS_NACIONALIDADE               29180 non-null  object\n",
      " 35  SG_UF_NASCIMENTO               29180 non-null  object\n",
      " 36  CD_MUNICIPIO_NASCIMENTO        29180 non-null  object\n",
      " 37  NM_MUNICIPIO_NASCIMENTO        29180 non-null  object\n",
      " 38  DT_NASCIMENTO                  29179 non-null  object\n",
      " 39  NR_IDADE_DATA_POSSE            29179 non-null  object\n",
      " 40  NR_TITULO_ELEITORAL_CANDIDATO  29180 non-null  object\n",
      " 41  CD_GENERO                      29180 non-null  object\n",
      " 42  DS_GENERO                      29180 non-null  object\n",
      " 43  CD_GRAU_INSTRUCAO              29180 non-null  object\n",
      " 44  DS_GRAU_INSTRUCAO              29180 non-null  object\n",
      " 45  CD_ESTADO_CIVIL                29180 non-null  object\n",
      " 46  DS_ESTADO_CIVIL                29180 non-null  object\n",
      " 47  CD_COR_RACA                    29180 non-null  object\n",
      " 48  DS_COR_RACA                    29180 non-null  object\n",
      " 49  CD_OCUPACAO                    29180 non-null  object\n",
      " 50  DS_OCUPACAO                    29180 non-null  object\n",
      " 51  VR_DESPESA_MAX_CAMPANHA        29180 non-null  object\n",
      " 52  CD_SIT_TOT_TURNO               29180 non-null  object\n",
      " 53  DS_SIT_TOT_TURNO               29180 non-null  object\n",
      " 54  ST_REELEICAO                   29180 non-null  object\n",
      " 55  ST_DECLARAR_BENS               29180 non-null  object\n",
      " 56  NR_PROTOCOLO_CANDIDATURA       29180 non-null  object\n",
      " 57  NR_PROCESSO                    29180 non-null  object\n",
      " 58  CD_SITUACAO_CANDIDATO_PLEITO   29180 non-null  object\n",
      " 59  DS_SITUACAO_CANDIDATO_PLEITO   29180 non-null  object\n",
      " 60  CD_SITUACAO_CANDIDATO_URNA     29180 non-null  object\n",
      " 61  DS_SITUACAO_CANDIDATO_URNA     29180 non-null  object\n",
      " 62  ST_CANDIDATO_INSERIDO_URNA     29180 non-null  object\n",
      "dtypes: object(63)\n",
      "memory usage: 14.0+ MB\n"
     ]
    }
   ],
   "source": [
    "candidatos.info()"
   ]
  },
  {
   "cell_type": "code",
   "execution_count": null,
   "id": "25cf5334-9c2f-4bf4-8b68-186018aecdec",
   "metadata": {},
   "outputs": [],
   "source": []
  },
  {
   "cell_type": "code",
   "execution_count": 18,
   "id": "f5ab2f7e-6d64-463f-b8a9-a9764001fc38",
   "metadata": {},
   "outputs": [],
   "source": [
    "# Guarda só o código sequencial dos candidatos na eleicao de 2018"
   ]
  },
  {
   "cell_type": "code",
   "execution_count": 19,
   "id": "ea483a6c-f33a-4478-80bb-837ca2bdad22",
   "metadata": {},
   "outputs": [],
   "source": [
    "candidatos_sequencial = candidatos[['NR_CPF_CANDIDATO', 'NM_CANDIDATO', 'SQ_CANDIDATO']].copy()\n",
    "candidatos_sequencial.rename(columns = {'NR_CPF_CANDIDATO':'cpf_doacoaindireta'},inplace = True)\n",
    "candidatos_sequencial.rename(columns = {'NM_CANDIDATO':'nome_doacoaindireta'},inplace = True)\n",
    "candidatos_sequencial.rename(columns = {'SQ_CANDIDATO':'sq_doacoaindireta'},inplace = True)"
   ]
  },
  {
   "cell_type": "code",
   "execution_count": null,
   "id": "169e7842-83cb-4807-bc8a-e7de4df35e1e",
   "metadata": {},
   "outputs": [],
   "source": []
  },
  {
   "cell_type": "code",
   "execution_count": null,
   "id": "032a615f-a2a3-4189-8697-b83400f5e030",
   "metadata": {},
   "outputs": [],
   "source": []
  },
  {
   "cell_type": "code",
   "execution_count": 20,
   "id": "0ff1086f-8144-4204-a311-d7eddb2a901a",
   "metadata": {},
   "outputs": [
    {
     "data": {
      "text/plain": [
       "array(['SUPLENTE', 'NÃO ELEITO', 'ELEITO POR QP', '#NULO#', '2º TURNO',\n",
       "       'ELEITO', 'ELEITO POR MÉDIA'], dtype=object)"
      ]
     },
     "execution_count": 20,
     "metadata": {},
     "output_type": "execute_result"
    }
   ],
   "source": [
    "candidatos['DS_SIT_TOT_TURNO'].unique()"
   ]
  },
  {
   "cell_type": "code",
   "execution_count": 21,
   "id": "c89220cb-e315-4a8f-8754-152efc2c23c4",
   "metadata": {},
   "outputs": [],
   "source": [
    "# Deixa apenas colunas de interesse\n",
    "candidatos = candidatos[['NR_CPF_CANDIDATO', 'SG_PARTIDO', 'DS_SIT_TOT_TURNO', 'SQ_CANDIDATO']]\n",
    "candidatos = candidatos.drop_duplicates(['NR_CPF_CANDIDATO'], keep='last')"
   ]
  },
  {
   "cell_type": "code",
   "execution_count": 22,
   "id": "b983444b-0dc5-49e6-ae93-924354339570",
   "metadata": {},
   "outputs": [
    {
     "data": {
      "text/plain": [
       "array(['SUPLENTE', 'NÃO ELEITO', 'ELEITO POR QP', '#NULO#', 'ELEITO',\n",
       "       'ELEITO POR MÉDIA', '2º TURNO'], dtype=object)"
      ]
     },
     "execution_count": 22,
     "metadata": {},
     "output_type": "execute_result"
    }
   ],
   "source": [
    "candidatos['DS_SIT_TOT_TURNO'].unique()"
   ]
  },
  {
   "cell_type": "code",
   "execution_count": 23,
   "id": "2e95af7f-3b78-4d6a-8ed1-02dbd4bf69bf",
   "metadata": {},
   "outputs": [
    {
     "data": {
      "text/plain": [
       "(28984, 4)"
      ]
     },
     "execution_count": 23,
     "metadata": {},
     "output_type": "execute_result"
    }
   ],
   "source": [
    "candidatos.shape"
   ]
  },
  {
   "cell_type": "code",
   "execution_count": null,
   "id": "fa7a05a8-9c55-479d-b43c-380ff1fcbf79",
   "metadata": {},
   "outputs": [],
   "source": []
  },
  {
   "cell_type": "code",
   "execution_count": 24,
   "id": "a3c06be7-ce09-4c3c-bc09-d22701d4b1d9",
   "metadata": {},
   "outputs": [],
   "source": [
    "# Faz um merge entre os 510 deputados e os dados gerais pelo CPF"
   ]
  },
  {
   "cell_type": "code",
   "execution_count": 25,
   "id": "4b7adb4d-4630-4622-9a28-ffb78e5ec0b2",
   "metadata": {},
   "outputs": [],
   "source": [
    "novo_politicos = pd.merge(politicos, candidatos, left_on='politico_id', right_on='NR_CPF_CANDIDATO')"
   ]
  },
  {
   "cell_type": "code",
   "execution_count": null,
   "id": "14be2392-83d3-42cf-bc1d-6839b3e15432",
   "metadata": {},
   "outputs": [],
   "source": []
  },
  {
   "cell_type": "code",
   "execution_count": 26,
   "id": "464ddbe7-ab94-4ca5-b277-300775173f6b",
   "metadata": {},
   "outputs": [
    {
     "name": "stdout",
     "output_type": "stream",
     "text": [
      "<class 'pandas.core.frame.DataFrame'>\n",
      "Int64Index: 510 entries, 0 to 509\n",
      "Data columns (total 15 columns):\n",
      " #   Column                Non-Null Count  Dtype \n",
      "---  ------                --------------  ----- \n",
      " 0   nome                  510 non-null    object\n",
      " 1   foto                  510 non-null    object\n",
      " 2   nome_urna             510 non-null    object\n",
      " 3   uf_eleicao_disputa    510 non-null    object\n",
      " 4   politico_id           510 non-null    object\n",
      " 5   partido_eleicao       510 non-null    object\n",
      " 6   partido_atual         510 non-null    object\n",
      " 7   uri                   510 non-null    object\n",
      " 8   sequencial_candidato  510 non-null    object\n",
      " 9   bancada_ruralista     236 non-null    object\n",
      " 10  id_interno            510 non-null    object\n",
      " 11  NR_CPF_CANDIDATO      510 non-null    object\n",
      " 12  SG_PARTIDO            510 non-null    object\n",
      " 13  DS_SIT_TOT_TURNO      510 non-null    object\n",
      " 14  SQ_CANDIDATO          510 non-null    object\n",
      "dtypes: object(15)\n",
      "memory usage: 63.8+ KB\n"
     ]
    }
   ],
   "source": [
    "novo_politicos.info()"
   ]
  },
  {
   "cell_type": "code",
   "execution_count": null,
   "id": "022b5859-f274-470b-8160-f7b848820030",
   "metadata": {},
   "outputs": [],
   "source": []
  },
  {
   "cell_type": "code",
   "execution_count": 27,
   "id": "8acdf22f-8b33-4736-a6c6-0df3b0bc2b11",
   "metadata": {},
   "outputs": [],
   "source": [
    "# Seleciona colunas e altera nomes"
   ]
  },
  {
   "cell_type": "code",
   "execution_count": null,
   "id": "c4429c6b-00a2-49ae-a687-2e471c4fedc1",
   "metadata": {},
   "outputs": [],
   "source": []
  },
  {
   "cell_type": "code",
   "execution_count": 28,
   "id": "0dfbb399-30f4-4b42-a0b0-78c494fe0bfe",
   "metadata": {},
   "outputs": [],
   "source": [
    "novo_politicos = novo_politicos[['nome', 'foto', 'nome_urna', 'uf_eleicao_disputa', 'NR_CPF_CANDIDATO', 'SG_PARTIDO', 'partido_atual', 'uri', 'SQ_CANDIDATO']].copy()"
   ]
  },
  {
   "cell_type": "code",
   "execution_count": null,
   "id": "e81be5ad-2395-4f71-b869-a45f91fb4937",
   "metadata": {},
   "outputs": [],
   "source": []
  },
  {
   "cell_type": "code",
   "execution_count": 29,
   "id": "af5eefeb-f953-4573-9c28-9e6e6a44d04b",
   "metadata": {},
   "outputs": [],
   "source": [
    "novo_politicos.rename(columns = {'NR_CPF_CANDIDATO':'politico_id'},inplace = True)\n",
    "novo_politicos.rename(columns = {'SG_PARTIDO':'partido_eleicao'},inplace = True)\n",
    "\n",
    "novo_politicos.rename(columns = {'SQ_CANDIDATO':'sequencial_candidato'},inplace = True)"
   ]
  },
  {
   "cell_type": "code",
   "execution_count": null,
   "id": "09d1bd67-1b98-40ca-915b-94036ff4c5fb",
   "metadata": {},
   "outputs": [],
   "source": []
  },
  {
   "cell_type": "code",
   "execution_count": 30,
   "id": "73dda61e-71a1-43e4-880b-7a4fb487a75a",
   "metadata": {},
   "outputs": [
    {
     "name": "stdout",
     "output_type": "stream",
     "text": [
      "<class 'pandas.core.frame.DataFrame'>\n",
      "Int64Index: 510 entries, 0 to 509\n",
      "Data columns (total 9 columns):\n",
      " #   Column                Non-Null Count  Dtype \n",
      "---  ------                --------------  ----- \n",
      " 0   nome                  510 non-null    object\n",
      " 1   foto                  510 non-null    object\n",
      " 2   nome_urna             510 non-null    object\n",
      " 3   uf_eleicao_disputa    510 non-null    object\n",
      " 4   politico_id           510 non-null    object\n",
      " 5   partido_eleicao       510 non-null    object\n",
      " 6   partido_atual         510 non-null    object\n",
      " 7   uri                   510 non-null    object\n",
      " 8   sequencial_candidato  510 non-null    object\n",
      "dtypes: object(9)\n",
      "memory usage: 39.8+ KB\n"
     ]
    }
   ],
   "source": [
    "novo_politicos.info()"
   ]
  },
  {
   "cell_type": "code",
   "execution_count": null,
   "id": "32db8a6d-ebb1-4195-b61a-0e2c1ddede8c",
   "metadata": {},
   "outputs": [],
   "source": []
  },
  {
   "cell_type": "code",
   "execution_count": 23,
   "id": "6b381f48-c651-4ed1-abda-d3d58b150593",
   "metadata": {},
   "outputs": [],
   "source": [
    "#novo_politicos.to_excel('resultados/testepoliticos.xlsx',sheet_name='Sheet1',index=False)"
   ]
  },
  {
   "cell_type": "code",
   "execution_count": 24,
   "id": "c392a847-07fd-4512-ad79-864eb777b14f",
   "metadata": {},
   "outputs": [],
   "source": [
    "novo_politicos.to_excel('resultados/politicos_2018_09abr.xlsx',sheet_name='Sheet1',index=False)"
   ]
  },
  {
   "cell_type": "code",
   "execution_count": null,
   "id": "f2478d50-ed35-4f19-8ef9-1b36cfc7abba",
   "metadata": {},
   "outputs": [],
   "source": []
  },
  {
   "cell_type": "code",
   "execution_count": 25,
   "id": "fd73b9a5-5ada-47d1-934d-92461b10bb68",
   "metadata": {},
   "outputs": [],
   "source": [
    "novo_politicos.rename(columns = {'cpf':'politico_id'},inplace = True)"
   ]
  },
  {
   "cell_type": "code",
   "execution_count": 26,
   "id": "43a5ed45-7b41-4b1a-92c3-03c54eab33f8",
   "metadata": {},
   "outputs": [],
   "source": [
    "novo_politicos.to_csv('resultados/politicos_2018_09abr.csv',index=False)"
   ]
  },
  {
   "cell_type": "code",
   "execution_count": null,
   "id": "0ffaee04-1948-451f-b6ad-9f30b5a0f86a",
   "metadata": {},
   "outputs": [],
   "source": []
  },
  {
   "cell_type": "markdown",
   "id": "521afa11-ced8-4b69-a464-a72908941050",
   "metadata": {},
   "source": [
    "# Doacoes de campanha em 2018"
   ]
  },
  {
   "cell_type": "code",
   "execution_count": 2,
   "id": "02c9f4ab-8d10-4402-827d-fa2df60fab29",
   "metadata": {},
   "outputs": [],
   "source": [
    "kwargs = {'sep': ';', 'dtype': str, 'encoding': 'latin_1'}\n",
    "receitas = pd.read_csv(\"originais/receitas_candidatos_2018_BRASIL.csv\", **kwargs)"
   ]
  },
  {
   "cell_type": "code",
   "execution_count": 3,
   "id": "b9757dfb-ec01-40ef-aec6-e0f4a08b6aec",
   "metadata": {},
   "outputs": [
    {
     "name": "stdout",
     "output_type": "stream",
     "text": [
      "<class 'pandas.core.frame.DataFrame'>\n",
      "RangeIndex: 326799 entries, 0 to 326798\n",
      "Data columns (total 57 columns):\n",
      " #   Column                       Non-Null Count   Dtype \n",
      "---  ------                       --------------   ----- \n",
      " 0   DT_GERACAO                   326799 non-null  object\n",
      " 1   HH_GERACAO                   326799 non-null  object\n",
      " 2   ANO_ELEICAO                  326799 non-null  object\n",
      " 3   CD_TIPO_ELEICAO              326799 non-null  object\n",
      " 4   NM_TIPO_ELEICAO              326799 non-null  object\n",
      " 5   CD_ELEICAO                   326799 non-null  object\n",
      " 6   DS_ELEICAO                   326799 non-null  object\n",
      " 7   DT_ELEICAO                   326799 non-null  object\n",
      " 8   ST_TURNO                     326799 non-null  object\n",
      " 9   TP_PRESTACAO_CONTAS          326799 non-null  object\n",
      " 10  DT_PRESTACAO_CONTAS          326799 non-null  object\n",
      " 11  SQ_PRESTADOR_CONTAS          326799 non-null  object\n",
      " 12  SG_UF                        326799 non-null  object\n",
      " 13  SG_UE                        326799 non-null  object\n",
      " 14  NM_UE                        326799 non-null  object\n",
      " 15  NR_CNPJ_PRESTADOR_CONTA      326799 non-null  object\n",
      " 16  CD_CARGO                     326799 non-null  object\n",
      " 17  DS_CARGO                     326799 non-null  object\n",
      " 18  SQ_CANDIDATO                 326799 non-null  object\n",
      " 19  NR_CANDIDATO                 326799 non-null  object\n",
      " 20  NM_CANDIDATO                 326799 non-null  object\n",
      " 21  NR_CPF_CANDIDATO             326799 non-null  object\n",
      " 22  NR_CPF_VICE_CANDIDATO        326799 non-null  object\n",
      " 23  NR_PARTIDO                   326799 non-null  object\n",
      " 24  SG_PARTIDO                   326799 non-null  object\n",
      " 25  NM_PARTIDO                   326799 non-null  object\n",
      " 26  CD_FONTE_RECEITA             326799 non-null  object\n",
      " 27  DS_FONTE_RECEITA             326799 non-null  object\n",
      " 28  CD_ORIGEM_RECEITA            326799 non-null  object\n",
      " 29  DS_ORIGEM_RECEITA            326799 non-null  object\n",
      " 30  CD_NATUREZA_RECEITA          326799 non-null  object\n",
      " 31  DS_NATUREZA_RECEITA          326799 non-null  object\n",
      " 32  CD_ESPECIE_RECEITA           326799 non-null  object\n",
      " 33  DS_ESPECIE_RECEITA           326799 non-null  object\n",
      " 34  CD_CNAE_DOADOR               326799 non-null  object\n",
      " 35  DS_CNAE_DOADOR               326799 non-null  object\n",
      " 36  NR_CPF_CNPJ_DOADOR           326799 non-null  object\n",
      " 37  NM_DOADOR                    326799 non-null  object\n",
      " 38  NM_DOADOR_RFB                326799 non-null  object\n",
      " 39  CD_ESFERA_PARTIDARIA_DOADOR  326799 non-null  object\n",
      " 40  DS_ESFERA_PARTIDARIA_DOADOR  326799 non-null  object\n",
      " 41  SG_UF_DOADOR                 326799 non-null  object\n",
      " 42  CD_MUNICIPIO_DOADOR          326799 non-null  object\n",
      " 43  NM_MUNICIPIO_DOADOR          326799 non-null  object\n",
      " 44  SQ_CANDIDATO_DOADOR          326799 non-null  object\n",
      " 45  NR_CANDIDATO_DOADOR          326799 non-null  object\n",
      " 46  CD_CARGO_CANDIDATO_DOADOR    326799 non-null  object\n",
      " 47  DS_CARGO_CANDIDATO_DOADOR    326799 non-null  object\n",
      " 48  NR_PARTIDO_DOADOR            326799 non-null  object\n",
      " 49  SG_PARTIDO_DOADOR            326799 non-null  object\n",
      " 50  NM_PARTIDO_DOADOR            326799 non-null  object\n",
      " 51  NR_RECIBO_DOACAO             326799 non-null  object\n",
      " 52  NR_DOCUMENTO_DOACAO          326799 non-null  object\n",
      " 53  SQ_RECEITA                   326799 non-null  object\n",
      " 54  DT_RECEITA                   326799 non-null  object\n",
      " 55  DS_RECEITA                   326799 non-null  object\n",
      " 56  VR_RECEITA                   326799 non-null  object\n",
      "dtypes: object(57)\n",
      "memory usage: 142.1+ MB\n"
     ]
    }
   ],
   "source": [
    "receitas.info()"
   ]
  },
  {
   "cell_type": "code",
   "execution_count": null,
   "id": "616efa0e-8224-4997-ae1a-53625ad2fca4",
   "metadata": {},
   "outputs": [],
   "source": []
  },
  {
   "cell_type": "code",
   "execution_count": 33,
   "id": "8fffbdb9-24ce-46ff-befa-0caf46f1499a",
   "metadata": {},
   "outputs": [],
   "source": [
    "# Faz um merge entre as doações e os 510 deputados"
   ]
  },
  {
   "cell_type": "code",
   "execution_count": 34,
   "id": "a2f3eb78-83c8-42b6-aa86-a7c6d738b4ba",
   "metadata": {},
   "outputs": [],
   "source": [
    "politicos_doacoes = pd.merge(receitas, novo_politicos, left_on='NR_CPF_CANDIDATO', right_on='politico_id')"
   ]
  },
  {
   "cell_type": "code",
   "execution_count": 35,
   "id": "81440194-edec-4ac6-ad70-5d6e7fbbf6d3",
   "metadata": {},
   "outputs": [
    {
     "name": "stdout",
     "output_type": "stream",
     "text": [
      "<class 'pandas.core.frame.DataFrame'>\n",
      "Int64Index: 24977 entries, 0 to 24976\n",
      "Data columns (total 66 columns):\n",
      " #   Column                       Non-Null Count  Dtype \n",
      "---  ------                       --------------  ----- \n",
      " 0   DT_GERACAO                   24977 non-null  object\n",
      " 1   HH_GERACAO                   24977 non-null  object\n",
      " 2   ANO_ELEICAO                  24977 non-null  object\n",
      " 3   CD_TIPO_ELEICAO              24977 non-null  object\n",
      " 4   NM_TIPO_ELEICAO              24977 non-null  object\n",
      " 5   CD_ELEICAO                   24977 non-null  object\n",
      " 6   DS_ELEICAO                   24977 non-null  object\n",
      " 7   DT_ELEICAO                   24977 non-null  object\n",
      " 8   ST_TURNO                     24977 non-null  object\n",
      " 9   TP_PRESTACAO_CONTAS          24977 non-null  object\n",
      " 10  DT_PRESTACAO_CONTAS          24977 non-null  object\n",
      " 11  SQ_PRESTADOR_CONTAS          24977 non-null  object\n",
      " 12  SG_UF                        24977 non-null  object\n",
      " 13  SG_UE                        24977 non-null  object\n",
      " 14  NM_UE                        24977 non-null  object\n",
      " 15  NR_CNPJ_PRESTADOR_CONTA      24977 non-null  object\n",
      " 16  CD_CARGO                     24977 non-null  object\n",
      " 17  DS_CARGO                     24977 non-null  object\n",
      " 18  SQ_CANDIDATO                 24977 non-null  object\n",
      " 19  NR_CANDIDATO                 24977 non-null  object\n",
      " 20  NM_CANDIDATO                 24977 non-null  object\n",
      " 21  NR_CPF_CANDIDATO             24977 non-null  object\n",
      " 22  NR_CPF_VICE_CANDIDATO        24977 non-null  object\n",
      " 23  NR_PARTIDO                   24977 non-null  object\n",
      " 24  SG_PARTIDO                   24977 non-null  object\n",
      " 25  NM_PARTIDO                   24977 non-null  object\n",
      " 26  CD_FONTE_RECEITA             24977 non-null  object\n",
      " 27  DS_FONTE_RECEITA             24977 non-null  object\n",
      " 28  CD_ORIGEM_RECEITA            24977 non-null  object\n",
      " 29  DS_ORIGEM_RECEITA            24977 non-null  object\n",
      " 30  CD_NATUREZA_RECEITA          24977 non-null  object\n",
      " 31  DS_NATUREZA_RECEITA          24977 non-null  object\n",
      " 32  CD_ESPECIE_RECEITA           24977 non-null  object\n",
      " 33  DS_ESPECIE_RECEITA           24977 non-null  object\n",
      " 34  CD_CNAE_DOADOR               24977 non-null  object\n",
      " 35  DS_CNAE_DOADOR               24977 non-null  object\n",
      " 36  NR_CPF_CNPJ_DOADOR           24977 non-null  object\n",
      " 37  NM_DOADOR                    24977 non-null  object\n",
      " 38  NM_DOADOR_RFB                24977 non-null  object\n",
      " 39  CD_ESFERA_PARTIDARIA_DOADOR  24977 non-null  object\n",
      " 40  DS_ESFERA_PARTIDARIA_DOADOR  24977 non-null  object\n",
      " 41  SG_UF_DOADOR                 24977 non-null  object\n",
      " 42  CD_MUNICIPIO_DOADOR          24977 non-null  object\n",
      " 43  NM_MUNICIPIO_DOADOR          24977 non-null  object\n",
      " 44  SQ_CANDIDATO_DOADOR          24977 non-null  object\n",
      " 45  NR_CANDIDATO_DOADOR          24977 non-null  object\n",
      " 46  CD_CARGO_CANDIDATO_DOADOR    24977 non-null  object\n",
      " 47  DS_CARGO_CANDIDATO_DOADOR    24977 non-null  object\n",
      " 48  NR_PARTIDO_DOADOR            24977 non-null  object\n",
      " 49  SG_PARTIDO_DOADOR            24977 non-null  object\n",
      " 50  NM_PARTIDO_DOADOR            24977 non-null  object\n",
      " 51  NR_RECIBO_DOACAO             24977 non-null  object\n",
      " 52  NR_DOCUMENTO_DOACAO          24977 non-null  object\n",
      " 53  SQ_RECEITA                   24977 non-null  object\n",
      " 54  DT_RECEITA                   24977 non-null  object\n",
      " 55  DS_RECEITA                   24977 non-null  object\n",
      " 56  VR_RECEITA                   24977 non-null  object\n",
      " 57  nome                         24977 non-null  object\n",
      " 58  foto                         24977 non-null  object\n",
      " 59  nome_urna                    24977 non-null  object\n",
      " 60  uf_eleicao_disputa           24977 non-null  object\n",
      " 61  politico_id                  24977 non-null  object\n",
      " 62  partido_eleicao              24977 non-null  object\n",
      " 63  partido_atual                24977 non-null  object\n",
      " 64  uri                          24977 non-null  object\n",
      " 65  sequencial_candidato         24977 non-null  object\n",
      "dtypes: object(66)\n",
      "memory usage: 12.8+ MB\n"
     ]
    }
   ],
   "source": [
    "politicos_doacoes.info()"
   ]
  },
  {
   "cell_type": "code",
   "execution_count": 28,
   "id": "f94372f4-a69c-410e-ae88-2431c1210163",
   "metadata": {},
   "outputs": [],
   "source": [
    "# ESSE É O ARQUIVO DE CHECAGEM DAS DOAÇÕES BRUTAS"
   ]
  },
  {
   "cell_type": "code",
   "execution_count": 112,
   "id": "d4885fca-c408-423d-b0f9-d3136163bb67",
   "metadata": {},
   "outputs": [],
   "source": [
    "politicos_doacoes.to_excel('resultados/doacoes_geral_2018_politicos_todas_colunas.xlsx',sheet_name='Sheet1',index=False)"
   ]
  },
  {
   "cell_type": "code",
   "execution_count": 27,
   "id": "7ecd9161-0e5b-4673-aa45-cb0c628110bb",
   "metadata": {},
   "outputs": [],
   "source": [
    "politicos_doacoes.to_csv('resultados/doacoes_geral_2018_politicos_todas_colunas.csv',index=False)"
   ]
  },
  {
   "cell_type": "code",
   "execution_count": null,
   "id": "da0a73aa-d8f7-4f0d-986d-ce6668ce37c6",
   "metadata": {},
   "outputs": [],
   "source": []
  },
  {
   "cell_type": "code",
   "execution_count": 5,
   "id": "87305c0c-f409-4890-96f6-9d5e52acb421",
   "metadata": {},
   "outputs": [],
   "source": [
    "#busca = receitas[(receitas['NR_CPF_CANDIDATO'] == '15791563809')]\n",
    "#busca.to_excel('resultados/doacoes_diretas_indiretas_JULIO CESAR RIBEIRO.xlsx',sheet_name='Sheet1',index=False)"
   ]
  },
  {
   "cell_type": "code",
   "execution_count": null,
   "id": "57465988-776e-4e50-88a5-22a3eab6dfa7",
   "metadata": {},
   "outputs": [],
   "source": []
  },
  {
   "cell_type": "code",
   "execution_count": null,
   "id": "48078d57-efd6-474f-8146-463737421264",
   "metadata": {},
   "outputs": [],
   "source": []
  },
  {
   "cell_type": "code",
   "execution_count": 113,
   "id": "c28726da-f074-40cf-928b-a821c990874f",
   "metadata": {},
   "outputs": [],
   "source": [
    "# Pega o código SQ_PRESTADOR_CONTAS\t- para filtrar depois as doações originárias"
   ]
  },
  {
   "cell_type": "code",
   "execution_count": 29,
   "id": "ad4aac3e-45e7-43ab-a74d-1c42947ca149",
   "metadata": {},
   "outputs": [
    {
     "data": {
      "text/html": [
       "<div>\n",
       "<style scoped>\n",
       "    .dataframe tbody tr th:only-of-type {\n",
       "        vertical-align: middle;\n",
       "    }\n",
       "\n",
       "    .dataframe tbody tr th {\n",
       "        vertical-align: top;\n",
       "    }\n",
       "\n",
       "    .dataframe thead th {\n",
       "        text-align: right;\n",
       "    }\n",
       "</style>\n",
       "<table border=\"1\" class=\"dataframe\">\n",
       "  <thead>\n",
       "    <tr style=\"text-align: right;\">\n",
       "      <th></th>\n",
       "      <th>NM_CANDIDATO</th>\n",
       "      <th>NR_CPF_CANDIDATO</th>\n",
       "      <th>SQ_PRESTADOR_CONTAS</th>\n",
       "      <th>0</th>\n",
       "    </tr>\n",
       "  </thead>\n",
       "  <tbody>\n",
       "    <tr>\n",
       "      <th>0</th>\n",
       "      <td>MARCELO GUILHERME DE ARO FERREIRA</td>\n",
       "      <td>06305588686</td>\n",
       "      <td>427412920</td>\n",
       "      <td>1003</td>\n",
       "    </tr>\n",
       "    <tr>\n",
       "      <th>1</th>\n",
       "      <td>RENATA HELLMEISTER DE ABREU</td>\n",
       "      <td>30669688800</td>\n",
       "      <td>422529149</td>\n",
       "      <td>641</td>\n",
       "    </tr>\n",
       "    <tr>\n",
       "      <th>2</th>\n",
       "      <td>JORGE JOSÉ SANTOS PEREIRA SOLLA</td>\n",
       "      <td>19530773587</td>\n",
       "      <td>420243114</td>\n",
       "      <td>376</td>\n",
       "    </tr>\n",
       "    <tr>\n",
       "      <th>3</th>\n",
       "      <td>DAGOBERTO NOGUEIRA FILHO</td>\n",
       "      <td>00263382893</td>\n",
       "      <td>416988843</td>\n",
       "      <td>305</td>\n",
       "    </tr>\n",
       "    <tr>\n",
       "      <th>4</th>\n",
       "      <td>EDUARDO PEDROSA CURY</td>\n",
       "      <td>04909670866</td>\n",
       "      <td>419491278</td>\n",
       "      <td>301</td>\n",
       "    </tr>\n",
       "    <tr>\n",
       "      <th>...</th>\n",
       "      <td>...</td>\n",
       "      <td>...</td>\n",
       "      <td>...</td>\n",
       "      <td>...</td>\n",
       "    </tr>\n",
       "    <tr>\n",
       "      <th>505</th>\n",
       "      <td>JOSE ABILIO SILVA DE SANTANA</td>\n",
       "      <td>36607606504</td>\n",
       "      <td>419490983</td>\n",
       "      <td>3</td>\n",
       "    </tr>\n",
       "    <tr>\n",
       "      <th>506</th>\n",
       "      <td>JOSÉ WELLINGTON ROBERTO</td>\n",
       "      <td>26254166453</td>\n",
       "      <td>427385376</td>\n",
       "      <td>3</td>\n",
       "    </tr>\n",
       "    <tr>\n",
       "      <th>507</th>\n",
       "      <td>VANDA DENIR MILANI NOGUEIRA</td>\n",
       "      <td>78581850804</td>\n",
       "      <td>417107500</td>\n",
       "      <td>3</td>\n",
       "    </tr>\n",
       "    <tr>\n",
       "      <th>508</th>\n",
       "      <td>JOÃO MARCELO SANTOS SOUZA</td>\n",
       "      <td>61956384120</td>\n",
       "      <td>420244862</td>\n",
       "      <td>2</td>\n",
       "    </tr>\n",
       "    <tr>\n",
       "      <th>509</th>\n",
       "      <td>JAZIEL PEREIRA DE SOUSA</td>\n",
       "      <td>35761113368</td>\n",
       "      <td>422494511</td>\n",
       "      <td>2</td>\n",
       "    </tr>\n",
       "  </tbody>\n",
       "</table>\n",
       "<p>510 rows × 4 columns</p>\n",
       "</div>"
      ],
      "text/plain": [
       "                          NM_CANDIDATO NR_CPF_CANDIDATO SQ_PRESTADOR_CONTAS  \\\n",
       "0    MARCELO GUILHERME DE ARO FERREIRA      06305588686           427412920   \n",
       "1          RENATA HELLMEISTER DE ABREU      30669688800           422529149   \n",
       "2      JORGE JOSÉ SANTOS PEREIRA SOLLA      19530773587           420243114   \n",
       "3             DAGOBERTO NOGUEIRA FILHO      00263382893           416988843   \n",
       "4                 EDUARDO PEDROSA CURY      04909670866           419491278   \n",
       "..                                 ...              ...                 ...   \n",
       "505       JOSE ABILIO SILVA DE SANTANA      36607606504           419490983   \n",
       "506            JOSÉ WELLINGTON ROBERTO      26254166453           427385376   \n",
       "507        VANDA DENIR MILANI NOGUEIRA      78581850804           417107500   \n",
       "508          JOÃO MARCELO SANTOS SOUZA      61956384120           420244862   \n",
       "509            JAZIEL PEREIRA DE SOUSA      35761113368           422494511   \n",
       "\n",
       "        0  \n",
       "0    1003  \n",
       "1     641  \n",
       "2     376  \n",
       "3     305  \n",
       "4     301  \n",
       "..    ...  \n",
       "505     3  \n",
       "506     3  \n",
       "507     3  \n",
       "508     2  \n",
       "509     2  \n",
       "\n",
       "[510 rows x 4 columns]"
      ]
     },
     "execution_count": 29,
     "metadata": {},
     "output_type": "execute_result"
    }
   ],
   "source": [
    "politicos_doacoes.groupby(['NM_CANDIDATO','NR_CPF_CANDIDATO', 'SQ_PRESTADOR_CONTAS']).size().sort_values(ascending=False).reset_index()"
   ]
  },
  {
   "cell_type": "code",
   "execution_count": 30,
   "id": "eef59f3f-66db-4f2f-86c5-e50d7ecefeb8",
   "metadata": {},
   "outputs": [],
   "source": [
    "cod_prest_contas = politicos_doacoes.groupby(['NM_CANDIDATO','NR_CPF_CANDIDATO', 'SQ_PRESTADOR_CONTAS']).size().sort_values(ascending=False).reset_index()"
   ]
  },
  {
   "cell_type": "code",
   "execution_count": 31,
   "id": "e6760442-647c-4ce9-9e04-18a76e4c621a",
   "metadata": {},
   "outputs": [
    {
     "name": "stdout",
     "output_type": "stream",
     "text": [
      "<class 'pandas.core.frame.DataFrame'>\n",
      "RangeIndex: 510 entries, 0 to 509\n",
      "Data columns (total 4 columns):\n",
      " #   Column               Non-Null Count  Dtype \n",
      "---  ------               --------------  ----- \n",
      " 0   NM_CANDIDATO         510 non-null    object\n",
      " 1   NR_CPF_CANDIDATO     510 non-null    object\n",
      " 2   SQ_PRESTADOR_CONTAS  510 non-null    object\n",
      " 3   0                    510 non-null    int64 \n",
      "dtypes: int64(1), object(3)\n",
      "memory usage: 16.1+ KB\n"
     ]
    }
   ],
   "source": [
    "cod_prest_contas.info()"
   ]
  },
  {
   "cell_type": "code",
   "execution_count": 117,
   "id": "57f9740b-8bab-4d7d-8832-b1b8bbffcd7d",
   "metadata": {},
   "outputs": [],
   "source": [
    "cod_prest_contas.drop(0, axis=1, inplace=True)"
   ]
  },
  {
   "cell_type": "code",
   "execution_count": 118,
   "id": "adeafaa0-ba4a-4b12-9982-c952b68c3c52",
   "metadata": {},
   "outputs": [],
   "source": [
    "cod_prest_contas.to_excel('resultados/codigo_sequencial_prestador_contas_politicos.xlsx',sheet_name='Sheet1',index=False)"
   ]
  },
  {
   "cell_type": "code",
   "execution_count": null,
   "id": "0d8e5ad0-7a78-4a0f-b569-945835c4a15e",
   "metadata": {},
   "outputs": [],
   "source": []
  },
  {
   "cell_type": "code",
   "execution_count": 122,
   "id": "02d12f48-b588-48fb-9880-081e2c887c59",
   "metadata": {},
   "outputs": [],
   "source": [
    "# Seleciona colunas"
   ]
  },
  {
   "cell_type": "code",
   "execution_count": 123,
   "id": "5a7bf233-f459-4c4b-8141-8889d67af95f",
   "metadata": {},
   "outputs": [
    {
     "data": {
      "text/plain": [
       "'\\n\\nNM_PARTIDO_DOADOR diferente #NULO#\\nDS_CARGO_CANDIDATO_DOADOR diferente #NULO#\\n44726570234 - 44726570234 doa para si mesmo\\n\\n'"
      ]
     },
     "execution_count": 123,
     "metadata": {},
     "output_type": "execute_result"
    }
   ],
   "source": [
    "'''\n",
    "\n",
    "NM_PARTIDO_DOADOR diferente #NULO#\n",
    "DS_CARGO_CANDIDATO_DOADOR diferente #NULO#\n",
    "44726570234 - 44726570234 doa para si mesmo\n",
    "\n",
    "'''"
   ]
  },
  {
   "cell_type": "code",
   "execution_count": 124,
   "id": "c0e753d3-2366-46c5-b20d-173c011cf568",
   "metadata": {},
   "outputs": [
    {
     "data": {
      "text/plain": [
       "\"\\n\\n'NR_CPF_CANDIDATO', 'DS_FONTE_RECEITA', 'DS_NATUREZA_RECEITA', 'NR_CPF_CNPJ_DOADOR ', 'NM_DOADOR_RFB', 'DS_ESFERA_PARTIDARIA_DOADOR', 'SQ_CANDIDATO_DOADOR', 'SG_PARTIDO_DOADOR', 'DS_RECEITA', 'VR_RECEITA'\\n\\n\""
      ]
     },
     "execution_count": 124,
     "metadata": {},
     "output_type": "execute_result"
    }
   ],
   "source": [
    "'''\n",
    "\n",
    "'NR_CPF_CANDIDATO', 'DS_FONTE_RECEITA', 'DS_NATUREZA_RECEITA', 'NR_CPF_CNPJ_DOADOR ', 'NM_DOADOR_RFB', 'DS_ESFERA_PARTIDARIA_DOADOR', 'SQ_CANDIDATO_DOADOR', 'SG_PARTIDO_DOADOR', 'DS_RECEITA', 'VR_RECEITA'\n",
    "\n",
    "'''"
   ]
  },
  {
   "cell_type": "code",
   "execution_count": null,
   "id": "058889fc-66af-4fb3-b6a2-a85a3b88bd8c",
   "metadata": {},
   "outputs": [],
   "source": []
  },
  {
   "cell_type": "code",
   "execution_count": 119,
   "id": "505200af-8362-4ca2-87a1-49701b9e5d29",
   "metadata": {},
   "outputs": [],
   "source": [
    "politicos_doacoes = politicos_doacoes[['DT_RECEITA', 'NR_CPF_CANDIDATO', 'SQ_CANDIDATO', 'NM_CANDIDATO', 'DS_FONTE_RECEITA', 'DS_NATUREZA_RECEITA', 'NR_CPF_CNPJ_DOADOR', 'NM_DOADOR_RFB', 'DS_ESFERA_PARTIDARIA_DOADOR', 'NM_PARTIDO_DOADOR', 'SQ_CANDIDATO_DOADOR', 'DS_CARGO_CANDIDATO_DOADOR', 'SG_PARTIDO_DOADOR', 'DS_RECEITA', 'VR_RECEITA']]"
   ]
  },
  {
   "cell_type": "code",
   "execution_count": 120,
   "id": "ac8fc66a-89f9-4c18-a27f-d27f2d7c5d23",
   "metadata": {},
   "outputs": [],
   "source": [
    "politicos_doacoes.to_excel('resultados/doacoes/doacoes_geral_politicos_2018.xlsx',sheet_name='Sheet1',index=False)"
   ]
  },
  {
   "cell_type": "code",
   "execution_count": 121,
   "id": "689f1c51-16e1-43b1-8dca-6991e51831f5",
   "metadata": {},
   "outputs": [],
   "source": [
    "politicos_doacoes.to_csv('resultados/doacoes/doacoes_geral_politicos_2018.csv',index=False)"
   ]
  },
  {
   "cell_type": "code",
   "execution_count": null,
   "id": "df746d72-62d5-4597-91f3-153410236641",
   "metadata": {},
   "outputs": [],
   "source": []
  },
  {
   "cell_type": "markdown",
   "id": "929f74a3-4cdf-47ed-8ea3-9b2fe237493e",
   "metadata": {},
   "source": [
    "### Seleciona doações indiretas - que têm CNPJ de uma campanha - mas é possível encontrar o CPF do candidato doador"
   ]
  },
  {
   "cell_type": "code",
   "execution_count": 36,
   "id": "34f1ef4b-e89e-4f2f-8827-154f408dff1c",
   "metadata": {},
   "outputs": [],
   "source": [
    "kwargs = {'sep': ';', 'dtype': str, 'encoding': 'latin_1'}\n",
    "receitas_vindas_campanhas = pd.read_csv(\"originais/receitas_candidatos_2018_BRASIL.csv\", **kwargs)\n",
    "#  SQ_CANDIDATO_DOADOR - diferente de -1 são doações vindas de outros candidatos\n",
    "receitas_vindas_campanhas = receitas_vindas_campanhas[(receitas_vindas_campanhas['SQ_CANDIDATO_DOADOR'] != '-1')]\n",
    "mask = (receitas_vindas_campanhas['NR_CPF_CNPJ_DOADOR'].str.len() == 11)\n",
    "receitas_vindas_outros = receitas_vindas_campanhas.loc[mask]"
   ]
  },
  {
   "cell_type": "code",
   "execution_count": 37,
   "id": "208329ac-2708-462d-9cfe-c3abdb32c7c3",
   "metadata": {},
   "outputs": [
    {
     "data": {
      "text/plain": [
       "Index(['DT_GERACAO', 'HH_GERACAO', 'ANO_ELEICAO', 'CD_TIPO_ELEICAO',\n",
       "       'NM_TIPO_ELEICAO', 'CD_ELEICAO', 'DS_ELEICAO', 'DT_ELEICAO', 'ST_TURNO',\n",
       "       'TP_PRESTACAO_CONTAS', 'DT_PRESTACAO_CONTAS', 'SQ_PRESTADOR_CONTAS',\n",
       "       'SG_UF', 'SG_UE', 'NM_UE', 'NR_CNPJ_PRESTADOR_CONTA', 'CD_CARGO',\n",
       "       'DS_CARGO', 'SQ_CANDIDATO', 'NR_CANDIDATO', 'NM_CANDIDATO',\n",
       "       'NR_CPF_CANDIDATO', 'NR_CPF_VICE_CANDIDATO', 'NR_PARTIDO', 'SG_PARTIDO',\n",
       "       'NM_PARTIDO', 'CD_FONTE_RECEITA', 'DS_FONTE_RECEITA',\n",
       "       'CD_ORIGEM_RECEITA', 'DS_ORIGEM_RECEITA', 'CD_NATUREZA_RECEITA',\n",
       "       'DS_NATUREZA_RECEITA', 'CD_ESPECIE_RECEITA', 'DS_ESPECIE_RECEITA',\n",
       "       'CD_CNAE_DOADOR', 'DS_CNAE_DOADOR', 'NR_CPF_CNPJ_DOADOR', 'NM_DOADOR',\n",
       "       'NM_DOADOR_RFB', 'CD_ESFERA_PARTIDARIA_DOADOR',\n",
       "       'DS_ESFERA_PARTIDARIA_DOADOR', 'SG_UF_DOADOR', 'CD_MUNICIPIO_DOADOR',\n",
       "       'NM_MUNICIPIO_DOADOR', 'SQ_CANDIDATO_DOADOR', 'NR_CANDIDATO_DOADOR',\n",
       "       'CD_CARGO_CANDIDATO_DOADOR', 'DS_CARGO_CANDIDATO_DOADOR',\n",
       "       'NR_PARTIDO_DOADOR', 'SG_PARTIDO_DOADOR', 'NM_PARTIDO_DOADOR',\n",
       "       'NR_RECIBO_DOACAO', 'NR_DOCUMENTO_DOACAO', 'SQ_RECEITA', 'DT_RECEITA',\n",
       "       'DS_RECEITA', 'VR_RECEITA'],\n",
       "      dtype='object')"
      ]
     },
     "execution_count": 37,
     "metadata": {},
     "output_type": "execute_result"
    }
   ],
   "source": [
    "receitas_vindas_outros.columns"
   ]
  },
  {
   "cell_type": "code",
   "execution_count": 38,
   "id": "a559379a-6500-4169-a0ba-35fb1adb3e7a",
   "metadata": {},
   "outputs": [],
   "source": [
    "# Quando o SQ_CANDIDATO_DOADOR e o NR_CPF_CNPJ_DOADOR é um CPF, essa doação indireta já caiu na coleta das doações diretas"
   ]
  },
  {
   "cell_type": "code",
   "execution_count": 39,
   "id": "d0d06e1c-fe18-4369-b971-7d53791c2429",
   "metadata": {},
   "outputs": [
    {
     "data": {
      "text/html": [
       "<div>\n",
       "<style scoped>\n",
       "    .dataframe tbody tr th:only-of-type {\n",
       "        vertical-align: middle;\n",
       "    }\n",
       "\n",
       "    .dataframe tbody tr th {\n",
       "        vertical-align: top;\n",
       "    }\n",
       "\n",
       "    .dataframe thead th {\n",
       "        text-align: right;\n",
       "    }\n",
       "</style>\n",
       "<table border=\"1\" class=\"dataframe\">\n",
       "  <thead>\n",
       "    <tr style=\"text-align: right;\">\n",
       "      <th></th>\n",
       "      <th>NM_DOADOR_RFB</th>\n",
       "      <th>NR_CPF_CNPJ_DOADOR</th>\n",
       "      <th>DS_CARGO_CANDIDATO_DOADOR</th>\n",
       "      <th>SQ_CANDIDATO_DOADOR</th>\n",
       "      <th>NM_PARTIDO_DOADOR</th>\n",
       "    </tr>\n",
       "  </thead>\n",
       "  <tbody>\n",
       "    <tr>\n",
       "      <th>9</th>\n",
       "      <td>MINORU MARTINS KINPARA</td>\n",
       "      <td>21722099291</td>\n",
       "      <td>Senador</td>\n",
       "      <td>10000600003</td>\n",
       "      <td>Rede Sustentabilidade</td>\n",
       "    </tr>\n",
       "    <tr>\n",
       "      <th>10</th>\n",
       "      <td>MINORU MARTINS KINPARA</td>\n",
       "      <td>21722099291</td>\n",
       "      <td>Senador</td>\n",
       "      <td>10000600003</td>\n",
       "      <td>Rede Sustentabilidade</td>\n",
       "    </tr>\n",
       "    <tr>\n",
       "      <th>11</th>\n",
       "      <td>MINORU MARTINS KINPARA</td>\n",
       "      <td>21722099291</td>\n",
       "      <td>Senador</td>\n",
       "      <td>10000600003</td>\n",
       "      <td>Rede Sustentabilidade</td>\n",
       "    </tr>\n",
       "    <tr>\n",
       "      <th>12</th>\n",
       "      <td>MINORU MARTINS KINPARA</td>\n",
       "      <td>21722099291</td>\n",
       "      <td>Senador</td>\n",
       "      <td>10000600003</td>\n",
       "      <td>Rede Sustentabilidade</td>\n",
       "    </tr>\n",
       "    <tr>\n",
       "      <th>13</th>\n",
       "      <td>MINORU MARTINS KINPARA</td>\n",
       "      <td>21722099291</td>\n",
       "      <td>Senador</td>\n",
       "      <td>10000600003</td>\n",
       "      <td>Rede Sustentabilidade</td>\n",
       "    </tr>\n",
       "    <tr>\n",
       "      <th>...</th>\n",
       "      <td>...</td>\n",
       "      <td>...</td>\n",
       "      <td>...</td>\n",
       "      <td>...</td>\n",
       "      <td>...</td>\n",
       "    </tr>\n",
       "    <tr>\n",
       "      <th>326724</th>\n",
       "      <td>OGARI DE CASTRO PACHECO</td>\n",
       "      <td>01464507872</td>\n",
       "      <td>2º Suplente</td>\n",
       "      <td>270000618818</td>\n",
       "      <td>Democratas</td>\n",
       "    </tr>\n",
       "    <tr>\n",
       "      <th>326725</th>\n",
       "      <td>OGARI DE CASTRO PACHECO</td>\n",
       "      <td>01464507872</td>\n",
       "      <td>2º Suplente</td>\n",
       "      <td>270000618818</td>\n",
       "      <td>Democratas</td>\n",
       "    </tr>\n",
       "    <tr>\n",
       "      <th>326726</th>\n",
       "      <td>OGARI DE CASTRO PACHECO</td>\n",
       "      <td>01464507872</td>\n",
       "      <td>2º Suplente</td>\n",
       "      <td>270000618818</td>\n",
       "      <td>Democratas</td>\n",
       "    </tr>\n",
       "    <tr>\n",
       "      <th>326766</th>\n",
       "      <td>LUSINEIDE APARECIDA NUNES DOS SANTOS</td>\n",
       "      <td>87818523120</td>\n",
       "      <td>Deputado Estadual</td>\n",
       "      <td>270000629611</td>\n",
       "      <td>Podemos</td>\n",
       "    </tr>\n",
       "    <tr>\n",
       "      <th>326778</th>\n",
       "      <td>NOELI DE FATIMA KOSSMANN</td>\n",
       "      <td>80655432191</td>\n",
       "      <td>Deputado Estadual</td>\n",
       "      <td>270000629788</td>\n",
       "      <td>Movimento Democrático Brasileiro</td>\n",
       "    </tr>\n",
       "  </tbody>\n",
       "</table>\n",
       "<p>31911 rows × 5 columns</p>\n",
       "</div>"
      ],
      "text/plain": [
       "                               NM_DOADOR_RFB NR_CPF_CNPJ_DOADOR  \\\n",
       "9                     MINORU MARTINS KINPARA        21722099291   \n",
       "10                    MINORU MARTINS KINPARA        21722099291   \n",
       "11                    MINORU MARTINS KINPARA        21722099291   \n",
       "12                    MINORU MARTINS KINPARA        21722099291   \n",
       "13                    MINORU MARTINS KINPARA        21722099291   \n",
       "...                                      ...                ...   \n",
       "326724               OGARI DE CASTRO PACHECO        01464507872   \n",
       "326725               OGARI DE CASTRO PACHECO        01464507872   \n",
       "326726               OGARI DE CASTRO PACHECO        01464507872   \n",
       "326766  LUSINEIDE APARECIDA NUNES DOS SANTOS        87818523120   \n",
       "326778              NOELI DE FATIMA KOSSMANN        80655432191   \n",
       "\n",
       "       DS_CARGO_CANDIDATO_DOADOR SQ_CANDIDATO_DOADOR  \\\n",
       "9                        Senador         10000600003   \n",
       "10                       Senador         10000600003   \n",
       "11                       Senador         10000600003   \n",
       "12                       Senador         10000600003   \n",
       "13                       Senador         10000600003   \n",
       "...                          ...                 ...   \n",
       "326724               2º Suplente        270000618818   \n",
       "326725               2º Suplente        270000618818   \n",
       "326726               2º Suplente        270000618818   \n",
       "326766         Deputado Estadual        270000629611   \n",
       "326778         Deputado Estadual        270000629788   \n",
       "\n",
       "                       NM_PARTIDO_DOADOR  \n",
       "9                  Rede Sustentabilidade  \n",
       "10                 Rede Sustentabilidade  \n",
       "11                 Rede Sustentabilidade  \n",
       "12                 Rede Sustentabilidade  \n",
       "13                 Rede Sustentabilidade  \n",
       "...                                  ...  \n",
       "326724                        Democratas  \n",
       "326725                        Democratas  \n",
       "326726                        Democratas  \n",
       "326766                           Podemos  \n",
       "326778  Movimento Democrático Brasileiro  \n",
       "\n",
       "[31911 rows x 5 columns]"
      ]
     },
     "execution_count": 39,
     "metadata": {},
     "output_type": "execute_result"
    }
   ],
   "source": [
    "receitas_vindas_outros[['NM_DOADOR_RFB', 'NR_CPF_CNPJ_DOADOR', 'DS_CARGO_CANDIDATO_DOADOR', 'SQ_CANDIDATO_DOADOR', 'NM_PARTIDO_DOADOR']]"
   ]
  },
  {
   "cell_type": "code",
   "execution_count": null,
   "id": "4c8aeaa6-dde8-4ee3-a24e-0a2422f6489b",
   "metadata": {},
   "outputs": [],
   "source": []
  },
  {
   "cell_type": "code",
   "execution_count": null,
   "id": "efe79121-41ca-486e-8cb0-52258932b7d3",
   "metadata": {},
   "outputs": [],
   "source": []
  },
  {
   "cell_type": "code",
   "execution_count": 58,
   "id": "63534b5d-a283-425b-b136-f7e0ff5d4043",
   "metadata": {},
   "outputs": [],
   "source": [
    "kwargs = {'sep': ';', 'dtype': str, 'encoding': 'latin_1'}\n",
    "receitas_vindas_campanhas = pd.read_csv(\"originais/receitas_candidatos_2018_BRASIL.csv\", **kwargs)"
   ]
  },
  {
   "cell_type": "code",
   "execution_count": 59,
   "id": "24d7056b-b28f-49bf-8c59-1c033802975b",
   "metadata": {},
   "outputs": [],
   "source": [
    "# SQ_CANDIDATO_DOADOR - diferente de -1 são doações vindas de outros candidatos"
   ]
  },
  {
   "cell_type": "code",
   "execution_count": 60,
   "id": "b2fe7667-ecc0-4d93-8b14-300710edf707",
   "metadata": {},
   "outputs": [
    {
     "data": {
      "text/plain": [
       "(85250, 57)"
      ]
     },
     "execution_count": 60,
     "metadata": {},
     "output_type": "execute_result"
    }
   ],
   "source": [
    "receitas_vindas_campanhas = receitas_vindas_campanhas[(receitas_vindas_campanhas['SQ_CANDIDATO_DOADOR'] != '-1')]\n",
    "receitas_vindas_campanhas.shape"
   ]
  },
  {
   "cell_type": "code",
   "execution_count": 61,
   "id": "fb7105de-87f8-464d-a77d-6330a5bef268",
   "metadata": {},
   "outputs": [],
   "source": [
    "# Seleciona depois apenas NR_CPF_CNPJ_DOADOR que são CNPJs - são os de campanhas"
   ]
  },
  {
   "cell_type": "code",
   "execution_count": 62,
   "id": "577d262c-13e6-445d-ab52-b31f7c0157f4",
   "metadata": {},
   "outputs": [],
   "source": [
    "mask = (receitas_vindas_campanhas['NR_CPF_CNPJ_DOADOR'].str.len() > 11)\n",
    "receitas_vindas_campanhas = receitas_vindas_campanhas.loc[mask]"
   ]
  },
  {
   "cell_type": "code",
   "execution_count": 63,
   "id": "79967a45-c6fe-4bd2-9edf-4a6d09d0082d",
   "metadata": {},
   "outputs": [
    {
     "data": {
      "text/plain": [
       "(53339, 57)"
      ]
     },
     "execution_count": 63,
     "metadata": {},
     "output_type": "execute_result"
    }
   ],
   "source": [
    "receitas_vindas_campanhas.shape"
   ]
  },
  {
   "cell_type": "code",
   "execution_count": null,
   "id": "314be78a-d7ee-467d-b581-7621d57ffbc9",
   "metadata": {},
   "outputs": [],
   "source": []
  },
  {
   "cell_type": "code",
   "execution_count": 64,
   "id": "31b6c398-a352-4a72-9918-47c459a862e6",
   "metadata": {},
   "outputs": [
    {
     "data": {
      "text/plain": [
       "Index(['cpf_doacoaindireta', 'nome_doacoaindireta', 'sq_doacoaindireta'], dtype='object')"
      ]
     },
     "execution_count": 64,
     "metadata": {},
     "output_type": "execute_result"
    }
   ],
   "source": [
    "candidatos_sequencial.columns"
   ]
  },
  {
   "cell_type": "code",
   "execution_count": 65,
   "id": "fb091c8c-921b-4bc5-9336-90ec3265460b",
   "metadata": {},
   "outputs": [],
   "source": [
    "candidatos_sequencial = candidatos_sequencial.drop_duplicates(['cpf_doacoaindireta'], keep='first')"
   ]
  },
  {
   "cell_type": "code",
   "execution_count": 66,
   "id": "b821b000-673b-4477-8828-9809793ac0dd",
   "metadata": {},
   "outputs": [],
   "source": [
    "# Une os dados de receitas vindas de CNPJs de campanha pelo código sequencial dos candidatos doadores, com a base que tem informações dos códigos sequenciais"
   ]
  },
  {
   "cell_type": "code",
   "execution_count": 67,
   "id": "aa940716-8457-4c12-871d-228a600091ea",
   "metadata": {},
   "outputs": [],
   "source": [
    "politicos_doacoes_indiretas = pd.merge(receitas_vindas_campanhas, candidatos_sequencial, left_on='SQ_CANDIDATO_DOADOR', right_on='sq_doacoaindireta')"
   ]
  },
  {
   "cell_type": "code",
   "execution_count": 71,
   "id": "954854b7-fc55-4eea-bdda-ebbbf1b117ec",
   "metadata": {},
   "outputs": [
    {
     "data": {
      "text/plain": [
       "(53094, 60)"
      ]
     },
     "execution_count": 71,
     "metadata": {},
     "output_type": "execute_result"
    }
   ],
   "source": [
    "politicos_doacoes_indiretas.shape"
   ]
  },
  {
   "cell_type": "code",
   "execution_count": null,
   "id": "922fef16-4eb1-408e-937f-90e7301eb1cb",
   "metadata": {},
   "outputs": [],
   "source": []
  },
  {
   "cell_type": "code",
   "execution_count": 70,
   "id": "c8dcd7d5-a3c1-40b7-b9a4-1af060fc34c8",
   "metadata": {},
   "outputs": [],
   "source": [
    "politicos_doacoes_indiretas.to_csv('resultados/doacoes/doacoes_todas_indiretas.csv',index=False)"
   ]
  },
  {
   "cell_type": "code",
   "execution_count": null,
   "id": "93298857-9523-4fcb-bcf7-5cd863f2e761",
   "metadata": {},
   "outputs": [],
   "source": []
  },
  {
   "cell_type": "code",
   "execution_count": 51,
   "id": "67a11b84-fc12-41af-99cc-bd0b504cf2ec",
   "metadata": {},
   "outputs": [],
   "source": [
    "# Deixa só os 510 da metodologia\n",
    "politicos_doacoes_indiretas = pd.merge(politicos_doacoes_indiretas, novo_politicos, left_on='NR_CPF_CANDIDATO', right_on='politico_id')"
   ]
  },
  {
   "cell_type": "code",
   "execution_count": 52,
   "id": "9df275f0-123d-4249-9bc7-1f101e5c2c17",
   "metadata": {},
   "outputs": [
    {
     "data": {
      "text/plain": [
       "(2372, 69)"
      ]
     },
     "execution_count": 52,
     "metadata": {},
     "output_type": "execute_result"
    }
   ],
   "source": [
    "politicos_doacoes_indiretas.shape"
   ]
  },
  {
   "cell_type": "code",
   "execution_count": 53,
   "id": "f2907773-bb2f-40c4-8aa4-1e1d09ba971d",
   "metadata": {},
   "outputs": [
    {
     "data": {
      "text/plain": [
       "Index(['DT_GERACAO', 'HH_GERACAO', 'ANO_ELEICAO', 'CD_TIPO_ELEICAO',\n",
       "       'NM_TIPO_ELEICAO', 'CD_ELEICAO', 'DS_ELEICAO', 'DT_ELEICAO', 'ST_TURNO',\n",
       "       'TP_PRESTACAO_CONTAS', 'DT_PRESTACAO_CONTAS', 'SQ_PRESTADOR_CONTAS',\n",
       "       'SG_UF', 'SG_UE', 'NM_UE', 'NR_CNPJ_PRESTADOR_CONTA', 'CD_CARGO',\n",
       "       'DS_CARGO', 'SQ_CANDIDATO', 'NR_CANDIDATO', 'NM_CANDIDATO',\n",
       "       'NR_CPF_CANDIDATO', 'NR_CPF_VICE_CANDIDATO', 'NR_PARTIDO', 'SG_PARTIDO',\n",
       "       'NM_PARTIDO', 'CD_FONTE_RECEITA', 'DS_FONTE_RECEITA',\n",
       "       'CD_ORIGEM_RECEITA', 'DS_ORIGEM_RECEITA', 'CD_NATUREZA_RECEITA',\n",
       "       'DS_NATUREZA_RECEITA', 'CD_ESPECIE_RECEITA', 'DS_ESPECIE_RECEITA',\n",
       "       'CD_CNAE_DOADOR', 'DS_CNAE_DOADOR', 'NR_CPF_CNPJ_DOADOR', 'NM_DOADOR',\n",
       "       'NM_DOADOR_RFB', 'CD_ESFERA_PARTIDARIA_DOADOR',\n",
       "       'DS_ESFERA_PARTIDARIA_DOADOR', 'SG_UF_DOADOR', 'CD_MUNICIPIO_DOADOR',\n",
       "       'NM_MUNICIPIO_DOADOR', 'SQ_CANDIDATO_DOADOR', 'NR_CANDIDATO_DOADOR',\n",
       "       'CD_CARGO_CANDIDATO_DOADOR', 'DS_CARGO_CANDIDATO_DOADOR',\n",
       "       'NR_PARTIDO_DOADOR', 'SG_PARTIDO_DOADOR', 'NM_PARTIDO_DOADOR',\n",
       "       'NR_RECIBO_DOACAO', 'NR_DOCUMENTO_DOACAO', 'SQ_RECEITA', 'DT_RECEITA',\n",
       "       'DS_RECEITA', 'VR_RECEITA', 'cpf_doacoaindireta', 'nome_doacoaindireta',\n",
       "       'sq_doacoaindireta', 'nome', 'foto', 'nome_urna', 'uf_eleicao_disputa',\n",
       "       'politico_id', 'partido_eleicao', 'partido_atual', 'uri',\n",
       "       'sequencial_candidato'],\n",
       "      dtype='object')"
      ]
     },
     "execution_count": 53,
     "metadata": {},
     "output_type": "execute_result"
    }
   ],
   "source": [
    "politicos_doacoes_indiretas.columns"
   ]
  },
  {
   "cell_type": "code",
   "execution_count": 54,
   "id": "fdcd40f8-6f8b-4195-a1f0-b86ba601d032",
   "metadata": {},
   "outputs": [
    {
     "data": {
      "text/html": [
       "<div>\n",
       "<style scoped>\n",
       "    .dataframe tbody tr th:only-of-type {\n",
       "        vertical-align: middle;\n",
       "    }\n",
       "\n",
       "    .dataframe tbody tr th {\n",
       "        vertical-align: top;\n",
       "    }\n",
       "\n",
       "    .dataframe thead th {\n",
       "        text-align: right;\n",
       "    }\n",
       "</style>\n",
       "<table border=\"1\" class=\"dataframe\">\n",
       "  <thead>\n",
       "    <tr style=\"text-align: right;\">\n",
       "      <th></th>\n",
       "      <th>NR_CPF_CNPJ_DOADOR</th>\n",
       "    </tr>\n",
       "  </thead>\n",
       "  <tbody>\n",
       "    <tr>\n",
       "      <th>0</th>\n",
       "      <td>31215824000102</td>\n",
       "    </tr>\n",
       "    <tr>\n",
       "      <th>1</th>\n",
       "      <td>31224851000141</td>\n",
       "    </tr>\n",
       "    <tr>\n",
       "      <th>2</th>\n",
       "      <td>31224851000141</td>\n",
       "    </tr>\n",
       "    <tr>\n",
       "      <th>3</th>\n",
       "      <td>31236806000107</td>\n",
       "    </tr>\n",
       "    <tr>\n",
       "      <th>4</th>\n",
       "      <td>31236806000107</td>\n",
       "    </tr>\n",
       "    <tr>\n",
       "      <th>...</th>\n",
       "      <td>...</td>\n",
       "    </tr>\n",
       "    <tr>\n",
       "      <th>2367</th>\n",
       "      <td>31241260000182</td>\n",
       "    </tr>\n",
       "    <tr>\n",
       "      <th>2368</th>\n",
       "      <td>31241260000182</td>\n",
       "    </tr>\n",
       "    <tr>\n",
       "      <th>2369</th>\n",
       "      <td>31241260000182</td>\n",
       "    </tr>\n",
       "    <tr>\n",
       "      <th>2370</th>\n",
       "      <td>31241260000182</td>\n",
       "    </tr>\n",
       "    <tr>\n",
       "      <th>2371</th>\n",
       "      <td>31242096000128</td>\n",
       "    </tr>\n",
       "  </tbody>\n",
       "</table>\n",
       "<p>2372 rows × 1 columns</p>\n",
       "</div>"
      ],
      "text/plain": [
       "     NR_CPF_CNPJ_DOADOR\n",
       "0        31215824000102\n",
       "1        31224851000141\n",
       "2        31224851000141\n",
       "3        31236806000107\n",
       "4        31236806000107\n",
       "...                 ...\n",
       "2367     31241260000182\n",
       "2368     31241260000182\n",
       "2369     31241260000182\n",
       "2370     31241260000182\n",
       "2371     31242096000128\n",
       "\n",
       "[2372 rows x 1 columns]"
      ]
     },
     "execution_count": 54,
     "metadata": {},
     "output_type": "execute_result"
    }
   ],
   "source": [
    "politicos_doacoes_indiretas[['NR_CPF_CNPJ_DOADOR']]"
   ]
  },
  {
   "cell_type": "code",
   "execution_count": 135,
   "id": "0c13404b-7ebc-467d-99db-e0f2079b419a",
   "metadata": {},
   "outputs": [],
   "source": [
    "politicos_doacoes_indiretas.to_excel('resultados/doacoes/doacoes_todas_indiretas_politicos_2018.xlsx',sheet_name='Sheet1',index=False)"
   ]
  },
  {
   "cell_type": "code",
   "execution_count": 56,
   "id": "487c99d5-a71d-499d-b13d-7f3f010e6fb9",
   "metadata": {},
   "outputs": [],
   "source": [
    "politicos_doacoes_indiretas.to_csv('resultados/doacoes/doacoes_todas_indiretas_politicos_2018.csv',index=False)"
   ]
  },
  {
   "cell_type": "code",
   "execution_count": null,
   "id": "733b95fa-cebd-4ed8-ad84-dd1829456b8d",
   "metadata": {},
   "outputs": [],
   "source": []
  },
  {
   "cell_type": "code",
   "execution_count": null,
   "id": "916c2c87-5908-4763-b2db-a2cc438f0ac6",
   "metadata": {},
   "outputs": [],
   "source": []
  },
  {
   "cell_type": "code",
   "execution_count": null,
   "id": "32f9ff67-b622-4a0f-a7c3-00f9a513810e",
   "metadata": {},
   "outputs": [],
   "source": []
  },
  {
   "cell_type": "code",
   "execution_count": null,
   "id": "b091dc87-c7ef-4eac-b013-0e549585e12d",
   "metadata": {},
   "outputs": [],
   "source": []
  },
  {
   "cell_type": "markdown",
   "id": "d75f3ed3-a2d2-472e-b54e-e633fcb67a85",
   "metadata": {},
   "source": [
    "# Doadores originarios"
   ]
  },
  {
   "cell_type": "code",
   "execution_count": 136,
   "id": "26a51d29-c8bd-4c02-bbfd-9a0d4434f1ef",
   "metadata": {},
   "outputs": [],
   "source": [
    "kwargs = {'sep': ';', 'dtype': str, 'encoding': 'latin_1'}\n",
    "receitas_orig = pd.read_csv(\"originais/receitas_candidatos_doador_originario_2018_BRASIL.csv\", **kwargs)"
   ]
  },
  {
   "cell_type": "code",
   "execution_count": 137,
   "id": "7359d524-a1b7-42b8-83b4-f318347ea7ed",
   "metadata": {},
   "outputs": [
    {
     "name": "stdout",
     "output_type": "stream",
     "text": [
      "<class 'pandas.core.frame.DataFrame'>\n",
      "RangeIndex: 127600 entries, 0 to 127599\n",
      "Data columns (total 23 columns):\n",
      " #   Column                         Non-Null Count   Dtype \n",
      "---  ------                         --------------   ----- \n",
      " 0   DT_GERACAO                     127600 non-null  object\n",
      " 1   HH_GERACAO                     127600 non-null  object\n",
      " 2   ANO_ELEICAO                    127600 non-null  object\n",
      " 3   CD_TIPO_ELEICAO                127600 non-null  object\n",
      " 4   NM_TIPO_ELEICAO                127600 non-null  object\n",
      " 5   CD_ELEICAO                     127600 non-null  object\n",
      " 6   DS_ELEICAO                     127600 non-null  object\n",
      " 7   DT_ELEICAO                     127600 non-null  object\n",
      " 8   ST_TURNO                       127600 non-null  object\n",
      " 9   TP_PRESTACAO_CONTAS            127600 non-null  object\n",
      " 10  DT_PRESTACAO_CONTAS            127600 non-null  object\n",
      " 11  SQ_PRESTADOR_CONTAS            127600 non-null  object\n",
      " 12  SG_UF                          127600 non-null  object\n",
      " 13  NR_CPF_CNPJ_DOADOR_ORIGINARIO  127600 non-null  object\n",
      " 14  NM_DOADOR_ORIGINARIO           127600 non-null  object\n",
      " 15  NM_DOADOR_ORIGINARIO_RFB       127600 non-null  object\n",
      " 16  TP_DOADOR_ORIGINARIO           127600 non-null  object\n",
      " 17  CD_CNAE_DOADOR_ORIGINARIO      127600 non-null  object\n",
      " 18  DS_CNAE_DOADOR_ORIGINARIO      127600 non-null  object\n",
      " 19  SQ_RECEITA                     127600 non-null  object\n",
      " 20  DT_RECEITA                     127600 non-null  object\n",
      " 21  DS_RECEITA                     127600 non-null  object\n",
      " 22  VR_RECEITA                     127600 non-null  object\n",
      "dtypes: object(23)\n",
      "memory usage: 22.4+ MB\n"
     ]
    }
   ],
   "source": [
    "receitas_orig.info()"
   ]
  },
  {
   "cell_type": "code",
   "execution_count": 138,
   "id": "937fa145-3aa8-4f9e-bb11-7acc6a07c857",
   "metadata": {},
   "outputs": [
    {
     "data": {
      "text/plain": [
       "array(['Recursos de Financiamento Coletivo',\n",
       "       'Recursos de outros candidatos', 'Recursos de partido político'],\n",
       "      dtype=object)"
      ]
     },
     "execution_count": 138,
     "metadata": {},
     "output_type": "execute_result"
    }
   ],
   "source": [
    "receitas_orig['DS_RECEITA'].unique()"
   ]
  },
  {
   "cell_type": "code",
   "execution_count": null,
   "id": "a52081f9-ec35-4123-bcb4-5d67d4400d8a",
   "metadata": {},
   "outputs": [],
   "source": []
  },
  {
   "cell_type": "code",
   "execution_count": 139,
   "id": "5eab65f8-fa66-4871-9093-e86d6c221140",
   "metadata": {},
   "outputs": [],
   "source": [
    "cod_prest_contas = cod_prest_contas.drop_duplicates(['SQ_PRESTADOR_CONTAS'], keep='first')"
   ]
  },
  {
   "cell_type": "code",
   "execution_count": 140,
   "id": "0ef35d51-8f9b-401b-a57f-463695af70fb",
   "metadata": {},
   "outputs": [],
   "source": [
    "# Filtra só doações originárias que têm o SQ_PRESTADOR_CONTAS dos 510 políticos da metodologia "
   ]
  },
  {
   "cell_type": "code",
   "execution_count": 141,
   "id": "74a8556e-b100-4a4f-b7cc-b732789f1755",
   "metadata": {},
   "outputs": [],
   "source": [
    "politicos_doacoes_orig = pd.merge(receitas_orig, cod_prest_contas, left_on='SQ_PRESTADOR_CONTAS', right_on='SQ_PRESTADOR_CONTAS')"
   ]
  },
  {
   "cell_type": "code",
   "execution_count": 142,
   "id": "bd1c8ec0-3990-4616-b87d-1e6033b46af4",
   "metadata": {},
   "outputs": [
    {
     "data": {
      "text/html": [
       "<div>\n",
       "<style scoped>\n",
       "    .dataframe tbody tr th:only-of-type {\n",
       "        vertical-align: middle;\n",
       "    }\n",
       "\n",
       "    .dataframe tbody tr th {\n",
       "        vertical-align: top;\n",
       "    }\n",
       "\n",
       "    .dataframe thead th {\n",
       "        text-align: right;\n",
       "    }\n",
       "</style>\n",
       "<table border=\"1\" class=\"dataframe\">\n",
       "  <thead>\n",
       "    <tr style=\"text-align: right;\">\n",
       "      <th></th>\n",
       "      <th>SQ_PRESTADOR_CONTAS</th>\n",
       "      <th>NM_DOADOR_ORIGINARIO_RFB</th>\n",
       "      <th>NR_CPF_CANDIDATO</th>\n",
       "      <th>NM_CANDIDATO</th>\n",
       "    </tr>\n",
       "  </thead>\n",
       "  <tbody>\n",
       "    <tr>\n",
       "      <th>0</th>\n",
       "      <td>417109177</td>\n",
       "      <td>GIOVANE BARROS GUIMARAES</td>\n",
       "      <td>44726570234</td>\n",
       "      <td>ALAN RICK MIRANDA</td>\n",
       "    </tr>\n",
       "    <tr>\n",
       "      <th>1</th>\n",
       "      <td>417109177</td>\n",
       "      <td>DAYSE GAMA MACHADO</td>\n",
       "      <td>44726570234</td>\n",
       "      <td>ALAN RICK MIRANDA</td>\n",
       "    </tr>\n",
       "    <tr>\n",
       "      <th>2</th>\n",
       "      <td>417109177</td>\n",
       "      <td>PRISCILA ARAUJO MOREIRA</td>\n",
       "      <td>44726570234</td>\n",
       "      <td>ALAN RICK MIRANDA</td>\n",
       "    </tr>\n",
       "    <tr>\n",
       "      <th>3</th>\n",
       "      <td>417109177</td>\n",
       "      <td>LIDIANE RODRIGUES</td>\n",
       "      <td>44726570234</td>\n",
       "      <td>ALAN RICK MIRANDA</td>\n",
       "    </tr>\n",
       "    <tr>\n",
       "      <th>4</th>\n",
       "      <td>417109177</td>\n",
       "      <td>DANIELA DE CARVALHO DUARTE</td>\n",
       "      <td>44726570234</td>\n",
       "      <td>ALAN RICK MIRANDA</td>\n",
       "    </tr>\n",
       "    <tr>\n",
       "      <th>...</th>\n",
       "      <td>...</td>\n",
       "      <td>...</td>\n",
       "      <td>...</td>\n",
       "      <td>...</td>\n",
       "    </tr>\n",
       "    <tr>\n",
       "      <th>11055</th>\n",
       "      <td>427250169</td>\n",
       "      <td>UBIRATAN DE PAULA SANTOS</td>\n",
       "      <td>61464686815</td>\n",
       "      <td>RUI GOETHE DA COSTA FALCÃO</td>\n",
       "    </tr>\n",
       "    <tr>\n",
       "      <th>11056</th>\n",
       "      <td>422818021</td>\n",
       "      <td>FERNANDO REZENDE DE CARVALHO</td>\n",
       "      <td>43196926168</td>\n",
       "      <td>MARIA AUXILIADORA SEABRA REZENDE</td>\n",
       "    </tr>\n",
       "    <tr>\n",
       "      <th>11057</th>\n",
       "      <td>422818021</td>\n",
       "      <td>PEDRO JOSE MARIA FERNANDES WAHMANN</td>\n",
       "      <td>43196926168</td>\n",
       "      <td>MARIA AUXILIADORA SEABRA REZENDE</td>\n",
       "    </tr>\n",
       "    <tr>\n",
       "      <th>11058</th>\n",
       "      <td>422818021</td>\n",
       "      <td>MARCOS AUGUSTO NETTO</td>\n",
       "      <td>43196926168</td>\n",
       "      <td>MARIA AUXILIADORA SEABRA REZENDE</td>\n",
       "    </tr>\n",
       "    <tr>\n",
       "      <th>11059</th>\n",
       "      <td>427386238</td>\n",
       "      <td>PAULO SARDINHA MOURAO</td>\n",
       "      <td>12364983134</td>\n",
       "      <td>CELIO ALVES DE MOURA</td>\n",
       "    </tr>\n",
       "  </tbody>\n",
       "</table>\n",
       "<p>11060 rows × 4 columns</p>\n",
       "</div>"
      ],
      "text/plain": [
       "      SQ_PRESTADOR_CONTAS            NM_DOADOR_ORIGINARIO_RFB  \\\n",
       "0               417109177            GIOVANE BARROS GUIMARAES   \n",
       "1               417109177                  DAYSE GAMA MACHADO   \n",
       "2               417109177             PRISCILA ARAUJO MOREIRA   \n",
       "3               417109177                   LIDIANE RODRIGUES   \n",
       "4               417109177          DANIELA DE CARVALHO DUARTE   \n",
       "...                   ...                                 ...   \n",
       "11055           427250169            UBIRATAN DE PAULA SANTOS   \n",
       "11056           422818021        FERNANDO REZENDE DE CARVALHO   \n",
       "11057           422818021  PEDRO JOSE MARIA FERNANDES WAHMANN   \n",
       "11058           422818021                MARCOS AUGUSTO NETTO   \n",
       "11059           427386238               PAULO SARDINHA MOURAO   \n",
       "\n",
       "      NR_CPF_CANDIDATO                      NM_CANDIDATO  \n",
       "0          44726570234                 ALAN RICK MIRANDA  \n",
       "1          44726570234                 ALAN RICK MIRANDA  \n",
       "2          44726570234                 ALAN RICK MIRANDA  \n",
       "3          44726570234                 ALAN RICK MIRANDA  \n",
       "4          44726570234                 ALAN RICK MIRANDA  \n",
       "...                ...                               ...  \n",
       "11055      61464686815        RUI GOETHE DA COSTA FALCÃO  \n",
       "11056      43196926168  MARIA AUXILIADORA SEABRA REZENDE  \n",
       "11057      43196926168  MARIA AUXILIADORA SEABRA REZENDE  \n",
       "11058      43196926168  MARIA AUXILIADORA SEABRA REZENDE  \n",
       "11059      12364983134              CELIO ALVES DE MOURA  \n",
       "\n",
       "[11060 rows x 4 columns]"
      ]
     },
     "execution_count": 142,
     "metadata": {},
     "output_type": "execute_result"
    }
   ],
   "source": [
    "politicos_doacoes_orig[['SQ_PRESTADOR_CONTAS', 'NM_DOADOR_ORIGINARIO_RFB', 'NR_CPF_CANDIDATO', 'NM_CANDIDATO']]"
   ]
  },
  {
   "cell_type": "code",
   "execution_count": 143,
   "id": "71a720ad-b56a-4718-bd0d-6ae15d45a50f",
   "metadata": {},
   "outputs": [],
   "source": [
    "# ESSE É O ARQUIVO DE CHECAGEM DAS DOACOES ORIGINARIAS"
   ]
  },
  {
   "cell_type": "code",
   "execution_count": 144,
   "id": "3709d571-56cc-4f3f-bd18-f755a58ca810",
   "metadata": {},
   "outputs": [],
   "source": [
    "politicos_doacoes_orig.to_excel('resultados/doacoes/doacoes_originarias_politicos_2018.xlsx',sheet_name='Sheet1',index=False)"
   ]
  },
  {
   "cell_type": "code",
   "execution_count": null,
   "id": "d1978ea5-2e82-49d8-ab76-d593a2efaa27",
   "metadata": {},
   "outputs": [],
   "source": []
  },
  {
   "cell_type": "code",
   "execution_count": null,
   "id": "8814b712-1243-4f8c-a624-b53358a67f52",
   "metadata": {},
   "outputs": [],
   "source": []
  },
  {
   "cell_type": "code",
   "execution_count": null,
   "id": "b7acc0e5-fb63-494f-90c3-19fe20927891",
   "metadata": {},
   "outputs": [],
   "source": []
  },
  {
   "cell_type": "code",
   "execution_count": null,
   "id": "a5625fb6-ba50-4e90-a7b6-07c3b18f8a41",
   "metadata": {},
   "outputs": [],
   "source": []
  },
  {
   "cell_type": "code",
   "execution_count": 7,
   "id": "e8b0a04b-c00e-489f-bff7-7e14069d073b",
   "metadata": {},
   "outputs": [],
   "source": [
    "# Versão atual\n",
    "kwargs = {'sep': ';', 'dtype': str, 'encoding': 'utf-8'}\n",
    "versao_atual = pd.read_csv(\"resultados/politicos_2018_09abr.csv\", **kwargs)"
   ]
  },
  {
   "cell_type": "code",
   "execution_count": 8,
   "id": "a5ed55c5-83a9-4651-ade3-e68c545396da",
   "metadata": {},
   "outputs": [
    {
     "data": {
      "text/html": [
       "<div>\n",
       "<style scoped>\n",
       "    .dataframe tbody tr th:only-of-type {\n",
       "        vertical-align: middle;\n",
       "    }\n",
       "\n",
       "    .dataframe tbody tr th {\n",
       "        vertical-align: top;\n",
       "    }\n",
       "\n",
       "    .dataframe thead th {\n",
       "        text-align: right;\n",
       "    }\n",
       "</style>\n",
       "<table border=\"1\" class=\"dataframe\">\n",
       "  <thead>\n",
       "    <tr style=\"text-align: right;\">\n",
       "      <th></th>\n",
       "      <th>nome</th>\n",
       "      <th>foto</th>\n",
       "      <th>nome_urna</th>\n",
       "      <th>uf_eleicao_disputa</th>\n",
       "      <th>politico_id</th>\n",
       "      <th>partido_eleicao</th>\n",
       "      <th>partido_atual</th>\n",
       "      <th>uri</th>\n",
       "      <th>sequencial_candidato</th>\n",
       "      <th>bancada_ruralista</th>\n",
       "    </tr>\n",
       "  </thead>\n",
       "  <tbody>\n",
       "    <tr>\n",
       "      <th>0</th>\n",
       "      <td>GIOVANI BATISTA FELTES</td>\n",
       "      <td>https://www.camara.leg.br/internet/deputado/ba...</td>\n",
       "      <td>Giovani Feltes</td>\n",
       "      <td>RS</td>\n",
       "      <td>26586568072</td>\n",
       "      <td>MDB</td>\n",
       "      <td>MDB</td>\n",
       "      <td>https://dadosabertos.camara.leg.br/api/v2/depu...</td>\n",
       "      <td>210000605284</td>\n",
       "      <td>NaN</td>\n",
       "    </tr>\n",
       "    <tr>\n",
       "      <th>1</th>\n",
       "      <td>GUTEMBERG REIS DE OLIVEIRA</td>\n",
       "      <td>https://www.camara.leg.br/internet/deputado/ba...</td>\n",
       "      <td>Gutemberg Reis</td>\n",
       "      <td>RJ</td>\n",
       "      <td>07733341736</td>\n",
       "      <td>MDB</td>\n",
       "      <td>MDB</td>\n",
       "      <td>https://dadosabertos.camara.leg.br/api/v2/depu...</td>\n",
       "      <td>190000607472</td>\n",
       "      <td>NaN</td>\n",
       "    </tr>\n",
       "    <tr>\n",
       "      <th>2</th>\n",
       "      <td>ARNALDO CALIL PEREIRA JARDIM</td>\n",
       "      <td>https://www.camara.leg.br/internet/deputado/ba...</td>\n",
       "      <td>Arnaldo Jardim</td>\n",
       "      <td>SP</td>\n",
       "      <td>04197807856</td>\n",
       "      <td>PPS</td>\n",
       "      <td>CIDADANIA</td>\n",
       "      <td>https://dadosabertos.camara.leg.br/api/v2/depu...</td>\n",
       "      <td>250000615223</td>\n",
       "      <td>Sim</td>\n",
       "    </tr>\n",
       "    <tr>\n",
       "      <th>3</th>\n",
       "      <td>LUIZA ERUNDINA DE SOUSA</td>\n",
       "      <td>https://www.camara.leg.br/internet/deputado/ba...</td>\n",
       "      <td>Luiza Erundina</td>\n",
       "      <td>SP</td>\n",
       "      <td>00480584400</td>\n",
       "      <td>PSOL</td>\n",
       "      <td>PSOL</td>\n",
       "      <td>https://dadosabertos.camara.leg.br/api/v2/depu...</td>\n",
       "      <td>250000601478</td>\n",
       "      <td>NaN</td>\n",
       "    </tr>\n",
       "    <tr>\n",
       "      <th>4</th>\n",
       "      <td>OLIVAL HENRIQUE MARQUES DE SOUZA</td>\n",
       "      <td>https://www.camara.leg.br/internet/deputado/ba...</td>\n",
       "      <td>Olival Marques</td>\n",
       "      <td>PA</td>\n",
       "      <td>66514010253</td>\n",
       "      <td>DEM</td>\n",
       "      <td>MDB</td>\n",
       "      <td>https://dadosabertos.camara.leg.br/api/v2/depu...</td>\n",
       "      <td>140000613811</td>\n",
       "      <td>NaN</td>\n",
       "    </tr>\n",
       "    <tr>\n",
       "      <th>...</th>\n",
       "      <td>...</td>\n",
       "      <td>...</td>\n",
       "      <td>...</td>\n",
       "      <td>...</td>\n",
       "      <td>...</td>\n",
       "      <td>...</td>\n",
       "      <td>...</td>\n",
       "      <td>...</td>\n",
       "      <td>...</td>\n",
       "      <td>...</td>\n",
       "    </tr>\n",
       "    <tr>\n",
       "      <th>505</th>\n",
       "      <td>FÁBIO SALUSTINO MESQUITA DE FARIA</td>\n",
       "      <td>https://www.camara.leg.br/internet/deputado/ba...</td>\n",
       "      <td>Fábio Faria</td>\n",
       "      <td>RN</td>\n",
       "      <td>02128728428</td>\n",
       "      <td>PSD</td>\n",
       "      <td>PP</td>\n",
       "      <td>https://dadosabertos.camara.leg.br/api/v2/depu...</td>\n",
       "      <td>200000611411</td>\n",
       "      <td>Sim</td>\n",
       "    </tr>\n",
       "    <tr>\n",
       "      <th>506</th>\n",
       "      <td>TIAGO BRAGA PEREIRA</td>\n",
       "      <td>https://www.camara.leg.br/internet/deputado/ba...</td>\n",
       "      <td>Tiago Dimas</td>\n",
       "      <td>TO</td>\n",
       "      <td>01657051161</td>\n",
       "      <td>SOLIDARIEDADE</td>\n",
       "      <td>PODE</td>\n",
       "      <td>https://dadosabertos.camara.leg.br/api/v2/depu...</td>\n",
       "      <td>270000618825</td>\n",
       "      <td>Sim</td>\n",
       "    </tr>\n",
       "    <tr>\n",
       "      <th>507</th>\n",
       "      <td>ROBERTO SEBASTIÃO PETERNELLI JUNIOR</td>\n",
       "      <td>https://www.camara.leg.br/internet/deputado/ba...</td>\n",
       "      <td>General Peternelli</td>\n",
       "      <td>SP</td>\n",
       "      <td>91311233849</td>\n",
       "      <td>PSL</td>\n",
       "      <td>UNIÃO</td>\n",
       "      <td>https://dadosabertos.camara.leg.br/api/v2/depu...</td>\n",
       "      <td>250000613307</td>\n",
       "      <td>NaN</td>\n",
       "    </tr>\n",
       "    <tr>\n",
       "      <th>508</th>\n",
       "      <td>MARIA DO ROSÁRIO NUNES</td>\n",
       "      <td>https://www.camara.leg.br/internet/deputado/ba...</td>\n",
       "      <td>Maria do Rosário</td>\n",
       "      <td>RS</td>\n",
       "      <td>48989371015</td>\n",
       "      <td>PT</td>\n",
       "      <td>PT</td>\n",
       "      <td>https://dadosabertos.camara.leg.br/api/v2/depu...</td>\n",
       "      <td>210000611346</td>\n",
       "      <td>NaN</td>\n",
       "    </tr>\n",
       "    <tr>\n",
       "      <th>509</th>\n",
       "      <td>JORGE BRAZ DE OLIVEIRA</td>\n",
       "      <td>https://www.camara.leg.br/internet/deputado/ba...</td>\n",
       "      <td>Jorge Braz</td>\n",
       "      <td>RJ</td>\n",
       "      <td>35201487734</td>\n",
       "      <td>PRB</td>\n",
       "      <td>REPUBLICANOS</td>\n",
       "      <td>https://dadosabertos.camara.leg.br/api/v2/depu...</td>\n",
       "      <td>190000626481</td>\n",
       "      <td>NaN</td>\n",
       "    </tr>\n",
       "  </tbody>\n",
       "</table>\n",
       "<p>510 rows × 10 columns</p>\n",
       "</div>"
      ],
      "text/plain": [
       "                                    nome  \\\n",
       "0                 GIOVANI BATISTA FELTES   \n",
       "1             GUTEMBERG REIS DE OLIVEIRA   \n",
       "2           ARNALDO CALIL PEREIRA JARDIM   \n",
       "3                LUIZA ERUNDINA DE SOUSA   \n",
       "4       OLIVAL HENRIQUE MARQUES DE SOUZA   \n",
       "..                                   ...   \n",
       "505    FÁBIO SALUSTINO MESQUITA DE FARIA   \n",
       "506                  TIAGO BRAGA PEREIRA   \n",
       "507  ROBERTO SEBASTIÃO PETERNELLI JUNIOR   \n",
       "508               MARIA DO ROSÁRIO NUNES   \n",
       "509               JORGE BRAZ DE OLIVEIRA   \n",
       "\n",
       "                                                  foto           nome_urna  \\\n",
       "0    https://www.camara.leg.br/internet/deputado/ba...      Giovani Feltes   \n",
       "1    https://www.camara.leg.br/internet/deputado/ba...      Gutemberg Reis   \n",
       "2    https://www.camara.leg.br/internet/deputado/ba...      Arnaldo Jardim   \n",
       "3    https://www.camara.leg.br/internet/deputado/ba...      Luiza Erundina   \n",
       "4    https://www.camara.leg.br/internet/deputado/ba...      Olival Marques   \n",
       "..                                                 ...                 ...   \n",
       "505  https://www.camara.leg.br/internet/deputado/ba...         Fábio Faria   \n",
       "506  https://www.camara.leg.br/internet/deputado/ba...         Tiago Dimas   \n",
       "507  https://www.camara.leg.br/internet/deputado/ba...  General Peternelli   \n",
       "508  https://www.camara.leg.br/internet/deputado/ba...    Maria do Rosário   \n",
       "509  https://www.camara.leg.br/internet/deputado/ba...          Jorge Braz   \n",
       "\n",
       "    uf_eleicao_disputa  politico_id partido_eleicao partido_atual  \\\n",
       "0                   RS  26586568072             MDB           MDB   \n",
       "1                   RJ  07733341736             MDB           MDB   \n",
       "2                   SP  04197807856             PPS     CIDADANIA   \n",
       "3                   SP  00480584400            PSOL          PSOL   \n",
       "4                   PA  66514010253             DEM           MDB   \n",
       "..                 ...          ...             ...           ...   \n",
       "505                 RN  02128728428             PSD            PP   \n",
       "506                 TO  01657051161   SOLIDARIEDADE          PODE   \n",
       "507                 SP  91311233849             PSL         UNIÃO   \n",
       "508                 RS  48989371015              PT            PT   \n",
       "509                 RJ  35201487734             PRB  REPUBLICANOS   \n",
       "\n",
       "                                                   uri sequencial_candidato  \\\n",
       "0    https://dadosabertos.camara.leg.br/api/v2/depu...         210000605284   \n",
       "1    https://dadosabertos.camara.leg.br/api/v2/depu...         190000607472   \n",
       "2    https://dadosabertos.camara.leg.br/api/v2/depu...         250000615223   \n",
       "3    https://dadosabertos.camara.leg.br/api/v2/depu...         250000601478   \n",
       "4    https://dadosabertos.camara.leg.br/api/v2/depu...         140000613811   \n",
       "..                                                 ...                  ...   \n",
       "505  https://dadosabertos.camara.leg.br/api/v2/depu...         200000611411   \n",
       "506  https://dadosabertos.camara.leg.br/api/v2/depu...         270000618825   \n",
       "507  https://dadosabertos.camara.leg.br/api/v2/depu...         250000613307   \n",
       "508  https://dadosabertos.camara.leg.br/api/v2/depu...         210000611346   \n",
       "509  https://dadosabertos.camara.leg.br/api/v2/depu...         190000626481   \n",
       "\n",
       "    bancada_ruralista  \n",
       "0                 NaN  \n",
       "1                 NaN  \n",
       "2                 Sim  \n",
       "3                 NaN  \n",
       "4                 NaN  \n",
       "..                ...  \n",
       "505               Sim  \n",
       "506               Sim  \n",
       "507               NaN  \n",
       "508               NaN  \n",
       "509               NaN  \n",
       "\n",
       "[510 rows x 10 columns]"
      ]
     },
     "execution_count": 8,
     "metadata": {},
     "output_type": "execute_result"
    }
   ],
   "source": [
    "versao_atual"
   ]
  },
  {
   "cell_type": "code",
   "execution_count": null,
   "id": "bd6cdbcc-6458-4b84-8a08-842940f25ca5",
   "metadata": {},
   "outputs": [],
   "source": []
  },
  {
   "cell_type": "code",
   "execution_count": 14,
   "id": "e89580d5-af49-4f95-a414-176355c54c92",
   "metadata": {},
   "outputs": [],
   "source": [
    "apenas_id = politicos[['NR_CPF_CANDIDATO', 'deputado_id']].copy()\n",
    "apenas_id.rename(columns = {'NR_CPF_CANDIDATO':'politico_id'},inplace = True)\n",
    "apenas_id.rename(columns = {'deputado_id':'id_interno'},inplace = True)"
   ]
  },
  {
   "cell_type": "code",
   "execution_count": null,
   "id": "d67f53b1-5387-4eb7-8312-082b60511721",
   "metadata": {},
   "outputs": [],
   "source": []
  },
  {
   "cell_type": "code",
   "execution_count": 16,
   "id": "a6ee5e02-9fc6-4e89-973b-24c03f4854b3",
   "metadata": {},
   "outputs": [],
   "source": [
    "final = pd.merge(versao_atual, apenas_id, left_on='politico_id', right_on='politico_id')"
   ]
  },
  {
   "cell_type": "code",
   "execution_count": 17,
   "id": "442d84c6-8195-4c31-8da3-a47f4e1130e8",
   "metadata": {},
   "outputs": [
    {
     "data": {
      "text/html": [
       "<div>\n",
       "<style scoped>\n",
       "    .dataframe tbody tr th:only-of-type {\n",
       "        vertical-align: middle;\n",
       "    }\n",
       "\n",
       "    .dataframe tbody tr th {\n",
       "        vertical-align: top;\n",
       "    }\n",
       "\n",
       "    .dataframe thead th {\n",
       "        text-align: right;\n",
       "    }\n",
       "</style>\n",
       "<table border=\"1\" class=\"dataframe\">\n",
       "  <thead>\n",
       "    <tr style=\"text-align: right;\">\n",
       "      <th></th>\n",
       "      <th>nome</th>\n",
       "      <th>foto</th>\n",
       "      <th>nome_urna</th>\n",
       "      <th>uf_eleicao_disputa</th>\n",
       "      <th>politico_id</th>\n",
       "      <th>partido_eleicao</th>\n",
       "      <th>partido_atual</th>\n",
       "      <th>uri</th>\n",
       "      <th>sequencial_candidato</th>\n",
       "      <th>bancada_ruralista</th>\n",
       "      <th>id_interno</th>\n",
       "    </tr>\n",
       "  </thead>\n",
       "  <tbody>\n",
       "    <tr>\n",
       "      <th>0</th>\n",
       "      <td>GIOVANI BATISTA FELTES</td>\n",
       "      <td>https://www.camara.leg.br/internet/deputado/ba...</td>\n",
       "      <td>Giovani Feltes</td>\n",
       "      <td>RS</td>\n",
       "      <td>26586568072</td>\n",
       "      <td>MDB</td>\n",
       "      <td>MDB</td>\n",
       "      <td>https://dadosabertos.camara.leg.br/api/v2/depu...</td>\n",
       "      <td>210000605284</td>\n",
       "      <td>NaN</td>\n",
       "      <td>178996</td>\n",
       "    </tr>\n",
       "    <tr>\n",
       "      <th>1</th>\n",
       "      <td>GUTEMBERG REIS DE OLIVEIRA</td>\n",
       "      <td>https://www.camara.leg.br/internet/deputado/ba...</td>\n",
       "      <td>Gutemberg Reis</td>\n",
       "      <td>RJ</td>\n",
       "      <td>07733341736</td>\n",
       "      <td>MDB</td>\n",
       "      <td>MDB</td>\n",
       "      <td>https://dadosabertos.camara.leg.br/api/v2/depu...</td>\n",
       "      <td>190000607472</td>\n",
       "      <td>NaN</td>\n",
       "      <td>204456</td>\n",
       "    </tr>\n",
       "    <tr>\n",
       "      <th>2</th>\n",
       "      <td>ARNALDO CALIL PEREIRA JARDIM</td>\n",
       "      <td>https://www.camara.leg.br/internet/deputado/ba...</td>\n",
       "      <td>Arnaldo Jardim</td>\n",
       "      <td>SP</td>\n",
       "      <td>04197807856</td>\n",
       "      <td>PPS</td>\n",
       "      <td>CIDADANIA</td>\n",
       "      <td>https://dadosabertos.camara.leg.br/api/v2/depu...</td>\n",
       "      <td>250000615223</td>\n",
       "      <td>Sim</td>\n",
       "      <td>141391</td>\n",
       "    </tr>\n",
       "    <tr>\n",
       "      <th>3</th>\n",
       "      <td>LUIZA ERUNDINA DE SOUSA</td>\n",
       "      <td>https://www.camara.leg.br/internet/deputado/ba...</td>\n",
       "      <td>Luiza Erundina</td>\n",
       "      <td>SP</td>\n",
       "      <td>00480584400</td>\n",
       "      <td>PSOL</td>\n",
       "      <td>PSOL</td>\n",
       "      <td>https://dadosabertos.camara.leg.br/api/v2/depu...</td>\n",
       "      <td>250000601478</td>\n",
       "      <td>NaN</td>\n",
       "      <td>74784</td>\n",
       "    </tr>\n",
       "    <tr>\n",
       "      <th>4</th>\n",
       "      <td>OLIVAL HENRIQUE MARQUES DE SOUZA</td>\n",
       "      <td>https://www.camara.leg.br/internet/deputado/ba...</td>\n",
       "      <td>Olival Marques</td>\n",
       "      <td>PA</td>\n",
       "      <td>66514010253</td>\n",
       "      <td>DEM</td>\n",
       "      <td>MDB</td>\n",
       "      <td>https://dadosabertos.camara.leg.br/api/v2/depu...</td>\n",
       "      <td>140000613811</td>\n",
       "      <td>NaN</td>\n",
       "      <td>204498</td>\n",
       "    </tr>\n",
       "    <tr>\n",
       "      <th>...</th>\n",
       "      <td>...</td>\n",
       "      <td>...</td>\n",
       "      <td>...</td>\n",
       "      <td>...</td>\n",
       "      <td>...</td>\n",
       "      <td>...</td>\n",
       "      <td>...</td>\n",
       "      <td>...</td>\n",
       "      <td>...</td>\n",
       "      <td>...</td>\n",
       "      <td>...</td>\n",
       "    </tr>\n",
       "    <tr>\n",
       "      <th>505</th>\n",
       "      <td>FÁBIO SALUSTINO MESQUITA DE FARIA</td>\n",
       "      <td>https://www.camara.leg.br/internet/deputado/ba...</td>\n",
       "      <td>Fábio Faria</td>\n",
       "      <td>RN</td>\n",
       "      <td>02128728428</td>\n",
       "      <td>PSD</td>\n",
       "      <td>PP</td>\n",
       "      <td>https://dadosabertos.camara.leg.br/api/v2/depu...</td>\n",
       "      <td>200000611411</td>\n",
       "      <td>Sim</td>\n",
       "      <td>141428</td>\n",
       "    </tr>\n",
       "    <tr>\n",
       "      <th>506</th>\n",
       "      <td>TIAGO BRAGA PEREIRA</td>\n",
       "      <td>https://www.camara.leg.br/internet/deputado/ba...</td>\n",
       "      <td>Tiago Dimas</td>\n",
       "      <td>TO</td>\n",
       "      <td>01657051161</td>\n",
       "      <td>SOLIDARIEDADE</td>\n",
       "      <td>PODE</td>\n",
       "      <td>https://dadosabertos.camara.leg.br/api/v2/depu...</td>\n",
       "      <td>270000618825</td>\n",
       "      <td>Sim</td>\n",
       "      <td>143084</td>\n",
       "    </tr>\n",
       "    <tr>\n",
       "      <th>507</th>\n",
       "      <td>ROBERTO SEBASTIÃO PETERNELLI JUNIOR</td>\n",
       "      <td>https://www.camara.leg.br/internet/deputado/ba...</td>\n",
       "      <td>General Peternelli</td>\n",
       "      <td>SP</td>\n",
       "      <td>91311233849</td>\n",
       "      <td>PSL</td>\n",
       "      <td>UNIÃO</td>\n",
       "      <td>https://dadosabertos.camara.leg.br/api/v2/depu...</td>\n",
       "      <td>250000613307</td>\n",
       "      <td>NaN</td>\n",
       "      <td>204484</td>\n",
       "    </tr>\n",
       "    <tr>\n",
       "      <th>508</th>\n",
       "      <td>MARIA DO ROSÁRIO NUNES</td>\n",
       "      <td>https://www.camara.leg.br/internet/deputado/ba...</td>\n",
       "      <td>Maria do Rosário</td>\n",
       "      <td>RS</td>\n",
       "      <td>48989371015</td>\n",
       "      <td>PT</td>\n",
       "      <td>PT</td>\n",
       "      <td>https://dadosabertos.camara.leg.br/api/v2/depu...</td>\n",
       "      <td>210000611346</td>\n",
       "      <td>NaN</td>\n",
       "      <td>74398</td>\n",
       "    </tr>\n",
       "    <tr>\n",
       "      <th>509</th>\n",
       "      <td>JORGE BRAZ DE OLIVEIRA</td>\n",
       "      <td>https://www.camara.leg.br/internet/deputado/ba...</td>\n",
       "      <td>Jorge Braz</td>\n",
       "      <td>RJ</td>\n",
       "      <td>35201487734</td>\n",
       "      <td>PRB</td>\n",
       "      <td>REPUBLICANOS</td>\n",
       "      <td>https://dadosabertos.camara.leg.br/api/v2/depu...</td>\n",
       "      <td>190000626481</td>\n",
       "      <td>NaN</td>\n",
       "      <td>205550</td>\n",
       "    </tr>\n",
       "  </tbody>\n",
       "</table>\n",
       "<p>510 rows × 11 columns</p>\n",
       "</div>"
      ],
      "text/plain": [
       "                                    nome  \\\n",
       "0                 GIOVANI BATISTA FELTES   \n",
       "1             GUTEMBERG REIS DE OLIVEIRA   \n",
       "2           ARNALDO CALIL PEREIRA JARDIM   \n",
       "3                LUIZA ERUNDINA DE SOUSA   \n",
       "4       OLIVAL HENRIQUE MARQUES DE SOUZA   \n",
       "..                                   ...   \n",
       "505    FÁBIO SALUSTINO MESQUITA DE FARIA   \n",
       "506                  TIAGO BRAGA PEREIRA   \n",
       "507  ROBERTO SEBASTIÃO PETERNELLI JUNIOR   \n",
       "508               MARIA DO ROSÁRIO NUNES   \n",
       "509               JORGE BRAZ DE OLIVEIRA   \n",
       "\n",
       "                                                  foto           nome_urna  \\\n",
       "0    https://www.camara.leg.br/internet/deputado/ba...      Giovani Feltes   \n",
       "1    https://www.camara.leg.br/internet/deputado/ba...      Gutemberg Reis   \n",
       "2    https://www.camara.leg.br/internet/deputado/ba...      Arnaldo Jardim   \n",
       "3    https://www.camara.leg.br/internet/deputado/ba...      Luiza Erundina   \n",
       "4    https://www.camara.leg.br/internet/deputado/ba...      Olival Marques   \n",
       "..                                                 ...                 ...   \n",
       "505  https://www.camara.leg.br/internet/deputado/ba...         Fábio Faria   \n",
       "506  https://www.camara.leg.br/internet/deputado/ba...         Tiago Dimas   \n",
       "507  https://www.camara.leg.br/internet/deputado/ba...  General Peternelli   \n",
       "508  https://www.camara.leg.br/internet/deputado/ba...    Maria do Rosário   \n",
       "509  https://www.camara.leg.br/internet/deputado/ba...          Jorge Braz   \n",
       "\n",
       "    uf_eleicao_disputa  politico_id partido_eleicao partido_atual  \\\n",
       "0                   RS  26586568072             MDB           MDB   \n",
       "1                   RJ  07733341736             MDB           MDB   \n",
       "2                   SP  04197807856             PPS     CIDADANIA   \n",
       "3                   SP  00480584400            PSOL          PSOL   \n",
       "4                   PA  66514010253             DEM           MDB   \n",
       "..                 ...          ...             ...           ...   \n",
       "505                 RN  02128728428             PSD            PP   \n",
       "506                 TO  01657051161   SOLIDARIEDADE          PODE   \n",
       "507                 SP  91311233849             PSL         UNIÃO   \n",
       "508                 RS  48989371015              PT            PT   \n",
       "509                 RJ  35201487734             PRB  REPUBLICANOS   \n",
       "\n",
       "                                                   uri sequencial_candidato  \\\n",
       "0    https://dadosabertos.camara.leg.br/api/v2/depu...         210000605284   \n",
       "1    https://dadosabertos.camara.leg.br/api/v2/depu...         190000607472   \n",
       "2    https://dadosabertos.camara.leg.br/api/v2/depu...         250000615223   \n",
       "3    https://dadosabertos.camara.leg.br/api/v2/depu...         250000601478   \n",
       "4    https://dadosabertos.camara.leg.br/api/v2/depu...         140000613811   \n",
       "..                                                 ...                  ...   \n",
       "505  https://dadosabertos.camara.leg.br/api/v2/depu...         200000611411   \n",
       "506  https://dadosabertos.camara.leg.br/api/v2/depu...         270000618825   \n",
       "507  https://dadosabertos.camara.leg.br/api/v2/depu...         250000613307   \n",
       "508  https://dadosabertos.camara.leg.br/api/v2/depu...         210000611346   \n",
       "509  https://dadosabertos.camara.leg.br/api/v2/depu...         190000626481   \n",
       "\n",
       "    bancada_ruralista id_interno  \n",
       "0                 NaN     178996  \n",
       "1                 NaN     204456  \n",
       "2                 Sim     141391  \n",
       "3                 NaN      74784  \n",
       "4                 NaN     204498  \n",
       "..                ...        ...  \n",
       "505               Sim     141428  \n",
       "506               Sim     143084  \n",
       "507               NaN     204484  \n",
       "508               NaN      74398  \n",
       "509               NaN     205550  \n",
       "\n",
       "[510 rows x 11 columns]"
      ]
     },
     "execution_count": 17,
     "metadata": {},
     "output_type": "execute_result"
    }
   ],
   "source": [
    "final"
   ]
  },
  {
   "cell_type": "code",
   "execution_count": null,
   "id": "f8c3a592-b04a-47c2-b973-79870c192289",
   "metadata": {},
   "outputs": [],
   "source": []
  },
  {
   "cell_type": "code",
   "execution_count": 19,
   "id": "2dd6c607-077b-4976-8601-fa1ce2d20479",
   "metadata": {},
   "outputs": [],
   "source": [
    "final.to_csv('resultados/politicos_2018_versao_9mai.csv',index=False)"
   ]
  },
  {
   "cell_type": "code",
   "execution_count": null,
   "id": "3aa2c3c2-3d45-4c03-be94-dda9dac3e218",
   "metadata": {},
   "outputs": [],
   "source": []
  }
 ],
 "metadata": {
  "kernelspec": {
   "display_name": "Python 3",
   "language": "python",
   "name": "python3"
  },
  "language_info": {
   "codemirror_mode": {
    "name": "ipython",
    "version": 3
   },
   "file_extension": ".py",
   "mimetype": "text/x-python",
   "name": "python",
   "nbconvert_exporter": "python",
   "pygments_lexer": "ipython3",
   "version": "3.8.2"
  }
 },
 "nbformat": 4,
 "nbformat_minor": 5
}
