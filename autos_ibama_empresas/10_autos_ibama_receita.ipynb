{
 "cells": [
  {
   "cell_type": "code",
   "execution_count": null,
   "id": "f2216bc3-f9fb-4a46-b31e-2d1c2217c56f",
   "metadata": {},
   "outputs": [],
   "source": [
    "# -*- coding: utf-8\n",
    "# Repórter Brasil (https://ruralometro2022.reporterbrasil.org.br/)\n",
    "# Reinaldo Chaves (@paidatocandeira)\n",
    "# # Procura empresas de deputados federais inscritas em autos de infração do Ibama"
   ]
  },
  {
   "cell_type": "code",
   "execution_count": null,
   "id": "ed9636be-6db6-4b93-880d-c1752cc99f62",
   "metadata": {},
   "outputs": [],
   "source": []
  },
  {
   "cell_type": "code",
   "execution_count": 1,
   "id": "ed70c1cb-6f3b-4e19-b486-a9e59ce2ce8d",
   "metadata": {},
   "outputs": [],
   "source": [
    "import pandas as pd\n",
    "import unidecode"
   ]
  },
  {
   "cell_type": "code",
   "execution_count": null,
   "id": "b20afd43-70a2-4741-8e59-6bc4cc6a2926",
   "metadata": {},
   "outputs": [],
   "source": []
  },
  {
   "cell_type": "code",
   "execution_count": 2,
   "id": "3fc0f326-a161-48f2-bc0b-72eac90f6ec0",
   "metadata": {},
   "outputs": [],
   "source": [
    "def f(str):\n",
    "    try:\n",
    "        return (unidecode.unidecode(str))\n",
    "    except:\n",
    "        return (str)"
   ]
  },
  {
   "cell_type": "code",
   "execution_count": null,
   "id": "def982dd-ca84-4e3a-b0d1-ea197cb8d57b",
   "metadata": {},
   "outputs": [],
   "source": []
  },
  {
   "cell_type": "code",
   "execution_count": 3,
   "id": "8418d17f-ae7c-4581-a822-4b2c7a8d81df",
   "metadata": {},
   "outputs": [],
   "source": [
    "kwargs = {'sep': ';', 'dtype': str, 'encoding': 'utf-8'}\n",
    "autos_ibama = pd.read_csv(\"originais/auto_infracao_ibama_16_fev_2022.csv\", **kwargs)\n",
    "autos_ibama = autos_ibama[pd.notnull(autos_ibama['CPF_CNPJ_INFRATOR'])].copy()\n",
    "def limpeza1(linha):\n",
    "    documento = str(linha[\"CPF_CNPJ_INFRATOR\"])\n",
    "    if len(documento) > 11:\n",
    "        return documento[:8]\n",
    "    else:\n",
    "        return \"documento_cpf\"\n",
    "\n",
    "autos_ibama['cnpj_raiz'] = autos_ibama.apply(limpeza1, axis=1)\n",
    "autos_ibama[\"nome_infrator_semacentos\"] = autos_ibama[\"NOME_INFRATOR\"].str.upper()\n",
    "autos_ibama[\"nome_infrator_semacentos\"] = autos_ibama[\"nome_infrator_semacentos\"].apply(f)\n",
    "autos_ibama_pf = autos_ibama[(autos_ibama['cnpj_raiz'] == 'documento_cpf')]\n",
    "autos_ibama_pj = autos_ibama[(autos_ibama['cnpj_raiz'] != 'documento_cpf')]"
   ]
  },
  {
   "cell_type": "code",
   "execution_count": null,
   "id": "4904558e-fbc6-4425-a65d-1be15b7ca971",
   "metadata": {},
   "outputs": [],
   "source": []
  },
  {
   "cell_type": "code",
   "execution_count": 4,
   "id": "3bd0da36-7970-4a33-8009-ffffb73fbc49",
   "metadata": {},
   "outputs": [],
   "source": [
    "kwargs = {'sep': ',', 'dtype': str, 'encoding': 'utf-8'}\n",
    "empresas_politicos = pd.read_csv(\"resultados/empresas_deputados/empresas_deputados_fev_2022.csv\", **kwargs)"
   ]
  },
  {
   "cell_type": "code",
   "execution_count": null,
   "id": "4cad48d3-97cf-4770-89d3-edecd60133a7",
   "metadata": {},
   "outputs": [],
   "source": []
  },
  {
   "cell_type": "code",
   "execution_count": 5,
   "id": "775d0511-f449-413d-9a4f-b74405862d44",
   "metadata": {},
   "outputs": [],
   "source": [
    "kwargs = {'sep': ',', 'dtype': str, 'encoding': 'utf-8'}\n",
    "empresas_politicos_socios = pd.read_csv(\"resultados/empresas_deputados/todos_socios_empresas_deputados_fev_2022.csv\", **kwargs)"
   ]
  },
  {
   "cell_type": "code",
   "execution_count": null,
   "id": "7501d8c4-9830-454a-b205-77b1c7eb43e6",
   "metadata": {},
   "outputs": [],
   "source": []
  },
  {
   "cell_type": "code",
   "execution_count": null,
   "id": "e1fe6895-3324-45a4-b4eb-c149c04c1140",
   "metadata": {},
   "outputs": [],
   "source": []
  },
  {
   "cell_type": "code",
   "execution_count": null,
   "id": "7f97115f-0219-45e6-b97c-309712282913",
   "metadata": {},
   "outputs": [],
   "source": [
    "# Procura empresas de deputados em autos do Ibama"
   ]
  },
  {
   "cell_type": "code",
   "execution_count": 17,
   "id": "59420b93-9ee4-4497-9b6e-cbf6e6de9c84",
   "metadata": {},
   "outputs": [
    {
     "data": {
      "text/plain": [
       "Index(['nome', 'nome_urna', 'politico_id', 'cpf_mascarado', 'cnpj',\n",
       "       'cnpj_basico_x', 'nome_socio', 'cnpj_cpf_socio', 'nome_fantasia',\n",
       "       'situacao_cadastral', 'cnae_fiscal', 'cnae_fiscal_secundaria', 'uf',\n",
       "       'municipio'],\n",
       "      dtype='object')"
      ]
     },
     "execution_count": 17,
     "metadata": {},
     "output_type": "execute_result"
    }
   ],
   "source": [
    "empresas_politicos.columns"
   ]
  },
  {
   "cell_type": "code",
   "execution_count": 18,
   "id": "38bbbffe-cad8-4c7a-a70d-cd10405fa53b",
   "metadata": {},
   "outputs": [
    {
     "data": {
      "text/plain": [
       "Index(['SEQ_AUTO_INFRACAO', 'NUM_AUTO_INFRACAO', 'SER_AUTO_INFRACAO',\n",
       "       'TIPO_AUTO', 'TIPO_MULTA', 'VAL_AUTO_INFRACAO', 'PATRIMONIO_APURACAO',\n",
       "       'GRAVIDADE_INFRACAO', 'UNID_ARRECADACAO', 'DES_AUTO_INFRACAO',\n",
       "       'DAT_HORA_AUTO_INFRACAO', 'FORMA_ENTREGA', 'DAT_CIENCIA_AUTUACAO',\n",
       "       'COD_MUNICIPIO', 'MUNICIPIO', 'UF', 'NUM_PROCESSO', 'COD_INFRACAO',\n",
       "       'DES_INFRACAO', 'TIPO_INFRACAO', 'NOME_INFRATOR', 'CPF_CNPJ_INFRATOR',\n",
       "       'QTD_AREA', 'INFRACAO_AREA', 'DES_OUTROS_TIPO_AREA',\n",
       "       'CLASSIFICACAO_AREA', 'NUM_LATITUDE_AUTO', 'NUM_LONGITUDE_AUTO',\n",
       "       'DES_LOCAL_INFRACAO', 'NOTIFICACAO_VINCULADA', 'ACAO_FISCALIZATORIA',\n",
       "       'UNID_CONTROLE', 'TIPO_ACAO', 'OPERACAO', 'DENUNCIA_SISLIV',\n",
       "       'ORDEM_FISCALIZACAO', 'SOLICITACAO_RECURSO', 'OPERACAO_SOL_RECURSO',\n",
       "       'DAT_LANCAMENTO', 'DAT_ULT_ALTERACAO', 'TIPO_ULT_ALTERACAO',\n",
       "       'ULTIMA_ATUALIZACAO_RELATORIO', 'cnpj_raiz',\n",
       "       'nome_infrator_semacentos'],\n",
       "      dtype='object')"
      ]
     },
     "execution_count": 18,
     "metadata": {},
     "output_type": "execute_result"
    }
   ],
   "source": [
    "autos_ibama_pj.columns"
   ]
  },
  {
   "cell_type": "code",
   "execution_count": 19,
   "id": "d4c454f8-9d4b-4ceb-9053-76c74a3d8af1",
   "metadata": {},
   "outputs": [],
   "source": [
    "empresas_ibama = pd.merge(empresas_politicos.drop_duplicates('cnpj_basico_x'), autos_ibama_pj.drop_duplicates('cnpj_raiz'), left_on='cnpj_basico_x', right_on='cnpj_raiz', how = 'left')"
   ]
  },
  {
   "cell_type": "code",
   "execution_count": 20,
   "id": "6e0676a0-b710-4337-8f3c-91b275c87381",
   "metadata": {},
   "outputs": [
    {
     "data": {
      "text/plain": [
       "(7, 58)"
      ]
     },
     "execution_count": 20,
     "metadata": {},
     "output_type": "execute_result"
    }
   ],
   "source": [
    "conta = empresas_ibama[pd.notnull(empresas_ibama['CPF_CNPJ_INFRATOR'])].copy()\n",
    "conta.shape"
   ]
  },
  {
   "cell_type": "code",
   "execution_count": 21,
   "id": "eea6d708-286b-40d4-82ee-a67f9fab79b3",
   "metadata": {},
   "outputs": [],
   "source": [
    "conta.to_excel('resultados/empresas_autos/empresas de deputados em autos do Ibama.xlsx',sheet_name='Sheet1',index=False)"
   ]
  },
  {
   "cell_type": "code",
   "execution_count": null,
   "id": "3a01931d-e8fb-4dad-8bb0-4c98e54ff895",
   "metadata": {},
   "outputs": [],
   "source": []
  },
  {
   "cell_type": "code",
   "execution_count": 22,
   "id": "472f655d-6a07-4e86-821e-40f8b386abb5",
   "metadata": {},
   "outputs": [
    {
     "data": {
      "text/plain": [
       "Index(['nome', 'nome_urna', 'politico_id', 'cpf_mascarado', 'cnpj',\n",
       "       'cnpj_basico_x', 'nome_socio', 'cnpj_cpf_socio', 'nome_fantasia',\n",
       "       'situacao_cadastral', 'cnae_fiscal', 'cnae_fiscal_secundaria', 'uf',\n",
       "       'municipio', 'SEQ_AUTO_INFRACAO', 'NUM_AUTO_INFRACAO',\n",
       "       'SER_AUTO_INFRACAO', 'TIPO_AUTO', 'TIPO_MULTA', 'VAL_AUTO_INFRACAO',\n",
       "       'PATRIMONIO_APURACAO', 'GRAVIDADE_INFRACAO', 'UNID_ARRECADACAO',\n",
       "       'DES_AUTO_INFRACAO', 'DAT_HORA_AUTO_INFRACAO', 'FORMA_ENTREGA',\n",
       "       'DAT_CIENCIA_AUTUACAO', 'COD_MUNICIPIO', 'MUNICIPIO', 'UF',\n",
       "       'NUM_PROCESSO', 'COD_INFRACAO', 'DES_INFRACAO', 'TIPO_INFRACAO',\n",
       "       'NOME_INFRATOR', 'CPF_CNPJ_INFRATOR', 'QTD_AREA', 'INFRACAO_AREA',\n",
       "       'DES_OUTROS_TIPO_AREA', 'CLASSIFICACAO_AREA', 'NUM_LATITUDE_AUTO',\n",
       "       'NUM_LONGITUDE_AUTO', 'DES_LOCAL_INFRACAO', 'NOTIFICACAO_VINCULADA',\n",
       "       'ACAO_FISCALIZATORIA', 'UNID_CONTROLE', 'TIPO_ACAO', 'OPERACAO',\n",
       "       'DENUNCIA_SISLIV', 'ORDEM_FISCALIZACAO', 'SOLICITACAO_RECURSO',\n",
       "       'OPERACAO_SOL_RECURSO', 'DAT_LANCAMENTO', 'DAT_ULT_ALTERACAO',\n",
       "       'TIPO_ULT_ALTERACAO', 'ULTIMA_ATUALIZACAO_RELATORIO', 'cnpj_raiz',\n",
       "       'nome_infrator_semacentos'],\n",
       "      dtype='object')"
      ]
     },
     "execution_count": 22,
     "metadata": {},
     "output_type": "execute_result"
    }
   ],
   "source": [
    "conta.columns"
   ]
  },
  {
   "cell_type": "code",
   "execution_count": 23,
   "id": "b41803de-3ae9-41eb-98c0-b0468f43bb5b",
   "metadata": {},
   "outputs": [],
   "source": [
    "conta.rename(columns = {'cnpj':'entidade_id'},inplace = True)\n",
    "conta.rename(columns = {'nome':'politico_nome'},inplace = True)\n",
    "conta.rename(columns = {'NOME_INFRATOR':'entidade_nome'},inplace = True)"
   ]
  },
  {
   "cell_type": "code",
   "execution_count": 24,
   "id": "ca63b7ba-23e2-4880-928c-92fcf4962676",
   "metadata": {},
   "outputs": [],
   "source": [
    "conta = conta[['politico_id', 'entidade_id', 'politico_nome', 'entidade_nome']]"
   ]
  },
  {
   "cell_type": "code",
   "execution_count": 25,
   "id": "1181241b-3788-421d-ab12-153643678e4b",
   "metadata": {},
   "outputs": [],
   "source": [
    "conta.to_csv('resultados/empresas_autos/empresas de deputados em autos do Ibama.csv',index=False)"
   ]
  },
  {
   "cell_type": "code",
   "execution_count": null,
   "id": "644e4fa1-8e68-4945-b699-9a5b59c7196c",
   "metadata": {},
   "outputs": [],
   "source": []
  },
  {
   "cell_type": "code",
   "execution_count": null,
   "id": "9ee508bb-b17f-4c76-8ea0-6e7cf7c6c296",
   "metadata": {},
   "outputs": [],
   "source": []
  },
  {
   "cell_type": "code",
   "execution_count": null,
   "id": "c0e9094a-34b0-4aa7-b744-09387b42868a",
   "metadata": {},
   "outputs": [],
   "source": [
    "# Procura sócio de empresas de deputados em autos do Ibama"
   ]
  },
  {
   "cell_type": "code",
   "execution_count": 26,
   "id": "ae1005c0-0e35-4c20-aa09-a8e12b25d2e2",
   "metadata": {},
   "outputs": [
    {
     "data": {
      "text/plain": [
       "Index(['cnpj', 'cnpj_basico_x', 'cnpj_basico', 'identificador_de_socio',\n",
       "       'nome_socio', 'cnpj_cpf_socio', 'qualificacao_socio', 'pais',\n",
       "       'representante_legal', 'nome_representante'],\n",
       "      dtype='object')"
      ]
     },
     "execution_count": 26,
     "metadata": {},
     "output_type": "execute_result"
    }
   ],
   "source": [
    "empresas_politicos_socios.columns"
   ]
  },
  {
   "cell_type": "code",
   "execution_count": 27,
   "id": "a657d7ed-71ef-4c72-ab4f-d3b8ea1425f9",
   "metadata": {},
   "outputs": [
    {
     "data": {
      "text/plain": [
       "0          ***564768**\n",
       "1          ***921272**\n",
       "2          ***001738**\n",
       "3          ***381948**\n",
       "4          ***916458**\n",
       "             ...      \n",
       "2096       ***148156**\n",
       "2097       ***858106**\n",
       "2098    17845504000105\n",
       "2099       ***167658**\n",
       "2100       ***070616**\n",
       "Name: cnpj_cpf_socio, Length: 2101, dtype: object"
      ]
     },
     "execution_count": 27,
     "metadata": {},
     "output_type": "execute_result"
    }
   ],
   "source": [
    "empresas_politicos_socios['cnpj_cpf_socio']"
   ]
  },
  {
   "cell_type": "code",
   "execution_count": 28,
   "id": "594cf78f-1058-41d5-b3f5-10add1dd03d9",
   "metadata": {},
   "outputs": [
    {
     "data": {
      "text/plain": [
       "3         ***909373**\n",
       "4         ***185942**\n",
       "5         ***897531**\n",
       "7         ***768643**\n",
       "8         ***528073**\n",
       "             ...     \n",
       "618511    ***128262**\n",
       "618512    ***128262**\n",
       "618513    ***133917**\n",
       "618514    ***133917**\n",
       "618517    ***245052**\n",
       "Name: CPF_CNPJ_INFRATOR, Length: 400169, dtype: object"
      ]
     },
     "execution_count": 28,
     "metadata": {},
     "output_type": "execute_result"
    }
   ],
   "source": [
    " autos_ibama_pf['CPF_CNPJ_INFRATOR']"
   ]
  },
  {
   "cell_type": "code",
   "execution_count": 29,
   "id": "7d5bd862-3244-4298-94d4-00d87cd5b41d",
   "metadata": {},
   "outputs": [],
   "source": [
    "socios_ibama = pd.merge(empresas_politicos_socios.drop_duplicates('cnpj_cpf_socio'), autos_ibama_pf.drop_duplicates('CPF_CNPJ_INFRATOR'), left_on=['cnpj_cpf_socio', 'nome_socio'], right_on=['CPF_CNPJ_INFRATOR','NOME_INFRATOR'], how = 'left')"
   ]
  },
  {
   "cell_type": "code",
   "execution_count": 30,
   "id": "9104388e-f5b1-488c-ba54-a47849c7499f",
   "metadata": {},
   "outputs": [
    {
     "data": {
      "text/plain": [
       "(24, 54)"
      ]
     },
     "execution_count": 30,
     "metadata": {},
     "output_type": "execute_result"
    }
   ],
   "source": [
    "conta = socios_ibama[pd.notnull(socios_ibama['CPF_CNPJ_INFRATOR'])].copy()\n",
    "conta.shape"
   ]
  },
  {
   "cell_type": "code",
   "execution_count": 32,
   "id": "0a699138-e713-4407-a801-8489f379a38b",
   "metadata": {},
   "outputs": [],
   "source": [
    "conta.to_excel('resultados/empresas_autos/sócios de empresas de deputados em autos do Ibama.xlsx',sheet_name='Sheet1',index=False)"
   ]
  },
  {
   "cell_type": "code",
   "execution_count": null,
   "id": "d8549b30-417c-4f0c-8721-40119433d08c",
   "metadata": {},
   "outputs": [],
   "source": []
  },
  {
   "cell_type": "code",
   "execution_count": 33,
   "id": "52f99651-df4a-46f2-91e2-d859df5cf18f",
   "metadata": {},
   "outputs": [
    {
     "data": {
      "text/plain": [
       "Index(['cnpj', 'cnpj_basico_x', 'cnpj_basico', 'identificador_de_socio',\n",
       "       'nome_socio', 'cnpj_cpf_socio', 'qualificacao_socio', 'pais',\n",
       "       'representante_legal', 'nome_representante', 'SEQ_AUTO_INFRACAO',\n",
       "       'NUM_AUTO_INFRACAO', 'SER_AUTO_INFRACAO', 'TIPO_AUTO', 'TIPO_MULTA',\n",
       "       'VAL_AUTO_INFRACAO', 'PATRIMONIO_APURACAO', 'GRAVIDADE_INFRACAO',\n",
       "       'UNID_ARRECADACAO', 'DES_AUTO_INFRACAO', 'DAT_HORA_AUTO_INFRACAO',\n",
       "       'FORMA_ENTREGA', 'DAT_CIENCIA_AUTUACAO', 'COD_MUNICIPIO', 'MUNICIPIO',\n",
       "       'UF', 'NUM_PROCESSO', 'COD_INFRACAO', 'DES_INFRACAO', 'TIPO_INFRACAO',\n",
       "       'NOME_INFRATOR', 'CPF_CNPJ_INFRATOR', 'QTD_AREA', 'INFRACAO_AREA',\n",
       "       'DES_OUTROS_TIPO_AREA', 'CLASSIFICACAO_AREA', 'NUM_LATITUDE_AUTO',\n",
       "       'NUM_LONGITUDE_AUTO', 'DES_LOCAL_INFRACAO', 'NOTIFICACAO_VINCULADA',\n",
       "       'ACAO_FISCALIZATORIA', 'UNID_CONTROLE', 'TIPO_ACAO', 'OPERACAO',\n",
       "       'DENUNCIA_SISLIV', 'ORDEM_FISCALIZACAO', 'SOLICITACAO_RECURSO',\n",
       "       'OPERACAO_SOL_RECURSO', 'DAT_LANCAMENTO', 'DAT_ULT_ALTERACAO',\n",
       "       'TIPO_ULT_ALTERACAO', 'ULTIMA_ATUALIZACAO_RELATORIO', 'cnpj_raiz',\n",
       "       'nome_infrator_semacentos'],\n",
       "      dtype='object')"
      ]
     },
     "execution_count": 33,
     "metadata": {},
     "output_type": "execute_result"
    }
   ],
   "source": [
    "conta.columns"
   ]
  },
  {
   "cell_type": "code",
   "execution_count": 34,
   "id": "cad8c133-8443-4f5e-9243-38b6663cd80f",
   "metadata": {},
   "outputs": [],
   "source": [
    "conta.rename(columns = {'cnpj_cpf_socio':'entidade_id'},inplace = True)\n",
    "conta.rename(columns = {'nome_socio':'entidade_nome'},inplace = True)"
   ]
  },
  {
   "cell_type": "code",
   "execution_count": 35,
   "id": "a69b4782-b938-4bdc-ac37-3651a93c72c7",
   "metadata": {},
   "outputs": [],
   "source": [
    "conta = conta[['entidade_id', 'entidade_nome']]"
   ]
  },
  {
   "cell_type": "code",
   "execution_count": 36,
   "id": "a67b3dce-60e4-4237-9978-38392c6abdb4",
   "metadata": {},
   "outputs": [],
   "source": [
    "conta.to_csv('resultados/empresas_autos/sócios de empresas de deputados em autos do Ibama.csv',index=False)"
   ]
  },
  {
   "cell_type": "code",
   "execution_count": null,
   "id": "70b142ed-b1f0-423e-92bd-e03b0f86c368",
   "metadata": {},
   "outputs": [],
   "source": []
  }
 ],
 "metadata": {
  "kernelspec": {
   "display_name": "Python 3",
   "language": "python",
   "name": "python3"
  },
  "language_info": {
   "codemirror_mode": {
    "name": "ipython",
    "version": 3
   },
   "file_extension": ".py",
   "mimetype": "text/x-python",
   "name": "python",
   "nbconvert_exporter": "python",
   "pygments_lexer": "ipython3",
   "version": "3.8.2"
  }
 },
 "nbformat": 4,
 "nbformat_minor": 5
}
