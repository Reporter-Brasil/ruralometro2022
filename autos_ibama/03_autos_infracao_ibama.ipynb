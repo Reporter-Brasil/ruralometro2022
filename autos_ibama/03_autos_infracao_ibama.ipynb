{
 "cells": [
  {
   "cell_type": "code",
   "execution_count": null,
   "id": "a6bc2d2f-6eae-4be9-9fad-5ed2648a3bc1",
   "metadata": {},
   "outputs": [],
   "source": [
    "# -*- coding: utf-8\n",
    "# Repórter Brasil (https://ruralometro2022.reporterbrasil.org.br/)\n",
    "# Reinaldo Chaves (@paidatocandeira)\n",
    "# Faz o cruzamento de deputados e doações - para saber deputados que podem estar nos autos de infração do Ibama ou doadores que estão na lista de autos\n",
    "# Dados em https://dadosabertos.ibama.gov.br/dataset/fiscalizacao-auto-de-infracao/resource/b2aba344-95df-43c0-b2ba-f4353cfd9a00"
   ]
  },
  {
   "cell_type": "code",
   "execution_count": null,
   "id": "fd60d335-f027-4466-bc2f-8f43d2d7d6cf",
   "metadata": {},
   "outputs": [],
   "source": []
  },
  {
   "cell_type": "code",
   "execution_count": 1,
   "id": "dd7627ab-a5ca-44cc-a8b9-56635b19b1bd",
   "metadata": {},
   "outputs": [],
   "source": [
    "import pandas as pd\n",
    "import unidecode\n",
    "from datetime import date"
   ]
  },
  {
   "cell_type": "code",
   "execution_count": null,
   "id": "61f9bbd6-ec79-4b18-97ea-9f778ede439a",
   "metadata": {},
   "outputs": [],
   "source": []
  },
  {
   "cell_type": "code",
   "execution_count": 2,
   "id": "a58a9235-114e-4cca-b65a-056fbdc527c2",
   "metadata": {},
   "outputs": [],
   "source": [
    "def f(str):\n",
    "    try:\n",
    "        return (unidecode.unidecode(str))\n",
    "    except:\n",
    "        return (str)"
   ]
  },
  {
   "cell_type": "code",
   "execution_count": null,
   "id": "e7c2d392-e99f-4dce-9281-aa39fb5e3388",
   "metadata": {},
   "outputs": [],
   "source": []
  },
  {
   "cell_type": "code",
   "execution_count": 3,
   "id": "f3ae67e4-1749-4e87-a2e1-4327b611f094",
   "metadata": {},
   "outputs": [],
   "source": [
    "kwargs = {'sep': ';', 'dtype': str, 'encoding': 'utf-8'}\n",
    "autos_ibama = pd.read_csv(\"originais/auto_infracao_ibama_16_fev_2022.csv\", **kwargs)"
   ]
  },
  {
   "cell_type": "code",
   "execution_count": null,
   "id": "1969052e-9795-4806-8027-993010a267cb",
   "metadata": {},
   "outputs": [],
   "source": []
  },
  {
   "cell_type": "code",
   "execution_count": 4,
   "id": "422ddf1d-fecd-42cb-bf7f-0e0c5650c97d",
   "metadata": {},
   "outputs": [
    {
     "data": {
      "text/html": [
       "<div>\n",
       "<style scoped>\n",
       "    .dataframe tbody tr th:only-of-type {\n",
       "        vertical-align: middle;\n",
       "    }\n",
       "\n",
       "    .dataframe tbody tr th {\n",
       "        vertical-align: top;\n",
       "    }\n",
       "\n",
       "    .dataframe thead th {\n",
       "        text-align: right;\n",
       "    }\n",
       "</style>\n",
       "<table border=\"1\" class=\"dataframe\">\n",
       "  <thead>\n",
       "    <tr style=\"text-align: right;\">\n",
       "      <th></th>\n",
       "      <th>NUM_AUTO_INFRACAO</th>\n",
       "      <th>SEQ_AUTO_INFRACAO</th>\n",
       "      <th>DAT_HORA_AUTO_INFRACAO</th>\n",
       "      <th>DAT_ULT_ALTERACAO</th>\n",
       "    </tr>\n",
       "  </thead>\n",
       "  <tbody>\n",
       "    <tr>\n",
       "      <th>215443</th>\n",
       "      <td>50762</td>\n",
       "      <td>723555</td>\n",
       "      <td>14/05/1998 00:00:00</td>\n",
       "      <td>1980-02-01</td>\n",
       "    </tr>\n",
       "    <tr>\n",
       "      <th>215442</th>\n",
       "      <td>50763</td>\n",
       "      <td>723554</td>\n",
       "      <td>18/05/1998 00:00:00</td>\n",
       "      <td>1980-02-01</td>\n",
       "    </tr>\n",
       "    <tr>\n",
       "      <th>195725</th>\n",
       "      <td>108506</td>\n",
       "      <td>700688</td>\n",
       "      <td>16/12/1998 00:00:00</td>\n",
       "      <td>1980-04-01</td>\n",
       "    </tr>\n",
       "    <tr>\n",
       "      <th>128184</th>\n",
       "      <td>56376</td>\n",
       "      <td>577628</td>\n",
       "      <td>10/07/1998 00:00:00</td>\n",
       "      <td>1980-04-01</td>\n",
       "    </tr>\n",
       "    <tr>\n",
       "      <th>195726</th>\n",
       "      <td>108318</td>\n",
       "      <td>700689</td>\n",
       "      <td>01/12/1998 00:00:00</td>\n",
       "      <td>1980-04-01</td>\n",
       "    </tr>\n",
       "    <tr>\n",
       "      <th>...</th>\n",
       "      <td>...</td>\n",
       "      <td>...</td>\n",
       "      <td>...</td>\n",
       "      <td>...</td>\n",
       "    </tr>\n",
       "    <tr>\n",
       "      <th>617267</th>\n",
       "      <td>10486463000169</td>\n",
       "      <td>AGRÍCOLAS LTDA</td>\n",
       "      <td>NaN</td>\n",
       "      <td>NaT</td>\n",
       "    </tr>\n",
       "    <tr>\n",
       "      <th>617504</th>\n",
       "      <td>VJ2NZZTR</td>\n",
       "      <td>NaN</td>\n",
       "      <td>24/11/2020 15:01:19</td>\n",
       "      <td>NaT</td>\n",
       "    </tr>\n",
       "    <tr>\n",
       "      <th>617505</th>\n",
       "      <td>61064929000179</td>\n",
       "      <td>S.A.</td>\n",
       "      <td>NaN</td>\n",
       "      <td>NaT</td>\n",
       "    </tr>\n",
       "    <tr>\n",
       "      <th>617710</th>\n",
       "      <td>WF46BQG6</td>\n",
       "      <td>NaN</td>\n",
       "      <td>24/11/2020 16:35:26</td>\n",
       "      <td>NaT</td>\n",
       "    </tr>\n",
       "    <tr>\n",
       "      <th>617711</th>\n",
       "      <td>03964950000124</td>\n",
       "      <td>PRODTOS.QUÍMICOS LTDA.</td>\n",
       "      <td>NaN</td>\n",
       "      <td>NaT</td>\n",
       "    </tr>\n",
       "  </tbody>\n",
       "</table>\n",
       "<p>618518 rows × 4 columns</p>\n",
       "</div>"
      ],
      "text/plain": [
       "       NUM_AUTO_INFRACAO       SEQ_AUTO_INFRACAO DAT_HORA_AUTO_INFRACAO  \\\n",
       "215443             50762                  723555    14/05/1998 00:00:00   \n",
       "215442             50763                  723554    18/05/1998 00:00:00   \n",
       "195725            108506                  700688    16/12/1998 00:00:00   \n",
       "128184             56376                  577628    10/07/1998 00:00:00   \n",
       "195726            108318                  700689    01/12/1998 00:00:00   \n",
       "...                  ...                     ...                    ...   \n",
       "617267    10486463000169          AGRÍCOLAS LTDA                    NaN   \n",
       "617504          VJ2NZZTR                     NaN    24/11/2020 15:01:19   \n",
       "617505    61064929000179                    S.A.                    NaN   \n",
       "617710          WF46BQG6                     NaN    24/11/2020 16:35:26   \n",
       "617711    03964950000124  PRODTOS.QUÍMICOS LTDA.                    NaN   \n",
       "\n",
       "       DAT_ULT_ALTERACAO  \n",
       "215443        1980-02-01  \n",
       "215442        1980-02-01  \n",
       "195725        1980-04-01  \n",
       "128184        1980-04-01  \n",
       "195726        1980-04-01  \n",
       "...                  ...  \n",
       "617267               NaT  \n",
       "617504               NaT  \n",
       "617505               NaT  \n",
       "617710               NaT  \n",
       "617711               NaT  \n",
       "\n",
       "[618518 rows x 4 columns]"
      ]
     },
     "execution_count": 4,
     "metadata": {},
     "output_type": "execute_result"
    }
   ],
   "source": [
    "autos_ibama['DAT_ULT_ALTERACAO'] = pd.to_datetime(autos_ibama['DAT_ULT_ALTERACAO'])\n",
    "autos_ibama = autos_ibama.sort_values(by=\"DAT_ULT_ALTERACAO\")\n",
    "autos_ibama[['NUM_AUTO_INFRACAO', 'SEQ_AUTO_INFRACAO', 'DAT_HORA_AUTO_INFRACAO', 'DAT_ULT_ALTERACAO']]"
   ]
  },
  {
   "cell_type": "code",
   "execution_count": null,
   "id": "f17dceb8-d92e-4d12-8bf4-5f352762d483",
   "metadata": {},
   "outputs": [],
   "source": []
  },
  {
   "cell_type": "code",
   "execution_count": 5,
   "id": "3849459a-e17f-4a32-9fc4-54866df24645",
   "metadata": {},
   "outputs": [],
   "source": [
    "autos_ibama = autos_ibama.drop_duplicates(\"NUM_AUTO_INFRACAO\", keep='last').copy()"
   ]
  },
  {
   "cell_type": "code",
   "execution_count": null,
   "id": "0323c602-74ca-45e5-ae5a-8450985ad473",
   "metadata": {},
   "outputs": [],
   "source": []
  },
  {
   "cell_type": "code",
   "execution_count": 6,
   "id": "dda32992-ea5d-4f01-8ade-210a21e826db",
   "metadata": {},
   "outputs": [
    {
     "name": "stdout",
     "output_type": "stream",
     "text": [
      "<class 'pandas.core.frame.DataFrame'>\n",
      "Int64Index: 542776 entries, 215443 to 617711\n",
      "Data columns (total 42 columns):\n",
      " #   Column                        Non-Null Count   Dtype         \n",
      "---  ------                        --------------   -----         \n",
      " 0   SEQ_AUTO_INFRACAO             539130 non-null  object        \n",
      " 1   NUM_AUTO_INFRACAO             542776 non-null  object        \n",
      " 2   SER_AUTO_INFRACAO             521522 non-null  object        \n",
      " 3   TIPO_AUTO                     542764 non-null  object        \n",
      " 4   TIPO_MULTA                    101615 non-null  object        \n",
      " 5   VAL_AUTO_INFRACAO             540732 non-null  object        \n",
      " 6   PATRIMONIO_APURACAO           2845 non-null    object        \n",
      " 7   GRAVIDADE_INFRACAO            9275 non-null    object        \n",
      " 8   UNID_ARRECADACAO              539130 non-null  object        \n",
      " 9   DES_AUTO_INFRACAO             529870 non-null  object        \n",
      " 10  DAT_HORA_AUTO_INFRACAO        542771 non-null  object        \n",
      " 11  FORMA_ENTREGA                 136391 non-null  object        \n",
      " 12  DAT_CIENCIA_AUTUACAO          339779 non-null  object        \n",
      " 13  COD_MUNICIPIO                 542771 non-null  object        \n",
      " 14  MUNICIPIO                     542771 non-null  object        \n",
      " 15  UF                            542771 non-null  object        \n",
      " 16  NUM_PROCESSO                  533009 non-null  object        \n",
      " 17  COD_INFRACAO                  542771 non-null  object        \n",
      " 18  DES_INFRACAO                  542748 non-null  object        \n",
      " 19  TIPO_INFRACAO                 542776 non-null  object        \n",
      " 20  NOME_INFRATOR                 542074 non-null  object        \n",
      " 21  CPF_CNPJ_INFRATOR             525101 non-null  object        \n",
      " 22  QTD_AREA                      33039 non-null   object        \n",
      " 23  INFRACAO_AREA                 102257 non-null  object        \n",
      " 24  DES_OUTROS_TIPO_AREA          82 non-null      object        \n",
      " 25  CLASSIFICACAO_AREA            126370 non-null  object        \n",
      " 26  NUM_LATITUDE_AUTO             209689 non-null  object        \n",
      " 27  NUM_LONGITUDE_AUTO            210368 non-null  object        \n",
      " 28  DES_LOCAL_INFRACAO            136242 non-null  object        \n",
      " 29  NOTIFICACAO_VINCULADA         539125 non-null  object        \n",
      " 30  ACAO_FISCALIZATORIA           102789 non-null  object        \n",
      " 31  UNID_CONTROLE                 465978 non-null  object        \n",
      " 32  TIPO_ACAO                     147413 non-null  object        \n",
      " 33  OPERACAO                      32712 non-null   object        \n",
      " 34  DENUNCIA_SISLIV               539125 non-null  object        \n",
      " 35  ORDEM_FISCALIZACAO            114187 non-null  object        \n",
      " 36  SOLICITACAO_RECURSO           34057 non-null   object        \n",
      " 37  OPERACAO_SOL_RECURSO          34057 non-null   object        \n",
      " 38  DAT_LANCAMENTO                538745 non-null  object        \n",
      " 39  DAT_ULT_ALTERACAO             539956 non-null  datetime64[ns]\n",
      " 40  TIPO_ULT_ALTERACAO            536331 non-null  object        \n",
      " 41  ULTIMA_ATUALIZACAO_RELATORIO  542750 non-null  object        \n",
      "dtypes: datetime64[ns](1), object(41)\n",
      "memory usage: 178.1+ MB\n"
     ]
    }
   ],
   "source": [
    "autos_ibama.info()"
   ]
  },
  {
   "cell_type": "code",
   "execution_count": null,
   "id": "748bb61c-48e0-484f-ab84-2af88084185b",
   "metadata": {},
   "outputs": [],
   "source": []
  },
  {
   "cell_type": "code",
   "execution_count": 7,
   "id": "f5718b0f-12d8-4f18-8665-88b62e0f8bef",
   "metadata": {},
   "outputs": [
    {
     "data": {
      "text/html": [
       "<div>\n",
       "<style scoped>\n",
       "    .dataframe tbody tr th:only-of-type {\n",
       "        vertical-align: middle;\n",
       "    }\n",
       "\n",
       "    .dataframe tbody tr th {\n",
       "        vertical-align: top;\n",
       "    }\n",
       "\n",
       "    .dataframe thead th {\n",
       "        text-align: right;\n",
       "    }\n",
       "</style>\n",
       "<table border=\"1\" class=\"dataframe\">\n",
       "  <thead>\n",
       "    <tr style=\"text-align: right;\">\n",
       "      <th></th>\n",
       "      <th>SEQ_AUTO_INFRACAO</th>\n",
       "      <th>NUM_AUTO_INFRACAO</th>\n",
       "      <th>SER_AUTO_INFRACAO</th>\n",
       "      <th>TIPO_AUTO</th>\n",
       "      <th>TIPO_MULTA</th>\n",
       "      <th>VAL_AUTO_INFRACAO</th>\n",
       "      <th>PATRIMONIO_APURACAO</th>\n",
       "      <th>GRAVIDADE_INFRACAO</th>\n",
       "      <th>UNID_ARRECADACAO</th>\n",
       "      <th>DES_AUTO_INFRACAO</th>\n",
       "      <th>...</th>\n",
       "      <th>TIPO_ACAO</th>\n",
       "      <th>OPERACAO</th>\n",
       "      <th>DENUNCIA_SISLIV</th>\n",
       "      <th>ORDEM_FISCALIZACAO</th>\n",
       "      <th>SOLICITACAO_RECURSO</th>\n",
       "      <th>OPERACAO_SOL_RECURSO</th>\n",
       "      <th>DAT_LANCAMENTO</th>\n",
       "      <th>DAT_ULT_ALTERACAO</th>\n",
       "      <th>TIPO_ULT_ALTERACAO</th>\n",
       "      <th>ULTIMA_ATUALIZACAO_RELATORIO</th>\n",
       "    </tr>\n",
       "  </thead>\n",
       "  <tbody>\n",
       "    <tr>\n",
       "      <th>406581</th>\n",
       "      <td>1293758</td>\n",
       "      <td>458528</td>\n",
       "      <td>D</td>\n",
       "      <td>Multa simples</td>\n",
       "      <td>NaN</td>\n",
       "      <td>754035</td>\n",
       "      <td>NaN</td>\n",
       "      <td>NaN</td>\n",
       "      <td>ALM/GEREX</td>\n",
       "      <td>DESTRUIR 502,69 HECTARES DE FLORESTA NATIVA, O...</td>\n",
       "      <td>...</td>\n",
       "      <td>NaN</td>\n",
       "      <td>NaN</td>\n",
       "      <td>/</td>\n",
       "      <td>NaN</td>\n",
       "      <td>NaN</td>\n",
       "      <td>NaN</td>\n",
       "      <td>26/05/2008 10:18:14</td>\n",
       "      <td>2008-09-15 11:07:44</td>\n",
       "      <td>Preenchido</td>\n",
       "      <td>13/02/2022 19:02</td>\n",
       "    </tr>\n",
       "    <tr>\n",
       "      <th>71768</th>\n",
       "      <td>442776</td>\n",
       "      <td>239347</td>\n",
       "      <td>D</td>\n",
       "      <td>Multa simples</td>\n",
       "      <td>NaN</td>\n",
       "      <td>2700</td>\n",
       "      <td>NaN</td>\n",
       "      <td>NaN</td>\n",
       "      <td>PA/SUPES</td>\n",
       "      <td>VENDER 27 M3 DE MADEIRA SERRADA DA ESPÉCIE CAS...</td>\n",
       "      <td>...</td>\n",
       "      <td>NaN</td>\n",
       "      <td>NaN</td>\n",
       "      <td>/</td>\n",
       "      <td>NaN</td>\n",
       "      <td>NaN</td>\n",
       "      <td>NaN</td>\n",
       "      <td>30/09/2003 10:40:59</td>\n",
       "      <td>2003-09-30 10:40:59</td>\n",
       "      <td>Preenchido</td>\n",
       "      <td>13/02/2022 19:02</td>\n",
       "    </tr>\n",
       "    <tr>\n",
       "      <th>552915</th>\n",
       "      <td>1882784</td>\n",
       "      <td>9115321</td>\n",
       "      <td>E</td>\n",
       "      <td>Multa simples</td>\n",
       "      <td>Aberta</td>\n",
       "      <td>501500</td>\n",
       "      <td>NaN</td>\n",
       "      <td>Grave</td>\n",
       "      <td>IBAMA</td>\n",
       "      <td>Elaborar informações falsas no SISFLORA/SEMAS/...</td>\n",
       "      <td>...</td>\n",
       "      <td>Rotina</td>\n",
       "      <td>NaN</td>\n",
       "      <td>/</td>\n",
       "      <td>PA044590</td>\n",
       "      <td>039409.2016</td>\n",
       "      <td>MALHA VERDE</td>\n",
       "      <td>08/11/2016 13:51:23</td>\n",
       "      <td>2016-11-18 17:57:36</td>\n",
       "      <td>Preenchido</td>\n",
       "      <td>13/02/2022 19:02</td>\n",
       "    </tr>\n",
       "    <tr>\n",
       "      <th>161689</th>\n",
       "      <td>664977</td>\n",
       "      <td>160010</td>\n",
       "      <td>B</td>\n",
       "      <td>Multa simples</td>\n",
       "      <td>NaN</td>\n",
       "      <td>0,01</td>\n",
       "      <td>NaN</td>\n",
       "      <td>NaN</td>\n",
       "      <td>CONV/PM/SC</td>\n",
       "      <td>Pescar com a utilizacao de apetrechos, aparelh...</td>\n",
       "      <td>...</td>\n",
       "      <td>NaN</td>\n",
       "      <td>NaN</td>\n",
       "      <td>/</td>\n",
       "      <td>NaN</td>\n",
       "      <td>NaN</td>\n",
       "      <td>NaN</td>\n",
       "      <td>15/05/2006 10:45:22</td>\n",
       "      <td>2006-05-15 10:45:22</td>\n",
       "      <td>Preenchido</td>\n",
       "      <td>13/02/2022 19:02</td>\n",
       "    </tr>\n",
       "    <tr>\n",
       "      <th>434094</th>\n",
       "      <td>1457148</td>\n",
       "      <td>363084</td>\n",
       "      <td>D</td>\n",
       "      <td>Multa simples</td>\n",
       "      <td>NaN</td>\n",
       "      <td>2000</td>\n",
       "      <td>NaN</td>\n",
       "      <td>NaN</td>\n",
       "      <td>RJ/SUPES</td>\n",
       "      <td>Manter em cativeiro espécimes da fauna silvest...</td>\n",
       "      <td>...</td>\n",
       "      <td>Rotina</td>\n",
       "      <td>NaN</td>\n",
       "      <td>/</td>\n",
       "      <td>NaN</td>\n",
       "      <td>NaN</td>\n",
       "      <td>NaN</td>\n",
       "      <td>12/05/2009 14:06:36</td>\n",
       "      <td>2010-02-09 16:35:56</td>\n",
       "      <td>Preenchido</td>\n",
       "      <td>13/02/2022 19:02</td>\n",
       "    </tr>\n",
       "  </tbody>\n",
       "</table>\n",
       "<p>5 rows × 42 columns</p>\n",
       "</div>"
      ],
      "text/plain": [
       "       SEQ_AUTO_INFRACAO NUM_AUTO_INFRACAO SER_AUTO_INFRACAO      TIPO_AUTO  \\\n",
       "406581           1293758            458528                 D  Multa simples   \n",
       "71768             442776            239347                 D  Multa simples   \n",
       "552915           1882784           9115321                 E  Multa simples   \n",
       "161689            664977            160010                 B  Multa simples   \n",
       "434094           1457148            363084                 D  Multa simples   \n",
       "\n",
       "       TIPO_MULTA VAL_AUTO_INFRACAO PATRIMONIO_APURACAO GRAVIDADE_INFRACAO  \\\n",
       "406581        NaN            754035                 NaN                NaN   \n",
       "71768         NaN              2700                 NaN                NaN   \n",
       "552915     Aberta            501500                 NaN              Grave   \n",
       "161689        NaN              0,01                 NaN                NaN   \n",
       "434094        NaN              2000                 NaN                NaN   \n",
       "\n",
       "       UNID_ARRECADACAO                                  DES_AUTO_INFRACAO  \\\n",
       "406581        ALM/GEREX  DESTRUIR 502,69 HECTARES DE FLORESTA NATIVA, O...   \n",
       "71768          PA/SUPES  VENDER 27 M3 DE MADEIRA SERRADA DA ESPÉCIE CAS...   \n",
       "552915            IBAMA  Elaborar informações falsas no SISFLORA/SEMAS/...   \n",
       "161689       CONV/PM/SC  Pescar com a utilizacao de apetrechos, aparelh...   \n",
       "434094         RJ/SUPES  Manter em cativeiro espécimes da fauna silvest...   \n",
       "\n",
       "        ... TIPO_ACAO OPERACAO DENUNCIA_SISLIV ORDEM_FISCALIZACAO  \\\n",
       "406581  ...       NaN      NaN               /                NaN   \n",
       "71768   ...       NaN      NaN               /                NaN   \n",
       "552915  ...    Rotina      NaN               /           PA044590   \n",
       "161689  ...       NaN      NaN               /                NaN   \n",
       "434094  ...    Rotina      NaN               /                NaN   \n",
       "\n",
       "       SOLICITACAO_RECURSO OPERACAO_SOL_RECURSO       DAT_LANCAMENTO  \\\n",
       "406581                 NaN                  NaN  26/05/2008 10:18:14   \n",
       "71768                  NaN                  NaN  30/09/2003 10:40:59   \n",
       "552915         039409.2016          MALHA VERDE  08/11/2016 13:51:23   \n",
       "161689                 NaN                  NaN  15/05/2006 10:45:22   \n",
       "434094                 NaN                  NaN  12/05/2009 14:06:36   \n",
       "\n",
       "         DAT_ULT_ALTERACAO TIPO_ULT_ALTERACAO ULTIMA_ATUALIZACAO_RELATORIO  \n",
       "406581 2008-09-15 11:07:44         Preenchido             13/02/2022 19:02  \n",
       "71768  2003-09-30 10:40:59         Preenchido             13/02/2022 19:02  \n",
       "552915 2016-11-18 17:57:36         Preenchido             13/02/2022 19:02  \n",
       "161689 2006-05-15 10:45:22         Preenchido             13/02/2022 19:02  \n",
       "434094 2010-02-09 16:35:56         Preenchido             13/02/2022 19:02  \n",
       "\n",
       "[5 rows x 42 columns]"
      ]
     },
     "execution_count": 7,
     "metadata": {},
     "output_type": "execute_result"
    }
   ],
   "source": [
    "autos_ibama.sample(5)"
   ]
  },
  {
   "cell_type": "code",
   "execution_count": null,
   "id": "7356c51b-3f7e-4e39-9483-976b98a8bb7f",
   "metadata": {},
   "outputs": [],
   "source": []
  },
  {
   "cell_type": "code",
   "execution_count": 8,
   "id": "2cc76175-f62f-427b-867d-36a9cfc99a4b",
   "metadata": {},
   "outputs": [
    {
     "data": {
      "text/html": [
       "<div>\n",
       "<style scoped>\n",
       "    .dataframe tbody tr th:only-of-type {\n",
       "        vertical-align: middle;\n",
       "    }\n",
       "\n",
       "    .dataframe tbody tr th {\n",
       "        vertical-align: top;\n",
       "    }\n",
       "\n",
       "    .dataframe thead th {\n",
       "        text-align: right;\n",
       "    }\n",
       "</style>\n",
       "<table border=\"1\" class=\"dataframe\">\n",
       "  <thead>\n",
       "    <tr style=\"text-align: right;\">\n",
       "      <th></th>\n",
       "      <th>CPF_CNPJ_INFRATOR</th>\n",
       "      <th>NOME_INFRATOR</th>\n",
       "    </tr>\n",
       "  </thead>\n",
       "  <tbody>\n",
       "    <tr>\n",
       "      <th>122940</th>\n",
       "      <td>***785222**</td>\n",
       "      <td>ILSON GIOVANNI CARNNEIRO</td>\n",
       "    </tr>\n",
       "    <tr>\n",
       "      <th>72482</th>\n",
       "      <td>22979694000193</td>\n",
       "      <td>INDUSTRIA DE ESQUADRIAS PLENITUDE LTDA</td>\n",
       "    </tr>\n",
       "    <tr>\n",
       "      <th>309777</th>\n",
       "      <td>NaN</td>\n",
       "      <td>JOAO GONCALVES SILVA</td>\n",
       "    </tr>\n",
       "    <tr>\n",
       "      <th>479032</th>\n",
       "      <td>76641448000580</td>\n",
       "      <td>TV - TÉCNICA VIÁRIA CONSTRUÇÕES LTDA</td>\n",
       "    </tr>\n",
       "    <tr>\n",
       "      <th>135156</th>\n",
       "      <td>33412792011367</td>\n",
       "      <td>CONSTRUTORA QUEIROZ GALVÃO S/A</td>\n",
       "    </tr>\n",
       "  </tbody>\n",
       "</table>\n",
       "</div>"
      ],
      "text/plain": [
       "       CPF_CNPJ_INFRATOR                           NOME_INFRATOR\n",
       "122940       ***785222**                ILSON GIOVANNI CARNNEIRO\n",
       "72482     22979694000193  INDUSTRIA DE ESQUADRIAS PLENITUDE LTDA\n",
       "309777               NaN                    JOAO GONCALVES SILVA\n",
       "479032    76641448000580    TV - TÉCNICA VIÁRIA CONSTRUÇÕES LTDA\n",
       "135156    33412792011367          CONSTRUTORA QUEIROZ GALVÃO S/A"
      ]
     },
     "execution_count": 8,
     "metadata": {},
     "output_type": "execute_result"
    }
   ],
   "source": [
    "autos_ibama[['CPF_CNPJ_INFRATOR', 'NOME_INFRATOR']].sample(5)"
   ]
  },
  {
   "cell_type": "code",
   "execution_count": null,
   "id": "c2896e8a-5f2a-4baa-be31-a320acd418ec",
   "metadata": {},
   "outputs": [],
   "source": []
  },
  {
   "cell_type": "code",
   "execution_count": 9,
   "id": "f6ac73f5-f439-4d7c-ba48-1dcad8298736",
   "metadata": {},
   "outputs": [],
   "source": [
    "autos_ibama = autos_ibama[pd.notnull(autos_ibama['CPF_CNPJ_INFRATOR'])].copy()"
   ]
  },
  {
   "cell_type": "code",
   "execution_count": null,
   "id": "45420e47-4ea6-4e95-9705-1c33a961a53d",
   "metadata": {},
   "outputs": [],
   "source": []
  },
  {
   "cell_type": "code",
   "execution_count": 10,
   "id": "4895b793-9f99-4b99-8506-c957a5ebc5c9",
   "metadata": {},
   "outputs": [],
   "source": [
    "def limpeza1(linha):\n",
    "    documento = str(linha[\"CPF_CNPJ_INFRATOR\"])\n",
    "    if len(documento) > 11:\n",
    "        return documento[:8]\n",
    "    else:\n",
    "        return \"documento_cpf\"\n",
    "\n",
    "autos_ibama['cnpj_raiz'] = autos_ibama.apply(limpeza1, axis=1)"
   ]
  },
  {
   "cell_type": "code",
   "execution_count": null,
   "id": "7dbab42c-fccd-4f59-82b1-f42b84f5b170",
   "metadata": {},
   "outputs": [],
   "source": []
  },
  {
   "cell_type": "code",
   "execution_count": 11,
   "id": "f877124e-a556-498e-8c87-43748d89b73f",
   "metadata": {},
   "outputs": [],
   "source": [
    "autos_ibama[\"nome_infrator_semacentos\"] = autos_ibama[\"NOME_INFRATOR\"].str.upper()\n",
    "autos_ibama[\"nome_infrator_semacentos\"] = autos_ibama[\"nome_infrator_semacentos\"].apply(f)"
   ]
  },
  {
   "cell_type": "code",
   "execution_count": 12,
   "id": "bf90a3d0-4154-4b69-998a-f0a737569970",
   "metadata": {},
   "outputs": [
    {
     "data": {
      "text/html": [
       "<div>\n",
       "<style scoped>\n",
       "    .dataframe tbody tr th:only-of-type {\n",
       "        vertical-align: middle;\n",
       "    }\n",
       "\n",
       "    .dataframe tbody tr th {\n",
       "        vertical-align: top;\n",
       "    }\n",
       "\n",
       "    .dataframe thead th {\n",
       "        text-align: right;\n",
       "    }\n",
       "</style>\n",
       "<table border=\"1\" class=\"dataframe\">\n",
       "  <thead>\n",
       "    <tr style=\"text-align: right;\">\n",
       "      <th></th>\n",
       "      <th>CPF_CNPJ_INFRATOR</th>\n",
       "      <th>NOME_INFRATOR</th>\n",
       "      <th>nome_infrator_semacentos</th>\n",
       "    </tr>\n",
       "  </thead>\n",
       "  <tbody>\n",
       "    <tr>\n",
       "      <th>45044</th>\n",
       "      <td>***386961**</td>\n",
       "      <td>UARLES FERNANDES DOS SANTOS</td>\n",
       "      <td>UARLES FERNANDES DOS SANTOS</td>\n",
       "    </tr>\n",
       "    <tr>\n",
       "      <th>375060</th>\n",
       "      <td>***023346**</td>\n",
       "      <td>GERALDO DO NASCIMENTO MOREIRA</td>\n",
       "      <td>GERALDO DO NASCIMENTO MOREIRA</td>\n",
       "    </tr>\n",
       "    <tr>\n",
       "      <th>114642</th>\n",
       "      <td>15091291000148</td>\n",
       "      <td>MARCIONEI JOSE SANDRI</td>\n",
       "      <td>MARCIONEI JOSE SANDRI</td>\n",
       "    </tr>\n",
       "    <tr>\n",
       "      <th>256647</th>\n",
       "      <td>***996566**</td>\n",
       "      <td>ANTONIO MANOEL MACHADO</td>\n",
       "      <td>ANTONIO MANOEL MACHADO</td>\n",
       "    </tr>\n",
       "    <tr>\n",
       "      <th>168471</th>\n",
       "      <td>***196789**</td>\n",
       "      <td>LIBANO PALUDO</td>\n",
       "      <td>LIBANO PALUDO</td>\n",
       "    </tr>\n",
       "  </tbody>\n",
       "</table>\n",
       "</div>"
      ],
      "text/plain": [
       "       CPF_CNPJ_INFRATOR                  NOME_INFRATOR  \\\n",
       "45044        ***386961**    UARLES FERNANDES DOS SANTOS   \n",
       "375060       ***023346**  GERALDO DO NASCIMENTO MOREIRA   \n",
       "114642    15091291000148          MARCIONEI JOSE SANDRI   \n",
       "256647       ***996566**         ANTONIO MANOEL MACHADO   \n",
       "168471       ***196789**                  LIBANO PALUDO   \n",
       "\n",
       "             nome_infrator_semacentos  \n",
       "45044     UARLES FERNANDES DOS SANTOS  \n",
       "375060  GERALDO DO NASCIMENTO MOREIRA  \n",
       "114642          MARCIONEI JOSE SANDRI  \n",
       "256647         ANTONIO MANOEL MACHADO  \n",
       "168471                  LIBANO PALUDO  "
      ]
     },
     "execution_count": 12,
     "metadata": {},
     "output_type": "execute_result"
    }
   ],
   "source": [
    "autos_ibama[['CPF_CNPJ_INFRATOR', 'NOME_INFRATOR', 'nome_infrator_semacentos']].sample(5)"
   ]
  },
  {
   "cell_type": "code",
   "execution_count": null,
   "id": "895b9f26-53b3-4b24-a504-0855263ecf12",
   "metadata": {},
   "outputs": [],
   "source": []
  },
  {
   "cell_type": "code",
   "execution_count": 13,
   "id": "871231cf-1465-473d-b3ae-8ad0b2cc8edc",
   "metadata": {},
   "outputs": [
    {
     "data": {
      "text/html": [
       "<div>\n",
       "<style scoped>\n",
       "    .dataframe tbody tr th:only-of-type {\n",
       "        vertical-align: middle;\n",
       "    }\n",
       "\n",
       "    .dataframe tbody tr th {\n",
       "        vertical-align: top;\n",
       "    }\n",
       "\n",
       "    .dataframe thead th {\n",
       "        text-align: right;\n",
       "    }\n",
       "</style>\n",
       "<table border=\"1\" class=\"dataframe\">\n",
       "  <thead>\n",
       "    <tr style=\"text-align: right;\">\n",
       "      <th></th>\n",
       "      <th>CPF_CNPJ_INFRATOR</th>\n",
       "      <th>NOME_INFRATOR</th>\n",
       "    </tr>\n",
       "  </thead>\n",
       "  <tbody>\n",
       "    <tr>\n",
       "      <th>489999</th>\n",
       "      <td>***943702**</td>\n",
       "      <td>Helder Zahluth Barbalho</td>\n",
       "    </tr>\n",
       "  </tbody>\n",
       "</table>\n",
       "</div>"
      ],
      "text/plain": [
       "       CPF_CNPJ_INFRATOR            NOME_INFRATOR\n",
       "489999       ***943702**  Helder Zahluth Barbalho"
      ]
     },
     "execution_count": 13,
     "metadata": {},
     "output_type": "execute_result"
    }
   ],
   "source": [
    "busca = autos_ibama[(autos_ibama['CPF_CNPJ_INFRATOR'] == '***943702**')]\n",
    "busca[['CPF_CNPJ_INFRATOR', 'NOME_INFRATOR']]\t"
   ]
  },
  {
   "cell_type": "code",
   "execution_count": 15,
   "id": "59dfafbe-9919-4864-8156-20e96acade1a",
   "metadata": {},
   "outputs": [
    {
     "data": {
      "text/html": [
       "<div>\n",
       "<style scoped>\n",
       "    .dataframe tbody tr th:only-of-type {\n",
       "        vertical-align: middle;\n",
       "    }\n",
       "\n",
       "    .dataframe tbody tr th {\n",
       "        vertical-align: top;\n",
       "    }\n",
       "\n",
       "    .dataframe thead th {\n",
       "        text-align: right;\n",
       "    }\n",
       "</style>\n",
       "<table border=\"1\" class=\"dataframe\">\n",
       "  <thead>\n",
       "    <tr style=\"text-align: right;\">\n",
       "      <th></th>\n",
       "      <th>CPF_CNPJ_INFRATOR</th>\n",
       "      <th>NOME_INFRATOR</th>\n",
       "    </tr>\n",
       "  </thead>\n",
       "  <tbody>\n",
       "    <tr>\n",
       "      <th>133063</th>\n",
       "      <td>***566470**</td>\n",
       "      <td>ROMARIO DA SILVA</td>\n",
       "    </tr>\n",
       "    <tr>\n",
       "      <th>555660</th>\n",
       "      <td>***566470**</td>\n",
       "      <td>Gleizer Antonio Raminelli</td>\n",
       "    </tr>\n",
       "  </tbody>\n",
       "</table>\n",
       "</div>"
      ],
      "text/plain": [
       "       CPF_CNPJ_INFRATOR              NOME_INFRATOR\n",
       "133063       ***566470**           ROMARIO DA SILVA\n",
       "555660       ***566470**  Gleizer Antonio Raminelli"
      ]
     },
     "execution_count": 15,
     "metadata": {},
     "output_type": "execute_result"
    }
   ],
   "source": [
    "busca = autos_ibama[(autos_ibama['CPF_CNPJ_INFRATOR'] == '***566470**')]\n",
    "busca[['CPF_CNPJ_INFRATOR', 'NOME_INFRATOR']]\t"
   ]
  },
  {
   "cell_type": "code",
   "execution_count": null,
   "id": "cb04a38d-e300-4dbf-bb30-a731b9f8dfaa",
   "metadata": {},
   "outputs": [],
   "source": []
  },
  {
   "cell_type": "code",
   "execution_count": null,
   "id": "26fb0015-eadf-43cd-b25e-2976ffe10eee",
   "metadata": {},
   "outputs": [],
   "source": []
  },
  {
   "cell_type": "code",
   "execution_count": 31,
   "id": "2913220e-a4a0-4f86-a482-9aa81d268ae6",
   "metadata": {},
   "outputs": [
    {
     "data": {
      "text/html": [
       "<div>\n",
       "<style scoped>\n",
       "    .dataframe tbody tr th:only-of-type {\n",
       "        vertical-align: middle;\n",
       "    }\n",
       "\n",
       "    .dataframe tbody tr th {\n",
       "        vertical-align: top;\n",
       "    }\n",
       "\n",
       "    .dataframe thead th {\n",
       "        text-align: right;\n",
       "    }\n",
       "</style>\n",
       "<table border=\"1\" class=\"dataframe\">\n",
       "  <thead>\n",
       "    <tr style=\"text-align: right;\">\n",
       "      <th></th>\n",
       "      <th>CPF_CNPJ_INFRATOR</th>\n",
       "      <th>NOME_INFRATOR</th>\n",
       "    </tr>\n",
       "  </thead>\n",
       "  <tbody>\n",
       "    <tr>\n",
       "      <th>111763</th>\n",
       "      <td>***181259**</td>\n",
       "      <td>ELIZEU ZULMAR MAGGI SCHEFFER</td>\n",
       "    </tr>\n",
       "  </tbody>\n",
       "</table>\n",
       "</div>"
      ],
      "text/plain": [
       "       CPF_CNPJ_INFRATOR                 NOME_INFRATOR\n",
       "111763       ***181259**  ELIZEU ZULMAR MAGGI SCHEFFER"
      ]
     },
     "execution_count": 31,
     "metadata": {},
     "output_type": "execute_result"
    }
   ],
   "source": [
    "busca = autos_ibama[(autos_ibama['CPF_CNPJ_INFRATOR'] == '***181259**')]\n",
    "busca[['CPF_CNPJ_INFRATOR', 'NOME_INFRATOR']]"
   ]
  },
  {
   "cell_type": "code",
   "execution_count": null,
   "id": "c3bb747f-de78-4d1a-9747-253793aef5ee",
   "metadata": {},
   "outputs": [],
   "source": []
  },
  {
   "cell_type": "code",
   "execution_count": 16,
   "id": "83d3d0c3-9585-4a19-b546-a579c8da0f89",
   "metadata": {},
   "outputs": [
    {
     "data": {
      "text/html": [
       "<div>\n",
       "<style scoped>\n",
       "    .dataframe tbody tr th:only-of-type {\n",
       "        vertical-align: middle;\n",
       "    }\n",
       "\n",
       "    .dataframe tbody tr th {\n",
       "        vertical-align: top;\n",
       "    }\n",
       "\n",
       "    .dataframe thead th {\n",
       "        text-align: right;\n",
       "    }\n",
       "</style>\n",
       "<table border=\"1\" class=\"dataframe\">\n",
       "  <thead>\n",
       "    <tr style=\"text-align: right;\">\n",
       "      <th></th>\n",
       "      <th>SEQ_AUTO_INFRACAO</th>\n",
       "      <th>NUM_AUTO_INFRACAO</th>\n",
       "      <th>SER_AUTO_INFRACAO</th>\n",
       "      <th>TIPO_AUTO</th>\n",
       "      <th>TIPO_MULTA</th>\n",
       "      <th>VAL_AUTO_INFRACAO</th>\n",
       "      <th>PATRIMONIO_APURACAO</th>\n",
       "      <th>GRAVIDADE_INFRACAO</th>\n",
       "      <th>UNID_ARRECADACAO</th>\n",
       "      <th>DES_AUTO_INFRACAO</th>\n",
       "      <th>...</th>\n",
       "      <th>DENUNCIA_SISLIV</th>\n",
       "      <th>ORDEM_FISCALIZACAO</th>\n",
       "      <th>SOLICITACAO_RECURSO</th>\n",
       "      <th>OPERACAO_SOL_RECURSO</th>\n",
       "      <th>DAT_LANCAMENTO</th>\n",
       "      <th>DAT_ULT_ALTERACAO</th>\n",
       "      <th>TIPO_ULT_ALTERACAO</th>\n",
       "      <th>ULTIMA_ATUALIZACAO_RELATORIO</th>\n",
       "      <th>cnpj_raiz</th>\n",
       "      <th>nome_infrator_semacentos</th>\n",
       "    </tr>\n",
       "  </thead>\n",
       "  <tbody>\n",
       "    <tr>\n",
       "      <th>354836</th>\n",
       "      <td>970672</td>\n",
       "      <td>416851</td>\n",
       "      <td>D</td>\n",
       "      <td>Multa simples</td>\n",
       "      <td>NaN</td>\n",
       "      <td>3000</td>\n",
       "      <td>NaN</td>\n",
       "      <td>NaN</td>\n",
       "      <td>CONV/PM/MS</td>\n",
       "      <td>RETIRAR 30 ARVORES DA ESPECIE COQUEIRO SEM APR...</td>\n",
       "      <td>...</td>\n",
       "      <td>/</td>\n",
       "      <td>NaN</td>\n",
       "      <td>NaN</td>\n",
       "      <td>NaN</td>\n",
       "      <td>23/11/2006 16:50:28</td>\n",
       "      <td>2006-11-23 16:58:46</td>\n",
       "      <td>Preenchido</td>\n",
       "      <td>13/02/2022 19:02</td>\n",
       "      <td>documento_cpf</td>\n",
       "      <td>JOAO CARLOS DI GENIO</td>\n",
       "    </tr>\n",
       "    <tr>\n",
       "      <th>227994</th>\n",
       "      <td>737300</td>\n",
       "      <td>29519</td>\n",
       "      <td>D</td>\n",
       "      <td>Multa simples</td>\n",
       "      <td>NaN</td>\n",
       "      <td>726000</td>\n",
       "      <td>NaN</td>\n",
       "      <td>NaN</td>\n",
       "      <td>JIP/GEREX</td>\n",
       "      <td>DESMATAR 484,00 HA DE MATA NATIVA, SEM AUTORIZ...</td>\n",
       "      <td>...</td>\n",
       "      <td>/</td>\n",
       "      <td>NaN</td>\n",
       "      <td>NaN</td>\n",
       "      <td>NaN</td>\n",
       "      <td>06/06/2006 16:04:55</td>\n",
       "      <td>2008-10-21 09:13:59</td>\n",
       "      <td>Preenchido</td>\n",
       "      <td>13/02/2022 19:02</td>\n",
       "      <td>documento_cpf</td>\n",
       "      <td>JOAO CARLOS DI GENIO</td>\n",
       "    </tr>\n",
       "    <tr>\n",
       "      <th>227995</th>\n",
       "      <td>737301</td>\n",
       "      <td>29520</td>\n",
       "      <td>D</td>\n",
       "      <td>Multa simples</td>\n",
       "      <td>NaN</td>\n",
       "      <td>484000</td>\n",
       "      <td>NaN</td>\n",
       "      <td>NaN</td>\n",
       "      <td>JIP/GEREX</td>\n",
       "      <td>USAR FOGO EM 484,00 HA DE DESMATAMENTO, SEM AU...</td>\n",
       "      <td>...</td>\n",
       "      <td>/</td>\n",
       "      <td>NaN</td>\n",
       "      <td>NaN</td>\n",
       "      <td>NaN</td>\n",
       "      <td>06/06/2006 16:04:55</td>\n",
       "      <td>2008-10-21 09:16:26</td>\n",
       "      <td>Preenchido</td>\n",
       "      <td>13/02/2022 19:02</td>\n",
       "      <td>documento_cpf</td>\n",
       "      <td>JOAO CARLOS DI GENIO</td>\n",
       "    </tr>\n",
       "    <tr>\n",
       "      <th>315935</th>\n",
       "      <td>832464</td>\n",
       "      <td>106716</td>\n",
       "      <td>D</td>\n",
       "      <td>Multa simples</td>\n",
       "      <td>Fechada</td>\n",
       "      <td>4500</td>\n",
       "      <td>NaN</td>\n",
       "      <td>NaN</td>\n",
       "      <td>Dourados/Unid_Tec</td>\n",
       "      <td>SUPRESSÃO PARCIAL NA MATA CILIAR DO CÓRREGO CO...</td>\n",
       "      <td>...</td>\n",
       "      <td>/</td>\n",
       "      <td>NaN</td>\n",
       "      <td>NaN</td>\n",
       "      <td>NaN</td>\n",
       "      <td>30/03/2004 15:24:41</td>\n",
       "      <td>2014-09-24 14:43:47</td>\n",
       "      <td>Preenchido</td>\n",
       "      <td>13/02/2022 19:02</td>\n",
       "      <td>documento_cpf</td>\n",
       "      <td>JOAO CARLOS DI GENIO</td>\n",
       "    </tr>\n",
       "  </tbody>\n",
       "</table>\n",
       "<p>4 rows × 44 columns</p>\n",
       "</div>"
      ],
      "text/plain": [
       "       SEQ_AUTO_INFRACAO NUM_AUTO_INFRACAO SER_AUTO_INFRACAO      TIPO_AUTO  \\\n",
       "354836            970672            416851                 D  Multa simples   \n",
       "227994            737300             29519                 D  Multa simples   \n",
       "227995            737301             29520                 D  Multa simples   \n",
       "315935            832464            106716                 D  Multa simples   \n",
       "\n",
       "       TIPO_MULTA VAL_AUTO_INFRACAO PATRIMONIO_APURACAO GRAVIDADE_INFRACAO  \\\n",
       "354836        NaN              3000                 NaN                NaN   \n",
       "227994        NaN            726000                 NaN                NaN   \n",
       "227995        NaN            484000                 NaN                NaN   \n",
       "315935    Fechada              4500                 NaN                NaN   \n",
       "\n",
       "         UNID_ARRECADACAO                                  DES_AUTO_INFRACAO  \\\n",
       "354836         CONV/PM/MS  RETIRAR 30 ARVORES DA ESPECIE COQUEIRO SEM APR...   \n",
       "227994          JIP/GEREX  DESMATAR 484,00 HA DE MATA NATIVA, SEM AUTORIZ...   \n",
       "227995          JIP/GEREX  USAR FOGO EM 484,00 HA DE DESMATAMENTO, SEM AU...   \n",
       "315935  Dourados/Unid_Tec  SUPRESSÃO PARCIAL NA MATA CILIAR DO CÓRREGO CO...   \n",
       "\n",
       "        ... DENUNCIA_SISLIV ORDEM_FISCALIZACAO SOLICITACAO_RECURSO  \\\n",
       "354836  ...               /                NaN                 NaN   \n",
       "227994  ...               /                NaN                 NaN   \n",
       "227995  ...               /                NaN                 NaN   \n",
       "315935  ...               /                NaN                 NaN   \n",
       "\n",
       "       OPERACAO_SOL_RECURSO       DAT_LANCAMENTO   DAT_ULT_ALTERACAO  \\\n",
       "354836                  NaN  23/11/2006 16:50:28 2006-11-23 16:58:46   \n",
       "227994                  NaN  06/06/2006 16:04:55 2008-10-21 09:13:59   \n",
       "227995                  NaN  06/06/2006 16:04:55 2008-10-21 09:16:26   \n",
       "315935                  NaN  30/03/2004 15:24:41 2014-09-24 14:43:47   \n",
       "\n",
       "       TIPO_ULT_ALTERACAO ULTIMA_ATUALIZACAO_RELATORIO      cnpj_raiz  \\\n",
       "354836         Preenchido             13/02/2022 19:02  documento_cpf   \n",
       "227994         Preenchido             13/02/2022 19:02  documento_cpf   \n",
       "227995         Preenchido             13/02/2022 19:02  documento_cpf   \n",
       "315935         Preenchido             13/02/2022 19:02  documento_cpf   \n",
       "\n",
       "       nome_infrator_semacentos  \n",
       "354836     JOAO CARLOS DI GENIO  \n",
       "227994     JOAO CARLOS DI GENIO  \n",
       "227995     JOAO CARLOS DI GENIO  \n",
       "315935     JOAO CARLOS DI GENIO  \n",
       "\n",
       "[4 rows x 44 columns]"
      ]
     },
     "execution_count": 16,
     "metadata": {},
     "output_type": "execute_result"
    }
   ],
   "source": [
    "busca = autos_ibama[(autos_ibama['CPF_CNPJ_INFRATOR'] == '***824308**')]\n",
    "busca\t"
   ]
  },
  {
   "cell_type": "code",
   "execution_count": null,
   "id": "1cf08154-d599-4743-a8f7-725512789077",
   "metadata": {},
   "outputs": [],
   "source": []
  },
  {
   "cell_type": "code",
   "execution_count": null,
   "id": "bda2d7f1-029f-45eb-bf32-2de85821adf4",
   "metadata": {},
   "outputs": [],
   "source": []
  },
  {
   "cell_type": "code",
   "execution_count": null,
   "id": "a9b4bf8e-d963-4664-93e0-80e0a876a918",
   "metadata": {},
   "outputs": [],
   "source": []
  },
  {
   "cell_type": "code",
   "execution_count": null,
   "id": "999ca740-0982-47d5-ae38-99f60b89ed34",
   "metadata": {},
   "outputs": [],
   "source": []
  },
  {
   "cell_type": "code",
   "execution_count": 14,
   "id": "012faa89-6f50-4f18-8c41-6db9d2c7ccc7",
   "metadata": {},
   "outputs": [],
   "source": [
    "autos_ibama_pf = autos_ibama[(autos_ibama['cnpj_raiz'] == 'documento_cpf')]\n",
    "autos_ibama_pj = autos_ibama[(autos_ibama['cnpj_raiz'] != 'documento_cpf')]"
   ]
  },
  {
   "cell_type": "code",
   "execution_count": 15,
   "id": "a24ecb88-4683-4bda-b9e5-e158557c03a2",
   "metadata": {},
   "outputs": [
    {
     "data": {
      "text/html": [
       "<div>\n",
       "<style scoped>\n",
       "    .dataframe tbody tr th:only-of-type {\n",
       "        vertical-align: middle;\n",
       "    }\n",
       "\n",
       "    .dataframe tbody tr th {\n",
       "        vertical-align: top;\n",
       "    }\n",
       "\n",
       "    .dataframe thead th {\n",
       "        text-align: right;\n",
       "    }\n",
       "</style>\n",
       "<table border=\"1\" class=\"dataframe\">\n",
       "  <thead>\n",
       "    <tr style=\"text-align: right;\">\n",
       "      <th></th>\n",
       "      <th>SEQ_AUTO_INFRACAO</th>\n",
       "      <th>NUM_AUTO_INFRACAO</th>\n",
       "      <th>SER_AUTO_INFRACAO</th>\n",
       "      <th>TIPO_AUTO</th>\n",
       "      <th>TIPO_MULTA</th>\n",
       "      <th>VAL_AUTO_INFRACAO</th>\n",
       "      <th>PATRIMONIO_APURACAO</th>\n",
       "      <th>GRAVIDADE_INFRACAO</th>\n",
       "      <th>UNID_ARRECADACAO</th>\n",
       "      <th>DES_AUTO_INFRACAO</th>\n",
       "      <th>...</th>\n",
       "      <th>DENUNCIA_SISLIV</th>\n",
       "      <th>ORDEM_FISCALIZACAO</th>\n",
       "      <th>SOLICITACAO_RECURSO</th>\n",
       "      <th>OPERACAO_SOL_RECURSO</th>\n",
       "      <th>DAT_LANCAMENTO</th>\n",
       "      <th>DAT_ULT_ALTERACAO</th>\n",
       "      <th>TIPO_ULT_ALTERACAO</th>\n",
       "      <th>ULTIMA_ATUALIZACAO_RELATORIO</th>\n",
       "      <th>cnpj_raiz</th>\n",
       "      <th>nome_infrator_semacentos</th>\n",
       "    </tr>\n",
       "  </thead>\n",
       "  <tbody>\n",
       "  </tbody>\n",
       "</table>\n",
       "<p>0 rows × 44 columns</p>\n",
       "</div>"
      ],
      "text/plain": [
       "Empty DataFrame\n",
       "Columns: [SEQ_AUTO_INFRACAO, NUM_AUTO_INFRACAO, SER_AUTO_INFRACAO, TIPO_AUTO, TIPO_MULTA, VAL_AUTO_INFRACAO, PATRIMONIO_APURACAO, GRAVIDADE_INFRACAO, UNID_ARRECADACAO, DES_AUTO_INFRACAO, DAT_HORA_AUTO_INFRACAO, FORMA_ENTREGA, DAT_CIENCIA_AUTUACAO, COD_MUNICIPIO, MUNICIPIO, UF, NUM_PROCESSO, COD_INFRACAO, DES_INFRACAO, TIPO_INFRACAO, NOME_INFRATOR, CPF_CNPJ_INFRATOR, QTD_AREA, INFRACAO_AREA, DES_OUTROS_TIPO_AREA, CLASSIFICACAO_AREA, NUM_LATITUDE_AUTO, NUM_LONGITUDE_AUTO, DES_LOCAL_INFRACAO, NOTIFICACAO_VINCULADA, ACAO_FISCALIZATORIA, UNID_CONTROLE, TIPO_ACAO, OPERACAO, DENUNCIA_SISLIV, ORDEM_FISCALIZACAO, SOLICITACAO_RECURSO, OPERACAO_SOL_RECURSO, DAT_LANCAMENTO, DAT_ULT_ALTERACAO, TIPO_ULT_ALTERACAO, ULTIMA_ATUALIZACAO_RELATORIO, cnpj_raiz, nome_infrator_semacentos]\n",
       "Index: []\n",
       "\n",
       "[0 rows x 44 columns]"
      ]
     },
     "execution_count": 15,
     "metadata": {},
     "output_type": "execute_result"
    }
   ],
   "source": [
    "new = autos_ibama_pj[\"cnpj_raiz\"].isin([\"01463126\", \"02657326\", \"03167408\", \"04057706\", \"05904108\", \"07353227\", \"10242314\", \"12631778\", \"13134686\", \"14019929\", \"17331307\", \"21049762\", \"21129267\", \"22158240\", \"25555723\", \"26172122\", \"30202385\", \"32161939\"])\n",
    "autos_ibama_pj[new]  "
   ]
  },
  {
   "cell_type": "code",
   "execution_count": null,
   "id": "779ab83a-dc53-47b9-bbca-ba78df7e8f7c",
   "metadata": {},
   "outputs": [],
   "source": []
  },
  {
   "cell_type": "code",
   "execution_count": 14,
   "id": "ff87eda9-5069-48f0-bb1a-68ff240b1ac1",
   "metadata": {},
   "outputs": [
    {
     "data": {
      "text/plain": [
       "Index(['SEQ_AUTO_INFRACAO', 'NUM_AUTO_INFRACAO', 'SER_AUTO_INFRACAO',\n",
       "       'TIPO_AUTO', 'TIPO_MULTA', 'VAL_AUTO_INFRACAO', 'PATRIMONIO_APURACAO',\n",
       "       'GRAVIDADE_INFRACAO', 'UNID_ARRECADACAO', 'DES_AUTO_INFRACAO',\n",
       "       'DAT_HORA_AUTO_INFRACAO', 'FORMA_ENTREGA', 'DAT_CIENCIA_AUTUACAO',\n",
       "       'COD_MUNICIPIO', 'MUNICIPIO', 'UF', 'NUM_PROCESSO', 'COD_INFRACAO',\n",
       "       'DES_INFRACAO', 'TIPO_INFRACAO', 'NOME_INFRATOR', 'CPF_CNPJ_INFRATOR',\n",
       "       'QTD_AREA', 'INFRACAO_AREA', 'DES_OUTROS_TIPO_AREA',\n",
       "       'CLASSIFICACAO_AREA', 'NUM_LATITUDE_AUTO', 'NUM_LONGITUDE_AUTO',\n",
       "       'DES_LOCAL_INFRACAO', 'NOTIFICACAO_VINCULADA', 'ACAO_FISCALIZATORIA',\n",
       "       'UNID_CONTROLE', 'TIPO_ACAO', 'OPERACAO', 'DENUNCIA_SISLIV',\n",
       "       'ORDEM_FISCALIZACAO', 'SOLICITACAO_RECURSO', 'OPERACAO_SOL_RECURSO',\n",
       "       'DAT_LANCAMENTO', 'DAT_ULT_ALTERACAO', 'TIPO_ULT_ALTERACAO',\n",
       "       'ULTIMA_ATUALIZACAO_RELATORIO', 'cnpj_raiz',\n",
       "       'nome_infrator_semacentos'],\n",
       "      dtype='object')"
      ]
     },
     "execution_count": 14,
     "metadata": {},
     "output_type": "execute_result"
    }
   ],
   "source": [
    "autos_ibama_copia = autos_ibama.copy()\n",
    "autos_ibama_copia.columns"
   ]
  },
  {
   "cell_type": "code",
   "execution_count": null,
   "id": "14e331ef-4a8f-4989-a076-d4c8ae459383",
   "metadata": {},
   "outputs": [],
   "source": []
  },
  {
   "cell_type": "code",
   "execution_count": 15,
   "id": "8d352fa0-0ba0-4b4f-aba5-c3e1f785dfe4",
   "metadata": {},
   "outputs": [],
   "source": [
    "autos_ibama_copia.rename(columns = {'MUNICIPIO':'municipio'},inplace = True)\n",
    "autos_ibama_copia.rename(columns = {'TIPO_INFRACAO':'tipo_infracao'},inplace = True)\n",
    "autos_ibama_copia.rename(columns = {'DAT_HORA_AUTO_INFRACAO':'data_fiscalizacao'},inplace = True)\n",
    "autos_ibama_copia.rename(columns = {'CPF_CNPJ_INFRATOR':'entidade_id'},inplace = True)\n",
    "autos_ibama_copia.rename(columns = {'NOME_INFRATOR':'entidade_nome'},inplace = True)\n",
    "autos_ibama_copia.rename(columns = {'UF':'estado_id'},inplace = True)\n",
    "autos_ibama_copia.rename(columns = {'QTD_AREA':'tamanho_area'},inplace = True)\n",
    "autos_ibama_copia.rename(columns = {'VAL_AUTO_INFRACAO':'valor'},inplace = True)"
   ]
  },
  {
   "cell_type": "code",
   "execution_count": 16,
   "id": "815fe93f-7075-4cd1-9367-1db0b3eba819",
   "metadata": {},
   "outputs": [],
   "source": [
    "autos_ibama_copia = autos_ibama_copia[['municipio', 'tipo_infracao', 'data_fiscalizacao', 'entidade_id', 'entidade_nome', 'estado_id', 'tamanho_area', 'valor']]"
   ]
  },
  {
   "cell_type": "code",
   "execution_count": 17,
   "id": "ded9f520-096b-4fd5-84bb-6407c0b51759",
   "metadata": {},
   "outputs": [],
   "source": [
    "autos_ibama_copia.to_csv('resultados/autos_ibama/lista_entidades_autos_de_infracao_ibama.csv',index=False)"
   ]
  },
  {
   "cell_type": "code",
   "execution_count": 18,
   "id": "f0507de6-7f3c-441d-a218-7d9636778be3",
   "metadata": {},
   "outputs": [
    {
     "data": {
      "text/plain": [
       "Index(['municipio', 'tipo_infracao', 'data_fiscalizacao', 'entidade_id',\n",
       "       'entidade_nome', 'estado_id', 'tamanho_area', 'valor'],\n",
       "      dtype='object')"
      ]
     },
     "execution_count": 18,
     "metadata": {},
     "output_type": "execute_result"
    }
   ],
   "source": [
    "autos_ibama_copia.columns"
   ]
  },
  {
   "cell_type": "code",
   "execution_count": 18,
   "id": "79621e2f-27be-4ea5-8274-c2ac63958614",
   "metadata": {},
   "outputs": [],
   "source": [
    "autos_ibama.to_excel('resultados/autos_ibama/lista_autos_de_infracao_ibama_todas_colunas.xlsx',sheet_name='Sheet1',index=False)"
   ]
  },
  {
   "cell_type": "code",
   "execution_count": null,
   "id": "769f3083-fb64-4d0f-8edd-68d041031a16",
   "metadata": {},
   "outputs": [],
   "source": []
  },
  {
   "cell_type": "code",
   "execution_count": null,
   "id": "5390cd09-025b-4162-87a2-aa7ad82eba33",
   "metadata": {},
   "outputs": [],
   "source": []
  },
  {
   "cell_type": "markdown",
   "id": "36c0cb9e-5c70-46f3-bfd5-90b13af4b760",
   "metadata": {},
   "source": [
    "### Doações"
   ]
  },
  {
   "cell_type": "code",
   "execution_count": 17,
   "id": "a405e2f0-8196-4fe6-a99d-eb62dc2d6629",
   "metadata": {},
   "outputs": [],
   "source": [
    "kwargs = {'sep': ',', 'dtype': str, 'encoding': 'utf-8'}\n",
    "doacoes_2018 = pd.read_csv(\"resultados/doacoes/doacoes_geral_politicos_2018.csv\", **kwargs)"
   ]
  },
  {
   "cell_type": "code",
   "execution_count": 18,
   "id": "1b6c0128-4850-43f9-a7e2-f3467c7377d7",
   "metadata": {},
   "outputs": [
    {
     "data": {
      "text/plain": [
       "(24977, 15)"
      ]
     },
     "execution_count": 18,
     "metadata": {},
     "output_type": "execute_result"
    }
   ],
   "source": [
    "doacoes_2018.shape"
   ]
  },
  {
   "cell_type": "code",
   "execution_count": 19,
   "id": "9419f49c-6d61-44f1-819b-d56bb2ed67c2",
   "metadata": {},
   "outputs": [],
   "source": [
    "def limpeza2(linha):\n",
    "    documento = str(linha[\"NR_CPF_CNPJ_DOADOR\"])\n",
    "    if len(documento) > 11:\n",
    "        return documento[:8]\n",
    "    else:\n",
    "        return \"documento_cpf\"\n",
    "\n",
    "doacoes_2018['NR_CPF_CNPJ_DOADOR_raiz'] = doacoes_2018.apply(limpeza2, axis=1)"
   ]
  },
  {
   "cell_type": "code",
   "execution_count": 20,
   "id": "544938a8-78a3-4840-a5a0-e7bc8c9e39d8",
   "metadata": {},
   "outputs": [],
   "source": [
    "doacoes_2018_pf = doacoes_2018[(doacoes_2018['NR_CPF_CNPJ_DOADOR_raiz'] == 'documento_cpf')].copy()\n",
    "doacoes_2018_pj = doacoes_2018[(doacoes_2018['NR_CPF_CNPJ_DOADOR_raiz'] != 'documento_cpf')].copy()"
   ]
  },
  {
   "cell_type": "code",
   "execution_count": null,
   "id": "2d0fb452-bb7c-4778-a770-37f6c507e56d",
   "metadata": {},
   "outputs": [],
   "source": []
  },
  {
   "cell_type": "code",
   "execution_count": 21,
   "id": "9044af4f-bdde-474d-a993-c29098141249",
   "metadata": {},
   "outputs": [
    {
     "data": {
      "text/plain": [
       "Index(['DT_RECEITA', 'NR_CPF_CANDIDATO', 'SQ_CANDIDATO', 'NM_CANDIDATO',\n",
       "       'DS_FONTE_RECEITA', 'DS_NATUREZA_RECEITA', 'NR_CPF_CNPJ_DOADOR',\n",
       "       'NM_DOADOR_RFB', 'DS_ESFERA_PARTIDARIA_DOADOR', 'NM_PARTIDO_DOADOR',\n",
       "       'SQ_CANDIDATO_DOADOR', 'DS_CARGO_CANDIDATO_DOADOR', 'SG_PARTIDO_DOADOR',\n",
       "       'DS_RECEITA', 'VR_RECEITA', 'NR_CPF_CNPJ_DOADOR_raiz'],\n",
       "      dtype='object')"
      ]
     },
     "execution_count": 21,
     "metadata": {},
     "output_type": "execute_result"
    }
   ],
   "source": [
    "doacoes_2018.columns"
   ]
  },
  {
   "cell_type": "code",
   "execution_count": null,
   "id": "e1ca5554-36dc-46d7-89b9-9d996f473f13",
   "metadata": {},
   "outputs": [],
   "source": []
  },
  {
   "cell_type": "code",
   "execution_count": 22,
   "id": "7073ff7f-9de7-43a5-85a9-e2c01328db30",
   "metadata": {},
   "outputs": [
    {
     "data": {
      "text/html": [
       "<div>\n",
       "<style scoped>\n",
       "    .dataframe tbody tr th:only-of-type {\n",
       "        vertical-align: middle;\n",
       "    }\n",
       "\n",
       "    .dataframe tbody tr th {\n",
       "        vertical-align: top;\n",
       "    }\n",
       "\n",
       "    .dataframe thead th {\n",
       "        text-align: right;\n",
       "    }\n",
       "</style>\n",
       "<table border=\"1\" class=\"dataframe\">\n",
       "  <thead>\n",
       "    <tr style=\"text-align: right;\">\n",
       "      <th></th>\n",
       "      <th>NR_CPF_CNPJ_DOADOR</th>\n",
       "      <th>NM_DOADOR_RFB</th>\n",
       "    </tr>\n",
       "  </thead>\n",
       "  <tbody>\n",
       "    <tr>\n",
       "      <th>21878</th>\n",
       "      <td>41030335842</td>\n",
       "      <td>RHAYANE MAYHARA DUARTE BUENO</td>\n",
       "    </tr>\n",
       "    <tr>\n",
       "      <th>3947</th>\n",
       "      <td>05644130000180</td>\n",
       "      <td>COMISSAO EXECUTIVA PROVISORIA DO PARTIDO VERDE</td>\n",
       "    </tr>\n",
       "    <tr>\n",
       "      <th>1727</th>\n",
       "      <td>51250268591</td>\n",
       "      <td>ELDER DOS SANTOS VERCOSA</td>\n",
       "    </tr>\n",
       "    <tr>\n",
       "      <th>9962</th>\n",
       "      <td>01421697000137</td>\n",
       "      <td>PARTIDO SOCIALISTA BRASILEIRO</td>\n",
       "    </tr>\n",
       "    <tr>\n",
       "      <th>11615</th>\n",
       "      <td>88623327420</td>\n",
       "      <td>GERVASIO AGRIPINO MAIA</td>\n",
       "    </tr>\n",
       "  </tbody>\n",
       "</table>\n",
       "</div>"
      ],
      "text/plain": [
       "      NR_CPF_CNPJ_DOADOR                                   NM_DOADOR_RFB\n",
       "21878        41030335842                    RHAYANE MAYHARA DUARTE BUENO\n",
       "3947      05644130000180  COMISSAO EXECUTIVA PROVISORIA DO PARTIDO VERDE\n",
       "1727         51250268591                        ELDER DOS SANTOS VERCOSA\n",
       "9962      01421697000137                   PARTIDO SOCIALISTA BRASILEIRO\n",
       "11615        88623327420                          GERVASIO AGRIPINO MAIA"
      ]
     },
     "execution_count": 22,
     "metadata": {},
     "output_type": "execute_result"
    }
   ],
   "source": [
    "doacoes_2018[['NR_CPF_CNPJ_DOADOR', 'NM_DOADOR_RFB']].sample(5)"
   ]
  },
  {
   "cell_type": "code",
   "execution_count": null,
   "id": "0cedad94-9374-4c6d-86c2-f08a1172d93f",
   "metadata": {},
   "outputs": [],
   "source": []
  },
  {
   "cell_type": "code",
   "execution_count": 23,
   "id": "f8ccefc5-b59e-44cc-899e-aa1cec3ee14e",
   "metadata": {},
   "outputs": [],
   "source": [
    "# Cria coluna de CPF de doador mascarado e nomes sem acentos para cruzar depois"
   ]
  },
  {
   "cell_type": "code",
   "execution_count": 24,
   "id": "95eca611-0481-4de2-bf6c-dd8bda9b24ae",
   "metadata": {},
   "outputs": [],
   "source": [
    "doacoes_2018_pf['cpf_mascarado_doador']= '***'+doacoes_2018_pf['NR_CPF_CNPJ_DOADOR'].str[3:9]+'**'\n",
    "doacoes_2018_pf['nome_doador_semacentos'] = doacoes_2018_pf['NM_DOADOR_RFB'] \n",
    "doacoes_2018_pf[\"nome_doador_semacentos\"] = doacoes_2018_pf[\"nome_doador_semacentos\"].apply(f)"
   ]
  },
  {
   "cell_type": "code",
   "execution_count": 25,
   "id": "77f20249-fb1f-4f31-a345-213d42894521",
   "metadata": {},
   "outputs": [
    {
     "data": {
      "text/html": [
       "<div>\n",
       "<style scoped>\n",
       "    .dataframe tbody tr th:only-of-type {\n",
       "        vertical-align: middle;\n",
       "    }\n",
       "\n",
       "    .dataframe tbody tr th {\n",
       "        vertical-align: top;\n",
       "    }\n",
       "\n",
       "    .dataframe thead th {\n",
       "        text-align: right;\n",
       "    }\n",
       "</style>\n",
       "<table border=\"1\" class=\"dataframe\">\n",
       "  <thead>\n",
       "    <tr style=\"text-align: right;\">\n",
       "      <th></th>\n",
       "      <th>NR_CPF_CNPJ_DOADOR</th>\n",
       "      <th>cpf_mascarado_doador</th>\n",
       "      <th>NM_DOADOR_RFB</th>\n",
       "      <th>nome_doador_semacentos</th>\n",
       "    </tr>\n",
       "  </thead>\n",
       "  <tbody>\n",
       "    <tr>\n",
       "      <th>1194</th>\n",
       "      <td>86406353234</td>\n",
       "      <td>***063532**</td>\n",
       "      <td>LETICIA CAROLINA GUEDES COELHO MARINHO</td>\n",
       "      <td>LETICIA CAROLINA GUEDES COELHO MARINHO</td>\n",
       "    </tr>\n",
       "    <tr>\n",
       "      <th>16830</th>\n",
       "      <td>84263415272</td>\n",
       "      <td>***634152**</td>\n",
       "      <td>ENEAS ANDRADE BARBOSA</td>\n",
       "      <td>ENEAS ANDRADE BARBOSA</td>\n",
       "    </tr>\n",
       "    <tr>\n",
       "      <th>1407</th>\n",
       "      <td>06586694272</td>\n",
       "      <td>***866942**</td>\n",
       "      <td>NELCI ALBERTO LINS FERREIRA</td>\n",
       "      <td>NELCI ALBERTO LINS FERREIRA</td>\n",
       "    </tr>\n",
       "    <tr>\n",
       "      <th>7824</th>\n",
       "      <td>84719850634</td>\n",
       "      <td>***198506**</td>\n",
       "      <td>WELITON FERNANDES PRADO</td>\n",
       "      <td>WELITON FERNANDES PRADO</td>\n",
       "    </tr>\n",
       "    <tr>\n",
       "      <th>24473</th>\n",
       "      <td>18531490120</td>\n",
       "      <td>***314901**</td>\n",
       "      <td>ANTONIO CARLOS DE ALMEIDA CASTRO</td>\n",
       "      <td>ANTONIO CARLOS DE ALMEIDA CASTRO</td>\n",
       "    </tr>\n",
       "  </tbody>\n",
       "</table>\n",
       "</div>"
      ],
      "text/plain": [
       "      NR_CPF_CNPJ_DOADOR cpf_mascarado_doador  \\\n",
       "1194         86406353234          ***063532**   \n",
       "16830        84263415272          ***634152**   \n",
       "1407         06586694272          ***866942**   \n",
       "7824         84719850634          ***198506**   \n",
       "24473        18531490120          ***314901**   \n",
       "\n",
       "                                NM_DOADOR_RFB  \\\n",
       "1194   LETICIA CAROLINA GUEDES COELHO MARINHO   \n",
       "16830                   ENEAS ANDRADE BARBOSA   \n",
       "1407              NELCI ALBERTO LINS FERREIRA   \n",
       "7824                  WELITON FERNANDES PRADO   \n",
       "24473        ANTONIO CARLOS DE ALMEIDA CASTRO   \n",
       "\n",
       "                       nome_doador_semacentos  \n",
       "1194   LETICIA CAROLINA GUEDES COELHO MARINHO  \n",
       "16830                   ENEAS ANDRADE BARBOSA  \n",
       "1407              NELCI ALBERTO LINS FERREIRA  \n",
       "7824                  WELITON FERNANDES PRADO  \n",
       "24473        ANTONIO CARLOS DE ALMEIDA CASTRO  "
      ]
     },
     "execution_count": 25,
     "metadata": {},
     "output_type": "execute_result"
    }
   ],
   "source": [
    "doacoes_2018_pf[['NR_CPF_CNPJ_DOADOR', 'cpf_mascarado_doador', 'NM_DOADOR_RFB', 'nome_doador_semacentos']].sample(5)"
   ]
  },
  {
   "cell_type": "code",
   "execution_count": null,
   "id": "fcb1af13-eac6-40ef-a96a-3d975f80eac5",
   "metadata": {},
   "outputs": [],
   "source": []
  },
  {
   "cell_type": "code",
   "execution_count": 26,
   "id": "aae7b511-187b-43ff-82a7-fe37adb73237",
   "metadata": {},
   "outputs": [],
   "source": [
    "doacoes_pj_ibama = pd.merge(doacoes_2018, autos_ibama_pj.drop_duplicates('cnpj_raiz'), left_on='NR_CPF_CNPJ_DOADOR_raiz', right_on='cnpj_raiz', how = 'left')"
   ]
  },
  {
   "cell_type": "code",
   "execution_count": 27,
   "id": "80951b38-912f-4cc8-83bf-691718ce3a03",
   "metadata": {},
   "outputs": [
    {
     "data": {
      "text/plain": [
       "(24977, 60)"
      ]
     },
     "execution_count": 27,
     "metadata": {},
     "output_type": "execute_result"
    }
   ],
   "source": [
    "doacoes_pj_ibama.shape"
   ]
  },
  {
   "cell_type": "code",
   "execution_count": 28,
   "id": "9c73963b-0440-486b-b543-64cd17244032",
   "metadata": {},
   "outputs": [
    {
     "data": {
      "text/plain": [
       "(0, 60)"
      ]
     },
     "execution_count": 28,
     "metadata": {},
     "output_type": "execute_result"
    }
   ],
   "source": [
    "conta = doacoes_pj_ibama[pd.notnull(doacoes_pj_ibama['CPF_CNPJ_INFRATOR'])]\n",
    "conta.shape"
   ]
  },
  {
   "cell_type": "code",
   "execution_count": null,
   "id": "77c3e47d-7f81-453b-b595-4a9e4c23b7f1",
   "metadata": {},
   "outputs": [],
   "source": []
  },
  {
   "cell_type": "code",
   "execution_count": 75,
   "id": "37d9bf9a-1dda-41b0-bb62-f267f63a76fa",
   "metadata": {},
   "outputs": [],
   "source": [
    "# Pessoa física"
   ]
  },
  {
   "cell_type": "code",
   "execution_count": 37,
   "id": "16351f09-dc63-4985-86c9-ce451a881634",
   "metadata": {},
   "outputs": [],
   "source": [
    "doacoes_pf_ibama = pd.merge(doacoes_2018_pf, autos_ibama_pf.drop_duplicates('CPF_CNPJ_INFRATOR'), left_on=['cpf_mascarado_doador','nome_doador_semacentos'], \n",
    "                            right_on=['CPF_CNPJ_INFRATOR','nome_infrator_semacentos'], how = 'left')"
   ]
  },
  {
   "cell_type": "code",
   "execution_count": 38,
   "id": "f064c5e1-dd66-450a-92e6-7b53cb4a4cf2",
   "metadata": {},
   "outputs": [
    {
     "data": {
      "text/plain": [
       "(196, 62)"
      ]
     },
     "execution_count": 38,
     "metadata": {},
     "output_type": "execute_result"
    }
   ],
   "source": [
    "conta = doacoes_pf_ibama[pd.notnull(doacoes_pf_ibama['CPF_CNPJ_INFRATOR'])].copy()\n",
    "conta.shape"
   ]
  },
  {
   "cell_type": "code",
   "execution_count": 34,
   "id": "24d20e02-ba82-47fa-9c8f-6c5b946b570f",
   "metadata": {},
   "outputs": [],
   "source": [
    "# Com todas colunas"
   ]
  },
  {
   "cell_type": "code",
   "execution_count": 35,
   "id": "13a0d379-0f5a-428f-b27c-44ef70f260df",
   "metadata": {},
   "outputs": [],
   "source": [
    "conta.to_excel('resultados/autos_ibama/doacoes_diretas_vindas_pessoas_com_autos_de_infracao_ibama_2018.xlsx',sheet_name='Sheet1',index=False)"
   ]
  },
  {
   "cell_type": "code",
   "execution_count": null,
   "id": "1eec1d9a-f0dc-487d-a236-8dd946c4526a",
   "metadata": {},
   "outputs": [],
   "source": []
  },
  {
   "cell_type": "code",
   "execution_count": 36,
   "id": "026f7245-aabc-4d7c-a7c3-38d893723068",
   "metadata": {},
   "outputs": [],
   "source": [
    "# Versão para BD"
   ]
  },
  {
   "cell_type": "code",
   "execution_count": 39,
   "id": "7e679b2e-f0c3-4b91-a594-05375197e0da",
   "metadata": {},
   "outputs": [],
   "source": [
    "conta['doacoes_tipo'] = 'direta'"
   ]
  },
  {
   "cell_type": "code",
   "execution_count": 40,
   "id": "1656a8a2-f8b7-4209-befb-419d5221f874",
   "metadata": {},
   "outputs": [
    {
     "data": {
      "text/plain": [
       "Index(['DT_RECEITA', 'NR_CPF_CANDIDATO', 'SQ_CANDIDATO', 'NM_CANDIDATO',\n",
       "       'DS_FONTE_RECEITA', 'DS_NATUREZA_RECEITA', 'NR_CPF_CNPJ_DOADOR',\n",
       "       'NM_DOADOR_RFB', 'DS_ESFERA_PARTIDARIA_DOADOR', 'NM_PARTIDO_DOADOR',\n",
       "       'SQ_CANDIDATO_DOADOR', 'DS_CARGO_CANDIDATO_DOADOR', 'SG_PARTIDO_DOADOR',\n",
       "       'DS_RECEITA', 'VR_RECEITA', 'NR_CPF_CNPJ_DOADOR_raiz',\n",
       "       'cpf_mascarado_doador', 'nome_doador_semacentos', 'SEQ_AUTO_INFRACAO',\n",
       "       'NUM_AUTO_INFRACAO', 'SER_AUTO_INFRACAO', 'TIPO_AUTO', 'TIPO_MULTA',\n",
       "       'VAL_AUTO_INFRACAO', 'PATRIMONIO_APURACAO', 'GRAVIDADE_INFRACAO',\n",
       "       'UNID_ARRECADACAO', 'DES_AUTO_INFRACAO', 'DAT_HORA_AUTO_INFRACAO',\n",
       "       'FORMA_ENTREGA', 'DAT_CIENCIA_AUTUACAO', 'COD_MUNICIPIO', 'MUNICIPIO',\n",
       "       'UF', 'NUM_PROCESSO', 'COD_INFRACAO', 'DES_INFRACAO', 'TIPO_INFRACAO',\n",
       "       'NOME_INFRATOR', 'CPF_CNPJ_INFRATOR', 'QTD_AREA', 'INFRACAO_AREA',\n",
       "       'DES_OUTROS_TIPO_AREA', 'CLASSIFICACAO_AREA', 'NUM_LATITUDE_AUTO',\n",
       "       'NUM_LONGITUDE_AUTO', 'DES_LOCAL_INFRACAO', 'NOTIFICACAO_VINCULADA',\n",
       "       'ACAO_FISCALIZATORIA', 'UNID_CONTROLE', 'TIPO_ACAO', 'OPERACAO',\n",
       "       'DENUNCIA_SISLIV', 'ORDEM_FISCALIZACAO', 'SOLICITACAO_RECURSO',\n",
       "       'OPERACAO_SOL_RECURSO', 'DAT_LANCAMENTO', 'DAT_ULT_ALTERACAO',\n",
       "       'TIPO_ULT_ALTERACAO', 'ULTIMA_ATUALIZACAO_RELATORIO', 'cnpj_raiz',\n",
       "       'nome_infrator_semacentos', 'doacoes_tipo'],\n",
       "      dtype='object')"
      ]
     },
     "execution_count": 40,
     "metadata": {},
     "output_type": "execute_result"
    }
   ],
   "source": [
    "conta.columns"
   ]
  },
  {
   "cell_type": "code",
   "execution_count": null,
   "id": "45ac74a9-ea1e-46e4-b855-02fb7a46e851",
   "metadata": {},
   "outputs": [],
   "source": []
  },
  {
   "cell_type": "code",
   "execution_count": 41,
   "id": "6af9106e-c411-4987-9b80-9f49f02e0284",
   "metadata": {},
   "outputs": [],
   "source": [
    "conta.rename(columns = {'VR_RECEITA':'valor'},inplace = True)\n",
    "conta.rename(columns = {'NR_CPF_CANDIDATO':'politico_id'},inplace = True)\n",
    "conta.rename(columns = {'NR_CPF_CNPJ_DOADOR':'entidade_id'},inplace = True)\n",
    "conta.rename(columns = {'CPF_CNPJ_INFRATOR':'entidade_id_mascarada'},inplace = True)\n",
    "conta.rename(columns = {'nome_infrator_semacentos':'entidade_nome'},inplace = True)\n",
    "conta.rename(columns = {'DS_FONTE_RECEITA':'origem_do_dinheiro_no_tse'},inplace = True)\n",
    "conta.rename(columns = {'DT_RECEITA':'data'},inplace = True)\n",
    "#conta.rename(columns = {'NM_DOADOR_RFB':'entidade_nome'},inplace = True)"
   ]
  },
  {
   "cell_type": "code",
   "execution_count": null,
   "id": "0aca15d7-98bd-489d-a63a-b002499cf0d8",
   "metadata": {},
   "outputs": [],
   "source": []
  },
  {
   "cell_type": "code",
   "execution_count": 42,
   "id": "d322f1f6-5078-414b-9529-42c6aeef821a",
   "metadata": {},
   "outputs": [],
   "source": [
    "conta = conta[['valor', 'politico_id', 'entidade_id', 'entidade_id_mascarada', 'entidade_nome', 'doacoes_tipo', 'origem_do_dinheiro_no_tse', 'data']]"
   ]
  },
  {
   "cell_type": "code",
   "execution_count": 43,
   "id": "a4ae8805-e027-4cbe-a7ff-4372f49436fc",
   "metadata": {},
   "outputs": [
    {
     "data": {
      "text/plain": [
       "Index(['valor', 'politico_id', 'entidade_id', 'entidade_id_mascarada',\n",
       "       'entidade_nome', 'doacoes_tipo', 'origem_do_dinheiro_no_tse', 'data'],\n",
       "      dtype='object')"
      ]
     },
     "execution_count": 43,
     "metadata": {},
     "output_type": "execute_result"
    }
   ],
   "source": [
    "conta.columns"
   ]
  },
  {
   "cell_type": "code",
   "execution_count": 44,
   "id": "d711250a-d488-49a5-84dd-2df6cb1cfeeb",
   "metadata": {},
   "outputs": [
    {
     "data": {
      "text/plain": [
       "(196, 8)"
      ]
     },
     "execution_count": 44,
     "metadata": {},
     "output_type": "execute_result"
    }
   ],
   "source": [
    "conta.shape"
   ]
  },
  {
   "cell_type": "code",
   "execution_count": 45,
   "id": "7570de35-7ed6-4b2e-84fd-c67f16dff0e8",
   "metadata": {},
   "outputs": [
    {
     "data": {
      "text/html": [
       "<div>\n",
       "<style scoped>\n",
       "    .dataframe tbody tr th:only-of-type {\n",
       "        vertical-align: middle;\n",
       "    }\n",
       "\n",
       "    .dataframe tbody tr th {\n",
       "        vertical-align: top;\n",
       "    }\n",
       "\n",
       "    .dataframe thead th {\n",
       "        text-align: right;\n",
       "    }\n",
       "</style>\n",
       "<table border=\"1\" class=\"dataframe\">\n",
       "  <thead>\n",
       "    <tr style=\"text-align: right;\">\n",
       "      <th></th>\n",
       "      <th>valor</th>\n",
       "      <th>politico_id</th>\n",
       "      <th>entidade_id</th>\n",
       "      <th>entidade_id_mascarada</th>\n",
       "      <th>entidade_nome</th>\n",
       "      <th>doacoes_tipo</th>\n",
       "      <th>origem_do_dinheiro_no_tse</th>\n",
       "      <th>data</th>\n",
       "    </tr>\n",
       "  </thead>\n",
       "  <tbody>\n",
       "    <tr>\n",
       "      <th>130</th>\n",
       "      <td>1500,00</td>\n",
       "      <td>65595564253</td>\n",
       "      <td>18142532204</td>\n",
       "      <td>***425322**</td>\n",
       "      <td>JOSE ODAILSON BARRETO NASCIMENTO</td>\n",
       "      <td>direta</td>\n",
       "      <td>Outros Recursos</td>\n",
       "      <td>20/08/2018</td>\n",
       "    </tr>\n",
       "    <tr>\n",
       "      <th>133</th>\n",
       "      <td>2000,00</td>\n",
       "      <td>65595564253</td>\n",
       "      <td>35918667253</td>\n",
       "      <td>***186672**</td>\n",
       "      <td>JOSE GOMES DA SILVA</td>\n",
       "      <td>direta</td>\n",
       "      <td>Outros Recursos</td>\n",
       "      <td>20/08/2018</td>\n",
       "    </tr>\n",
       "    <tr>\n",
       "      <th>328</th>\n",
       "      <td>1500,00</td>\n",
       "      <td>63182246291</td>\n",
       "      <td>09640940291</td>\n",
       "      <td>***409402**</td>\n",
       "      <td>JOSE FELIZARDO DA SILVA</td>\n",
       "      <td>direta</td>\n",
       "      <td>Outros Recursos</td>\n",
       "      <td>14/09/2018</td>\n",
       "    </tr>\n",
       "    <tr>\n",
       "      <th>456</th>\n",
       "      <td>30000,00</td>\n",
       "      <td>01117690199</td>\n",
       "      <td>29843502787</td>\n",
       "      <td>***435027**</td>\n",
       "      <td>MARIO ROBERTO CANDIA DE FIGUEIREDO</td>\n",
       "      <td>direta</td>\n",
       "      <td>Outros Recursos</td>\n",
       "      <td>02/10/2018</td>\n",
       "    </tr>\n",
       "    <tr>\n",
       "      <th>769</th>\n",
       "      <td>900,00</td>\n",
       "      <td>13717820249</td>\n",
       "      <td>60334690200</td>\n",
       "      <td>***346902**</td>\n",
       "      <td>ELISANDRA CAMPOS ASSUNCAO</td>\n",
       "      <td>direta</td>\n",
       "      <td>Outros Recursos</td>\n",
       "      <td>28/09/2018</td>\n",
       "    </tr>\n",
       "    <tr>\n",
       "      <th>...</th>\n",
       "      <td>...</td>\n",
       "      <td>...</td>\n",
       "      <td>...</td>\n",
       "      <td>...</td>\n",
       "      <td>...</td>\n",
       "      <td>...</td>\n",
       "      <td>...</td>\n",
       "      <td>...</td>\n",
       "    </tr>\n",
       "    <tr>\n",
       "      <th>16863</th>\n",
       "      <td>2500,00</td>\n",
       "      <td>02441369806</td>\n",
       "      <td>41006151834</td>\n",
       "      <td>***061518**</td>\n",
       "      <td>JOSE RICARDO REZEK</td>\n",
       "      <td>direta</td>\n",
       "      <td>Outros Recursos</td>\n",
       "      <td>02/10/2018</td>\n",
       "    </tr>\n",
       "    <tr>\n",
       "      <th>17185</th>\n",
       "      <td>7000,00</td>\n",
       "      <td>99898659149</td>\n",
       "      <td>37119273191</td>\n",
       "      <td>***192731**</td>\n",
       "      <td>ROMES DA MOTA SOARES</td>\n",
       "      <td>direta</td>\n",
       "      <td>Outros Recursos</td>\n",
       "      <td>10/09/2018</td>\n",
       "    </tr>\n",
       "    <tr>\n",
       "      <th>17209</th>\n",
       "      <td>40000,00</td>\n",
       "      <td>99898659149</td>\n",
       "      <td>30232287600</td>\n",
       "      <td>***322876**</td>\n",
       "      <td>HERCULES OLIVEIRA RICCIOPPO</td>\n",
       "      <td>direta</td>\n",
       "      <td>Outros Recursos</td>\n",
       "      <td>24/09/2018</td>\n",
       "    </tr>\n",
       "    <tr>\n",
       "      <th>17231</th>\n",
       "      <td>2000,00</td>\n",
       "      <td>21944202153</td>\n",
       "      <td>19154089115</td>\n",
       "      <td>***540891**</td>\n",
       "      <td>JOAO BATISTA DIAS PEREIRA</td>\n",
       "      <td>direta</td>\n",
       "      <td>Outros Recursos</td>\n",
       "      <td>04/09/2018</td>\n",
       "    </tr>\n",
       "    <tr>\n",
       "      <th>17236</th>\n",
       "      <td>2000,00</td>\n",
       "      <td>43196926168</td>\n",
       "      <td>37517678191</td>\n",
       "      <td>***176781**</td>\n",
       "      <td>IOAV BLANCHE</td>\n",
       "      <td>direta</td>\n",
       "      <td>Outros Recursos</td>\n",
       "      <td>01/10/2018</td>\n",
       "    </tr>\n",
       "  </tbody>\n",
       "</table>\n",
       "<p>196 rows × 8 columns</p>\n",
       "</div>"
      ],
      "text/plain": [
       "          valor  politico_id  entidade_id entidade_id_mascarada  \\\n",
       "130     1500,00  65595564253  18142532204           ***425322**   \n",
       "133     2000,00  65595564253  35918667253           ***186672**   \n",
       "328     1500,00  63182246291  09640940291           ***409402**   \n",
       "456    30000,00  01117690199  29843502787           ***435027**   \n",
       "769      900,00  13717820249  60334690200           ***346902**   \n",
       "...         ...          ...          ...                   ...   \n",
       "16863   2500,00  02441369806  41006151834           ***061518**   \n",
       "17185   7000,00  99898659149  37119273191           ***192731**   \n",
       "17209  40000,00  99898659149  30232287600           ***322876**   \n",
       "17231   2000,00  21944202153  19154089115           ***540891**   \n",
       "17236   2000,00  43196926168  37517678191           ***176781**   \n",
       "\n",
       "                            entidade_nome doacoes_tipo  \\\n",
       "130      JOSE ODAILSON BARRETO NASCIMENTO       direta   \n",
       "133                   JOSE GOMES DA SILVA       direta   \n",
       "328               JOSE FELIZARDO DA SILVA       direta   \n",
       "456    MARIO ROBERTO CANDIA DE FIGUEIREDO       direta   \n",
       "769             ELISANDRA CAMPOS ASSUNCAO       direta   \n",
       "...                                   ...          ...   \n",
       "16863                  JOSE RICARDO REZEK       direta   \n",
       "17185                ROMES DA MOTA SOARES       direta   \n",
       "17209         HERCULES OLIVEIRA RICCIOPPO       direta   \n",
       "17231           JOAO BATISTA DIAS PEREIRA       direta   \n",
       "17236                        IOAV BLANCHE       direta   \n",
       "\n",
       "      origem_do_dinheiro_no_tse        data  \n",
       "130             Outros Recursos  20/08/2018  \n",
       "133             Outros Recursos  20/08/2018  \n",
       "328             Outros Recursos  14/09/2018  \n",
       "456             Outros Recursos  02/10/2018  \n",
       "769             Outros Recursos  28/09/2018  \n",
       "...                         ...         ...  \n",
       "16863           Outros Recursos  02/10/2018  \n",
       "17185           Outros Recursos  10/09/2018  \n",
       "17209           Outros Recursos  24/09/2018  \n",
       "17231           Outros Recursos  04/09/2018  \n",
       "17236           Outros Recursos  01/10/2018  \n",
       "\n",
       "[196 rows x 8 columns]"
      ]
     },
     "execution_count": 45,
     "metadata": {},
     "output_type": "execute_result"
    }
   ],
   "source": [
    "conta"
   ]
  },
  {
   "cell_type": "code",
   "execution_count": 46,
   "id": "25d36539-4ebe-4d33-b91d-067940c2d588",
   "metadata": {},
   "outputs": [],
   "source": [
    "conta.to_csv('resultados/autos_ibama/doacoes_diretas_vindas_pessoas_com_autos_de_infracao_ibama_2018.csv',index=False)"
   ]
  },
  {
   "cell_type": "code",
   "execution_count": null,
   "id": "ede57066-13db-43e7-9415-395789923763",
   "metadata": {},
   "outputs": [],
   "source": []
  },
  {
   "cell_type": "code",
   "execution_count": null,
   "id": "b20adb4a-ce97-4113-b1fd-0e250426b047",
   "metadata": {},
   "outputs": [],
   "source": []
  },
  {
   "cell_type": "markdown",
   "id": "d8b33657-5b08-4764-8c82-3a1c2c22f658",
   "metadata": {},
   "source": [
    "### Doações indiretas"
   ]
  },
  {
   "cell_type": "code",
   "execution_count": 47,
   "id": "db1ccc71-6191-45ff-ab6e-4632b13af242",
   "metadata": {},
   "outputs": [],
   "source": [
    "doacoes_indiretas_2018 = pd.read_excel('resultados/doacoes/doacoes_todas_indiretas_politicos_2018.xlsx', sheet_name = 'Sheet1', dtype = 'str')"
   ]
  },
  {
   "cell_type": "code",
   "execution_count": 48,
   "id": "78509128-1238-4173-8e42-1addc6bf2220",
   "metadata": {},
   "outputs": [
    {
     "data": {
      "text/plain": [
       "(2372, 68)"
      ]
     },
     "execution_count": 48,
     "metadata": {},
     "output_type": "execute_result"
    }
   ],
   "source": [
    "doacoes_indiretas_2018.shape"
   ]
  },
  {
   "cell_type": "code",
   "execution_count": 49,
   "id": "64a26ea7-b7fa-42cb-a93d-7782acd02b49",
   "metadata": {},
   "outputs": [
    {
     "data": {
      "text/plain": [
       "Index(['DT_GERACAO', 'HH_GERACAO', 'ANO_ELEICAO', 'CD_TIPO_ELEICAO',\n",
       "       'NM_TIPO_ELEICAO', 'CD_ELEICAO', 'DS_ELEICAO', 'DT_ELEICAO', 'ST_TURNO',\n",
       "       'TP_PRESTACAO_CONTAS', 'DT_PRESTACAO_CONTAS', 'SQ_PRESTADOR_CONTAS',\n",
       "       'SG_UF', 'SG_UE', 'NM_UE', 'NR_CNPJ_PRESTADOR_CONTA', 'CD_CARGO',\n",
       "       'DS_CARGO', 'SQ_CANDIDATO', 'NR_CANDIDATO', 'NM_CANDIDATO',\n",
       "       'NR_CPF_CANDIDATO', 'NR_CPF_VICE_CANDIDATO', 'NR_PARTIDO', 'SG_PARTIDO',\n",
       "       'NM_PARTIDO', 'CD_FONTE_RECEITA', 'DS_FONTE_RECEITA',\n",
       "       'CD_ORIGEM_RECEITA', 'DS_ORIGEM_RECEITA', 'CD_NATUREZA_RECEITA',\n",
       "       'DS_NATUREZA_RECEITA', 'CD_ESPECIE_RECEITA', 'DS_ESPECIE_RECEITA',\n",
       "       'CD_CNAE_DOADOR', 'DS_CNAE_DOADOR', 'NR_CPF_CNPJ_DOADOR', 'NM_DOADOR',\n",
       "       'NM_DOADOR_RFB', 'CD_ESFERA_PARTIDARIA_DOADOR',\n",
       "       'DS_ESFERA_PARTIDARIA_DOADOR', 'SG_UF_DOADOR', 'CD_MUNICIPIO_DOADOR',\n",
       "       'NM_MUNICIPIO_DOADOR', 'SQ_CANDIDATO_DOADOR', 'NR_CANDIDATO_DOADOR',\n",
       "       'CD_CARGO_CANDIDATO_DOADOR', 'DS_CARGO_CANDIDATO_DOADOR',\n",
       "       'NR_PARTIDO_DOADOR', 'SG_PARTIDO_DOADOR', 'NM_PARTIDO_DOADOR',\n",
       "       'NR_RECIBO_DOACAO', 'NR_DOCUMENTO_DOACAO', 'SQ_RECEITA', 'DT_RECEITA',\n",
       "       'DS_RECEITA', 'VR_RECEITA', 'cpf_doacoaindireta', 'nome_doacoaindireta',\n",
       "       'sq_doacoaindireta', 'nome', 'foto', 'nome_urna', 'politico_id',\n",
       "       'partido_eleicao', 'partido_atual', 'uri', 'sequencial_candidato'],\n",
       "      dtype='object')"
      ]
     },
     "execution_count": 49,
     "metadata": {},
     "output_type": "execute_result"
    }
   ],
   "source": [
    "doacoes_indiretas_2018.columns"
   ]
  },
  {
   "cell_type": "code",
   "execution_count": 50,
   "id": "79913811-97cd-4089-a81a-843245c0492a",
   "metadata": {},
   "outputs": [],
   "source": [
    "doacoes_indiretas_2018['NR_CPF_CNPJ_DOADOR_raiz'] = doacoes_indiretas_2018.apply(limpeza2, axis=1)"
   ]
  },
  {
   "cell_type": "code",
   "execution_count": null,
   "id": "66374aa0-b3f2-48b9-9993-f02f4920a867",
   "metadata": {},
   "outputs": [],
   "source": []
  },
  {
   "cell_type": "code",
   "execution_count": 51,
   "id": "0afc2e19-0b3e-4107-8fb8-c3d83830f179",
   "metadata": {},
   "outputs": [],
   "source": [
    "doacoes_indiretas_2018['cpf_mascarado_doador']= '***'+doacoes_indiretas_2018['cpf_doacoaindireta'].str[3:9]+'**'\n",
    "doacoes_indiretas_2018['nome_doador_semacentos'] = doacoes_indiretas_2018['nome_doacoaindireta'] \n",
    "doacoes_indiretas_2018['nome_doador_semacentos']= doacoes_indiretas_2018['nome_doador_semacentos'].apply(f)"
   ]
  },
  {
   "cell_type": "code",
   "execution_count": null,
   "id": "b4468420-14b3-43aa-900f-807fde980155",
   "metadata": {},
   "outputs": [],
   "source": []
  },
  {
   "cell_type": "code",
   "execution_count": 52,
   "id": "e66b2334-6d36-4768-80cd-630e8f33afbd",
   "metadata": {},
   "outputs": [],
   "source": [
    "doacoes_indiretas_2018_pf = doacoes_indiretas_2018[(doacoes_indiretas_2018['NR_CPF_CNPJ_DOADOR_raiz'] == 'documento_cpf')]\n",
    "doacoes_indiretas_2018_pj = doacoes_indiretas_2018[(doacoes_indiretas_2018['NR_CPF_CNPJ_DOADOR_raiz'] != 'documento_cpf')]"
   ]
  },
  {
   "cell_type": "code",
   "execution_count": 53,
   "id": "84007329-4470-418a-a607-da3c9745369c",
   "metadata": {},
   "outputs": [
    {
     "data": {
      "text/plain": [
       "(0, 71)"
      ]
     },
     "execution_count": 53,
     "metadata": {},
     "output_type": "execute_result"
    }
   ],
   "source": [
    "doacoes_indiretas_2018_pf.shape"
   ]
  },
  {
   "cell_type": "code",
   "execution_count": 54,
   "id": "f321dda1-cf11-466e-87c8-f9e22ea47617",
   "metadata": {},
   "outputs": [
    {
     "data": {
      "text/plain": [
       "(2372, 71)"
      ]
     },
     "execution_count": 54,
     "metadata": {},
     "output_type": "execute_result"
    }
   ],
   "source": [
    "doacoes_indiretas_2018_pj.shape"
   ]
  },
  {
   "cell_type": "code",
   "execution_count": null,
   "id": "5b26d312-34cb-4cb3-add6-6f3c630c71fe",
   "metadata": {},
   "outputs": [],
   "source": []
  },
  {
   "cell_type": "code",
   "execution_count": 64,
   "id": "9b83b513-2856-4013-ba6d-86be55799847",
   "metadata": {},
   "outputs": [],
   "source": [
    "doacoes_pf_ibama_indireta = pd.merge(doacoes_indiretas_2018_pj, autos_ibama_pf.drop_duplicates('CPF_CNPJ_INFRATOR'),  left_on=['cpf_mascarado_doador','nome_doador_semacentos'], \n",
    "                                right_on=['CPF_CNPJ_INFRATOR','nome_infrator_semacentos'], how = 'left')     "
   ]
  },
  {
   "cell_type": "code",
   "execution_count": 65,
   "id": "f9e41371-2cc9-428b-a63a-b778429300cb",
   "metadata": {},
   "outputs": [
    {
     "data": {
      "text/plain": [
       "(117, 115)"
      ]
     },
     "execution_count": 65,
     "metadata": {},
     "output_type": "execute_result"
    }
   ],
   "source": [
    "conta = doacoes_pf_ibama_indireta[pd.notnull(doacoes_pf_ibama_indireta['CPF_CNPJ_INFRATOR'])].copy()\n",
    "conta.shape"
   ]
  },
  {
   "cell_type": "code",
   "execution_count": 54,
   "id": "f2cca5d8-4bc9-4fda-b31f-fecef90a4135",
   "metadata": {},
   "outputs": [],
   "source": [
    "conta.to_excel('resultados/autos_ibama/doacoes_indiretas_vindas_pessoas_com_autos_infracao_ibama_2018.xlsx',sheet_name='Sheet1',index=False)"
   ]
  },
  {
   "cell_type": "code",
   "execution_count": null,
   "id": "e86e5e5e-aabb-4d98-ad13-373897f8c133",
   "metadata": {},
   "outputs": [],
   "source": []
  },
  {
   "cell_type": "code",
   "execution_count": null,
   "id": "849e1930-9b77-4993-8f45-3ac5ad632bb8",
   "metadata": {},
   "outputs": [],
   "source": []
  },
  {
   "cell_type": "code",
   "execution_count": 66,
   "id": "a41b73c8-db9b-4e5d-9016-1f23a547172b",
   "metadata": {},
   "outputs": [],
   "source": [
    "conta['doacoes_tipo'] = 'indireta'"
   ]
  },
  {
   "cell_type": "code",
   "execution_count": 67,
   "id": "17bf8b3f-d425-407f-8f7b-986a01a7be29",
   "metadata": {},
   "outputs": [
    {
     "data": {
      "text/plain": [
       "Index(['DT_GERACAO', 'HH_GERACAO', 'ANO_ELEICAO', 'CD_TIPO_ELEICAO',\n",
       "       'NM_TIPO_ELEICAO', 'CD_ELEICAO', 'DS_ELEICAO', 'DT_ELEICAO', 'ST_TURNO',\n",
       "       'TP_PRESTACAO_CONTAS',\n",
       "       ...\n",
       "       'ORDEM_FISCALIZACAO', 'SOLICITACAO_RECURSO', 'OPERACAO_SOL_RECURSO',\n",
       "       'DAT_LANCAMENTO', 'DAT_ULT_ALTERACAO', 'TIPO_ULT_ALTERACAO',\n",
       "       'ULTIMA_ATUALIZACAO_RELATORIO', 'cnpj_raiz', 'nome_infrator_semacentos',\n",
       "       'doacoes_tipo'],\n",
       "      dtype='object', length=116)"
      ]
     },
     "execution_count": 67,
     "metadata": {},
     "output_type": "execute_result"
    }
   ],
   "source": [
    "conta.columns"
   ]
  },
  {
   "cell_type": "code",
   "execution_count": 68,
   "id": "4a0689ad-e079-42c6-bcd1-625c4f77bbe0",
   "metadata": {},
   "outputs": [],
   "source": [
    "conta.rename(columns = {'VR_RECEITA':'valor'},inplace = True)\n",
    "#conta.rename(columns = {'NR_CPF_CANDIDATO':'politico_id'},inplace = True)\n",
    "conta.rename(columns = {'cpf_doacoaindireta':'entidade_id'},inplace = True)\n",
    "conta.rename(columns = {'CPF_CNPJ_INFRATOR':'entidade_id_mascarada'},inplace = True)\n",
    "conta.rename(columns = {'nome_infrator_semacentos':'entidade_nome'},inplace = True)\n",
    "conta.rename(columns = {'DS_FONTE_RECEITA':'origem_do_dinheiro_no_tse'},inplace = True)\n",
    "conta.rename(columns = {'DT_RECEITA':'data'},inplace = True)\n",
    "conta.rename(columns = {'SQ_CANDIDATO_DOADOR':'sequencialdoador_id'},inplace = True)\n",
    "#conta.rename(columns = {'NM_DOADOR_RFB':'entidade_nome'},inplace = True)"
   ]
  },
  {
   "cell_type": "code",
   "execution_count": 69,
   "id": "e8afc9c2-8967-4d6e-aba9-6f537e69f334",
   "metadata": {},
   "outputs": [],
   "source": [
    "conta = conta[['valor', 'politico_id', 'entidade_id', 'entidade_id_mascarada', 'entidade_nome', 'sequencialdoador_id', 'doacoes_tipo', 'origem_do_dinheiro_no_tse', 'data']]"
   ]
  },
  {
   "cell_type": "code",
   "execution_count": 70,
   "id": "3f678fd3-8e31-40e1-b87d-347e381f71bd",
   "metadata": {},
   "outputs": [
    {
     "data": {
      "text/plain": [
       "Index(['valor', 'politico_id', 'entidade_id', 'entidade_id_mascarada',\n",
       "       'entidade_nome', 'sequencialdoador_id', 'doacoes_tipo',\n",
       "       'origem_do_dinheiro_no_tse', 'data'],\n",
       "      dtype='object')"
      ]
     },
     "execution_count": 70,
     "metadata": {},
     "output_type": "execute_result"
    }
   ],
   "source": [
    "conta.columns"
   ]
  },
  {
   "cell_type": "code",
   "execution_count": 71,
   "id": "ea97499b-aa80-4e82-80d0-c4b77ce6606a",
   "metadata": {},
   "outputs": [
    {
     "data": {
      "text/html": [
       "<div>\n",
       "<style scoped>\n",
       "    .dataframe tbody tr th:only-of-type {\n",
       "        vertical-align: middle;\n",
       "    }\n",
       "\n",
       "    .dataframe tbody tr th {\n",
       "        vertical-align: top;\n",
       "    }\n",
       "\n",
       "    .dataframe thead th {\n",
       "        text-align: right;\n",
       "    }\n",
       "</style>\n",
       "<table border=\"1\" class=\"dataframe\">\n",
       "  <thead>\n",
       "    <tr style=\"text-align: right;\">\n",
       "      <th></th>\n",
       "      <th>valor</th>\n",
       "      <th>politico_id</th>\n",
       "      <th>entidade_id</th>\n",
       "      <th>entidade_id_mascarada</th>\n",
       "      <th>entidade_nome</th>\n",
       "      <th>sequencialdoador_id</th>\n",
       "      <th>doacoes_tipo</th>\n",
       "      <th>origem_do_dinheiro_no_tse</th>\n",
       "      <th>data</th>\n",
       "    </tr>\n",
       "  </thead>\n",
       "  <tbody>\n",
       "    <tr>\n",
       "      <th>144</th>\n",
       "      <td>47000,00</td>\n",
       "      <td>07894090549</td>\n",
       "      <td>04789113515</td>\n",
       "      <td>***891135**</td>\n",
       "      <td>JOSE ALVES ROCHA</td>\n",
       "      <td>50000607804</td>\n",
       "      <td>indireta</td>\n",
       "      <td>Fundo Especial</td>\n",
       "      <td>24/09/2018</td>\n",
       "    </tr>\n",
       "    <tr>\n",
       "      <th>145</th>\n",
       "      <td>30000,00</td>\n",
       "      <td>07894090549</td>\n",
       "      <td>04789113515</td>\n",
       "      <td>***891135**</td>\n",
       "      <td>JOSE ALVES ROCHA</td>\n",
       "      <td>50000607804</td>\n",
       "      <td>indireta</td>\n",
       "      <td>Fundo Especial</td>\n",
       "      <td>21/09/2018</td>\n",
       "    </tr>\n",
       "    <tr>\n",
       "      <th>146</th>\n",
       "      <td>5000,00</td>\n",
       "      <td>07894090549</td>\n",
       "      <td>04789113515</td>\n",
       "      <td>***891135**</td>\n",
       "      <td>JOSE ALVES ROCHA</td>\n",
       "      <td>50000607804</td>\n",
       "      <td>indireta</td>\n",
       "      <td>Fundo Especial</td>\n",
       "      <td>19/09/2018</td>\n",
       "    </tr>\n",
       "    <tr>\n",
       "      <th>147</th>\n",
       "      <td>25000,00</td>\n",
       "      <td>07894090549</td>\n",
       "      <td>04789113515</td>\n",
       "      <td>***891135**</td>\n",
       "      <td>JOSE ALVES ROCHA</td>\n",
       "      <td>50000607804</td>\n",
       "      <td>indireta</td>\n",
       "      <td>Fundo Especial</td>\n",
       "      <td>03/10/2018</td>\n",
       "    </tr>\n",
       "    <tr>\n",
       "      <th>457</th>\n",
       "      <td>12500,00</td>\n",
       "      <td>25630512315</td>\n",
       "      <td>03679004320</td>\n",
       "      <td>***790043**</td>\n",
       "      <td>EUNICIO LOPES DE OLIVEIRA</td>\n",
       "      <td>60000605116</td>\n",
       "      <td>indireta</td>\n",
       "      <td>Fundo Especial</td>\n",
       "      <td>03/10/2018</td>\n",
       "    </tr>\n",
       "  </tbody>\n",
       "</table>\n",
       "</div>"
      ],
      "text/plain": [
       "        valor  politico_id  entidade_id entidade_id_mascarada  \\\n",
       "144  47000,00  07894090549  04789113515           ***891135**   \n",
       "145  30000,00  07894090549  04789113515           ***891135**   \n",
       "146   5000,00  07894090549  04789113515           ***891135**   \n",
       "147  25000,00  07894090549  04789113515           ***891135**   \n",
       "457  12500,00  25630512315  03679004320           ***790043**   \n",
       "\n",
       "                 entidade_nome sequencialdoador_id doacoes_tipo  \\\n",
       "144           JOSE ALVES ROCHA         50000607804     indireta   \n",
       "145           JOSE ALVES ROCHA         50000607804     indireta   \n",
       "146           JOSE ALVES ROCHA         50000607804     indireta   \n",
       "147           JOSE ALVES ROCHA         50000607804     indireta   \n",
       "457  EUNICIO LOPES DE OLIVEIRA         60000605116     indireta   \n",
       "\n",
       "    origem_do_dinheiro_no_tse        data  \n",
       "144            Fundo Especial  24/09/2018  \n",
       "145            Fundo Especial  21/09/2018  \n",
       "146            Fundo Especial  19/09/2018  \n",
       "147            Fundo Especial  03/10/2018  \n",
       "457            Fundo Especial  03/10/2018  "
      ]
     },
     "execution_count": 71,
     "metadata": {},
     "output_type": "execute_result"
    }
   ],
   "source": [
    "conta.head()"
   ]
  },
  {
   "cell_type": "code",
   "execution_count": 72,
   "id": "284c1399-3abb-465d-871a-f0fa6adf71e3",
   "metadata": {},
   "outputs": [
    {
     "data": {
      "text/plain": [
       "(117, 9)"
      ]
     },
     "execution_count": 72,
     "metadata": {},
     "output_type": "execute_result"
    }
   ],
   "source": [
    "conta.shape"
   ]
  },
  {
   "cell_type": "code",
   "execution_count": 73,
   "id": "cf4377b9-229d-42fe-8327-0bc5e33cf88c",
   "metadata": {},
   "outputs": [],
   "source": [
    "conta.to_csv('resultados/autos_ibama/doacoes_indiretas_vindas_pessoas_com_autos_de_infracao_ibama_2018.csv',index=False)"
   ]
  },
  {
   "cell_type": "code",
   "execution_count": null,
   "id": "4ee7f5c0-745e-45d0-ac83-0a85779e7068",
   "metadata": {},
   "outputs": [],
   "source": []
  },
  {
   "cell_type": "code",
   "execution_count": null,
   "id": "6f669e13-5c34-48bd-a807-78500721adbc",
   "metadata": {},
   "outputs": [],
   "source": []
  },
  {
   "cell_type": "markdown",
   "id": "cd83cd0e-7704-4df6-b394-88b231458adf",
   "metadata": {},
   "source": [
    "### Doações originárias"
   ]
  },
  {
   "cell_type": "code",
   "execution_count": 74,
   "id": "0e071b19-2afa-4e37-9168-a2c9835322f7",
   "metadata": {},
   "outputs": [],
   "source": [
    "doacoes_originarias_2018 = pd.read_excel('resultados/doacoes/doacoes_originarias_politicos_2018.xlsx', sheet_name = 'Sheet1', dtype = 'str')"
   ]
  },
  {
   "cell_type": "code",
   "execution_count": 75,
   "id": "53db06a4-ed6a-42ca-81d1-3215298cb789",
   "metadata": {},
   "outputs": [
    {
     "data": {
      "text/plain": [
       "(11060, 25)"
      ]
     },
     "execution_count": 75,
     "metadata": {},
     "output_type": "execute_result"
    }
   ],
   "source": [
    "doacoes_originarias_2018.shape"
   ]
  },
  {
   "cell_type": "code",
   "execution_count": 76,
   "id": "01517a13-8731-4587-a454-a4a396d24f32",
   "metadata": {},
   "outputs": [
    {
     "data": {
      "text/plain": [
       "Index(['DT_GERACAO', 'HH_GERACAO', 'ANO_ELEICAO', 'CD_TIPO_ELEICAO',\n",
       "       'NM_TIPO_ELEICAO', 'CD_ELEICAO', 'DS_ELEICAO', 'DT_ELEICAO', 'ST_TURNO',\n",
       "       'TP_PRESTACAO_CONTAS', 'DT_PRESTACAO_CONTAS', 'SQ_PRESTADOR_CONTAS',\n",
       "       'SG_UF', 'NR_CPF_CNPJ_DOADOR_ORIGINARIO', 'NM_DOADOR_ORIGINARIO',\n",
       "       'NM_DOADOR_ORIGINARIO_RFB', 'TP_DOADOR_ORIGINARIO',\n",
       "       'CD_CNAE_DOADOR_ORIGINARIO', 'DS_CNAE_DOADOR_ORIGINARIO', 'SQ_RECEITA',\n",
       "       'DT_RECEITA', 'DS_RECEITA', 'VR_RECEITA', 'NM_CANDIDATO',\n",
       "       'NR_CPF_CANDIDATO'],\n",
       "      dtype='object')"
      ]
     },
     "execution_count": 76,
     "metadata": {},
     "output_type": "execute_result"
    }
   ],
   "source": [
    "doacoes_originarias_2018.columns"
   ]
  },
  {
   "cell_type": "code",
   "execution_count": null,
   "id": "97d054ce-9fe3-4831-b900-445681c8592c",
   "metadata": {},
   "outputs": [],
   "source": []
  },
  {
   "cell_type": "code",
   "execution_count": 77,
   "id": "bb55482f-df9f-44cd-8158-50f8c39784dd",
   "metadata": {},
   "outputs": [],
   "source": [
    "def limpeza4(linha):\n",
    "    documento = str(linha[\"NR_CPF_CNPJ_DOADOR_ORIGINARIO\"])\n",
    "    if len(documento) > 11:\n",
    "        return documento[:8]\n",
    "    else:\n",
    "        return \"documento_cpf\"\n",
    "    \n",
    "doacoes_originarias_2018['NR_CPF_CNPJ_DOADOR_ORIGINARIO_raiz'] = doacoes_originarias_2018.apply(limpeza4, axis=1)"
   ]
  },
  {
   "cell_type": "code",
   "execution_count": null,
   "id": "2dbe039c-2209-4ee3-8ed4-081d89531d42",
   "metadata": {},
   "outputs": [],
   "source": []
  },
  {
   "cell_type": "code",
   "execution_count": 78,
   "id": "d226bf5d-aee1-4b5b-bc4b-d0c5cf2086ba",
   "metadata": {},
   "outputs": [],
   "source": [
    "doacoes_originarias_2018_pf = doacoes_originarias_2018[(doacoes_originarias_2018['NR_CPF_CNPJ_DOADOR_ORIGINARIO_raiz'] == 'documento_cpf')]\n",
    "doacoes_originarias_2018_pj = doacoes_originarias_2018[(doacoes_originarias_2018['NR_CPF_CNPJ_DOADOR_ORIGINARIO_raiz'] != 'documento_cpf')]"
   ]
  },
  {
   "cell_type": "code",
   "execution_count": null,
   "id": "05712949-e731-4bbc-89f2-fab44c1fc307",
   "metadata": {},
   "outputs": [],
   "source": []
  },
  {
   "cell_type": "code",
   "execution_count": 79,
   "id": "27c09549-80b9-4ad4-9785-bd4ac7d02a5b",
   "metadata": {},
   "outputs": [],
   "source": [
    "doacoes_originarias_2018_pf['cpf_mascarado_doador']= '***'+doacoes_originarias_2018_pf['NR_CPF_CNPJ_DOADOR_ORIGINARIO'].str[3:9]+'**'\n",
    "doacoes_originarias_2018_pf[\"nome_doador_semacentos\"] = doacoes_originarias_2018_pf['NM_DOADOR_ORIGINARIO_RFB'].str.upper()\n",
    "doacoes_originarias_2018_pf['nome_doador_semacentos']= doacoes_originarias_2018_pf['nome_doador_semacentos'].apply(f)"
   ]
  },
  {
   "cell_type": "code",
   "execution_count": null,
   "id": "bf353ef1-d430-4e30-9412-f06a734c7606",
   "metadata": {},
   "outputs": [],
   "source": []
  },
  {
   "cell_type": "code",
   "execution_count": 80,
   "id": "c841eb20-9a41-4280-9b96-978489f23bbe",
   "metadata": {},
   "outputs": [
    {
     "data": {
      "text/plain": [
       "(11060, 28)"
      ]
     },
     "execution_count": 80,
     "metadata": {},
     "output_type": "execute_result"
    }
   ],
   "source": [
    "doacoes_originarias_2018_pf.shape"
   ]
  },
  {
   "cell_type": "code",
   "execution_count": 81,
   "id": "a299e3ab-e864-4856-ad12-0c260bc21db0",
   "metadata": {},
   "outputs": [
    {
     "data": {
      "text/plain": [
       "(0, 26)"
      ]
     },
     "execution_count": 81,
     "metadata": {},
     "output_type": "execute_result"
    }
   ],
   "source": [
    "doacoes_originarias_2018_pj.shape"
   ]
  },
  {
   "cell_type": "code",
   "execution_count": null,
   "id": "bbab75be-b496-4f16-a568-bec788ba7c61",
   "metadata": {},
   "outputs": [],
   "source": []
  },
  {
   "cell_type": "code",
   "execution_count": 105,
   "id": "7cc363f0-c9e0-44c1-9e31-3d4858fae23c",
   "metadata": {},
   "outputs": [],
   "source": [
    "doacoes_pf_ibama_originaria = pd.merge(doacoes_originarias_2018_pf, autos_ibama_pf.drop_duplicates('CPF_CNPJ_INFRATOR'), left_on=['cpf_mascarado_doador','nome_doador_semacentos'], \n",
    "                                       right_on=['CPF_CNPJ_INFRATOR','nome_infrator_semacentos'], how = 'left')"
   ]
  },
  {
   "cell_type": "code",
   "execution_count": 106,
   "id": "a2ece6f4-0688-4213-93cd-e98db2b67303",
   "metadata": {},
   "outputs": [
    {
     "data": {
      "text/plain": [
       "(37, 72)"
      ]
     },
     "execution_count": 106,
     "metadata": {},
     "output_type": "execute_result"
    }
   ],
   "source": [
    "conta = doacoes_pf_ibama_originaria[pd.notnull(doacoes_pf_ibama_originaria['CPF_CNPJ_INFRATOR'])].copy()\n",
    "conta.shape"
   ]
  },
  {
   "cell_type": "code",
   "execution_count": 93,
   "id": "59cc96f9-c8c4-4944-b001-66931e5efe10",
   "metadata": {},
   "outputs": [],
   "source": [
    "conta.to_excel('resultados/autos_ibama/doacoes_originarias_vindas_pessoas_com_autos_de_infracao_ibama_2018.xlsx',sheet_name='Sheet1',index=False)"
   ]
  },
  {
   "cell_type": "code",
   "execution_count": null,
   "id": "d952a265-3494-4960-9df4-d8d69992e1d0",
   "metadata": {},
   "outputs": [],
   "source": []
  },
  {
   "cell_type": "code",
   "execution_count": 107,
   "id": "11264336-1824-41e4-b3e4-5d174becad00",
   "metadata": {},
   "outputs": [],
   "source": [
    "conta['doacoes_tipo'] = 'originaria'"
   ]
  },
  {
   "cell_type": "code",
   "execution_count": 108,
   "id": "e0bfeab6-e96e-4e31-ae63-861bb243069a",
   "metadata": {},
   "outputs": [
    {
     "data": {
      "text/plain": [
       "Index(['DT_GERACAO', 'HH_GERACAO', 'ANO_ELEICAO', 'CD_TIPO_ELEICAO',\n",
       "       'NM_TIPO_ELEICAO', 'CD_ELEICAO', 'DS_ELEICAO', 'DT_ELEICAO', 'ST_TURNO',\n",
       "       'TP_PRESTACAO_CONTAS', 'DT_PRESTACAO_CONTAS', 'SQ_PRESTADOR_CONTAS',\n",
       "       'SG_UF', 'NR_CPF_CNPJ_DOADOR_ORIGINARIO', 'NM_DOADOR_ORIGINARIO',\n",
       "       'NM_DOADOR_ORIGINARIO_RFB', 'TP_DOADOR_ORIGINARIO',\n",
       "       'CD_CNAE_DOADOR_ORIGINARIO', 'DS_CNAE_DOADOR_ORIGINARIO', 'SQ_RECEITA',\n",
       "       'DT_RECEITA', 'DS_RECEITA', 'VR_RECEITA', 'NM_CANDIDATO',\n",
       "       'NR_CPF_CANDIDATO', 'NR_CPF_CNPJ_DOADOR_ORIGINARIO_raiz',\n",
       "       'cpf_mascarado_doador', 'nome_doador_semacentos', 'SEQ_AUTO_INFRACAO',\n",
       "       'NUM_AUTO_INFRACAO', 'SER_AUTO_INFRACAO', 'TIPO_AUTO', 'TIPO_MULTA',\n",
       "       'VAL_AUTO_INFRACAO', 'PATRIMONIO_APURACAO', 'GRAVIDADE_INFRACAO',\n",
       "       'UNID_ARRECADACAO', 'DES_AUTO_INFRACAO', 'DAT_HORA_AUTO_INFRACAO',\n",
       "       'FORMA_ENTREGA', 'DAT_CIENCIA_AUTUACAO', 'COD_MUNICIPIO', 'MUNICIPIO',\n",
       "       'UF', 'NUM_PROCESSO', 'COD_INFRACAO', 'DES_INFRACAO', 'TIPO_INFRACAO',\n",
       "       'NOME_INFRATOR', 'CPF_CNPJ_INFRATOR', 'QTD_AREA', 'INFRACAO_AREA',\n",
       "       'DES_OUTROS_TIPO_AREA', 'CLASSIFICACAO_AREA', 'NUM_LATITUDE_AUTO',\n",
       "       'NUM_LONGITUDE_AUTO', 'DES_LOCAL_INFRACAO', 'NOTIFICACAO_VINCULADA',\n",
       "       'ACAO_FISCALIZATORIA', 'UNID_CONTROLE', 'TIPO_ACAO', 'OPERACAO',\n",
       "       'DENUNCIA_SISLIV', 'ORDEM_FISCALIZACAO', 'SOLICITACAO_RECURSO',\n",
       "       'OPERACAO_SOL_RECURSO', 'DAT_LANCAMENTO', 'DAT_ULT_ALTERACAO',\n",
       "       'TIPO_ULT_ALTERACAO', 'ULTIMA_ATUALIZACAO_RELATORIO', 'cnpj_raiz',\n",
       "       'nome_infrator_semacentos', 'doacoes_tipo'],\n",
       "      dtype='object')"
      ]
     },
     "execution_count": 108,
     "metadata": {},
     "output_type": "execute_result"
    }
   ],
   "source": [
    "conta.columns"
   ]
  },
  {
   "cell_type": "code",
   "execution_count": 109,
   "id": "73fe4525-4835-4a7d-ab84-6d62db2219a7",
   "metadata": {},
   "outputs": [],
   "source": [
    "conta.rename(columns = {'VR_RECEITA':'valor'},inplace = True)\n",
    "conta.rename(columns = {'NR_CPF_CANDIDATO':'politico_id'},inplace = True)\n",
    "conta.rename(columns = {'NR_CPF_CNPJ_DOADOR_ORIGINARIO': 'entidade_id'},inplace = True)\n",
    "conta.rename(columns = {'CPF_CNPJ_INFRATOR':'entidade_id_mascarada'},inplace = True)\n",
    "conta.rename(columns = {'NM_DOADOR_ORIGINARIO_RFB':'entidade_nome'},inplace = True)\n",
    "conta.rename(columns = {'DS_RECEITA':'origem_do_dinheiro_no_tse'},inplace = True)\n",
    "conta.rename(columns = {'DT_PRESTACAO_CONTAS':'data'},inplace = True)"
   ]
  },
  {
   "cell_type": "code",
   "execution_count": 110,
   "id": "d5b58718-82c9-4609-b61a-25623aaa584a",
   "metadata": {},
   "outputs": [],
   "source": [
    "conta = conta[['valor', 'politico_id', 'entidade_id', 'entidade_id_mascarada', 'entidade_nome', 'doacoes_tipo', 'origem_do_dinheiro_no_tse', 'data']]"
   ]
  },
  {
   "cell_type": "code",
   "execution_count": 111,
   "id": "86d70137-7b23-423a-8e15-a06d638775ee",
   "metadata": {},
   "outputs": [
    {
     "data": {
      "text/plain": [
       "Index(['valor', 'politico_id', 'entidade_id', 'entidade_id_mascarada',\n",
       "       'entidade_nome', 'doacoes_tipo', 'origem_do_dinheiro_no_tse', 'data'],\n",
       "      dtype='object')"
      ]
     },
     "execution_count": 111,
     "metadata": {},
     "output_type": "execute_result"
    }
   ],
   "source": [
    "conta.columns"
   ]
  },
  {
   "cell_type": "code",
   "execution_count": 112,
   "id": "c10739b5-b13d-4a98-8ce4-cb5588672345",
   "metadata": {},
   "outputs": [
    {
     "data": {
      "text/html": [
       "<div>\n",
       "<style scoped>\n",
       "    .dataframe tbody tr th:only-of-type {\n",
       "        vertical-align: middle;\n",
       "    }\n",
       "\n",
       "    .dataframe tbody tr th {\n",
       "        vertical-align: top;\n",
       "    }\n",
       "\n",
       "    .dataframe thead th {\n",
       "        text-align: right;\n",
       "    }\n",
       "</style>\n",
       "<table border=\"1\" class=\"dataframe\">\n",
       "  <thead>\n",
       "    <tr style=\"text-align: right;\">\n",
       "      <th></th>\n",
       "      <th>valor</th>\n",
       "      <th>politico_id</th>\n",
       "      <th>entidade_id</th>\n",
       "      <th>entidade_id_mascarada</th>\n",
       "      <th>entidade_nome</th>\n",
       "      <th>doacoes_tipo</th>\n",
       "      <th>origem_do_dinheiro_no_tse</th>\n",
       "      <th>data</th>\n",
       "    </tr>\n",
       "  </thead>\n",
       "  <tbody>\n",
       "    <tr>\n",
       "      <th>391</th>\n",
       "      <td>1000,00</td>\n",
       "      <td>38208563315</td>\n",
       "      <td>24246476749</td>\n",
       "      <td>***464767**</td>\n",
       "      <td>INOCENCIO RODRIGUES UCHOA</td>\n",
       "      <td>originaria</td>\n",
       "      <td>Recursos de Financiamento Coletivo</td>\n",
       "      <td>06/11/2018</td>\n",
       "    </tr>\n",
       "    <tr>\n",
       "      <th>392</th>\n",
       "      <td>500,00</td>\n",
       "      <td>38208563315</td>\n",
       "      <td>24246476749</td>\n",
       "      <td>***464767**</td>\n",
       "      <td>INOCENCIO RODRIGUES UCHOA</td>\n",
       "      <td>originaria</td>\n",
       "      <td>Recursos de Financiamento Coletivo</td>\n",
       "      <td>06/11/2018</td>\n",
       "    </tr>\n",
       "    <tr>\n",
       "      <th>393</th>\n",
       "      <td>1000,00</td>\n",
       "      <td>38208563315</td>\n",
       "      <td>24246476749</td>\n",
       "      <td>***464767**</td>\n",
       "      <td>INOCENCIO RODRIGUES UCHOA</td>\n",
       "      <td>originaria</td>\n",
       "      <td>Recursos de Financiamento Coletivo</td>\n",
       "      <td>06/11/2018</td>\n",
       "    </tr>\n",
       "    <tr>\n",
       "      <th>1085</th>\n",
       "      <td>10,00</td>\n",
       "      <td>06630008669</td>\n",
       "      <td>03418067654</td>\n",
       "      <td>***180676**</td>\n",
       "      <td>ISRAEL FERNANDO BERNARDINO DA SILVA</td>\n",
       "      <td>originaria</td>\n",
       "      <td>Recursos de Financiamento Coletivo</td>\n",
       "      <td>18/11/2018</td>\n",
       "    </tr>\n",
       "    <tr>\n",
       "      <th>1343</th>\n",
       "      <td>50,00</td>\n",
       "      <td>01412895626</td>\n",
       "      <td>05710987115</td>\n",
       "      <td>***109871**</td>\n",
       "      <td>JOSE BERTOLDO MENDES</td>\n",
       "      <td>originaria</td>\n",
       "      <td>Recursos de Financiamento Coletivo</td>\n",
       "      <td>14/11/2018</td>\n",
       "    </tr>\n",
       "  </tbody>\n",
       "</table>\n",
       "</div>"
      ],
      "text/plain": [
       "        valor  politico_id  entidade_id entidade_id_mascarada  \\\n",
       "391   1000,00  38208563315  24246476749           ***464767**   \n",
       "392    500,00  38208563315  24246476749           ***464767**   \n",
       "393   1000,00  38208563315  24246476749           ***464767**   \n",
       "1085    10,00  06630008669  03418067654           ***180676**   \n",
       "1343    50,00  01412895626  05710987115           ***109871**   \n",
       "\n",
       "                            entidade_nome doacoes_tipo  \\\n",
       "391             INOCENCIO RODRIGUES UCHOA   originaria   \n",
       "392             INOCENCIO RODRIGUES UCHOA   originaria   \n",
       "393             INOCENCIO RODRIGUES UCHOA   originaria   \n",
       "1085  ISRAEL FERNANDO BERNARDINO DA SILVA   originaria   \n",
       "1343                 JOSE BERTOLDO MENDES   originaria   \n",
       "\n",
       "               origem_do_dinheiro_no_tse        data  \n",
       "391   Recursos de Financiamento Coletivo  06/11/2018  \n",
       "392   Recursos de Financiamento Coletivo  06/11/2018  \n",
       "393   Recursos de Financiamento Coletivo  06/11/2018  \n",
       "1085  Recursos de Financiamento Coletivo  18/11/2018  \n",
       "1343  Recursos de Financiamento Coletivo  14/11/2018  "
      ]
     },
     "execution_count": 112,
     "metadata": {},
     "output_type": "execute_result"
    }
   ],
   "source": [
    "conta.head()"
   ]
  },
  {
   "cell_type": "code",
   "execution_count": 113,
   "id": "ffb650b8-1a92-4a2e-b24c-728b25009280",
   "metadata": {},
   "outputs": [],
   "source": [
    "conta.to_csv('resultados/autos_ibama/doacoes_originarias_vindas_pessoas_com_autos_ibama_2018.csv',index=False)"
   ]
  },
  {
   "cell_type": "code",
   "execution_count": null,
   "id": "9e7f1dcb-67eb-440e-8d64-ceb6a94798dc",
   "metadata": {},
   "outputs": [],
   "source": []
  },
  {
   "cell_type": "code",
   "execution_count": null,
   "id": "fab47eda-7139-434a-a372-7a5607d526ee",
   "metadata": {},
   "outputs": [],
   "source": []
  },
  {
   "cell_type": "code",
   "execution_count": null,
   "id": "da862766-8a17-4f04-b11d-8555c5c77e31",
   "metadata": {},
   "outputs": [],
   "source": []
  },
  {
   "cell_type": "markdown",
   "id": "27fe58a1-2a4d-4cfe-8ae3-c612f0560519",
   "metadata": {},
   "source": [
    "### Candidatos 2018"
   ]
  },
  {
   "cell_type": "code",
   "execution_count": 17,
   "id": "94c595f8-4b8f-447d-bbe8-21f0f87a3d7f",
   "metadata": {},
   "outputs": [],
   "source": [
    "kwargs = {'sep': ',', 'dtype': str, 'encoding': 'utf-8'}\n",
    "politicos_2018 = pd.read_csv(\"resultados/politicos_2018_09abr.csv\", **kwargs)"
   ]
  },
  {
   "cell_type": "code",
   "execution_count": 18,
   "id": "b6fb595f-2faf-49d8-866d-c50ccf9f93bb",
   "metadata": {},
   "outputs": [
    {
     "name": "stdout",
     "output_type": "stream",
     "text": [
      "<class 'pandas.core.frame.DataFrame'>\n",
      "RangeIndex: 510 entries, 0 to 509\n",
      "Data columns (total 9 columns):\n",
      " #   Column                Non-Null Count  Dtype \n",
      "---  ------                --------------  ----- \n",
      " 0   nome                  510 non-null    object\n",
      " 1   foto                  510 non-null    object\n",
      " 2   nome_urna             510 non-null    object\n",
      " 3   politico_id           510 non-null    object\n",
      " 4   partido_eleicao       510 non-null    object\n",
      " 5   partido_atual         510 non-null    object\n",
      " 6   uri                   510 non-null    object\n",
      " 7   sequencial_candidato  510 non-null    object\n",
      " 8   bancada_ruralista     236 non-null    object\n",
      "dtypes: object(9)\n",
      "memory usage: 36.0+ KB\n"
     ]
    }
   ],
   "source": [
    "politicos_2018.info()"
   ]
  },
  {
   "cell_type": "code",
   "execution_count": null,
   "id": "7fc79ab3-81dd-4691-bbeb-e34a8246c878",
   "metadata": {},
   "outputs": [],
   "source": []
  },
  {
   "cell_type": "code",
   "execution_count": 19,
   "id": "b3113644-4a30-430e-8267-52110f6bf806",
   "metadata": {},
   "outputs": [],
   "source": [
    "politicos_2018['cpf_mascarado']= '***'+politicos_2018['politico_id'].str[3:9]+'**'\n",
    "politicos_2018[\"nome_semacentos\"] = politicos_2018['nome'].str.upper()\n",
    "politicos_2018['nome_semacentos']= politicos_2018['nome_semacentos'].apply(f)"
   ]
  },
  {
   "cell_type": "code",
   "execution_count": null,
   "id": "465800f6-a270-4774-a64d-a7eee2c4bd01",
   "metadata": {},
   "outputs": [],
   "source": []
  },
  {
   "cell_type": "code",
   "execution_count": 20,
   "id": "54362c54-2d0f-4d2b-bd19-69263f1f53d5",
   "metadata": {},
   "outputs": [],
   "source": [
    "politicos_autos_ibama = pd.merge(autos_ibama_pf.drop_duplicates('CPF_CNPJ_INFRATOR'), \n",
    "                                    politicos_2018, \n",
    "                                    left_on=['CPF_CNPJ_INFRATOR','nome_infrator_semacentos'], \n",
    "                                    right_on=['cpf_mascarado', 'nome_semacentos'], how = 'left')"
   ]
  },
  {
   "cell_type": "code",
   "execution_count": 21,
   "id": "d45e431b-20e3-4ffb-a6f0-9b45b7ec1d60",
   "metadata": {},
   "outputs": [
    {
     "data": {
      "text/plain": [
       "(10, 55)"
      ]
     },
     "execution_count": 21,
     "metadata": {},
     "output_type": "execute_result"
    }
   ],
   "source": [
    "conta = politicos_autos_ibama[pd.notnull(politicos_autos_ibama['politico_id'])].copy()\n",
    "conta.shape"
   ]
  },
  {
   "cell_type": "code",
   "execution_count": null,
   "id": "547ec8f5-28b7-4350-928f-b124ed93a503",
   "metadata": {},
   "outputs": [],
   "source": []
  },
  {
   "cell_type": "code",
   "execution_count": 86,
   "id": "3a87ec2d-e083-4953-8f4b-d2c285d7cb85",
   "metadata": {},
   "outputs": [],
   "source": [
    "conta.to_excel('resultados/autos_ibama/deputados_2018_com_autos_ibama.xlsx',sheet_name='Sheet1',index=False)"
   ]
  },
  {
   "cell_type": "code",
   "execution_count": null,
   "id": "8a7d82e7-4a90-4951-a161-bd2d22efb251",
   "metadata": {},
   "outputs": [],
   "source": []
  },
  {
   "cell_type": "code",
   "execution_count": 87,
   "id": "dd41e277-186d-4193-8fe1-a866101ea20e",
   "metadata": {},
   "outputs": [],
   "source": [
    "conta.rename(columns = {'CPF_CNPJ_INFRATOR':'entidade_id'},inplace = True)\n",
    "conta.rename(columns = {'NOME_INFRATOR':'entidade_nome'},inplace = True)\n",
    "conta.rename(columns = {'MUNICIPIO':'municipio'},inplace = True)\n",
    "conta.rename(columns = {'DES_INFRACAO':'tipo_infracao'},inplace = True)\n",
    "conta.rename(columns = {'DAT_HORA_AUTO_INFRACAO':'data_insercao_lista'},inplace = True)\n",
    "conta.rename(columns = {'UF':'estado_id'},inplace = True)\n",
    "conta.rename(columns = {'QTD_AREA':'tamanho_area'},inplace = True)"
   ]
  },
  {
   "cell_type": "code",
   "execution_count": 88,
   "id": "8445ff04-a090-44f6-81a1-76fc45ad3ed6",
   "metadata": {},
   "outputs": [],
   "source": [
    "conta = conta[['entidade_id', 'entidade_nome', 'municipio', 'tipo_infracao', 'data_insercao_lista', 'estado_id', 'tamanho_area']]"
   ]
  },
  {
   "cell_type": "code",
   "execution_count": 89,
   "id": "0ac9b26a-927a-4de7-bcad-8fdc5752cccb",
   "metadata": {},
   "outputs": [],
   "source": [
    "conta.to_csv('resultados/autos_ibama/deputados_2018_com_autos_de_infracao_ibama.csv',index=False)"
   ]
  },
  {
   "cell_type": "code",
   "execution_count": null,
   "id": "1391fb8f-f914-4410-a451-c5ca74ffa31e",
   "metadata": {},
   "outputs": [],
   "source": []
  }
 ],
 "metadata": {
  "kernelspec": {
   "display_name": "Python 3",
   "language": "python",
   "name": "python3"
  },
  "language_info": {
   "codemirror_mode": {
    "name": "ipython",
    "version": 3
   },
   "file_extension": ".py",
   "mimetype": "text/x-python",
   "name": "python",
   "nbconvert_exporter": "python",
   "pygments_lexer": "ipython3",
   "version": "3.8.2"
  }
 },
 "nbformat": 4,
 "nbformat_minor": 5
}
