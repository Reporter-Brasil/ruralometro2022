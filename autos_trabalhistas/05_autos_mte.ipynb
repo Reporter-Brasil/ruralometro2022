{
 "cells": [
  {
   "cell_type": "code",
   "execution_count": null,
   "id": "09b569bf-e2fd-4597-b27f-e08fb7cfa202",
   "metadata": {},
   "outputs": [],
   "source": [
    "# -*- coding: utf-8\n",
    "# Repórter Brasil (https://ruralometro2022.reporterbrasil.org.br/)\n",
    "# Reinaldo Chaves (@paidatocandeira)\n",
    "# Faz o cruzamento de deputados e doações - para saber deputados que podem estar nos autos de infração trabalhista do antigo Ministério do Trabalho ou doadores que estão na lista de autos\n",
    "# Dados obtidos pela reportagem da RB"
   ]
  },
  {
   "cell_type": "code",
   "execution_count": null,
   "id": "57a8b92d-7219-4029-afeb-27eb9bbb115c",
   "metadata": {},
   "outputs": [],
   "source": []
  },
  {
   "cell_type": "code",
   "execution_count": 1,
   "id": "ebeaaa04-c959-47c4-b954-e574a5714eea",
   "metadata": {},
   "outputs": [],
   "source": [
    "import pandas as pd\n",
    "import unidecode"
   ]
  },
  {
   "cell_type": "code",
   "execution_count": null,
   "id": "89954bbd-6de3-4079-8705-af4acda1ed9e",
   "metadata": {},
   "outputs": [],
   "source": []
  },
  {
   "cell_type": "code",
   "execution_count": 2,
   "id": "ca47acfb-de56-44ec-8eb3-7c48304607db",
   "metadata": {},
   "outputs": [],
   "source": [
    "def f(str):\n",
    "    try:\n",
    "        return (unidecode.unidecode(str))\n",
    "    except:\n",
    "        return (str)"
   ]
  },
  {
   "cell_type": "code",
   "execution_count": null,
   "id": "22503662-4385-4412-b3d7-ceb4333e5f2c",
   "metadata": {},
   "outputs": [],
   "source": []
  },
  {
   "cell_type": "code",
   "execution_count": 3,
   "id": "bbcfadce-471d-4f17-a527-c6d2c52eca46",
   "metadata": {},
   "outputs": [],
   "source": [
    "kwargs = {'sep': ';', 'dtype': str, 'encoding': 'utf-8'}\n",
    "autos_mte = pd.read_csv(\"originais/autos_mte_10anos.csv\", **kwargs)"
   ]
  },
  {
   "cell_type": "code",
   "execution_count": 4,
   "id": "625a9ddd-e7fb-477a-b8b5-4f073da0962d",
   "metadata": {},
   "outputs": [
    {
     "name": "stdout",
     "output_type": "stream",
     "text": [
      "<class 'pandas.core.frame.DataFrame'>\n",
      "RangeIndex: 1048575 entries, 0 to 1048574\n",
      "Data columns (total 7 columns):\n",
      " #   Column             Non-Null Count    Dtype \n",
      "---  ------             --------------    ----- \n",
      " 0   num_processo       1048504 non-null  object\n",
      " 1   cpf_cnpj_infrator  1048575 non-null  object\n",
      " 2   tipo_infracao      1048575 non-null  object\n",
      " 3   capitulacao        1048575 non-null  object\n",
      " 4   valor_multa        1048237 non-null  object\n",
      " 5   data               1048419 non-null  object\n",
      " 6   reincidencia       1048433 non-null  object\n",
      "dtypes: object(7)\n",
      "memory usage: 56.0+ MB\n"
     ]
    }
   ],
   "source": [
    "autos_mte.info()"
   ]
  },
  {
   "cell_type": "code",
   "execution_count": 5,
   "id": "a3219388-7a04-4a8b-bddf-954da0ce5ebf",
   "metadata": {},
   "outputs": [],
   "source": [
    "autos_mte[\"cpf_cnpj_infrator\"] = autos_mte[\"cpf_cnpj_infrator\"].str.strip()"
   ]
  },
  {
   "cell_type": "code",
   "execution_count": 6,
   "id": "456cab98-9999-4238-8360-6d18965f467f",
   "metadata": {},
   "outputs": [
    {
     "data": {
      "text/html": [
       "<div>\n",
       "<style scoped>\n",
       "    .dataframe tbody tr th:only-of-type {\n",
       "        vertical-align: middle;\n",
       "    }\n",
       "\n",
       "    .dataframe tbody tr th {\n",
       "        vertical-align: top;\n",
       "    }\n",
       "\n",
       "    .dataframe thead th {\n",
       "        text-align: right;\n",
       "    }\n",
       "</style>\n",
       "<table border=\"1\" class=\"dataframe\">\n",
       "  <thead>\n",
       "    <tr style=\"text-align: right;\">\n",
       "      <th></th>\n",
       "      <th>num_processo</th>\n",
       "      <th>cpf_cnpj_infrator</th>\n",
       "      <th>tipo_infracao</th>\n",
       "      <th>capitulacao</th>\n",
       "      <th>valor_multa</th>\n",
       "      <th>data</th>\n",
       "      <th>reincidencia</th>\n",
       "    </tr>\n",
       "  </thead>\n",
       "  <tbody>\n",
       "    <tr>\n",
       "      <th>751848</th>\n",
       "      <td>46222.010567/2014-94</td>\n",
       "      <td>07.575.287/0001-27</td>\n",
       "      <td>Proteção ao Trabalho do Menor</td>\n",
       "      <td>Art. 405, I da CLT</td>\n",
       "      <td>1207,59</td>\n",
       "      <td>03/07/2015</td>\n",
       "      <td>N</td>\n",
       "    </tr>\n",
       "    <tr>\n",
       "      <th>195855</th>\n",
       "      <td>46205.018665/2014-88</td>\n",
       "      <td>63.463.780/0001-26</td>\n",
       "      <td>Remuneração</td>\n",
       "      <td>Art. 461, 'caput' da CLT</td>\n",
       "      <td>402,53</td>\n",
       "      <td>17/12/2014</td>\n",
       "      <td>N</td>\n",
       "    </tr>\n",
       "    <tr>\n",
       "      <th>74351</th>\n",
       "      <td>46202.001642/2013-83</td>\n",
       "      <td>68.317.817/0002-02</td>\n",
       "      <td>Rescisão do contrato de trabalho</td>\n",
       "      <td>Art. 477, § 6º, al. 'a' da CLT</td>\n",
       "      <td>2043,12</td>\n",
       "      <td>08/01/2016</td>\n",
       "      <td>N</td>\n",
       "    </tr>\n",
       "    <tr>\n",
       "      <th>161223</th>\n",
       "      <td>46205.005606/2018-73</td>\n",
       "      <td>17.188.973/0003-60</td>\n",
       "      <td>Fiscalização</td>\n",
       "      <td>Art. 630, § 4º da CLT</td>\n",
       "      <td>1368,61</td>\n",
       "      <td>23/10/2018</td>\n",
       "      <td>N</td>\n",
       "    </tr>\n",
       "    <tr>\n",
       "      <th>918030</th>\n",
       "      <td>46239.000488/2017-39</td>\n",
       "      <td>20.395.778/0001-54</td>\n",
       "      <td>NR 36 - Trabalho em Empresas de Abate e Proces...</td>\n",
       "      <td>Art. 157, inciso I, da CLT, c/c item 36.9.3.4....</td>\n",
       "      <td>6708,08</td>\n",
       "      <td>19/09/2019</td>\n",
       "      <td>N</td>\n",
       "    </tr>\n",
       "    <tr>\n",
       "      <th>1040268</th>\n",
       "      <td>46254.000612/2017-78</td>\n",
       "      <td>45.517.083/0001-29</td>\n",
       "      <td>Pessoas portadora de deficiência</td>\n",
       "      <td>Art. 93, § 1º da Lei nº 8.213/91</td>\n",
       "      <td>54181,42</td>\n",
       "      <td>24/10/2018</td>\n",
       "      <td>N</td>\n",
       "    </tr>\n",
       "    <tr>\n",
       "      <th>362671</th>\n",
       "      <td>46212.009979/2016-62</td>\n",
       "      <td>78.116.670/0003-27</td>\n",
       "      <td>Períodos de descanso</td>\n",
       "      <td>Art. 67, 'caput' da CLT</td>\n",
       "      <td>8050,66</td>\n",
       "      <td>14/07/2016</td>\n",
       "      <td>N</td>\n",
       "    </tr>\n",
       "    <tr>\n",
       "      <th>229878</th>\n",
       "      <td>46206.013012/2016-64</td>\n",
       "      <td>00.737.320/0001-29</td>\n",
       "      <td>NR 35 - Trabalho em Altura</td>\n",
       "      <td>art. 157, inciso I, da CLT, c/c item 35.3.1 da...</td>\n",
       "      <td>1729,62</td>\n",
       "      <td>31/05/2017</td>\n",
       "      <td>N</td>\n",
       "    </tr>\n",
       "    <tr>\n",
       "      <th>391400</th>\n",
       "      <td>46213.008531/2016-11</td>\n",
       "      <td>16.852.746/0001-63</td>\n",
       "      <td>FGTS</td>\n",
       "      <td>Art. 23, §1º, inciso I, c/c art. 18, §1º, da L...</td>\n",
       "      <td>72,36</td>\n",
       "      <td>08/06/2017</td>\n",
       "      <td>N</td>\n",
       "    </tr>\n",
       "    <tr>\n",
       "      <th>394669</th>\n",
       "      <td>46213.010182/2017-89</td>\n",
       "      <td>02.536.066/0015-21</td>\n",
       "      <td>Períodos de descanso</td>\n",
       "      <td>Art. 67, 'caput' da CLT</td>\n",
       "      <td>8050,66</td>\n",
       "      <td>13/06/2019</td>\n",
       "      <td>N</td>\n",
       "    </tr>\n",
       "  </tbody>\n",
       "</table>\n",
       "</div>"
      ],
      "text/plain": [
       "                 num_processo   cpf_cnpj_infrator  \\\n",
       "751848   46222.010567/2014-94  07.575.287/0001-27   \n",
       "195855   46205.018665/2014-88  63.463.780/0001-26   \n",
       "74351    46202.001642/2013-83  68.317.817/0002-02   \n",
       "161223   46205.005606/2018-73  17.188.973/0003-60   \n",
       "918030   46239.000488/2017-39  20.395.778/0001-54   \n",
       "1040268  46254.000612/2017-78  45.517.083/0001-29   \n",
       "362671   46212.009979/2016-62  78.116.670/0003-27   \n",
       "229878   46206.013012/2016-64  00.737.320/0001-29   \n",
       "391400   46213.008531/2016-11  16.852.746/0001-63   \n",
       "394669   46213.010182/2017-89  02.536.066/0015-21   \n",
       "\n",
       "                                             tipo_infracao  \\\n",
       "751848                       Proteção ao Trabalho do Menor   \n",
       "195855                                         Remuneração   \n",
       "74351                     Rescisão do contrato de trabalho   \n",
       "161223                                        Fiscalização   \n",
       "918030   NR 36 - Trabalho em Empresas de Abate e Proces...   \n",
       "1040268                   Pessoas portadora de deficiência   \n",
       "362671                                Períodos de descanso   \n",
       "229878                          NR 35 - Trabalho em Altura   \n",
       "391400                                                FGTS   \n",
       "394669                                Períodos de descanso   \n",
       "\n",
       "                                               capitulacao valor_multa  \\\n",
       "751848                                  Art. 405, I da CLT     1207,59   \n",
       "195855                            Art. 461, 'caput' da CLT      402,53   \n",
       "74351                       Art. 477, § 6º, al. 'a' da CLT     2043,12   \n",
       "161223                               Art. 630, § 4º da CLT     1368,61   \n",
       "918030   Art. 157, inciso I, da CLT, c/c item 36.9.3.4....     6708,08   \n",
       "1040268                   Art. 93, § 1º da Lei nº 8.213/91    54181,42   \n",
       "362671                             Art. 67, 'caput' da CLT     8050,66   \n",
       "229878   art. 157, inciso I, da CLT, c/c item 35.3.1 da...     1729,62   \n",
       "391400   Art. 23, §1º, inciso I, c/c art. 18, §1º, da L...       72,36   \n",
       "394669                             Art. 67, 'caput' da CLT     8050,66   \n",
       "\n",
       "               data reincidencia  \n",
       "751848   03/07/2015            N  \n",
       "195855   17/12/2014            N  \n",
       "74351    08/01/2016            N  \n",
       "161223   23/10/2018            N  \n",
       "918030   19/09/2019            N  \n",
       "1040268  24/10/2018            N  \n",
       "362671   14/07/2016            N  \n",
       "229878   31/05/2017            N  \n",
       "391400   08/06/2017            N  \n",
       "394669   13/06/2019            N  "
      ]
     },
     "execution_count": 6,
     "metadata": {},
     "output_type": "execute_result"
    }
   ],
   "source": [
    "autos_mte.sample(10)"
   ]
  },
  {
   "cell_type": "code",
   "execution_count": null,
   "id": "17d7e41c-6d12-4f97-8b2b-bc3d4f2d66a9",
   "metadata": {},
   "outputs": [],
   "source": []
  },
  {
   "cell_type": "code",
   "execution_count": 7,
   "id": "f2073cb7-9d9d-4271-964f-ab58a1fa28e2",
   "metadata": {},
   "outputs": [],
   "source": [
    "autos_mte = autos_mte[pd.notnull(autos_mte['cpf_cnpj_infrator'])]"
   ]
  },
  {
   "cell_type": "code",
   "execution_count": null,
   "id": "93ab4281-c3ac-4b8a-bbf7-34a9e14466b2",
   "metadata": {},
   "outputs": [],
   "source": []
  },
  {
   "cell_type": "code",
   "execution_count": 8,
   "id": "b6199962-2d5b-482c-8215-c85045d0e7d4",
   "metadata": {},
   "outputs": [
    {
     "data": {
      "text/html": [
       "<div>\n",
       "<style scoped>\n",
       "    .dataframe tbody tr th:only-of-type {\n",
       "        vertical-align: middle;\n",
       "    }\n",
       "\n",
       "    .dataframe tbody tr th {\n",
       "        vertical-align: top;\n",
       "    }\n",
       "\n",
       "    .dataframe thead th {\n",
       "        text-align: right;\n",
       "    }\n",
       "</style>\n",
       "<table border=\"1\" class=\"dataframe\">\n",
       "  <thead>\n",
       "    <tr style=\"text-align: right;\">\n",
       "      <th></th>\n",
       "      <th>num_processo</th>\n",
       "      <th>cpf_cnpj_infrator</th>\n",
       "      <th>tipo_infracao</th>\n",
       "      <th>capitulacao</th>\n",
       "      <th>valor_multa</th>\n",
       "      <th>data</th>\n",
       "      <th>reincidencia</th>\n",
       "    </tr>\n",
       "  </thead>\n",
       "  <tbody>\n",
       "    <tr>\n",
       "      <th>200584</th>\n",
       "      <td>46205.022708/2013-49</td>\n",
       "      <td>315.XXX.XXX-15</td>\n",
       "      <td>NR 31 - Agricultura, Pecuária, Silvicultura, E...</td>\n",
       "      <td>Artigo 13 da Lei 5.889/73, c/c item 31.8.9 'e'...</td>\n",
       "      <td>1846,68</td>\n",
       "      <td>28/05/2014</td>\n",
       "      <td>N</td>\n",
       "    </tr>\n",
       "    <tr>\n",
       "      <th>200586</th>\n",
       "      <td>46205.022709/2013-93</td>\n",
       "      <td>315.XXX.XXX-15</td>\n",
       "      <td>Registro de empregado</td>\n",
       "      <td>Art. 41, 'caput' da CLT</td>\n",
       "      <td>402,53</td>\n",
       "      <td>28/05/2014</td>\n",
       "      <td>N</td>\n",
       "    </tr>\n",
       "    <tr>\n",
       "      <th>200588</th>\n",
       "      <td>46205.022710/2013-18</td>\n",
       "      <td>315.XXX.XXX-15</td>\n",
       "      <td>NR 31 - Agricultura, Pecuária, Silvicultura, E...</td>\n",
       "      <td>Artigo 13 da Lei 5.889/73, c/c item 31.5.1.3.1...</td>\n",
       "      <td>1108,32</td>\n",
       "      <td>28/05/2014</td>\n",
       "      <td>N</td>\n",
       "    </tr>\n",
       "    <tr>\n",
       "      <th>200590</th>\n",
       "      <td>46205.022711/2013-62</td>\n",
       "      <td>315.XXX.XXX-15</td>\n",
       "      <td>NR 31 - Agricultura, Pecuária, Silvicultura, E...</td>\n",
       "      <td>Artigo 13 da Lei 5.889/73, c/c item 31.8.7 da ...</td>\n",
       "      <td>1846,68</td>\n",
       "      <td>28/05/2014</td>\n",
       "      <td>N</td>\n",
       "    </tr>\n",
       "    <tr>\n",
       "      <th>200592</th>\n",
       "      <td>46205.022712/2013-15</td>\n",
       "      <td>315.XXX.XXX-15</td>\n",
       "      <td>Fiscalização</td>\n",
       "      <td>Art. 630, § 4º da CLT</td>\n",
       "      <td>1368,61</td>\n",
       "      <td>28/05/2014</td>\n",
       "      <td>N</td>\n",
       "    </tr>\n",
       "  </tbody>\n",
       "</table>\n",
       "</div>"
      ],
      "text/plain": [
       "                num_processo cpf_cnpj_infrator  \\\n",
       "200584  46205.022708/2013-49    315.XXX.XXX-15   \n",
       "200586  46205.022709/2013-93    315.XXX.XXX-15   \n",
       "200588  46205.022710/2013-18    315.XXX.XXX-15   \n",
       "200590  46205.022711/2013-62    315.XXX.XXX-15   \n",
       "200592  46205.022712/2013-15    315.XXX.XXX-15   \n",
       "\n",
       "                                            tipo_infracao  \\\n",
       "200584  NR 31 - Agricultura, Pecuária, Silvicultura, E...   \n",
       "200586                              Registro de empregado   \n",
       "200588  NR 31 - Agricultura, Pecuária, Silvicultura, E...   \n",
       "200590  NR 31 - Agricultura, Pecuária, Silvicultura, E...   \n",
       "200592                                       Fiscalização   \n",
       "\n",
       "                                              capitulacao valor_multa  \\\n",
       "200584  Artigo 13 da Lei 5.889/73, c/c item 31.8.9 'e'...     1846,68   \n",
       "200586                            Art. 41, 'caput' da CLT      402,53   \n",
       "200588  Artigo 13 da Lei 5.889/73, c/c item 31.5.1.3.1...     1108,32   \n",
       "200590  Artigo 13 da Lei 5.889/73, c/c item 31.8.7 da ...     1846,68   \n",
       "200592                              Art. 630, § 4º da CLT     1368,61   \n",
       "\n",
       "              data reincidencia  \n",
       "200584  28/05/2014            N  \n",
       "200586  28/05/2014            N  \n",
       "200588  28/05/2014            N  \n",
       "200590  28/05/2014            N  \n",
       "200592  28/05/2014            N  "
      ]
     },
     "execution_count": 8,
     "metadata": {},
     "output_type": "execute_result"
    }
   ],
   "source": [
    "busca = autos_mte[(autos_mte['cpf_cnpj_infrator'] == '315.XXX.XXX-15')]\n",
    "busca"
   ]
  },
  {
   "cell_type": "code",
   "execution_count": null,
   "id": "e6ab0362-4ec2-419a-a146-ec2a362a733d",
   "metadata": {},
   "outputs": [],
   "source": []
  },
  {
   "cell_type": "code",
   "execution_count": 9,
   "id": "eb7dfafa-caf6-4b0c-b015-28515c7fe4c5",
   "metadata": {},
   "outputs": [
    {
     "data": {
      "text/html": [
       "<div>\n",
       "<style scoped>\n",
       "    .dataframe tbody tr th:only-of-type {\n",
       "        vertical-align: middle;\n",
       "    }\n",
       "\n",
       "    .dataframe tbody tr th {\n",
       "        vertical-align: top;\n",
       "    }\n",
       "\n",
       "    .dataframe thead th {\n",
       "        text-align: right;\n",
       "    }\n",
       "</style>\n",
       "<table border=\"1\" class=\"dataframe\">\n",
       "  <thead>\n",
       "    <tr style=\"text-align: right;\">\n",
       "      <th></th>\n",
       "      <th>num_processo</th>\n",
       "      <th>cpf_cnpj_infrator</th>\n",
       "      <th>tipo_infracao</th>\n",
       "      <th>capitulacao</th>\n",
       "      <th>valor_multa</th>\n",
       "      <th>data</th>\n",
       "      <th>reincidencia</th>\n",
       "    </tr>\n",
       "  </thead>\n",
       "  <tbody>\n",
       "  </tbody>\n",
       "</table>\n",
       "</div>"
      ],
      "text/plain": [
       "Empty DataFrame\n",
       "Columns: [num_processo, cpf_cnpj_infrator, tipo_infracao, capitulacao, valor_multa, data, reincidencia]\n",
       "Index: []"
      ]
     },
     "execution_count": 9,
     "metadata": {},
     "output_type": "execute_result"
    }
   ],
   "source": [
    "busca = autos_mte[(autos_mte['cpf_cnpj_infrator'] == '01.463.126/0001-65')]\n",
    "busca"
   ]
  },
  {
   "cell_type": "code",
   "execution_count": null,
   "id": "d126c3a8-05b8-40b9-bdd6-2451a6b6ab4f",
   "metadata": {},
   "outputs": [],
   "source": []
  },
  {
   "cell_type": "code",
   "execution_count": 10,
   "id": "39245fc5-2486-48a4-990d-b20ac3b72bed",
   "metadata": {},
   "outputs": [
    {
     "data": {
      "text/plain": [
       "array(['FGTS', 'NR 05 - CIPA', 'Períodos de descanso',\n",
       "       'Registro de empregado',\n",
       "       'NR 18 - Condições e Meio Ambiente de Trabalho na Indústria da Construção',\n",
       "       'Pessoas portadora de deficiência',\n",
       "       'NR 32 - Segurança e Saúde no Trabalho em Estabelecimentos de Saúde ',\n",
       "       'NR 32 - Segurança e Saúde no Trabalho em Estabelecimentos de Saúde',\n",
       "       'NR 07 - PCMSO', 'Gratificação de natal', 'Remuneração',\n",
       "       'Fiscalização', 'Contribuição social rescisória',\n",
       "       'Quadro de horário', 'NR 12 - Máquinas e equipamentos',\n",
       "       'NR 06 - Equipamento de Proteção Individual',\n",
       "       'NR-13 Caldeiras, Vasos de Pressão e Tubulações',\n",
       "       'NR 08 - Edificações',\n",
       "       'NR-09 - Programa de Prevenção de Riscos Ambientais – PPRA',\n",
       "       '23/02/2021', 'Rescisão do contrato de trabalho',\n",
       "       'Seguro-Desemprego', 'Jornada de trabalho', 'NR 17 - Ergonomia',\n",
       "       'NR-11 TRANSPORTE, MOVIMENTAÇÃO, ARMAZENAGEM EMANUSEIO DE MATERIAIS',\n",
       "       '02/02/2021', 'NR-20 - LIQUIDOS COMBUSTIVEIS E INFLAMAVEIS',\n",
       "       'NR 20 - Líquidos combustíveis e inflamáveis',\n",
       "       'NR 10 - Instalações e serviços em eletricidade',\n",
       "       'NR 24 - Condições sanitárias e de conforto nos locais de trabalho',\n",
       "       'NR 11 - Transporte, Movimentação, Armazenagem e Manuseio de Materiais',\n",
       "       '27/10/2021', 'NR 15 - Atividades e operações insalubres',\n",
       "       'NR-10 INSTALAÇÕES E SERVIÇOS EM ELETRICIDADE',\n",
       "       'NR-12 - Máquinas e Equipamentos',\n",
       "       'NR 22 - Segurança e saúde ocupacional na mineração',\n",
       "       'NR 35 - Trabalho em Altura',\n",
       "       'NR-18 CONDIÇÕES  E MEIO AMBIENTE DE TRABALHO NA INDÚSTRIA DA CONSTRUÇÃO',\n",
       "       'TERCEIRIZAÇÃO', '16/03/2021',\n",
       "       'NR-09 - Programa de Prevenção de Riscos Ambientais - PPRA',\n",
       "       'NR 36 - Trabalho em Empresas de Abate e Processamento de Carnes e Derivados',\n",
       "       'NR 09 - PPRA', 'NR 01 - Disposições gerais',\n",
       "       'NR-36 - SEGURANÇA E SAÚDE NO TRABALHO EM EMPRESAS DE ABATE E PROCESSAMENTO DE CARNES E DERIVADOS',\n",
       "       'CTPS - anotação',\n",
       "       'NR 31 - Agricultura, Pecuária, Silvicultura, Exploração Florestal e Aqüicultura',\n",
       "       'RESCISÃO CONTRATUAL', 'NR 04 - SESMT', 'NR-35 Trabalho em Altura',\n",
       "       'NR 18 - Condições e meio ambiente de trabalho na indústria da construção',\n",
       "       '19/04/2021', 'CTPS', 'Proteção ao Trabalho do Menor',\n",
       "       'NR-31 - Agricultura, Pecuária, Silvicultura, Exploração Florestal e Aquicultura',\n",
       "       'NR 31 - Segurança e Saúde no Trabalho na Agricultura, Pecuária, Silvicultura, Exploração Florestal e Aquicultura',\n",
       "       'Trabalho Escravo', 'Proteção do trabalho do menor',\n",
       "       'JORNADA DE TRABALHO', '17/05/2021',\n",
       "       'Alteração do contrato de trabalho',\n",
       "       'Contrato individual de trabalho', 'MOTORISTA PROFISSIONAL',\n",
       "       'NR 33 – Segurança e Saúde nos Trabalhos em Espaços Confinados',\n",
       "       'Proteção doTrabalho do Menor',\n",
       "       'NR 06 - Equipamento de proteção individual',\n",
       "       'NR 26 - Sinalização de segurança', 'Descanso', 'Férias', 'CAGED',\n",
       "       'RAIS',\n",
       "       'NR 33 - Segurança e Saúde nos Trabalhos em Espaços Confinados',\n",
       "       'NR-15 – Atividades e Operações Insalubres',\n",
       "       'NR-30 - Segurança e Saúde no Trabalho Aquaviário',\n",
       "       'NR 23 - Proteção contra incêndios', '20/10/2021', '18/10/2021',\n",
       "       'Remuneração das férias',\n",
       "       'NR-10 – Instalações e Serviços em Eletricidade',\n",
       "       'Convenção e acordo coletivo', '30/09/2021', 'REMUNERAÇÃO',\n",
       "       'NR 34 - Condições e Meio Ambiente De Trabalho na Industria de Construção e Reparação Naval',\n",
       "       'CONTRATO INDIVIDUAL DO TRABALHO', '14/09/2021', 'Trabalho rural',\n",
       "       'SUSPENSÃO E DA INTERRUPÇÃO',\n",
       "       'NR 29 - Segurança e saúde no trabalho portuário',\n",
       "       'NR 29 - Segurança e Saúde no Trabalho Portuário',\n",
       "       'Proteção do Trabalho do Menor', 'TRABALHO DOMÉSTICO',\n",
       "       'NR-22 - Segurança e Saúde Ocupacional na Mineração', '15/09/2021',\n",
       "       'NR 01 - Disposições Gerais', 'Mora contumaz',\n",
       "       'NR 03 - Embargo ou interdição',\n",
       "       'NR-34 - Condições e Meio Ambiente De Trabalho na Industria de Construção e Reparação Naval',\n",
       "       'Vale-transporte', 'Proteção do trabalho do Menor', 'Aviso prévio',\n",
       "       'NR 30 - Segurança e Saúde no Trabalho Aquaviário ',\n",
       "       'NR 30 - Segurança e Saúde no Trabalho Aquaviário  ',\n",
       "       'Seguro-desemprego', 'NR-03',\n",
       "       'NR 24 - Condições sanitárias e de conforto nos locais de trabalho   ',\n",
       "       'NR 16 - Atividades e operações perigosas', 'Jornada de Trabalho',\n",
       "       '01/09/2021', '04/10/2021', '25/08/2021', 'SEGURO-DESEMPREGO',\n",
       "       'Períodos de Descanso', '01/06/2021', '11/05/2021',\n",
       "       'NR 21 - Trabalho a céu aberto  ', 'CTPS - retenção',\n",
       "       'Trabalho em minas de subsolo', 'Salário mínimo',\n",
       "       'Trabalho Noturno', 'Salário',\n",
       "       'NR 13 - Caldeiras e Vasos de Pressão',\n",
       "       'NR 13 - Caldeiras e vasos de pressão', 'NR 14 - Fornos',\n",
       "       'NR 15 - Atividades e Operações Insalubres',\n",
       "       'Contribuição sindical', 'NR 25 - Resíduos Industriais',\n",
       "       'Vale Transporte', 'NR 16 - Atividades e Operações Perigosas',\n",
       "       'ATIV. DE MOVIMENTAÇÃO DE MERCADORIA EM GERAL E DO TRABALHO AVULSO',\n",
       "       'Férias coletivas', 'NR 23 - Proteção contra incêndios  ',\n",
       "       'Marítimo', 'Proteção do trabalho da mulher', 'Jornada',\n",
       "       'Suspensão e interrupção do contrato de trabalho',\n",
       "       'NR 30 - Segurança e Saúde no Trabalho Aquaviário',\n",
       "       'Transferência de empregado', 'Bancários',\n",
       "       'Contribuição social mensal', 'Radialista',\n",
       "       'Jornalistas profissionais', 'Empregados em telefonia',\n",
       "       'Professores', 'Contrato de experiência', 'Químicos',\n",
       "       'Contrato por prazo determinado', 'Serviços Frigoríficos',\n",
       "       'Aviso Prévio', 'Livro de inspeção do trabalho', 'Músico',\n",
       "       'NR 11 - Transporte, movimentação, armazenagem e manuseio de materiais ',\n",
       "       'NR 19 – Explosivos ', 'Trabalho temporário',\n",
       "       'Operadores Cinematográficos', 'Registro de Empregado',\n",
       "       'NR-29 - Segurança e Saúde no Trabalho Portuário',\n",
       "       'Práticas discriminatórias', 'Trabalho portuário',\n",
       "       'Trabalho Portuário',\n",
       "       'NR 29 - Segurança e saúde no trabalho portuário ', 'Aeronauta',\n",
       "       'NR-04 SERVIÇOS ESPECIALIZADOS EM ENGENHARIA DE SEGURANÇA E EM MEDICINA DO TRABALHO',\n",
       "       'NR 20 – Líquidos Combustíveis e Inflamáveis ',\n",
       "       'Artistas e técnicos em espetáculos de diversões',\n",
       "       'Instituição sindical', 'Proteção do Trabalho da Mulher', 'NR-17',\n",
       "       'Trabalho Infantil', 'Atuários', 'NR 12 - Máquinas e Equipamentos',\n",
       "       '09/07/2020', 'Nacionalização do trabalho', 'CTPS - extravio',\n",
       "       'NR 25 - Resíduos industriais', 'Serviço Ferroviário',\n",
       "       'CTPS - inutilização', 'Aeronautas', 'NR 19 – Explosivos',\n",
       "       '09/02/2021', '22/02/2021', '19/02/2021', '05/10/2021', 'Outros',\n",
       "       '###***EMENTA GENÉRICA***###',\n",
       "       'NR 15 – Atividades e Operações Insalubres', '17/08/2020',\n",
       "       '19/08/2020', '25/11/2020', 'NR 21 - Trabalho a céu aberto',\n",
       "       'Motociclista Profissionais', '13/10/2020',\n",
       "       'Propagandista e vendedor de produtos farmacêuticos',\n",
       "       'Remuneração das Férias', 'Contrato Individual de Trabalho',\n",
       "       '22/09/2021',\n",
       "       'NR 31 - Agricultura, Pecuária, Silvicultura, Exploração Florestal e Aquicultura',\n",
       "       '23/09/2021', '14/12/2020', '01/10/2021'], dtype=object)"
      ]
     },
     "execution_count": 10,
     "metadata": {},
     "output_type": "execute_result"
    }
   ],
   "source": [
    "autos_mte['tipo_infracao'].unique()"
   ]
  },
  {
   "cell_type": "code",
   "execution_count": null,
   "id": "9e4c9f9e-3c96-4d92-b475-fee6aa8e5457",
   "metadata": {},
   "outputs": [],
   "source": []
  },
  {
   "cell_type": "code",
   "execution_count": null,
   "id": "5cfc17bb-4c72-42e9-8b98-7b1b8b268a07",
   "metadata": {},
   "outputs": [],
   "source": []
  },
  {
   "cell_type": "code",
   "execution_count": 11,
   "id": "da38c0d0-542a-4e7f-a523-dcbd82c43691",
   "metadata": {},
   "outputs": [],
   "source": [
    "def limpeza1(linha):\n",
    "    documento = str(linha[\"cpf_cnpj_infrator\"])\n",
    "    documento = documento.strip()\n",
    "    documento = documento.replace('.', '')\n",
    "    documento = documento.replace('-', '')\n",
    "    documento = documento.replace('/', '')\n",
    "    return str(documento)"
   ]
  },
  {
   "cell_type": "code",
   "execution_count": 12,
   "id": "32bb3d65-622e-463b-a012-8ae797bdb59c",
   "metadata": {},
   "outputs": [],
   "source": [
    "autos_mte[\"cpf_cnpj_infrator\"] = autos_mte.apply(limpeza1, axis=1)"
   ]
  },
  {
   "cell_type": "code",
   "execution_count": null,
   "id": "f806244c-4550-49ca-a2a3-29c29054fde0",
   "metadata": {},
   "outputs": [],
   "source": []
  },
  {
   "cell_type": "code",
   "execution_count": 13,
   "id": "c844d571-d07b-4b0b-b8cd-8a3205975071",
   "metadata": {},
   "outputs": [
    {
     "data": {
      "text/plain": [
       "1026209    02261058000114\n",
       "12628         083XXXXXX53\n",
       "317893     04123616000100\n",
       "325690     03380763001507\n",
       "167522     09602089000130\n",
       "731308     23027091000154\n",
       "414202     08188484000156\n",
       "278409     01359405000183\n",
       "64455      20277884000214\n",
       "726500     04935409000150\n",
       "Name: cpf_cnpj_infrator, dtype: object"
      ]
     },
     "execution_count": 13,
     "metadata": {},
     "output_type": "execute_result"
    }
   ],
   "source": [
    "autos_mte[\"cpf_cnpj_infrator\"].sample(10)"
   ]
  },
  {
   "cell_type": "code",
   "execution_count": null,
   "id": "0e2c8ee3-5502-4e2e-9d2b-80484754edd5",
   "metadata": {},
   "outputs": [],
   "source": []
  },
  {
   "cell_type": "code",
   "execution_count": 14,
   "id": "c523be05-4ec9-483a-a64d-e723710e6608",
   "metadata": {},
   "outputs": [],
   "source": [
    "# Preenche zeros a esquerda nos documentos\n",
    "def compara1(linha):\n",
    "    documento = str(linha[\"cpf_cnpj_infrator\"])\n",
    "    \n",
    "    if len(documento) < 14 and len(documento) >= 12:\n",
    "        conta = 14 - (len(documento))\n",
    "        zero = '0'\n",
    "        zeros = zero * conta\n",
    "        alterado = zeros + documento\n",
    "    elif len(documento) == 14:\n",
    "        alterado = documento\n",
    "    elif len(documento) < 11:\n",
    "        conta = 11 - (len(documento))\n",
    "        zero = '0'\n",
    "        zeros = zero * conta\n",
    "        alterado = zeros + documento\n",
    "    elif len(documento) == 11:\n",
    "        alterado = documento\n",
    "    \n",
    "    return alterado"
   ]
  },
  {
   "cell_type": "code",
   "execution_count": 15,
   "id": "352f932f-9e93-4e2f-863c-5c8db12f828e",
   "metadata": {},
   "outputs": [],
   "source": [
    "autos_mte[\"cpf_cnpj_infrator\"] = autos_mte.apply(compara1, axis=1)"
   ]
  },
  {
   "cell_type": "code",
   "execution_count": null,
   "id": "22c5da1a-c741-46ad-ac3a-36b17372f4eb",
   "metadata": {},
   "outputs": [],
   "source": []
  },
  {
   "cell_type": "code",
   "execution_count": 16,
   "id": "36e99fee-5025-4925-86df-cb7562a538dc",
   "metadata": {},
   "outputs": [],
   "source": [
    "def limpeza2(linha):\n",
    "    documento = str(linha[\"cpf_cnpj_infrator\"])\n",
    "    if len(documento) > 11:\n",
    "        return documento[:8]\n",
    "    else:\n",
    "        return \"documento_cpf\"\n",
    "\n",
    "autos_mte['cnpj_raiz'] = autos_mte.apply(limpeza2, axis=1)"
   ]
  },
  {
   "cell_type": "code",
   "execution_count": null,
   "id": "d47451f7-7af1-4a61-9c9b-d00cf50be3ff",
   "metadata": {},
   "outputs": [],
   "source": []
  },
  {
   "cell_type": "code",
   "execution_count": 17,
   "id": "ee19a661-b2f2-4822-87b1-b53ccc65533d",
   "metadata": {},
   "outputs": [
    {
     "data": {
      "text/html": [
       "<div>\n",
       "<style scoped>\n",
       "    .dataframe tbody tr th:only-of-type {\n",
       "        vertical-align: middle;\n",
       "    }\n",
       "\n",
       "    .dataframe tbody tr th {\n",
       "        vertical-align: top;\n",
       "    }\n",
       "\n",
       "    .dataframe thead th {\n",
       "        text-align: right;\n",
       "    }\n",
       "</style>\n",
       "<table border=\"1\" class=\"dataframe\">\n",
       "  <thead>\n",
       "    <tr style=\"text-align: right;\">\n",
       "      <th></th>\n",
       "      <th>cnpj_raiz</th>\n",
       "      <th>cpf_cnpj_infrator</th>\n",
       "    </tr>\n",
       "  </thead>\n",
       "  <tbody>\n",
       "    <tr>\n",
       "      <th>375557</th>\n",
       "      <td>16923951</td>\n",
       "      <td>16923951000172</td>\n",
       "    </tr>\n",
       "    <tr>\n",
       "      <th>154295</th>\n",
       "      <td>08967872</td>\n",
       "      <td>08967872000135</td>\n",
       "    </tr>\n",
       "    <tr>\n",
       "      <th>187777</th>\n",
       "      <td>09088233</td>\n",
       "      <td>09088233000162</td>\n",
       "    </tr>\n",
       "    <tr>\n",
       "      <th>511965</th>\n",
       "      <td>05500757</td>\n",
       "      <td>05500757000168</td>\n",
       "    </tr>\n",
       "    <tr>\n",
       "      <th>231108</th>\n",
       "      <td>72641863</td>\n",
       "      <td>72641863000159</td>\n",
       "    </tr>\n",
       "    <tr>\n",
       "      <th>220674</th>\n",
       "      <td>17945795</td>\n",
       "      <td>17945795000103</td>\n",
       "    </tr>\n",
       "    <tr>\n",
       "      <th>670518</th>\n",
       "      <td>00070414</td>\n",
       "      <td>00070414000359</td>\n",
       "    </tr>\n",
       "    <tr>\n",
       "      <th>986971</th>\n",
       "      <td>02366179</td>\n",
       "      <td>02366179000120</td>\n",
       "    </tr>\n",
       "    <tr>\n",
       "      <th>1023558</th>\n",
       "      <td>39385463</td>\n",
       "      <td>39385463000154</td>\n",
       "    </tr>\n",
       "    <tr>\n",
       "      <th>449741</th>\n",
       "      <td>28248565</td>\n",
       "      <td>28248565000101</td>\n",
       "    </tr>\n",
       "  </tbody>\n",
       "</table>\n",
       "</div>"
      ],
      "text/plain": [
       "        cnpj_raiz cpf_cnpj_infrator\n",
       "375557   16923951    16923951000172\n",
       "154295   08967872    08967872000135\n",
       "187777   09088233    09088233000162\n",
       "511965   05500757    05500757000168\n",
       "231108   72641863    72641863000159\n",
       "220674   17945795    17945795000103\n",
       "670518   00070414    00070414000359\n",
       "986971   02366179    02366179000120\n",
       "1023558  39385463    39385463000154\n",
       "449741   28248565    28248565000101"
      ]
     },
     "execution_count": 17,
     "metadata": {},
     "output_type": "execute_result"
    }
   ],
   "source": [
    "autos_mte[['cnpj_raiz', 'cpf_cnpj_infrator']].sample(10)"
   ]
  },
  {
   "cell_type": "code",
   "execution_count": null,
   "id": "1a685975-b9ed-4482-80c9-d85df481aec9",
   "metadata": {},
   "outputs": [],
   "source": []
  },
  {
   "cell_type": "code",
   "execution_count": 21,
   "id": "56479360-bed8-4b22-b530-3235dd2a57d9",
   "metadata": {},
   "outputs": [
    {
     "data": {
      "text/plain": [
       "Index(['num_processo', 'cpf_cnpj_infrator', 'tipo_infracao', 'capitulacao',\n",
       "       'valor_multa', 'data', 'reincidencia', 'cnpj_raiz'],\n",
       "      dtype='object')"
      ]
     },
     "execution_count": 21,
     "metadata": {},
     "output_type": "execute_result"
    }
   ],
   "source": [
    "autos_mte.columns"
   ]
  },
  {
   "cell_type": "code",
   "execution_count": 22,
   "id": "e88f6da5-5e15-4513-a878-443c33e9c4a0",
   "metadata": {},
   "outputs": [
    {
     "data": {
      "text/html": [
       "<div>\n",
       "<style scoped>\n",
       "    .dataframe tbody tr th:only-of-type {\n",
       "        vertical-align: middle;\n",
       "    }\n",
       "\n",
       "    .dataframe tbody tr th {\n",
       "        vertical-align: top;\n",
       "    }\n",
       "\n",
       "    .dataframe thead th {\n",
       "        text-align: right;\n",
       "    }\n",
       "</style>\n",
       "<table border=\"1\" class=\"dataframe\">\n",
       "  <thead>\n",
       "    <tr style=\"text-align: right;\">\n",
       "      <th></th>\n",
       "      <th>num_processo</th>\n",
       "      <th>cpf_cnpj_infrator</th>\n",
       "      <th>tipo_infracao</th>\n",
       "      <th>capitulacao</th>\n",
       "      <th>valor_multa</th>\n",
       "      <th>data</th>\n",
       "      <th>reincidencia</th>\n",
       "      <th>cnpj_raiz</th>\n",
       "    </tr>\n",
       "  </thead>\n",
       "  <tbody>\n",
       "  </tbody>\n",
       "</table>\n",
       "</div>"
      ],
      "text/plain": [
       "Empty DataFrame\n",
       "Columns: [num_processo, cpf_cnpj_infrator, tipo_infracao, capitulacao, valor_multa, data, reincidencia, cnpj_raiz]\n",
       "Index: []"
      ]
     },
     "execution_count": 22,
     "metadata": {},
     "output_type": "execute_result"
    }
   ],
   "source": [
    "new = autos_mte[\"cnpj_raiz\"].isin([\"01463126\", \"02657326\", \"03167408\", \"04057706\", \"05904108\", \"07353227\", \"10242314\", \"12631778\", \"13134686\", \"14019929\", \"17331307\", \"21049762\", \"21129267\", \"22158240\", \"25555723\", \"26172122\", \"30202385\", \"32161939\"])\n",
    "autos_mte[new]  "
   ]
  },
  {
   "cell_type": "code",
   "execution_count": null,
   "id": "c21bc1fc-3bc5-4b85-b951-b6d95578a212",
   "metadata": {},
   "outputs": [],
   "source": []
  },
  {
   "cell_type": "code",
   "execution_count": 20,
   "id": "25584e39-d966-49de-afda-42053af31a9b",
   "metadata": {},
   "outputs": [
    {
     "data": {
      "text/html": [
       "<div>\n",
       "<style scoped>\n",
       "    .dataframe tbody tr th:only-of-type {\n",
       "        vertical-align: middle;\n",
       "    }\n",
       "\n",
       "    .dataframe tbody tr th {\n",
       "        vertical-align: top;\n",
       "    }\n",
       "\n",
       "    .dataframe thead th {\n",
       "        text-align: right;\n",
       "    }\n",
       "</style>\n",
       "<table border=\"1\" class=\"dataframe\">\n",
       "  <thead>\n",
       "    <tr style=\"text-align: right;\">\n",
       "      <th></th>\n",
       "      <th>num_processo</th>\n",
       "      <th>cpf_cnpj_infrator</th>\n",
       "      <th>tipo_infracao</th>\n",
       "      <th>capitulacao</th>\n",
       "      <th>valor_multa</th>\n",
       "      <th>data</th>\n",
       "      <th>reincidencia</th>\n",
       "      <th>cnpj_raiz</th>\n",
       "    </tr>\n",
       "  </thead>\n",
       "  <tbody>\n",
       "    <tr>\n",
       "      <th>205692</th>\n",
       "      <td>46206.001273/2015-51</td>\n",
       "      <td>00676262000170</td>\n",
       "      <td>Pessoas portadora de deficiência</td>\n",
       "      <td>Art. 93 da Lei nº 8.213/91</td>\n",
       "      <td>2102,98</td>\n",
       "      <td>02/12/2015</td>\n",
       "      <td>N</td>\n",
       "      <td>00676262</td>\n",
       "    </tr>\n",
       "  </tbody>\n",
       "</table>\n",
       "</div>"
      ],
      "text/plain": [
       "                num_processo cpf_cnpj_infrator  \\\n",
       "205692  46206.001273/2015-51    00676262000170   \n",
       "\n",
       "                           tipo_infracao                 capitulacao  \\\n",
       "205692  Pessoas portadora de deficiência  Art. 93 da Lei nº 8.213/91   \n",
       "\n",
       "       valor_multa        data reincidencia cnpj_raiz  \n",
       "205692     2102,98  02/12/2015            N  00676262  "
      ]
     },
     "execution_count": 20,
     "metadata": {},
     "output_type": "execute_result"
    }
   ],
   "source": [
    "busca = autos_mte[(autos_mte['cnpj_raiz'] == '00676262')]\n",
    "busca"
   ]
  },
  {
   "cell_type": "code",
   "execution_count": null,
   "id": "9ccc75a8-a8b2-4beb-be32-8818f948ea21",
   "metadata": {},
   "outputs": [],
   "source": []
  },
  {
   "cell_type": "code",
   "execution_count": 31,
   "id": "4b76354b-bc16-4f01-aa95-3886e4fef3bd",
   "metadata": {},
   "outputs": [
    {
     "data": {
      "text/html": [
       "<div>\n",
       "<style scoped>\n",
       "    .dataframe tbody tr th:only-of-type {\n",
       "        vertical-align: middle;\n",
       "    }\n",
       "\n",
       "    .dataframe tbody tr th {\n",
       "        vertical-align: top;\n",
       "    }\n",
       "\n",
       "    .dataframe thead th {\n",
       "        text-align: right;\n",
       "    }\n",
       "</style>\n",
       "<table border=\"1\" class=\"dataframe\">\n",
       "  <thead>\n",
       "    <tr style=\"text-align: right;\">\n",
       "      <th></th>\n",
       "      <th>num_processo</th>\n",
       "      <th>cpf_cnpj_infrator</th>\n",
       "      <th>tipo_infracao</th>\n",
       "      <th>capitulacao</th>\n",
       "      <th>valor_multa</th>\n",
       "      <th>data</th>\n",
       "      <th>reincidencia</th>\n",
       "      <th>cnpj_raiz</th>\n",
       "    </tr>\n",
       "  </thead>\n",
       "  <tbody>\n",
       "    <tr>\n",
       "      <th>440</th>\n",
       "      <td>14152.001994/2020-12</td>\n",
       "      <td>34107232000165</td>\n",
       "      <td>Trabalho Escravo</td>\n",
       "      <td>Art. 444 da Consolidação das Leis do Trabalho ...</td>\n",
       "      <td>402,53</td>\n",
       "      <td>15/12/2020</td>\n",
       "      <td>N</td>\n",
       "      <td>34107232</td>\n",
       "    </tr>\n",
       "    <tr>\n",
       "      <th>5770</th>\n",
       "      <td>14152.040777/2020-30</td>\n",
       "      <td>555XXXXXX72</td>\n",
       "      <td>Trabalho Escravo</td>\n",
       "      <td>Art. 444 da Consolidação das Leis do Trabalho ...</td>\n",
       "      <td>402,53</td>\n",
       "      <td>25/10/2021</td>\n",
       "      <td>N</td>\n",
       "      <td>documento_cpf</td>\n",
       "    </tr>\n",
       "    <tr>\n",
       "      <th>7337</th>\n",
       "      <td>14152.056675/2020-36</td>\n",
       "      <td>016XXXXXX51</td>\n",
       "      <td>Trabalho Escravo</td>\n",
       "      <td>Art. 444 da Consolidação das Leis do Trabalho ...</td>\n",
       "      <td>402,53</td>\n",
       "      <td>14/04/2021</td>\n",
       "      <td>N</td>\n",
       "      <td>documento_cpf</td>\n",
       "    </tr>\n",
       "    <tr>\n",
       "      <th>7572</th>\n",
       "      <td>14152.058473/2020-29</td>\n",
       "      <td>03592334000866</td>\n",
       "      <td>Trabalho Escravo</td>\n",
       "      <td>Art. 444 da Consolidação das Leis do Trabalho ...</td>\n",
       "      <td>402,53</td>\n",
       "      <td>04/03/2021</td>\n",
       "      <td>N</td>\n",
       "      <td>03592334</td>\n",
       "    </tr>\n",
       "    <tr>\n",
       "      <th>8648</th>\n",
       "      <td>14152.070437/2020-33</td>\n",
       "      <td>21701649000100</td>\n",
       "      <td>Trabalho Escravo</td>\n",
       "      <td>Art. 444 da Consolidação das Leis do Trabalho ...</td>\n",
       "      <td>402,53</td>\n",
       "      <td>02/09/2021</td>\n",
       "      <td>N</td>\n",
       "      <td>21701649</td>\n",
       "    </tr>\n",
       "    <tr>\n",
       "      <th>...</th>\n",
       "      <td>...</td>\n",
       "      <td>...</td>\n",
       "      <td>...</td>\n",
       "      <td>...</td>\n",
       "      <td>...</td>\n",
       "      <td>...</td>\n",
       "      <td>...</td>\n",
       "      <td>...</td>\n",
       "    </tr>\n",
       "    <tr>\n",
       "      <th>1003129</th>\n",
       "      <td>46246.002753/2018-13</td>\n",
       "      <td>477XXXXXX34</td>\n",
       "      <td>Trabalho Escravo</td>\n",
       "      <td>Art. 444 da Consolidação das Leis do Trabalho ...</td>\n",
       "      <td>402,53</td>\n",
       "      <td>17/01/2020</td>\n",
       "      <td>N</td>\n",
       "      <td>documento_cpf</td>\n",
       "    </tr>\n",
       "    <tr>\n",
       "      <th>1004452</th>\n",
       "      <td>46246.003088/2018-77</td>\n",
       "      <td>664XXXXXX87</td>\n",
       "      <td>Trabalho Escravo</td>\n",
       "      <td>Art. 444 da Consolidação das Leis do Trabalho ...</td>\n",
       "      <td>402,53</td>\n",
       "      <td>28/01/2021</td>\n",
       "      <td>N</td>\n",
       "      <td>documento_cpf</td>\n",
       "    </tr>\n",
       "    <tr>\n",
       "      <th>1004679</th>\n",
       "      <td>46246.003169/2019-58</td>\n",
       "      <td>02387202000163</td>\n",
       "      <td>Trabalho Escravo</td>\n",
       "      <td>Art. 444 da Consolidação das Leis do Trabalho ...</td>\n",
       "      <td>402,53</td>\n",
       "      <td>15/12/2020</td>\n",
       "      <td>N</td>\n",
       "      <td>02387202</td>\n",
       "    </tr>\n",
       "    <tr>\n",
       "      <th>1006096</th>\n",
       "      <td>46246.003813/2017-26</td>\n",
       "      <td>057XXXXXX16</td>\n",
       "      <td>Trabalho Escravo</td>\n",
       "      <td>Art. 444 da Consolidação das Leis do Trabalho ...</td>\n",
       "      <td>402,53</td>\n",
       "      <td>28/01/2021</td>\n",
       "      <td>N</td>\n",
       "      <td>documento_cpf</td>\n",
       "    </tr>\n",
       "    <tr>\n",
       "      <th>1012042</th>\n",
       "      <td>46248.000355/2019-15</td>\n",
       "      <td>23413647000140</td>\n",
       "      <td>Trabalho Escravo</td>\n",
       "      <td>Art. 444 da Consolidação das Leis do Trabalho ...</td>\n",
       "      <td>402,53</td>\n",
       "      <td>20/03/2020</td>\n",
       "      <td>N</td>\n",
       "      <td>23413647</td>\n",
       "    </tr>\n",
       "  </tbody>\n",
       "</table>\n",
       "<p>219 rows × 8 columns</p>\n",
       "</div>"
      ],
      "text/plain": [
       "                 num_processo cpf_cnpj_infrator     tipo_infracao  \\\n",
       "440      14152.001994/2020-12    34107232000165  Trabalho Escravo   \n",
       "5770     14152.040777/2020-30       555XXXXXX72  Trabalho Escravo   \n",
       "7337     14152.056675/2020-36       016XXXXXX51  Trabalho Escravo   \n",
       "7572     14152.058473/2020-29    03592334000866  Trabalho Escravo   \n",
       "8648     14152.070437/2020-33    21701649000100  Trabalho Escravo   \n",
       "...                       ...               ...               ...   \n",
       "1003129  46246.002753/2018-13       477XXXXXX34  Trabalho Escravo   \n",
       "1004452  46246.003088/2018-77       664XXXXXX87  Trabalho Escravo   \n",
       "1004679  46246.003169/2019-58    02387202000163  Trabalho Escravo   \n",
       "1006096  46246.003813/2017-26       057XXXXXX16  Trabalho Escravo   \n",
       "1012042  46248.000355/2019-15    23413647000140  Trabalho Escravo   \n",
       "\n",
       "                                               capitulacao valor_multa  \\\n",
       "440      Art. 444 da Consolidação das Leis do Trabalho ...      402,53   \n",
       "5770     Art. 444 da Consolidação das Leis do Trabalho ...      402,53   \n",
       "7337     Art. 444 da Consolidação das Leis do Trabalho ...      402,53   \n",
       "7572     Art. 444 da Consolidação das Leis do Trabalho ...      402,53   \n",
       "8648     Art. 444 da Consolidação das Leis do Trabalho ...      402,53   \n",
       "...                                                    ...         ...   \n",
       "1003129  Art. 444 da Consolidação das Leis do Trabalho ...      402,53   \n",
       "1004452  Art. 444 da Consolidação das Leis do Trabalho ...      402,53   \n",
       "1004679  Art. 444 da Consolidação das Leis do Trabalho ...      402,53   \n",
       "1006096  Art. 444 da Consolidação das Leis do Trabalho ...      402,53   \n",
       "1012042  Art. 444 da Consolidação das Leis do Trabalho ...      402,53   \n",
       "\n",
       "               data reincidencia      cnpj_raiz  \n",
       "440      15/12/2020            N       34107232  \n",
       "5770     25/10/2021            N  documento_cpf  \n",
       "7337     14/04/2021            N  documento_cpf  \n",
       "7572     04/03/2021            N       03592334  \n",
       "8648     02/09/2021            N       21701649  \n",
       "...             ...          ...            ...  \n",
       "1003129  17/01/2020            N  documento_cpf  \n",
       "1004452  28/01/2021            N  documento_cpf  \n",
       "1004679  15/12/2020            N       02387202  \n",
       "1006096  28/01/2021            N  documento_cpf  \n",
       "1012042  20/03/2020            N       23413647  \n",
       "\n",
       "[219 rows x 8 columns]"
      ]
     },
     "execution_count": 31,
     "metadata": {},
     "output_type": "execute_result"
    }
   ],
   "source": [
    "busca = autos_mte[(autos_mte['tipo_infracao'] == 'Trabalho Escravo')]\n",
    "busca"
   ]
  },
  {
   "cell_type": "code",
   "execution_count": 34,
   "id": "56417f8c-7a81-43bb-9c06-19daf4069b5f",
   "metadata": {},
   "outputs": [],
   "source": [
    "busca.to_excel('resultados/trabalho_escravo.xlsx',sheet_name='Sheet1',index=False)"
   ]
  },
  {
   "cell_type": "code",
   "execution_count": null,
   "id": "1d683036-1822-486a-982a-8c5d8aa08401",
   "metadata": {},
   "outputs": [],
   "source": []
  },
  {
   "cell_type": "code",
   "execution_count": 58,
   "id": "b8948d18-f6b0-4be0-92a0-f8ad4b64423e",
   "metadata": {},
   "outputs": [
    {
     "data": {
      "text/html": [
       "<div>\n",
       "<style scoped>\n",
       "    .dataframe tbody tr th:only-of-type {\n",
       "        vertical-align: middle;\n",
       "    }\n",
       "\n",
       "    .dataframe tbody tr th {\n",
       "        vertical-align: top;\n",
       "    }\n",
       "\n",
       "    .dataframe thead th {\n",
       "        text-align: right;\n",
       "    }\n",
       "</style>\n",
       "<table border=\"1\" class=\"dataframe\">\n",
       "  <thead>\n",
       "    <tr style=\"text-align: right;\">\n",
       "      <th></th>\n",
       "      <th>num_processo</th>\n",
       "      <th>cpf_cnpj_infrator</th>\n",
       "      <th>tipo_infracao</th>\n",
       "      <th>capitulacao</th>\n",
       "      <th>valor_multa</th>\n",
       "      <th>data</th>\n",
       "      <th>reincidencia</th>\n",
       "      <th>cnpj_raiz</th>\n",
       "    </tr>\n",
       "  </thead>\n",
       "  <tbody>\n",
       "  </tbody>\n",
       "</table>\n",
       "</div>"
      ],
      "text/plain": [
       "Empty DataFrame\n",
       "Columns: [num_processo, cpf_cnpj_infrator, tipo_infracao, capitulacao, valor_multa, data, reincidencia, cnpj_raiz]\n",
       "Index: []"
      ]
     },
     "execution_count": 58,
     "metadata": {},
     "output_type": "execute_result"
    }
   ],
   "source": [
    "busca = autos_mte[(autos_mte['cnpj_raiz'] == '01463126')]\n",
    "busca"
   ]
  },
  {
   "cell_type": "code",
   "execution_count": 59,
   "id": "6d4ce33b-6bd2-4e8b-99a2-de630a98c327",
   "metadata": {},
   "outputs": [
    {
     "data": {
      "text/html": [
       "<div>\n",
       "<style scoped>\n",
       "    .dataframe tbody tr th:only-of-type {\n",
       "        vertical-align: middle;\n",
       "    }\n",
       "\n",
       "    .dataframe tbody tr th {\n",
       "        vertical-align: top;\n",
       "    }\n",
       "\n",
       "    .dataframe thead th {\n",
       "        text-align: right;\n",
       "    }\n",
       "</style>\n",
       "<table border=\"1\" class=\"dataframe\">\n",
       "  <thead>\n",
       "    <tr style=\"text-align: right;\">\n",
       "      <th></th>\n",
       "      <th>num_processo</th>\n",
       "      <th>cpf_cnpj_infrator</th>\n",
       "      <th>tipo_infracao</th>\n",
       "      <th>capitulacao</th>\n",
       "      <th>valor_multa</th>\n",
       "      <th>data</th>\n",
       "      <th>reincidencia</th>\n",
       "      <th>cnpj_raiz</th>\n",
       "    </tr>\n",
       "  </thead>\n",
       "  <tbody>\n",
       "    <tr>\n",
       "      <th>200584</th>\n",
       "      <td>46205.022708/2013-49</td>\n",
       "      <td>315XXXXXX15</td>\n",
       "      <td>NR 31 - Agricultura, Pecuária, Silvicultura, E...</td>\n",
       "      <td>Artigo 13 da Lei 5.889/73, c/c item 31.8.9 'e'...</td>\n",
       "      <td>1846,68</td>\n",
       "      <td>28/05/2014</td>\n",
       "      <td>N</td>\n",
       "      <td>documento_cpf</td>\n",
       "    </tr>\n",
       "    <tr>\n",
       "      <th>200586</th>\n",
       "      <td>46205.022709/2013-93</td>\n",
       "      <td>315XXXXXX15</td>\n",
       "      <td>Registro de empregado</td>\n",
       "      <td>Art. 41, 'caput' da CLT</td>\n",
       "      <td>402,53</td>\n",
       "      <td>28/05/2014</td>\n",
       "      <td>N</td>\n",
       "      <td>documento_cpf</td>\n",
       "    </tr>\n",
       "    <tr>\n",
       "      <th>200588</th>\n",
       "      <td>46205.022710/2013-18</td>\n",
       "      <td>315XXXXXX15</td>\n",
       "      <td>NR 31 - Agricultura, Pecuária, Silvicultura, E...</td>\n",
       "      <td>Artigo 13 da Lei 5.889/73, c/c item 31.5.1.3.1...</td>\n",
       "      <td>1108,32</td>\n",
       "      <td>28/05/2014</td>\n",
       "      <td>N</td>\n",
       "      <td>documento_cpf</td>\n",
       "    </tr>\n",
       "    <tr>\n",
       "      <th>200590</th>\n",
       "      <td>46205.022711/2013-62</td>\n",
       "      <td>315XXXXXX15</td>\n",
       "      <td>NR 31 - Agricultura, Pecuária, Silvicultura, E...</td>\n",
       "      <td>Artigo 13 da Lei 5.889/73, c/c item 31.8.7 da ...</td>\n",
       "      <td>1846,68</td>\n",
       "      <td>28/05/2014</td>\n",
       "      <td>N</td>\n",
       "      <td>documento_cpf</td>\n",
       "    </tr>\n",
       "    <tr>\n",
       "      <th>200592</th>\n",
       "      <td>46205.022712/2013-15</td>\n",
       "      <td>315XXXXXX15</td>\n",
       "      <td>Fiscalização</td>\n",
       "      <td>Art. 630, § 4º da CLT</td>\n",
       "      <td>1368,61</td>\n",
       "      <td>28/05/2014</td>\n",
       "      <td>N</td>\n",
       "      <td>documento_cpf</td>\n",
       "    </tr>\n",
       "  </tbody>\n",
       "</table>\n",
       "</div>"
      ],
      "text/plain": [
       "                num_processo cpf_cnpj_infrator  \\\n",
       "200584  46205.022708/2013-49       315XXXXXX15   \n",
       "200586  46205.022709/2013-93       315XXXXXX15   \n",
       "200588  46205.022710/2013-18       315XXXXXX15   \n",
       "200590  46205.022711/2013-62       315XXXXXX15   \n",
       "200592  46205.022712/2013-15       315XXXXXX15   \n",
       "\n",
       "                                            tipo_infracao  \\\n",
       "200584  NR 31 - Agricultura, Pecuária, Silvicultura, E...   \n",
       "200586                              Registro de empregado   \n",
       "200588  NR 31 - Agricultura, Pecuária, Silvicultura, E...   \n",
       "200590  NR 31 - Agricultura, Pecuária, Silvicultura, E...   \n",
       "200592                                       Fiscalização   \n",
       "\n",
       "                                              capitulacao valor_multa  \\\n",
       "200584  Artigo 13 da Lei 5.889/73, c/c item 31.8.9 'e'...     1846,68   \n",
       "200586                            Art. 41, 'caput' da CLT      402,53   \n",
       "200588  Artigo 13 da Lei 5.889/73, c/c item 31.5.1.3.1...     1108,32   \n",
       "200590  Artigo 13 da Lei 5.889/73, c/c item 31.8.7 da ...     1846,68   \n",
       "200592                              Art. 630, § 4º da CLT     1368,61   \n",
       "\n",
       "              data reincidencia      cnpj_raiz  \n",
       "200584  28/05/2014            N  documento_cpf  \n",
       "200586  28/05/2014            N  documento_cpf  \n",
       "200588  28/05/2014            N  documento_cpf  \n",
       "200590  28/05/2014            N  documento_cpf  \n",
       "200592  28/05/2014            N  documento_cpf  "
      ]
     },
     "execution_count": 59,
     "metadata": {},
     "output_type": "execute_result"
    }
   ],
   "source": [
    "busca = autos_mte[(autos_mte['cpf_cnpj_infrator'] == '315XXXXXX15')]\n",
    "busca"
   ]
  },
  {
   "cell_type": "code",
   "execution_count": null,
   "id": "02b476e0-c372-4315-bb41-d3d453a4b0f5",
   "metadata": {},
   "outputs": [],
   "source": []
  },
  {
   "cell_type": "code",
   "execution_count": 60,
   "id": "d3295c89-f20f-43ec-999c-7ea34ee2a1f8",
   "metadata": {},
   "outputs": [
    {
     "data": {
      "text/html": [
       "<div>\n",
       "<style scoped>\n",
       "    .dataframe tbody tr th:only-of-type {\n",
       "        vertical-align: middle;\n",
       "    }\n",
       "\n",
       "    .dataframe tbody tr th {\n",
       "        vertical-align: top;\n",
       "    }\n",
       "\n",
       "    .dataframe thead th {\n",
       "        text-align: right;\n",
       "    }\n",
       "</style>\n",
       "<table border=\"1\" class=\"dataframe\">\n",
       "  <thead>\n",
       "    <tr style=\"text-align: right;\">\n",
       "      <th></th>\n",
       "      <th>num_processo</th>\n",
       "      <th>cpf_cnpj_infrator</th>\n",
       "      <th>tipo_infracao</th>\n",
       "      <th>capitulacao</th>\n",
       "      <th>valor_multa</th>\n",
       "      <th>data</th>\n",
       "      <th>reincidencia</th>\n",
       "      <th>cnpj_raiz</th>\n",
       "    </tr>\n",
       "  </thead>\n",
       "  <tbody>\n",
       "    <tr>\n",
       "      <th>844603</th>\n",
       "      <td>46230.000582/2014-25</td>\n",
       "      <td>14572530000380</td>\n",
       "      <td>Períodos de descanso</td>\n",
       "      <td>Art. 71, § 3º da CLT</td>\n",
       "      <td>2737,22</td>\n",
       "      <td>28/11/2014</td>\n",
       "      <td>N</td>\n",
       "      <td>14572530</td>\n",
       "    </tr>\n",
       "    <tr>\n",
       "      <th>861203</th>\n",
       "      <td>46230.010311/2013-05</td>\n",
       "      <td>14572530000380</td>\n",
       "      <td>Fiscalização</td>\n",
       "      <td>Art. 630, § 4º da CLT</td>\n",
       "      <td>1368,61</td>\n",
       "      <td>22/09/2014</td>\n",
       "      <td>N</td>\n",
       "      <td>14572530</td>\n",
       "    </tr>\n",
       "  </tbody>\n",
       "</table>\n",
       "</div>"
      ],
      "text/plain": [
       "                num_processo cpf_cnpj_infrator         tipo_infracao  \\\n",
       "844603  46230.000582/2014-25    14572530000380  Períodos de descanso   \n",
       "861203  46230.010311/2013-05    14572530000380          Fiscalização   \n",
       "\n",
       "                  capitulacao valor_multa        data reincidencia cnpj_raiz  \n",
       "844603   Art. 71, § 3º da CLT     2737,22  28/11/2014            N  14572530  \n",
       "861203  Art. 630, § 4º da CLT     1368,61  22/09/2014            N  14572530  "
      ]
     },
     "execution_count": 60,
     "metadata": {},
     "output_type": "execute_result"
    }
   ],
   "source": [
    "busca = autos_mte[(autos_mte['cnpj_raiz'] == '14572530')]\n",
    "busca"
   ]
  },
  {
   "cell_type": "code",
   "execution_count": null,
   "id": "cb7ae924-b828-46fc-b26a-69fb8f81ec91",
   "metadata": {},
   "outputs": [],
   "source": []
  },
  {
   "cell_type": "code",
   "execution_count": 29,
   "id": "58ad9267-6043-461f-8387-cf5b3e7f2d0e",
   "metadata": {},
   "outputs": [
    {
     "data": {
      "text/html": [
       "<div>\n",
       "<style scoped>\n",
       "    .dataframe tbody tr th:only-of-type {\n",
       "        vertical-align: middle;\n",
       "    }\n",
       "\n",
       "    .dataframe tbody tr th {\n",
       "        vertical-align: top;\n",
       "    }\n",
       "\n",
       "    .dataframe thead th {\n",
       "        text-align: right;\n",
       "    }\n",
       "</style>\n",
       "<table border=\"1\" class=\"dataframe\">\n",
       "  <thead>\n",
       "    <tr style=\"text-align: right;\">\n",
       "      <th></th>\n",
       "      <th>num_processo</th>\n",
       "      <th>cpf_cnpj_infrator</th>\n",
       "      <th>tipo_infracao</th>\n",
       "      <th>capitulacao</th>\n",
       "      <th>valor_multa</th>\n",
       "      <th>data</th>\n",
       "      <th>reincidencia</th>\n",
       "      <th>cnpj_raiz</th>\n",
       "    </tr>\n",
       "  </thead>\n",
       "  <tbody>\n",
       "  </tbody>\n",
       "</table>\n",
       "</div>"
      ],
      "text/plain": [
       "Empty DataFrame\n",
       "Columns: [num_processo, cpf_cnpj_infrator, tipo_infracao, capitulacao, valor_multa, data, reincidencia, cnpj_raiz]\n",
       "Index: []"
      ]
     },
     "execution_count": 29,
     "metadata": {},
     "output_type": "execute_result"
    }
   ],
   "source": [
    "busca = autos_mte[(autos_mte['num_processo'] == '47904.007594/2013-92')]\n",
    "busca"
   ]
  },
  {
   "cell_type": "code",
   "execution_count": 30,
   "id": "7f607915-6368-43bc-a50f-78aba085d821",
   "metadata": {},
   "outputs": [
    {
     "data": {
      "text/plain": [
       "(1048575, 8)"
      ]
     },
     "execution_count": 30,
     "metadata": {},
     "output_type": "execute_result"
    }
   ],
   "source": [
    "autos_mte.shape"
   ]
  },
  {
   "cell_type": "code",
   "execution_count": null,
   "id": "36fede3a-f431-4b63-9ea5-b785c1e0a4f0",
   "metadata": {},
   "outputs": [],
   "source": []
  },
  {
   "cell_type": "code",
   "execution_count": 61,
   "id": "e81b43b1-a2c3-4e31-a3ed-83b2807bdbd8",
   "metadata": {},
   "outputs": [],
   "source": [
    "autos_mte_pf = autos_mte[(autos_mte['cnpj_raiz'] == 'documento_cpf')]\n",
    "autos_mte_pj = autos_mte[(autos_mte['cnpj_raiz'] != 'documento_cpf')]"
   ]
  },
  {
   "cell_type": "code",
   "execution_count": 62,
   "id": "69dfd3f3-9d89-4d80-9892-19b59f694331",
   "metadata": {},
   "outputs": [
    {
     "data": {
      "text/plain": [
       "(61357, 8)"
      ]
     },
     "execution_count": 62,
     "metadata": {},
     "output_type": "execute_result"
    }
   ],
   "source": [
    "autos_mte_pf.shape"
   ]
  },
  {
   "cell_type": "code",
   "execution_count": 63,
   "id": "aa248888-c7da-4110-8192-e9d2aa0e4686",
   "metadata": {},
   "outputs": [
    {
     "data": {
      "text/plain": [
       "(987218, 8)"
      ]
     },
     "execution_count": 63,
     "metadata": {},
     "output_type": "execute_result"
    }
   ],
   "source": [
    "autos_mte_pj.shape"
   ]
  },
  {
   "cell_type": "code",
   "execution_count": null,
   "id": "806bca2a-1134-4341-b3c7-fa79b872a9d7",
   "metadata": {},
   "outputs": [],
   "source": []
  },
  {
   "cell_type": "markdown",
   "id": "942c42a8-39dd-47f7-9ec5-cf2a05f5c3c0",
   "metadata": {},
   "source": [
    "### Doações"
   ]
  },
  {
   "cell_type": "code",
   "execution_count": 64,
   "id": "fd2bac67-c2ab-482b-aa32-03717ad051b1",
   "metadata": {},
   "outputs": [],
   "source": [
    "kwargs = {'sep': ',', 'dtype': str, 'encoding': 'utf-8'}\n",
    "doacoes_2018 = pd.read_csv(\"resultados/doacoes/doacoes_geral_politicos_2018.csv\", **kwargs)"
   ]
  },
  {
   "cell_type": "code",
   "execution_count": 65,
   "id": "cecd2ef9-9e49-408b-958b-8defd400588d",
   "metadata": {},
   "outputs": [
    {
     "data": {
      "text/plain": [
       "(24977, 15)"
      ]
     },
     "execution_count": 65,
     "metadata": {},
     "output_type": "execute_result"
    }
   ],
   "source": [
    "doacoes_2018.shape"
   ]
  },
  {
   "cell_type": "code",
   "execution_count": null,
   "id": "bcdb26d2-9f46-4ce8-a2fe-b040c740d047",
   "metadata": {},
   "outputs": [],
   "source": []
  },
  {
   "cell_type": "code",
   "execution_count": 66,
   "id": "77554cef-7135-4306-a0d6-bea8fd1b9068",
   "metadata": {},
   "outputs": [],
   "source": [
    "def limpeza2(linha):\n",
    "    documento = str(linha[\"NR_CPF_CNPJ_DOADOR\"])\n",
    "    if len(documento) > 11:\n",
    "        return documento[:8]\n",
    "    else:\n",
    "        return \"documento_cpf\"\n",
    "\n",
    "doacoes_2018['NR_CPF_CNPJ_DOADOR_raiz'] = doacoes_2018.apply(limpeza2, axis=1)"
   ]
  },
  {
   "cell_type": "code",
   "execution_count": 67,
   "id": "0b69b9e2-b6c4-4451-9e03-9507dae64773",
   "metadata": {},
   "outputs": [],
   "source": [
    "doacoes_2018_pf = doacoes_2018[(doacoes_2018['NR_CPF_CNPJ_DOADOR_raiz'] == 'documento_cpf')].copy()\n",
    "doacoes_2018_pj = doacoes_2018[(doacoes_2018['NR_CPF_CNPJ_DOADOR_raiz'] != 'documento_cpf')].copy()"
   ]
  },
  {
   "cell_type": "code",
   "execution_count": null,
   "id": "048caf94-6eab-4363-b28a-2be60e9f2f80",
   "metadata": {},
   "outputs": [],
   "source": []
  },
  {
   "cell_type": "code",
   "execution_count": 68,
   "id": "c4960a06-7e4b-4869-b15e-dbb532380b1c",
   "metadata": {},
   "outputs": [
    {
     "data": {
      "text/plain": [
       "Index(['DT_RECEITA', 'NR_CPF_CANDIDATO', 'SQ_CANDIDATO', 'NM_CANDIDATO',\n",
       "       'DS_FONTE_RECEITA', 'DS_NATUREZA_RECEITA', 'NR_CPF_CNPJ_DOADOR',\n",
       "       'NM_DOADOR_RFB', 'DS_ESFERA_PARTIDARIA_DOADOR', 'NM_PARTIDO_DOADOR',\n",
       "       'SQ_CANDIDATO_DOADOR', 'DS_CARGO_CANDIDATO_DOADOR', 'SG_PARTIDO_DOADOR',\n",
       "       'DS_RECEITA', 'VR_RECEITA', 'NR_CPF_CNPJ_DOADOR_raiz'],\n",
       "      dtype='object')"
      ]
     },
     "execution_count": 68,
     "metadata": {},
     "output_type": "execute_result"
    }
   ],
   "source": [
    "doacoes_2018.columns"
   ]
  },
  {
   "cell_type": "code",
   "execution_count": null,
   "id": "f52620a9-3d7d-448d-8c6c-e3cb4b36eaf4",
   "metadata": {},
   "outputs": [],
   "source": []
  },
  {
   "cell_type": "code",
   "execution_count": 69,
   "id": "6cec8c33-e008-4b90-90aa-6b7608f3abd0",
   "metadata": {},
   "outputs": [
    {
     "data": {
      "text/html": [
       "<div>\n",
       "<style scoped>\n",
       "    .dataframe tbody tr th:only-of-type {\n",
       "        vertical-align: middle;\n",
       "    }\n",
       "\n",
       "    .dataframe tbody tr th {\n",
       "        vertical-align: top;\n",
       "    }\n",
       "\n",
       "    .dataframe thead th {\n",
       "        text-align: right;\n",
       "    }\n",
       "</style>\n",
       "<table border=\"1\" class=\"dataframe\">\n",
       "  <thead>\n",
       "    <tr style=\"text-align: right;\">\n",
       "      <th></th>\n",
       "      <th>NR_CPF_CNPJ_DOADOR</th>\n",
       "      <th>NM_DOADOR_RFB</th>\n",
       "    </tr>\n",
       "  </thead>\n",
       "  <tbody>\n",
       "    <tr>\n",
       "      <th>1026</th>\n",
       "      <td>31220532000168</td>\n",
       "      <td>ELEICAO 2018 CARLOS EDUARDO DE SOUZA BRAGA SEN...</td>\n",
       "    </tr>\n",
       "    <tr>\n",
       "      <th>24708</th>\n",
       "      <td>03380916889</td>\n",
       "      <td>NILTO IGNACIO TATTO</td>\n",
       "    </tr>\n",
       "    <tr>\n",
       "      <th>8275</th>\n",
       "      <td>16381467649</td>\n",
       "      <td>REINALDO JULIO CAZOTTI</td>\n",
       "    </tr>\n",
       "    <tr>\n",
       "      <th>16646</th>\n",
       "      <td>36031267268</td>\n",
       "      <td>SERGIO LUIZ PACIFICO</td>\n",
       "    </tr>\n",
       "    <tr>\n",
       "      <th>2600</th>\n",
       "      <td>04675118534</td>\n",
       "      <td>HAROLDO BORGES RODRIGUES LIMA</td>\n",
       "    </tr>\n",
       "  </tbody>\n",
       "</table>\n",
       "</div>"
      ],
      "text/plain": [
       "      NR_CPF_CNPJ_DOADOR                                      NM_DOADOR_RFB\n",
       "1026      31220532000168  ELEICAO 2018 CARLOS EDUARDO DE SOUZA BRAGA SEN...\n",
       "24708        03380916889                                NILTO IGNACIO TATTO\n",
       "8275         16381467649                             REINALDO JULIO CAZOTTI\n",
       "16646        36031267268                               SERGIO LUIZ PACIFICO\n",
       "2600         04675118534                      HAROLDO BORGES RODRIGUES LIMA"
      ]
     },
     "execution_count": 69,
     "metadata": {},
     "output_type": "execute_result"
    }
   ],
   "source": [
    "doacoes_2018[['NR_CPF_CNPJ_DOADOR', 'NM_DOADOR_RFB']].sample(5)"
   ]
  },
  {
   "cell_type": "code",
   "execution_count": null,
   "id": "c9663a01-b333-4967-892f-207e482bfe80",
   "metadata": {},
   "outputs": [],
   "source": []
  },
  {
   "cell_type": "code",
   "execution_count": 70,
   "id": "1445acf7-8770-4ac1-9127-388a60157c09",
   "metadata": {},
   "outputs": [],
   "source": [
    "apel = doacoes_2018[(doacoes_2018['NR_CPF_CNPJ_DOADOR'] == '14572530000380')]"
   ]
  },
  {
   "cell_type": "code",
   "execution_count": 71,
   "id": "659a8599-a9ce-46b9-a54e-eec4c3b12f94",
   "metadata": {},
   "outputs": [
    {
     "data": {
      "text/html": [
       "<div>\n",
       "<style scoped>\n",
       "    .dataframe tbody tr th:only-of-type {\n",
       "        vertical-align: middle;\n",
       "    }\n",
       "\n",
       "    .dataframe tbody tr th {\n",
       "        vertical-align: top;\n",
       "    }\n",
       "\n",
       "    .dataframe thead th {\n",
       "        text-align: right;\n",
       "    }\n",
       "</style>\n",
       "<table border=\"1\" class=\"dataframe\">\n",
       "  <thead>\n",
       "    <tr style=\"text-align: right;\">\n",
       "      <th></th>\n",
       "      <th>DT_RECEITA</th>\n",
       "      <th>NR_CPF_CANDIDATO</th>\n",
       "      <th>SQ_CANDIDATO</th>\n",
       "      <th>NM_CANDIDATO</th>\n",
       "      <th>DS_FONTE_RECEITA</th>\n",
       "      <th>DS_NATUREZA_RECEITA</th>\n",
       "      <th>NR_CPF_CNPJ_DOADOR</th>\n",
       "      <th>NM_DOADOR_RFB</th>\n",
       "      <th>DS_ESFERA_PARTIDARIA_DOADOR</th>\n",
       "      <th>NM_PARTIDO_DOADOR</th>\n",
       "      <th>SQ_CANDIDATO_DOADOR</th>\n",
       "      <th>DS_CARGO_CANDIDATO_DOADOR</th>\n",
       "      <th>SG_PARTIDO_DOADOR</th>\n",
       "      <th>DS_RECEITA</th>\n",
       "      <th>VR_RECEITA</th>\n",
       "      <th>NR_CPF_CNPJ_DOADOR_raiz</th>\n",
       "    </tr>\n",
       "  </thead>\n",
       "  <tbody>\n",
       "  </tbody>\n",
       "</table>\n",
       "</div>"
      ],
      "text/plain": [
       "Empty DataFrame\n",
       "Columns: [DT_RECEITA, NR_CPF_CANDIDATO, SQ_CANDIDATO, NM_CANDIDATO, DS_FONTE_RECEITA, DS_NATUREZA_RECEITA, NR_CPF_CNPJ_DOADOR, NM_DOADOR_RFB, DS_ESFERA_PARTIDARIA_DOADOR, NM_PARTIDO_DOADOR, SQ_CANDIDATO_DOADOR, DS_CARGO_CANDIDATO_DOADOR, SG_PARTIDO_DOADOR, DS_RECEITA, VR_RECEITA, NR_CPF_CNPJ_DOADOR_raiz]\n",
       "Index: []"
      ]
     },
     "execution_count": 71,
     "metadata": {},
     "output_type": "execute_result"
    }
   ],
   "source": [
    "apel"
   ]
  },
  {
   "cell_type": "code",
   "execution_count": null,
   "id": "27959d3a-9798-493d-95cf-35a517270713",
   "metadata": {},
   "outputs": [],
   "source": []
  },
  {
   "cell_type": "code",
   "execution_count": 24,
   "id": "3636b34a-d267-4c41-b7b4-62302a654872",
   "metadata": {},
   "outputs": [],
   "source": [
    "# Cria coluna de CPF de doador mascarado e nomes sem acentos para cruzar depois"
   ]
  },
  {
   "cell_type": "code",
   "execution_count": 72,
   "id": "5286f184-c0bb-4917-be8e-3415fe6a19f0",
   "metadata": {},
   "outputs": [],
   "source": [
    "doacoes_2018_pf['cpf_mascarado_doador']= doacoes_2018_pf['NR_CPF_CNPJ_DOADOR'].str[0:3]+\"XXXXXX\"+doacoes_2018_pf['NR_CPF_CNPJ_DOADOR'].str[-2:]"
   ]
  },
  {
   "cell_type": "code",
   "execution_count": 73,
   "id": "d425d2f3-419c-4f7d-8c82-6bcc78accc5f",
   "metadata": {},
   "outputs": [],
   "source": [
    "doacoes_2018_pf['nome_doador_semacentos'] = doacoes_2018_pf['NM_DOADOR_RFB'] \n",
    "doacoes_2018_pf[\"nome_doador_semacentos\"] = doacoes_2018_pf[\"nome_doador_semacentos\"].apply(f)"
   ]
  },
  {
   "cell_type": "code",
   "execution_count": null,
   "id": "19aefaa3-2f06-4979-a4c1-259759136fba",
   "metadata": {},
   "outputs": [],
   "source": []
  },
  {
   "cell_type": "code",
   "execution_count": 78,
   "id": "7494a7b7-8417-4e69-b2b6-2746d8bf0681",
   "metadata": {},
   "outputs": [
    {
     "data": {
      "text/html": [
       "<div>\n",
       "<style scoped>\n",
       "    .dataframe tbody tr th:only-of-type {\n",
       "        vertical-align: middle;\n",
       "    }\n",
       "\n",
       "    .dataframe tbody tr th {\n",
       "        vertical-align: top;\n",
       "    }\n",
       "\n",
       "    .dataframe thead th {\n",
       "        text-align: right;\n",
       "    }\n",
       "</style>\n",
       "<table border=\"1\" class=\"dataframe\">\n",
       "  <thead>\n",
       "    <tr style=\"text-align: right;\">\n",
       "      <th></th>\n",
       "      <th>NR_CPF_CNPJ_DOADOR</th>\n",
       "      <th>cpf_mascarado_doador</th>\n",
       "      <th>NM_DOADOR_RFB</th>\n",
       "      <th>nome_doador_semacentos</th>\n",
       "      <th>NR_CPF_CNPJ_DOADOR_raiz</th>\n",
       "    </tr>\n",
       "  </thead>\n",
       "  <tbody>\n",
       "    <tr>\n",
       "      <th>18217</th>\n",
       "      <td>18754678072</td>\n",
       "      <td>187XXXXXX72</td>\n",
       "      <td>LAURA CATARINA SCAGLIONE TESSMER</td>\n",
       "      <td>LAURA CATARINA SCAGLIONE TESSMER</td>\n",
       "      <td>documento_cpf</td>\n",
       "    </tr>\n",
       "    <tr>\n",
       "      <th>4421</th>\n",
       "      <td>34279350787</td>\n",
       "      <td>342XXXXXX87</td>\n",
       "      <td>LUIZ RIGONI</td>\n",
       "      <td>LUIZ RIGONI</td>\n",
       "      <td>documento_cpf</td>\n",
       "    </tr>\n",
       "    <tr>\n",
       "      <th>22889</th>\n",
       "      <td>07628157874</td>\n",
       "      <td>076XXXXXX74</td>\n",
       "      <td>REGINA APARECIDA ROTH</td>\n",
       "      <td>REGINA APARECIDA ROTH</td>\n",
       "      <td>documento_cpf</td>\n",
       "    </tr>\n",
       "    <tr>\n",
       "      <th>3336</th>\n",
       "      <td>03753762326</td>\n",
       "      <td>037XXXXXX26</td>\n",
       "      <td>IVO NOVAIS DIAS MONTENEGRO</td>\n",
       "      <td>IVO NOVAIS DIAS MONTENEGRO</td>\n",
       "      <td>documento_cpf</td>\n",
       "    </tr>\n",
       "    <tr>\n",
       "      <th>2772</th>\n",
       "      <td>78310377568</td>\n",
       "      <td>783XXXXXX68</td>\n",
       "      <td>JOSE GILMAR DE OLIVEIRA SOUZA</td>\n",
       "      <td>JOSE GILMAR DE OLIVEIRA SOUZA</td>\n",
       "      <td>documento_cpf</td>\n",
       "    </tr>\n",
       "  </tbody>\n",
       "</table>\n",
       "</div>"
      ],
      "text/plain": [
       "      NR_CPF_CNPJ_DOADOR cpf_mascarado_doador  \\\n",
       "18217        18754678072          187XXXXXX72   \n",
       "4421         34279350787          342XXXXXX87   \n",
       "22889        07628157874          076XXXXXX74   \n",
       "3336         03753762326          037XXXXXX26   \n",
       "2772         78310377568          783XXXXXX68   \n",
       "\n",
       "                          NM_DOADOR_RFB            nome_doador_semacentos  \\\n",
       "18217  LAURA CATARINA SCAGLIONE TESSMER  LAURA CATARINA SCAGLIONE TESSMER   \n",
       "4421                        LUIZ RIGONI                       LUIZ RIGONI   \n",
       "22889             REGINA APARECIDA ROTH             REGINA APARECIDA ROTH   \n",
       "3336         IVO NOVAIS DIAS MONTENEGRO        IVO NOVAIS DIAS MONTENEGRO   \n",
       "2772      JOSE GILMAR DE OLIVEIRA SOUZA     JOSE GILMAR DE OLIVEIRA SOUZA   \n",
       "\n",
       "      NR_CPF_CNPJ_DOADOR_raiz  \n",
       "18217           documento_cpf  \n",
       "4421            documento_cpf  \n",
       "22889           documento_cpf  \n",
       "3336            documento_cpf  \n",
       "2772            documento_cpf  "
      ]
     },
     "execution_count": 78,
     "metadata": {},
     "output_type": "execute_result"
    }
   ],
   "source": [
    "doacoes_2018_pf[['NR_CPF_CNPJ_DOADOR', 'cpf_mascarado_doador', 'NM_DOADOR_RFB', 'nome_doador_semacentos', 'NR_CPF_CNPJ_DOADOR_raiz']].sample(5)"
   ]
  },
  {
   "cell_type": "code",
   "execution_count": null,
   "id": "6a7fd01a-2633-4265-ae1a-3d61463080c6",
   "metadata": {},
   "outputs": [],
   "source": []
  },
  {
   "cell_type": "code",
   "execution_count": 75,
   "id": "e7fcd59c-0433-49af-84b8-f07cfcba1dc2",
   "metadata": {},
   "outputs": [],
   "source": [
    "doacoes_pj_mte = pd.merge(doacoes_2018, autos_mte_pj.drop_duplicates('cnpj_raiz'), left_on='NR_CPF_CNPJ_DOADOR_raiz', right_on='cnpj_raiz', how = 'left')"
   ]
  },
  {
   "cell_type": "code",
   "execution_count": 76,
   "id": "06860e36-a6da-4371-86a9-d9b4600b2440",
   "metadata": {},
   "outputs": [
    {
     "data": {
      "text/plain": [
       "(24977, 24)"
      ]
     },
     "execution_count": 76,
     "metadata": {},
     "output_type": "execute_result"
    }
   ],
   "source": [
    "doacoes_pj_mte.shape"
   ]
  },
  {
   "cell_type": "code",
   "execution_count": 77,
   "id": "d75b5d95-f347-4287-8030-0f657852ed5d",
   "metadata": {},
   "outputs": [
    {
     "data": {
      "text/plain": [
       "(138, 24)"
      ]
     },
     "execution_count": 77,
     "metadata": {},
     "output_type": "execute_result"
    }
   ],
   "source": [
    "conta = doacoes_pj_mte[pd.notnull(doacoes_pj_mte['cpf_cnpj_infrator'])].copy()\n",
    "conta.shape"
   ]
  },
  {
   "cell_type": "code",
   "execution_count": 79,
   "id": "a4387db1-5cae-4dcd-b228-d5e4add6d1dd",
   "metadata": {},
   "outputs": [
    {
     "data": {
      "text/html": [
       "<div>\n",
       "<style scoped>\n",
       "    .dataframe tbody tr th:only-of-type {\n",
       "        vertical-align: middle;\n",
       "    }\n",
       "\n",
       "    .dataframe tbody tr th {\n",
       "        vertical-align: top;\n",
       "    }\n",
       "\n",
       "    .dataframe thead th {\n",
       "        text-align: right;\n",
       "    }\n",
       "</style>\n",
       "<table border=\"1\" class=\"dataframe\">\n",
       "  <thead>\n",
       "    <tr style=\"text-align: right;\">\n",
       "      <th></th>\n",
       "      <th>DT_RECEITA</th>\n",
       "      <th>NR_CPF_CANDIDATO</th>\n",
       "      <th>SQ_CANDIDATO</th>\n",
       "      <th>NM_CANDIDATO</th>\n",
       "      <th>DS_FONTE_RECEITA</th>\n",
       "      <th>DS_NATUREZA_RECEITA</th>\n",
       "      <th>NR_CPF_CNPJ_DOADOR</th>\n",
       "      <th>NM_DOADOR_RFB</th>\n",
       "      <th>DS_ESFERA_PARTIDARIA_DOADOR</th>\n",
       "      <th>NM_PARTIDO_DOADOR</th>\n",
       "      <th>...</th>\n",
       "      <th>VR_RECEITA</th>\n",
       "      <th>NR_CPF_CNPJ_DOADOR_raiz</th>\n",
       "      <th>num_processo</th>\n",
       "      <th>cpf_cnpj_infrator</th>\n",
       "      <th>tipo_infracao</th>\n",
       "      <th>capitulacao</th>\n",
       "      <th>valor_multa</th>\n",
       "      <th>data</th>\n",
       "      <th>reincidencia</th>\n",
       "      <th>cnpj_raiz</th>\n",
       "    </tr>\n",
       "  </thead>\n",
       "  <tbody>\n",
       "    <tr>\n",
       "      <th>14910</th>\n",
       "      <td>24/08/2018</td>\n",
       "      <td>07973687793</td>\n",
       "      <td>190000607467</td>\n",
       "      <td>DANIELA MOTE DE SOUZA CARNEIRO</td>\n",
       "      <td>Outros Recursos</td>\n",
       "      <td>Estimável</td>\n",
       "      <td>14572530000119</td>\n",
       "      <td>APEL GRAFICA E EDITORA LTDA</td>\n",
       "      <td>#NULO#</td>\n",
       "      <td>Democratas</td>\n",
       "      <td>...</td>\n",
       "      <td>1542,50</td>\n",
       "      <td>14572530</td>\n",
       "      <td>46230.000582/2014-25</td>\n",
       "      <td>14572530000380</td>\n",
       "      <td>Períodos de descanso</td>\n",
       "      <td>Art. 71, § 3º da CLT</td>\n",
       "      <td>2737,22</td>\n",
       "      <td>28/11/2014</td>\n",
       "      <td>N</td>\n",
       "      <td>14572530</td>\n",
       "    </tr>\n",
       "  </tbody>\n",
       "</table>\n",
       "<p>1 rows × 24 columns</p>\n",
       "</div>"
      ],
      "text/plain": [
       "       DT_RECEITA NR_CPF_CANDIDATO  SQ_CANDIDATO  \\\n",
       "14910  24/08/2018      07973687793  190000607467   \n",
       "\n",
       "                         NM_CANDIDATO DS_FONTE_RECEITA DS_NATUREZA_RECEITA  \\\n",
       "14910  DANIELA MOTE DE SOUZA CARNEIRO  Outros Recursos           Estimável   \n",
       "\n",
       "      NR_CPF_CNPJ_DOADOR                NM_DOADOR_RFB  \\\n",
       "14910     14572530000119  APEL GRAFICA E EDITORA LTDA   \n",
       "\n",
       "      DS_ESFERA_PARTIDARIA_DOADOR NM_PARTIDO_DOADOR  ... VR_RECEITA  \\\n",
       "14910                      #NULO#        Democratas  ...    1542,50   \n",
       "\n",
       "      NR_CPF_CNPJ_DOADOR_raiz          num_processo cpf_cnpj_infrator  \\\n",
       "14910                14572530  46230.000582/2014-25    14572530000380   \n",
       "\n",
       "              tipo_infracao           capitulacao valor_multa        data  \\\n",
       "14910  Períodos de descanso  Art. 71, § 3º da CLT     2737,22  28/11/2014   \n",
       "\n",
       "      reincidencia cnpj_raiz  \n",
       "14910            N  14572530  \n",
       "\n",
       "[1 rows x 24 columns]"
      ]
     },
     "execution_count": 79,
     "metadata": {},
     "output_type": "execute_result"
    }
   ],
   "source": [
    "busca = conta[(conta['cnpj_raiz'] == '14572530')]\n",
    "busca"
   ]
  },
  {
   "cell_type": "code",
   "execution_count": null,
   "id": "dedc5d1c-af0b-40dc-bdbe-b6a719c013f3",
   "metadata": {},
   "outputs": [],
   "source": []
  },
  {
   "cell_type": "code",
   "execution_count": null,
   "id": "2b98dd9a-ffe1-464f-a588-bc3dab98aa7b",
   "metadata": {},
   "outputs": [],
   "source": []
  },
  {
   "cell_type": "code",
   "execution_count": 50,
   "id": "7026c9a3-b980-4d90-acec-fcb45dc019d9",
   "metadata": {},
   "outputs": [],
   "source": [
    "conta.to_excel('resultados/autos_mte/doacoes_diretas_vindas_empresas_com_autos_de_infracao_mte_2018(sao_partidos).xlsx',sheet_name='Sheet1',index=False)"
   ]
  },
  {
   "cell_type": "code",
   "execution_count": null,
   "id": "77a86e8a-2c8a-4a78-8cb4-37d8f7534d82",
   "metadata": {},
   "outputs": [],
   "source": []
  },
  {
   "cell_type": "code",
   "execution_count": 51,
   "id": "449649d8-b2ed-44a1-be40-55794e2ba809",
   "metadata": {},
   "outputs": [],
   "source": [
    "# Versão para BD"
   ]
  },
  {
   "cell_type": "code",
   "execution_count": 31,
   "id": "56907005-edf9-4d05-8ce4-bf191d007544",
   "metadata": {},
   "outputs": [],
   "source": [
    "conta['doacoes_tipo'] = 'direta'"
   ]
  },
  {
   "cell_type": "code",
   "execution_count": 32,
   "id": "de844d42-70fa-44c0-beb2-0c4413ec84a0",
   "metadata": {},
   "outputs": [
    {
     "data": {
      "text/plain": [
       "Index(['DT_RECEITA', 'NR_CPF_CANDIDATO', 'SQ_CANDIDATO', 'NM_CANDIDATO',\n",
       "       'DS_FONTE_RECEITA', 'DS_NATUREZA_RECEITA', 'NR_CPF_CNPJ_DOADOR',\n",
       "       'NM_DOADOR_RFB', 'DS_ESFERA_PARTIDARIA_DOADOR', 'NM_PARTIDO_DOADOR',\n",
       "       'SQ_CANDIDATO_DOADOR', 'DS_CARGO_CANDIDATO_DOADOR', 'SG_PARTIDO_DOADOR',\n",
       "       'DS_RECEITA', 'VR_RECEITA', 'NR_CPF_CNPJ_DOADOR_raiz', 'num_processo',\n",
       "       'cpf_cnpj_infrator', 'tipo_infracao', 'capitulacao', 'valor_multa',\n",
       "       'data', 'reincidencia', 'cnpj_raiz', 'doacoes_tipo'],\n",
       "      dtype='object')"
      ]
     },
     "execution_count": 32,
     "metadata": {},
     "output_type": "execute_result"
    }
   ],
   "source": [
    "conta.columns"
   ]
  },
  {
   "cell_type": "code",
   "execution_count": null,
   "id": "b570662e-7529-4caa-ba6b-4bb550a68cbd",
   "metadata": {},
   "outputs": [],
   "source": []
  },
  {
   "cell_type": "code",
   "execution_count": 33,
   "id": "f0ab63aa-2dcf-4b5e-a63b-6108b590bcca",
   "metadata": {},
   "outputs": [],
   "source": [
    "conta.rename(columns = {'VR_RECEITA':'valor'},inplace = True)\n",
    "conta.rename(columns = {'NR_CPF_CANDIDATO':'politico_id'},inplace = True)\n",
    "conta.rename(columns = {'cpf_cnpj_infrator':'entidade_id'},inplace = True)\n",
    "conta.rename(columns = {'NM_DOADOR_RFB':'entidade_nome'},inplace = True)\n",
    "conta.rename(columns = {'DS_FONTE_RECEITA':'origem_do_dinheiro_no_tse'},inplace = True)\n",
    "conta.rename(columns = {'DT_RECEITA':'data1'},inplace = True)"
   ]
  },
  {
   "cell_type": "code",
   "execution_count": null,
   "id": "c4617886-b159-43d5-a2f7-1052b6854b44",
   "metadata": {},
   "outputs": [],
   "source": []
  },
  {
   "cell_type": "code",
   "execution_count": 34,
   "id": "5ab753cf-9ea0-47a2-85c0-8ebe74ae25ab",
   "metadata": {},
   "outputs": [],
   "source": [
    "conta = conta[['valor', 'politico_id', 'entidade_id', 'entidade_nome', 'doacoes_tipo', 'origem_do_dinheiro_no_tse', 'data1']]"
   ]
  },
  {
   "cell_type": "code",
   "execution_count": 35,
   "id": "e98bec0f-47b5-4c62-9f29-282f2ce17c8b",
   "metadata": {},
   "outputs": [],
   "source": [
    "conta.rename(columns = {'data1':'data'},inplace = True)"
   ]
  },
  {
   "cell_type": "code",
   "execution_count": 36,
   "id": "1d4cbe65-0a3a-48e7-8d15-8702af82bf04",
   "metadata": {},
   "outputs": [
    {
     "data": {
      "text/plain": [
       "Index(['valor', 'politico_id', 'entidade_id', 'entidade_nome', 'doacoes_tipo',\n",
       "       'origem_do_dinheiro_no_tse', 'data'],\n",
       "      dtype='object')"
      ]
     },
     "execution_count": 36,
     "metadata": {},
     "output_type": "execute_result"
    }
   ],
   "source": [
    "conta.columns"
   ]
  },
  {
   "cell_type": "code",
   "execution_count": 37,
   "id": "c518dc96-3f72-4cfb-98c3-e3adbb1428e7",
   "metadata": {},
   "outputs": [
    {
     "data": {
      "text/html": [
       "<div>\n",
       "<style scoped>\n",
       "    .dataframe tbody tr th:only-of-type {\n",
       "        vertical-align: middle;\n",
       "    }\n",
       "\n",
       "    .dataframe tbody tr th {\n",
       "        vertical-align: top;\n",
       "    }\n",
       "\n",
       "    .dataframe thead th {\n",
       "        text-align: right;\n",
       "    }\n",
       "</style>\n",
       "<table border=\"1\" class=\"dataframe\">\n",
       "  <thead>\n",
       "    <tr style=\"text-align: right;\">\n",
       "      <th></th>\n",
       "      <th>valor</th>\n",
       "      <th>politico_id</th>\n",
       "      <th>entidade_id</th>\n",
       "      <th>entidade_nome</th>\n",
       "      <th>doacoes_tipo</th>\n",
       "      <th>origem_do_dinheiro_no_tse</th>\n",
       "      <th>data</th>\n",
       "    </tr>\n",
       "  </thead>\n",
       "  <tbody>\n",
       "    <tr>\n",
       "      <th>453</th>\n",
       "      <td>450000,00</td>\n",
       "      <td>63182246291</td>\n",
       "      <td>00676262000170</td>\n",
       "      <td>PARTIDO DOS TRABALHADORES</td>\n",
       "      <td>direta</td>\n",
       "      <td>Fundo Especial</td>\n",
       "      <td>12/09/2018</td>\n",
       "    </tr>\n",
       "    <tr>\n",
       "      <th>454</th>\n",
       "      <td>450000,00</td>\n",
       "      <td>63182246291</td>\n",
       "      <td>00676262000170</td>\n",
       "      <td>PARTIDO DOS TRABALHADORES</td>\n",
       "      <td>direta</td>\n",
       "      <td>Fundo Especial</td>\n",
       "      <td>24/08/2018</td>\n",
       "    </tr>\n",
       "    <tr>\n",
       "      <th>664</th>\n",
       "      <td>450000,00</td>\n",
       "      <td>14433290459</td>\n",
       "      <td>00676262000170</td>\n",
       "      <td>PARTIDO DOS TRABALHADORES</td>\n",
       "      <td>direta</td>\n",
       "      <td>Fundo Especial</td>\n",
       "      <td>30/08/2018</td>\n",
       "    </tr>\n",
       "    <tr>\n",
       "      <th>665</th>\n",
       "      <td>450000,00</td>\n",
       "      <td>14433290459</td>\n",
       "      <td>00676262000170</td>\n",
       "      <td>PARTIDO DOS TRABALHADORES</td>\n",
       "      <td>direta</td>\n",
       "      <td>Fundo Especial</td>\n",
       "      <td>12/09/2018</td>\n",
       "    </tr>\n",
       "    <tr>\n",
       "      <th>1127</th>\n",
       "      <td>199250,00</td>\n",
       "      <td>18660037200</td>\n",
       "      <td>00676262000170</td>\n",
       "      <td>PARTIDO DOS TRABALHADORES</td>\n",
       "      <td>direta</td>\n",
       "      <td>Fundo Especial</td>\n",
       "      <td>13/09/2018</td>\n",
       "    </tr>\n",
       "    <tr>\n",
       "      <th>...</th>\n",
       "      <td>...</td>\n",
       "      <td>...</td>\n",
       "      <td>...</td>\n",
       "      <td>...</td>\n",
       "      <td>...</td>\n",
       "      <td>...</td>\n",
       "      <td>...</td>\n",
       "    </tr>\n",
       "    <tr>\n",
       "      <th>24745</th>\n",
       "      <td>196500,00</td>\n",
       "      <td>61464686815</td>\n",
       "      <td>00676262000170</td>\n",
       "      <td>PARTIDO DOS TRABALHADORES</td>\n",
       "      <td>direta</td>\n",
       "      <td>Fundo Especial</td>\n",
       "      <td>03/09/2018</td>\n",
       "    </tr>\n",
       "    <tr>\n",
       "      <th>24771</th>\n",
       "      <td>13,20</td>\n",
       "      <td>61464686815</td>\n",
       "      <td>00676262000170</td>\n",
       "      <td>PARTIDO DOS TRABALHADORES</td>\n",
       "      <td>direta</td>\n",
       "      <td>Fundo Partidario</td>\n",
       "      <td>01/11/2018</td>\n",
       "    </tr>\n",
       "    <tr>\n",
       "      <th>24772</th>\n",
       "      <td>253500,00</td>\n",
       "      <td>61464686815</td>\n",
       "      <td>00676262000170</td>\n",
       "      <td>PARTIDO DOS TRABALHADORES</td>\n",
       "      <td>direta</td>\n",
       "      <td>Fundo Especial</td>\n",
       "      <td>27/08/2018</td>\n",
       "    </tr>\n",
       "    <tr>\n",
       "      <th>24970</th>\n",
       "      <td>181250,00</td>\n",
       "      <td>12364983134</td>\n",
       "      <td>00676262000170</td>\n",
       "      <td>PARTIDO DOS TRABALHADORES</td>\n",
       "      <td>direta</td>\n",
       "      <td>Fundo Especial</td>\n",
       "      <td>13/09/2018</td>\n",
       "    </tr>\n",
       "    <tr>\n",
       "      <th>24971</th>\n",
       "      <td>181250,00</td>\n",
       "      <td>12364983134</td>\n",
       "      <td>00676262000170</td>\n",
       "      <td>PARTIDO DOS TRABALHADORES</td>\n",
       "      <td>direta</td>\n",
       "      <td>Fundo Especial</td>\n",
       "      <td>31/08/2018</td>\n",
       "    </tr>\n",
       "  </tbody>\n",
       "</table>\n",
       "<p>138 rows × 7 columns</p>\n",
       "</div>"
      ],
      "text/plain": [
       "           valor  politico_id     entidade_id              entidade_nome  \\\n",
       "453    450000,00  63182246291  00676262000170  PARTIDO DOS TRABALHADORES   \n",
       "454    450000,00  63182246291  00676262000170  PARTIDO DOS TRABALHADORES   \n",
       "664    450000,00  14433290459  00676262000170  PARTIDO DOS TRABALHADORES   \n",
       "665    450000,00  14433290459  00676262000170  PARTIDO DOS TRABALHADORES   \n",
       "1127   199250,00  18660037200  00676262000170  PARTIDO DOS TRABALHADORES   \n",
       "...          ...          ...             ...                        ...   \n",
       "24745  196500,00  61464686815  00676262000170  PARTIDO DOS TRABALHADORES   \n",
       "24771      13,20  61464686815  00676262000170  PARTIDO DOS TRABALHADORES   \n",
       "24772  253500,00  61464686815  00676262000170  PARTIDO DOS TRABALHADORES   \n",
       "24970  181250,00  12364983134  00676262000170  PARTIDO DOS TRABALHADORES   \n",
       "24971  181250,00  12364983134  00676262000170  PARTIDO DOS TRABALHADORES   \n",
       "\n",
       "      doacoes_tipo origem_do_dinheiro_no_tse        data  \n",
       "453         direta            Fundo Especial  12/09/2018  \n",
       "454         direta            Fundo Especial  24/08/2018  \n",
       "664         direta            Fundo Especial  30/08/2018  \n",
       "665         direta            Fundo Especial  12/09/2018  \n",
       "1127        direta            Fundo Especial  13/09/2018  \n",
       "...            ...                       ...         ...  \n",
       "24745       direta            Fundo Especial  03/09/2018  \n",
       "24771       direta          Fundo Partidario  01/11/2018  \n",
       "24772       direta            Fundo Especial  27/08/2018  \n",
       "24970       direta            Fundo Especial  13/09/2018  \n",
       "24971       direta            Fundo Especial  31/08/2018  \n",
       "\n",
       "[138 rows x 7 columns]"
      ]
     },
     "execution_count": 37,
     "metadata": {},
     "output_type": "execute_result"
    }
   ],
   "source": [
    "conta"
   ]
  },
  {
   "cell_type": "code",
   "execution_count": 38,
   "id": "a12eeec4-269e-4937-80ad-d334d472a8f1",
   "metadata": {},
   "outputs": [
    {
     "data": {
      "text/plain": [
       "(138, 7)"
      ]
     },
     "execution_count": 38,
     "metadata": {},
     "output_type": "execute_result"
    }
   ],
   "source": [
    "conta.shape"
   ]
  },
  {
   "cell_type": "code",
   "execution_count": null,
   "id": "8b5eb87f-bf77-4646-8a52-798ad554dd48",
   "metadata": {},
   "outputs": [],
   "source": [
    "conta.to_csv('resultados/autos_mte/doacoes_diretas_vindas_pessoas_com_autos_de_mte_2018.csv',index=False)"
   ]
  },
  {
   "cell_type": "code",
   "execution_count": null,
   "id": "8f0e69e0-e313-4553-a564-b07ac985ece7",
   "metadata": {},
   "outputs": [],
   "source": []
  },
  {
   "cell_type": "code",
   "execution_count": null,
   "id": "77fcdb49-83a1-450a-9405-9a9de1c46c43",
   "metadata": {},
   "outputs": [],
   "source": []
  },
  {
   "cell_type": "code",
   "execution_count": null,
   "id": "0e59c374-a164-49af-bf67-520154306b88",
   "metadata": {},
   "outputs": [],
   "source": [
    "# Pessoa física - não feito porque não tem o nome e o CPF tem poucos dígitos"
   ]
  },
  {
   "cell_type": "code",
   "execution_count": 58,
   "id": "3229b059-cf6c-409a-9cfe-65a6d991d46e",
   "metadata": {},
   "outputs": [],
   "source": [
    "# doacoes_pf_mte = pd.merge(doacoes_2018_pf, autos_mte_pf.drop_duplicates('cpf_cnpj_infrator'), left_on='cpf_mascarado_doador', \n",
    "#                            right_on='cpf_cnpj_infrator', how = 'left')"
   ]
  },
  {
   "cell_type": "code",
   "execution_count": 32,
   "id": "090ba511-9e09-485d-acd8-cd3a142ef998",
   "metadata": {},
   "outputs": [],
   "source": [
    "# doacoes_pf_mte.shape"
   ]
  },
  {
   "cell_type": "code",
   "execution_count": 33,
   "id": "decfb6bd-5ba2-47b3-be7f-8f8c9fff5cb7",
   "metadata": {},
   "outputs": [],
   "source": [
    "# conta = doacoes_pf_mte[pd.notnull(doacoes_pf_mte['cpf_cnpj_infrator'])].copy()\n",
    "# conta.shape"
   ]
  },
  {
   "cell_type": "code",
   "execution_count": null,
   "id": "66a92c8a-2920-4e3e-80cc-18a880fc5c32",
   "metadata": {},
   "outputs": [],
   "source": []
  },
  {
   "cell_type": "code",
   "execution_count": 61,
   "id": "1fd36034-4fa0-477d-8c2c-974c03d01316",
   "metadata": {},
   "outputs": [],
   "source": [
    "# conta.to_excel('resultados/autos_mte/doacoes_diretas_vindas_pessoas_com_autos_de_infracao_mte_2018.xlsx',sheet_name='Sheet1',index=False)"
   ]
  },
  {
   "cell_type": "code",
   "execution_count": null,
   "id": "3af46a57-9d05-4d55-b948-03dd2a4d6100",
   "metadata": {},
   "outputs": [],
   "source": []
  },
  {
   "cell_type": "code",
   "execution_count": null,
   "id": "dcdfc707-5829-4599-b8a2-27856f406925",
   "metadata": {},
   "outputs": [],
   "source": []
  },
  {
   "cell_type": "markdown",
   "id": "676bdceb-374c-4705-858b-41af9ef0f4db",
   "metadata": {},
   "source": [
    "### Doações indiretas"
   ]
  },
  {
   "cell_type": "code",
   "execution_count": 39,
   "id": "1ebd0830-f989-4d76-87d2-986a2b0a8ea8",
   "metadata": {},
   "outputs": [],
   "source": [
    "doacoes_indiretas_2018 = pd.read_excel('resultados/doacoes/doacoes_todas_indiretas_politicos_2018.xlsx', sheet_name = 'Sheet1', dtype = 'str')"
   ]
  },
  {
   "cell_type": "code",
   "execution_count": 40,
   "id": "850aa24b-7cc8-479c-925c-14d31b0f99b8",
   "metadata": {},
   "outputs": [
    {
     "data": {
      "text/plain": [
       "(2372, 68)"
      ]
     },
     "execution_count": 40,
     "metadata": {},
     "output_type": "execute_result"
    }
   ],
   "source": [
    "doacoes_indiretas_2018.shape"
   ]
  },
  {
   "cell_type": "code",
   "execution_count": 41,
   "id": "9dedd94f-f997-45f3-a9dc-1fa49e7b5f05",
   "metadata": {},
   "outputs": [
    {
     "data": {
      "text/plain": [
       "Index(['DT_GERACAO', 'HH_GERACAO', 'ANO_ELEICAO', 'CD_TIPO_ELEICAO',\n",
       "       'NM_TIPO_ELEICAO', 'CD_ELEICAO', 'DS_ELEICAO', 'DT_ELEICAO', 'ST_TURNO',\n",
       "       'TP_PRESTACAO_CONTAS', 'DT_PRESTACAO_CONTAS', 'SQ_PRESTADOR_CONTAS',\n",
       "       'SG_UF', 'SG_UE', 'NM_UE', 'NR_CNPJ_PRESTADOR_CONTA', 'CD_CARGO',\n",
       "       'DS_CARGO', 'SQ_CANDIDATO', 'NR_CANDIDATO', 'NM_CANDIDATO',\n",
       "       'NR_CPF_CANDIDATO', 'NR_CPF_VICE_CANDIDATO', 'NR_PARTIDO', 'SG_PARTIDO',\n",
       "       'NM_PARTIDO', 'CD_FONTE_RECEITA', 'DS_FONTE_RECEITA',\n",
       "       'CD_ORIGEM_RECEITA', 'DS_ORIGEM_RECEITA', 'CD_NATUREZA_RECEITA',\n",
       "       'DS_NATUREZA_RECEITA', 'CD_ESPECIE_RECEITA', 'DS_ESPECIE_RECEITA',\n",
       "       'CD_CNAE_DOADOR', 'DS_CNAE_DOADOR', 'NR_CPF_CNPJ_DOADOR', 'NM_DOADOR',\n",
       "       'NM_DOADOR_RFB', 'CD_ESFERA_PARTIDARIA_DOADOR',\n",
       "       'DS_ESFERA_PARTIDARIA_DOADOR', 'SG_UF_DOADOR', 'CD_MUNICIPIO_DOADOR',\n",
       "       'NM_MUNICIPIO_DOADOR', 'SQ_CANDIDATO_DOADOR', 'NR_CANDIDATO_DOADOR',\n",
       "       'CD_CARGO_CANDIDATO_DOADOR', 'DS_CARGO_CANDIDATO_DOADOR',\n",
       "       'NR_PARTIDO_DOADOR', 'SG_PARTIDO_DOADOR', 'NM_PARTIDO_DOADOR',\n",
       "       'NR_RECIBO_DOACAO', 'NR_DOCUMENTO_DOACAO', 'SQ_RECEITA', 'DT_RECEITA',\n",
       "       'DS_RECEITA', 'VR_RECEITA', 'cpf_doacoaindireta', 'nome_doacoaindireta',\n",
       "       'sq_doacoaindireta', 'nome', 'foto', 'nome_urna', 'politico_id',\n",
       "       'partido_eleicao', 'partido_atual', 'uri', 'sequencial_candidato'],\n",
       "      dtype='object')"
      ]
     },
     "execution_count": 41,
     "metadata": {},
     "output_type": "execute_result"
    }
   ],
   "source": [
    "doacoes_indiretas_2018.columns"
   ]
  },
  {
   "cell_type": "code",
   "execution_count": 42,
   "id": "1921a56b-329f-420f-95eb-6f2335bcb694",
   "metadata": {},
   "outputs": [],
   "source": [
    "doacoes_indiretas_2018['NR_CPF_CNPJ_DOADOR_raiz'] = doacoes_indiretas_2018.apply(limpeza2, axis=1)"
   ]
  },
  {
   "cell_type": "code",
   "execution_count": null,
   "id": "1a8fe080-3c28-4ec0-8a53-6b1217e37e24",
   "metadata": {},
   "outputs": [],
   "source": []
  },
  {
   "cell_type": "code",
   "execution_count": 43,
   "id": "e76d6a87-5898-4286-bbab-d9884dd39d77",
   "metadata": {},
   "outputs": [],
   "source": [
    "doacoes_indiretas_2018_pf = doacoes_indiretas_2018[(doacoes_indiretas_2018['NR_CPF_CNPJ_DOADOR_raiz'] == 'documento_cpf')]\n",
    "doacoes_indiretas_2018_pj = doacoes_indiretas_2018[(doacoes_indiretas_2018['NR_CPF_CNPJ_DOADOR_raiz'] != 'documento_cpf')]"
   ]
  },
  {
   "cell_type": "code",
   "execution_count": null,
   "id": "6f544ca8-d6f0-4907-a5a6-5c9b26087300",
   "metadata": {},
   "outputs": [],
   "source": []
  },
  {
   "cell_type": "code",
   "execution_count": 44,
   "id": "d479ac0a-c83e-478b-90fc-d4b9e0c238ea",
   "metadata": {},
   "outputs": [
    {
     "data": {
      "text/plain": [
       "(2372, 69)"
      ]
     },
     "execution_count": 44,
     "metadata": {},
     "output_type": "execute_result"
    }
   ],
   "source": [
    "doacoes_indiretas_2018_pj.shape"
   ]
  },
  {
   "cell_type": "code",
   "execution_count": null,
   "id": "bc0ea61b-9807-4ac0-88c6-f93353b190fb",
   "metadata": {},
   "outputs": [],
   "source": []
  },
  {
   "cell_type": "code",
   "execution_count": null,
   "id": "561ec318-7d53-432f-bcbb-c53fc12ce3f8",
   "metadata": {},
   "outputs": [],
   "source": []
  },
  {
   "cell_type": "code",
   "execution_count": 45,
   "id": "dc30a062-dc43-432f-a75a-9b0cc36f4d3e",
   "metadata": {},
   "outputs": [],
   "source": [
    "doacoes_pj_mte_indireta = pd.merge(doacoes_indiretas_2018_pj, autos_mte_pj.drop_duplicates('cnpj_raiz'),  left_on='NR_CPF_CNPJ_DOADOR', \n",
    "                                right_on='cnpj_raiz', how = 'left')    "
   ]
  },
  {
   "cell_type": "code",
   "execution_count": 46,
   "id": "375c4031-461a-4579-a9c0-d8fa804161fd",
   "metadata": {},
   "outputs": [
    {
     "data": {
      "text/plain": [
       "(0, 77)"
      ]
     },
     "execution_count": 46,
     "metadata": {},
     "output_type": "execute_result"
    }
   ],
   "source": [
    "conta = doacoes_pj_mte_indireta[pd.notnull(doacoes_pj_mte_indireta['cpf_cnpj_infrator'])].copy()\n",
    "conta.shape"
   ]
  },
  {
   "cell_type": "code",
   "execution_count": null,
   "id": "ff76cc23-32b7-40f3-babc-01e347aee171",
   "metadata": {},
   "outputs": [],
   "source": []
  },
  {
   "cell_type": "code",
   "execution_count": null,
   "id": "87859948-9637-45fd-8e4a-cb696d1bdc11",
   "metadata": {},
   "outputs": [],
   "source": []
  },
  {
   "cell_type": "markdown",
   "id": "4086c01c-3329-47a6-8853-5c776034f7b9",
   "metadata": {},
   "source": [
    "### Doações originárias"
   ]
  },
  {
   "cell_type": "code",
   "execution_count": 47,
   "id": "a6d571cf-62d7-4e31-9e53-f3798756fd8e",
   "metadata": {},
   "outputs": [],
   "source": [
    "doacoes_originarias_2018 = pd.read_excel('resultados/doacoes/doacoes_geral_originarias_politicos_2018.xlsx', sheet_name = 'Sheet1', dtype = 'str')"
   ]
  },
  {
   "cell_type": "code",
   "execution_count": 48,
   "id": "431dd702-3797-419c-918a-05514057306b",
   "metadata": {},
   "outputs": [
    {
     "data": {
      "text/plain": [
       "(11060, 25)"
      ]
     },
     "execution_count": 48,
     "metadata": {},
     "output_type": "execute_result"
    }
   ],
   "source": [
    "doacoes_originarias_2018.shape"
   ]
  },
  {
   "cell_type": "code",
   "execution_count": 49,
   "id": "6e8e6350-fc81-4d29-8377-0c7f55ee6bad",
   "metadata": {},
   "outputs": [
    {
     "data": {
      "text/plain": [
       "Index(['DT_GERACAO', 'HH_GERACAO', 'ANO_ELEICAO', 'CD_TIPO_ELEICAO',\n",
       "       'NM_TIPO_ELEICAO', 'CD_ELEICAO', 'DS_ELEICAO', 'DT_ELEICAO', 'ST_TURNO',\n",
       "       'TP_PRESTACAO_CONTAS', 'DT_PRESTACAO_CONTAS', 'SQ_PRESTADOR_CONTAS',\n",
       "       'SG_UF', 'NR_CPF_CNPJ_DOADOR_ORIGINARIO', 'NM_DOADOR_ORIGINARIO',\n",
       "       'NM_DOADOR_ORIGINARIO_RFB', 'TP_DOADOR_ORIGINARIO',\n",
       "       'CD_CNAE_DOADOR_ORIGINARIO', 'DS_CNAE_DOADOR_ORIGINARIO', 'SQ_RECEITA',\n",
       "       'DT_RECEITA', 'DS_RECEITA', 'VR_RECEITA', 'NM_CANDIDATO',\n",
       "       'NR_CPF_CANDIDATO'],\n",
       "      dtype='object')"
      ]
     },
     "execution_count": 49,
     "metadata": {},
     "output_type": "execute_result"
    }
   ],
   "source": [
    "doacoes_originarias_2018.columns"
   ]
  },
  {
   "cell_type": "code",
   "execution_count": null,
   "id": "9402890d-14a9-40bb-b7e4-2498d71029ef",
   "metadata": {},
   "outputs": [],
   "source": []
  },
  {
   "cell_type": "code",
   "execution_count": 50,
   "id": "d46efbf2-35ae-449b-9045-fd35ce0ac1bf",
   "metadata": {},
   "outputs": [],
   "source": [
    "def limpeza4(linha):\n",
    "    documento = str(linha[\"NR_CPF_CNPJ_DOADOR_ORIGINARIO\"])\n",
    "    if len(documento) > 11:\n",
    "        return documento[:8]\n",
    "    else:\n",
    "        return \"documento_cpf\"\n",
    "    \n",
    "doacoes_originarias_2018['NR_CPF_CNPJ_DOADOR_ORIGINARIO_raiz'] = doacoes_originarias_2018.apply(limpeza4, axis=1)"
   ]
  },
  {
   "cell_type": "code",
   "execution_count": null,
   "id": "ca9bcf51-08b7-4198-80b1-4fa2114eb0ed",
   "metadata": {},
   "outputs": [],
   "source": []
  },
  {
   "cell_type": "code",
   "execution_count": 51,
   "id": "5003a73d-debb-4a28-80dd-6585138658ea",
   "metadata": {},
   "outputs": [],
   "source": [
    "doacoes_originarias_2018_pf = doacoes_originarias_2018[(doacoes_originarias_2018['NR_CPF_CNPJ_DOADOR_ORIGINARIO_raiz'] == 'documento_cpf')]\n",
    "doacoes_originarias_2018_pj = doacoes_originarias_2018[(doacoes_originarias_2018['NR_CPF_CNPJ_DOADOR_ORIGINARIO_raiz'] != 'documento_cpf')]"
   ]
  },
  {
   "cell_type": "code",
   "execution_count": null,
   "id": "fac25cac-5b25-457a-b502-cf755b6f0caf",
   "metadata": {},
   "outputs": [],
   "source": []
  },
  {
   "cell_type": "code",
   "execution_count": 52,
   "id": "b2246ff0-d58d-4de5-9611-e6d047f261e6",
   "metadata": {},
   "outputs": [
    {
     "data": {
      "text/plain": [
       "(0, 26)"
      ]
     },
     "execution_count": 52,
     "metadata": {},
     "output_type": "execute_result"
    }
   ],
   "source": [
    "doacoes_originarias_2018_pj.shape"
   ]
  },
  {
   "cell_type": "code",
   "execution_count": null,
   "id": "dcbd9dc8-a2be-4766-9843-7d60e2546d59",
   "metadata": {},
   "outputs": [],
   "source": []
  },
  {
   "cell_type": "code",
   "execution_count": null,
   "id": "a6fd7c96-e66d-459d-8e12-73a4dd8225f2",
   "metadata": {},
   "outputs": [],
   "source": []
  },
  {
   "cell_type": "markdown",
   "id": "f79fe6ce-0a05-42d2-8af0-200ebc5157aa",
   "metadata": {},
   "source": [
    "### Candidatos 2018"
   ]
  },
  {
   "cell_type": "code",
   "execution_count": 53,
   "id": "dcc0e313-dd2d-411e-be6f-cbb19dd03d96",
   "metadata": {},
   "outputs": [],
   "source": [
    "kwargs = {'sep': ',', 'dtype': str, 'encoding': 'utf-8'}\n",
    "politicos_2018 = pd.read_csv(\"resultados/politicos_2018_09abr.csv\", **kwargs)"
   ]
  },
  {
   "cell_type": "code",
   "execution_count": 54,
   "id": "a2e014d1-3090-469f-a465-c788ba7d2bd5",
   "metadata": {},
   "outputs": [
    {
     "name": "stdout",
     "output_type": "stream",
     "text": [
      "<class 'pandas.core.frame.DataFrame'>\n",
      "RangeIndex: 510 entries, 0 to 509\n",
      "Data columns (total 9 columns):\n",
      " #   Column                Non-Null Count  Dtype \n",
      "---  ------                --------------  ----- \n",
      " 0   nome                  510 non-null    object\n",
      " 1   foto                  510 non-null    object\n",
      " 2   nome_urna             510 non-null    object\n",
      " 3   politico_id           510 non-null    object\n",
      " 4   partido_eleicao       510 non-null    object\n",
      " 5   partido_atual         510 non-null    object\n",
      " 6   uri                   510 non-null    object\n",
      " 7   sequencial_candidato  510 non-null    object\n",
      " 8   bancada_ruralista     236 non-null    object\n",
      "dtypes: object(9)\n",
      "memory usage: 36.0+ KB\n"
     ]
    }
   ],
   "source": [
    "politicos_2018.info()"
   ]
  },
  {
   "cell_type": "code",
   "execution_count": null,
   "id": "f311687b-ad76-4f3c-8bda-6356ff497aba",
   "metadata": {},
   "outputs": [],
   "source": []
  },
  {
   "cell_type": "code",
   "execution_count": 55,
   "id": "45cd182f-7929-44f5-a06a-debb4bb36203",
   "metadata": {},
   "outputs": [],
   "source": [
    "politicos_2018['cpf_mascarado_politico']= politicos_2018['politico_id'].str[0:3]+\"XXXXXX\"+politicos_2018['politico_id'].str[-2:]"
   ]
  },
  {
   "cell_type": "code",
   "execution_count": null,
   "id": "749a2c93-9e15-447b-8d8f-2407e29aea45",
   "metadata": {},
   "outputs": [],
   "source": []
  },
  {
   "cell_type": "code",
   "execution_count": 56,
   "id": "71a72264-8216-4f6f-a596-82251eec3151",
   "metadata": {},
   "outputs": [],
   "source": [
    "politicos_autos_mte = pd.merge(autos_mte_pf.drop_duplicates('cpf_cnpj_infrator'), \n",
    "                                    politicos_2018, \n",
    "                                    left_on='cpf_cnpj_infrator', \n",
    "                                    right_on='cpf_mascarado_politico', how = 'left')"
   ]
  },
  {
   "cell_type": "code",
   "execution_count": 57,
   "id": "31006e20-f246-45ae-8086-b6117f7bdcc4",
   "metadata": {},
   "outputs": [
    {
     "data": {
      "text/plain": [
       "(257, 18)"
      ]
     },
     "execution_count": 57,
     "metadata": {},
     "output_type": "execute_result"
    }
   ],
   "source": [
    "conta = politicos_autos_mte[pd.notnull(politicos_autos_mte['politico_id'])].copy()\n",
    "conta.shape"
   ]
  },
  {
   "cell_type": "code",
   "execution_count": null,
   "id": "bd373df5-cf5e-48d7-bdb5-30b8020c3a5c",
   "metadata": {},
   "outputs": [],
   "source": []
  },
  {
   "cell_type": "code",
   "execution_count": 89,
   "id": "7f43b6c0-df26-4636-a2f7-5607eac932e0",
   "metadata": {},
   "outputs": [],
   "source": [
    "conta.to_excel('resultados/autos_mte/deputados_2018_com_autos_trabalhistas_SO_USAR_COM_CHECAGEM.xlsx',sheet_name='Sheet1',index=False)"
   ]
  },
  {
   "cell_type": "code",
   "execution_count": null,
   "id": "c9b5fe46-6550-4ef3-a53d-18a18ec516e1",
   "metadata": {},
   "outputs": [],
   "source": []
  },
  {
   "cell_type": "code",
   "execution_count": null,
   "id": "4528edb5-53dc-4f75-acd8-5d0bb007ff5e",
   "metadata": {},
   "outputs": [],
   "source": []
  }
 ],
 "metadata": {
  "kernelspec": {
   "display_name": "Python 3",
   "language": "python",
   "name": "python3"
  },
  "language_info": {
   "codemirror_mode": {
    "name": "ipython",
    "version": 3
   },
   "file_extension": ".py",
   "mimetype": "text/x-python",
   "name": "python",
   "nbconvert_exporter": "python",
   "pygments_lexer": "ipython3",
   "version": "3.8.2"
  }
 },
 "nbformat": 4,
 "nbformat_minor": 5
}
